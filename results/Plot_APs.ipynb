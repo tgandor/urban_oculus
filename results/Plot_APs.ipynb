{
 "cells": [
  {
   "cell_type": "code",
   "execution_count": null,
   "metadata": {
    "ExecuteTime": {
     "end_time": "2020-03-21T06:00:37.000895Z",
     "start_time": "2020-03-21T06:00:36.646520Z"
    }
   },
   "outputs": [],
   "source": [
    "import json\n",
    "import glob\n",
    "import os\n",
    "import numpy as np\n",
    "import pandas as pd\n",
    "import matplotlib.pyplot as plt\n",
    "%matplotlib inline\n",
    "plt.rcParams['figure.figsize'] = (10, 6)"
   ]
  },
  {
   "cell_type": "code",
   "execution_count": null,
   "metadata": {
    "ExecuteTime": {
     "end_time": "2020-03-21T06:00:37.015254Z",
     "start_time": "2020-03-21T06:00:37.002248Z"
    }
   },
   "outputs": [],
   "source": [
    "results = [json.load(open(f)) for f in glob.glob('2020*/coco_val2017_rcnn_3x_q_[1-9]*.json')]"
   ]
  },
  {
   "cell_type": "code",
   "execution_count": null,
   "metadata": {
    "ExecuteTime": {
     "end_time": "2020-03-21T06:00:37.232944Z",
     "start_time": "2020-03-21T06:00:37.017011Z"
    }
   },
   "outputs": [],
   "source": [
    "res = pd.Series({r['quality']: r['elapsed'] for r in results}).to_frame(name='elapsed').sort_index()\n",
    "res['batch'] = res.index % 4\n",
    "for b in range(4):\n",
    "    res[f'e{b}'] = np.nan\n",
    "    res.loc[res.batch == b, f'e{b}'] = res.elapsed\n",
    "    res[f'e{b}'] = res[f'e{b}'].interpolate()\n",
    "del res['batch']\n",
    "del res['elapsed'] # noisy\n",
    "res.plot();"
   ]
  },
  {
   "cell_type": "raw",
   "metadata": {
    "ExecuteTime": {
     "end_time": "2020-03-21T04:43:19.471810Z",
     "start_time": "2020-03-21T04:43:19.335801Z"
    }
   },
   "source": [
    "pd.Series({r['quality']: r['bbox']['AP'] for r in results}).sort_index().plot()\n",
    "pd.Series({r['quality']: r['bbox']['AP50'] for r in results}, name='AP50').sort_index().plot()\n",
    "plt.gca().invert_xaxis()"
   ]
  },
  {
   "cell_type": "code",
   "execution_count": null,
   "metadata": {
    "ExecuteTime": {
     "end_time": "2020-03-21T06:00:37.247303Z",
     "start_time": "2020-03-21T06:00:37.234709Z"
    }
   },
   "outputs": [],
   "source": [
    "df = pd.Series({r['quality']: r['bbox']['AP50'] for r in results}, name='AP50').sort_index().to_frame()\n",
    "df['AP'] = pd.Series({r['quality']: r['bbox']['AP'] for r in results}).sort_index()\n",
    "df.index.name = 'Q'\n",
    "df.tail()"
   ]
  },
  {
   "cell_type": "code",
   "execution_count": null,
   "metadata": {
    "ExecuteTime": {
     "end_time": "2020-03-21T06:00:37.405979Z",
     "start_time": "2020-03-21T06:00:37.248999Z"
    }
   },
   "outputs": [],
   "source": [
    "plot = df.plot()\n",
    "plot.get_figure().canvas.get_supported_filetypes()"
   ]
  },
  {
   "cell_type": "code",
   "execution_count": null,
   "metadata": {
    "ExecuteTime": {
     "end_time": "2020-03-21T06:00:39.440121Z",
     "start_time": "2020-03-21T06:00:37.407726Z"
    }
   },
   "outputs": [],
   "source": [
    "fig = plot.get_figure()\n",
    "fig.set_size_inches(3, 2)\n",
    "fig.savefig('ap_vs_ap50.pdf')\n",
    "fig.savefig('ap_vs_ap50.pgf')"
   ]
  },
  {
   "cell_type": "code",
   "execution_count": null,
   "metadata": {},
   "outputs": [],
   "source": [
    "from ipywidgets import interact\n",
    "ddf = df.diff()\n",
    "@interact(x=(-0.13, 0, 0.01))\n",
    "def bad_vals(x):\n",
    "    return ddf[(ddf.AP < x) | (ddf.AP50 < x)].reset_index()"
   ]
  },
  {
   "cell_type": "code",
   "execution_count": null,
   "metadata": {},
   "outputs": [],
   "source": [
    "#ddf.columns #= ['d(AP50)', 'd(AP)']\n",
    "ax = ddf.plot()\n",
    "ax.axhline(0, ls='dotted')"
   ]
  },
  {
   "cell_type": "code",
   "execution_count": null,
   "metadata": {},
   "outputs": [],
   "source": [
    "results_cardio = [json.load(open(f)) for f in glob.glob('../cardio_results/*.json')]"
   ]
  },
  {
   "cell_type": "code",
   "execution_count": null,
   "metadata": {},
   "outputs": [],
   "source": [
    "results_cardio[0]"
   ]
  },
  {
   "cell_type": "code",
   "execution_count": null,
   "metadata": {},
   "outputs": [],
   "source": [
    "from itertools import groupby\n",
    "gb = lambda it, key: groupby(sorted(it, key=key), key)\n",
    "\n",
    "for key, group in gb(results_cardio, lambda x: x['model_config']):\n",
    "    print(key)"
   ]
  },
  {
   "cell_type": "code",
   "execution_count": null,
   "metadata": {},
   "outputs": [],
   "source": [
    "sum(r['elapsed'] for r in results_cardio)"
   ]
  },
  {
   "cell_type": "raw",
   "metadata": {},
   "source": [
    "706458 seconds - 196:14:18\n",
    "8.0 days 15258 seconds - 04:14:18\n",
    "1.0 weeks 1.0 days 15258 seconds - 04:14:18"
   ]
  },
  {
   "cell_type": "code",
   "execution_count": null,
   "metadata": {},
   "outputs": [],
   "source": [
    "def flatten(value):\n",
    "    result = value.copy()\n",
    "    result.update(result['bbox'])\n",
    "    del result['bbox']\n",
    "    return result\n",
    "\n",
    "c_df = pd.DataFrame([flatten(r) for r in results_cardio]).sort_values(['model_config', 'quality'])\n",
    "c_df.head()"
   ]
  },
  {
   "cell_type": "code",
   "execution_count": null,
   "metadata": {},
   "outputs": [],
   "source": [
    "for mc in c_df.model_config.unique():\n",
    "    ax = c_df[c_df.model_config == mc][['quality', 'AP', 'AP50', 'AP75']].plot(x='quality')\n",
    "    ax.set_title(mc)"
   ]
  },
  {
   "cell_type": "code",
   "execution_count": null,
   "metadata": {},
   "outputs": [],
   "source": [
    "ax = c_df.pivot(index='quality', columns='model_config', values='AP').plot()\n",
    "ax.set_title('AP between models')"
   ]
  },
  {
   "cell_type": "code",
   "execution_count": null,
   "metadata": {},
   "outputs": [],
   "source": [
    "ax = c_df.pivot(index='quality', columns='model_config', values='AP50').plot()\n",
    "ax.set_title('AP50 between models')"
   ]
  },
  {
   "cell_type": "code",
   "execution_count": null,
   "metadata": {},
   "outputs": [],
   "source": [
    "for mc in c_df.model_config.unique():\n",
    "    ax = c_df[c_df.model_config == mc][['quality', 'APs', 'APm', 'APl']].plot(x='quality')\n",
    "    ax.set_title(mc)"
   ]
  },
  {
   "cell_type": "code",
   "execution_count": null,
   "metadata": {},
   "outputs": [],
   "source": []
  }
 ],
 "metadata": {
  "kernelspec": {
   "display_name": "Python 3",
   "language": "python",
   "name": "python3"
  },
  "language_info": {
   "codemirror_mode": {
    "name": "ipython",
    "version": 3
   },
   "file_extension": ".py",
   "mimetype": "text/x-python",
   "name": "python",
   "nbconvert_exporter": "python",
   "pygments_lexer": "ipython3",
   "version": "3.7.6"
  },
  "toc": {
   "base_numbering": 1,
   "nav_menu": {},
   "number_sections": true,
   "sideBar": true,
   "skip_h1_title": false,
   "title_cell": "Table of Contents",
   "title_sidebar": "Contents",
   "toc_cell": false,
   "toc_position": {},
   "toc_section_display": true,
   "toc_window_display": false
  }
 },
 "nbformat": 4,
 "nbformat_minor": 2
}
