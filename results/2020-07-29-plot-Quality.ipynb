{
 "cells": [
  {
   "cell_type": "code",
   "execution_count": null,
   "metadata": {
    "ExecuteTime": {
     "end_time": "2020-10-06T17:44:04.533005Z",
     "start_time": "2020-10-06T17:44:04.174555Z"
    }
   },
   "outputs": [],
   "source": [
    "import glob, json, pandas as pd, itertools\n",
    "%matplotlib inline"
   ]
  },
  {
   "cell_type": "code",
   "execution_count": null,
   "metadata": {
    "ExecuteTime": {
     "end_time": "2020-10-06T17:44:04.782825Z",
     "start_time": "2020-10-06T17:44:04.534168Z"
    }
   },
   "outputs": [],
   "source": [
    "df = pd.read_csv('../data/coco_degradation/val2017.csv')"
   ]
  },
  {
   "cell_type": "code",
   "execution_count": null,
   "metadata": {
    "ExecuteTime": {
     "end_time": "2020-10-06T17:44:04.795879Z",
     "start_time": "2020-10-06T17:44:04.784240Z"
    }
   },
   "outputs": [],
   "source": [
    "df.head()"
   ]
  },
  {
   "cell_type": "code",
   "execution_count": null,
   "metadata": {
    "ExecuteTime": {
     "end_time": "2020-10-06T17:44:04.974999Z",
     "start_time": "2020-10-06T17:44:04.797502Z"
    }
   },
   "outputs": [],
   "source": [
    "# %matplotlib notebook\n",
    "import matplotlib.pyplot as plt\n",
    "df.sample(1000).plot.scatter(x='quality', y='structural_similarity');"
   ]
  },
  {
   "cell_type": "code",
   "execution_count": null,
   "metadata": {
    "ExecuteTime": {
     "end_time": "2020-10-06T17:44:05.093394Z",
     "start_time": "2020-10-06T17:44:04.976462Z"
    }
   },
   "outputs": [],
   "source": [
    "df.sample(1000).plot.scatter(x='quality', y='peak_signal_noise_ratio');"
   ]
  },
  {
   "cell_type": "code",
   "execution_count": null,
   "metadata": {
    "ExecuteTime": {
     "end_time": "2020-10-06T17:44:05.273075Z",
     "start_time": "2020-10-06T17:44:05.094883Z"
    }
   },
   "outputs": [],
   "source": [
    "df[df.quality==60].structural_similarity.hist(bins=40);"
   ]
  },
  {
   "cell_type": "code",
   "execution_count": null,
   "metadata": {
    "ExecuteTime": {
     "end_time": "2020-10-06T17:44:05.433874Z",
     "start_time": "2020-10-06T17:44:05.274430Z"
    }
   },
   "outputs": [],
   "source": [
    "df[df.quality==40].structural_similarity.hist(bins=50, fill=None);"
   ]
  },
  {
   "cell_type": "code",
   "execution_count": null,
   "metadata": {
    "ExecuteTime": {
     "end_time": "2020-10-06T17:44:05.449456Z",
     "start_time": "2020-10-06T17:44:05.436205Z"
    }
   },
   "outputs": [],
   "source": [
    "df[df.quality==60]"
   ]
  },
  {
   "cell_type": "code",
   "execution_count": null,
   "metadata": {
    "ExecuteTime": {
     "end_time": "2020-10-06T17:44:05.559699Z",
     "start_time": "2020-10-06T17:44:05.451055Z"
    }
   },
   "outputs": [],
   "source": [
    "df[df.quality==80].structural_similarity.hist(bins=50, histtype='step');"
   ]
  },
  {
   "cell_type": "code",
   "execution_count": null,
   "metadata": {
    "ExecuteTime": {
     "end_time": "2020-10-06T17:44:05.748546Z",
     "start_time": "2020-10-06T17:44:05.561015Z"
    }
   },
   "outputs": [],
   "source": [
    "for q in range(10, 100, 10):\n",
    "    df[df.quality==q].structural_similarity.hist(bins=200, range=(0, 1), histtype='step', label=f'q={q}');\n",
    "\n",
    "plt.legend(loc=2);"
   ]
  },
  {
   "cell_type": "code",
   "execution_count": null,
   "metadata": {
    "ExecuteTime": {
     "end_time": "2020-10-06T17:44:05.791934Z",
     "start_time": "2020-10-06T17:44:05.750065Z"
    }
   },
   "outputs": [],
   "source": [
    "plt.hist?"
   ]
  },
  {
   "cell_type": "code",
   "execution_count": null,
   "metadata": {
    "ExecuteTime": {
     "end_time": "2020-10-06T17:44:05.803394Z",
     "start_time": "2020-10-06T17:44:05.793422Z"
    }
   },
   "outputs": [],
   "source": [
    "plt.legend?"
   ]
  },
  {
   "cell_type": "code",
   "execution_count": null,
   "metadata": {
    "ExecuteTime": {
     "end_time": "2020-10-06T17:44:05.970174Z",
     "start_time": "2020-10-06T17:44:05.805575Z"
    }
   },
   "outputs": [],
   "source": [
    "df[df.quality==100].structural_similarity.hist()"
   ]
  },
  {
   "cell_type": "code",
   "execution_count": null,
   "metadata": {
    "ExecuteTime": {
     "end_time": "2020-10-06T17:44:06.092841Z",
     "start_time": "2020-10-06T17:44:05.971444Z"
    }
   },
   "outputs": [],
   "source": [
    "df.groupby('quality').structural_similarity.mean().plot()"
   ]
  },
  {
   "cell_type": "code",
   "execution_count": null,
   "metadata": {
    "ExecuteTime": {
     "end_time": "2020-10-06T17:44:06.208362Z",
     "start_time": "2020-10-06T17:44:06.094123Z"
    }
   },
   "outputs": [],
   "source": [
    "df.groupby('quality').structural_similarity.std().plot()"
   ]
  },
  {
   "cell_type": "code",
   "execution_count": null,
   "metadata": {
    "ExecuteTime": {
     "end_time": "2020-10-06T17:44:06.335478Z",
     "start_time": "2020-10-06T17:44:06.209971Z"
    }
   },
   "outputs": [],
   "source": [
    "df.groupby('quality').structural_similarity.median().plot()"
   ]
  },
  {
   "cell_type": "code",
   "execution_count": null,
   "metadata": {
    "ExecuteTime": {
     "end_time": "2020-10-06T17:44:56.391397Z",
     "start_time": "2020-10-06T17:44:56.383734Z"
    }
   },
   "outputs": [],
   "source": [
    "type(df.groupby('quality').structural_similarity)"
   ]
  }
 ],
 "metadata": {
  "kernelspec": {
   "display_name": "Python 3",
   "language": "python",
   "name": "python3"
  },
  "language_info": {
   "codemirror_mode": {
    "name": "ipython",
    "version": 3
   },
   "file_extension": ".py",
   "mimetype": "text/x-python",
   "name": "python",
   "nbconvert_exporter": "python",
   "pygments_lexer": "ipython3",
   "version": "3.7.6"
  },
  "toc": {
   "base_numbering": 1,
   "nav_menu": {},
   "number_sections": true,
   "sideBar": true,
   "skip_h1_title": false,
   "title_cell": "Table of Contents",
   "title_sidebar": "Contents",
   "toc_cell": false,
   "toc_position": {},
   "toc_section_display": true,
   "toc_window_display": false
  }
 },
 "nbformat": 4,
 "nbformat_minor": 4
}
