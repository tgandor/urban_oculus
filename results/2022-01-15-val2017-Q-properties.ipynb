{
 "cells": [
  {
   "cell_type": "code",
   "execution_count": 1,
   "metadata": {},
   "outputs": [],
   "source": [
    "import glob\n",
    "import json\n",
    "import multiprocessing\n",
    "import os\n",
    "\n",
    "import cv2\n",
    "import numpy as np\n",
    "from skimage.metrics import peak_signal_noise_ratio, mean_squared_error, structural_similarity\n",
    "import tqdm"
   ]
  },
  {
   "cell_type": "code",
   "execution_count": 2,
   "metadata": {},
   "outputs": [
    {
     "name": "stdout",
     "output_type": "stream",
     "text": [
      "CPU times: user 8 µs, sys: 5 µs, total: 13 µs\n",
      "Wall time: 14.8 µs\n"
     ]
    }
   ],
   "source": [
    "def set_up(directory='loss', always=True):\n",
    "    if not always and os.path.exists(directory):\n",
    "        return\n",
    "    !rm -rf {directory}\n",
    "    !unzip -q -d {directory} ~/val2017.zip\n",
    "    \n",
    "def jpgs(directory='orig'):\n",
    "    return sorted(glob.glob(f'{directory}/**/*.jpg'))\n",
    "\n",
    "%time set_up('orig', False)"
   ]
  },
  {
   "cell_type": "code",
   "execution_count": 3,
   "metadata": {},
   "outputs": [],
   "source": [
    "def degrade(q):\n",
    "    set_up()\n",
    "    !mogrify -quality {q} loss/val2017/*.jpg\n",
    "\n",
    "def pdegrade(q):\n",
    "    set_up()\n",
    "    # !ls loss/val2017/* | xargs -n 625 -P 8 mogrify -quality {q}\n",
    "    !parallel mogrify -quality {q} ::: loss/val2017/*\n",
    "    \n",
    "def evaluate(orig_path, loss_path):\n",
    "    import skimage\n",
    "    from skimage.metrics import peak_signal_noise_ratio, mean_squared_error, structural_similarity\n",
    "    orig = cv2.imread(orig_path, cv2.IMREAD_ANYCOLOR)\n",
    "    loss = cv2.imread(loss_path, cv2.IMREAD_ANYCOLOR)\n",
    "    h, w = orig.shape[:2]\n",
    "    channels = 1 if len(loss.shape) < 3 else loss.shape[2]\n",
    "    orig_channels = 1 if len(orig.shape) < 3 else orig.shape[2]\n",
    "    \n",
    "    if orig_channels == 3 and channels == 1:\n",
    "        loss = np.stack([loss, loss, loss], axis=-1)\n",
    "        \n",
    "    ssim_args = {}\n",
    "    if orig_channels == 3:\n",
    "        if skimage.__version__ >= '0.19':\n",
    "            ssim_args['channel_axis'] = -1\n",
    "        else:\n",
    "            ssim_args['multichannel'] = True\n",
    "    \n",
    "    return {\n",
    "        'image': os.path.basename(orig_path),\n",
    "        'width': w,\n",
    "        'height': h,\n",
    "        'channels': channels,\n",
    "        'origchan': orig_channels,\n",
    "        'filesize': os.stat(loss_path).st_size,\n",
    "        'origsize': os.stat(orig_path).st_size,\n",
    "        'rawsize': w * h * channels,\n",
    "        'mean_squared_error': mean_squared_error(orig, loss),\n",
    "        'peak_signal_noise_ratio': peak_signal_noise_ratio(orig, loss),\n",
    "        'structural_similarity': structural_similarity(orig, loss, **ssim_args),\n",
    "    }\n",
    "    "
   ]
  },
  {
   "cell_type": "code",
   "execution_count": null,
   "metadata": {},
   "outputs": [
    {
     "name": "stderr",
     "output_type": "stream",
     "text": [
      "  7%|▋         | 7/100 [28:35<6:19:41, 244.97s/it]"
     ]
    }
   ],
   "source": [
    "%%time\n",
    "\n",
    "p = multiprocessing.Pool()\n",
    "\n",
    "for q in tqdm.trange(1, 101):\n",
    "    pdegrade(q)\n",
    "    results = {\n",
    "        'quality': q,\n",
    "        'files': p.starmap(evaluate, zip(jpgs(), jpgs('loss'))),\n",
    "    }\n",
    "    with open(f'properties_{q:03d}.json', 'w') as jout:\n",
    "        json.dump(results, jout, indent=2)"
   ]
  },
  {
   "cell_type": "code",
   "execution_count": null,
   "metadata": {},
   "outputs": [],
   "source": [
    "print(open('properties_100.json').read(1000))"
   ]
  }
 ],
 "metadata": {
  "kernelspec": {
   "display_name": "Python 3",
   "language": "python",
   "name": "python3"
  },
  "language_info": {
   "codemirror_mode": {
    "name": "ipython",
    "version": 3
   },
   "file_extension": ".py",
   "mimetype": "text/x-python",
   "name": "python",
   "nbconvert_exporter": "python",
   "pygments_lexer": "ipython3",
   "version": "3.8.10"
  }
 },
 "nbformat": 4,
 "nbformat_minor": 4
}
