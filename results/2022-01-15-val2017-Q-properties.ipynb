{
 "cells": [
  {
   "cell_type": "code",
   "execution_count": 1,
   "metadata": {},
   "outputs": [],
   "source": [
    "import glob\n",
    "import json\n",
    "import multiprocessing\n",
    "import os\n",
    "\n",
    "import cv2\n",
    "import numpy as np\n",
    "from skimage.metrics import peak_signal_noise_ratio, mean_squared_error, structural_similarity\n",
    "import tqdm"
   ]
  },
  {
   "cell_type": "code",
   "execution_count": 2,
   "metadata": {},
   "outputs": [
    {
     "name": "stdout",
     "output_type": "stream",
     "text": [
      "CPU times: user 30 µs, sys: 6 µs, total: 36 µs\n",
      "Wall time: 38.9 µs\n"
     ]
    }
   ],
   "source": [
    "def set_up(directory='loss', always=True):\n",
    "    if not always and os.path.exists(directory):\n",
    "        return\n",
    "    !rm -rf {directory}\n",
    "    !unzip -q -d {directory} ~/val2017.zip\n",
    "    \n",
    "def jpgs(directory='orig'):\n",
    "    return sorted(glob.glob(f'{directory}/**/*.jpg'))\n",
    "\n",
    "%time set_up('orig', False)"
   ]
  },
  {
   "cell_type": "code",
   "execution_count": 11,
   "metadata": {},
   "outputs": [],
   "source": [
    "def degrade(q):\n",
    "    set_up()\n",
    "    !mogrify -quality {q} loss/val2017/*.jpg\n",
    "\n",
    "def pdegrade(q):\n",
    "    set_up()\n",
    "    # !ls loss/val2017/* | xargs -n 625 -P 8 mogrify -quality {q}\n",
    "    !parallel mogrify -quality {q} ::: loss/val2017/*\n",
    "    \n",
    "def evaluate(orig_path, loss_path):\n",
    "    from skimage.metrics import peak_signal_noise_ratio, mean_squared_error, structural_similarity\n",
    "    orig = cv2.imread(orig_path, cv2.IMREAD_ANYCOLOR)\n",
    "    loss = cv2.imread(loss_path, cv2.IMREAD_ANYCOLOR)\n",
    "    \n",
    "    if len(orig.shape) == 3 and len(loss.shape) == 2:\n",
    "        loss = np.stack([loss, loss, loss], axis=-1)\n",
    "    h, w = orig.shape[:2]\n",
    "    channels = 1 if len(orig.shape) < 3 else orig.shape[2]\n",
    "    \n",
    "    return {\n",
    "        'image': os.path.basename(orig_path),\n",
    "        'width': w,\n",
    "        'height': h,\n",
    "        'channels': channels,\n",
    "        'filesize': os.stat(loss_path).st_size,\n",
    "        'origsize': os.stat(orig_path).st_size,\n",
    "        'rawsize': w * h * channels,\n",
    "        'mean_squared_error': mean_squared_error(orig, loss),\n",
    "        'peak_signal_noise_ratio': peak_signal_noise_ratio(orig, loss),\n",
    "        'structural_similarity': \n",
    "            structural_similarity(orig, loss, channel_axis=-1) if len(orig.shape) > 2 \n",
    "            else structural_similarity(orig, loss),\n",
    "    }\n",
    "    "
   ]
  },
  {
   "cell_type": "code",
   "execution_count": 12,
   "metadata": {},
   "outputs": [
    {
     "name": "stderr",
     "output_type": "stream",
     "text": [
      "100%|███████████████████████████████████████████████████████████████████████████████████████████████████████████████████████████████████████| 1/1 [04:38<00:00, 278.79s/it]"
     ]
    },
    {
     "name": "stdout",
     "output_type": "stream",
     "text": [
      "CPU times: user 584 ms, sys: 151 ms, total: 735 ms\n",
      "Wall time: 4min 38s\n"
     ]
    },
    {
     "name": "stderr",
     "output_type": "stream",
     "text": [
      "\n"
     ]
    }
   ],
   "source": [
    "%%time\n",
    "\n",
    "p = multiprocessing.Pool()\n",
    "\n",
    "for q in tqdm.trange(100, 101):\n",
    "    pdegrade(q)\n",
    "    results = {\n",
    "        'quality': q,\n",
    "        'files': p.starmap(evaluate, zip(jpgs(), jpgs('loss'))),\n",
    "    }\n",
    "    with open(f'properties_{q:03d}.json', 'w') as jout:\n",
    "        json.dump(results, jout, indent=2)"
   ]
  },
  {
   "cell_type": "code",
   "execution_count": 13,
   "metadata": {},
   "outputs": [
    {
     "name": "stdout",
     "output_type": "stream",
     "text": [
      "{\n",
      "  \"quality\": 100,\n",
      "  \"files\": [\n",
      "    {\n",
      "      \"image\": \"000000000139.jpg\",\n",
      "      \"width\": 640,\n",
      "      \"height\": 426,\n",
      "      \"channels\": 3,\n",
      "      \"filesize\": 261713,\n",
      "      \"origsize\": 161811,\n",
      "      \"rawsize\": 817920,\n",
      "      \"mean_squared_error\": 0.14997187989045382,\n",
      "      \"peak_signal_noise_ratio\": 56.37070525500654,\n",
      "      \"structural_similarity\": 0.9987529653256231\n",
      "    },\n",
      "    {\n",
      "      \"image\": \"000000000285.jpg\",\n",
      "      \"width\": 586,\n",
      "      \"height\": 640,\n",
      "      \"channels\": 3,\n",
      "      \"filesize\": 511085,\n",
      "      \"origsize\": 335861,\n",
      "      \"rawsize\": 1125120,\n",
      "      \"mean_squared_error\": 0.21307860494880546,\n",
      "      \"peak_signal_noise_ratio\": 54.84540516123896,\n",
      "      \"structural_similarity\": 0.9994021450201455\n",
      "    },\n",
      "    {\n",
      "      \"image\": \"000000000632.jpg\",\n",
      "      \"width\": 640,\n",
      "      \"height\": 483,\n",
      "      \"channels\": 3,\n",
      "      \"filesize\": 321223,\n",
      "      \"origsize\": 155667,\n",
      "      \"rawsize\": 927360,\n",
      "      \"mean_squared_error\": 0.17581629572118704,\n",
      "      \"peak_signal_noise_ratio\": 55.680212352165974,\n",
      "      \"s\n"
     ]
    }
   ],
   "source": [
    "print(open('properties_100.json').read(1000))"
   ]
  }
 ],
 "metadata": {
  "kernelspec": {
   "display_name": "Python 3 (ipykernel)",
   "language": "python",
   "name": "python3"
  },
  "language_info": {
   "codemirror_mode": {
    "name": "ipython",
    "version": 3
   },
   "file_extension": ".py",
   "mimetype": "text/x-python",
   "name": "python",
   "nbconvert_exporter": "python",
   "pygments_lexer": "ipython3",
   "version": "3.10.1"
  }
 },
 "nbformat": 4,
 "nbformat_minor": 4
}
