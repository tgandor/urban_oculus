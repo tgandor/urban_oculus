{
 "cells": [
  {
   "cell_type": "code",
   "execution_count": null,
   "metadata": {},
   "outputs": [],
   "source": [
    "import os\n",
    "import glob\n",
    "\n",
    "import cv2"
   ]
  },
  {
   "cell_type": "code",
   "execution_count": null,
   "metadata": {},
   "outputs": [],
   "source": [
    "#!unzip -d orig /home/tgandor/val2017.zip\n",
    "\n",
    "def set_up(directory='loss'):\n",
    "    !rm -r {directory}\n",
    "    !unzip -q -d {directory} /home/tgandor/val2017.zip\n",
    "    \n",
    "def jpgs(directory='orig'):\n",
    "    return sorted(glob.glob(f'{directory}/**/*.jpg'))\n"
   ]
  },
  {
   "cell_type": "code",
   "execution_count": null,
   "metadata": {},
   "outputs": [],
   "source": [
    "# Gray Images from val2017:\n",
    "'''\n",
    "000000007888.jpg JPEG 638x640 638x640+0+0 8-bit Gray 256c 132380B 0.000u 0:00.000\n",
    "000000024021.jpg JPEG 640x390 640x390+0+0 8-bit Gray 256c 143004B 0.000u 0:00.000\n",
    "000000061418.jpg JPEG 640x458 640x458+0+0 8-bit Gray 256c 146703B 0.000u 0:00.000\n",
    "000000130465.jpg JPEG 640x428 640x428+0+0 8-bit Gray 256c 107975B 0.000u 0:00.000\n",
    "000000141671.jpg JPEG 640x335 640x335+0+0 8-bit Gray 256c 116094B 0.000u 0:00.000\n",
    "000000205289.jpg JPEG 640x451 640x451+0+0 8-bit Gray 256c 164786B 0.000u 0:00.000\n",
    "000000209222.jpg JPEG 640x427 640x427+0+0 8-bit Gray 256c 156441B 0.000u 0:00.000\n",
    "000000274219.jpg JPEG 464x640 464x640+0+0 8-bit Gray 256c 110257B 0.000u 0:00.000\n",
    "000000353180.jpg JPEG 640x420 640x420+0+0 8-bit Gray 256c 109535B 0.000u 0:00.000\n",
    "000000431848.jpg JPEG 378x640 378x640+0+0 8-bit Gray 256c 103826B 0.000u 0:00.000\n",
    "'''\n",
    "\n",
    "# Head of sRGB images:\n",
    "'''\n",
    "000000000139.jpg JPEG 640x426 640x426+0+0 8-bit sRGB 161811B 0.000u 0:00.000\n",
    "000000000285.jpg JPEG 586x640 586x640+0+0 8-bit sRGB 335861B 0.000u 0:00.000\n",
    "000000000632.jpg JPEG 640x483 640x483+0+0 8-bit sRGB 155667B 0.000u 0:00.000\n",
    "000000000724.jpg JPEG 375x500 375x500+0+0 8-bit sRGB 130107B 0.000u 0:00.000\n",
    "000000000776.jpg JPEG 428x640 428x640+0+0 8-bit sRGB 176410B 0.000u 0:00.000\n",
    "000000000785.jpg JPEG 640x425 640x425+0+0 8-bit sRGB 133674B 0.000u 0:00.000\n",
    "000000000802.jpg JPEG 424x640 424x640+0+0 8-bit sRGB 62406B 0.000u 0:00.000\n",
    "000000000872.jpg JPEG 621x640 621x640+0+0 8-bit sRGB 317669B 0.000u 0:00.000\n",
    "000000000885.jpg JPEG 640x427 640x427+0+0 8-bit sRGB 111441B 0.000u 0:00.000\n",
    "000000001000.jpg JPEG 640x480 640x480+0+0 8-bit sRGB 321136B 0.000u 0:00.000\n",
    "'''\n",
    "\n",
    "# Interesting cases - orig sRGB, loss Gray:\n",
    "'''\n",
    "orig/val2017/000000001425.jpg - for q == 1\n",
    "'''\n",
    "\n",
    "None"
   ]
  },
  {
   "cell_type": "code",
   "execution_count": null,
   "metadata": {},
   "outputs": [],
   "source": [
    "from skimage.metrics import peak_signal_noise_ratio, mean_squared_error, structural_similarity"
   ]
  },
  {
   "cell_type": "code",
   "execution_count": null,
   "metadata": {},
   "outputs": [],
   "source": [
    "cv2.imread('orig/val2017/000000007888.jpg', cv2.IMREAD_ANYCOLOR).shape"
   ]
  },
  {
   "cell_type": "code",
   "execution_count": null,
   "metadata": {},
   "outputs": [],
   "source": [
    "cv2.imread('orig/val2017/000000000139.jpg', cv2.IMREAD_ANYCOLOR).shape"
   ]
  },
  {
   "cell_type": "code",
   "execution_count": null,
   "metadata": {},
   "outputs": [],
   "source": [
    "def degrade(q):\n",
    "    set_up()\n",
    "    !mogrify -quality {q} loss/val2017/*.jpg\n",
    "    \n",
    "def evaluate(orig_path, loss_path):\n",
    "    orig = cv2.imread(orig_path, cv2.IMREAD_ANYCOLOR)\n",
    "    loss = cv2.imread(loss_path, cv2.IMREAD_ANYCOLOR)\n",
    "    #print(orig_path, orig.shape)\n",
    "    #print(loss_path, loss.shape)\n",
    "    \n",
    "    if orig.shape != loss.shape:\n",
    "        return {\n",
    "            'image': os.path.basename(orig_path),\n",
    "            'orig_shape': orig.shape,\n",
    "            'loss_shape': loss.shape,\n",
    "        }\n",
    "    \n",
    "    return {\n",
    "        'image': os.path.basename(orig_path),\n",
    "        'width': orig.shape[1],\n",
    "        'height': orig.shape[0],\n",
    "        'channels': 1 if len(orig.shape) < 3 else orig.shape[2],\n",
    "        'mean_squared_error': mean_squared_error(orig, loss),\n",
    "        'peak_signal_noise_ratio': peak_signal_noise_ratio(orig, loss),\n",
    "        'structural_similarity': \n",
    "            structural_similarity(orig, loss, multichannel=True) if len(orig.shape) > 2 \n",
    "            else structural_similarity(orig, loss),\n",
    "    }\n",
    "    "
   ]
  },
  {
   "cell_type": "code",
   "execution_count": null,
   "metadata": {},
   "outputs": [],
   "source": [
    "import json\n",
    "import numpy as np\n",
    "\n"
   ]
  },
  {
   "cell_type": "code",
   "execution_count": null,
   "metadata": {},
   "outputs": [],
   "source": [
    "results = []"
   ]
  },
  {
   "cell_type": "code",
   "execution_count": null,
   "metadata": {},
   "outputs": [],
   "source": [
    "%%time\n",
    "\n",
    "for q in range(1, 101):\n",
    "    degrade(q)\n",
    "    for orig, loss in zip(jpgs(), jpgs('loss')):\n",
    "        part = evaluate(orig, loss)\n",
    "        part['quality'] = q\n",
    "        print(part)\n",
    "        results.append(part)"
   ]
  },
  {
   "cell_type": "code",
   "execution_count": null,
   "metadata": {},
   "outputs": [],
   "source": [
    "len(results)"
   ]
  }
 ],
 "metadata": {
  "kernelspec": {
   "display_name": "Python 3",
   "language": "python",
   "name": "python3"
  },
  "language_info": {
   "codemirror_mode": {
    "name": "ipython",
    "version": 3
   },
   "file_extension": ".py",
   "mimetype": "text/x-python",
   "name": "python",
   "nbconvert_exporter": "python",
   "pygments_lexer": "ipython3",
   "version": "3.7.6"
  }
 },
 "nbformat": 4,
 "nbformat_minor": 4
}
