{
 "cells": [
  {
   "cell_type": "code",
   "execution_count": null,
   "id": "4dd84e98",
   "metadata": {
    "ExecuteTime": {
     "end_time": "2021-07-05T21:52:04.371376Z",
     "start_time": "2021-07-05T21:52:03.427590Z"
    }
   },
   "outputs": [],
   "source": [
    "import logging\n",
    "import os\n",
    "from evaldets.results import *\n",
    "from evaldets.postprocess import *\n",
    "import matplotlib.pyplot as plt\n",
    "import numpy as np\n",
    "import pandas as pd\n",
    "from uo.utils import *\n",
    "\n",
    "# logging.basicConfig(level=logging.DEBUG)\n",
    "# logging.basicConfig(level=logging.INFO)"
   ]
  },
  {
   "cell_type": "code",
   "execution_count": null,
   "id": "2b02bdcd",
   "metadata": {
    "ExecuteTime": {
     "end_time": "2021-07-05T21:52:04.396250Z",
     "start_time": "2021-07-05T21:52:04.372785Z"
    }
   },
   "outputs": [],
   "source": [
    "#!rm ~/reval_50/X101/subdir_summaries.pkl.gz\n",
    "subdir_summaries('~/reval_50/X101')"
   ]
  },
  {
   "cell_type": "code",
   "execution_count": null,
   "id": "ebad5a6f",
   "metadata": {
    "ExecuteTime": {
     "end_time": "2021-07-05T21:52:04.401296Z",
     "start_time": "2021-07-05T21:52:04.398433Z"
    }
   },
   "outputs": [],
   "source": [
    "s = GrandSummary('~/reval_50/')"
   ]
  },
  {
   "cell_type": "code",
   "execution_count": null,
   "id": "0f211bfd",
   "metadata": {
    "ExecuteTime": {
     "end_time": "2021-07-05T21:52:05.227815Z",
     "start_time": "2021-07-05T21:52:04.402508Z"
    }
   },
   "outputs": [],
   "source": [
    "fig, axes = plt.subplots(2, 5)\n",
    "fig.set_figheight(6)\n",
    "fig.set_figwidth(15)\n",
    "s.plot_q_summaries(axes, order='R101 R101_C4 R101_DC5 R101_FPN X101 R50 R50_C4 R50_DC5 R50_FPN'.split(), legend=False)\n",
    "fig.tight_layout()\n",
    "axes[1, 4].axis('off')\n",
    "axes[1, 4].legend(*axes[0, 0].get_legend_handles_labels(), loc='lower right', fontsize='x-large', borderpad=2);"
   ]
  },
  {
   "cell_type": "code",
   "execution_count": null,
   "id": "eff43432",
   "metadata": {
    "ExecuteTime": {
     "end_time": "2021-07-05T21:52:05.414049Z",
     "start_time": "2021-07-05T21:52:05.229168Z"
    }
   },
   "outputs": [],
   "source": [
    "fig.savefig('all_PRF1_Q.pdf')"
   ]
  },
  {
   "cell_type": "code",
   "execution_count": null,
   "id": "99f7bd98",
   "metadata": {
    "ExecuteTime": {
     "end_time": "2021-07-05T21:52:05.417769Z",
     "start_time": "2021-07-05T21:52:05.415619Z"
    }
   },
   "outputs": [],
   "source": [
    "# q_summaries modified manually...\n",
    "# s.save_q_summaries(excel=True)"
   ]
  }
 ],
 "metadata": {
  "kernelspec": {
   "display_name": "Python 3",
   "language": "python",
   "name": "python3"
  },
  "language_info": {
   "codemirror_mode": {
    "name": "ipython",
    "version": 3
   },
   "file_extension": ".py",
   "mimetype": "text/x-python",
   "name": "python",
   "nbconvert_exporter": "python",
   "pygments_lexer": "ipython3",
   "version": "3.9.5"
  },
  "toc": {
   "base_numbering": 1,
   "nav_menu": {},
   "number_sections": true,
   "sideBar": true,
   "skip_h1_title": false,
   "title_cell": "Table of Contents",
   "title_sidebar": "Contents",
   "toc_cell": false,
   "toc_position": {},
   "toc_section_display": true,
   "toc_window_display": false
  }
 },
 "nbformat": 4,
 "nbformat_minor": 5
}
