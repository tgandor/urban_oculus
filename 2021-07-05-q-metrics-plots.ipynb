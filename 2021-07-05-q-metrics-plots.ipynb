{
 "cells": [
  {
   "cell_type": "code",
   "execution_count": null,
   "id": "4dd84e98",
   "metadata": {
    "ExecuteTime": {
     "end_time": "2021-07-05T07:52:01.024814Z",
     "start_time": "2021-07-05T07:52:00.064163Z"
    }
   },
   "outputs": [],
   "source": [
    "import logging\n",
    "import os\n",
    "from evaldets.results import *\n",
    "from evaldets.postprocess import *\n",
    "import matplotlib.pyplot as plt\n",
    "import numpy as np\n",
    "import pandas as pd\n",
    "from uo.utils import *\n",
    "\n",
    "# logging.basicConfig(level=logging.DEBUG)\n",
    "logging.basicConfig(level=logging.INFO)"
   ]
  },
  {
   "cell_type": "code",
   "execution_count": null,
   "id": "2b02bdcd",
   "metadata": {
    "ExecuteTime": {
     "end_time": "2021-07-05T07:52:01.046700Z",
     "start_time": "2021-07-05T07:52:01.026642Z"
    }
   },
   "outputs": [],
   "source": [
    "#!rm ~/reval_50/X101/subdir_summaries.pkl.gz\n",
    "subdir_summaries('~/reval_50/X101')"
   ]
  },
  {
   "cell_type": "code",
   "execution_count": null,
   "id": "ebad5a6f",
   "metadata": {
    "ExecuteTime": {
     "end_time": "2021-07-05T07:52:01.052355Z",
     "start_time": "2021-07-05T07:52:01.048807Z"
    }
   },
   "outputs": [],
   "source": [
    "s = GrandSummary('~/reval_50/')"
   ]
  },
  {
   "cell_type": "code",
   "execution_count": null,
   "id": "0f211bfd",
   "metadata": {
    "ExecuteTime": {
     "end_time": "2021-07-05T07:52:02.013800Z",
     "start_time": "2021-07-05T07:52:01.054645Z"
    }
   },
   "outputs": [],
   "source": [
    "fig, axes = plt.subplots(3, 3)\n",
    "fig.set_figheight(15)\n",
    "fig.set_figwidth(15)\n",
    "s.plot_q_summaries(axes)\n",
    "fig.tight_layout()"
   ]
  },
  {
   "cell_type": "code",
   "execution_count": null,
   "id": "eff43432",
   "metadata": {
    "ExecuteTime": {
     "end_time": "2021-07-05T07:52:02.278573Z",
     "start_time": "2021-07-05T07:52:02.014984Z"
    }
   },
   "outputs": [],
   "source": [
    "fig.savefig('all_PRF1_Q.pdf')"
   ]
  },
  {
   "cell_type": "code",
   "execution_count": null,
   "id": "99f7bd98",
   "metadata": {
    "ExecuteTime": {
     "end_time": "2021-07-05T07:52:02.635110Z",
     "start_time": "2021-07-05T07:52:02.280330Z"
    }
   },
   "outputs": [],
   "source": [
    "s.save_q_summaries(excel=True)"
   ]
  },
  {
   "cell_type": "code",
   "execution_count": null,
   "id": "775f3542",
   "metadata": {},
   "outputs": [],
   "source": []
  }
 ],
 "metadata": {
  "kernelspec": {
   "display_name": "Python 3",
   "language": "python",
   "name": "python3"
  },
  "language_info": {
   "codemirror_mode": {
    "name": "ipython",
    "version": 3
   },
   "file_extension": ".py",
   "mimetype": "text/x-python",
   "name": "python",
   "nbconvert_exporter": "python",
   "pygments_lexer": "ipython3",
   "version": "3.9.5"
  },
  "toc": {
   "base_numbering": 1,
   "nav_menu": {},
   "number_sections": true,
   "sideBar": true,
   "skip_h1_title": false,
   "title_cell": "Table of Contents",
   "title_sidebar": "Contents",
   "toc_cell": false,
   "toc_position": {},
   "toc_section_display": true,
   "toc_window_display": false
  }
 },
 "nbformat": 4,
 "nbformat_minor": 5
}
