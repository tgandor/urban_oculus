{
 "cells": [
  {
   "cell_type": "code",
   "execution_count": null,
   "id": "aedb05b0",
   "metadata": {
    "ExecuteTime": {
     "end_time": "2021-07-16T07:58:44.642041Z",
     "start_time": "2021-07-16T07:58:42.820052Z"
    }
   },
   "outputs": [],
   "source": [
    "from evaldets.visualization import *\n",
    "from evaldets.results import DetectionResults\n",
    "\n",
    "dets = DetectionResults('~/reval_50/X101/evaluator_dump_X101_096/', iou_thresh=0.5)"
   ]
  },
  {
   "cell_type": "code",
   "execution_count": null,
   "id": "b5708b5b",
   "metadata": {
    "ExecuteTime": {
     "end_time": "2021-07-16T07:58:44.648788Z",
     "start_time": "2021-07-16T07:58:44.643364Z"
    }
   },
   "outputs": [],
   "source": [
    "dets[:4]"
   ]
  },
  {
   "cell_type": "code",
   "execution_count": null,
   "id": "6a75ba38",
   "metadata": {
    "ExecuteTime": {
     "end_time": "2021-07-16T07:58:44.672592Z",
     "start_time": "2021-07-16T07:58:44.650355Z"
    }
   },
   "outputs": [],
   "source": [
    "min(d.get('iou', 1) for d in dets)"
   ]
  },
  {
   "cell_type": "code",
   "execution_count": null,
   "id": "2919127b",
   "metadata": {
    "ExecuteTime": {
     "end_time": "2021-07-16T07:58:44.701157Z",
     "start_time": "2021-07-16T07:58:44.674134Z"
    }
   },
   "outputs": [],
   "source": [
    "def _iou_close(dr, iou):\n",
    "    return min((abs(d.get('iou', 2)-iou), i, d) for i, d in enumerate(dr))[2]\n",
    "_iou_close(dets, 0.5)"
   ]
  },
  {
   "cell_type": "code",
   "execution_count": null,
   "id": "05a796ac",
   "metadata": {
    "ExecuteTime": {
     "end_time": "2021-07-16T07:58:45.718788Z",
     "start_time": "2021-07-16T07:58:44.702463Z"
    }
   },
   "outputs": [],
   "source": [
    "for t in (0.51, 0.61, 0.71, 0.81, 0.91):\n",
    "    show_detection(_iou_close(dets, t), crop=True)"
   ]
  },
  {
   "cell_type": "code",
   "execution_count": null,
   "id": "70f3b2c7",
   "metadata": {
    "ExecuteTime": {
     "end_time": "2021-07-16T07:58:54.181656Z",
     "start_time": "2021-07-16T07:58:45.720354Z"
    }
   },
   "outputs": [],
   "source": [
    "def _iou_around(dr, iou):\n",
    "    return [d for d in dr if 'iou' in d and iou < d['iou'] < iou+0.01]\n",
    "for d in _iou_around(dets, 0.5):\n",
    "    show_detection(d, crop=True, v=True)"
   ]
  },
  {
   "cell_type": "code",
   "execution_count": null,
   "id": "74a26a91",
   "metadata": {
    "ExecuteTime": {
     "end_time": "2021-07-16T07:59:12.011809Z",
     "start_time": "2021-07-16T07:58:54.183167Z"
    }
   },
   "outputs": [],
   "source": [
    "for d in _iou_around(dets, 0.7):\n",
    "    show_detection(d, crop=True)"
   ]
  },
  {
   "cell_type": "code",
   "execution_count": null,
   "id": "d56cc862",
   "metadata": {
    "ExecuteTime": {
     "end_time": "2021-07-16T07:59:12.315006Z",
     "start_time": "2021-07-16T07:59:12.013919Z"
    }
   },
   "outputs": [],
   "source": [
    "from evaldets.postprocess import *\n",
    "import logging\n",
    "# logging.basicConfig(level=logging.INFO)"
   ]
  },
  {
   "cell_type": "code",
   "execution_count": null,
   "id": "adff80d0",
   "metadata": {
    "ExecuteTime": {
     "end_time": "2021-07-16T07:59:21.022008Z",
     "start_time": "2021-07-16T07:59:12.316224Z"
    }
   },
   "outputs": [],
   "source": [
    "df = gt_id_statistics(\"~/reval_05/\")\n",
    "df = df[df.crowd == False]\n",
    "df"
   ]
  }
 ],
 "metadata": {
  "kernelspec": {
   "display_name": "Python 3",
   "language": "python",
   "name": "python3"
  },
  "language_info": {
   "codemirror_mode": {
    "name": "ipython",
    "version": 3
   },
   "file_extension": ".py",
   "mimetype": "text/x-python",
   "name": "python",
   "nbconvert_exporter": "python",
   "pygments_lexer": "ipython3",
   "version": "3.9.6"
  },
  "toc": {
   "base_numbering": 1,
   "nav_menu": {},
   "number_sections": true,
   "sideBar": true,
   "skip_h1_title": false,
   "title_cell": "Table of Contents",
   "title_sidebar": "Contents",
   "toc_cell": false,
   "toc_position": {},
   "toc_section_display": true,
   "toc_window_display": false
  }
 },
 "nbformat": 4,
 "nbformat_minor": 5
}
