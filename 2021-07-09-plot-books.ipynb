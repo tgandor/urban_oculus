{
 "cells": [
  {
   "cell_type": "code",
   "execution_count": null,
   "id": "861e13ea",
   "metadata": {
    "ExecuteTime": {
     "end_time": "2021-07-09T07:03:02.012558Z",
     "start_time": "2021-07-09T07:03:01.171183Z"
    }
   },
   "outputs": [],
   "source": [
    "from evaldets.postprocess import *\n",
    "import logging\n",
    "logging.basicConfig(level=logging.INFO)"
   ]
  },
  {
   "cell_type": "code",
   "execution_count": null,
   "id": "8508c326",
   "metadata": {
    "ExecuteTime": {
     "end_time": "2021-07-09T07:03:02.018289Z",
     "start_time": "2021-07-09T07:03:02.013809Z"
    }
   },
   "outputs": [],
   "source": [
    "s = Summary('~/reval_05/quality_020/')"
   ]
  },
  {
   "cell_type": "code",
   "execution_count": null,
   "id": "56cc5963",
   "metadata": {
    "ExecuteTime": {
     "end_time": "2021-07-09T08:25:57.871305Z",
     "start_time": "2021-07-09T08:25:57.862171Z"
    }
   },
   "outputs": [],
   "source": [
    "warm_cache('~/reval_05/quality_*/*/', tp_fp_ex_by_tc)"
   ]
  },
  {
   "cell_type": "code",
   "execution_count": null,
   "id": "e63ac6ec",
   "metadata": {
    "ExecuteTime": {
     "end_time": "2021-07-09T07:08:19.700186Z",
     "start_time": "2021-07-09T07:03:02.019922Z"
    }
   },
   "outputs": [],
   "source": [
    "# plot_book('~/reval_05/')"
   ]
  }
 ],
 "metadata": {
  "kernelspec": {
   "display_name": "Python 3",
   "language": "python",
   "name": "python3"
  },
  "language_info": {
   "codemirror_mode": {
    "name": "ipython",
    "version": 3
   },
   "file_extension": ".py",
   "mimetype": "text/x-python",
   "name": "python",
   "nbconvert_exporter": "python",
   "pygments_lexer": "ipython3",
   "version": "3.9.5"
  },
  "toc": {
   "base_numbering": 1,
   "nav_menu": {},
   "number_sections": true,
   "sideBar": true,
   "skip_h1_title": false,
   "title_cell": "Table of Contents",
   "title_sidebar": "Contents",
   "toc_cell": false,
   "toc_position": {},
   "toc_section_display": true,
   "toc_window_display": false
  }
 },
 "nbformat": 4,
 "nbformat_minor": 5
}
