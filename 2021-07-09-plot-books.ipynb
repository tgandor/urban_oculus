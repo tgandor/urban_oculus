{
 "cells": [
  {
   "cell_type": "code",
   "execution_count": null,
   "id": "861e13ea",
   "metadata": {
    "ExecuteTime": {
     "end_time": "2021-07-09T14:32:05.019298Z",
     "start_time": "2021-07-09T14:32:02.848199Z"
    }
   },
   "outputs": [],
   "source": [
    "from evaldets.postprocess import *\n",
    "from uo.utils import warm_cache\n",
    "import logging\n",
    "logging.basicConfig(level=logging.WARNING)"
   ]
  },
  {
   "cell_type": "code",
   "execution_count": null,
   "id": "e63ac6ec",
   "metadata": {
    "ExecuteTime": {
     "end_time": "2021-07-09T14:40:47.948071Z",
     "start_time": "2021-07-09T14:32:05.020596Z"
    }
   },
   "outputs": [],
   "source": [
    "plot_book('~/reval_05/')"
   ]
  }
 ],
 "metadata": {
  "kernelspec": {
   "display_name": "Python 3",
   "language": "python",
   "name": "python3"
  },
  "language_info": {
   "codemirror_mode": {
    "name": "ipython",
    "version": 3
   },
   "file_extension": ".py",
   "mimetype": "text/x-python",
   "name": "python",
   "nbconvert_exporter": "python",
   "pygments_lexer": "ipython3",
   "version": "3.9.5"
  },
  "toc": {
   "base_numbering": 1,
   "nav_menu": {},
   "number_sections": true,
   "sideBar": true,
   "skip_h1_title": false,
   "title_cell": "Table of Contents",
   "title_sidebar": "Contents",
   "toc_cell": false,
   "toc_position": {},
   "toc_section_display": true,
   "toc_window_display": false
  }
 },
 "nbformat": 4,
 "nbformat_minor": 5
}
