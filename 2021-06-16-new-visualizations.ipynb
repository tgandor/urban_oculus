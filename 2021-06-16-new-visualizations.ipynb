{
 "cells": [
  {
   "cell_type": "code",
   "execution_count": null,
   "metadata": {
    "ExecuteTime": {
     "end_time": "2021-06-21T08:56:15.089676Z",
     "start_time": "2021-06-21T08:56:14.338797Z"
    }
   },
   "outputs": [],
   "source": [
    "from evaldets.visualization import *\n",
    "from evaldets.results import DetectionResults"
   ]
  },
  {
   "cell_type": "code",
   "execution_count": null,
   "metadata": {
    "ExecuteTime": {
     "end_time": "2021-06-21T08:56:20.065169Z",
     "start_time": "2021-06-21T08:56:15.091045Z"
    }
   },
   "outputs": [],
   "source": [
    "dets = DetectionResults('~/reval_50/R101/evaluator_dump_R101_075/', iou_thresh=0.2)"
   ]
  },
  {
   "cell_type": "code",
   "execution_count": null,
   "metadata": {
    "ExecuteTime": {
     "end_time": "2021-06-21T08:56:20.072042Z",
     "start_time": "2021-06-21T08:56:20.067360Z"
    }
   },
   "outputs": [],
   "source": [
    "len(dets)"
   ]
  },
  {
   "cell_type": "code",
   "execution_count": null,
   "metadata": {
    "ExecuteTime": {
     "end_time": "2021-06-21T08:56:20.086729Z",
     "start_time": "2021-06-21T08:56:20.074568Z"
    }
   },
   "outputs": [],
   "source": [
    "dets[1]"
   ]
  },
  {
   "cell_type": "code",
   "execution_count": null,
   "metadata": {
    "ExecuteTime": {
     "end_time": "2021-06-21T08:56:20.526332Z",
     "start_time": "2021-06-21T08:56:20.088624Z"
    }
   },
   "outputs": [],
   "source": [
    "DSI.gt[104368]"
   ]
  },
  {
   "cell_type": "code",
   "execution_count": null,
   "metadata": {
    "ExecuteTime": {
     "end_time": "2021-06-21T08:56:21.067922Z",
     "start_time": "2021-06-21T08:56:20.527868Z"
    }
   },
   "outputs": [],
   "source": [
    "show_detection(dets[1205], scale=2.0, v=1)"
   ]
  },
  {
   "cell_type": "code",
   "execution_count": null,
   "metadata": {
    "ExecuteTime": {
     "end_time": "2021-06-21T08:56:21.071410Z",
     "start_time": "2021-06-21T08:56:21.069510Z"
    }
   },
   "outputs": [],
   "source": [
    "d = 1467"
   ]
  },
  {
   "cell_type": "code",
   "execution_count": null,
   "metadata": {
    "ExecuteTime": {
     "end_time": "2021-06-21T09:04:41.618956Z",
     "start_time": "2021-06-21T09:04:41.555061Z"
    }
   },
   "outputs": [],
   "source": [
    "d += 1\n",
    "print(d)\n",
    "show_detection(dets[d], crop=True, v=True, crop_margin=10)"
   ]
  },
  {
   "cell_type": "code",
   "execution_count": null,
   "metadata": {
    "ExecuteTime": {
     "end_time": "2021-06-21T08:56:21.487694Z",
     "start_time": "2021-06-21T08:56:21.165075Z"
    }
   },
   "outputs": [],
   "source": [
    "show_detections(dets[:10], scale=1.5, v=1)"
   ]
  },
  {
   "cell_type": "code",
   "execution_count": null,
   "metadata": {
    "ExecuteTime": {
     "end_time": "2021-06-21T08:56:21.492055Z",
     "start_time": "2021-06-21T08:56:21.489110Z"
    }
   },
   "outputs": [],
   "source": [
    "len(DSI.gt)"
   ]
  },
  {
   "cell_type": "code",
   "execution_count": null,
   "metadata": {
    "ExecuteTime": {
     "end_time": "2021-06-21T08:56:21.730251Z",
     "start_time": "2021-06-21T08:56:21.493343Z"
    }
   },
   "outputs": [],
   "source": [
    "show_image_objects(27768, show_ids=True)"
   ]
  }
 ],
 "metadata": {
  "kernelspec": {
   "display_name": "Python 3",
   "language": "python",
   "name": "python3"
  },
  "language_info": {
   "codemirror_mode": {
    "name": "ipython",
    "version": 3
   },
   "file_extension": ".py",
   "mimetype": "text/x-python",
   "name": "python",
   "nbconvert_exporter": "python",
   "pygments_lexer": "ipython3",
   "version": "3.7.6"
  },
  "toc": {
   "base_numbering": 1,
   "nav_menu": {},
   "number_sections": true,
   "sideBar": true,
   "skip_h1_title": false,
   "title_cell": "Table of Contents",
   "title_sidebar": "Contents",
   "toc_cell": false,
   "toc_position": {},
   "toc_section_display": true,
   "toc_window_display": false
  }
 },
 "nbformat": 4,
 "nbformat_minor": 4
}
