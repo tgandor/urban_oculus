{
 "cells": [
  {
   "cell_type": "code",
   "execution_count": null,
   "metadata": {
    "ExecuteTime": {
     "end_time": "2021-06-21T21:05:11.055226Z",
     "start_time": "2021-06-21T21:05:10.251953Z"
    }
   },
   "outputs": [],
   "source": [
    "from evaldets.visualization import *\n",
    "from evaldets.results import DetectionResults"
   ]
  },
  {
   "cell_type": "code",
   "execution_count": null,
   "metadata": {
    "ExecuteTime": {
     "end_time": "2021-06-21T21:05:16.171893Z",
     "start_time": "2021-06-21T21:05:11.056920Z"
    }
   },
   "outputs": [],
   "source": [
    "dets = DetectionResults('~/reval_50/R101/evaluator_dump_R101_075/', iou_thresh=0.2)"
   ]
  },
  {
   "cell_type": "code",
   "execution_count": null,
   "metadata": {
    "ExecuteTime": {
     "end_time": "2021-06-21T21:05:16.178998Z",
     "start_time": "2021-06-21T21:05:16.173766Z"
    }
   },
   "outputs": [],
   "source": [
    "len(dets)"
   ]
  },
  {
   "cell_type": "code",
   "execution_count": null,
   "metadata": {
    "ExecuteTime": {
     "end_time": "2021-06-21T21:05:16.185982Z",
     "start_time": "2021-06-21T21:05:16.181261Z"
    }
   },
   "outputs": [],
   "source": [
    "dets[1]"
   ]
  },
  {
   "cell_type": "code",
   "execution_count": null,
   "metadata": {
    "ExecuteTime": {
     "end_time": "2021-06-21T21:05:16.634889Z",
     "start_time": "2021-06-21T21:05:16.188117Z"
    }
   },
   "outputs": [],
   "source": [
    "DSI.gt[104368]"
   ]
  },
  {
   "cell_type": "code",
   "execution_count": null,
   "metadata": {
    "ExecuteTime": {
     "end_time": "2021-06-21T21:05:17.185394Z",
     "start_time": "2021-06-21T21:05:16.636655Z"
    }
   },
   "outputs": [],
   "source": [
    "show_detection(dets[1205], scale=2.0, v=1)"
   ]
  },
  {
   "cell_type": "code",
   "execution_count": null,
   "metadata": {
    "ExecuteTime": {
     "end_time": "2021-06-21T21:05:17.189322Z",
     "start_time": "2021-06-21T21:05:17.187277Z"
    }
   },
   "outputs": [],
   "source": [
    "d = 1467"
   ]
  },
  {
   "cell_type": "code",
   "execution_count": null,
   "metadata": {
    "ExecuteTime": {
     "end_time": "2021-06-21T21:05:17.277020Z",
     "start_time": "2021-06-21T21:05:17.191343Z"
    }
   },
   "outputs": [],
   "source": [
    "d += 1\n",
    "print(d)\n",
    "show_detection(dets[d], crop=True, v=True, crop_margin=10)"
   ]
  },
  {
   "cell_type": "code",
   "execution_count": null,
   "metadata": {
    "ExecuteTime": {
     "end_time": "2021-06-21T21:05:17.612456Z",
     "start_time": "2021-06-21T21:05:17.278808Z"
    }
   },
   "outputs": [],
   "source": [
    "show_detections(dets[:10], scale=1.5, v=1)"
   ]
  },
  {
   "cell_type": "code",
   "execution_count": null,
   "metadata": {
    "ExecuteTime": {
     "end_time": "2021-06-21T21:05:17.618053Z",
     "start_time": "2021-06-21T21:05:17.614566Z"
    }
   },
   "outputs": [],
   "source": [
    "len(DSI.gt)"
   ]
  },
  {
   "cell_type": "code",
   "execution_count": null,
   "metadata": {
    "ExecuteTime": {
     "end_time": "2021-06-21T21:05:17.801418Z",
     "start_time": "2021-06-21T21:05:17.619434Z"
    }
   },
   "outputs": [],
   "source": [
    "show_image_objects(33638+0*27768, show_ids=True)"
   ]
  },
  {
   "cell_type": "code",
   "execution_count": null,
   "metadata": {
    "ExecuteTime": {
     "end_time": "2021-06-21T21:05:40.222744Z",
     "start_time": "2021-06-21T21:05:40.088243Z"
    }
   },
   "outputs": [],
   "source": [
    "show_detections(dets.detections_by_image_id(33638))"
   ]
  }
 ],
 "metadata": {
  "kernelspec": {
   "display_name": "Python 3",
   "language": "python",
   "name": "python3"
  },
  "language_info": {
   "codemirror_mode": {
    "name": "ipython",
    "version": 3
   },
   "file_extension": ".py",
   "mimetype": "text/x-python",
   "name": "python",
   "nbconvert_exporter": "python",
   "pygments_lexer": "ipython3",
   "version": "3.7.6"
  },
  "toc": {
   "base_numbering": 1,
   "nav_menu": {},
   "number_sections": true,
   "sideBar": true,
   "skip_h1_title": false,
   "title_cell": "Table of Contents",
   "title_sidebar": "Contents",
   "toc_cell": false,
   "toc_position": {},
   "toc_section_display": true,
   "toc_window_display": false
  }
 },
 "nbformat": 4,
 "nbformat_minor": 4
}
