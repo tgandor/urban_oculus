{
 "cells": [
  {
   "cell_type": "code",
   "execution_count": null,
   "metadata": {
    "ExecuteTime": {
     "end_time": "2021-06-16T10:00:50.462573Z",
     "start_time": "2021-06-16T10:00:49.183450Z"
    }
   },
   "outputs": [],
   "source": [
    "from evaldets.visualization import *\n",
    "from evaldets.results import DetectionResults"
   ]
  },
  {
   "cell_type": "code",
   "execution_count": null,
   "metadata": {
    "ExecuteTime": {
     "end_time": "2021-06-16T10:00:56.225951Z",
     "start_time": "2021-06-16T10:00:50.464287Z"
    }
   },
   "outputs": [],
   "source": [
    "dets = DetectionResults('~/reval_50/R101/evaluator_dump_R101_075/')"
   ]
  },
  {
   "cell_type": "code",
   "execution_count": null,
   "metadata": {
    "ExecuteTime": {
     "end_time": "2021-06-16T10:00:56.232872Z",
     "start_time": "2021-06-16T10:00:56.227861Z"
    }
   },
   "outputs": [],
   "source": [
    "len(dets)"
   ]
  },
  {
   "cell_type": "code",
   "execution_count": null,
   "metadata": {
    "ExecuteTime": {
     "end_time": "2021-06-16T10:00:56.247329Z",
     "start_time": "2021-06-16T10:00:56.234821Z"
    }
   },
   "outputs": [],
   "source": [
    "dets[1]"
   ]
  },
  {
   "cell_type": "code",
   "execution_count": null,
   "metadata": {
    "ExecuteTime": {
     "end_time": "2021-06-16T10:00:56.257615Z",
     "start_time": "2021-06-16T10:00:56.248725Z"
    }
   },
   "outputs": [],
   "source": [
    "GT[104368]"
   ]
  },
  {
   "cell_type": "code",
   "execution_count": null,
   "metadata": {
    "ExecuteTime": {
     "end_time": "2021-06-16T10:00:56.851551Z",
     "start_time": "2021-06-16T10:00:56.259113Z"
    }
   },
   "outputs": [],
   "source": [
    "show_image_detection(dets[1205], scale=2.0, v=1)"
   ]
  },
  {
   "cell_type": "code",
   "execution_count": null,
   "metadata": {
    "ExecuteTime": {
     "end_time": "2021-06-16T10:00:56.856460Z",
     "start_time": "2021-06-16T10:00:56.853491Z"
    }
   },
   "outputs": [],
   "source": [
    "len(GT)"
   ]
  },
  {
   "cell_type": "code",
   "execution_count": null,
   "metadata": {
    "ExecuteTime": {
     "end_time": "2021-06-16T10:00:56.873261Z",
     "start_time": "2021-06-16T10:00:56.858907Z"
    }
   },
   "outputs": [],
   "source": [
    "from detectron2.data import DatasetCatalog"
   ]
  },
  {
   "cell_type": "code",
   "execution_count": null,
   "metadata": {
    "ExecuteTime": {
     "end_time": "2021-06-16T10:00:57.538966Z",
     "start_time": "2021-06-16T10:00:56.875754Z"
    }
   },
   "outputs": [],
   "source": [
    "IMAGES = {d[\"image_id\"]: d for d in DatasetCatalog.get('coco_2017_val')}\n",
    "\n",
    "def show_image_objects(image_id):\n",
    "    show_image_gt(IMAGES[image_id], META)"
   ]
  },
  {
   "cell_type": "code",
   "execution_count": null,
   "metadata": {
    "ExecuteTime": {
     "end_time": "2021-06-16T10:00:57.854247Z",
     "start_time": "2021-06-16T10:00:57.540853Z"
    }
   },
   "outputs": [],
   "source": [
    "show_image_objects(27768)"
   ]
  },
  {
   "cell_type": "code",
   "execution_count": null,
   "metadata": {},
   "outputs": [],
   "source": []
  }
 ],
 "metadata": {
  "kernelspec": {
   "display_name": "Python 3",
   "language": "python",
   "name": "python3"
  },
  "language_info": {
   "codemirror_mode": {
    "name": "ipython",
    "version": 3
   },
   "file_extension": ".py",
   "mimetype": "text/x-python",
   "name": "python",
   "nbconvert_exporter": "python",
   "pygments_lexer": "ipython3",
   "version": "3.7.6"
  },
  "toc": {
   "base_numbering": 1,
   "nav_menu": {},
   "number_sections": true,
   "sideBar": true,
   "skip_h1_title": false,
   "title_cell": "Table of Contents",
   "title_sidebar": "Contents",
   "toc_cell": false,
   "toc_position": {},
   "toc_section_display": true,
   "toc_window_display": false
  }
 },
 "nbformat": 4,
 "nbformat_minor": 4
}
