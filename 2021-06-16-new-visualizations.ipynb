{
 "cells": [
  {
   "cell_type": "code",
   "execution_count": null,
   "metadata": {
    "ExecuteTime": {
     "end_time": "2021-06-21T08:44:19.613402Z",
     "start_time": "2021-06-21T08:44:18.854568Z"
    }
   },
   "outputs": [],
   "source": [
    "from evaldets.visualization import *\n",
    "from evaldets.results import DetectionResults"
   ]
  },
  {
   "cell_type": "code",
   "execution_count": null,
   "metadata": {
    "ExecuteTime": {
     "end_time": "2021-06-21T08:44:24.521826Z",
     "start_time": "2021-06-21T08:44:19.615398Z"
    }
   },
   "outputs": [],
   "source": [
    "dets = DetectionResults('~/reval_50/R101/evaluator_dump_R101_075/', iou_thresh=0.2)"
   ]
  },
  {
   "cell_type": "code",
   "execution_count": null,
   "metadata": {
    "ExecuteTime": {
     "end_time": "2021-06-21T08:44:24.528651Z",
     "start_time": "2021-06-21T08:44:24.523600Z"
    }
   },
   "outputs": [],
   "source": [
    "len(dets)"
   ]
  },
  {
   "cell_type": "code",
   "execution_count": null,
   "metadata": {
    "ExecuteTime": {
     "end_time": "2021-06-21T08:44:24.543136Z",
     "start_time": "2021-06-21T08:44:24.530588Z"
    }
   },
   "outputs": [],
   "source": [
    "dets[1]"
   ]
  },
  {
   "cell_type": "code",
   "execution_count": null,
   "metadata": {
    "ExecuteTime": {
     "end_time": "2021-06-21T08:44:25.006431Z",
     "start_time": "2021-06-21T08:44:24.544778Z"
    }
   },
   "outputs": [],
   "source": [
    "DSI.gt[104368]"
   ]
  },
  {
   "cell_type": "code",
   "execution_count": null,
   "metadata": {
    "ExecuteTime": {
     "end_time": "2021-06-21T08:44:25.574029Z",
     "start_time": "2021-06-21T08:44:25.008016Z"
    }
   },
   "outputs": [],
   "source": [
    "show_detection(dets[1205], scale=2.0, v=1)"
   ]
  },
  {
   "cell_type": "code",
   "execution_count": null,
   "metadata": {
    "ExecuteTime": {
     "end_time": "2021-06-21T08:44:25.577924Z",
     "start_time": "2021-06-21T08:44:25.575809Z"
    }
   },
   "outputs": [],
   "source": [
    "d = 1359"
   ]
  },
  {
   "cell_type": "code",
   "execution_count": null,
   "metadata": {
    "ExecuteTime": {
     "end_time": "2021-06-21T08:47:17.134258Z",
     "start_time": "2021-06-21T08:47:17.061387Z"
    }
   },
   "outputs": [],
   "source": [
    "d += 1\n",
    "print(d)\n",
    "show_detection(dets[d], crop=True, v=True)"
   ]
  },
  {
   "cell_type": "code",
   "execution_count": null,
   "metadata": {
    "ExecuteTime": {
     "end_time": "2021-06-21T08:44:26.016407Z",
     "start_time": "2021-06-21T08:44:25.669784Z"
    }
   },
   "outputs": [],
   "source": [
    "show_detections(dets[:10], scale=1.5, v=1)"
   ]
  },
  {
   "cell_type": "code",
   "execution_count": null,
   "metadata": {
    "ExecuteTime": {
     "end_time": "2021-06-21T08:44:26.020698Z",
     "start_time": "2021-06-21T08:44:26.017688Z"
    }
   },
   "outputs": [],
   "source": [
    "len(DSI.gt)"
   ]
  },
  {
   "cell_type": "code",
   "execution_count": null,
   "metadata": {
    "ExecuteTime": {
     "end_time": "2021-06-21T08:44:26.293149Z",
     "start_time": "2021-06-21T08:44:26.022091Z"
    }
   },
   "outputs": [],
   "source": [
    "show_image_objects(27768, show_ids=True)"
   ]
  }
 ],
 "metadata": {
  "kernelspec": {
   "display_name": "Python 3",
   "language": "python",
   "name": "python3"
  },
  "language_info": {
   "codemirror_mode": {
    "name": "ipython",
    "version": 3
   },
   "file_extension": ".py",
   "mimetype": "text/x-python",
   "name": "python",
   "nbconvert_exporter": "python",
   "pygments_lexer": "ipython3",
   "version": "3.7.6"
  },
  "toc": {
   "base_numbering": 1,
   "nav_menu": {},
   "number_sections": true,
   "sideBar": true,
   "skip_h1_title": false,
   "title_cell": "Table of Contents",
   "title_sidebar": "Contents",
   "toc_cell": false,
   "toc_position": {},
   "toc_section_display": true,
   "toc_window_display": false
  }
 },
 "nbformat": 4,
 "nbformat_minor": 4
}
