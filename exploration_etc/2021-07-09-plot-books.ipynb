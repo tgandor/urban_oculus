{
 "cells": [
  {
   "cell_type": "code",
   "execution_count": null,
   "id": "861e13ea",
   "metadata": {
    "ExecuteTime": {
     "end_time": "2021-07-09T21:07:34.096043Z",
     "start_time": "2021-07-09T21:07:32.154867Z"
    }
   },
   "outputs": [],
   "source": [
    "import sys; sys.path.append(\"..\")\n",
    "from evaldets.postprocess import *\n",
    "from uo.utils import warm_cache"
   ]
  },
  {
   "cell_type": "markdown",
   "id": "4986957d",
   "metadata": {},
   "source": [
    "Uncomment as needed:"
   ]
  },
  {
   "cell_type": "code",
   "execution_count": null,
   "id": "40aea312",
   "metadata": {
    "ExecuteTime": {
     "end_time": "2021-07-09T21:10:13.950445Z",
     "start_time": "2021-07-09T21:07:34.097810Z"
    }
   },
   "outputs": [],
   "source": [
    "# warm_cache(\"~/reval_05/quality_*/*\", tp_fp_ex_by_tc)\n",
    "# plot_book('~/reval_05/')\n",
    "\n",
    "# warm_cache(\"~/reval_05/quality_*/*\", summaries_by_tc)\n",
    "# plot_PRF1_book('~/reval_05/')"
   ]
  }
 ],
 "metadata": {
  "kernelspec": {
   "display_name": "Python 3 (ipykernel)",
   "language": "python",
   "name": "python3"
  },
  "language_info": {
   "codemirror_mode": {
    "name": "ipython",
    "version": 3
   },
   "file_extension": ".py",
   "mimetype": "text/x-python",
   "name": "python",
   "nbconvert_exporter": "python",
   "pygments_lexer": "ipython3",
   "version": "3.10.4"
  },
  "toc": {
   "base_numbering": 1,
   "nav_menu": {},
   "number_sections": true,
   "sideBar": true,
   "skip_h1_title": false,
   "title_cell": "Table of Contents",
   "title_sidebar": "Contents",
   "toc_cell": false,
   "toc_position": {},
   "toc_section_display": true,
   "toc_window_display": false
  }
 },
 "nbformat": 4,
 "nbformat_minor": 5
}
