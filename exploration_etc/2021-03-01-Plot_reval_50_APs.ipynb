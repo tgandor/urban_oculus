{
 "cells": [
  {
   "cell_type": "code",
   "execution_count": 1,
   "metadata": {
    "ExecuteTime": {
     "end_time": "2022-05-08T15:54:01.908810Z",
     "start_time": "2022-05-08T15:54:00.330500Z"
    }
   },
   "outputs": [],
   "source": [
    "import json, glob, os, sys\n",
    "from itertools import groupby\n",
    "import pandas as pd\n",
    "import matplotlib.pyplot as plt\n",
    "sys.path.append('..')\n",
    "from imports import *\n",
    "\n",
    "%matplotlib inline\n",
    "plt.rcParams['figure.figsize'] = (10, 6)\n",
    "REVAL_DIR = os.path.expanduser('~/reval_50')\n",
    "YLIM_AP = (0, 100)\n",
    "YLIM_APL = (0, 60)\n",
    "YLIM_F1 = (0, 1)\n",
    "COLOR_SML = ['#00ff00', '#ffff00', '#ff0000']"
   ]
  },
  {
   "cell_type": "code",
   "execution_count": 2,
   "metadata": {
    "ExecuteTime": {
     "end_time": "2022-05-08T15:54:02.001299Z",
     "start_time": "2022-05-08T15:54:01.910651Z"
    }
   },
   "outputs": [
    {
     "name": "stdout",
     "output_type": "stream",
     "text": [
      "R101 R101_C4 R101_DC5 R101_FPN R50 R50_C4 R50_DC5 R50_FPN X101 "
     ]
    }
   ],
   "source": [
    "files = glob.glob(f'{REVAL_DIR}/*/*/rich_results.json')\n",
    "results = [load(f) for f in files]\n",
    "gb = lambda it, key: groupby(sorted(it, key=key), key)\n",
    "\n",
    "for key, group in gb(results, lambda x: x['model']):\n",
    "    print(key, end=' ')"
   ]
  },
  {
   "cell_type": "code",
   "execution_count": 3,
   "metadata": {
    "ExecuteTime": {
     "end_time": "2022-05-08T15:54:02.008159Z",
     "start_time": "2022-05-08T15:54:02.003049Z"
    }
   },
   "outputs": [
    {
     "data": {
      "text/plain": [
       "1098273"
      ]
     },
     "execution_count": 3,
     "metadata": {},
     "output_type": "execute_result"
    }
   ],
   "source": [
    "sum(int(r['elapsed']) for r in results)"
   ]
  },
  {
   "cell_type": "code",
   "execution_count": 4,
   "metadata": {
    "ExecuteTime": {
     "end_time": "2022-05-08T15:54:02.021699Z",
     "start_time": "2022-05-08T15:54:02.010100Z"
    }
   },
   "outputs": [],
   "source": [
    "def flatten(value):\n",
    "    if 'results' not in results:\n",
    "        return value\n",
    "    result = value.copy()\n",
    "    aps = {k: v for k, v in result['results']['bbox'].items() if '-' not in k}\n",
    "    result.update(aps)\n",
    "    del result['results']\n",
    "    return result\n",
    "# flatten(results[0])"
   ]
  },
  {
   "cell_type": "code",
   "execution_count": 5,
   "metadata": {
    "ExecuteTime": {
     "end_time": "2022-05-08T15:54:02.057826Z",
     "start_time": "2022-05-08T15:54:02.023131Z"
    }
   },
   "outputs": [
    {
     "data": {
      "text/html": [
       "<div>\n",
       "<style scoped>\n",
       "    .dataframe tbody tr th:only-of-type {\n",
       "        vertical-align: middle;\n",
       "    }\n",
       "\n",
       "    .dataframe tbody tr th {\n",
       "        vertical-align: top;\n",
       "    }\n",
       "\n",
       "    .dataframe thead th {\n",
       "        text-align: right;\n",
       "    }\n",
       "</style>\n",
       "<table border=\"1\" class=\"dataframe\">\n",
       "  <thead>\n",
       "    <tr style=\"text-align: right;\">\n",
       "      <th></th>\n",
       "      <th>quality</th>\n",
       "      <th>model</th>\n",
       "      <th>elapsed</th>\n",
       "      <th>tp</th>\n",
       "      <th>fp</th>\n",
       "      <th>ex</th>\n",
       "      <th>precision</th>\n",
       "      <th>recall</th>\n",
       "      <th>f1</th>\n",
       "      <th>min_score</th>\n",
       "      <th>score_T</th>\n",
       "      <th>AP</th>\n",
       "      <th>AP50</th>\n",
       "      <th>AP75</th>\n",
       "      <th>APs</th>\n",
       "      <th>APm</th>\n",
       "      <th>APl</th>\n",
       "    </tr>\n",
       "  </thead>\n",
       "  <tbody>\n",
       "    <tr>\n",
       "      <th>133</th>\n",
       "      <td>97</td>\n",
       "      <td>X101</td>\n",
       "      <td>2951.252516</td>\n",
       "      <td>24067</td>\n",
       "      <td>10415</td>\n",
       "      <td>2509</td>\n",
       "      <td>0.697958</td>\n",
       "      <td>0.662364</td>\n",
       "      <td>0.679696</td>\n",
       "      <td>0.500004</td>\n",
       "      <td>None</td>\n",
       "      <td>39.729067</td>\n",
       "      <td>57.164822</td>\n",
       "      <td>44.060526</td>\n",
       "      <td>22.527814</td>\n",
       "      <td>43.134439</td>\n",
       "      <td>52.148968</td>\n",
       "    </tr>\n",
       "    <tr>\n",
       "      <th>175</th>\n",
       "      <td>98</td>\n",
       "      <td>X101</td>\n",
       "      <td>2950.364302</td>\n",
       "      <td>24071</td>\n",
       "      <td>10454</td>\n",
       "      <td>2525</td>\n",
       "      <td>0.697205</td>\n",
       "      <td>0.662474</td>\n",
       "      <td>0.679396</td>\n",
       "      <td>0.500013</td>\n",
       "      <td>None</td>\n",
       "      <td>39.671298</td>\n",
       "      <td>56.972640</td>\n",
       "      <td>43.974836</td>\n",
       "      <td>22.536826</td>\n",
       "      <td>42.990778</td>\n",
       "      <td>52.161758</td>\n",
       "    </tr>\n",
       "    <tr>\n",
       "      <th>103</th>\n",
       "      <td>99</td>\n",
       "      <td>X101</td>\n",
       "      <td>2947.164570</td>\n",
       "      <td>24076</td>\n",
       "      <td>10449</td>\n",
       "      <td>2544</td>\n",
       "      <td>0.697350</td>\n",
       "      <td>0.662612</td>\n",
       "      <td>0.679537</td>\n",
       "      <td>0.500013</td>\n",
       "      <td>None</td>\n",
       "      <td>39.688723</td>\n",
       "      <td>57.002412</td>\n",
       "      <td>44.100901</td>\n",
       "      <td>22.536638</td>\n",
       "      <td>42.986291</td>\n",
       "      <td>52.165888</td>\n",
       "    </tr>\n",
       "    <tr>\n",
       "      <th>112</th>\n",
       "      <td>100</td>\n",
       "      <td>X101</td>\n",
       "      <td>2943.986512</td>\n",
       "      <td>24080</td>\n",
       "      <td>10452</td>\n",
       "      <td>2544</td>\n",
       "      <td>0.697324</td>\n",
       "      <td>0.662722</td>\n",
       "      <td>0.679583</td>\n",
       "      <td>0.500013</td>\n",
       "      <td>None</td>\n",
       "      <td>39.643490</td>\n",
       "      <td>56.998719</td>\n",
       "      <td>43.951267</td>\n",
       "      <td>22.560669</td>\n",
       "      <td>42.977207</td>\n",
       "      <td>52.128791</td>\n",
       "    </tr>\n",
       "    <tr>\n",
       "      <th>406</th>\n",
       "      <td>101</td>\n",
       "      <td>X101</td>\n",
       "      <td>2671.469082</td>\n",
       "      <td>24073</td>\n",
       "      <td>10472</td>\n",
       "      <td>2534</td>\n",
       "      <td>0.696859</td>\n",
       "      <td>0.662529</td>\n",
       "      <td>0.679261</td>\n",
       "      <td>0.500031</td>\n",
       "      <td>None</td>\n",
       "      <td>39.623151</td>\n",
       "      <td>56.986864</td>\n",
       "      <td>43.867873</td>\n",
       "      <td>22.578028</td>\n",
       "      <td>42.944338</td>\n",
       "      <td>52.106432</td>\n",
       "    </tr>\n",
       "  </tbody>\n",
       "</table>\n",
       "</div>"
      ],
      "text/plain": [
       "     quality model      elapsed     tp     fp    ex  precision    recall  \\\n",
       "133       97  X101  2951.252516  24067  10415  2509   0.697958  0.662364   \n",
       "175       98  X101  2950.364302  24071  10454  2525   0.697205  0.662474   \n",
       "103       99  X101  2947.164570  24076  10449  2544   0.697350  0.662612   \n",
       "112      100  X101  2943.986512  24080  10452  2544   0.697324  0.662722   \n",
       "406      101  X101  2671.469082  24073  10472  2534   0.696859  0.662529   \n",
       "\n",
       "           f1  min_score score_T         AP       AP50       AP75        APs  \\\n",
       "133  0.679696   0.500004    None  39.729067  57.164822  44.060526  22.527814   \n",
       "175  0.679396   0.500013    None  39.671298  56.972640  43.974836  22.536826   \n",
       "103  0.679537   0.500013    None  39.688723  57.002412  44.100901  22.536638   \n",
       "112  0.679583   0.500013    None  39.643490  56.998719  43.951267  22.560669   \n",
       "406  0.679261   0.500031    None  39.623151  56.986864  43.867873  22.578028   \n",
       "\n",
       "           APm        APl  \n",
       "133  43.134439  52.148968  \n",
       "175  42.990778  52.161758  \n",
       "103  42.986291  52.165888  \n",
       "112  42.977207  52.128791  \n",
       "406  42.944338  52.106432  "
      ]
     },
     "execution_count": 5,
     "metadata": {},
     "output_type": "execute_result"
    }
   ],
   "source": [
    "c_df = pd.DataFrame([flatten(r) for r in results]).sort_values(['model', 'quality'])\n",
    "c_df.tail()"
   ]
  },
  {
   "cell_type": "code",
   "execution_count": 6,
   "metadata": {
    "ExecuteTime": {
     "end_time": "2022-05-08T15:54:08.813094Z",
     "start_time": "2022-05-08T15:54:02.059162Z"
    },
    "scrolled": true
   },
   "outputs": [
    {
     "name": "stdout",
     "output_type": "stream",
     "text": [
      "Figure saved to 2021-03-01-Plot_reval_50_APs/01-APx-R101.png and 2021-03-01-Plot_reval_50_APs/01-APx-R101.pdf\n",
      "Figure saved to 2021-03-01-Plot_reval_50_APs/01-APx-R101_C4.png and 2021-03-01-Plot_reval_50_APs/01-APx-R101_C4.pdf\n",
      "Figure saved to 2021-03-01-Plot_reval_50_APs/01-APx-R101_DC5.png and 2021-03-01-Plot_reval_50_APs/01-APx-R101_DC5.pdf\n",
      "Figure saved to 2021-03-01-Plot_reval_50_APs/01-APx-R101_FPN.png and 2021-03-01-Plot_reval_50_APs/01-APx-R101_FPN.pdf\n",
      "Figure saved to 2021-03-01-Plot_reval_50_APs/01-APx-R50.png and 2021-03-01-Plot_reval_50_APs/01-APx-R50.pdf\n",
      "Figure saved to 2021-03-01-Plot_reval_50_APs/01-APx-R50_C4.png and 2021-03-01-Plot_reval_50_APs/01-APx-R50_C4.pdf\n",
      "Figure saved to 2021-03-01-Plot_reval_50_APs/01-APx-R50_DC5.png and 2021-03-01-Plot_reval_50_APs/01-APx-R50_DC5.pdf\n",
      "Figure saved to 2021-03-01-Plot_reval_50_APs/01-APx-R50_FPN.png and 2021-03-01-Plot_reval_50_APs/01-APx-R50_FPN.pdf\n",
      "Figure saved to 2021-03-01-Plot_reval_50_APs/01-APx-X101.png and 2021-03-01-Plot_reval_50_APs/01-APx-X101.pdf\n"
     ]
    }
   ],
   "source": [
    "for mc in c_df.model.unique():\n",
    "    ax = c_df[c_df.model == mc][['quality', 'AP', 'AP50', 'AP75']].plot(x='quality', ylim=YLIM_AP)\n",
    "    ax.set_title(mc)\n",
    "    save_plot(plt.gcf(), f\"2021-03-01-Plot_reval_50_APs/01-APx-{mc}\")\n",
    "    plt.close() # prevent show"
   ]
  },
  {
   "cell_type": "code",
   "execution_count": 7,
   "metadata": {
    "ExecuteTime": {
     "end_time": "2022-05-08T15:54:08.826043Z",
     "start_time": "2022-05-08T15:54:08.814702Z"
    }
   },
   "outputs": [
    {
     "data": {
      "text/html": [
       "<div>\n",
       "<style scoped>\n",
       "    .dataframe tbody tr th:only-of-type {\n",
       "        vertical-align: middle;\n",
       "    }\n",
       "\n",
       "    .dataframe tbody tr th {\n",
       "        vertical-align: top;\n",
       "    }\n",
       "\n",
       "    .dataframe thead th {\n",
       "        text-align: right;\n",
       "    }\n",
       "</style>\n",
       "<table border=\"1\" class=\"dataframe\">\n",
       "  <thead>\n",
       "    <tr style=\"text-align: right;\">\n",
       "      <th></th>\n",
       "      <th>AP</th>\n",
       "      <th>APl</th>\n",
       "      <th>APm</th>\n",
       "      <th>APs</th>\n",
       "    </tr>\n",
       "    <tr>\n",
       "      <th>model</th>\n",
       "      <th></th>\n",
       "      <th></th>\n",
       "      <th></th>\n",
       "      <th></th>\n",
       "    </tr>\n",
       "  </thead>\n",
       "  <tbody>\n",
       "    <tr>\n",
       "      <th>X101</th>\n",
       "      <td>31.750981</td>\n",
       "      <td>43.047924</td>\n",
       "      <td>34.626094</td>\n",
       "      <td>16.179287</td>\n",
       "    </tr>\n",
       "    <tr>\n",
       "      <th>R101_C4</th>\n",
       "      <td>31.151578</td>\n",
       "      <td>44.985597</td>\n",
       "      <td>34.656815</td>\n",
       "      <td>13.820500</td>\n",
       "    </tr>\n",
       "    <tr>\n",
       "      <th>R101_DC5</th>\n",
       "      <td>30.974756</td>\n",
       "      <td>43.514956</td>\n",
       "      <td>34.482016</td>\n",
       "      <td>14.274992</td>\n",
       "    </tr>\n",
       "    <tr>\n",
       "      <th>R101_FPN</th>\n",
       "      <td>30.613107</td>\n",
       "      <td>42.431434</td>\n",
       "      <td>33.527600</td>\n",
       "      <td>15.062925</td>\n",
       "    </tr>\n",
       "    <tr>\n",
       "      <th>R50_DC5</th>\n",
       "      <td>29.505881</td>\n",
       "      <td>41.424220</td>\n",
       "      <td>32.880312</td>\n",
       "      <td>13.507232</td>\n",
       "    </tr>\n",
       "    <tr>\n",
       "      <th>R50_FPN</th>\n",
       "      <td>29.069423</td>\n",
       "      <td>40.293432</td>\n",
       "      <td>31.866892</td>\n",
       "      <td>14.003250</td>\n",
       "    </tr>\n",
       "    <tr>\n",
       "      <th>R50_C4</th>\n",
       "      <td>28.736655</td>\n",
       "      <td>41.974839</td>\n",
       "      <td>31.737248</td>\n",
       "      <td>12.488986</td>\n",
       "    </tr>\n",
       "    <tr>\n",
       "      <th>R101</th>\n",
       "      <td>26.555697</td>\n",
       "      <td>37.686844</td>\n",
       "      <td>29.477352</td>\n",
       "      <td>10.716540</td>\n",
       "    </tr>\n",
       "    <tr>\n",
       "      <th>R50</th>\n",
       "      <td>24.831616</td>\n",
       "      <td>36.097596</td>\n",
       "      <td>27.414568</td>\n",
       "      <td>9.573735</td>\n",
       "    </tr>\n",
       "  </tbody>\n",
       "</table>\n",
       "</div>"
      ],
      "text/plain": [
       "                 AP        APl        APm        APs\n",
       "model                                               \n",
       "X101      31.750981  43.047924  34.626094  16.179287\n",
       "R101_C4   31.151578  44.985597  34.656815  13.820500\n",
       "R101_DC5  30.974756  43.514956  34.482016  14.274992\n",
       "R101_FPN  30.613107  42.431434  33.527600  15.062925\n",
       "R50_DC5   29.505881  41.424220  32.880312  13.507232\n",
       "R50_FPN   29.069423  40.293432  31.866892  14.003250\n",
       "R50_C4    28.736655  41.974839  31.737248  12.488986\n",
       "R101      26.555697  37.686844  29.477352  10.716540\n",
       "R50       24.831616  36.097596  27.414568   9.573735"
      ]
     },
     "execution_count": 7,
     "metadata": {},
     "output_type": "execute_result"
    }
   ],
   "source": [
    "avg_pivot = c_df.pivot_table(index='model', values=['AP', 'APl', 'APm', 'APs']).sort_values('AP', ascending=False)\n",
    "avg_pivot"
   ]
  },
  {
   "cell_type": "code",
   "execution_count": 8,
   "metadata": {
    "ExecuteTime": {
     "end_time": "2022-05-08T15:54:08.961053Z",
     "start_time": "2022-05-08T15:54:08.827895Z"
    }
   },
   "outputs": [],
   "source": [
    "def _save_plot(plot, name='', title=None):\n",
    "    if title:\n",
    "        plot.set_title(title)\n",
    "    fig = plot.get_figure()\n",
    "    fig.set_size_inches(4, 4)\n",
    "    if name:\n",
    "        fig.savefig(name)\n",
    "\n",
    "def plot_models(df, column, norm=False, **kwargs):\n",
    "    avg_pivot = df.pivot_table(index='model', values=[column]).sort_values(column, ascending=False)\n",
    "    c_pivot = df.pivot(index='quality', columns='model', values=column).reindex(columns=avg_pivot.index)\n",
    "    title = f'{column}: all models'\n",
    "    if norm:\n",
    "        c_pivot = c_pivot / c_pivot.max(axis=0)\n",
    "        title += ' (scaled)'\n",
    "    ax = c_pivot.plot(**kwargs)\n",
    "    ax.set_title(title)\n",
    "    return ax\n"
   ]
  },
  {
   "cell_type": "code",
   "execution_count": 9,
   "metadata": {
    "ExecuteTime": {
     "end_time": "2022-05-08T15:54:09.912847Z",
     "start_time": "2022-05-08T15:54:08.966556Z"
    }
   },
   "outputs": [
    {
     "name": "stdout",
     "output_type": "stream",
     "text": [
      "Figure saved to 2021-03-01-Plot_reval_50_APs/02-all_AP_raw.png and 2021-03-01-Plot_reval_50_APs/02-all_AP_raw.pdf\n"
     ]
    }
   ],
   "source": [
    "ax = plot_models(c_df, 'AP', ylim=None)\n",
    "# _save_plot(ax, 'all_AP_raw.pdf')\n",
    "save_plot(plt.gcf(), f\"2021-03-01-Plot_reval_50_APs/02-all_AP_raw\")\n",
    "plt.close()"
   ]
  },
  {
   "cell_type": "code",
   "execution_count": 10,
   "metadata": {
    "ExecuteTime": {
     "end_time": "2022-05-08T15:54:10.489642Z",
     "start_time": "2022-05-08T15:54:09.915259Z"
    }
   },
   "outputs": [
    {
     "name": "stdout",
     "output_type": "stream",
     "text": [
      "Figure saved to 2021-03-01-Plot_reval_50_APs/03-all_AP_scaled.png and 2021-03-01-Plot_reval_50_APs/03-all_AP_scaled.pdf\n"
     ]
    },
    {
     "data": {
      "image/png": "[encoded data removed]",
      "text/plain": [
       "<Figure size 288x288 with 1 Axes>"
      ]
     },
     "metadata": {
      "needs_background": "light"
     },
     "output_type": "display_data"
    }
   ],
   "source": [
    "ax = plot_models(c_df, 'AP', True)\n",
    "_save_plot(ax, 'all_AP_scaled.pdf')\n",
    "save_plot(plt.gcf(), f\"2021-03-01-Plot_reval_50_APs/03-all_AP_scaled\")\n",
    "plt.close()"
   ]
  },
  {
   "cell_type": "code",
   "execution_count": 11,
   "metadata": {
    "ExecuteTime": {
     "end_time": "2022-05-08T15:54:17.659461Z",
     "start_time": "2022-05-08T15:54:10.491075Z"
    }
   },
   "outputs": [
    {
     "name": "stdout",
     "output_type": "stream",
     "text": [
      "Figure saved to 2021-03-01-Plot_reval_50_APs/04-APsml-R101.png and 2021-03-01-Plot_reval_50_APs/04-APsml-R101.pdf\n",
      "Figure saved to 2021-03-01-Plot_reval_50_APs/04-APsml-R101_C4.png and 2021-03-01-Plot_reval_50_APs/04-APsml-R101_C4.pdf\n",
      "Figure saved to 2021-03-01-Plot_reval_50_APs/04-APsml-R101_DC5.png and 2021-03-01-Plot_reval_50_APs/04-APsml-R101_DC5.pdf\n",
      "Figure saved to 2021-03-01-Plot_reval_50_APs/04-APsml-R101_FPN.png and 2021-03-01-Plot_reval_50_APs/04-APsml-R101_FPN.pdf\n",
      "Figure saved to 2021-03-01-Plot_reval_50_APs/04-APsml-R50.png and 2021-03-01-Plot_reval_50_APs/04-APsml-R50.pdf\n",
      "Figure saved to 2021-03-01-Plot_reval_50_APs/04-APsml-R50_C4.png and 2021-03-01-Plot_reval_50_APs/04-APsml-R50_C4.pdf\n",
      "Figure saved to 2021-03-01-Plot_reval_50_APs/04-APsml-R50_DC5.png and 2021-03-01-Plot_reval_50_APs/04-APsml-R50_DC5.pdf\n",
      "Figure saved to 2021-03-01-Plot_reval_50_APs/04-APsml-R50_FPN.png and 2021-03-01-Plot_reval_50_APs/04-APsml-R50_FPN.pdf\n",
      "Figure saved to 2021-03-01-Plot_reval_50_APs/04-APsml-X101.png and 2021-03-01-Plot_reval_50_APs/04-APsml-X101.pdf\n"
     ]
    }
   ],
   "source": [
    "for mc in c_df.model.unique():\n",
    "    m_df = c_df[c_df.model == mc][['quality', 'APl', 'APm', 'APs']]\n",
    "    ax = m_df.plot(x='quality', ylim=YLIM_APL, color=COLOR_SML)\n",
    "    ax.set_title(mc)\n",
    "    save_plot(plt.gcf(), f\"2021-03-01-Plot_reval_50_APs/04-APsml-{mc}\")\n",
    "    plt.close()"
   ]
  },
  {
   "cell_type": "code",
   "execution_count": 12,
   "metadata": {
    "ExecuteTime": {
     "end_time": "2022-05-08T15:54:19.110700Z",
     "start_time": "2022-05-08T15:54:17.661165Z"
    }
   },
   "outputs": [
    {
     "name": "stdout",
     "output_type": "stream",
     "text": [
      "Figure saved to 2021-03-01-Plot_reval_50_APs/05-APsml-all.png and 2021-03-01-Plot_reval_50_APs/05-APsml-all.pdf\n"
     ]
    }
   ],
   "source": [
    "# no color=COLOR_SML -- this plot is too bad anyway\n",
    "pd.pivot(c_df, index='quality', columns='model', values=['APs', 'APm', 'APl']).plot(ylim=YLIM_APL);\n",
    "save_plot(plt.gcf(), f\"2021-03-01-Plot_reval_50_APs/05-APsml-all\")\n",
    "plt.close();"
   ]
  },
  {
   "cell_type": "code",
   "execution_count": 13,
   "metadata": {
    "ExecuteTime": {
     "end_time": "2022-05-08T15:54:19.608574Z",
     "start_time": "2022-05-08T15:54:19.112555Z"
    }
   },
   "outputs": [
    {
     "name": "stdout",
     "output_type": "stream",
     "text": [
      "Figure saved to 2021-03-01-Plot_reval_50_APs/06-APsml-allavg-scaled.png and 2021-03-01-Plot_reval_50_APs/06-APsml-allavg-scaled.pdf\n"
     ]
    }
   ],
   "source": [
    "mAPsml = c_df.groupby('quality').agg({x: 'mean' for x in reversed(('APs', 'APm', 'APl'))})\n",
    "mAPsml = mAPsml / mAPsml.max(axis=0)\n",
    "plot = mAPsml.plot(color=COLOR_SML)\n",
    "_save_plot(plot, 'average_APlms_scaled.pdf', 'Per-size AP (scaled)')\n",
    "save_plot(plt.gcf(), f\"2021-03-01-Plot_reval_50_APs/06-APsml-allavg-scaled\")\n",
    "plt.close()"
   ]
  },
  {
   "cell_type": "code",
   "execution_count": 14,
   "metadata": {
    "ExecuteTime": {
     "end_time": "2022-05-08T15:54:20.154380Z",
     "start_time": "2022-05-08T15:54:19.610223Z"
    }
   },
   "outputs": [
    {
     "name": "stdout",
     "output_type": "stream",
     "text": [
      "Figure saved to 2021-03-01-Plot_reval_50_APs/07-APsml-allavg-raw.png and 2021-03-01-Plot_reval_50_APs/07-APsml-allavg-raw.pdf\n"
     ]
    }
   ],
   "source": [
    "plot = c_df.groupby('quality').agg({x: 'mean' for x in reversed(('APs', 'APm', 'APl'))}).plot(ylim=YLIM_AP, color=COLOR_SML)\n",
    "_save_plot(plot, 'average_APlms.pdf', \"Per-size AP (large, medium, small)\")\n",
    "save_plot(plt.gcf(), f\"2021-03-01-Plot_reval_50_APs/07-APsml-allavg-raw\")\n",
    "plt.close()"
   ]
  },
  {
   "cell_type": "markdown",
   "metadata": {},
   "source": [
    "# \"Rich\" results, with TPR, PPV and F1\n",
    "Computed for Tc = 0.5, used to have wrong results (crowds, i.e. EX, counted as TP)"
   ]
  },
  {
   "cell_type": "code",
   "execution_count": 15,
   "metadata": {
    "ExecuteTime": {
     "end_time": "2022-05-08T15:54:20.208852Z",
     "start_time": "2022-05-08T15:54:20.155925Z"
    }
   },
   "outputs": [
    {
     "data": {
      "text/html": [
       "<div>\n",
       "<style scoped>\n",
       "    .dataframe tbody tr th:only-of-type {\n",
       "        vertical-align: middle;\n",
       "    }\n",
       "\n",
       "    .dataframe tbody tr th {\n",
       "        vertical-align: top;\n",
       "    }\n",
       "\n",
       "    .dataframe thead th {\n",
       "        text-align: right;\n",
       "    }\n",
       "</style>\n",
       "<table border=\"1\" class=\"dataframe\">\n",
       "  <thead>\n",
       "    <tr style=\"text-align: right;\">\n",
       "      <th></th>\n",
       "      <th>quality</th>\n",
       "      <th>model</th>\n",
       "      <th>elapsed</th>\n",
       "      <th>tp</th>\n",
       "      <th>fp</th>\n",
       "      <th>ex</th>\n",
       "      <th>precision</th>\n",
       "      <th>recall</th>\n",
       "      <th>f1</th>\n",
       "      <th>min_score</th>\n",
       "      <th>score_T</th>\n",
       "      <th>AP</th>\n",
       "      <th>AP50</th>\n",
       "      <th>AP75</th>\n",
       "      <th>APs</th>\n",
       "      <th>APm</th>\n",
       "      <th>APl</th>\n",
       "    </tr>\n",
       "  </thead>\n",
       "  <tbody>\n",
       "    <tr>\n",
       "      <th>133</th>\n",
       "      <td>97</td>\n",
       "      <td>X101</td>\n",
       "      <td>2951.252516</td>\n",
       "      <td>24067</td>\n",
       "      <td>10415</td>\n",
       "      <td>2509</td>\n",
       "      <td>0.697958</td>\n",
       "      <td>0.662364</td>\n",
       "      <td>0.679696</td>\n",
       "      <td>0.500004</td>\n",
       "      <td>None</td>\n",
       "      <td>39.729067</td>\n",
       "      <td>57.164822</td>\n",
       "      <td>44.060526</td>\n",
       "      <td>22.527814</td>\n",
       "      <td>43.134439</td>\n",
       "      <td>52.148968</td>\n",
       "    </tr>\n",
       "    <tr>\n",
       "      <th>175</th>\n",
       "      <td>98</td>\n",
       "      <td>X101</td>\n",
       "      <td>2950.364302</td>\n",
       "      <td>24071</td>\n",
       "      <td>10454</td>\n",
       "      <td>2525</td>\n",
       "      <td>0.697205</td>\n",
       "      <td>0.662474</td>\n",
       "      <td>0.679396</td>\n",
       "      <td>0.500013</td>\n",
       "      <td>None</td>\n",
       "      <td>39.671298</td>\n",
       "      <td>56.972640</td>\n",
       "      <td>43.974836</td>\n",
       "      <td>22.536826</td>\n",
       "      <td>42.990778</td>\n",
       "      <td>52.161758</td>\n",
       "    </tr>\n",
       "    <tr>\n",
       "      <th>103</th>\n",
       "      <td>99</td>\n",
       "      <td>X101</td>\n",
       "      <td>2947.164570</td>\n",
       "      <td>24076</td>\n",
       "      <td>10449</td>\n",
       "      <td>2544</td>\n",
       "      <td>0.697350</td>\n",
       "      <td>0.662612</td>\n",
       "      <td>0.679537</td>\n",
       "      <td>0.500013</td>\n",
       "      <td>None</td>\n",
       "      <td>39.688723</td>\n",
       "      <td>57.002412</td>\n",
       "      <td>44.100901</td>\n",
       "      <td>22.536638</td>\n",
       "      <td>42.986291</td>\n",
       "      <td>52.165888</td>\n",
       "    </tr>\n",
       "    <tr>\n",
       "      <th>112</th>\n",
       "      <td>100</td>\n",
       "      <td>X101</td>\n",
       "      <td>2943.986512</td>\n",
       "      <td>24080</td>\n",
       "      <td>10452</td>\n",
       "      <td>2544</td>\n",
       "      <td>0.697324</td>\n",
       "      <td>0.662722</td>\n",
       "      <td>0.679583</td>\n",
       "      <td>0.500013</td>\n",
       "      <td>None</td>\n",
       "      <td>39.643490</td>\n",
       "      <td>56.998719</td>\n",
       "      <td>43.951267</td>\n",
       "      <td>22.560669</td>\n",
       "      <td>42.977207</td>\n",
       "      <td>52.128791</td>\n",
       "    </tr>\n",
       "    <tr>\n",
       "      <th>406</th>\n",
       "      <td>101</td>\n",
       "      <td>X101</td>\n",
       "      <td>2671.469082</td>\n",
       "      <td>24073</td>\n",
       "      <td>10472</td>\n",
       "      <td>2534</td>\n",
       "      <td>0.696859</td>\n",
       "      <td>0.662529</td>\n",
       "      <td>0.679261</td>\n",
       "      <td>0.500031</td>\n",
       "      <td>None</td>\n",
       "      <td>39.623151</td>\n",
       "      <td>56.986864</td>\n",
       "      <td>43.867873</td>\n",
       "      <td>22.578028</td>\n",
       "      <td>42.944338</td>\n",
       "      <td>52.106432</td>\n",
       "    </tr>\n",
       "  </tbody>\n",
       "</table>\n",
       "</div>"
      ],
      "text/plain": [
       "     quality model      elapsed     tp     fp    ex  precision    recall  \\\n",
       "133       97  X101  2951.252516  24067  10415  2509   0.697958  0.662364   \n",
       "175       98  X101  2950.364302  24071  10454  2525   0.697205  0.662474   \n",
       "103       99  X101  2947.164570  24076  10449  2544   0.697350  0.662612   \n",
       "112      100  X101  2943.986512  24080  10452  2544   0.697324  0.662722   \n",
       "406      101  X101  2671.469082  24073  10472  2534   0.696859  0.662529   \n",
       "\n",
       "           f1  min_score score_T         AP       AP50       AP75        APs  \\\n",
       "133  0.679696   0.500004    None  39.729067  57.164822  44.060526  22.527814   \n",
       "175  0.679396   0.500013    None  39.671298  56.972640  43.974836  22.536826   \n",
       "103  0.679537   0.500013    None  39.688723  57.002412  44.100901  22.536638   \n",
       "112  0.679583   0.500013    None  39.643490  56.998719  43.951267  22.560669   \n",
       "406  0.679261   0.500031    None  39.623151  56.986864  43.867873  22.578028   \n",
       "\n",
       "           APm        APl  \n",
       "133  43.134439  52.148968  \n",
       "175  42.990778  52.161758  \n",
       "103  42.986291  52.165888  \n",
       "112  42.977207  52.128791  \n",
       "406  42.944338  52.106432  "
      ]
     },
     "execution_count": 15,
     "metadata": {},
     "output_type": "execute_result"
    }
   ],
   "source": [
    "rich_files = glob.glob(f'{REVAL_DIR}/*/*/rich_results.json')\n",
    "\n",
    "df = pd.DataFrame(load(f) for f in rich_files).sort_values(['model', 'quality'])\n",
    "df.tail()"
   ]
  },
  {
   "cell_type": "code",
   "execution_count": 16,
   "metadata": {
    "ExecuteTime": {
     "end_time": "2022-05-08T15:54:24.882347Z",
     "start_time": "2022-05-08T15:54:20.210329Z"
    }
   },
   "outputs": [
    {
     "name": "stdout",
     "output_type": "stream",
     "text": [
      "Figure saved to 2021-03-01-Plot_reval_50_APs/08-PRF1-R101.png and 2021-03-01-Plot_reval_50_APs/08-PRF1-R101.pdf\n",
      "Figure saved to 2021-03-01-Plot_reval_50_APs/08-PRF1-R101_C4.png and 2021-03-01-Plot_reval_50_APs/08-PRF1-R101_C4.pdf\n",
      "Figure saved to 2021-03-01-Plot_reval_50_APs/08-PRF1-R101_DC5.png and 2021-03-01-Plot_reval_50_APs/08-PRF1-R101_DC5.pdf\n",
      "Figure saved to 2021-03-01-Plot_reval_50_APs/08-PRF1-R101_FPN.png and 2021-03-01-Plot_reval_50_APs/08-PRF1-R101_FPN.pdf\n",
      "Figure saved to 2021-03-01-Plot_reval_50_APs/08-PRF1-R50.png and 2021-03-01-Plot_reval_50_APs/08-PRF1-R50.pdf\n",
      "Figure saved to 2021-03-01-Plot_reval_50_APs/08-PRF1-R50_C4.png and 2021-03-01-Plot_reval_50_APs/08-PRF1-R50_C4.pdf\n",
      "Figure saved to 2021-03-01-Plot_reval_50_APs/08-PRF1-R50_DC5.png and 2021-03-01-Plot_reval_50_APs/08-PRF1-R50_DC5.pdf\n",
      "Figure saved to 2021-03-01-Plot_reval_50_APs/08-PRF1-R50_FPN.png and 2021-03-01-Plot_reval_50_APs/08-PRF1-R50_FPN.pdf\n",
      "Figure saved to 2021-03-01-Plot_reval_50_APs/08-PRF1-X101.png and 2021-03-01-Plot_reval_50_APs/08-PRF1-X101.pdf\n"
     ]
    }
   ],
   "source": [
    "for mc in df.model.unique():\n",
    "    ax = df[df.model == mc][['quality', 'precision', 'recall', 'f1']].plot(x='quality', ylim=YLIM_F1)\n",
    "    ax.set_title(mc)\n",
    "    _save_plot(ax, f'{mc}_prf1.pdf')\n",
    "    save_plot(plt.gcf(), f\"2021-03-01-Plot_reval_50_APs/08-PRF1-{mc}\")\n",
    "    plt.close()"
   ]
  },
  {
   "cell_type": "code",
   "execution_count": 17,
   "metadata": {
    "ExecuteTime": {
     "end_time": "2022-05-08T15:54:25.511515Z",
     "start_time": "2022-05-08T15:54:24.883960Z"
    }
   },
   "outputs": [
    {
     "name": "stdout",
     "output_type": "stream",
     "text": [
      "Figure saved to 2021-03-01-Plot_reval_50_APs/09-all_PPV_raw.png and 2021-03-01-Plot_reval_50_APs/09-all_PPV_raw.pdf\n"
     ]
    }
   ],
   "source": [
    "ax = plot_models(df, 'precision', ylim=None)\n",
    "_save_plot(ax, 'all_PPV_raw.pdf')\n",
    "save_plot(plt.gcf(), f\"2021-03-01-Plot_reval_50_APs/09-all_PPV_raw\")\n",
    "plt.close()"
   ]
  },
  {
   "cell_type": "code",
   "execution_count": 18,
   "metadata": {
    "ExecuteTime": {
     "end_time": "2022-05-08T15:54:26.040680Z",
     "start_time": "2022-05-08T15:54:25.513020Z"
    }
   },
   "outputs": [
    {
     "name": "stdout",
     "output_type": "stream",
     "text": [
      "Figure saved to 2021-03-01-Plot_reval_50_APs/10-all_TPR_raw.png and 2021-03-01-Plot_reval_50_APs/10-all_TPR_raw.pdf\n"
     ]
    }
   ],
   "source": [
    "ax = plot_models(df, 'recall', ylim=YLIM_F1)\n",
    "_save_plot(ax, 'all_TPR_raw.pdf')\n",
    "save_plot(plt.gcf(), f\"2021-03-01-Plot_reval_50_APs/10-all_TPR_raw\")\n",
    "plt.close()"
   ]
  },
  {
   "cell_type": "code",
   "execution_count": 19,
   "metadata": {
    "ExecuteTime": {
     "end_time": "2022-05-08T15:54:26.552634Z",
     "start_time": "2022-05-08T15:54:26.042094Z"
    }
   },
   "outputs": [
    {
     "name": "stdout",
     "output_type": "stream",
     "text": [
      "Figure saved to 2021-03-01-Plot_reval_50_APs/11-all_F1_raw.png and 2021-03-01-Plot_reval_50_APs/11-all_F1_raw.pdf\n"
     ]
    }
   ],
   "source": [
    "ax = plot_models(df, 'f1') # ylim=YLIM_F1\n",
    "_save_plot(ax, 'all_F1_raw.pdf')\n",
    "save_plot(plt.gcf(), f\"2021-03-01-Plot_reval_50_APs/11-all_F1_raw\")\n",
    "plt.close()"
   ]
  },
  {
   "cell_type": "markdown",
   "metadata": {},
   "source": [
    "# Structural similarity (SSIM)"
   ]
  },
  {
   "cell_type": "code",
   "execution_count": 20,
   "metadata": {
    "ExecuteTime": {
     "end_time": "2022-05-08T15:54:26.565825Z",
     "start_time": "2022-05-08T15:54:26.554634Z"
    }
   },
   "outputs": [
    {
     "data": {
      "text/html": [
       "<div>\n",
       "<style scoped>\n",
       "    .dataframe tbody tr th:only-of-type {\n",
       "        vertical-align: middle;\n",
       "    }\n",
       "\n",
       "    .dataframe tbody tr th {\n",
       "        vertical-align: top;\n",
       "    }\n",
       "\n",
       "    .dataframe thead th {\n",
       "        text-align: right;\n",
       "    }\n",
       "</style>\n",
       "<table border=\"1\" class=\"dataframe\">\n",
       "  <thead>\n",
       "    <tr style=\"text-align: right;\">\n",
       "      <th></th>\n",
       "      <th>quality</th>\n",
       "      <th>mean_squared_error</th>\n",
       "      <th>peak_signal_noise_ratio</th>\n",
       "      <th>structural_similarity</th>\n",
       "      <th>filesize</th>\n",
       "      <th>B_per_kpx</th>\n",
       "    </tr>\n",
       "  </thead>\n",
       "  <tbody>\n",
       "    <tr>\n",
       "      <th>0</th>\n",
       "      <td>1</td>\n",
       "      <td>536.18</td>\n",
       "      <td>21.205</td>\n",
       "      <td>0.539</td>\n",
       "      <td>7203.782</td>\n",
       "      <td>9.291</td>\n",
       "    </tr>\n",
       "    <tr>\n",
       "      <th>1</th>\n",
       "      <td>2</td>\n",
       "      <td>535.91</td>\n",
       "      <td>21.207</td>\n",
       "      <td>0.539</td>\n",
       "      <td>7207.225</td>\n",
       "      <td>9.295</td>\n",
       "    </tr>\n",
       "  </tbody>\n",
       "</table>\n",
       "</div>"
      ],
      "text/plain": [
       "   quality  mean_squared_error  peak_signal_noise_ratio  \\\n",
       "0        1              536.18                   21.205   \n",
       "1        2              535.91                   21.207   \n",
       "\n",
       "   structural_similarity  filesize  B_per_kpx  \n",
       "0                  0.539  7203.782      9.291  \n",
       "1                  0.539  7207.225      9.295  "
      ]
     },
     "execution_count": 20,
     "metadata": {},
     "output_type": "execute_result"
    }
   ],
   "source": [
    "qdf = pd.read_csv('../data/val2017_means_per_Q.csv')\n",
    "qdf.head(2)"
   ]
  },
  {
   "cell_type": "code",
   "execution_count": 21,
   "metadata": {
    "ExecuteTime": {
     "end_time": "2022-05-08T15:54:26.582645Z",
     "start_time": "2022-05-08T15:54:26.567645Z"
    }
   },
   "outputs": [
    {
     "data": {
      "text/html": [
       "<div>\n",
       "<style scoped>\n",
       "    .dataframe tbody tr th:only-of-type {\n",
       "        vertical-align: middle;\n",
       "    }\n",
       "\n",
       "    .dataframe tbody tr th {\n",
       "        vertical-align: top;\n",
       "    }\n",
       "\n",
       "    .dataframe thead th {\n",
       "        text-align: right;\n",
       "    }\n",
       "</style>\n",
       "<table border=\"1\" class=\"dataframe\">\n",
       "  <thead>\n",
       "    <tr style=\"text-align: right;\">\n",
       "      <th></th>\n",
       "      <th>elapsed</th>\n",
       "      <th>tp</th>\n",
       "      <th>fp</th>\n",
       "      <th>ex</th>\n",
       "      <th>precision</th>\n",
       "      <th>recall</th>\n",
       "      <th>f1</th>\n",
       "      <th>min_score</th>\n",
       "      <th>AP</th>\n",
       "      <th>AP50</th>\n",
       "      <th>AP75</th>\n",
       "      <th>APs</th>\n",
       "      <th>APm</th>\n",
       "      <th>APl</th>\n",
       "    </tr>\n",
       "    <tr>\n",
       "      <th>quality</th>\n",
       "      <th></th>\n",
       "      <th></th>\n",
       "      <th></th>\n",
       "      <th></th>\n",
       "      <th></th>\n",
       "      <th></th>\n",
       "      <th></th>\n",
       "      <th></th>\n",
       "      <th></th>\n",
       "      <th></th>\n",
       "      <th></th>\n",
       "      <th></th>\n",
       "      <th></th>\n",
       "      <th></th>\n",
       "    </tr>\n",
       "  </thead>\n",
       "  <tbody>\n",
       "    <tr>\n",
       "      <th>100</th>\n",
       "      <td>1167.795457</td>\n",
       "      <td>22732.222222</td>\n",
       "      <td>12496.888889</td>\n",
       "      <td>3080.555556</td>\n",
       "      <td>0.664482</td>\n",
       "      <td>0.625629</td>\n",
       "      <td>0.635651</td>\n",
       "      <td>0.500007</td>\n",
       "      <td>36.601524</td>\n",
       "      <td>53.349214</td>\n",
       "      <td>40.400493</td>\n",
       "      <td>18.416302</td>\n",
       "      <td>40.475657</td>\n",
       "      <td>50.006381</td>\n",
       "    </tr>\n",
       "    <tr>\n",
       "      <th>101</th>\n",
       "      <td>1090.967105</td>\n",
       "      <td>22744.333333</td>\n",
       "      <td>12510.444444</td>\n",
       "      <td>3084.888889</td>\n",
       "      <td>0.664255</td>\n",
       "      <td>0.625962</td>\n",
       "      <td>0.635728</td>\n",
       "      <td>0.500012</td>\n",
       "      <td>36.603540</td>\n",
       "      <td>53.371720</td>\n",
       "      <td>40.367561</td>\n",
       "      <td>18.458267</td>\n",
       "      <td>40.472502</td>\n",
       "      <td>50.037721</td>\n",
       "    </tr>\n",
       "  </tbody>\n",
       "</table>\n",
       "</div>"
      ],
      "text/plain": [
       "             elapsed            tp            fp           ex  precision  \\\n",
       "quality                                                                    \n",
       "100      1167.795457  22732.222222  12496.888889  3080.555556   0.664482   \n",
       "101      1090.967105  22744.333333  12510.444444  3084.888889   0.664255   \n",
       "\n",
       "           recall        f1  min_score         AP       AP50       AP75  \\\n",
       "quality                                                                   \n",
       "100      0.625629  0.635651   0.500007  36.601524  53.349214  40.400493   \n",
       "101      0.625962  0.635728   0.500012  36.603540  53.371720  40.367561   \n",
       "\n",
       "               APs        APm        APl  \n",
       "quality                                   \n",
       "100      18.416302  40.475657  50.006381  \n",
       "101      18.458267  40.472502  50.037721  "
      ]
     },
     "execution_count": 21,
     "metadata": {},
     "output_type": "execute_result"
    }
   ],
   "source": [
    "avgdf = df.groupby('quality').agg('mean')\n",
    "avgdf.tail(2)"
   ]
  },
  {
   "cell_type": "code",
   "execution_count": 22,
   "metadata": {
    "ExecuteTime": {
     "end_time": "2022-05-08T15:54:26.588083Z",
     "start_time": "2022-05-08T15:54:26.584213Z"
    }
   },
   "outputs": [],
   "source": [
    "rich = pd.merge(avgdf, qdf, left_index=True, right_index=True)"
   ]
  },
  {
   "cell_type": "code",
   "execution_count": 23,
   "metadata": {
    "ExecuteTime": {
     "end_time": "2022-05-08T15:54:26.982865Z",
     "start_time": "2022-05-08T15:54:26.589394Z"
    }
   },
   "outputs": [
    {
     "name": "stdout",
     "output_type": "stream",
     "text": [
      "Figure saved to 2021-03-01-Plot_reval_50_APs/12-recall_by_ssim.png and 2021-03-01-Plot_reval_50_APs/12-recall_by_ssim.pdf\n"
     ]
    }
   ],
   "source": [
    "ax = rich.plot(x='structural_similarity', y='recall', xlim=(0, 1), ylim=(0, 1))\n",
    "_save_plot(ax, 'recall_by_ssim.pdf')\n",
    "save_plot(plt.gcf(), f\"2021-03-01-Plot_reval_50_APs/12-recall_by_ssim\")\n",
    "plt.close()"
   ]
  },
  {
   "cell_type": "code",
   "execution_count": 24,
   "metadata": {
    "ExecuteTime": {
     "end_time": "2022-05-08T15:54:27.476399Z",
     "start_time": "2022-05-08T15:54:26.984332Z"
    }
   },
   "outputs": [
    {
     "name": "stdout",
     "output_type": "stream",
     "text": [
      "Figure saved to 2021-03-01-Plot_reval_50_APs/13-precision_by_ssim.png and 2021-03-01-Plot_reval_50_APs/13-precision_by_ssim.pdf\n"
     ]
    }
   ],
   "source": [
    "ax = rich.plot(x='structural_similarity', y='precision')#, xlim=(0, 1), ylim=(0, 1))\n",
    "_save_plot(ax, '')\n",
    "save_plot(plt.gcf(), f\"2021-03-01-Plot_reval_50_APs/13-precision_by_ssim\")\n",
    "plt.close()"
   ]
  },
  {
   "cell_type": "code",
   "execution_count": 25,
   "metadata": {
    "ExecuteTime": {
     "end_time": "2022-05-08T15:54:27.945282Z",
     "start_time": "2022-05-08T15:54:27.478552Z"
    }
   },
   "outputs": [
    {
     "name": "stdout",
     "output_type": "stream",
     "text": [
      "Figure saved to 2021-03-01-Plot_reval_50_APs/14-F1_by_ssim.png and 2021-03-01-Plot_reval_50_APs/14-F1_by_ssim.pdf\n"
     ]
    }
   ],
   "source": [
    "ax = rich.plot(x='structural_similarity', y='f1')#, xlim=(0, 1), ylim=(0, 1))\n",
    "_save_plot(ax, '')\n",
    "save_plot(plt.gcf(), f\"2021-03-01-Plot_reval_50_APs/14-F1_by_ssim\")\n",
    "plt.close()"
   ]
  },
  {
   "cell_type": "code",
   "execution_count": 26,
   "metadata": {
    "ExecuteTime": {
     "end_time": "2022-05-08T15:54:28.382076Z",
     "start_time": "2022-05-08T15:54:27.947047Z"
    }
   },
   "outputs": [
    {
     "name": "stdout",
     "output_type": "stream",
     "text": [
      "Figure saved to 2021-03-01-Plot_reval_50_APs/15-SSIM_by_quality.png and 2021-03-01-Plot_reval_50_APs/15-SSIM_by_quality.pdf\n"
     ]
    }
   ],
   "source": [
    "ax = rich.plot(x='quality', y='structural_similarity', ylim=(0, 1))\n",
    "# , xlabel=\"jakość JPEG (Q)\", ylabel=\"wartość SSIM\", legend=False\n",
    "_save_plot(ax, 'SSIM_by_q.pdf')\n",
    "save_plot(plt.gcf(), f\"2021-03-01-Plot_reval_50_APs/15-SSIM_by_quality\")\n",
    "plt.close()"
   ]
  },
  {
   "cell_type": "code",
   "execution_count": 27,
   "metadata": {
    "ExecuteTime": {
     "end_time": "2022-05-08T15:54:28.805639Z",
     "start_time": "2022-05-08T15:54:28.383563Z"
    }
   },
   "outputs": [
    {
     "name": "stdout",
     "output_type": "stream",
     "text": [
      "Figure saved to 2021-03-01-Plot_reval_50_APs/16-pr_by_SSIM.png and 2021-03-01-Plot_reval_50_APs/16-pr_by_SSIM.pdf\n"
     ]
    }
   ],
   "source": [
    "ax = rich[['structural_similarity', 'precision', 'recall']].plot(x='structural_similarity', xlim=(0, 1), ylim=(0, 1))\n",
    "_save_plot(ax, 'pr_by_SSIM.pdf')\n",
    "save_plot(plt.gcf(), f\"2021-03-01-Plot_reval_50_APs/16-pr_by_SSIM\")\n",
    "plt.close()"
   ]
  },
  {
   "cell_type": "code",
   "execution_count": 28,
   "metadata": {
    "ExecuteTime": {
     "end_time": "2022-05-08T15:54:29.195437Z",
     "start_time": "2022-05-08T15:54:28.808572Z"
    }
   },
   "outputs": [
    {
     "name": "stdout",
     "output_type": "stream",
     "text": [
      "Figure saved to 2021-03-01-Plot_reval_50_APs/17-avgAP_by_quality.png and 2021-03-01-Plot_reval_50_APs/17-avgAP_by_quality.pdf\n"
     ]
    }
   ],
   "source": [
    "ax = rich.plot(x='quality', y='AP', ylim=(0, 100), xlim=(0, 100))\n",
    "_save_plot(ax, '')\n",
    "save_plot(plt.gcf(), f\"2021-03-01-Plot_reval_50_APs/17-avgAP_by_quality\")\n",
    "plt.close()"
   ]
  },
  {
   "cell_type": "code",
   "execution_count": 29,
   "metadata": {
    "ExecuteTime": {
     "end_time": "2022-05-08T15:54:29.573874Z",
     "start_time": "2022-05-08T15:54:29.196855Z"
    }
   },
   "outputs": [
    {
     "name": "stdout",
     "output_type": "stream",
     "text": [
      "Figure saved to 2021-03-01-Plot_reval_50_APs/18-avgAP_by_SSIM.png and 2021-03-01-Plot_reval_50_APs/18-avgAP_by_SSIM.pdf\n"
     ]
    }
   ],
   "source": [
    "ax = rich.plot(x='structural_similarity', y='AP', xlim=(0, 1), ylim=(0, 100))\n",
    "_save_plot(ax, 'AP_by_SSIM.pdf')\n",
    "save_plot(plt.gcf(), f\"2021-03-01-Plot_reval_50_APs/18-avgAP_by_SSIM\")\n",
    "plt.close()"
   ]
  },
  {
   "cell_type": "markdown",
   "metadata": {},
   "source": [
    "# Tables"
   ]
  },
  {
   "cell_type": "code",
   "execution_count": 30,
   "metadata": {
    "ExecuteTime": {
     "end_time": "2022-05-08T15:54:29.587897Z",
     "start_time": "2022-05-08T15:54:29.576061Z"
    }
   },
   "outputs": [
    {
     "data": {
      "text/html": [
       "<div>\n",
       "<style scoped>\n",
       "    .dataframe tbody tr th:only-of-type {\n",
       "        vertical-align: middle;\n",
       "    }\n",
       "\n",
       "    .dataframe tbody tr th {\n",
       "        vertical-align: top;\n",
       "    }\n",
       "\n",
       "    .dataframe thead th {\n",
       "        text-align: right;\n",
       "    }\n",
       "</style>\n",
       "<table border=\"1\" class=\"dataframe\">\n",
       "  <thead>\n",
       "    <tr style=\"text-align: right;\">\n",
       "      <th></th>\n",
       "      <th>index</th>\n",
       "      <th>AP</th>\n",
       "      <th>APl</th>\n",
       "      <th>APm</th>\n",
       "      <th>APs</th>\n",
       "    </tr>\n",
       "  </thead>\n",
       "  <tbody>\n",
       "    <tr>\n",
       "      <th>0</th>\n",
       "      <td>96</td>\n",
       "      <td>36.6</td>\n",
       "      <td>49.9</td>\n",
       "      <td>40.4</td>\n",
       "      <td>18.4</td>\n",
       "    </tr>\n",
       "    <tr>\n",
       "      <th>1</th>\n",
       "      <td>90</td>\n",
       "      <td>36.3</td>\n",
       "      <td>49.9</td>\n",
       "      <td>40.1</td>\n",
       "      <td>18.1</td>\n",
       "    </tr>\n",
       "    <tr>\n",
       "      <th>2</th>\n",
       "      <td>80</td>\n",
       "      <td>35.5</td>\n",
       "      <td>49.3</td>\n",
       "      <td>39.1</td>\n",
       "      <td>17.1</td>\n",
       "    </tr>\n",
       "    <tr>\n",
       "      <th>3</th>\n",
       "      <td>60</td>\n",
       "      <td>34.1</td>\n",
       "      <td>47.9</td>\n",
       "      <td>37.5</td>\n",
       "      <td>15.5</td>\n",
       "    </tr>\n",
       "    <tr>\n",
       "      <th>4</th>\n",
       "      <td>40</td>\n",
       "      <td>32.2</td>\n",
       "      <td>46.0</td>\n",
       "      <td>35.5</td>\n",
       "      <td>14.0</td>\n",
       "    </tr>\n",
       "    <tr>\n",
       "      <th>5</th>\n",
       "      <td>20</td>\n",
       "      <td>24.5</td>\n",
       "      <td>36.1</td>\n",
       "      <td>27.2</td>\n",
       "      <td>9.8</td>\n",
       "    </tr>\n",
       "  </tbody>\n",
       "</table>\n",
       "</div>"
      ],
      "text/plain": [
       "   index    AP   APl   APm   APs\n",
       "0     96  36.6  49.9  40.4  18.4\n",
       "1     90  36.3  49.9  40.1  18.1\n",
       "2     80  35.5  49.3  39.1  17.1\n",
       "3     60  34.1  47.9  37.5  15.5\n",
       "4     40  32.2  46.0  35.5  14.0\n",
       "5     20  24.5  36.1  27.2   9.8"
      ]
     },
     "execution_count": 30,
     "metadata": {},
     "output_type": "execute_result"
    }
   ],
   "source": [
    "rich.loc[[96, 90, 80, 60, 40, 20], ['AP', 'APl', 'APm', 'APs']].round(1).reset_index()"
   ]
  },
  {
   "cell_type": "code",
   "execution_count": 31,
   "metadata": {
    "ExecuteTime": {
     "end_time": "2022-05-08T15:54:29.710601Z",
     "start_time": "2022-05-08T15:54:29.589596Z"
    }
   },
   "outputs": [
    {
     "name": "stdout",
     "output_type": "stream",
     "text": [
      "\\begin{tabular}{lrrrrrrrrrr}\n",
      "\\toprule\n",
      "{} &    AP &  AP50 &  AP75 &   APl &   APm &   APs &   TPR &   PPV &  SSIM &   size \\\\\n",
      "quality &       &       &       &       &       &       &       &       &       &        \\\\\n",
      "\\midrule\n",
      "96      &  36.5 &  53.3 &  40.3 &  49.9 &  40.4 &  18.3 &  62.5 &  66.5 &  99.9 &  167.1 \\\\\n",
      "90      &  36.3 &  52.9 &  39.9 &  49.9 &  40.0 &  18.0 &  62.0 &  66.8 &  97.1 &  107.0 \\\\\n",
      "80      &  35.5 &  51.9 &  39.0 &  49.2 &  39.0 &  17.0 &  60.8 &  67.2 &  93.4 &   74.6 \\\\\n",
      "60      &  34.0 &  50.0 &  37.4 &  48.0 &  37.4 &  15.4 &  58.8 &  67.1 &  89.5 &   46.5 \\\\\n",
      "40      &  32.1 &  47.6 &  35.1 &  46.0 &  35.4 &  14.0 &  56.5 &  66.7 &  86.3 &   33.9 \\\\\n",
      "20      &  23.5 &  36.3 &  25.4 &  34.4 &  26.3 &   9.4 &  46.6 &  63.4 &  80.5 &   21.3 \\\\\n",
      "10      &   8.8 &  14.4 &   9.2 &  12.9 &  10.1 &   3.4 &  22.7 &  54.3 &  72.6 &   13.5 \\\\\n",
      "\\bottomrule\n",
      "\\end{tabular}\n",
      "\n"
     ]
    },
    {
     "name": "stderr",
     "output_type": "stream",
     "text": [
      "/tmp/ipykernel_30958/700065347.py:14: FutureWarning: In future versions `DataFrame.to_latex` is expected to utilise the base implementation of `Styler.to_latex` for formatting and rendering. The arguments signature may therefore change. It is recommended instead to use `DataFrame.style.to_latex` which also contains additional functionality.\n",
      "  .to_latex()\n"
     ]
    }
   ],
   "source": [
    "rich['PPV'] = rich.precision * 100\n",
    "rich['TPR'] = rich.recall * 100\n",
    "rich['SSIM'] = rich.structural_similarity * 100\n",
    "rich['size'] = rich.filesize / 1024\n",
    "print(rich\n",
    "     .replace('precision', 100 * rich.precision)\n",
    "     .set_index('quality')\n",
    "     .loc[\n",
    "         [96, 90, 80, 60, 40, 20, 10],\n",
    "         ['AP', 'AP50', 'AP75', 'APl', 'APm', 'APs', 'TPR', 'PPV', 'SSIM', 'size']\n",
    "     ]\n",
    "     #.reset_index()\n",
    "     .round(1)\n",
    "     .to_latex()\n",
    ")"
   ]
  }
 ],
 "metadata": {
  "kernelspec": {
   "display_name": "Python 3 (ipykernel)",
   "language": "python",
   "name": "python3"
  },
  "language_info": {
   "codemirror_mode": {
    "name": "ipython",
    "version": 3
   },
   "file_extension": ".py",
   "mimetype": "text/x-python",
   "name": "python",
   "nbconvert_exporter": "python",
   "pygments_lexer": "ipython3",
   "version": "3.10.4"
  },
  "toc": {
   "base_numbering": 1,
   "nav_menu": {},
   "number_sections": true,
   "sideBar": true,
   "skip_h1_title": false,
   "title_cell": "Table of Contents",
   "title_sidebar": "Contents",
   "toc_cell": false,
   "toc_position": {},
   "toc_section_display": true,
   "toc_window_display": false
  }
 },
 "nbformat": 4,
 "nbformat_minor": 2
}
