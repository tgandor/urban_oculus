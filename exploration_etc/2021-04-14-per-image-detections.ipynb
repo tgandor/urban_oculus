{
 "cells": [
  {
   "cell_type": "code",
   "execution_count": null,
   "metadata": {
    "ExecuteTime": {
     "end_time": "2022-04-27T22:18:17.000233Z",
     "start_time": "2022-04-27T22:18:14.059783Z"
    }
   },
   "outputs": [],
   "source": [
    "from imports import *\n",
    "%matplotlib notebook\n",
    "meta = MetadataCatalog.get('coco_2017_val')\n",
    "dset = DatasetCatalog.get('coco_2017_val')\n",
    "add_license(dset, meta)\n",
    "dset[0].keys()"
   ]
  },
  {
   "cell_type": "code",
   "execution_count": null,
   "metadata": {
    "ExecuteTime": {
     "end_time": "2022-04-27T22:19:20.649038Z",
     "start_time": "2022-04-27T22:19:20.633700Z"
    }
   },
   "outputs": [],
   "source": [
    "{k: v for k, v in dset[0].items() if k != 'annotations'}"
   ]
  },
  {
   "cell_type": "code",
   "execution_count": null,
   "metadata": {
    "ExecuteTime": {
     "end_time": "2022-04-27T22:21:16.831642Z",
     "start_time": "2022-04-27T22:21:16.738147Z"
    }
   },
   "outputs": [],
   "source": [
    "# all_dets = load(os.path.expanduser('~/reval_05/R50/evaluator_dump_R50_050/coco_instances_results.json.gz'))\n",
    "all_dets = load(os.path.expanduser('~/reval_50/R50/evaluator_dump_R50_050/coco_instances_results.json.gz'))"
   ]
  },
  {
   "cell_type": "code",
   "execution_count": null,
   "metadata": {
    "ExecuteTime": {
     "end_time": "2022-04-27T22:21:17.632980Z",
     "start_time": "2022-04-27T22:21:17.619379Z"
    }
   },
   "outputs": [],
   "source": [
    "dset[10][\"license\"]"
   ]
  },
  {
   "cell_type": "code",
   "execution_count": null,
   "metadata": {
    "ExecuteTime": {
     "end_time": "2022-04-27T22:21:18.848199Z",
     "start_time": "2022-04-27T22:21:18.680650Z"
    }
   },
   "outputs": [],
   "source": [
    "show_image_gt(dset[10], meta, mpl=False)"
   ]
  },
  {
   "cell_type": "code",
   "execution_count": null,
   "metadata": {
    "ExecuteTime": {
     "end_time": "2022-04-27T22:21:20.421331Z",
     "start_time": "2022-04-27T22:21:20.241986Z"
    }
   },
   "outputs": [],
   "source": [
    "# 2021-05-25\n",
    "\n",
    "import numpy as np\n",
    "from detectron2.structures import BitMasks, Boxes, BoxMode\n",
    "    \n",
    "def show_image_detections(d: dict, all_dets, meta: Metadata, mpl=False):\n",
    "    import cv2\n",
    "    img = cv2.imread(d[\"file_name\"])\n",
    "\n",
    "    visualizer = Visualizer(img[:, :, ::-1], metadata=meta, scale=1.0)\n",
    "    preds = [x for x in all_dets if x['image_id'] == d['image_id']]\n",
    "    # preds = preds[:1]\n",
    "    # print(preds)\n",
    "    # vis = visualizer.draw_instance_predictions(preds)\n",
    "    boxes = np.array([p['bbox'] for p in preds])\n",
    "    # boxes = [x['bbox'] for x in d['annotations']]\n",
    "    boxes = BoxMode.convert(boxes, BoxMode.XYWH_ABS, BoxMode.XYXY_ABS)\n",
    "    names = Names(meta)\n",
    "    labels = [names.get(a['category_id']) for a in preds]\n",
    "    \n",
    "    vis = visualizer.overlay_instances(boxes=boxes, labels=labels)\n",
    "    v_img = vis.get_image()\n",
    "\n",
    "    if mpl:\n",
    "        plt.imshow(v_img)\n",
    "    else:\n",
    "        cv2_imshow(v_img[:, :, ::-1])\n",
    "\n",
    "show_image_detections(dset[10], all_dets, meta, )"
   ]
  },
  {
   "cell_type": "code",
   "execution_count": null,
   "metadata": {
    "ExecuteTime": {
     "end_time": "2022-04-27T22:21:36.386931Z",
     "start_time": "2022-04-27T22:21:36.376191Z"
    }
   },
   "outputs": [],
   "source": [
    "dset[10]['image_id']"
   ]
  },
  {
   "cell_type": "code",
   "execution_count": null,
   "metadata": {
    "ExecuteTime": {
     "end_time": "2022-04-27T22:21:45.865242Z",
     "start_time": "2022-04-27T22:21:45.848610Z"
    }
   },
   "outputs": [],
   "source": [
    "[(x['category_id'], x['bbox'], x['bbox_mode']) for x in dset[10]['annotations']]"
   ]
  },
  {
   "cell_type": "code",
   "execution_count": null,
   "metadata": {
    "ExecuteTime": {
     "end_time": "2022-04-27T22:21:46.836686Z",
     "start_time": "2022-04-27T22:21:46.826053Z"
    }
   },
   "outputs": [],
   "source": [
    "meta.thing_classes[48]"
   ]
  },
  {
   "cell_type": "code",
   "execution_count": null,
   "metadata": {
    "ExecuteTime": {
     "end_time": "2022-04-27T22:21:49.123353Z",
     "start_time": "2022-04-27T22:21:49.112594Z"
    }
   },
   "outputs": [],
   "source": [
    "dset[0]['annotations'][0].keys()"
   ]
  },
  {
   "cell_type": "code",
   "execution_count": null,
   "metadata": {
    "ExecuteTime": {
     "end_time": "2022-04-27T22:21:50.085322Z",
     "start_time": "2022-04-27T22:21:50.039952Z"
    }
   },
   "outputs": [],
   "source": [
    "sorted([\n",
    "    (\n",
    "        len(d['annotations']), \n",
    "        d['file_name'], \n",
    "        Counter(meta.thing_classes[a['category_id']] for a in d['annotations'])\n",
    "    )\n",
    "    for d in dset\n",
    "], reverse=True)[:3]"
   ]
  }
 ],
 "metadata": {
  "kernelspec": {
   "display_name": "Python 3 (ipykernel)",
   "language": "python",
   "name": "python3"
  },
  "language_info": {
   "codemirror_mode": {
    "name": "ipython",
    "version": 3
   },
   "file_extension": ".py",
   "mimetype": "text/x-python",
   "name": "python",
   "nbconvert_exporter": "python",
   "pygments_lexer": "ipython3",
   "version": "3.10.4"
  },
  "toc": {
   "base_numbering": 1,
   "nav_menu": {},
   "number_sections": true,
   "sideBar": true,
   "skip_h1_title": false,
   "title_cell": "Table of Contents",
   "title_sidebar": "Contents",
   "toc_cell": false,
   "toc_position": {},
   "toc_section_display": true,
   "toc_window_display": false
  }
 },
 "nbformat": 4,
 "nbformat_minor": 4
}
