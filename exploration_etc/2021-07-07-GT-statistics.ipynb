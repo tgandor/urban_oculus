{
 "cells": [
  {
   "cell_type": "code",
   "execution_count": null,
   "id": "3c129602",
   "metadata": {
    "ExecuteTime": {
     "end_time": "2021-07-07T17:44:51.911316Z",
     "start_time": "2021-07-07T17:44:51.085315Z"
    }
   },
   "outputs": [],
   "source": [
    "from evaldets.postprocess import *\n",
    "import logging\n",
    "# logging.basicConfig(level=logging.INFO)"
   ]
  },
  {
   "cell_type": "code",
   "execution_count": null,
   "id": "b2574245",
   "metadata": {
    "ExecuteTime": {
     "end_time": "2021-07-07T17:44:52.673417Z",
     "start_time": "2021-07-07T17:44:51.912731Z"
    }
   },
   "outputs": [],
   "source": [
    "gt_for_single_run(os.path.expanduser(\"~/reval_05/baseline_05/evaluator_dump_X101_101/\"))"
   ]
  },
  {
   "cell_type": "code",
   "execution_count": null,
   "id": "e5e78645",
   "metadata": {
    "ExecuteTime": {
     "end_time": "2021-07-07T17:44:54.918325Z",
     "start_time": "2021-07-07T17:44:52.677463Z"
    }
   },
   "outputs": [],
   "source": [
    "df = gt_id_statistics(\"~/reval_05/\")"
   ]
  },
  {
   "cell_type": "code",
   "execution_count": null,
   "id": "8ee62a83",
   "metadata": {
    "ExecuteTime": {
     "end_time": "2021-07-07T17:44:54.935186Z",
     "start_time": "2021-07-07T17:44:54.919495Z"
    }
   },
   "outputs": [],
   "source": [
    "df"
   ]
  },
  {
   "cell_type": "code",
   "execution_count": null,
   "id": "a2ea9979",
   "metadata": {
    "ExecuteTime": {
     "end_time": "2021-07-07T17:44:54.944289Z",
     "start_time": "2021-07-07T17:44:54.936331Z"
    }
   },
   "outputs": [],
   "source": [
    "df.info()"
   ]
  },
  {
   "cell_type": "code",
   "execution_count": null,
   "id": "73c6711d",
   "metadata": {
    "ExecuteTime": {
     "end_time": "2021-07-07T17:44:58.285541Z",
     "start_time": "2021-07-07T17:44:54.945702Z"
    }
   },
   "outputs": [],
   "source": [
    "df[df.crowd==False].gt_id.value_counts().value_counts().sort_index().plot()"
   ]
  },
  {
   "cell_type": "code",
   "execution_count": null,
   "id": "a5aebffb",
   "metadata": {
    "ExecuteTime": {
     "end_time": "2021-07-07T17:45:00.127763Z",
     "start_time": "2021-07-07T17:44:58.287193Z"
    }
   },
   "outputs": [],
   "source": [
    "df[df.crowd==False].gt_id.value_counts()"
   ]
  },
  {
   "cell_type": "code",
   "execution_count": null,
   "id": "f2b00b02",
   "metadata": {
    "ExecuteTime": {
     "end_time": "2021-07-07T17:45:02.061314Z",
     "start_time": "2021-07-07T17:45:00.129138Z"
    }
   },
   "outputs": [],
   "source": [
    "df[df.crowd==False].gt_id.value_counts().value_counts().sort_index(ascending=False)"
   ]
  }
 ],
 "metadata": {
  "kernelspec": {
   "display_name": "Python 3",
   "language": "python",
   "name": "python3"
  },
  "language_info": {
   "codemirror_mode": {
    "name": "ipython",
    "version": 3
   },
   "file_extension": ".py",
   "mimetype": "text/x-python",
   "name": "python",
   "nbconvert_exporter": "python",
   "pygments_lexer": "ipython3",
   "version": "3.9.5"
  },
  "toc": {
   "base_numbering": 1,
   "nav_menu": {},
   "number_sections": true,
   "sideBar": true,
   "skip_h1_title": false,
   "title_cell": "Table of Contents",
   "title_sidebar": "Contents",
   "toc_cell": false,
   "toc_position": {},
   "toc_section_display": true,
   "toc_window_display": false
  }
 },
 "nbformat": 4,
 "nbformat_minor": 5
}
