{
 "cells": [
  {
   "cell_type": "code",
   "execution_count": 1,
   "id": "3c129602",
   "metadata": {
    "ExecuteTime": {
     "end_time": "2022-05-10T14:36:14.203283Z",
     "start_time": "2022-05-10T14:36:12.649311Z"
    }
   },
   "outputs": [],
   "source": [
    "import sys; sys.path.append(\"..\")\n",
    "from evaldets.postprocess import *\n",
    "#logging.basicConfig(level=logging.INFO)"
   ]
  },
  {
   "cell_type": "code",
   "execution_count": 2,
   "id": "b2574245",
   "metadata": {
    "ExecuteTime": {
     "end_time": "2022-05-10T14:36:15.327435Z",
     "start_time": "2022-05-10T14:36:14.205047Z"
    }
   },
   "outputs": [
    {
     "name": "stdout",
     "output_type": "stream",
     "text": [
      "loading annotations into memory...\n",
      "Done (t=0.52s)\n",
      "creating index...\n",
      "index created!\n"
     ]
    },
    {
     "data": {
      "text/html": [
       "<div>\n",
       "<style scoped>\n",
       "    .dataframe tbody tr th:only-of-type {\n",
       "        vertical-align: middle;\n",
       "    }\n",
       "\n",
       "    .dataframe tbody tr th {\n",
       "        vertical-align: top;\n",
       "    }\n",
       "\n",
       "    .dataframe thead th {\n",
       "        text-align: right;\n",
       "    }\n",
       "</style>\n",
       "<table border=\"1\" class=\"dataframe\">\n",
       "  <thead>\n",
       "    <tr style=\"text-align: right;\">\n",
       "      <th></th>\n",
       "      <th>image_id</th>\n",
       "      <th>score</th>\n",
       "      <th>iou</th>\n",
       "      <th>gt_id</th>\n",
       "      <th>category</th>\n",
       "      <th>model</th>\n",
       "      <th>quality</th>\n",
       "      <th>crowd</th>\n",
       "    </tr>\n",
       "  </thead>\n",
       "  <tbody>\n",
       "    <tr>\n",
       "      <th>0</th>\n",
       "      <td>139</td>\n",
       "      <td>0.996971</td>\n",
       "      <td>0.941493</td>\n",
       "      <td>34646</td>\n",
       "      <td>tv</td>\n",
       "      <td>X101</td>\n",
       "      <td>101</td>\n",
       "      <td>False</td>\n",
       "    </tr>\n",
       "    <tr>\n",
       "      <th>1</th>\n",
       "      <td>139</td>\n",
       "      <td>0.996044</td>\n",
       "      <td>0.922262</td>\n",
       "      <td>104368</td>\n",
       "      <td>chair</td>\n",
       "      <td>X101</td>\n",
       "      <td>101</td>\n",
       "      <td>False</td>\n",
       "    </tr>\n",
       "    <tr>\n",
       "      <th>2</th>\n",
       "      <td>139</td>\n",
       "      <td>0.989656</td>\n",
       "      <td>0.866955</td>\n",
       "      <td>230831</td>\n",
       "      <td>person</td>\n",
       "      <td>X101</td>\n",
       "      <td>101</td>\n",
       "      <td>False</td>\n",
       "    </tr>\n",
       "    <tr>\n",
       "      <th>3</th>\n",
       "      <td>139</td>\n",
       "      <td>0.981813</td>\n",
       "      <td>0.805265</td>\n",
       "      <td>103487</td>\n",
       "      <td>chair</td>\n",
       "      <td>X101</td>\n",
       "      <td>101</td>\n",
       "      <td>False</td>\n",
       "    </tr>\n",
       "    <tr>\n",
       "      <th>4</th>\n",
       "      <td>139</td>\n",
       "      <td>0.959748</td>\n",
       "      <td>0.862392</td>\n",
       "      <td>105328</td>\n",
       "      <td>chair</td>\n",
       "      <td>X101</td>\n",
       "      <td>101</td>\n",
       "      <td>False</td>\n",
       "    </tr>\n",
       "    <tr>\n",
       "      <th>...</th>\n",
       "      <td>...</td>\n",
       "      <td>...</td>\n",
       "      <td>...</td>\n",
       "      <td>...</td>\n",
       "      <td>...</td>\n",
       "      <td>...</td>\n",
       "      <td>...</td>\n",
       "      <td>...</td>\n",
       "    </tr>\n",
       "    <tr>\n",
       "      <th>41403</th>\n",
       "      <td>581781</td>\n",
       "      <td>0.059308</td>\n",
       "      <td>0.767449</td>\n",
       "      <td>1545698</td>\n",
       "      <td>banana</td>\n",
       "      <td>X101</td>\n",
       "      <td>101</td>\n",
       "      <td>False</td>\n",
       "    </tr>\n",
       "    <tr>\n",
       "      <th>41404</th>\n",
       "      <td>581781</td>\n",
       "      <td>0.059008</td>\n",
       "      <td>1.000000</td>\n",
       "      <td>905200581781</td>\n",
       "      <td>banana</td>\n",
       "      <td>X101</td>\n",
       "      <td>101</td>\n",
       "      <td>True</td>\n",
       "    </tr>\n",
       "    <tr>\n",
       "      <th>41405</th>\n",
       "      <td>581781</td>\n",
       "      <td>0.057273</td>\n",
       "      <td>0.992907</td>\n",
       "      <td>905200581781</td>\n",
       "      <td>banana</td>\n",
       "      <td>X101</td>\n",
       "      <td>101</td>\n",
       "      <td>True</td>\n",
       "    </tr>\n",
       "    <tr>\n",
       "      <th>41406</th>\n",
       "      <td>581781</td>\n",
       "      <td>0.055826</td>\n",
       "      <td>0.973680</td>\n",
       "      <td>905200581781</td>\n",
       "      <td>banana</td>\n",
       "      <td>X101</td>\n",
       "      <td>101</td>\n",
       "      <td>True</td>\n",
       "    </tr>\n",
       "    <tr>\n",
       "      <th>41407</th>\n",
       "      <td>581781</td>\n",
       "      <td>0.050366</td>\n",
       "      <td>1.000000</td>\n",
       "      <td>905200581781</td>\n",
       "      <td>banana</td>\n",
       "      <td>X101</td>\n",
       "      <td>101</td>\n",
       "      <td>True</td>\n",
       "    </tr>\n",
       "  </tbody>\n",
       "</table>\n",
       "<p>41408 rows × 8 columns</p>\n",
       "</div>"
      ],
      "text/plain": [
       "       image_id     score       iou         gt_id category model  quality  \\\n",
       "0           139  0.996971  0.941493         34646       tv  X101      101   \n",
       "1           139  0.996044  0.922262        104368    chair  X101      101   \n",
       "2           139  0.989656  0.866955        230831   person  X101      101   \n",
       "3           139  0.981813  0.805265        103487    chair  X101      101   \n",
       "4           139  0.959748  0.862392        105328    chair  X101      101   \n",
       "...         ...       ...       ...           ...      ...   ...      ...   \n",
       "41403    581781  0.059308  0.767449       1545698   banana  X101      101   \n",
       "41404    581781  0.059008  1.000000  905200581781   banana  X101      101   \n",
       "41405    581781  0.057273  0.992907  905200581781   banana  X101      101   \n",
       "41406    581781  0.055826  0.973680  905200581781   banana  X101      101   \n",
       "41407    581781  0.050366  1.000000  905200581781   banana  X101      101   \n",
       "\n",
       "       crowd  \n",
       "0      False  \n",
       "1      False  \n",
       "2      False  \n",
       "3      False  \n",
       "4      False  \n",
       "...      ...  \n",
       "41403  False  \n",
       "41404   True  \n",
       "41405   True  \n",
       "41406   True  \n",
       "41407   True  \n",
       "\n",
       "[41408 rows x 8 columns]"
      ]
     },
     "execution_count": 2,
     "metadata": {},
     "output_type": "execute_result"
    }
   ],
   "source": [
    "gt_for_single_run(os.path.expanduser(\"~/reval_05/baseline_05/evaluator_dump_X101_101/\"))"
   ]
  },
  {
   "cell_type": "code",
   "execution_count": 3,
   "id": "e5e78645",
   "metadata": {
    "ExecuteTime": {
     "end_time": "2022-05-10T14:36:23.229848Z",
     "start_time": "2022-05-10T14:36:15.334293Z"
    }
   },
   "outputs": [],
   "source": [
    "# 1h 41m 9s when run with empty caches, and creates an additional 10.5 GB of .pkl.gz\n",
    "# Without compression might be faster, but needs 28.9 GB for .pkl\n",
    "df = gt_id_statistics(\"~/reval_05/\")"
   ]
  },
  {
   "cell_type": "code",
   "execution_count": 4,
   "id": "8ee62a83",
   "metadata": {
    "ExecuteTime": {
     "end_time": "2022-05-10T14:36:23.246271Z",
     "start_time": "2022-05-10T14:36:23.232594Z"
    }
   },
   "outputs": [
    {
     "data": {
      "text/html": [
       "<div>\n",
       "<style scoped>\n",
       "    .dataframe tbody tr th:only-of-type {\n",
       "        vertical-align: middle;\n",
       "    }\n",
       "\n",
       "    .dataframe tbody tr th {\n",
       "        vertical-align: top;\n",
       "    }\n",
       "\n",
       "    .dataframe thead th {\n",
       "        text-align: right;\n",
       "    }\n",
       "</style>\n",
       "<table border=\"1\" class=\"dataframe\">\n",
       "  <thead>\n",
       "    <tr style=\"text-align: right;\">\n",
       "      <th></th>\n",
       "      <th>image_id</th>\n",
       "      <th>score</th>\n",
       "      <th>iou</th>\n",
       "      <th>gt_id</th>\n",
       "      <th>category</th>\n",
       "      <th>model</th>\n",
       "      <th>quality</th>\n",
       "      <th>crowd</th>\n",
       "    </tr>\n",
       "  </thead>\n",
       "  <tbody>\n",
       "    <tr>\n",
       "      <th>0</th>\n",
       "      <td>632</td>\n",
       "      <td>0.334169</td>\n",
       "      <td>1.000000</td>\n",
       "      <td>908400000632</td>\n",
       "      <td>book</td>\n",
       "      <td>R101</td>\n",
       "      <td>1</td>\n",
       "      <td>True</td>\n",
       "    </tr>\n",
       "    <tr>\n",
       "      <th>1</th>\n",
       "      <td>632</td>\n",
       "      <td>0.320505</td>\n",
       "      <td>1.000000</td>\n",
       "      <td>908400000632</td>\n",
       "      <td>book</td>\n",
       "      <td>R101</td>\n",
       "      <td>1</td>\n",
       "      <td>True</td>\n",
       "    </tr>\n",
       "    <tr>\n",
       "      <th>2</th>\n",
       "      <td>632</td>\n",
       "      <td>0.298108</td>\n",
       "      <td>1.000000</td>\n",
       "      <td>908400000632</td>\n",
       "      <td>book</td>\n",
       "      <td>R101</td>\n",
       "      <td>1</td>\n",
       "      <td>True</td>\n",
       "    </tr>\n",
       "    <tr>\n",
       "      <th>3</th>\n",
       "      <td>632</td>\n",
       "      <td>0.293878</td>\n",
       "      <td>1.000000</td>\n",
       "      <td>908400000632</td>\n",
       "      <td>book</td>\n",
       "      <td>R101</td>\n",
       "      <td>1</td>\n",
       "      <td>True</td>\n",
       "    </tr>\n",
       "    <tr>\n",
       "      <th>4</th>\n",
       "      <td>632</td>\n",
       "      <td>0.291150</td>\n",
       "      <td>1.000000</td>\n",
       "      <td>908400000632</td>\n",
       "      <td>book</td>\n",
       "      <td>R101</td>\n",
       "      <td>1</td>\n",
       "      <td>True</td>\n",
       "    </tr>\n",
       "    <tr>\n",
       "      <th>...</th>\n",
       "      <td>...</td>\n",
       "      <td>...</td>\n",
       "      <td>...</td>\n",
       "      <td>...</td>\n",
       "      <td>...</td>\n",
       "      <td>...</td>\n",
       "      <td>...</td>\n",
       "      <td>...</td>\n",
       "    </tr>\n",
       "    <tr>\n",
       "      <th>34783697</th>\n",
       "      <td>581781</td>\n",
       "      <td>0.070692</td>\n",
       "      <td>0.990881</td>\n",
       "      <td>905200581781</td>\n",
       "      <td>banana</td>\n",
       "      <td>X101</td>\n",
       "      <td>100</td>\n",
       "      <td>True</td>\n",
       "    </tr>\n",
       "    <tr>\n",
       "      <th>34783698</th>\n",
       "      <td>581781</td>\n",
       "      <td>0.059493</td>\n",
       "      <td>1.000000</td>\n",
       "      <td>905200581781</td>\n",
       "      <td>banana</td>\n",
       "      <td>X101</td>\n",
       "      <td>100</td>\n",
       "      <td>True</td>\n",
       "    </tr>\n",
       "    <tr>\n",
       "      <th>34783699</th>\n",
       "      <td>581781</td>\n",
       "      <td>0.057941</td>\n",
       "      <td>0.992965</td>\n",
       "      <td>905200581781</td>\n",
       "      <td>banana</td>\n",
       "      <td>X101</td>\n",
       "      <td>100</td>\n",
       "      <td>True</td>\n",
       "    </tr>\n",
       "    <tr>\n",
       "      <th>34783700</th>\n",
       "      <td>581781</td>\n",
       "      <td>0.054565</td>\n",
       "      <td>0.767782</td>\n",
       "      <td>1545698</td>\n",
       "      <td>banana</td>\n",
       "      <td>X101</td>\n",
       "      <td>100</td>\n",
       "      <td>False</td>\n",
       "    </tr>\n",
       "    <tr>\n",
       "      <th>34783701</th>\n",
       "      <td>581781</td>\n",
       "      <td>0.053911</td>\n",
       "      <td>0.973756</td>\n",
       "      <td>905200581781</td>\n",
       "      <td>banana</td>\n",
       "      <td>X101</td>\n",
       "      <td>100</td>\n",
       "      <td>True</td>\n",
       "    </tr>\n",
       "  </tbody>\n",
       "</table>\n",
       "<p>34783702 rows × 8 columns</p>\n",
       "</div>"
      ],
      "text/plain": [
       "          image_id     score       iou         gt_id category model  quality  \\\n",
       "0              632  0.334169  1.000000  908400000632     book  R101        1   \n",
       "1              632  0.320505  1.000000  908400000632     book  R101        1   \n",
       "2              632  0.298108  1.000000  908400000632     book  R101        1   \n",
       "3              632  0.293878  1.000000  908400000632     book  R101        1   \n",
       "4              632  0.291150  1.000000  908400000632     book  R101        1   \n",
       "...            ...       ...       ...           ...      ...   ...      ...   \n",
       "34783697    581781  0.070692  0.990881  905200581781   banana  X101      100   \n",
       "34783698    581781  0.059493  1.000000  905200581781   banana  X101      100   \n",
       "34783699    581781  0.057941  0.992965  905200581781   banana  X101      100   \n",
       "34783700    581781  0.054565  0.767782       1545698   banana  X101      100   \n",
       "34783701    581781  0.053911  0.973756  905200581781   banana  X101      100   \n",
       "\n",
       "          crowd  \n",
       "0          True  \n",
       "1          True  \n",
       "2          True  \n",
       "3          True  \n",
       "4          True  \n",
       "...         ...  \n",
       "34783697   True  \n",
       "34783698   True  \n",
       "34783699   True  \n",
       "34783700  False  \n",
       "34783701   True  \n",
       "\n",
       "[34783702 rows x 8 columns]"
      ]
     },
     "execution_count": 4,
     "metadata": {},
     "output_type": "execute_result"
    }
   ],
   "source": [
    "df"
   ]
  },
  {
   "cell_type": "code",
   "execution_count": 5,
   "id": "a2ea9979",
   "metadata": {
    "ExecuteTime": {
     "end_time": "2022-05-10T14:36:23.258450Z",
     "start_time": "2022-05-10T14:36:23.248211Z"
    }
   },
   "outputs": [
    {
     "name": "stdout",
     "output_type": "stream",
     "text": [
      "<class 'pandas.core.frame.DataFrame'>\n",
      "RangeIndex: 34783702 entries, 0 to 34783701\n",
      "Data columns (total 8 columns):\n",
      " #   Column    Dtype  \n",
      "---  ------    -----  \n",
      " 0   image_id  int64  \n",
      " 1   score     float64\n",
      " 2   iou       float64\n",
      " 3   gt_id     int64  \n",
      " 4   category  object \n",
      " 5   model     object \n",
      " 6   quality   int64  \n",
      " 7   crowd     bool   \n",
      "dtypes: bool(1), float64(2), int64(3), object(2)\n",
      "memory usage: 1.8+ GB\n"
     ]
    }
   ],
   "source": [
    "df.info()"
   ]
  },
  {
   "cell_type": "code",
   "execution_count": 6,
   "id": "73c6711d",
   "metadata": {
    "ExecuteTime": {
     "end_time": "2022-05-10T14:36:27.278734Z",
     "start_time": "2022-05-10T14:36:23.259675Z"
    }
   },
   "outputs": [
    {
     "name": "stdout",
     "output_type": "stream",
     "text": [
      "Saved 2021-07-07-GT-statistics-GT-object-difficulty.png\n",
      "  and 2021-07-07-GT-statistics-GT-object-difficulty.pdf\n"
     ]
    }
   ],
   "source": [
    "df[df.crowd==False].gt_id.value_counts().value_counts().sort_index().plot()\n",
    "plt.xlabel(\"number of GT objects\")\n",
    "plt.ylabel(\"times object present in all results\")\n",
    "plt.title(\"Object frequency in results\")\n",
    "save_plot(plt.gcf(), \"2021-07-07-GT-statistics-GT-object-difficulty\")\n",
    "plt.close()"
   ]
  },
  {
   "cell_type": "code",
   "execution_count": 7,
   "id": "a5aebffb",
   "metadata": {
    "ExecuteTime": {
     "end_time": "2022-05-10T14:36:29.125836Z",
     "start_time": "2022-05-10T14:36:27.280496Z"
    }
   },
   "outputs": [
    {
     "data": {
      "text/plain": [
       "268893     900\n",
       "339051     900\n",
       "504244     900\n",
       "404009     900\n",
       "335745     900\n",
       "          ... \n",
       "282829       1\n",
       "1825888      1\n",
       "1627733      1\n",
       "1634963      1\n",
       "1526318      1\n",
       "Name: gt_id, Length: 34951, dtype: int64"
      ]
     },
     "execution_count": 7,
     "metadata": {},
     "output_type": "execute_result"
    }
   ],
   "source": [
    "df[df.crowd==False].gt_id.value_counts()"
   ]
  },
  {
   "cell_type": "code",
   "execution_count": 8,
   "id": "f2b00b02",
   "metadata": {
    "ExecuteTime": {
     "end_time": "2022-05-10T14:36:30.899287Z",
     "start_time": "2022-05-10T14:36:29.127590Z"
    }
   },
   "outputs": [
    {
     "data": {
      "text/plain": [
       "900    201\n",
       "899     37\n",
       "898     67\n",
       "897     37\n",
       "896     44\n",
       "      ... \n",
       "5       56\n",
       "4       73\n",
       "3       78\n",
       "2      102\n",
       "1      143\n",
       "Name: gt_id, Length: 900, dtype: int64"
      ]
     },
     "execution_count": 8,
     "metadata": {},
     "output_type": "execute_result"
    }
   ],
   "source": [
    "df[df.crowd==False].gt_id.value_counts().value_counts().sort_index(ascending=False)"
   ]
  }
 ],
 "metadata": {
  "kernelspec": {
   "display_name": "Python 3 (ipykernel)",
   "language": "python",
   "name": "python3"
  },
  "language_info": {
   "codemirror_mode": {
    "name": "ipython",
    "version": 3
   },
   "file_extension": ".py",
   "mimetype": "text/x-python",
   "name": "python",
   "nbconvert_exporter": "python",
   "pygments_lexer": "ipython3",
   "version": "3.10.4"
  },
  "toc": {
   "base_numbering": 1,
   "nav_menu": {},
   "number_sections": true,
   "sideBar": true,
   "skip_h1_title": false,
   "title_cell": "Table of Contents",
   "title_sidebar": "Contents",
   "toc_cell": false,
   "toc_position": {},
   "toc_section_display": true,
   "toc_window_display": false
  }
 },
 "nbformat": 4,
 "nbformat_minor": 5
}
