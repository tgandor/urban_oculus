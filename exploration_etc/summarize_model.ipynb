{
 "cells": [
  {
   "cell_type": "code",
   "execution_count": 1,
   "metadata": {
    "ExecuteTime": {
     "end_time": "2021-01-23T23:31:38.215944Z",
     "start_time": "2021-01-23T23:31:37.265292Z"
    }
   },
   "outputs": [],
   "source": [
    "import argparse\n",
    "import logging\n",
    "import os\n",
    "import time\n",
    "import json\n",
    "\n",
    "import torch\n",
    "\n",
    "import detectron2.model_zoo\n",
    "from detectron2.config import get_cfg\n",
    "from detectron2.data import build_detection_test_loader\n",
    "from detectron2.evaluation import COCOEvaluator, inference_on_dataset\n",
    "from detectron2.engine import DefaultPredictor\n",
    "\n",
    "# recommended for nice information\n",
    "logging.basicConfig(level=logging.INFO)\n",
    "\n",
    "MODEL_ZOO_CONFIGS = {\n",
    "    \"R50_C4\": \"COCO-Detection/faster_rcnn_R_50_C4_3x.yaml\",\n",
    "    \"R50_DC5\": \"COCO-Detection/faster_rcnn_R_50_DC5_3x.yaml\",\n",
    "    \"R50_FPN\": \"COCO-Detection/faster_rcnn_R_50_FPN_3x.yaml\",\n",
    "    \"R101_C4\": \"COCO-Detection/faster_rcnn_R_101_C4_3x.yaml\",\n",
    "    \"R101_DC5\": \"COCO-Detection/faster_rcnn_R_101_DC5_3x.yaml\",\n",
    "    \"R101_FPN\": \"COCO-Detection/faster_rcnn_R_101_FPN_3x.yaml\",\n",
    "    \"X101\": \"COCO-Detection/faster_rcnn_X_101_32x8d_FPN_3x.yaml\",\n",
    "    \"R50\": \"COCO-Detection/retinanet_R_50_FPN_3x.yaml\",\n",
    "    \"R101\": \"COCO-Detection/retinanet_R_101_FPN_3x.yaml\",\n",
    "}\n",
    "# model = \"R50_FPN\""
   ]
  },
  {
   "cell_type": "code",
   "execution_count": 2,
   "metadata": {
    "ExecuteTime": {
     "end_time": "2021-01-23T23:31:38.224489Z",
     "start_time": "2021-01-23T23:31:38.217497Z"
    }
   },
   "outputs": [],
   "source": [
    "def get_model_summary(model):\n",
    "    model_config = MODEL_ZOO_CONFIGS[model]\n",
    "    cfg = get_cfg()\n",
    "    cfg.merge_from_file(detectron2.model_zoo.get_config_file(model_config))\n",
    "    cfg.MODEL.ROI_HEADS.SCORE_THRESH_TEST = 0.5  # set threshold for this model\n",
    "    cfg.MODEL.DEVICE = 'cpu'\n",
    "    # cfg.MODEL.WEIGHTS = detectron2.model_zoo.get_checkpoint_url(model_config)\n",
    "    predictor = DefaultPredictor(cfg)\n",
    "    return str(predictor.model)\n",
    "\n",
    "# this version doesn't need to download weights, pretrained nor transfer for backbone...\n",
    "from detectron2.modeling import build_model\n",
    "\n",
    "def get_model_summary(model):\n",
    "    model_config = MODEL_ZOO_CONFIGS[model]\n",
    "    cfg = get_cfg()\n",
    "    cfg.merge_from_file(detectron2.model_zoo.get_config_file(model_config))\n",
    "    cfg.MODEL.DEVICE = 'cpu'\n",
    "    model = build_model(cfg)\n",
    "    return str(model)\n"
   ]
  },
  {
   "cell_type": "code",
   "execution_count": 3,
   "metadata": {
    "ExecuteTime": {
     "end_time": "2021-01-23T23:31:38.353591Z",
     "start_time": "2021-01-23T23:31:38.226474Z"
    }
   },
   "outputs": [],
   "source": [
    "!mkdir -p model_dumps"
   ]
  },
  {
   "cell_type": "code",
   "execution_count": 4,
   "metadata": {
    "ExecuteTime": {
     "end_time": "2021-01-23T23:31:47.186031Z",
     "start_time": "2021-01-23T23:31:38.361103Z"
    }
   },
   "outputs": [
    {
     "name": "stdout",
     "output_type": "stream",
     "text": [
      "R50_C4\n",
      "R50_DC5\n",
      "R50_FPN\n",
      "R101_C4\n",
      "R101_DC5\n",
      "R101_FPN\n",
      "X101\n"
     ]
    },
    {
     "name": "stderr",
     "output_type": "stream",
     "text": [
      "WARNING:fvcore.common.config:Loading config /home/tgandor/anaconda3/lib/python3.7/site-packages/detectron2/model_zoo/configs/COCO-Detection/../Base-RetinaNet.yaml with yaml.unsafe_load. Your machine may be at risk if the file contains malicious content.\n"
     ]
    },
    {
     "name": "stdout",
     "output_type": "stream",
     "text": [
      "R50\n"
     ]
    },
    {
     "name": "stderr",
     "output_type": "stream",
     "text": [
      "WARNING:fvcore.common.config:Loading config /home/tgandor/anaconda3/lib/python3.7/site-packages/detectron2/model_zoo/configs/COCO-Detection/../Base-RetinaNet.yaml with yaml.unsafe_load. Your machine may be at risk if the file contains malicious content.\n"
     ]
    },
    {
     "name": "stdout",
     "output_type": "stream",
     "text": [
      "R101\n"
     ]
    }
   ],
   "source": [
    "for model in MODEL_ZOO_CONFIGS:\n",
    "    print(model)\n",
    "    with open(f'model_dumps/{model}.txt', 'w') as f:\n",
    "        f.write(get_model_summary(model) + '\\n')"
   ]
  },
  {
   "cell_type": "code",
   "execution_count": 5,
   "metadata": {
    "ExecuteTime": {
     "end_time": "2021-01-23T23:31:47.189345Z",
     "start_time": "2021-01-23T23:31:47.187386Z"
    }
   },
   "outputs": [],
   "source": [
    "# import torchsummary\n",
    "# this seems not to work, actually\n",
    "# and I don't know the input shape"
   ]
  }
 ],
 "metadata": {
  "kernelspec": {
   "display_name": "Python 3",
   "language": "python",
   "name": "python3"
  },
  "language_info": {
   "codemirror_mode": {
    "name": "ipython",
    "version": 3
   },
   "file_extension": ".py",
   "mimetype": "text/x-python",
   "name": "python",
   "nbconvert_exporter": "python",
   "pygments_lexer": "ipython3",
   "version": "3.7.6"
  },
  "toc": {
   "base_numbering": 1,
   "nav_menu": {},
   "number_sections": true,
   "sideBar": true,
   "skip_h1_title": false,
   "title_cell": "Table of Contents",
   "title_sidebar": "Contents",
   "toc_cell": false,
   "toc_position": {},
   "toc_section_display": true,
   "toc_window_display": false
  }
 },
 "nbformat": 4,
 "nbformat_minor": 4
}
