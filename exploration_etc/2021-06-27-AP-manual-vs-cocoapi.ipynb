{
 "cells": [
  {
   "cell_type": "markdown",
   "metadata": {},
   "source": [
    "### Fixes\n",
    "\n",
    "* performance (`DetectionResults.detections_by_class` memoized)\n",
    "* performance (`DetectionResults.num_gt_class` memoized)\n",
    "* \"crowd\" GT detection handling (OK for T_IoU = 0.5 at least!)\n",
    "\n",
    "### To do\n",
    "\n",
    "* \"crowd\" GT detection handling\n",
    "* per-class mAP\n",
    "* per-class AP\n",
    "* small / medium / large AP..."
   ]
  },
  {
   "cell_type": "code",
   "execution_count": 1,
   "metadata": {
    "ExecuteTime": {
     "end_time": "2022-05-02T19:45:27.222482Z",
     "start_time": "2022-05-02T19:45:25.601355Z"
    }
   },
   "outputs": [],
   "source": [
    "import sys; sys.path.append(\"..\")\n",
    "import numpy as np\n",
    "import pandas as pd\n",
    "from matplotlib import pyplot as plt\n",
    "from evaldets.api import *\n",
    "from uo.utils import *"
   ]
  },
  {
   "cell_type": "code",
   "execution_count": 2,
   "metadata": {
    "ExecuteTime": {
     "end_time": "2022-05-02T19:46:08.083848Z",
     "start_time": "2022-05-02T19:45:27.224379Z"
    }
   },
   "outputs": [
    {
     "name": "stdout",
     "output_type": "stream",
     "text": [
      "loading annotations into memory...\n",
      "Done (t=0.51s)\n",
      "creating index...\n",
      "index created!\n",
      "Loading and preparing results...\n",
      "DONE (t=1.01s)\n",
      "creating index...\n",
      "index created!\n",
      "Running per image evaluation...\n",
      "Evaluate annotation type *bbox*\n",
      "DONE (t=36.82s).\n"
     ]
    }
   ],
   "source": [
    "dr = DetectionResults('~/reval_05/baseline_05/evaluator_dump_R101_101/', area_rng=None, iou_thresh=None, cache=0)"
   ]
  },
  {
   "cell_type": "code",
   "execution_count": 3,
   "metadata": {
    "ExecuteTime": {
     "end_time": "2022-05-02T19:46:09.192853Z",
     "start_time": "2022-05-02T19:46:08.087377Z"
    }
   },
   "outputs": [
    {
     "data": {
      "text/plain": [
       "0.6025011979805461"
      ]
     },
     "execution_count": 3,
     "metadata": {},
     "output_type": "execute_result"
    }
   ],
   "source": [
    "dr.mean_average_precision()"
   ]
  },
  {
   "cell_type": "code",
   "execution_count": 4,
   "metadata": {
    "ExecuteTime": {
     "end_time": "2022-05-02T19:46:17.011118Z",
     "start_time": "2022-05-02T19:46:09.194790Z"
    }
   },
   "outputs": [
    {
     "name": "stdout",
     "output_type": "stream",
     "text": [
      "Accumulating evaluation results...\n",
      "DONE (t=7.81s).\n",
      " Average Precision  (AP) @[ IoU=0.50:0.95 | area=   all | maxDets=100 ] = 0.404\n",
      " Average Precision  (AP) @[ IoU=0.50      | area=   all | maxDets=100 ] = 0.603\n",
      " Average Precision  (AP) @[ IoU=0.75      | area=   all | maxDets=100 ] = 0.432\n",
      " Average Precision  (AP) @[ IoU=0.50:0.95 | area= small | maxDets=100 ] = 0.240\n",
      " Average Precision  (AP) @[ IoU=0.50:0.95 | area=medium | maxDets=100 ] = 0.443\n",
      " Average Precision  (AP) @[ IoU=0.50:0.95 | area= large | maxDets=100 ] = 0.522\n",
      " Average Recall     (AR) @[ IoU=0.50:0.95 | area=   all | maxDets=  1 ] = 0.336\n",
      " Average Recall     (AR) @[ IoU=0.50:0.95 | area=   all | maxDets= 10 ] = 0.532\n",
      " Average Recall     (AR) @[ IoU=0.50:0.95 | area=   all | maxDets=100 ] = 0.563\n",
      " Average Recall     (AR) @[ IoU=0.50:0.95 | area= small | maxDets=100 ] = 0.376\n",
      " Average Recall     (AR) @[ IoU=0.50:0.95 | area=medium | maxDets=100 ] = 0.599\n",
      " Average Recall     (AR) @[ IoU=0.50:0.95 | area= large | maxDets=100 ] = 0.715\n"
     ]
    }
   ],
   "source": [
    "dr.finish_cocoeval()"
   ]
  },
  {
   "cell_type": "markdown",
   "metadata": {},
   "source": [
    "This doesn't work without re-computing object ids with new IoU:"
   ]
  },
  {
   "cell_type": "code",
   "execution_count": 24,
   "metadata": {
    "ExecuteTime": {
     "end_time": "2022-05-02T19:48:56.733997Z",
     "start_time": "2022-05-02T19:48:56.353936Z"
    }
   },
   "outputs": [
    {
     "data": {
      "text/plain": [
       "0.4268057493526962"
      ]
     },
     "execution_count": 24,
     "metadata": {},
     "output_type": "execute_result"
    }
   ],
   "source": [
    "dr.mean_average_precision(0.75)"
   ]
  },
  {
   "cell_type": "code",
   "execution_count": 25,
   "metadata": {
    "ExecuteTime": {
     "end_time": "2022-05-02T19:49:01.332353Z",
     "start_time": "2022-05-02T19:48:56.905524Z"
    }
   },
   "outputs": [
    {
     "data": {
      "text/plain": [
       "0.39940777717605913"
      ]
     },
     "execution_count": 25,
     "metadata": {},
     "output_type": "execute_result"
    }
   ],
   "source": [
    "np.mean([dr.mean_average_precision(t) for t in dr.IOU_THRS])"
   ]
  },
  {
   "cell_type": "code",
   "execution_count": 26,
   "metadata": {
    "ExecuteTime": {
     "end_time": "2022-05-02T19:49:02.219852Z",
     "start_time": "2022-05-02T19:49:01.334195Z"
    }
   },
   "outputs": [
    {
     "data": {
      "text/plain": [
       "0.5257611245854098"
      ]
     },
     "execution_count": 26,
     "metadata": {},
     "output_type": "execute_result"
    }
   ],
   "source": [
    "np.mean([dr.average_precision('person', t) for t in dr.IOU_THRS])"
   ]
  },
  {
   "cell_type": "code",
   "execution_count": 27,
   "metadata": {
    "ExecuteTime": {
     "end_time": "2022-05-02T19:49:02.225062Z",
     "start_time": "2022-05-02T19:49:02.221253Z"
    }
   },
   "outputs": [
    {
     "data": {
      "text/plain": [
       "(101,)"
      ]
     },
     "execution_count": 27,
     "metadata": {},
     "output_type": "execute_result"
    }
   ],
   "source": [
    "# TxRxKxAxM\n",
    "np.shape(dr.coco.eval[\"precision\"][0, :, 0, 0, -1])"
   ]
  },
  {
   "cell_type": "code",
   "execution_count": 28,
   "metadata": {
    "ExecuteTime": {
     "end_time": "2022-05-02T19:49:02.319481Z",
     "start_time": "2022-05-02T19:49:02.227652Z"
    }
   },
   "outputs": [
    {
     "data": {
      "text/plain": [
       "(array([1.        , 0.99877601, 0.99877601, 0.99877601, 0.99877601]),\n",
       " array([0., 0., 0., 0., 0.]))"
      ]
     },
     "execution_count": 28,
     "metadata": {},
     "output_type": "execute_result"
    }
   ],
   "source": [
    "q1 = dr.pr_curve('person')\n",
    "q1[:5], q1[-5:]"
   ]
  },
  {
   "cell_type": "code",
   "execution_count": 29,
   "metadata": {
    "ExecuteTime": {
     "end_time": "2022-05-02T19:49:02.324900Z",
     "start_time": "2022-05-02T19:49:02.320804Z"
    }
   },
   "outputs": [
    {
     "data": {
      "text/plain": [
       "(array([1.        , 0.99877601, 0.99877601, 0.99877601, 0.99877601]),\n",
       " array([0., 0., 0., 0., 0.]))"
      ]
     },
     "execution_count": 29,
     "metadata": {},
     "output_type": "execute_result"
    }
   ],
   "source": [
    "cq = dr.coco.eval[\"precision\"][0, :, 0, 0, -1]\n",
    "cq[:5], cq[-5:]"
   ]
  },
  {
   "cell_type": "code",
   "execution_count": 30,
   "metadata": {
    "ExecuteTime": {
     "end_time": "2022-05-02T19:49:03.146067Z",
     "start_time": "2022-05-02T19:49:02.592963Z"
    }
   },
   "outputs": [
    {
     "name": "stdout",
     "output_type": "stream",
     "text": [
      "Figure saved to 2021-06-27-AP-manual-vs-cocoapi-1-R101-101-PR-curve.png and 2021-06-27-AP-manual-vs-cocoapi-1-R101-101-PR-curve.pdf\n"
     ]
    },
    {
     "data": {
      "image/png": "[encoded data removed]",
      "text/plain": [
       "<Figure size 432x288 with 1 Axes>"
      ]
     },
     "metadata": {
      "needs_background": "light"
     },
     "output_type": "display_data"
    }
   ],
   "source": [
    "plt.plot(cq[:], label=\"cocoapi\")\n",
    "plt.plot(q1[:], label='evaldets')\n",
    "plt.title(\"R101-101 PR-curve\")\n",
    "plt.xlabel(\"recall\")\n",
    "plt.ylabel(\"precision\")\n",
    "plt.legend()\n",
    "save_plot(plt.gcf(), \"2021-06-27-AP-manual-vs-cocoapi-1-R101-101-PR-curve\")"
   ]
  },
  {
   "cell_type": "code",
   "execution_count": 31,
   "metadata": {
    "ExecuteTime": {
     "end_time": "2022-05-02T19:49:03.553259Z",
     "start_time": "2022-05-02T19:49:03.543569Z"
    }
   },
   "outputs": [
    {
     "data": {
      "text/plain": [
       "0.8071831344949841"
      ]
     },
     "execution_count": 31,
     "metadata": {},
     "output_type": "execute_result"
    }
   ],
   "source": [
    "np.mean(dr.coco.eval[\"precision\"][0, :, 0, 0, -1])"
   ]
  },
  {
   "cell_type": "code",
   "execution_count": 32,
   "metadata": {
    "ExecuteTime": {
     "end_time": "2022-05-02T19:49:04.297263Z",
     "start_time": "2022-05-02T19:49:04.191701Z"
    }
   },
   "outputs": [
    {
     "data": {
      "text/plain": [
       "0.8071831344949841"
      ]
     },
     "execution_count": 32,
     "metadata": {},
     "output_type": "execute_result"
    }
   ],
   "source": [
    "dr.average_precision('person')"
   ]
  },
  {
   "cell_type": "code",
   "execution_count": 33,
   "metadata": {
    "ExecuteTime": {
     "end_time": "2022-05-02T19:49:04.753877Z",
     "start_time": "2022-05-02T19:49:04.743567Z"
    }
   },
   "outputs": [
    {
     "data": {
      "text/plain": [
       "dict_keys(['params', 'counts', 'date', 'precision', 'recall', 'scores'])"
      ]
     },
     "execution_count": 33,
     "metadata": {},
     "output_type": "execute_result"
    }
   ],
   "source": [
    "dr.coco.eval.keys()"
   ]
  },
  {
   "cell_type": "code",
   "execution_count": 34,
   "metadata": {
    "ExecuteTime": {
     "end_time": "2022-05-02T19:49:05.180531Z",
     "start_time": "2022-05-02T19:49:05.171385Z"
    }
   },
   "outputs": [
    {
     "data": {
      "text/plain": [
       "10777"
      ]
     },
     "execution_count": 34,
     "metadata": {},
     "output_type": "execute_result"
    }
   ],
   "source": [
    "dr.num_gt_class('person')"
   ]
  },
  {
   "cell_type": "code",
   "execution_count": 35,
   "metadata": {
    "ExecuteTime": {
     "end_time": "2022-05-02T19:49:05.827191Z",
     "start_time": "2022-05-02T19:49:05.815788Z"
    }
   },
   "outputs": [
    {
     "data": {
      "text/plain": [
       "63997"
      ]
     },
     "execution_count": 35,
     "metadata": {},
     "output_type": "execute_result"
    }
   ],
   "source": [
    "len(dr.detections_by_class('person'))"
   ]
  },
  {
   "cell_type": "code",
   "execution_count": 36,
   "metadata": {
    "ExecuteTime": {
     "end_time": "2022-05-02T19:49:06.642990Z",
     "start_time": "2022-05-02T19:49:06.638331Z"
    }
   },
   "outputs": [
    {
     "data": {
      "text/plain": [
       "72083"
      ]
     },
     "execution_count": 36,
     "metadata": {},
     "output_type": "execute_result"
    }
   ],
   "source": [
    "len(dr.all_detections_by_class('person'))"
   ]
  },
  {
   "cell_type": "code",
   "execution_count": 37,
   "metadata": {
    "ExecuteTime": {
     "end_time": "2022-05-02T19:49:07.510056Z",
     "start_time": "2022-05-02T19:49:07.503097Z"
    }
   },
   "outputs": [],
   "source": [
    "dets = dr.all_detections_by_class('person')"
   ]
  },
  {
   "cell_type": "code",
   "execution_count": 38,
   "metadata": {
    "ExecuteTime": {
     "end_time": "2022-05-02T19:49:07.953246Z",
     "start_time": "2022-05-02T19:49:07.904282Z"
    }
   },
   "outputs": [
    {
     "data": {
      "text/plain": [
       "(72083,)"
      ]
     },
     "execution_count": 38,
     "metadata": {},
     "output_type": "execute_result"
    }
   ],
   "source": [
    "CROWD_ID_T = 10 ** 9\n",
    "TP = np.cumsum([(det.get(\"iou\", 0) >= 0.5 and det.get('gt_id', 0) < CROWD_ID_T) for det in dets]).astype(float)\n",
    "TP.shape"
   ]
  },
  {
   "cell_type": "code",
   "execution_count": 39,
   "metadata": {
    "ExecuteTime": {
     "end_time": "2022-05-02T19:49:08.372047Z",
     "start_time": "2022-05-02T19:49:08.336749Z"
    }
   },
   "outputs": [],
   "source": [
    "FP = np.cumsum([(det.get(\"iou\", 0) < 0.5 and det.get('gt_id', 0) < CROWD_ID_T) for det in dets]).astype(float)"
   ]
  },
  {
   "cell_type": "code",
   "execution_count": 40,
   "metadata": {
    "ExecuteTime": {
     "end_time": "2022-05-02T19:49:08.811695Z",
     "start_time": "2022-05-02T19:49:08.801356Z"
    }
   },
   "outputs": [
    {
     "data": {
      "text/plain": [
       "array([    0.,     0.,     0., ..., 54150., 54151., 54152.])"
      ]
     },
     "execution_count": 40,
     "metadata": {},
     "output_type": "execute_result"
    }
   ],
   "source": [
    "FP"
   ]
  }
 ],
 "metadata": {
  "kernelspec": {
   "display_name": "Python 3 (ipykernel)",
   "language": "python",
   "name": "python3"
  },
  "language_info": {
   "codemirror_mode": {
    "name": "ipython",
    "version": 3
   },
   "file_extension": ".py",
   "mimetype": "text/x-python",
   "name": "python",
   "nbconvert_exporter": "python",
   "pygments_lexer": "ipython3",
   "version": "3.10.4"
  },
  "toc": {
   "base_numbering": 1,
   "nav_menu": {},
   "number_sections": true,
   "sideBar": true,
   "skip_h1_title": false,
   "title_cell": "Table of Contents",
   "title_sidebar": "Contents",
   "toc_cell": false,
   "toc_position": {},
   "toc_section_display": true,
   "toc_window_display": false
  }
 },
 "nbformat": 4,
 "nbformat_minor": 4
}
