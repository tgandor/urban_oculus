{
 "cells": [
  {
   "cell_type": "markdown",
   "metadata": {},
   "source": [
    "### Fixes\n",
    "\n",
    "* performance (`DetectionResults.detections_by_class` memoized)\n",
    "* performance (`DetectionResults.num_gt_class` memoized)\n",
    "* \"crowd\" GT detection handling (OK for T_IoU = 0.5 at least!)\n",
    "\n",
    "### To do\n",
    "\n",
    "* \"crowd\" GT detection handling\n",
    "* per-class mAP\n",
    "* per-class AP\n",
    "* small / medium / large AP..."
   ]
  },
  {
   "cell_type": "code",
   "execution_count": 1,
   "metadata": {
    "ExecuteTime": {
     "end_time": "2021-06-29T21:43:16.146607Z",
     "start_time": "2021-06-29T21:43:15.236790Z"
    }
   },
   "outputs": [],
   "source": [
    "import numpy as np\n",
    "import pandas as pd\n",
    "from matplotlib import pyplot as plt\n",
    "from evaldets.api import *\n",
    "from uo.utils import *"
   ]
  },
  {
   "cell_type": "code",
   "execution_count": 2,
   "metadata": {
    "ExecuteTime": {
     "end_time": "2021-06-29T21:43:57.297087Z",
     "start_time": "2021-06-29T21:43:16.148010Z"
    }
   },
   "outputs": [
    {
     "name": "stdout",
     "output_type": "stream",
     "text": [
      "loading annotations into memory...\n",
      "Done (t=0.47s)\n",
      "creating index...\n",
      "index created!\n",
      "Loading and preparing results...\n",
      "DONE (t=0.97s)\n",
      "creating index...\n",
      "index created!\n",
      "Running per image evaluation...\n",
      "Evaluate annotation type *bbox*\n",
      "DONE (t=37.30s).\n"
     ]
    }
   ],
   "source": [
    "dr = DetectionResults('../reval_05/baseline_05/evaluator_dump_R101_101/', area_rng=None, iou_thresh=None, debug=1, cache=0)"
   ]
  },
  {
   "cell_type": "code",
   "execution_count": 30,
   "metadata": {
    "ExecuteTime": {
     "end_time": "2021-06-29T21:46:53.104337Z",
     "start_time": "2021-06-29T21:46:52.771205Z"
    }
   },
   "outputs": [
    {
     "data": {
      "text/plain": [
       "0.6025011979805461"
      ]
     },
     "execution_count": 30,
     "metadata": {},
     "output_type": "execute_result"
    }
   ],
   "source": [
    "dr.mean_average_precision()"
   ]
  },
  {
   "cell_type": "code",
   "execution_count": 4,
   "metadata": {
    "ExecuteTime": {
     "end_time": "2021-06-29T21:44:04.832191Z",
     "start_time": "2021-06-29T21:43:57.301768Z"
    }
   },
   "outputs": [
    {
     "name": "stdout",
     "output_type": "stream",
     "text": [
      "Accumulating evaluation results...\n",
      "DONE (t=7.52s).\n",
      " Average Precision  (AP) @[ IoU=0.50:0.95 | area=   all | maxDets=100 ] = 0.404\n",
      " Average Precision  (AP) @[ IoU=0.50      | area=   all | maxDets=100 ] = 0.603\n",
      " Average Precision  (AP) @[ IoU=0.75      | area=   all | maxDets=100 ] = 0.432\n",
      " Average Precision  (AP) @[ IoU=0.50:0.95 | area= small | maxDets=100 ] = 0.240\n",
      " Average Precision  (AP) @[ IoU=0.50:0.95 | area=medium | maxDets=100 ] = 0.443\n",
      " Average Precision  (AP) @[ IoU=0.50:0.95 | area= large | maxDets=100 ] = 0.522\n",
      " Average Recall     (AR) @[ IoU=0.50:0.95 | area=   all | maxDets=  1 ] = 0.336\n",
      " Average Recall     (AR) @[ IoU=0.50:0.95 | area=   all | maxDets= 10 ] = 0.532\n",
      " Average Recall     (AR) @[ IoU=0.50:0.95 | area=   all | maxDets=100 ] = 0.563\n",
      " Average Recall     (AR) @[ IoU=0.50:0.95 | area= small | maxDets=100 ] = 0.376\n",
      " Average Recall     (AR) @[ IoU=0.50:0.95 | area=medium | maxDets=100 ] = 0.599\n",
      " Average Recall     (AR) @[ IoU=0.50:0.95 | area= large | maxDets=100 ] = 0.715\n"
     ]
    }
   ],
   "source": [
    "dr.finish_cocoeval()"
   ]
  },
  {
   "cell_type": "code",
   "execution_count": 31,
   "metadata": {
    "ExecuteTime": {
     "end_time": "2021-06-29T21:47:09.085962Z",
     "start_time": "2021-06-29T21:47:08.754345Z"
    }
   },
   "outputs": [
    {
     "data": {
      "text/plain": [
       "0.4268057493526962"
      ]
     },
     "execution_count": 31,
     "metadata": {},
     "output_type": "execute_result"
    }
   ],
   "source": [
    "dr.mean_average_precision(0.75)"
   ]
  },
  {
   "cell_type": "code",
   "execution_count": 6,
   "metadata": {
    "ExecuteTime": {
     "end_time": "2021-06-29T21:44:04.849800Z",
     "start_time": "2021-06-29T21:44:04.836762Z"
    }
   },
   "outputs": [],
   "source": [
    "# np.mean([dr.mean_average_precision(t) for t in dr.IOU_THRS])"
   ]
  },
  {
   "cell_type": "code",
   "execution_count": 7,
   "metadata": {
    "ExecuteTime": {
     "end_time": "2021-06-29T21:44:04.859590Z",
     "start_time": "2021-06-29T21:44:04.851324Z"
    }
   },
   "outputs": [],
   "source": [
    "# np.mean([dr.average_precision('person', t) for t in dr.IOU_THRS])"
   ]
  },
  {
   "cell_type": "code",
   "execution_count": 8,
   "metadata": {
    "ExecuteTime": {
     "end_time": "2021-06-29T21:44:04.873285Z",
     "start_time": "2021-06-29T21:44:04.861791Z"
    }
   },
   "outputs": [
    {
     "data": {
      "text/plain": [
       "(101,)"
      ]
     },
     "execution_count": 8,
     "metadata": {},
     "output_type": "execute_result"
    }
   ],
   "source": [
    "# TxRxKxAxM\n",
    "np.shape(dr.coco.eval[\"precision\"][0, :, 0, 0, -1])"
   ]
  },
  {
   "cell_type": "code",
   "execution_count": 9,
   "metadata": {
    "ExecuteTime": {
     "end_time": "2021-06-29T21:44:05.717316Z",
     "start_time": "2021-06-29T21:44:04.874707Z"
    }
   },
   "outputs": [
    {
     "data": {
      "text/plain": [
       "array([1.        , 0.99877601, 0.99877601, 0.99877601, 0.99877601,\n",
       "       0.99877601, 0.99877601, 0.99877601, 0.99852725, 0.99852725,\n",
       "       0.99852725, 0.99852725, 0.99852725, 0.9972752 , 0.99696233,\n",
       "       0.99696233, 0.9967231 , 0.9962039 , 0.99539171, 0.99471662,\n",
       "       0.99404216, 0.99302224, 0.99209798, 0.99209798, 0.99099775,\n",
       "       0.99082569, 0.98916841, 0.98880597, 0.98828506, 0.98752728,\n",
       "       0.98720682, 0.98719814, 0.98695035, 0.98668885, 0.98603277,\n",
       "       0.98517941, 0.9847793 , 0.98350315, 0.98278747, 0.98167479,\n",
       "       0.98024074, 0.97831379, 0.97620579, 0.9752205 , 0.97334427,\n",
       "       0.97178307, 0.96969104, 0.96683187, 0.96440552, 0.96192203,\n",
       "       0.95975783, 0.95583377, 0.95357143, 0.95153231, 0.94650407,\n",
       "       0.94245748, 0.94063714, 0.93617669, 0.93288591, 0.93027335,\n",
       "       0.92584109, 0.92138453, 0.91674667, 0.91081009, 0.90528663,\n",
       "       0.89680307, 0.88968105, 0.88265493, 0.87418008, 0.8654719 ,\n",
       "       0.85741877, 0.84610282, 0.83415735, 0.81779441, 0.80334307,\n",
       "       0.78816533, 0.77295461, 0.75624203, 0.73638115, 0.71554622,\n",
       "       0.68865815, 0.65884395, 0.62944235, 0.58926219, 0.5594142 ,\n",
       "       0.51830269, 0.47643279, 0.43341192, 0.38137365, 0.32304998,\n",
       "       0.26832642, 0.19724881, 0.        , 0.        , 0.        ,\n",
       "       0.        , 0.        , 0.        , 0.        , 0.        ,\n",
       "       0.        ])"
      ]
     },
     "execution_count": 9,
     "metadata": {},
     "output_type": "execute_result"
    }
   ],
   "source": [
    "q1 = dr.pr_curve('person')\n",
    "q1"
   ]
  },
  {
   "cell_type": "code",
   "execution_count": 10,
   "metadata": {
    "ExecuteTime": {
     "end_time": "2021-06-29T21:44:05.803020Z",
     "start_time": "2021-06-29T21:44:05.718720Z"
    }
   },
   "outputs": [
    {
     "data": {
      "text/plain": [
       "array([1.        , 0.99877601, 0.99877601, 0.99877601, 0.99877601,\n",
       "       0.99877601, 0.99877601, 0.99877601, 0.99852725, 0.99852725,\n",
       "       0.99852725, 0.99852725, 0.99852725, 0.9972752 , 0.99696233,\n",
       "       0.99696233, 0.9967231 , 0.9962039 , 0.99539171, 0.99471662,\n",
       "       0.99404216, 0.99302224, 0.99209798, 0.99209798, 0.99099775,\n",
       "       0.99082569, 0.98916841, 0.98880597, 0.98828506, 0.98752728,\n",
       "       0.98720682, 0.98719814, 0.98695035, 0.98668885, 0.98603277,\n",
       "       0.98517941, 0.9847793 , 0.98350315, 0.98278747, 0.98167479,\n",
       "       0.98024074, 0.97831379, 0.97620579, 0.9752205 , 0.97334427,\n",
       "       0.97178307, 0.96969104, 0.96683187, 0.96440552, 0.96192203,\n",
       "       0.95975783, 0.95583377, 0.95357143, 0.95153231, 0.94650407,\n",
       "       0.94245748, 0.94063714, 0.93617669, 0.93288591, 0.93027335,\n",
       "       0.92584109, 0.92138453, 0.91674667, 0.91081009, 0.90528663,\n",
       "       0.89680307, 0.88968105, 0.88265493, 0.87418008, 0.8654719 ,\n",
       "       0.85741877, 0.84610282, 0.83415735, 0.81779441, 0.80334307,\n",
       "       0.78816533, 0.77295461, 0.75624203, 0.73638115, 0.71554622,\n",
       "       0.68865815, 0.65884395, 0.62944235, 0.58926219, 0.5594142 ,\n",
       "       0.51830269, 0.47643279, 0.43341192, 0.38137365, 0.32304998,\n",
       "       0.26832642, 0.19724881, 0.        , 0.        , 0.        ,\n",
       "       0.        , 0.        , 0.        , 0.        , 0.        ,\n",
       "       0.        ])"
      ]
     },
     "execution_count": 10,
     "metadata": {},
     "output_type": "execute_result"
    }
   ],
   "source": [
    "q2 = dr.pr_curve2('person')\n",
    "q2"
   ]
  },
  {
   "cell_type": "code",
   "execution_count": 11,
   "metadata": {
    "ExecuteTime": {
     "end_time": "2021-06-29T21:44:05.808388Z",
     "start_time": "2021-06-29T21:44:05.804253Z"
    }
   },
   "outputs": [
    {
     "data": {
      "text/plain": [
       "array([1.        , 0.99877601, 0.99877601, 0.99877601, 0.99877601,\n",
       "       0.99877601, 0.99877601, 0.99877601, 0.99852725, 0.99852725,\n",
       "       0.99852725, 0.99852725, 0.99852725, 0.9972752 , 0.99696233,\n",
       "       0.99696233, 0.9967231 , 0.9962039 , 0.99539171, 0.99471662,\n",
       "       0.99404216, 0.99302224, 0.99209798, 0.99209798, 0.99099775,\n",
       "       0.99082569, 0.98916841, 0.98880597, 0.98828506, 0.98752728,\n",
       "       0.98720682, 0.98719814, 0.98695035, 0.98668885, 0.98603277,\n",
       "       0.98517941, 0.9847793 , 0.98350315, 0.98278747, 0.98167479,\n",
       "       0.98024074, 0.97831379, 0.97620579, 0.9752205 , 0.97334427,\n",
       "       0.97178307, 0.96969104, 0.96683187, 0.96440552, 0.96192203,\n",
       "       0.95975783, 0.95583377, 0.95357143, 0.95153231, 0.94650407,\n",
       "       0.94245748, 0.94063714, 0.93617669, 0.93288591, 0.93027335,\n",
       "       0.92584109, 0.92138453, 0.91674667, 0.91081009, 0.90528663,\n",
       "       0.89680307, 0.88968105, 0.88265493, 0.87418008, 0.8654719 ,\n",
       "       0.85741877, 0.84610282, 0.83415735, 0.81779441, 0.80334307,\n",
       "       0.78816533, 0.77295461, 0.75624203, 0.73638115, 0.71554622,\n",
       "       0.68865815, 0.65884395, 0.62944235, 0.58926219, 0.5594142 ,\n",
       "       0.51830269, 0.47643279, 0.43341192, 0.38137365, 0.32304998,\n",
       "       0.26832642, 0.19724881, 0.        , 0.        , 0.        ,\n",
       "       0.        , 0.        , 0.        , 0.        , 0.        ,\n",
       "       0.        ])"
      ]
     },
     "execution_count": 11,
     "metadata": {},
     "output_type": "execute_result"
    }
   ],
   "source": [
    "cq = dr.coco.eval[\"precision\"][0, :, 0, 0, -1]\n",
    "cq"
   ]
  },
  {
   "cell_type": "code",
   "execution_count": 12,
   "metadata": {
    "ExecuteTime": {
     "end_time": "2021-06-29T21:44:05.985266Z",
     "start_time": "2021-06-29T21:44:05.809845Z"
    }
   },
   "outputs": [
    {
     "data": {
      "text/plain": [
       "<matplotlib.legend.Legend at 0x7f01143f4400>"
      ]
     },
     "execution_count": 12,
     "metadata": {},
     "output_type": "execute_result"
    },
    {
     "data": {
      "image/png": "[encoded data removed]",
      "text/plain": [
       "<Figure size 432x288 with 1 Axes>"
      ]
     },
     "metadata": {
      "needs_background": "light"
     },
     "output_type": "display_data"
    }
   ],
   "source": [
    "plt.plot(cq[:], label=\"cq\")\n",
    "plt.plot(q1[:], label='q1')\n",
    "plt.plot(q2[:], label='q2')\n",
    "plt.legend()"
   ]
  },
  {
   "cell_type": "code",
   "execution_count": 13,
   "metadata": {
    "ExecuteTime": {
     "end_time": "2021-06-29T21:44:05.990235Z",
     "start_time": "2021-06-29T21:44:05.986708Z"
    }
   },
   "outputs": [
    {
     "data": {
      "text/plain": [
       "0.8071831344949841"
      ]
     },
     "execution_count": 13,
     "metadata": {},
     "output_type": "execute_result"
    }
   ],
   "source": [
    "np.mean(dr.coco.eval[\"precision\"][0, :, 0, 0, -1])"
   ]
  },
  {
   "cell_type": "code",
   "execution_count": 32,
   "metadata": {
    "ExecuteTime": {
     "end_time": "2021-06-29T21:48:52.708719Z",
     "start_time": "2021-06-29T21:48:52.618717Z"
    }
   },
   "outputs": [
    {
     "data": {
      "text/plain": [
       "0.8071831344949841"
      ]
     },
     "execution_count": 32,
     "metadata": {},
     "output_type": "execute_result"
    }
   ],
   "source": [
    "dr.average_precision('person')"
   ]
  },
  {
   "cell_type": "code",
   "execution_count": 14,
   "metadata": {
    "ExecuteTime": {
     "end_time": "2021-06-29T21:44:06.004333Z",
     "start_time": "2021-06-29T21:44:05.991708Z"
    }
   },
   "outputs": [],
   "source": [
    "# {dr.names.get(i+1): np.mean(dr.coco.eval[\"precision\"][:, :, i, 0, -1])*100 for i in range(10)}"
   ]
  },
  {
   "cell_type": "code",
   "execution_count": 15,
   "metadata": {
    "ExecuteTime": {
     "end_time": "2021-06-29T21:44:06.016151Z",
     "start_time": "2021-06-29T21:44:06.005412Z"
    }
   },
   "outputs": [],
   "source": [
    "# load('../reval_05/baseline_05/evaluator_dump_R101_101/results.json.gz')"
   ]
  },
  {
   "cell_type": "code",
   "execution_count": 16,
   "metadata": {
    "ExecuteTime": {
     "end_time": "2021-06-29T21:44:06.030320Z",
     "start_time": "2021-06-29T21:44:06.020327Z"
    }
   },
   "outputs": [
    {
     "data": {
      "text/plain": [
       "dict_keys(['params', 'counts', 'date', 'precision', 'recall', 'scores', 'npigs', 'tp_sums', 'fp_sums', 'dtigs'])"
      ]
     },
     "execution_count": 16,
     "metadata": {},
     "output_type": "execute_result"
    }
   ],
   "source": [
    "dr.coco.eval.keys()"
   ]
  },
  {
   "cell_type": "code",
   "execution_count": 17,
   "metadata": {
    "ExecuteTime": {
     "end_time": "2021-06-29T21:44:06.039791Z",
     "start_time": "2021-06-29T21:44:06.034362Z"
    }
   },
   "outputs": [
    {
     "data": {
      "text/plain": [
       "10777"
      ]
     },
     "execution_count": 17,
     "metadata": {},
     "output_type": "execute_result"
    }
   ],
   "source": [
    "dr.num_gt_class('person')"
   ]
  },
  {
   "cell_type": "code",
   "execution_count": 18,
   "metadata": {
    "ExecuteTime": {
     "end_time": "2021-06-29T21:44:06.047514Z",
     "start_time": "2021-06-29T21:44:06.042080Z"
    }
   },
   "outputs": [
    {
     "data": {
      "text/plain": [
       "(10, 72083)"
      ]
     },
     "execution_count": 18,
     "metadata": {},
     "output_type": "execute_result"
    }
   ],
   "source": [
    "dr.coco.eval['tp_sums'][0].shape"
   ]
  },
  {
   "cell_type": "code",
   "execution_count": 19,
   "metadata": {
    "ExecuteTime": {
     "end_time": "2021-06-29T21:44:06.055111Z",
     "start_time": "2021-06-29T21:44:06.048850Z"
    }
   },
   "outputs": [
    {
     "data": {
      "text/plain": [
       "63997"
      ]
     },
     "execution_count": 19,
     "metadata": {},
     "output_type": "execute_result"
    }
   ],
   "source": [
    "len(dr.detections_by_class('person'))"
   ]
  },
  {
   "cell_type": "code",
   "execution_count": 20,
   "metadata": {
    "ExecuteTime": {
     "end_time": "2021-06-29T21:44:06.065146Z",
     "start_time": "2021-06-29T21:44:06.056334Z"
    }
   },
   "outputs": [
    {
     "data": {
      "text/plain": [
       "72083"
      ]
     },
     "execution_count": 20,
     "metadata": {},
     "output_type": "execute_result"
    }
   ],
   "source": [
    "len(dr.all_detections_by_class('person'))"
   ]
  },
  {
   "cell_type": "code",
   "execution_count": 21,
   "metadata": {
    "ExecuteTime": {
     "end_time": "2021-06-29T21:44:06.074181Z",
     "start_time": "2021-06-29T21:44:06.066297Z"
    }
   },
   "outputs": [],
   "source": [
    "dets = dr.all_detections_by_class('person')"
   ]
  },
  {
   "cell_type": "code",
   "execution_count": 22,
   "metadata": {
    "ExecuteTime": {
     "end_time": "2021-06-29T21:44:06.115041Z",
     "start_time": "2021-06-29T21:44:06.075538Z"
    }
   },
   "outputs": [
    {
     "data": {
      "text/plain": [
       "(72083,)"
      ]
     },
     "execution_count": 22,
     "metadata": {},
     "output_type": "execute_result"
    }
   ],
   "source": [
    "CROWD_ID_T = 10 ** 9\n",
    "TP = np.cumsum([(det.get(\"iou\", 0) >= 0.5 and det.get('gt_id', 0) < CROWD_ID_T) for det in dets]).astype(float)\n",
    "TP.shape"
   ]
  },
  {
   "cell_type": "code",
   "execution_count": 23,
   "metadata": {
    "ExecuteTime": {
     "end_time": "2021-06-29T21:44:06.122205Z",
     "start_time": "2021-06-29T21:44:06.117604Z"
    }
   },
   "outputs": [
    {
     "data": {
      "text/plain": [
       "True"
      ]
     },
     "execution_count": 23,
     "metadata": {},
     "output_type": "execute_result"
    }
   ],
   "source": [
    "(TP == dr.coco.eval['tp_sums'][0][0]).all()"
   ]
  },
  {
   "cell_type": "code",
   "execution_count": 24,
   "metadata": {
    "ExecuteTime": {
     "end_time": "2021-06-29T21:44:06.164726Z",
     "start_time": "2021-06-29T21:44:06.123712Z"
    }
   },
   "outputs": [],
   "source": [
    "FP = np.cumsum([(det.get(\"iou\", 0) < 0.5 and det.get('gt_id', 0) < CROWD_ID_T) for det in dets]).astype(float)"
   ]
  },
  {
   "cell_type": "markdown",
   "metadata": {},
   "source": [
    "Here's the problem:"
   ]
  },
  {
   "cell_type": "code",
   "execution_count": 25,
   "metadata": {
    "ExecuteTime": {
     "end_time": "2021-06-29T21:44:06.175526Z",
     "start_time": "2021-06-29T21:44:06.165782Z"
    }
   },
   "outputs": [
    {
     "data": {
      "text/plain": [
       "True"
      ]
     },
     "execution_count": 25,
     "metadata": {},
     "output_type": "execute_result"
    }
   ],
   "source": [
    "(FP == dr.coco.eval['fp_sums'][0][0]).all()"
   ]
  },
  {
   "cell_type": "code",
   "execution_count": 26,
   "metadata": {
    "ExecuteTime": {
     "end_time": "2021-06-29T21:44:06.189994Z",
     "start_time": "2021-06-29T21:44:06.176748Z"
    }
   },
   "outputs": [
    {
     "data": {
      "text/plain": [
       "array([    0.,     0.,     0., ..., 54150., 54151., 54152.])"
      ]
     },
     "execution_count": 26,
     "metadata": {},
     "output_type": "execute_result"
    }
   ],
   "source": [
    "FP"
   ]
  },
  {
   "cell_type": "code",
   "execution_count": 27,
   "metadata": {
    "ExecuteTime": {
     "end_time": "2021-06-29T21:44:06.202268Z",
     "start_time": "2021-06-29T21:44:06.194546Z"
    }
   },
   "outputs": [
    {
     "data": {
      "text/plain": [
       "array([    0.,     0.,     0., ..., 54150., 54151., 54152.])"
      ]
     },
     "execution_count": 27,
     "metadata": {},
     "output_type": "execute_result"
    }
   ],
   "source": [
    "FP_coco = dr.coco.eval['fp_sums'][0][0]\n",
    "FP_coco"
   ]
  },
  {
   "cell_type": "code",
   "execution_count": 28,
   "metadata": {
    "ExecuteTime": {
     "end_time": "2021-06-29T21:44:06.244310Z",
     "start_time": "2021-06-29T21:44:06.205338Z"
    }
   },
   "outputs": [
    {
     "data": {
      "text/plain": [
       "(72082,\n",
       " 54152.0,\n",
       " 54152.0,\n",
       " {'image_id': 270474,\n",
       "  'score': 0.050001293420791626,\n",
       "  'category': 'person',\n",
       "  'x': 449.40924072265625,\n",
       "  'y': 2.111234664916992,\n",
       "  'w': 50.59075927734375,\n",
       "  'h': 241.18011474609375})"
      ]
     },
     "execution_count": 28,
     "metadata": {},
     "output_type": "execute_result"
    }
   ],
   "source": [
    "for i, d in enumerate(dets):\n",
    "    if FP[i] != FP_coco[i]:\n",
    "        break\n",
    "i, FP[i], FP_coco[i], d"
   ]
  },
  {
   "cell_type": "code",
   "execution_count": 29,
   "metadata": {
    "ExecuteTime": {
     "end_time": "2021-06-29T21:44:06.248110Z",
     "start_time": "2021-06-29T21:44:06.245496Z"
    }
   },
   "outputs": [
    {
     "data": {
      "text/plain": [
       "False"
      ]
     },
     "execution_count": 29,
     "metadata": {},
     "output_type": "execute_result"
    }
   ],
   "source": [
    "dr.coco.eval['dtigs'][0][0][i]"
   ]
  },
  {
   "cell_type": "code",
   "execution_count": null,
   "metadata": {},
   "outputs": [],
   "source": []
  }
 ],
 "metadata": {
  "kernelspec": {
   "display_name": "Python 3",
   "language": "python",
   "name": "python3"
  },
  "language_info": {
   "codemirror_mode": {
    "name": "ipython",
    "version": 3
   },
   "file_extension": ".py",
   "mimetype": "text/x-python",
   "name": "python",
   "nbconvert_exporter": "python",
   "pygments_lexer": "ipython3",
   "version": "3.9.5"
  },
  "toc": {
   "base_numbering": 1,
   "nav_menu": {},
   "number_sections": true,
   "sideBar": true,
   "skip_h1_title": false,
   "title_cell": "Table of Contents",
   "title_sidebar": "Contents",
   "toc_cell": false,
   "toc_position": {},
   "toc_section_display": true,
   "toc_window_display": false
  }
 },
 "nbformat": 4,
 "nbformat_minor": 4
}
