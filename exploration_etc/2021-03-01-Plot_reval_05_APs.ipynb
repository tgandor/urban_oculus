{
 "cells": [
  {
   "cell_type": "code",
   "execution_count": 1,
   "metadata": {
    "ExecuteTime": {
     "end_time": "2022-05-08T15:03:09.836003Z",
     "start_time": "2022-05-08T15:03:08.349597Z"
    }
   },
   "outputs": [],
   "source": [
    "import json, glob, os, sys\n",
    "from itertools import groupby\n",
    "import pandas as pd\n",
    "import matplotlib.pyplot as plt\n",
    "sys.path.append('..')\n",
    "from imports import *\n",
    "\n",
    "%matplotlib inline\n",
    "plt.rcParams['figure.figsize'] = (10, 6)\n",
    "REVAL_DIR = os.path.expanduser('~/reval_05')\n",
    "YLIM_AP = (0, 100)\n",
    "YLIM_APL = (0, 60)\n",
    "YLIM_F1 = (0, 1)\n",
    "COLOR_SML = ['#00ff00', '#ffff00', '#ff0000']"
   ]
  },
  {
   "cell_type": "code",
   "execution_count": 2,
   "metadata": {
    "ExecuteTime": {
     "end_time": "2022-05-08T15:03:09.930688Z",
     "start_time": "2022-05-08T15:03:09.837697Z"
    }
   },
   "outputs": [
    {
     "name": "stdout",
     "output_type": "stream",
     "text": [
      "R101 R101_C4 R101_DC5 R101_FPN R50 R50_C4 R50_DC5 R50_FPN X101 "
     ]
    }
   ],
   "source": [
    "files = glob.glob(f'{REVAL_DIR}/*/*/rich_results.json')\n",
    "results = [load(f) for f in files]\n",
    "gb = lambda it, key: groupby(sorted(it, key=key), key)\n",
    "\n",
    "for key, group in gb(results, lambda x: x['model']):\n",
    "    print(key, end=' ')"
   ]
  },
  {
   "cell_type": "code",
   "execution_count": 3,
   "metadata": {
    "ExecuteTime": {
     "end_time": "2022-05-08T15:03:09.937897Z",
     "start_time": "2022-05-08T15:03:09.932682Z"
    }
   },
   "outputs": [
    {
     "data": {
      "text/plain": [
       "1054712"
      ]
     },
     "execution_count": 3,
     "metadata": {},
     "output_type": "execute_result"
    }
   ],
   "source": [
    "sum(int(r['elapsed']) for r in results)"
   ]
  },
  {
   "cell_type": "code",
   "execution_count": 4,
   "metadata": {
    "ExecuteTime": {
     "end_time": "2022-05-08T15:03:09.951877Z",
     "start_time": "2022-05-08T15:03:09.939943Z"
    }
   },
   "outputs": [],
   "source": [
    "def flatten(value):\n",
    "    if 'results' not in results:\n",
    "        return value\n",
    "    result = value.copy()\n",
    "    aps = {k: v for k, v in result['results']['bbox'].items() if '-' not in k}\n",
    "    result.update(aps)\n",
    "    del result['results']\n",
    "    return result\n",
    "# flatten(results[0])"
   ]
  },
  {
   "cell_type": "code",
   "execution_count": 5,
   "metadata": {
    "ExecuteTime": {
     "end_time": "2022-05-08T15:03:09.993925Z",
     "start_time": "2022-05-08T15:03:09.954083Z"
    }
   },
   "outputs": [
    {
     "data": {
      "text/html": [
       "<div>\n",
       "<style scoped>\n",
       "    .dataframe tbody tr th:only-of-type {\n",
       "        vertical-align: middle;\n",
       "    }\n",
       "\n",
       "    .dataframe tbody tr th {\n",
       "        vertical-align: top;\n",
       "    }\n",
       "\n",
       "    .dataframe thead th {\n",
       "        text-align: right;\n",
       "    }\n",
       "</style>\n",
       "<table border=\"1\" class=\"dataframe\">\n",
       "  <thead>\n",
       "    <tr style=\"text-align: right;\">\n",
       "      <th></th>\n",
       "      <th>quality</th>\n",
       "      <th>model</th>\n",
       "      <th>elapsed</th>\n",
       "      <th>tp</th>\n",
       "      <th>fp</th>\n",
       "      <th>ex</th>\n",
       "      <th>precision</th>\n",
       "      <th>recall</th>\n",
       "      <th>f1</th>\n",
       "      <th>min_score</th>\n",
       "      <th>score_T</th>\n",
       "      <th>AP</th>\n",
       "      <th>AP50</th>\n",
       "      <th>AP75</th>\n",
       "      <th>APs</th>\n",
       "      <th>APm</th>\n",
       "      <th>APl</th>\n",
       "    </tr>\n",
       "  </thead>\n",
       "  <tbody>\n",
       "    <tr>\n",
       "      <th>133</th>\n",
       "      <td>97</td>\n",
       "      <td>X101</td>\n",
       "      <td>2950.533190</td>\n",
       "      <td>29538</td>\n",
       "      <td>69427</td>\n",
       "      <td>11885</td>\n",
       "      <td>0.298469</td>\n",
       "      <td>0.812935</td>\n",
       "      <td>0.436630</td>\n",
       "      <td>0.050000</td>\n",
       "      <td>None</td>\n",
       "      <td>43.125026</td>\n",
       "      <td>63.823199</td>\n",
       "      <td>47.014898</td>\n",
       "      <td>27.212577</td>\n",
       "      <td>46.190293</td>\n",
       "      <td>54.863181</td>\n",
       "    </tr>\n",
       "    <tr>\n",
       "      <th>175</th>\n",
       "      <td>98</td>\n",
       "      <td>X101</td>\n",
       "      <td>2949.976151</td>\n",
       "      <td>29537</td>\n",
       "      <td>69465</td>\n",
       "      <td>11845</td>\n",
       "      <td>0.298348</td>\n",
       "      <td>0.812908</td>\n",
       "      <td>0.436496</td>\n",
       "      <td>0.050000</td>\n",
       "      <td>None</td>\n",
       "      <td>43.064660</td>\n",
       "      <td>63.628361</td>\n",
       "      <td>46.943094</td>\n",
       "      <td>26.896694</td>\n",
       "      <td>46.098858</td>\n",
       "      <td>54.857996</td>\n",
       "    </tr>\n",
       "    <tr>\n",
       "      <th>103</th>\n",
       "      <td>99</td>\n",
       "      <td>X101</td>\n",
       "      <td>2952.297939</td>\n",
       "      <td>29549</td>\n",
       "      <td>69465</td>\n",
       "      <td>11835</td>\n",
       "      <td>0.298433</td>\n",
       "      <td>0.813238</td>\n",
       "      <td>0.436634</td>\n",
       "      <td>0.050000</td>\n",
       "      <td>None</td>\n",
       "      <td>43.101607</td>\n",
       "      <td>63.681584</td>\n",
       "      <td>47.133904</td>\n",
       "      <td>27.035522</td>\n",
       "      <td>46.123877</td>\n",
       "      <td>54.916508</td>\n",
       "    </tr>\n",
       "    <tr>\n",
       "      <th>112</th>\n",
       "      <td>100</td>\n",
       "      <td>X101</td>\n",
       "      <td>2952.063746</td>\n",
       "      <td>29549</td>\n",
       "      <td>69454</td>\n",
       "      <td>11853</td>\n",
       "      <td>0.298466</td>\n",
       "      <td>0.813238</td>\n",
       "      <td>0.436670</td>\n",
       "      <td>0.050001</td>\n",
       "      <td>None</td>\n",
       "      <td>43.070649</td>\n",
       "      <td>63.715295</td>\n",
       "      <td>46.980151</td>\n",
       "      <td>26.992763</td>\n",
       "      <td>46.103360</td>\n",
       "      <td>54.878414</td>\n",
       "    </tr>\n",
       "    <tr>\n",
       "      <th>406</th>\n",
       "      <td>101</td>\n",
       "      <td>X101</td>\n",
       "      <td>2673.639724</td>\n",
       "      <td>29546</td>\n",
       "      <td>69608</td>\n",
       "      <td>11862</td>\n",
       "      <td>0.297981</td>\n",
       "      <td>0.813155</td>\n",
       "      <td>0.436139</td>\n",
       "      <td>0.050000</td>\n",
       "      <td>None</td>\n",
       "      <td>43.046948</td>\n",
       "      <td>63.651725</td>\n",
       "      <td>46.888371</td>\n",
       "      <td>27.205004</td>\n",
       "      <td>46.093387</td>\n",
       "      <td>54.890155</td>\n",
       "    </tr>\n",
       "  </tbody>\n",
       "</table>\n",
       "</div>"
      ],
      "text/plain": [
       "     quality model      elapsed     tp     fp     ex  precision    recall  \\\n",
       "133       97  X101  2950.533190  29538  69427  11885   0.298469  0.812935   \n",
       "175       98  X101  2949.976151  29537  69465  11845   0.298348  0.812908   \n",
       "103       99  X101  2952.297939  29549  69465  11835   0.298433  0.813238   \n",
       "112      100  X101  2952.063746  29549  69454  11853   0.298466  0.813238   \n",
       "406      101  X101  2673.639724  29546  69608  11862   0.297981  0.813155   \n",
       "\n",
       "           f1  min_score score_T         AP       AP50       AP75        APs  \\\n",
       "133  0.436630   0.050000    None  43.125026  63.823199  47.014898  27.212577   \n",
       "175  0.436496   0.050000    None  43.064660  63.628361  46.943094  26.896694   \n",
       "103  0.436634   0.050000    None  43.101607  63.681584  47.133904  27.035522   \n",
       "112  0.436670   0.050001    None  43.070649  63.715295  46.980151  26.992763   \n",
       "406  0.436139   0.050000    None  43.046948  63.651725  46.888371  27.205004   \n",
       "\n",
       "           APm        APl  \n",
       "133  46.190293  54.863181  \n",
       "175  46.098858  54.857996  \n",
       "103  46.123877  54.916508  \n",
       "112  46.103360  54.878414  \n",
       "406  46.093387  54.890155  "
      ]
     },
     "execution_count": 5,
     "metadata": {},
     "output_type": "execute_result"
    }
   ],
   "source": [
    "c_df = pd.DataFrame([flatten(r) for r in results]).sort_values(['model', 'quality'])\n",
    "c_df.tail()"
   ]
  },
  {
   "cell_type": "code",
   "execution_count": 6,
   "metadata": {
    "ExecuteTime": {
     "end_time": "2022-05-08T15:03:16.958134Z",
     "start_time": "2022-05-08T15:03:09.995691Z"
    },
    "scrolled": true
   },
   "outputs": [
    {
     "name": "stdout",
     "output_type": "stream",
     "text": [
      "Figure saved to 2021-03-01-Plot_reval_05_APs/01-APx-R101.png and 2021-03-01-Plot_reval_05_APs/01-APx-R101.pdf\n",
      "Figure saved to 2021-03-01-Plot_reval_05_APs/01-APx-R101_C4.png and 2021-03-01-Plot_reval_05_APs/01-APx-R101_C4.pdf\n",
      "Figure saved to 2021-03-01-Plot_reval_05_APs/01-APx-R101_DC5.png and 2021-03-01-Plot_reval_05_APs/01-APx-R101_DC5.pdf\n",
      "Figure saved to 2021-03-01-Plot_reval_05_APs/01-APx-R101_FPN.png and 2021-03-01-Plot_reval_05_APs/01-APx-R101_FPN.pdf\n",
      "Figure saved to 2021-03-01-Plot_reval_05_APs/01-APx-R50.png and 2021-03-01-Plot_reval_05_APs/01-APx-R50.pdf\n",
      "Figure saved to 2021-03-01-Plot_reval_05_APs/01-APx-R50_C4.png and 2021-03-01-Plot_reval_05_APs/01-APx-R50_C4.pdf\n",
      "Figure saved to 2021-03-01-Plot_reval_05_APs/01-APx-R50_DC5.png and 2021-03-01-Plot_reval_05_APs/01-APx-R50_DC5.pdf\n",
      "Figure saved to 2021-03-01-Plot_reval_05_APs/01-APx-R50_FPN.png and 2021-03-01-Plot_reval_05_APs/01-APx-R50_FPN.pdf\n",
      "Figure saved to 2021-03-01-Plot_reval_05_APs/01-APx-X101.png and 2021-03-01-Plot_reval_05_APs/01-APx-X101.pdf\n"
     ]
    }
   ],
   "source": [
    "for mc in c_df.model.unique():\n",
    "    ax = c_df[c_df.model == mc][['quality', 'AP', 'AP50', 'AP75']].plot(x='quality', ylim=YLIM_AP)\n",
    "    ax.set_title(mc)\n",
    "    save_plot(plt.gcf(), f\"2021-03-01-Plot_reval_05_APs/01-APx-{mc}\")\n",
    "    plt.close() # prevent show"
   ]
  },
  {
   "cell_type": "code",
   "execution_count": 7,
   "metadata": {
    "ExecuteTime": {
     "end_time": "2022-05-08T15:03:16.977416Z",
     "start_time": "2022-05-08T15:03:16.959868Z"
    }
   },
   "outputs": [
    {
     "data": {
      "text/html": [
       "<div>\n",
       "<style scoped>\n",
       "    .dataframe tbody tr th:only-of-type {\n",
       "        vertical-align: middle;\n",
       "    }\n",
       "\n",
       "    .dataframe tbody tr th {\n",
       "        vertical-align: top;\n",
       "    }\n",
       "\n",
       "    .dataframe thead th {\n",
       "        text-align: right;\n",
       "    }\n",
       "</style>\n",
       "<table border=\"1\" class=\"dataframe\">\n",
       "  <thead>\n",
       "    <tr style=\"text-align: right;\">\n",
       "      <th></th>\n",
       "      <th>AP</th>\n",
       "      <th>APl</th>\n",
       "      <th>APm</th>\n",
       "      <th>APs</th>\n",
       "    </tr>\n",
       "    <tr>\n",
       "      <th>model</th>\n",
       "      <th></th>\n",
       "      <th></th>\n",
       "      <th></th>\n",
       "      <th></th>\n",
       "    </tr>\n",
       "  </thead>\n",
       "  <tbody>\n",
       "    <tr>\n",
       "      <th>X101</th>\n",
       "      <td>34.927685</td>\n",
       "      <td>45.920218</td>\n",
       "      <td>37.778516</td>\n",
       "      <td>20.122565</td>\n",
       "    </tr>\n",
       "    <tr>\n",
       "      <th>R101_FPN</th>\n",
       "      <td>34.167798</td>\n",
       "      <td>45.743412</td>\n",
       "      <td>37.028163</td>\n",
       "      <td>19.025153</td>\n",
       "    </tr>\n",
       "    <tr>\n",
       "      <th>R101_C4</th>\n",
       "      <td>33.608163</td>\n",
       "      <td>47.307410</td>\n",
       "      <td>37.294725</td>\n",
       "      <td>16.611395</td>\n",
       "    </tr>\n",
       "    <tr>\n",
       "      <th>R101_DC5</th>\n",
       "      <td>33.227068</td>\n",
       "      <td>45.751765</td>\n",
       "      <td>36.755736</td>\n",
       "      <td>16.885205</td>\n",
       "    </tr>\n",
       "    <tr>\n",
       "      <th>R101</th>\n",
       "      <td>32.810577</td>\n",
       "      <td>43.515592</td>\n",
       "      <td>36.124342</td>\n",
       "      <td>17.436166</td>\n",
       "    </tr>\n",
       "    <tr>\n",
       "      <th>R50_FPN</th>\n",
       "      <td>32.528388</td>\n",
       "      <td>43.335347</td>\n",
       "      <td>35.291713</td>\n",
       "      <td>18.184412</td>\n",
       "    </tr>\n",
       "    <tr>\n",
       "      <th>R50_DC5</th>\n",
       "      <td>31.721918</td>\n",
       "      <td>43.682657</td>\n",
       "      <td>35.189993</td>\n",
       "      <td>16.106194</td>\n",
       "    </tr>\n",
       "    <tr>\n",
       "      <th>R50</th>\n",
       "      <td>31.080935</td>\n",
       "      <td>41.548232</td>\n",
       "      <td>34.032183</td>\n",
       "      <td>16.989777</td>\n",
       "    </tr>\n",
       "    <tr>\n",
       "      <th>R50_C4</th>\n",
       "      <td>31.079360</td>\n",
       "      <td>44.221552</td>\n",
       "      <td>34.446147</td>\n",
       "      <td>15.153276</td>\n",
       "    </tr>\n",
       "  </tbody>\n",
       "</table>\n",
       "</div>"
      ],
      "text/plain": [
       "                 AP        APl        APm        APs\n",
       "model                                               \n",
       "X101      34.927685  45.920218  37.778516  20.122565\n",
       "R101_FPN  34.167798  45.743412  37.028163  19.025153\n",
       "R101_C4   33.608163  47.307410  37.294725  16.611395\n",
       "R101_DC5  33.227068  45.751765  36.755736  16.885205\n",
       "R101      32.810577  43.515592  36.124342  17.436166\n",
       "R50_FPN   32.528388  43.335347  35.291713  18.184412\n",
       "R50_DC5   31.721918  43.682657  35.189993  16.106194\n",
       "R50       31.080935  41.548232  34.032183  16.989777\n",
       "R50_C4    31.079360  44.221552  34.446147  15.153276"
      ]
     },
     "execution_count": 7,
     "metadata": {},
     "output_type": "execute_result"
    }
   ],
   "source": [
    "avg_pivot = c_df.pivot_table(index='model', values=['AP', 'APl', 'APm', 'APs']).sort_values('AP', ascending=False)\n",
    "avg_pivot"
   ]
  },
  {
   "cell_type": "code",
   "execution_count": 8,
   "metadata": {
    "ExecuteTime": {
     "end_time": "2022-05-08T15:03:16.991533Z",
     "start_time": "2022-05-08T15:03:16.979588Z"
    }
   },
   "outputs": [],
   "source": [
    "def _save_plot(plot, name='', title=None):\n",
    "    if title:\n",
    "        plot.set_title(title)\n",
    "    fig = plot.get_figure()\n",
    "    fig.set_size_inches(4, 4)\n",
    "    if name:\n",
    "        fig.savefig(name)\n",
    "\n",
    "def plot_models(df, column, norm=False, **kwargs):\n",
    "    avg_pivot = df.pivot_table(index='model', values=[column]).sort_values(column, ascending=False)\n",
    "    c_pivot = df.pivot(index='quality', columns='model', values=column).reindex(columns=avg_pivot.index)\n",
    "    title = f'{column}: all models'\n",
    "    if norm:\n",
    "        c_pivot = c_pivot / c_pivot.max(axis=0)\n",
    "        title += ' (scaled)'\n",
    "    ax = c_pivot.plot(**kwargs)\n",
    "    ax.set_title(title)\n",
    "    return ax\n"
   ]
  },
  {
   "cell_type": "code",
   "execution_count": 9,
   "metadata": {
    "ExecuteTime": {
     "end_time": "2022-05-08T15:03:17.967009Z",
     "start_time": "2022-05-08T15:03:16.993302Z"
    }
   },
   "outputs": [
    {
     "name": "stdout",
     "output_type": "stream",
     "text": [
      "Figure saved to 2021-03-01-Plot_reval_05_APs/02-all_AP_raw.png and 2021-03-01-Plot_reval_05_APs/02-all_AP_raw.pdf\n"
     ]
    }
   ],
   "source": [
    "ax = plot_models(c_df, 'AP', ylim=None)\n",
    "# _save_plot(ax, 'all_AP_raw.pdf')\n",
    "save_plot(plt.gcf(), f\"2021-03-01-Plot_reval_05_APs/02-all_AP_raw\")\n",
    "plt.close()"
   ]
  },
  {
   "cell_type": "code",
   "execution_count": 10,
   "metadata": {
    "ExecuteTime": {
     "end_time": "2022-05-08T15:03:18.610197Z",
     "start_time": "2022-05-08T15:03:17.969636Z"
    }
   },
   "outputs": [
    {
     "name": "stdout",
     "output_type": "stream",
     "text": [
      "Figure saved to 2021-03-01-Plot_reval_05_APs/03-all_AP_scaled.png and 2021-03-01-Plot_reval_05_APs/03-all_AP_scaled.pdf\n"
     ]
    },
    {
     "data": {
      "image/png": "[encoded data removed]",
      "text/plain": [
       "<Figure size 288x288 with 1 Axes>"
      ]
     },
     "metadata": {
      "needs_background": "light"
     },
     "output_type": "display_data"
    }
   ],
   "source": [
    "ax = plot_models(c_df, 'AP', True)\n",
    "_save_plot(ax, 'all_AP_scaled.pdf')\n",
    "save_plot(plt.gcf(), f\"2021-03-01-Plot_reval_05_APs/03-all_AP_scaled\")\n",
    "#plt.close()"
   ]
  },
  {
   "cell_type": "code",
   "execution_count": 11,
   "metadata": {
    "ExecuteTime": {
     "end_time": "2022-05-08T15:03:26.799261Z",
     "start_time": "2022-05-08T15:03:18.611833Z"
    }
   },
   "outputs": [
    {
     "name": "stdout",
     "output_type": "stream",
     "text": [
      "Figure saved to 2021-03-01-Plot_reval_05_APs/04-APsml-R101.png and 2021-03-01-Plot_reval_05_APs/04-APsml-R101.pdf\n",
      "Figure saved to 2021-03-01-Plot_reval_05_APs/04-APsml-R101_C4.png and 2021-03-01-Plot_reval_05_APs/04-APsml-R101_C4.pdf\n",
      "Figure saved to 2021-03-01-Plot_reval_05_APs/04-APsml-R101_DC5.png and 2021-03-01-Plot_reval_05_APs/04-APsml-R101_DC5.pdf\n",
      "Figure saved to 2021-03-01-Plot_reval_05_APs/04-APsml-R101_FPN.png and 2021-03-01-Plot_reval_05_APs/04-APsml-R101_FPN.pdf\n",
      "Figure saved to 2021-03-01-Plot_reval_05_APs/04-APsml-R50.png and 2021-03-01-Plot_reval_05_APs/04-APsml-R50.pdf\n",
      "Figure saved to 2021-03-01-Plot_reval_05_APs/04-APsml-R50_C4.png and 2021-03-01-Plot_reval_05_APs/04-APsml-R50_C4.pdf\n",
      "Figure saved to 2021-03-01-Plot_reval_05_APs/04-APsml-R50_DC5.png and 2021-03-01-Plot_reval_05_APs/04-APsml-R50_DC5.pdf\n",
      "Figure saved to 2021-03-01-Plot_reval_05_APs/04-APsml-R50_FPN.png and 2021-03-01-Plot_reval_05_APs/04-APsml-R50_FPN.pdf\n",
      "Figure saved to 2021-03-01-Plot_reval_05_APs/04-APsml-X101.png and 2021-03-01-Plot_reval_05_APs/04-APsml-X101.pdf\n"
     ]
    }
   ],
   "source": [
    "for mc in c_df.model.unique():\n",
    "    m_df = c_df[c_df.model == mc][['quality', 'APl', 'APm', 'APs']]\n",
    "    ax = m_df.plot(x='quality', ylim=YLIM_APL, color=COLOR_SML)\n",
    "    ax.set_title(mc)\n",
    "    save_plot(plt.gcf(), f\"2021-03-01-Plot_reval_05_APs/04-APsml-{mc}\")\n",
    "    plt.close()"
   ]
  },
  {
   "cell_type": "code",
   "execution_count": 12,
   "metadata": {
    "ExecuteTime": {
     "end_time": "2022-05-08T15:03:28.228080Z",
     "start_time": "2022-05-08T15:03:26.800692Z"
    }
   },
   "outputs": [
    {
     "name": "stdout",
     "output_type": "stream",
     "text": [
      "Figure saved to 2021-03-01-Plot_reval_05_APs/05-APsml-all.png and 2021-03-01-Plot_reval_05_APs/05-APsml-all.pdf\n"
     ]
    }
   ],
   "source": [
    "# no color=COLOR_SML -- this plot is too bad anyway\n",
    "pd.pivot(c_df, index='quality', columns='model', values=['APs', 'APm', 'APl']).plot(ylim=YLIM_APL);\n",
    "save_plot(plt.gcf(), f\"2021-03-01-Plot_reval_05_APs/05-APsml-all\")\n",
    "plt.close();"
   ]
  },
  {
   "cell_type": "code",
   "execution_count": 32,
   "metadata": {
    "ExecuteTime": {
     "end_time": "2022-05-08T15:46:53.800450Z",
     "start_time": "2022-05-08T15:46:53.287064Z"
    }
   },
   "outputs": [
    {
     "name": "stdout",
     "output_type": "stream",
     "text": [
      "Figure saved to 2021-03-01-Plot_reval_05_APs/06-APsml-allavg-scaled.png and 2021-03-01-Plot_reval_05_APs/06-APsml-allavg-scaled.pdf\n"
     ]
    }
   ],
   "source": [
    "mAPsml = c_df.groupby('quality').agg({x: 'mean' for x in reversed(('APs', 'APm', 'APl'))})\n",
    "mAPsml = mAPsml / mAPsml.max(axis=0)\n",
    "plot = mAPsml.plot(color=COLOR_SML)\n",
    "_save_plot(plot, 'average_APlms_scaled.pdf', 'Per-size AP (scaled)')\n",
    "save_plot(plt.gcf(), f\"2021-03-01-Plot_reval_05_APs/06-APsml-allavg-scaled\")\n",
    "plt.close()"
   ]
  },
  {
   "cell_type": "code",
   "execution_count": 33,
   "metadata": {
    "ExecuteTime": {
     "end_time": "2022-05-08T15:46:54.648984Z",
     "start_time": "2022-05-08T15:46:54.055705Z"
    }
   },
   "outputs": [
    {
     "name": "stdout",
     "output_type": "stream",
     "text": [
      "Figure saved to 2021-03-01-Plot_reval_05_APs/07-APsml-allavg-raw.png and 2021-03-01-Plot_reval_05_APs/07-APsml-allavg-raw.pdf\n"
     ]
    }
   ],
   "source": [
    "plot = c_df.groupby('quality').agg({x: 'mean' for x in reversed(('APs', 'APm', 'APl'))}).plot(ylim=YLIM_AP, color=COLOR_SML)\n",
    "_save_plot(plot, 'average_APlms.pdf', \"Per-size AP (large, medium, small)\")\n",
    "save_plot(plt.gcf(), f\"2021-03-01-Plot_reval_05_APs/07-APsml-allavg-raw\")\n",
    "plt.close()"
   ]
  },
  {
   "cell_type": "markdown",
   "metadata": {},
   "source": [
    "# \"Rich\" results, with TPR, PPV and F1\n",
    "Computed for Tc = 0.5, used to have wrong results (crowds, i.e. EX, counted as TP)"
   ]
  },
  {
   "cell_type": "code",
   "execution_count": 15,
   "metadata": {
    "ExecuteTime": {
     "end_time": "2022-05-08T15:03:30.406121Z",
     "start_time": "2022-05-08T15:03:29.352467Z"
    }
   },
   "outputs": [
    {
     "data": {
      "text/html": [
       "<div>\n",
       "<style scoped>\n",
       "    .dataframe tbody tr th:only-of-type {\n",
       "        vertical-align: middle;\n",
       "    }\n",
       "\n",
       "    .dataframe tbody tr th {\n",
       "        vertical-align: top;\n",
       "    }\n",
       "\n",
       "    .dataframe thead th {\n",
       "        text-align: right;\n",
       "    }\n",
       "</style>\n",
       "<table border=\"1\" class=\"dataframe\">\n",
       "  <thead>\n",
       "    <tr style=\"text-align: right;\">\n",
       "      <th></th>\n",
       "      <th>quality</th>\n",
       "      <th>model</th>\n",
       "      <th>elapsed</th>\n",
       "      <th>tp</th>\n",
       "      <th>fp</th>\n",
       "      <th>ex</th>\n",
       "      <th>precision</th>\n",
       "      <th>recall</th>\n",
       "      <th>f1</th>\n",
       "      <th>min_score</th>\n",
       "      <th>score_T</th>\n",
       "      <th>AP</th>\n",
       "      <th>AP50</th>\n",
       "      <th>AP75</th>\n",
       "      <th>APs</th>\n",
       "      <th>APm</th>\n",
       "      <th>APl</th>\n",
       "    </tr>\n",
       "  </thead>\n",
       "  <tbody>\n",
       "    <tr>\n",
       "      <th>133</th>\n",
       "      <td>97</td>\n",
       "      <td>X101</td>\n",
       "      <td>2950.533190</td>\n",
       "      <td>29538</td>\n",
       "      <td>69427</td>\n",
       "      <td>11885</td>\n",
       "      <td>0.298469</td>\n",
       "      <td>0.812935</td>\n",
       "      <td>0.436630</td>\n",
       "      <td>0.050000</td>\n",
       "      <td>None</td>\n",
       "      <td>43.125026</td>\n",
       "      <td>63.823199</td>\n",
       "      <td>47.014898</td>\n",
       "      <td>27.212577</td>\n",
       "      <td>46.190293</td>\n",
       "      <td>54.863181</td>\n",
       "    </tr>\n",
       "    <tr>\n",
       "      <th>175</th>\n",
       "      <td>98</td>\n",
       "      <td>X101</td>\n",
       "      <td>2949.976151</td>\n",
       "      <td>29537</td>\n",
       "      <td>69465</td>\n",
       "      <td>11845</td>\n",
       "      <td>0.298348</td>\n",
       "      <td>0.812908</td>\n",
       "      <td>0.436496</td>\n",
       "      <td>0.050000</td>\n",
       "      <td>None</td>\n",
       "      <td>43.064660</td>\n",
       "      <td>63.628361</td>\n",
       "      <td>46.943094</td>\n",
       "      <td>26.896694</td>\n",
       "      <td>46.098858</td>\n",
       "      <td>54.857996</td>\n",
       "    </tr>\n",
       "    <tr>\n",
       "      <th>103</th>\n",
       "      <td>99</td>\n",
       "      <td>X101</td>\n",
       "      <td>2952.297939</td>\n",
       "      <td>29549</td>\n",
       "      <td>69465</td>\n",
       "      <td>11835</td>\n",
       "      <td>0.298433</td>\n",
       "      <td>0.813238</td>\n",
       "      <td>0.436634</td>\n",
       "      <td>0.050000</td>\n",
       "      <td>None</td>\n",
       "      <td>43.101607</td>\n",
       "      <td>63.681584</td>\n",
       "      <td>47.133904</td>\n",
       "      <td>27.035522</td>\n",
       "      <td>46.123877</td>\n",
       "      <td>54.916508</td>\n",
       "    </tr>\n",
       "    <tr>\n",
       "      <th>112</th>\n",
       "      <td>100</td>\n",
       "      <td>X101</td>\n",
       "      <td>2952.063746</td>\n",
       "      <td>29549</td>\n",
       "      <td>69454</td>\n",
       "      <td>11853</td>\n",
       "      <td>0.298466</td>\n",
       "      <td>0.813238</td>\n",
       "      <td>0.436670</td>\n",
       "      <td>0.050001</td>\n",
       "      <td>None</td>\n",
       "      <td>43.070649</td>\n",
       "      <td>63.715295</td>\n",
       "      <td>46.980151</td>\n",
       "      <td>26.992763</td>\n",
       "      <td>46.103360</td>\n",
       "      <td>54.878414</td>\n",
       "    </tr>\n",
       "    <tr>\n",
       "      <th>406</th>\n",
       "      <td>101</td>\n",
       "      <td>X101</td>\n",
       "      <td>2673.639724</td>\n",
       "      <td>29546</td>\n",
       "      <td>69608</td>\n",
       "      <td>11862</td>\n",
       "      <td>0.297981</td>\n",
       "      <td>0.813155</td>\n",
       "      <td>0.436139</td>\n",
       "      <td>0.050000</td>\n",
       "      <td>None</td>\n",
       "      <td>43.046948</td>\n",
       "      <td>63.651725</td>\n",
       "      <td>46.888371</td>\n",
       "      <td>27.205004</td>\n",
       "      <td>46.093387</td>\n",
       "      <td>54.890155</td>\n",
       "    </tr>\n",
       "  </tbody>\n",
       "</table>\n",
       "</div>"
      ],
      "text/plain": [
       "     quality model      elapsed     tp     fp     ex  precision    recall  \\\n",
       "133       97  X101  2950.533190  29538  69427  11885   0.298469  0.812935   \n",
       "175       98  X101  2949.976151  29537  69465  11845   0.298348  0.812908   \n",
       "103       99  X101  2952.297939  29549  69465  11835   0.298433  0.813238   \n",
       "112      100  X101  2952.063746  29549  69454  11853   0.298466  0.813238   \n",
       "406      101  X101  2673.639724  29546  69608  11862   0.297981  0.813155   \n",
       "\n",
       "           f1  min_score score_T         AP       AP50       AP75        APs  \\\n",
       "133  0.436630   0.050000    None  43.125026  63.823199  47.014898  27.212577   \n",
       "175  0.436496   0.050000    None  43.064660  63.628361  46.943094  26.896694   \n",
       "103  0.436634   0.050000    None  43.101607  63.681584  47.133904  27.035522   \n",
       "112  0.436670   0.050001    None  43.070649  63.715295  46.980151  26.992763   \n",
       "406  0.436139   0.050000    None  43.046948  63.651725  46.888371  27.205004   \n",
       "\n",
       "           APm        APl  \n",
       "133  46.190293  54.863181  \n",
       "175  46.098858  54.857996  \n",
       "103  46.123877  54.916508  \n",
       "112  46.103360  54.878414  \n",
       "406  46.093387  54.890155  "
      ]
     },
     "execution_count": 15,
     "metadata": {},
     "output_type": "execute_result"
    }
   ],
   "source": [
    "rich_files = glob.glob(f'{REVAL_DIR}/*/*/rich_results.json')\n",
    "\n",
    "df = pd.DataFrame(load(f) for f in rich_files).sort_values(['model', 'quality'])\n",
    "df.tail()"
   ]
  },
  {
   "cell_type": "code",
   "execution_count": 16,
   "metadata": {
    "ExecuteTime": {
     "end_time": "2022-05-08T15:03:35.569221Z",
     "start_time": "2022-05-08T15:03:30.407904Z"
    }
   },
   "outputs": [
    {
     "name": "stdout",
     "output_type": "stream",
     "text": [
      "Figure saved to 2021-03-01-Plot_reval_05_APs/08-PRF1-R101.png and 2021-03-01-Plot_reval_05_APs/08-PRF1-R101.pdf\n",
      "Figure saved to 2021-03-01-Plot_reval_05_APs/08-PRF1-R101_C4.png and 2021-03-01-Plot_reval_05_APs/08-PRF1-R101_C4.pdf\n",
      "Figure saved to 2021-03-01-Plot_reval_05_APs/08-PRF1-R101_DC5.png and 2021-03-01-Plot_reval_05_APs/08-PRF1-R101_DC5.pdf\n",
      "Figure saved to 2021-03-01-Plot_reval_05_APs/08-PRF1-R101_FPN.png and 2021-03-01-Plot_reval_05_APs/08-PRF1-R101_FPN.pdf\n",
      "Figure saved to 2021-03-01-Plot_reval_05_APs/08-PRF1-R50.png and 2021-03-01-Plot_reval_05_APs/08-PRF1-R50.pdf\n",
      "Figure saved to 2021-03-01-Plot_reval_05_APs/08-PRF1-R50_C4.png and 2021-03-01-Plot_reval_05_APs/08-PRF1-R50_C4.pdf\n",
      "Figure saved to 2021-03-01-Plot_reval_05_APs/08-PRF1-R50_DC5.png and 2021-03-01-Plot_reval_05_APs/08-PRF1-R50_DC5.pdf\n",
      "Figure saved to 2021-03-01-Plot_reval_05_APs/08-PRF1-R50_FPN.png and 2021-03-01-Plot_reval_05_APs/08-PRF1-R50_FPN.pdf\n",
      "Figure saved to 2021-03-01-Plot_reval_05_APs/08-PRF1-X101.png and 2021-03-01-Plot_reval_05_APs/08-PRF1-X101.pdf\n"
     ]
    }
   ],
   "source": [
    "for mc in df.model.unique():\n",
    "    ax = df[df.model == mc][['quality', 'precision', 'recall', 'f1']].plot(x='quality', ylim=YLIM_F1)\n",
    "    ax.set_title(mc)\n",
    "    _save_plot(ax, f'{mc}_prf1.pdf')\n",
    "    save_plot(plt.gcf(), f\"2021-03-01-Plot_reval_05_APs/08-PRF1-{mc}\")\n",
    "    plt.close()"
   ]
  },
  {
   "cell_type": "code",
   "execution_count": 17,
   "metadata": {
    "ExecuteTime": {
     "end_time": "2022-05-08T15:03:36.225920Z",
     "start_time": "2022-05-08T15:03:35.570862Z"
    }
   },
   "outputs": [
    {
     "name": "stdout",
     "output_type": "stream",
     "text": [
      "Figure saved to 2021-03-01-Plot_reval_05_APs/09-all_PPV_raw.png and 2021-03-01-Plot_reval_05_APs/09-all_PPV_raw.pdf\n"
     ]
    }
   ],
   "source": [
    "ax = plot_models(df, 'precision', ylim=None)\n",
    "_save_plot(ax, 'all_PPV_raw.pdf')\n",
    "save_plot(plt.gcf(), f\"2021-03-01-Plot_reval_05_APs/09-all_PPV_raw\")\n",
    "plt.close()"
   ]
  },
  {
   "cell_type": "code",
   "execution_count": 18,
   "metadata": {
    "ExecuteTime": {
     "end_time": "2022-05-08T15:03:36.819256Z",
     "start_time": "2022-05-08T15:03:36.229974Z"
    }
   },
   "outputs": [
    {
     "name": "stdout",
     "output_type": "stream",
     "text": [
      "Figure saved to 2021-03-01-Plot_reval_05_APs/10-all_TPR_raw.png and 2021-03-01-Plot_reval_05_APs/10-all_TPR_raw.pdf\n"
     ]
    }
   ],
   "source": [
    "ax = plot_models(df, 'recall', ylim=YLIM_F1)\n",
    "_save_plot(ax, 'all_TPR_raw.pdf')\n",
    "save_plot(plt.gcf(), f\"2021-03-01-Plot_reval_05_APs/10-all_TPR_raw\")\n",
    "plt.close()"
   ]
  },
  {
   "cell_type": "code",
   "execution_count": 19,
   "metadata": {
    "ExecuteTime": {
     "end_time": "2022-05-08T15:03:37.573109Z",
     "start_time": "2022-05-08T15:03:36.821017Z"
    }
   },
   "outputs": [
    {
     "name": "stdout",
     "output_type": "stream",
     "text": [
      "Figure saved to 2021-03-01-Plot_reval_05_APs/11-all_F1_raw.png and 2021-03-01-Plot_reval_05_APs/11-all_F1_raw.pdf\n"
     ]
    }
   ],
   "source": [
    "ax = plot_models(df, 'f1') # ylim=YLIM_F1\n",
    "_save_plot(ax, 'all_F1_raw.pdf')\n",
    "save_plot(plt.gcf(), f\"2021-03-01-Plot_reval_05_APs/11-all_F1_raw\")\n",
    "plt.close()"
   ]
  },
  {
   "cell_type": "markdown",
   "metadata": {},
   "source": [
    "# Structural similarity (SSIM)"
   ]
  },
  {
   "cell_type": "code",
   "execution_count": 20,
   "metadata": {
    "ExecuteTime": {
     "end_time": "2022-05-08T15:03:37.585654Z",
     "start_time": "2022-05-08T15:03:37.574946Z"
    }
   },
   "outputs": [
    {
     "data": {
      "text/html": [
       "<div>\n",
       "<style scoped>\n",
       "    .dataframe tbody tr th:only-of-type {\n",
       "        vertical-align: middle;\n",
       "    }\n",
       "\n",
       "    .dataframe tbody tr th {\n",
       "        vertical-align: top;\n",
       "    }\n",
       "\n",
       "    .dataframe thead th {\n",
       "        text-align: right;\n",
       "    }\n",
       "</style>\n",
       "<table border=\"1\" class=\"dataframe\">\n",
       "  <thead>\n",
       "    <tr style=\"text-align: right;\">\n",
       "      <th></th>\n",
       "      <th>quality</th>\n",
       "      <th>mean_squared_error</th>\n",
       "      <th>peak_signal_noise_ratio</th>\n",
       "      <th>structural_similarity</th>\n",
       "      <th>filesize</th>\n",
       "      <th>B_per_kpx</th>\n",
       "    </tr>\n",
       "  </thead>\n",
       "  <tbody>\n",
       "    <tr>\n",
       "      <th>0</th>\n",
       "      <td>1</td>\n",
       "      <td>536.18</td>\n",
       "      <td>21.205</td>\n",
       "      <td>0.539</td>\n",
       "      <td>7203.782</td>\n",
       "      <td>9.291</td>\n",
       "    </tr>\n",
       "    <tr>\n",
       "      <th>1</th>\n",
       "      <td>2</td>\n",
       "      <td>535.91</td>\n",
       "      <td>21.207</td>\n",
       "      <td>0.539</td>\n",
       "      <td>7207.225</td>\n",
       "      <td>9.295</td>\n",
       "    </tr>\n",
       "  </tbody>\n",
       "</table>\n",
       "</div>"
      ],
      "text/plain": [
       "   quality  mean_squared_error  peak_signal_noise_ratio  \\\n",
       "0        1              536.18                   21.205   \n",
       "1        2              535.91                   21.207   \n",
       "\n",
       "   structural_similarity  filesize  B_per_kpx  \n",
       "0                  0.539  7203.782      9.291  \n",
       "1                  0.539  7207.225      9.295  "
      ]
     },
     "execution_count": 20,
     "metadata": {},
     "output_type": "execute_result"
    }
   ],
   "source": [
    "qdf = pd.read_csv('../data/val2017_means_per_Q.csv')\n",
    "qdf.head(2)"
   ]
  },
  {
   "cell_type": "code",
   "execution_count": 21,
   "metadata": {
    "ExecuteTime": {
     "end_time": "2022-05-08T15:03:37.683723Z",
     "start_time": "2022-05-08T15:03:37.587087Z"
    }
   },
   "outputs": [
    {
     "data": {
      "text/html": [
       "<div>\n",
       "<style scoped>\n",
       "    .dataframe tbody tr th:only-of-type {\n",
       "        vertical-align: middle;\n",
       "    }\n",
       "\n",
       "    .dataframe tbody tr th {\n",
       "        vertical-align: top;\n",
       "    }\n",
       "\n",
       "    .dataframe thead th {\n",
       "        text-align: right;\n",
       "    }\n",
       "</style>\n",
       "<table border=\"1\" class=\"dataframe\">\n",
       "  <thead>\n",
       "    <tr style=\"text-align: right;\">\n",
       "      <th></th>\n",
       "      <th>elapsed</th>\n",
       "      <th>tp</th>\n",
       "      <th>fp</th>\n",
       "      <th>ex</th>\n",
       "      <th>precision</th>\n",
       "      <th>recall</th>\n",
       "      <th>f1</th>\n",
       "      <th>min_score</th>\n",
       "      <th>AP</th>\n",
       "      <th>AP50</th>\n",
       "      <th>AP75</th>\n",
       "      <th>APs</th>\n",
       "      <th>APm</th>\n",
       "      <th>APl</th>\n",
       "    </tr>\n",
       "    <tr>\n",
       "      <th>quality</th>\n",
       "      <th></th>\n",
       "      <th></th>\n",
       "      <th></th>\n",
       "      <th></th>\n",
       "      <th></th>\n",
       "      <th></th>\n",
       "      <th></th>\n",
       "      <th></th>\n",
       "      <th></th>\n",
       "      <th></th>\n",
       "      <th></th>\n",
       "      <th></th>\n",
       "      <th></th>\n",
       "      <th></th>\n",
       "    </tr>\n",
       "  </thead>\n",
       "  <tbody>\n",
       "    <tr>\n",
       "      <th>100</th>\n",
       "      <td>1144.756110</td>\n",
       "      <td>29614.777778</td>\n",
       "      <td>164210.111111</td>\n",
       "      <td>13742.888889</td>\n",
       "      <td>0.183927</td>\n",
       "      <td>0.815048</td>\n",
       "      <td>0.294050</td>\n",
       "      <td>0.050001</td>\n",
       "      <td>40.381796</td>\n",
       "      <td>60.816121</td>\n",
       "      <td>43.674192</td>\n",
       "      <td>23.457767</td>\n",
       "      <td>44.269027</td>\n",
       "      <td>53.271776</td>\n",
       "    </tr>\n",
       "    <tr>\n",
       "      <th>101</th>\n",
       "      <td>1097.117104</td>\n",
       "      <td>29613.444444</td>\n",
       "      <td>164403.333333</td>\n",
       "      <td>13744.888889</td>\n",
       "      <td>0.183683</td>\n",
       "      <td>0.815012</td>\n",
       "      <td>0.293742</td>\n",
       "      <td>0.050001</td>\n",
       "      <td>40.392295</td>\n",
       "      <td>60.849938</td>\n",
       "      <td>43.650912</td>\n",
       "      <td>23.476854</td>\n",
       "      <td>44.283071</td>\n",
       "      <td>53.287806</td>\n",
       "    </tr>\n",
       "  </tbody>\n",
       "</table>\n",
       "</div>"
      ],
      "text/plain": [
       "             elapsed            tp             fp            ex  precision  \\\n",
       "quality                                                                      \n",
       "100      1144.756110  29614.777778  164210.111111  13742.888889   0.183927   \n",
       "101      1097.117104  29613.444444  164403.333333  13744.888889   0.183683   \n",
       "\n",
       "           recall        f1  min_score         AP       AP50       AP75  \\\n",
       "quality                                                                   \n",
       "100      0.815048  0.294050   0.050001  40.381796  60.816121  43.674192   \n",
       "101      0.815012  0.293742   0.050001  40.392295  60.849938  43.650912   \n",
       "\n",
       "               APs        APm        APl  \n",
       "quality                                   \n",
       "100      23.457767  44.269027  53.271776  \n",
       "101      23.476854  44.283071  53.287806  "
      ]
     },
     "execution_count": 21,
     "metadata": {},
     "output_type": "execute_result"
    }
   ],
   "source": [
    "avgdf = df.groupby('quality').agg('mean')\n",
    "avgdf.tail(2)"
   ]
  },
  {
   "cell_type": "code",
   "execution_count": 22,
   "metadata": {
    "ExecuteTime": {
     "end_time": "2022-05-08T15:03:37.711556Z",
     "start_time": "2022-05-08T15:03:37.695456Z"
    }
   },
   "outputs": [],
   "source": [
    "rich = pd.merge(avgdf, qdf, left_index=True, right_index=True)"
   ]
  },
  {
   "cell_type": "code",
   "execution_count": 23,
   "metadata": {
    "ExecuteTime": {
     "end_time": "2022-05-08T15:03:38.247835Z",
     "start_time": "2022-05-08T15:03:37.720171Z"
    }
   },
   "outputs": [
    {
     "name": "stdout",
     "output_type": "stream",
     "text": [
      "Figure saved to 2021-03-01-Plot_reval_05_APs/12-recall_by_ssim.png and 2021-03-01-Plot_reval_05_APs/12-recall_by_ssim.pdf\n"
     ]
    }
   ],
   "source": [
    "ax = rich.plot(x='structural_similarity', y='recall', xlim=(0, 1), ylim=(0, 1))\n",
    "_save_plot(ax, 'recall_by_ssim.pdf')\n",
    "save_plot(plt.gcf(), f\"2021-03-01-Plot_reval_05_APs/12-recall_by_ssim\")\n",
    "plt.close()"
   ]
  },
  {
   "cell_type": "code",
   "execution_count": 24,
   "metadata": {
    "ExecuteTime": {
     "end_time": "2022-05-08T15:03:38.866233Z",
     "start_time": "2022-05-08T15:03:38.250167Z"
    }
   },
   "outputs": [
    {
     "name": "stdout",
     "output_type": "stream",
     "text": [
      "Figure saved to 2021-03-01-Plot_reval_05_APs/13-precision_by_ssim.png and 2021-03-01-Plot_reval_05_APs/13-precision_by_ssim.pdf\n"
     ]
    }
   ],
   "source": [
    "ax = rich.plot(x='structural_similarity', y='precision')#, xlim=(0, 1), ylim=(0, 1))\n",
    "_save_plot(ax, '')\n",
    "save_plot(plt.gcf(), f\"2021-03-01-Plot_reval_05_APs/13-precision_by_ssim\")\n",
    "plt.close()"
   ]
  },
  {
   "cell_type": "code",
   "execution_count": 25,
   "metadata": {
    "ExecuteTime": {
     "end_time": "2022-05-08T15:03:39.486439Z",
     "start_time": "2022-05-08T15:03:38.868231Z"
    }
   },
   "outputs": [
    {
     "name": "stdout",
     "output_type": "stream",
     "text": [
      "Figure saved to 2021-03-01-Plot_reval_05_APs/14-F1_by_ssim.png and 2021-03-01-Plot_reval_05_APs/14-F1_by_ssim.pdf\n"
     ]
    }
   ],
   "source": [
    "ax = rich.plot(x='structural_similarity', y='f1')#, xlim=(0, 1), ylim=(0, 1))\n",
    "_save_plot(ax, '')\n",
    "save_plot(plt.gcf(), f\"2021-03-01-Plot_reval_05_APs/14-F1_by_ssim\")\n",
    "plt.close()"
   ]
  },
  {
   "cell_type": "code",
   "execution_count": 26,
   "metadata": {
    "ExecuteTime": {
     "end_time": "2022-05-08T15:03:40.030556Z",
     "start_time": "2022-05-08T15:03:39.488159Z"
    }
   },
   "outputs": [
    {
     "name": "stdout",
     "output_type": "stream",
     "text": [
      "Figure saved to 2021-03-01-Plot_reval_05_APs/15-SSIM_by_quality.png and 2021-03-01-Plot_reval_05_APs/15-SSIM_by_quality.pdf\n"
     ]
    }
   ],
   "source": [
    "ax = rich.plot(x='quality', y='structural_similarity', ylim=(0, 1))\n",
    "# , xlabel=\"jakość JPEG (Q)\", ylabel=\"wartość SSIM\", legend=False\n",
    "_save_plot(ax, 'SSIM_by_q.pdf')\n",
    "save_plot(plt.gcf(), f\"2021-03-01-Plot_reval_05_APs/15-SSIM_by_quality\")\n",
    "plt.close()"
   ]
  },
  {
   "cell_type": "code",
   "execution_count": 27,
   "metadata": {
    "ExecuteTime": {
     "end_time": "2022-05-08T15:03:40.547415Z",
     "start_time": "2022-05-08T15:03:40.032195Z"
    }
   },
   "outputs": [
    {
     "name": "stdout",
     "output_type": "stream",
     "text": [
      "Figure saved to 2021-03-01-Plot_reval_05_APs/16-pr_by_SSIM.png and 2021-03-01-Plot_reval_05_APs/16-pr_by_SSIM.pdf\n"
     ]
    }
   ],
   "source": [
    "ax = rich[['structural_similarity', 'precision', 'recall']].plot(x='structural_similarity', xlim=(0, 1), ylim=(0, 1))\n",
    "_save_plot(ax, 'pr_by_SSIM.pdf')\n",
    "save_plot(plt.gcf(), f\"2021-03-01-Plot_reval_05_APs/16-pr_by_SSIM\")\n",
    "plt.close()"
   ]
  },
  {
   "cell_type": "code",
   "execution_count": 28,
   "metadata": {
    "ExecuteTime": {
     "end_time": "2022-05-08T15:03:41.036089Z",
     "start_time": "2022-05-08T15:03:40.551241Z"
    }
   },
   "outputs": [
    {
     "name": "stdout",
     "output_type": "stream",
     "text": [
      "Figure saved to 2021-03-01-Plot_reval_05_APs/17-avgAP_by_quality.png and 2021-03-01-Plot_reval_05_APs/17-avgAP_by_quality.pdf\n"
     ]
    }
   ],
   "source": [
    "ax = rich.plot(x='quality', y='AP', ylim=(0, 100), xlim=(0, 100))\n",
    "_save_plot(ax, '')\n",
    "save_plot(plt.gcf(), f\"2021-03-01-Plot_reval_05_APs/17-avgAP_by_quality\")\n",
    "plt.close()"
   ]
  },
  {
   "cell_type": "code",
   "execution_count": 29,
   "metadata": {
    "ExecuteTime": {
     "end_time": "2022-05-08T15:03:41.503099Z",
     "start_time": "2022-05-08T15:03:41.037967Z"
    }
   },
   "outputs": [
    {
     "name": "stdout",
     "output_type": "stream",
     "text": [
      "Figure saved to 2021-03-01-Plot_reval_05_APs/18-avgAP_by_SSIM.png and 2021-03-01-Plot_reval_05_APs/18-avgAP_by_SSIM.pdf\n"
     ]
    }
   ],
   "source": [
    "ax = rich.plot(x='structural_similarity', y='AP', xlim=(0, 1), ylim=(0, 100))\n",
    "_save_plot(ax, 'AP_by_SSIM.pdf')\n",
    "save_plot(plt.gcf(), f\"2021-03-01-Plot_reval_05_APs/18-avgAP_by_SSIM\")\n",
    "plt.close()"
   ]
  },
  {
   "cell_type": "markdown",
   "metadata": {},
   "source": [
    "# Tables"
   ]
  },
  {
   "cell_type": "code",
   "execution_count": 30,
   "metadata": {
    "ExecuteTime": {
     "end_time": "2022-05-08T15:03:41.521084Z",
     "start_time": "2022-05-08T15:03:41.504905Z"
    }
   },
   "outputs": [
    {
     "data": {
      "text/html": [
       "<div>\n",
       "<style scoped>\n",
       "    .dataframe tbody tr th:only-of-type {\n",
       "        vertical-align: middle;\n",
       "    }\n",
       "\n",
       "    .dataframe tbody tr th {\n",
       "        vertical-align: top;\n",
       "    }\n",
       "\n",
       "    .dataframe thead th {\n",
       "        text-align: right;\n",
       "    }\n",
       "</style>\n",
       "<table border=\"1\" class=\"dataframe\">\n",
       "  <thead>\n",
       "    <tr style=\"text-align: right;\">\n",
       "      <th></th>\n",
       "      <th>index</th>\n",
       "      <th>AP</th>\n",
       "      <th>APl</th>\n",
       "      <th>APm</th>\n",
       "      <th>APs</th>\n",
       "    </tr>\n",
       "  </thead>\n",
       "  <tbody>\n",
       "    <tr>\n",
       "      <th>0</th>\n",
       "      <td>96</td>\n",
       "      <td>40.3</td>\n",
       "      <td>53.2</td>\n",
       "      <td>44.2</td>\n",
       "      <td>23.5</td>\n",
       "    </tr>\n",
       "    <tr>\n",
       "      <th>1</th>\n",
       "      <td>90</td>\n",
       "      <td>40.1</td>\n",
       "      <td>53.1</td>\n",
       "      <td>43.9</td>\n",
       "      <td>23.3</td>\n",
       "    </tr>\n",
       "    <tr>\n",
       "      <th>2</th>\n",
       "      <td>80</td>\n",
       "      <td>39.4</td>\n",
       "      <td>52.5</td>\n",
       "      <td>43.0</td>\n",
       "      <td>22.1</td>\n",
       "    </tr>\n",
       "    <tr>\n",
       "      <th>3</th>\n",
       "      <td>60</td>\n",
       "      <td>38.0</td>\n",
       "      <td>51.3</td>\n",
       "      <td>41.7</td>\n",
       "      <td>20.0</td>\n",
       "    </tr>\n",
       "    <tr>\n",
       "      <th>4</th>\n",
       "      <td>40</td>\n",
       "      <td>36.1</td>\n",
       "      <td>49.5</td>\n",
       "      <td>39.6</td>\n",
       "      <td>18.2</td>\n",
       "    </tr>\n",
       "    <tr>\n",
       "      <th>5</th>\n",
       "      <td>20</td>\n",
       "      <td>28.4</td>\n",
       "      <td>40.1</td>\n",
       "      <td>31.1</td>\n",
       "      <td>13.1</td>\n",
       "    </tr>\n",
       "  </tbody>\n",
       "</table>\n",
       "</div>"
      ],
      "text/plain": [
       "   index    AP   APl   APm   APs\n",
       "0     96  40.3  53.2  44.2  23.5\n",
       "1     90  40.1  53.1  43.9  23.3\n",
       "2     80  39.4  52.5  43.0  22.1\n",
       "3     60  38.0  51.3  41.7  20.0\n",
       "4     40  36.1  49.5  39.6  18.2\n",
       "5     20  28.4  40.1  31.1  13.1"
      ]
     },
     "execution_count": 30,
     "metadata": {},
     "output_type": "execute_result"
    }
   ],
   "source": [
    "rich.loc[[96, 90, 80, 60, 40, 20], ['AP', 'APl', 'APm', 'APs']].round(1).reset_index()"
   ]
  },
  {
   "cell_type": "code",
   "execution_count": 31,
   "metadata": {
    "ExecuteTime": {
     "end_time": "2022-05-08T15:03:41.694210Z",
     "start_time": "2022-05-08T15:03:41.522545Z"
    }
   },
   "outputs": [
    {
     "name": "stdout",
     "output_type": "stream",
     "text": [
      "\\begin{tabular}{lrrrrrrrrrr}\n",
      "\\toprule\n",
      "{} &    AP &  AP50 &  AP75 &   APl &   APm &   APs &   TPR &   PPV &  SSIM &   size \\\\\n",
      "quality &       &       &       &       &       &       &       &       &       &        \\\\\n",
      "\\midrule\n",
      "96      &  40.3 &  60.7 &  43.5 &  53.2 &  44.2 &  23.5 &  81.4 &  18.4 &  99.9 &  167.1 \\\\\n",
      "90      &  40.1 &  60.5 &  43.2 &  53.1 &  43.8 &  23.2 &  81.2 &  18.5 &  97.1 &  107.0 \\\\\n",
      "80      &  39.4 &  59.6 &  42.4 &  52.5 &  43.0 &  22.2 &  80.5 &  18.5 &  93.4 &   74.6 \\\\\n",
      "60      &  37.9 &  57.8 &  40.8 &  51.3 &  41.5 &  20.1 &  79.1 &  18.1 &  89.5 &   46.5 \\\\\n",
      "40      &  36.0 &  55.5 &  38.4 &  49.4 &  39.6 &  18.3 &  77.5 &  17.3 &  86.3 &   33.9 \\\\\n",
      "20      &  27.3 &  44.2 &  28.5 &  38.5 &  30.2 &  12.6 &  69.7 &  13.8 &  80.5 &   21.3 \\\\\n",
      "10      &  10.8 &  18.7 &  10.8 &  15.9 &  12.3 &   4.8 &  43.0 &   8.0 &  72.6 &   13.5 \\\\\n",
      "\\bottomrule\n",
      "\\end{tabular}\n",
      "\n"
     ]
    },
    {
     "name": "stderr",
     "output_type": "stream",
     "text": [
      "/tmp/ipykernel_27383/700065347.py:14: FutureWarning: In future versions `DataFrame.to_latex` is expected to utilise the base implementation of `Styler.to_latex` for formatting and rendering. The arguments signature may therefore change. It is recommended instead to use `DataFrame.style.to_latex` which also contains additional functionality.\n",
      "  .to_latex()\n"
     ]
    }
   ],
   "source": [
    "rich['PPV'] = rich.precision * 100\n",
    "rich['TPR'] = rich.recall * 100\n",
    "rich['SSIM'] = rich.structural_similarity * 100\n",
    "rich['size'] = rich.filesize / 1024\n",
    "print(rich\n",
    "     .replace('precision', 100 * rich.precision)\n",
    "     .set_index('quality')\n",
    "     .loc[\n",
    "         [96, 90, 80, 60, 40, 20, 10],\n",
    "         ['AP', 'AP50', 'AP75', 'APl', 'APm', 'APs', 'TPR', 'PPV', 'SSIM', 'size']\n",
    "     ]\n",
    "     #.reset_index()\n",
    "     .round(1)\n",
    "     .to_latex()\n",
    ")"
   ]
  }
 ],
 "metadata": {
  "kernelspec": {
   "display_name": "Python 3 (ipykernel)",
   "language": "python",
   "name": "python3"
  },
  "language_info": {
   "codemirror_mode": {
    "name": "ipython",
    "version": 3
   },
   "file_extension": ".py",
   "mimetype": "text/x-python",
   "name": "python",
   "nbconvert_exporter": "python",
   "pygments_lexer": "ipython3",
   "version": "3.10.4"
  },
  "toc": {
   "base_numbering": 1,
   "nav_menu": {},
   "number_sections": true,
   "sideBar": true,
   "skip_h1_title": false,
   "title_cell": "Table of Contents",
   "title_sidebar": "Contents",
   "toc_cell": false,
   "toc_position": {},
   "toc_section_display": true,
   "toc_window_display": false
  }
 },
 "nbformat": 4,
 "nbformat_minor": 2
}
