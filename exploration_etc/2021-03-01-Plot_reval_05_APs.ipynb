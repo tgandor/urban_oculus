{
 "cells": [
  {
   "cell_type": "code",
   "execution_count": 1,
   "metadata": {
    "ExecuteTime": {
     "end_time": "2022-05-07T18:25:21.812976Z",
     "start_time": "2022-05-07T18:25:20.203193Z"
    }
   },
   "outputs": [],
   "source": [
    "import json\n",
    "import glob\n",
    "import os\n",
    "import sys\n",
    "\n",
    "import numpy as np\n",
    "import pandas as pd\n",
    "import matplotlib.pyplot as plt\n",
    "%matplotlib inline\n",
    "plt.rcParams['figure.figsize'] = (10, 6)\n",
    "REVAL_DIR = os.path.expanduser('~/reval_05')\n",
    "sys.path.append('..')\n",
    "from imports import *"
   ]
  },
  {
   "cell_type": "code",
   "execution_count": 2,
   "metadata": {
    "ExecuteTime": {
     "end_time": "2022-05-07T18:25:23.297800Z",
     "start_time": "2022-05-07T18:25:22.767233Z"
    }
   },
   "outputs": [
    {
     "name": "stdout",
     "output_type": "stream",
     "text": [
      "R101 R101_C4 R101_DC5 R101_FPN R50 R50_C4 R50_DC5 R50_FPN X101 "
     ]
    }
   ],
   "source": [
    "files = glob.glob(f'{REVAL_DIR}/*/*/rich_results.json')\n",
    "\n",
    "results = [load(f) for f in files]\n",
    "\n",
    "from itertools import groupby\n",
    "gb = lambda it, key: groupby(sorted(it, key=key), key)\n",
    "\n",
    "for key, group in gb(results, lambda x: x['model']):\n",
    "    print(key, end=' ')"
   ]
  },
  {
   "cell_type": "code",
   "execution_count": 3,
   "metadata": {
    "ExecuteTime": {
     "end_time": "2022-05-07T18:26:11.267558Z",
     "start_time": "2022-05-07T18:26:11.251502Z"
    }
   },
   "outputs": [
    {
     "data": {
      "text/plain": [
       "1054712"
      ]
     },
     "execution_count": 3,
     "metadata": {},
     "output_type": "execute_result"
    }
   ],
   "source": [
    "sum(int(r['elapsed']) for r in results)"
   ]
  },
  {
   "cell_type": "code",
   "execution_count": 4,
   "metadata": {
    "ExecuteTime": {
     "end_time": "2022-05-07T18:26:18.461415Z",
     "start_time": "2022-05-07T18:26:18.455915Z"
    }
   },
   "outputs": [],
   "source": [
    "def flatten(value):\n",
    "    if 'results' not in results:\n",
    "        return value\n",
    "    result = value.copy()\n",
    "    aps = {k: v for k, v in result['results']['bbox'].items() if '-' not in k}\n",
    "    result.update(aps)\n",
    "    del result['results']\n",
    "    return result\n",
    "# flatten(results[0])"
   ]
  },
  {
   "cell_type": "code",
   "execution_count": 5,
   "metadata": {
    "ExecuteTime": {
     "end_time": "2022-05-07T18:26:19.533731Z",
     "start_time": "2022-05-07T18:26:19.431734Z"
    }
   },
   "outputs": [
    {
     "data": {
      "text/html": [
       "<div>\n",
       "<style scoped>\n",
       "    .dataframe tbody tr th:only-of-type {\n",
       "        vertical-align: middle;\n",
       "    }\n",
       "\n",
       "    .dataframe tbody tr th {\n",
       "        vertical-align: top;\n",
       "    }\n",
       "\n",
       "    .dataframe thead th {\n",
       "        text-align: right;\n",
       "    }\n",
       "</style>\n",
       "<table border=\"1\" class=\"dataframe\">\n",
       "  <thead>\n",
       "    <tr style=\"text-align: right;\">\n",
       "      <th></th>\n",
       "      <th>quality</th>\n",
       "      <th>model</th>\n",
       "      <th>elapsed</th>\n",
       "      <th>tp</th>\n",
       "      <th>fp</th>\n",
       "      <th>ex</th>\n",
       "      <th>precision</th>\n",
       "      <th>recall</th>\n",
       "      <th>f1</th>\n",
       "      <th>min_score</th>\n",
       "      <th>score_T</th>\n",
       "      <th>AP</th>\n",
       "      <th>AP50</th>\n",
       "      <th>AP75</th>\n",
       "      <th>APs</th>\n",
       "      <th>APm</th>\n",
       "      <th>APl</th>\n",
       "    </tr>\n",
       "  </thead>\n",
       "  <tbody>\n",
       "    <tr>\n",
       "      <th>51</th>\n",
       "      <td>1</td>\n",
       "      <td>R101</td>\n",
       "      <td>662.250143</td>\n",
       "      <td>2033</td>\n",
       "      <td>290680</td>\n",
       "      <td>3114</td>\n",
       "      <td>0.006945</td>\n",
       "      <td>0.055952</td>\n",
       "      <td>0.012357</td>\n",
       "      <td>0.05</td>\n",
       "      <td>None</td>\n",
       "      <td>0.850949</td>\n",
       "      <td>1.641063</td>\n",
       "      <td>0.786802</td>\n",
       "      <td>0.337162</td>\n",
       "      <td>0.724543</td>\n",
       "      <td>1.691920</td>\n",
       "    </tr>\n",
       "    <tr>\n",
       "      <th>40</th>\n",
       "      <td>2</td>\n",
       "      <td>R101</td>\n",
       "      <td>662.124931</td>\n",
       "      <td>2037</td>\n",
       "      <td>291295</td>\n",
       "      <td>3113</td>\n",
       "      <td>0.006944</td>\n",
       "      <td>0.056062</td>\n",
       "      <td>0.012358</td>\n",
       "      <td>0.05</td>\n",
       "      <td>None</td>\n",
       "      <td>0.858069</td>\n",
       "      <td>1.641554</td>\n",
       "      <td>0.785646</td>\n",
       "      <td>0.262078</td>\n",
       "      <td>0.734832</td>\n",
       "      <td>1.670085</td>\n",
       "    </tr>\n",
       "    <tr>\n",
       "      <th>28</th>\n",
       "      <td>3</td>\n",
       "      <td>R101</td>\n",
       "      <td>663.974067</td>\n",
       "      <td>2806</td>\n",
       "      <td>339793</td>\n",
       "      <td>3594</td>\n",
       "      <td>0.008190</td>\n",
       "      <td>0.077226</td>\n",
       "      <td>0.014810</td>\n",
       "      <td>0.05</td>\n",
       "      <td>None</td>\n",
       "      <td>1.156743</td>\n",
       "      <td>2.214548</td>\n",
       "      <td>0.989994</td>\n",
       "      <td>0.407562</td>\n",
       "      <td>1.075822</td>\n",
       "      <td>2.199633</td>\n",
       "    </tr>\n",
       "    <tr>\n",
       "      <th>47</th>\n",
       "      <td>4</td>\n",
       "      <td>R101</td>\n",
       "      <td>666.866484</td>\n",
       "      <td>4852</td>\n",
       "      <td>386532</td>\n",
       "      <td>5813</td>\n",
       "      <td>0.012397</td>\n",
       "      <td>0.133535</td>\n",
       "      <td>0.022688</td>\n",
       "      <td>0.05</td>\n",
       "      <td>None</td>\n",
       "      <td>1.964670</td>\n",
       "      <td>3.590941</td>\n",
       "      <td>1.862873</td>\n",
       "      <td>0.551889</td>\n",
       "      <td>2.125328</td>\n",
       "      <td>3.530575</td>\n",
       "    </tr>\n",
       "    <tr>\n",
       "      <th>17</th>\n",
       "      <td>5</td>\n",
       "      <td>R101</td>\n",
       "      <td>668.412551</td>\n",
       "      <td>7667</td>\n",
       "      <td>412795</td>\n",
       "      <td>8597</td>\n",
       "      <td>0.018235</td>\n",
       "      <td>0.211009</td>\n",
       "      <td>0.033569</td>\n",
       "      <td>0.05</td>\n",
       "      <td>None</td>\n",
       "      <td>3.296703</td>\n",
       "      <td>5.965182</td>\n",
       "      <td>3.181081</td>\n",
       "      <td>1.059228</td>\n",
       "      <td>3.860601</td>\n",
       "      <td>5.428963</td>\n",
       "    </tr>\n",
       "  </tbody>\n",
       "</table>\n",
       "</div>"
      ],
      "text/plain": [
       "    quality model     elapsed    tp      fp    ex  precision    recall  \\\n",
       "51        1  R101  662.250143  2033  290680  3114   0.006945  0.055952   \n",
       "40        2  R101  662.124931  2037  291295  3113   0.006944  0.056062   \n",
       "28        3  R101  663.974067  2806  339793  3594   0.008190  0.077226   \n",
       "47        4  R101  666.866484  4852  386532  5813   0.012397  0.133535   \n",
       "17        5  R101  668.412551  7667  412795  8597   0.018235  0.211009   \n",
       "\n",
       "          f1  min_score score_T        AP      AP50      AP75       APs  \\\n",
       "51  0.012357       0.05    None  0.850949  1.641063  0.786802  0.337162   \n",
       "40  0.012358       0.05    None  0.858069  1.641554  0.785646  0.262078   \n",
       "28  0.014810       0.05    None  1.156743  2.214548  0.989994  0.407562   \n",
       "47  0.022688       0.05    None  1.964670  3.590941  1.862873  0.551889   \n",
       "17  0.033569       0.05    None  3.296703  5.965182  3.181081  1.059228   \n",
       "\n",
       "         APm       APl  \n",
       "51  0.724543  1.691920  \n",
       "40  0.734832  1.670085  \n",
       "28  1.075822  2.199633  \n",
       "47  2.125328  3.530575  \n",
       "17  3.860601  5.428963  "
      ]
     },
     "execution_count": 5,
     "metadata": {},
     "output_type": "execute_result"
    }
   ],
   "source": [
    "c_df = pd.DataFrame([flatten(r) for r in results]).sort_values(['model', 'quality'])\n",
    "c_df.head()"
   ]
  },
  {
   "cell_type": "code",
   "execution_count": 8,
   "metadata": {
    "ExecuteTime": {
     "end_time": "2022-05-07T20:26:28.257140Z",
     "start_time": "2022-05-07T20:26:20.519453Z"
    },
    "scrolled": true
   },
   "outputs": [
    {
     "name": "stdout",
     "output_type": "stream",
     "text": [
      "Figure saved to 2021-03-01-Plot_reval_05_APs/APx-R101.png and 2021-03-01-Plot_reval_05_APs/APx-R101.pdf\n",
      "Figure saved to 2021-03-01-Plot_reval_05_APs/APx-R101_C4.png and 2021-03-01-Plot_reval_05_APs/APx-R101_C4.pdf\n",
      "Figure saved to 2021-03-01-Plot_reval_05_APs/APx-R101_DC5.png and 2021-03-01-Plot_reval_05_APs/APx-R101_DC5.pdf\n",
      "Figure saved to 2021-03-01-Plot_reval_05_APs/APx-R101_FPN.png and 2021-03-01-Plot_reval_05_APs/APx-R101_FPN.pdf\n",
      "Figure saved to 2021-03-01-Plot_reval_05_APs/APx-R50.png and 2021-03-01-Plot_reval_05_APs/APx-R50.pdf\n",
      "Figure saved to 2021-03-01-Plot_reval_05_APs/APx-R50_C4.png and 2021-03-01-Plot_reval_05_APs/APx-R50_C4.pdf\n",
      "Figure saved to 2021-03-01-Plot_reval_05_APs/APx-R50_DC5.png and 2021-03-01-Plot_reval_05_APs/APx-R50_DC5.pdf\n",
      "Figure saved to 2021-03-01-Plot_reval_05_APs/APx-R50_FPN.png and 2021-03-01-Plot_reval_05_APs/APx-R50_FPN.pdf\n",
      "Figure saved to 2021-03-01-Plot_reval_05_APs/APx-X101.png and 2021-03-01-Plot_reval_05_APs/APx-X101.pdf\n"
     ]
    }
   ],
   "source": [
    "for mc in c_df.model.unique():\n",
    "    ax = c_df[c_df.model == mc][['quality', 'AP', 'AP50', 'AP75']].plot(x='quality')\n",
    "    ax.set_title(mc)\n",
    "    save_plot(plt.gcf(), f\"2021-03-01-Plot_reval_05_APs/1-APx-{mc}\")\n",
    "    plt.close() # prevent show"
   ]
  },
  {
   "cell_type": "code",
   "execution_count": 10,
   "metadata": {
    "ExecuteTime": {
     "end_time": "2021-02-27T12:28:21.618667Z",
     "start_time": "2021-02-27T12:28:21.601463Z"
    }
   },
   "outputs": [
    {
     "data": {
      "text/html": [
       "<div>\n",
       "<style scoped>\n",
       "    .dataframe tbody tr th:only-of-type {\n",
       "        vertical-align: middle;\n",
       "    }\n",
       "\n",
       "    .dataframe tbody tr th {\n",
       "        vertical-align: top;\n",
       "    }\n",
       "\n",
       "    .dataframe thead th {\n",
       "        text-align: right;\n",
       "    }\n",
       "</style>\n",
       "<table border=\"1\" class=\"dataframe\">\n",
       "  <thead>\n",
       "    <tr style=\"text-align: right;\">\n",
       "      <th></th>\n",
       "      <th>AP</th>\n",
       "      <th>APl</th>\n",
       "      <th>APm</th>\n",
       "      <th>APs</th>\n",
       "    </tr>\n",
       "    <tr>\n",
       "      <th>model</th>\n",
       "      <th></th>\n",
       "      <th></th>\n",
       "      <th></th>\n",
       "      <th></th>\n",
       "    </tr>\n",
       "  </thead>\n",
       "  <tbody>\n",
       "    <tr>\n",
       "      <th>X101</th>\n",
       "      <td>34.927685</td>\n",
       "      <td>45.920218</td>\n",
       "      <td>37.778516</td>\n",
       "      <td>20.122565</td>\n",
       "    </tr>\n",
       "    <tr>\n",
       "      <th>R101_FPN</th>\n",
       "      <td>34.167798</td>\n",
       "      <td>45.743412</td>\n",
       "      <td>37.028163</td>\n",
       "      <td>19.025153</td>\n",
       "    </tr>\n",
       "    <tr>\n",
       "      <th>R101_C4</th>\n",
       "      <td>33.608163</td>\n",
       "      <td>47.307410</td>\n",
       "      <td>37.294725</td>\n",
       "      <td>16.611395</td>\n",
       "    </tr>\n",
       "    <tr>\n",
       "      <th>R101_DC5</th>\n",
       "      <td>33.227068</td>\n",
       "      <td>45.751765</td>\n",
       "      <td>36.755736</td>\n",
       "      <td>16.885205</td>\n",
       "    </tr>\n",
       "    <tr>\n",
       "      <th>R101</th>\n",
       "      <td>32.810577</td>\n",
       "      <td>43.515592</td>\n",
       "      <td>36.124342</td>\n",
       "      <td>17.436166</td>\n",
       "    </tr>\n",
       "    <tr>\n",
       "      <th>R50_FPN</th>\n",
       "      <td>32.528388</td>\n",
       "      <td>43.335347</td>\n",
       "      <td>35.291713</td>\n",
       "      <td>18.184412</td>\n",
       "    </tr>\n",
       "    <tr>\n",
       "      <th>R50_DC5</th>\n",
       "      <td>31.721918</td>\n",
       "      <td>43.682657</td>\n",
       "      <td>35.189993</td>\n",
       "      <td>16.106194</td>\n",
       "    </tr>\n",
       "    <tr>\n",
       "      <th>R50</th>\n",
       "      <td>31.080935</td>\n",
       "      <td>41.548232</td>\n",
       "      <td>34.032183</td>\n",
       "      <td>16.989777</td>\n",
       "    </tr>\n",
       "    <tr>\n",
       "      <th>R50_C4</th>\n",
       "      <td>31.079360</td>\n",
       "      <td>44.221552</td>\n",
       "      <td>34.446147</td>\n",
       "      <td>15.153276</td>\n",
       "    </tr>\n",
       "  </tbody>\n",
       "</table>\n",
       "</div>"
      ],
      "text/plain": [
       "                 AP        APl        APm        APs\n",
       "model                                               \n",
       "X101      34.927685  45.920218  37.778516  20.122565\n",
       "R101_FPN  34.167798  45.743412  37.028163  19.025153\n",
       "R101_C4   33.608163  47.307410  37.294725  16.611395\n",
       "R101_DC5  33.227068  45.751765  36.755736  16.885205\n",
       "R101      32.810577  43.515592  36.124342  17.436166\n",
       "R50_FPN   32.528388  43.335347  35.291713  18.184412\n",
       "R50_DC5   31.721918  43.682657  35.189993  16.106194\n",
       "R50       31.080935  41.548232  34.032183  16.989777\n",
       "R50_C4    31.079360  44.221552  34.446147  15.153276"
      ]
     },
     "execution_count": 10,
     "metadata": {},
     "output_type": "execute_result"
    }
   ],
   "source": [
    "avg_pivot = c_df.pivot_table(index='model', values=['AP', 'APl', 'APm', 'APs']).sort_values('AP', ascending=False)\n",
    "avg_pivot"
   ]
  },
  {
   "cell_type": "code",
   "execution_count": 9,
   "metadata": {
    "ExecuteTime": {
     "end_time": "2022-05-07T21:46:10.372244Z",
     "start_time": "2022-05-07T21:46:10.366241Z"
    }
   },
   "outputs": [],
   "source": [
    "def _save_plot(plot, name='', title=None):\n",
    "    if title:\n",
    "        plot.set_title(title)\n",
    "    fig = plot.get_figure()\n",
    "    fig.set_size_inches(4, 4)\n",
    "    if name:\n",
    "        fig.savefig(name)\n",
    "\n",
    "def plot_models(df, column, norm=False):\n",
    "    avg_pivot = df.pivot_table(index='model', values=[column]).sort_values(column, ascending=False)\n",
    "    c_pivot = df.pivot(index='quality', columns='model', values=column).reindex(columns=avg_pivot.index)\n",
    "    title = f'{column}: all models'\n",
    "    if norm:\n",
    "        c_pivot = c_pivot / c_pivot.max(axis=0)\n",
    "        title += ' (scaled)'\n",
    "    ax = c_pivot.plot()\n",
    "    ax.set_title(title)\n",
    "    return ax\n"
   ]
  },
  {
   "cell_type": "code",
   "execution_count": 11,
   "metadata": {
    "ExecuteTime": {
     "end_time": "2022-05-07T21:46:25.740318Z",
     "start_time": "2022-05-07T21:46:24.846615Z"
    }
   },
   "outputs": [
    {
     "name": "stdout",
     "output_type": "stream",
     "text": [
      "Figure saved to 2021-03-01-Plot_reval_05_APs/2-all_AP_raw.png and 2021-03-01-Plot_reval_05_APs/2-all_AP_raw.pdf\n"
     ]
    }
   ],
   "source": [
    "ax = plot_models(c_df, 'AP')\n",
    "# _save_plot(ax, 'all_AP_raw.pdf')\n",
    "save_plot(plt.gcf(), f\"2021-03-01-Plot_reval_05_APs/2-all_AP_raw\")\n",
    "plt.close()"
   ]
  },
  {
   "cell_type": "code",
   "execution_count": 12,
   "metadata": {
    "ExecuteTime": {
     "end_time": "2022-05-07T21:47:45.783458Z",
     "start_time": "2022-05-07T21:47:45.269666Z"
    }
   },
   "outputs": [
    {
     "name": "stdout",
     "output_type": "stream",
     "text": [
      "Figure saved to 2021-03-01-Plot_reval_05_APs/3-all_AP_scaled.png and 2021-03-01-Plot_reval_05_APs/3-all_AP_scaled.pdf\n"
     ]
    }
   ],
   "source": [
    "ax = plot_models(c_df, 'AP', True)\n",
    "_save_plot(ax, 'all_AP_scaled.pdf')\n",
    "save_plot(plt.gcf(), f\"2021-03-01-Plot_reval_05_APs/3-all_AP_scaled\")\n",
    "plt.close()"
   ]
  },
  {
   "cell_type": "code",
   "execution_count": 13,
   "metadata": {
    "ExecuteTime": {
     "end_time": "2022-05-07T21:48:37.323338Z",
     "start_time": "2022-05-07T21:48:29.830965Z"
    }
   },
   "outputs": [
    {
     "name": "stdout",
     "output_type": "stream",
     "text": [
      "Figure saved to 2021-03-01-Plot_reval_05_APs/4-APsml-R101.png and 2021-03-01-Plot_reval_05_APs/4-APsml-R101.pdf\n",
      "Figure saved to 2021-03-01-Plot_reval_05_APs/4-APsml-R101_C4.png and 2021-03-01-Plot_reval_05_APs/4-APsml-R101_C4.pdf\n",
      "Figure saved to 2021-03-01-Plot_reval_05_APs/4-APsml-R101_DC5.png and 2021-03-01-Plot_reval_05_APs/4-APsml-R101_DC5.pdf\n",
      "Figure saved to 2021-03-01-Plot_reval_05_APs/4-APsml-R101_FPN.png and 2021-03-01-Plot_reval_05_APs/4-APsml-R101_FPN.pdf\n",
      "Figure saved to 2021-03-01-Plot_reval_05_APs/4-APsml-R50.png and 2021-03-01-Plot_reval_05_APs/4-APsml-R50.pdf\n",
      "Figure saved to 2021-03-01-Plot_reval_05_APs/4-APsml-R50_C4.png and 2021-03-01-Plot_reval_05_APs/4-APsml-R50_C4.pdf\n",
      "Figure saved to 2021-03-01-Plot_reval_05_APs/4-APsml-R50_DC5.png and 2021-03-01-Plot_reval_05_APs/4-APsml-R50_DC5.pdf\n",
      "Figure saved to 2021-03-01-Plot_reval_05_APs/4-APsml-R50_FPN.png and 2021-03-01-Plot_reval_05_APs/4-APsml-R50_FPN.pdf\n",
      "Figure saved to 2021-03-01-Plot_reval_05_APs/4-APsml-X101.png and 2021-03-01-Plot_reval_05_APs/4-APsml-X101.pdf\n"
     ]
    }
   ],
   "source": [
    "for mc in c_df.model.unique():\n",
    "    ax = c_df[c_df.model == mc][['quality', 'APs', 'APm', 'APl']].plot(x='quality')\n",
    "    ax.set_title(mc)\n",
    "    save_plot(plt.gcf(), f\"2021-03-01-Plot_reval_05_APs/4-APsml-{mc}\")\n",
    "    plt.close()"
   ]
  },
  {
   "cell_type": "code",
   "execution_count": 14,
   "metadata": {
    "ExecuteTime": {
     "end_time": "2022-05-07T21:49:23.395633Z",
     "start_time": "2022-05-07T21:49:21.806431Z"
    }
   },
   "outputs": [
    {
     "name": "stdout",
     "output_type": "stream",
     "text": [
      "Figure saved to 2021-03-01-Plot_reval_05_APs/5-APsml-all.png and 2021-03-01-Plot_reval_05_APs/5-APsml-all.pdf\n"
     ]
    }
   ],
   "source": [
    "pd.pivot(c_df, index='quality', columns='model', values=['APs', 'APm', 'APl']).plot();\n",
    "save_plot(plt.gcf(), f\"2021-03-01-Plot_reval_05_APs/5-APsml-all\")\n",
    "plt.close();"
   ]
  },
  {
   "cell_type": "code",
   "execution_count": 17,
   "metadata": {
    "ExecuteTime": {
     "end_time": "2022-05-07T21:51:31.849367Z",
     "start_time": "2022-05-07T21:51:31.326283Z"
    }
   },
   "outputs": [
    {
     "name": "stdout",
     "output_type": "stream",
     "text": [
      "Figure saved to 2021-03-01-Plot_reval_05_APs/6-APsml-allavg-scaled.png and 2021-03-01-Plot_reval_05_APs/6-APsml-allavg-scaled.pdf\n"
     ]
    }
   ],
   "source": [
    "mAPsml = c_df.groupby('quality').agg({x: 'mean' for x in reversed(('APs', 'APm', 'APl'))})\n",
    "mAPsml = mAPsml / mAPsml.max(axis=0)\n",
    "plot = mAPsml.plot()\n",
    "_save_plot(plot, 'average_APlms_scaled.pdf', 'Per-size AP (scaled)')\n",
    "save_plot(plt.gcf(), f\"2021-03-01-Plot_reval_05_APs/6-APsml-allavg-scaled\")\n",
    "plt.close()"
   ]
  },
  {
   "cell_type": "code",
   "execution_count": 18,
   "metadata": {
    "ExecuteTime": {
     "end_time": "2022-05-07T21:52:20.025251Z",
     "start_time": "2022-05-07T21:52:19.494739Z"
    }
   },
   "outputs": [
    {
     "name": "stdout",
     "output_type": "stream",
     "text": [
      "Figure saved to 2021-03-01-Plot_reval_05_APs/7-APsml-allavg-raw.png and 2021-03-01-Plot_reval_05_APs/7-APsml-allavg-raw.pdf\n"
     ]
    }
   ],
   "source": [
    "plot = c_df.groupby('quality').agg({x: 'mean' for x in reversed(('APs', 'APm', 'APl'))}).plot()\n",
    "_save_plot(plot, 'average_APlms.pdf', \"Per-size AP (large, medium, small)\")\n",
    "save_plot(plt.gcf(), f\"2021-03-01-Plot_reval_05_APs/7-APsml-allavg-raw\")\n",
    "plt.close()"
   ]
  },
  {
   "cell_type": "markdown",
   "metadata": {},
   "source": [
    "# \"Rich\" results, with TPR, PPV and F1\n",
    "Computed for Tc = 0.5"
   ]
  },
  {
   "cell_type": "code",
   "execution_count": 21,
   "metadata": {
    "ExecuteTime": {
     "end_time": "2022-05-07T22:02:09.199957Z",
     "start_time": "2022-05-07T22:02:09.151192Z"
    }
   },
   "outputs": [
    {
     "data": {
      "text/html": [
       "<div>\n",
       "<style scoped>\n",
       "    .dataframe tbody tr th:only-of-type {\n",
       "        vertical-align: middle;\n",
       "    }\n",
       "\n",
       "    .dataframe tbody tr th {\n",
       "        vertical-align: top;\n",
       "    }\n",
       "\n",
       "    .dataframe thead th {\n",
       "        text-align: right;\n",
       "    }\n",
       "</style>\n",
       "<table border=\"1\" class=\"dataframe\">\n",
       "  <thead>\n",
       "    <tr style=\"text-align: right;\">\n",
       "      <th></th>\n",
       "      <th>quality</th>\n",
       "      <th>model</th>\n",
       "      <th>elapsed</th>\n",
       "      <th>tp</th>\n",
       "      <th>fp</th>\n",
       "      <th>ex</th>\n",
       "      <th>precision</th>\n",
       "      <th>recall</th>\n",
       "      <th>f1</th>\n",
       "      <th>min_score</th>\n",
       "      <th>score_T</th>\n",
       "      <th>AP</th>\n",
       "      <th>AP50</th>\n",
       "      <th>AP75</th>\n",
       "      <th>APs</th>\n",
       "      <th>APm</th>\n",
       "      <th>APl</th>\n",
       "    </tr>\n",
       "  </thead>\n",
       "  <tbody>\n",
       "    <tr>\n",
       "      <th>133</th>\n",
       "      <td>97</td>\n",
       "      <td>X101</td>\n",
       "      <td>2950.533190</td>\n",
       "      <td>29538</td>\n",
       "      <td>69427</td>\n",
       "      <td>11885</td>\n",
       "      <td>0.298469</td>\n",
       "      <td>0.812935</td>\n",
       "      <td>0.436630</td>\n",
       "      <td>0.050000</td>\n",
       "      <td>None</td>\n",
       "      <td>43.125026</td>\n",
       "      <td>63.823199</td>\n",
       "      <td>47.014898</td>\n",
       "      <td>27.212577</td>\n",
       "      <td>46.190293</td>\n",
       "      <td>54.863181</td>\n",
       "    </tr>\n",
       "    <tr>\n",
       "      <th>175</th>\n",
       "      <td>98</td>\n",
       "      <td>X101</td>\n",
       "      <td>2949.976151</td>\n",
       "      <td>29537</td>\n",
       "      <td>69465</td>\n",
       "      <td>11845</td>\n",
       "      <td>0.298348</td>\n",
       "      <td>0.812908</td>\n",
       "      <td>0.436496</td>\n",
       "      <td>0.050000</td>\n",
       "      <td>None</td>\n",
       "      <td>43.064660</td>\n",
       "      <td>63.628361</td>\n",
       "      <td>46.943094</td>\n",
       "      <td>26.896694</td>\n",
       "      <td>46.098858</td>\n",
       "      <td>54.857996</td>\n",
       "    </tr>\n",
       "    <tr>\n",
       "      <th>103</th>\n",
       "      <td>99</td>\n",
       "      <td>X101</td>\n",
       "      <td>2952.297939</td>\n",
       "      <td>29549</td>\n",
       "      <td>69465</td>\n",
       "      <td>11835</td>\n",
       "      <td>0.298433</td>\n",
       "      <td>0.813238</td>\n",
       "      <td>0.436634</td>\n",
       "      <td>0.050000</td>\n",
       "      <td>None</td>\n",
       "      <td>43.101607</td>\n",
       "      <td>63.681584</td>\n",
       "      <td>47.133904</td>\n",
       "      <td>27.035522</td>\n",
       "      <td>46.123877</td>\n",
       "      <td>54.916508</td>\n",
       "    </tr>\n",
       "    <tr>\n",
       "      <th>112</th>\n",
       "      <td>100</td>\n",
       "      <td>X101</td>\n",
       "      <td>2952.063746</td>\n",
       "      <td>29549</td>\n",
       "      <td>69454</td>\n",
       "      <td>11853</td>\n",
       "      <td>0.298466</td>\n",
       "      <td>0.813238</td>\n",
       "      <td>0.436670</td>\n",
       "      <td>0.050001</td>\n",
       "      <td>None</td>\n",
       "      <td>43.070649</td>\n",
       "      <td>63.715295</td>\n",
       "      <td>46.980151</td>\n",
       "      <td>26.992763</td>\n",
       "      <td>46.103360</td>\n",
       "      <td>54.878414</td>\n",
       "    </tr>\n",
       "    <tr>\n",
       "      <th>406</th>\n",
       "      <td>101</td>\n",
       "      <td>X101</td>\n",
       "      <td>2673.639724</td>\n",
       "      <td>29546</td>\n",
       "      <td>69608</td>\n",
       "      <td>11862</td>\n",
       "      <td>0.297981</td>\n",
       "      <td>0.813155</td>\n",
       "      <td>0.436139</td>\n",
       "      <td>0.050000</td>\n",
       "      <td>None</td>\n",
       "      <td>43.046948</td>\n",
       "      <td>63.651725</td>\n",
       "      <td>46.888371</td>\n",
       "      <td>27.205004</td>\n",
       "      <td>46.093387</td>\n",
       "      <td>54.890155</td>\n",
       "    </tr>\n",
       "  </tbody>\n",
       "</table>\n",
       "</div>"
      ],
      "text/plain": [
       "     quality model      elapsed     tp     fp     ex  precision    recall  \\\n",
       "133       97  X101  2950.533190  29538  69427  11885   0.298469  0.812935   \n",
       "175       98  X101  2949.976151  29537  69465  11845   0.298348  0.812908   \n",
       "103       99  X101  2952.297939  29549  69465  11835   0.298433  0.813238   \n",
       "112      100  X101  2952.063746  29549  69454  11853   0.298466  0.813238   \n",
       "406      101  X101  2673.639724  29546  69608  11862   0.297981  0.813155   \n",
       "\n",
       "           f1  min_score score_T         AP       AP50       AP75        APs  \\\n",
       "133  0.436630   0.050000    None  43.125026  63.823199  47.014898  27.212577   \n",
       "175  0.436496   0.050000    None  43.064660  63.628361  46.943094  26.896694   \n",
       "103  0.436634   0.050000    None  43.101607  63.681584  47.133904  27.035522   \n",
       "112  0.436670   0.050001    None  43.070649  63.715295  46.980151  26.992763   \n",
       "406  0.436139   0.050000    None  43.046948  63.651725  46.888371  27.205004   \n",
       "\n",
       "           APm        APl  \n",
       "133  46.190293  54.863181  \n",
       "175  46.098858  54.857996  \n",
       "103  46.123877  54.916508  \n",
       "112  46.103360  54.878414  \n",
       "406  46.093387  54.890155  "
      ]
     },
     "execution_count": 21,
     "metadata": {},
     "output_type": "execute_result"
    }
   ],
   "source": [
    "rich_files = glob.glob(f'{REVAL_DIR}/*/*/rich_results.json')\n",
    "\n",
    "df = pd.DataFrame(load(f) for f in rich_files).sort_values(['model', 'quality'])\n",
    "df.tail()"
   ]
  },
  {
   "cell_type": "code",
   "execution_count": 22,
   "metadata": {
    "ExecuteTime": {
     "end_time": "2022-05-07T22:04:10.467212Z",
     "start_time": "2022-05-07T22:04:05.872341Z"
    }
   },
   "outputs": [
    {
     "name": "stdout",
     "output_type": "stream",
     "text": [
      "Figure saved to 2021-03-01-Plot_reval_05_APs/8-PRF1-R101.png and 2021-03-01-Plot_reval_05_APs/8-PRF1-R101.pdf\n",
      "Figure saved to 2021-03-01-Plot_reval_05_APs/8-PRF1-R101_C4.png and 2021-03-01-Plot_reval_05_APs/8-PRF1-R101_C4.pdf\n",
      "Figure saved to 2021-03-01-Plot_reval_05_APs/8-PRF1-R101_DC5.png and 2021-03-01-Plot_reval_05_APs/8-PRF1-R101_DC5.pdf\n",
      "Figure saved to 2021-03-01-Plot_reval_05_APs/8-PRF1-R101_FPN.png and 2021-03-01-Plot_reval_05_APs/8-PRF1-R101_FPN.pdf\n",
      "Figure saved to 2021-03-01-Plot_reval_05_APs/8-PRF1-R50.png and 2021-03-01-Plot_reval_05_APs/8-PRF1-R50.pdf\n",
      "Figure saved to 2021-03-01-Plot_reval_05_APs/8-PRF1-R50_C4.png and 2021-03-01-Plot_reval_05_APs/8-PRF1-R50_C4.pdf\n",
      "Figure saved to 2021-03-01-Plot_reval_05_APs/8-PRF1-R50_DC5.png and 2021-03-01-Plot_reval_05_APs/8-PRF1-R50_DC5.pdf\n",
      "Figure saved to 2021-03-01-Plot_reval_05_APs/8-PRF1-R50_FPN.png and 2021-03-01-Plot_reval_05_APs/8-PRF1-R50_FPN.pdf\n",
      "Figure saved to 2021-03-01-Plot_reval_05_APs/8-PRF1-X101.png and 2021-03-01-Plot_reval_05_APs/8-PRF1-X101.pdf\n"
     ]
    }
   ],
   "source": [
    "for mc in df.model.unique():\n",
    "    ax = df[df.model == mc][['quality', 'precision', 'recall', 'f1']].plot(x='quality')\n",
    "    ax.set_title(mc)\n",
    "    _save_plot(ax, f'{mc}_prf1.pdf')\n",
    "    save_plot(plt.gcf(), f\"2021-03-01-Plot_reval_05_APs/8-PRF1-{mc}\")\n",
    "    plt.close()"
   ]
  },
  {
   "cell_type": "code",
   "execution_count": 24,
   "metadata": {
    "ExecuteTime": {
     "end_time": "2022-05-07T22:09:05.730638Z",
     "start_time": "2022-05-07T22:09:05.535818Z"
    }
   },
   "outputs": [
    {
     "data": {
      "image/png": "[encoded data removed]",
      "text/plain": [
       "<Figure size 288x288 with 1 Axes>"
      ]
     },
     "metadata": {
      "needs_background": "light"
     },
     "output_type": "display_data"
    }
   ],
   "source": [
    "ax = plot_models(df, 'precision')\n",
    "_save_plot(ax, 'all_PPV_raw.pdf')"
   ]
  },
  {
   "cell_type": "code",
   "execution_count": 22,
   "metadata": {
    "ExecuteTime": {
     "end_time": "2021-02-27T12:28:25.949779Z",
     "start_time": "2021-02-27T12:28:25.721285Z"
    }
   },
   "outputs": [
    {
     "data": {
      "image/png": "[encoded data removed]",
      "text/plain": [
       "<Figure size 288x288 with 1 Axes>"
      ]
     },
     "metadata": {
      "needs_background": "light"
     },
     "output_type": "display_data"
    }
   ],
   "source": [
    "ax = plot_models(df, 'recall')\n",
    "save_plot(ax, 'all_TPR_raw.pdf')"
   ]
  },
  {
   "cell_type": "code",
   "execution_count": 25,
   "metadata": {
    "ExecuteTime": {
     "end_time": "2022-05-07T22:09:21.787963Z",
     "start_time": "2022-05-07T22:09:21.606554Z"
    }
   },
   "outputs": [
    {
     "data": {
      "image/png": "[encoded data removed]",
      "text/plain": [
       "<Figure size 288x288 with 1 Axes>"
      ]
     },
     "metadata": {
      "needs_background": "light"
     },
     "output_type": "display_data"
    }
   ],
   "source": [
    "ax = plot_models(df, 'f1')\n",
    "_save_plot(ax, 'all_F1_raw.pdf')"
   ]
  },
  {
   "cell_type": "markdown",
   "metadata": {},
   "source": [
    "# Structural similarity (SSIM)"
   ]
  },
  {
   "cell_type": "code",
   "execution_count": 26,
   "metadata": {
    "ExecuteTime": {
     "end_time": "2022-05-07T22:09:25.909874Z",
     "start_time": "2022-05-07T22:09:25.895033Z"
    }
   },
   "outputs": [
    {
     "data": {
      "text/html": [
       "<div>\n",
       "<style scoped>\n",
       "    .dataframe tbody tr th:only-of-type {\n",
       "        vertical-align: middle;\n",
       "    }\n",
       "\n",
       "    .dataframe tbody tr th {\n",
       "        vertical-align: top;\n",
       "    }\n",
       "\n",
       "    .dataframe thead th {\n",
       "        text-align: right;\n",
       "    }\n",
       "</style>\n",
       "<table border=\"1\" class=\"dataframe\">\n",
       "  <thead>\n",
       "    <tr style=\"text-align: right;\">\n",
       "      <th></th>\n",
       "      <th>quality</th>\n",
       "      <th>mean_squared_error</th>\n",
       "      <th>peak_signal_noise_ratio</th>\n",
       "      <th>structural_similarity</th>\n",
       "      <th>filesize</th>\n",
       "      <th>B_per_kpx</th>\n",
       "    </tr>\n",
       "  </thead>\n",
       "  <tbody>\n",
       "    <tr>\n",
       "      <th>0</th>\n",
       "      <td>1</td>\n",
       "      <td>536.18</td>\n",
       "      <td>21.205</td>\n",
       "      <td>0.539</td>\n",
       "      <td>7203.782</td>\n",
       "      <td>9.291</td>\n",
       "    </tr>\n",
       "    <tr>\n",
       "      <th>1</th>\n",
       "      <td>2</td>\n",
       "      <td>535.91</td>\n",
       "      <td>21.207</td>\n",
       "      <td>0.539</td>\n",
       "      <td>7207.225</td>\n",
       "      <td>9.295</td>\n",
       "    </tr>\n",
       "  </tbody>\n",
       "</table>\n",
       "</div>"
      ],
      "text/plain": [
       "   quality  mean_squared_error  peak_signal_noise_ratio  \\\n",
       "0        1              536.18                   21.205   \n",
       "1        2              535.91                   21.207   \n",
       "\n",
       "   structural_similarity  filesize  B_per_kpx  \n",
       "0                  0.539  7203.782      9.291  \n",
       "1                  0.539  7207.225      9.295  "
      ]
     },
     "execution_count": 26,
     "metadata": {},
     "output_type": "execute_result"
    }
   ],
   "source": [
    "qdf = pd.read_csv('../data/val2017_means_per_Q.csv')\n",
    "qdf.head(2)"
   ]
  },
  {
   "cell_type": "code",
   "execution_count": 27,
   "metadata": {
    "ExecuteTime": {
     "end_time": "2022-05-07T22:09:37.890851Z",
     "start_time": "2022-05-07T22:09:37.878265Z"
    }
   },
   "outputs": [
    {
     "data": {
      "text/html": [
       "<div>\n",
       "<style scoped>\n",
       "    .dataframe tbody tr th:only-of-type {\n",
       "        vertical-align: middle;\n",
       "    }\n",
       "\n",
       "    .dataframe tbody tr th {\n",
       "        vertical-align: top;\n",
       "    }\n",
       "\n",
       "    .dataframe thead th {\n",
       "        text-align: right;\n",
       "    }\n",
       "</style>\n",
       "<table border=\"1\" class=\"dataframe\">\n",
       "  <thead>\n",
       "    <tr style=\"text-align: right;\">\n",
       "      <th></th>\n",
       "      <th>elapsed</th>\n",
       "      <th>tp</th>\n",
       "      <th>fp</th>\n",
       "      <th>ex</th>\n",
       "      <th>precision</th>\n",
       "      <th>recall</th>\n",
       "      <th>f1</th>\n",
       "      <th>min_score</th>\n",
       "      <th>AP</th>\n",
       "      <th>AP50</th>\n",
       "      <th>AP75</th>\n",
       "      <th>APs</th>\n",
       "      <th>APm</th>\n",
       "      <th>APl</th>\n",
       "    </tr>\n",
       "    <tr>\n",
       "      <th>quality</th>\n",
       "      <th></th>\n",
       "      <th></th>\n",
       "      <th></th>\n",
       "      <th></th>\n",
       "      <th></th>\n",
       "      <th></th>\n",
       "      <th></th>\n",
       "      <th></th>\n",
       "      <th></th>\n",
       "      <th></th>\n",
       "      <th></th>\n",
       "      <th></th>\n",
       "      <th></th>\n",
       "      <th></th>\n",
       "    </tr>\n",
       "  </thead>\n",
       "  <tbody>\n",
       "    <tr>\n",
       "      <th>100</th>\n",
       "      <td>1144.756110</td>\n",
       "      <td>29614.777778</td>\n",
       "      <td>164210.111111</td>\n",
       "      <td>13742.888889</td>\n",
       "      <td>0.183927</td>\n",
       "      <td>0.815048</td>\n",
       "      <td>0.294050</td>\n",
       "      <td>0.050001</td>\n",
       "      <td>40.381796</td>\n",
       "      <td>60.816121</td>\n",
       "      <td>43.674192</td>\n",
       "      <td>23.457767</td>\n",
       "      <td>44.269027</td>\n",
       "      <td>53.271776</td>\n",
       "    </tr>\n",
       "    <tr>\n",
       "      <th>101</th>\n",
       "      <td>1097.117104</td>\n",
       "      <td>29613.444444</td>\n",
       "      <td>164403.333333</td>\n",
       "      <td>13744.888889</td>\n",
       "      <td>0.183683</td>\n",
       "      <td>0.815012</td>\n",
       "      <td>0.293742</td>\n",
       "      <td>0.050001</td>\n",
       "      <td>40.392295</td>\n",
       "      <td>60.849938</td>\n",
       "      <td>43.650912</td>\n",
       "      <td>23.476854</td>\n",
       "      <td>44.283071</td>\n",
       "      <td>53.287806</td>\n",
       "    </tr>\n",
       "  </tbody>\n",
       "</table>\n",
       "</div>"
      ],
      "text/plain": [
       "             elapsed            tp             fp            ex  precision  \\\n",
       "quality                                                                      \n",
       "100      1144.756110  29614.777778  164210.111111  13742.888889   0.183927   \n",
       "101      1097.117104  29613.444444  164403.333333  13744.888889   0.183683   \n",
       "\n",
       "           recall        f1  min_score         AP       AP50       AP75  \\\n",
       "quality                                                                   \n",
       "100      0.815048  0.294050   0.050001  40.381796  60.816121  43.674192   \n",
       "101      0.815012  0.293742   0.050001  40.392295  60.849938  43.650912   \n",
       "\n",
       "               APs        APm        APl  \n",
       "quality                                   \n",
       "100      23.457767  44.269027  53.271776  \n",
       "101      23.476854  44.283071  53.287806  "
      ]
     },
     "execution_count": 27,
     "metadata": {},
     "output_type": "execute_result"
    }
   ],
   "source": [
    "avgdf = df.groupby('quality').agg('mean')\n",
    "avgdf.tail(2)"
   ]
  },
  {
   "cell_type": "code",
   "execution_count": 28,
   "metadata": {
    "ExecuteTime": {
     "end_time": "2022-05-07T22:09:41.494730Z",
     "start_time": "2022-05-07T22:09:41.488836Z"
    }
   },
   "outputs": [],
   "source": [
    "rich = pd.merge(avgdf, qdf, left_index=True, right_index=True)"
   ]
  },
  {
   "cell_type": "code",
   "execution_count": 30,
   "metadata": {
    "ExecuteTime": {
     "end_time": "2022-05-07T22:09:48.282070Z",
     "start_time": "2022-05-07T22:09:48.172524Z"
    }
   },
   "outputs": [
    {
     "data": {
      "image/png": "[encoded data removed]",
      "text/plain": [
       "<Figure size 288x288 with 1 Axes>"
      ]
     },
     "metadata": {
      "needs_background": "light"
     },
     "output_type": "display_data"
    }
   ],
   "source": [
    "ax = rich.plot(x='structural_similarity', y='recall', xlim=(0, 1), ylim=(0, 1))\n",
    "_save_plot(ax, 'recall_by_ssim.pdf')"
   ]
  },
  {
   "cell_type": "code",
   "execution_count": 31,
   "metadata": {
    "ExecuteTime": {
     "end_time": "2022-05-07T22:09:54.840238Z",
     "start_time": "2022-05-07T22:09:54.758793Z"
    }
   },
   "outputs": [
    {
     "data": {
      "image/png": "[encoded data removed]",
      "text/plain": [
       "<Figure size 288x288 with 1 Axes>"
      ]
     },
     "metadata": {
      "needs_background": "light"
     },
     "output_type": "display_data"
    }
   ],
   "source": [
    "ax = rich.plot(x='structural_similarity', y='precision', xlim=(0, 1), ylim=(0, 1))\n",
    "_save_plot(ax, '')"
   ]
  },
  {
   "cell_type": "code",
   "execution_count": 32,
   "metadata": {
    "ExecuteTime": {
     "end_time": "2022-05-07T22:10:05.416083Z",
     "start_time": "2022-05-07T22:10:05.331263Z"
    }
   },
   "outputs": [
    {
     "data": {
      "image/png": "[encoded data removed]",
      "text/plain": [
       "<Figure size 288x288 with 1 Axes>"
      ]
     },
     "metadata": {
      "needs_background": "light"
     },
     "output_type": "display_data"
    }
   ],
   "source": [
    "ax = rich.plot(x='structural_similarity', y='f1', xlim=(0, 1), ylim=(0, 1))\n",
    "_save_plot(ax, '')"
   ]
  },
  {
   "cell_type": "code",
   "execution_count": 46,
   "metadata": {
    "ExecuteTime": {
     "end_time": "2022-05-07T22:20:55.892760Z",
     "start_time": "2022-05-07T22:20:55.777781Z"
    }
   },
   "outputs": [
    {
     "data": {
      "image/png": "[encoded data removed]",
      "text/plain": [
       "<Figure size 288x288 with 1 Axes>"
      ]
     },
     "metadata": {
      "needs_background": "light"
     },
     "output_type": "display_data"
    }
   ],
   "source": [
    "ax = rich.plot(x='quality', y='structural_similarity', ylim=(0, 1))\n",
    "# , xlabel=\"jakość JPEG (Q)\", ylabel=\"wartość SSIM\", legend=False\n",
    "_save_plot(ax, 'SSIM_by_q.pdf')"
   ]
  },
  {
   "cell_type": "code",
   "execution_count": 34,
   "metadata": {
    "ExecuteTime": {
     "end_time": "2022-05-07T22:10:27.106889Z",
     "start_time": "2022-05-07T22:10:26.988748Z"
    }
   },
   "outputs": [
    {
     "data": {
      "image/png": "[encoded data removed]",
      "text/plain": [
       "<Figure size 288x288 with 1 Axes>"
      ]
     },
     "metadata": {
      "needs_background": "light"
     },
     "output_type": "display_data"
    }
   ],
   "source": [
    "ax = rich[['structural_similarity', 'precision', 'recall']].plot(x='structural_similarity', xlim=(0, 1), ylim=(0, 1))\n",
    "_save_plot(ax, 'pr_by_SSIM.pdf')"
   ]
  },
  {
   "cell_type": "code",
   "execution_count": 35,
   "metadata": {
    "ExecuteTime": {
     "end_time": "2022-05-07T22:10:46.067265Z",
     "start_time": "2022-05-07T22:10:45.964383Z"
    }
   },
   "outputs": [
    {
     "data": {
      "image/png": "[encoded data removed]",
      "text/plain": [
       "<Figure size 288x288 with 1 Axes>"
      ]
     },
     "metadata": {
      "needs_background": "light"
     },
     "output_type": "display_data"
    }
   ],
   "source": [
    "ax = rich.plot(x='structural_similarity', y='recall', xlim=(0, 1), ylim=(0, 1))\n",
    "_save_plot(ax, '')"
   ]
  },
  {
   "cell_type": "code",
   "execution_count": 36,
   "metadata": {
    "ExecuteTime": {
     "end_time": "2022-05-07T22:10:53.096536Z",
     "start_time": "2022-05-07T22:10:53.015054Z"
    }
   },
   "outputs": [
    {
     "data": {
      "image/png": "[encoded data removed]",
      "text/plain": [
       "<Figure size 288x288 with 1 Axes>"
      ]
     },
     "metadata": {
      "needs_background": "light"
     },
     "output_type": "display_data"
    }
   ],
   "source": [
    "ax = rich.plot(x='quality', y='AP', ylim=(0, 100), xlim=(0, 100))\n",
    "_save_plot(ax, '')"
   ]
  },
  {
   "cell_type": "code",
   "execution_count": 37,
   "metadata": {
    "ExecuteTime": {
     "end_time": "2022-05-07T22:11:05.109082Z",
     "start_time": "2022-05-07T22:11:04.999500Z"
    }
   },
   "outputs": [
    {
     "data": {
      "image/png": "[encoded data removed]",
      "text/plain": [
       "<Figure size 288x288 with 1 Axes>"
      ]
     },
     "metadata": {
      "needs_background": "light"
     },
     "output_type": "display_data"
    }
   ],
   "source": [
    "ax = rich.plot(x='structural_similarity', y='AP', xlim=(0, 1), ylim=(0, 100))\n",
    "_save_plot(ax, 'AP_by_SSIM.pdf')"
   ]
  },
  {
   "cell_type": "markdown",
   "metadata": {},
   "source": [
    "# Tables"
   ]
  },
  {
   "cell_type": "code",
   "execution_count": 38,
   "metadata": {
    "ExecuteTime": {
     "end_time": "2022-05-07T22:11:15.665262Z",
     "start_time": "2022-05-07T22:11:15.655028Z"
    }
   },
   "outputs": [
    {
     "data": {
      "text/html": [
       "<div>\n",
       "<style scoped>\n",
       "    .dataframe tbody tr th:only-of-type {\n",
       "        vertical-align: middle;\n",
       "    }\n",
       "\n",
       "    .dataframe tbody tr th {\n",
       "        vertical-align: top;\n",
       "    }\n",
       "\n",
       "    .dataframe thead th {\n",
       "        text-align: right;\n",
       "    }\n",
       "</style>\n",
       "<table border=\"1\" class=\"dataframe\">\n",
       "  <thead>\n",
       "    <tr style=\"text-align: right;\">\n",
       "      <th></th>\n",
       "      <th>index</th>\n",
       "      <th>AP</th>\n",
       "      <th>APl</th>\n",
       "      <th>APm</th>\n",
       "      <th>APs</th>\n",
       "    </tr>\n",
       "  </thead>\n",
       "  <tbody>\n",
       "    <tr>\n",
       "      <th>0</th>\n",
       "      <td>96</td>\n",
       "      <td>40.3</td>\n",
       "      <td>53.2</td>\n",
       "      <td>44.2</td>\n",
       "      <td>23.5</td>\n",
       "    </tr>\n",
       "    <tr>\n",
       "      <th>1</th>\n",
       "      <td>90</td>\n",
       "      <td>40.1</td>\n",
       "      <td>53.1</td>\n",
       "      <td>43.9</td>\n",
       "      <td>23.3</td>\n",
       "    </tr>\n",
       "    <tr>\n",
       "      <th>2</th>\n",
       "      <td>80</td>\n",
       "      <td>39.4</td>\n",
       "      <td>52.5</td>\n",
       "      <td>43.0</td>\n",
       "      <td>22.1</td>\n",
       "    </tr>\n",
       "    <tr>\n",
       "      <th>3</th>\n",
       "      <td>60</td>\n",
       "      <td>38.0</td>\n",
       "      <td>51.3</td>\n",
       "      <td>41.7</td>\n",
       "      <td>20.0</td>\n",
       "    </tr>\n",
       "    <tr>\n",
       "      <th>4</th>\n",
       "      <td>40</td>\n",
       "      <td>36.1</td>\n",
       "      <td>49.5</td>\n",
       "      <td>39.6</td>\n",
       "      <td>18.2</td>\n",
       "    </tr>\n",
       "    <tr>\n",
       "      <th>5</th>\n",
       "      <td>20</td>\n",
       "      <td>28.4</td>\n",
       "      <td>40.1</td>\n",
       "      <td>31.1</td>\n",
       "      <td>13.1</td>\n",
       "    </tr>\n",
       "  </tbody>\n",
       "</table>\n",
       "</div>"
      ],
      "text/plain": [
       "   index    AP   APl   APm   APs\n",
       "0     96  40.3  53.2  44.2  23.5\n",
       "1     90  40.1  53.1  43.9  23.3\n",
       "2     80  39.4  52.5  43.0  22.1\n",
       "3     60  38.0  51.3  41.7  20.0\n",
       "4     40  36.1  49.5  39.6  18.2\n",
       "5     20  28.4  40.1  31.1  13.1"
      ]
     },
     "execution_count": 38,
     "metadata": {},
     "output_type": "execute_result"
    }
   ],
   "source": [
    "rich.loc[[96, 90, 80, 60, 40, 20], ['AP', 'APl', 'APm', 'APs']].round(1).reset_index()"
   ]
  },
  {
   "cell_type": "code",
   "execution_count": 41,
   "metadata": {
    "ExecuteTime": {
     "end_time": "2022-05-07T22:12:09.769458Z",
     "start_time": "2022-05-07T22:12:09.731546Z"
    }
   },
   "outputs": [
    {
     "name": "stdout",
     "output_type": "stream",
     "text": [
      "\\begin{tabular}{lrrrrrrrrrr}\n",
      "\\toprule\n",
      "{} &    AP &  AP50 &  AP75 &   APl &   APm &   APs &   TPR &   PPV &  SSIM &   size \\\\\n",
      "quality &       &       &       &       &       &       &       &       &       &        \\\\\n",
      "\\midrule\n",
      "96      &  40.3 &  60.7 &  43.5 &  53.2 &  44.2 &  23.5 &  81.4 &  18.4 &  99.9 &  167.1 \\\\\n",
      "90      &  40.1 &  60.5 &  43.2 &  53.1 &  43.8 &  23.2 &  81.2 &  18.5 &  97.1 &  107.0 \\\\\n",
      "80      &  39.4 &  59.6 &  42.4 &  52.5 &  43.0 &  22.2 &  80.5 &  18.5 &  93.4 &   74.6 \\\\\n",
      "60      &  37.9 &  57.8 &  40.8 &  51.3 &  41.5 &  20.1 &  79.1 &  18.1 &  89.5 &   46.5 \\\\\n",
      "40      &  36.0 &  55.5 &  38.4 &  49.4 &  39.6 &  18.3 &  77.5 &  17.3 &  86.3 &   33.9 \\\\\n",
      "20      &  27.3 &  44.2 &  28.5 &  38.5 &  30.2 &  12.6 &  69.7 &  13.8 &  80.5 &   21.3 \\\\\n",
      "10      &  10.8 &  18.7 &  10.8 &  15.9 &  12.3 &   4.8 &  43.0 &   8.0 &  72.6 &   13.5 \\\\\n",
      "\\bottomrule\n",
      "\\end{tabular}\n",
      "\n"
     ]
    },
    {
     "name": "stderr",
     "output_type": "stream",
     "text": [
      "/tmp/ipykernel_3717/700065347.py:14: FutureWarning: In future versions `DataFrame.to_latex` is expected to utilise the base implementation of `Styler.to_latex` for formatting and rendering. The arguments signature may therefore change. It is recommended instead to use `DataFrame.style.to_latex` which also contains additional functionality.\n",
      "  .to_latex()\n"
     ]
    }
   ],
   "source": [
    "rich['PPV'] = rich.precision * 100\n",
    "rich['TPR'] = rich.recall * 100\n",
    "rich['SSIM'] = rich.structural_similarity * 100\n",
    "rich['size'] = rich.filesize / 1024\n",
    "print(rich\n",
    "     .replace('precision', 100 * rich.precision)\n",
    "     .set_index('quality')\n",
    "     .loc[\n",
    "         [96, 90, 80, 60, 40, 20, 10],\n",
    "         ['AP', 'AP50', 'AP75', 'APl', 'APm', 'APs', 'TPR', 'PPV', 'SSIM', 'size']\n",
    "     ]\n",
    "     #.reset_index()\n",
    "     .round(1)\n",
    "     .to_latex()\n",
    ")"
   ]
  },
  {
   "cell_type": "code",
   "execution_count": null,
   "metadata": {},
   "outputs": [],
   "source": []
  }
 ],
 "metadata": {
  "kernelspec": {
   "display_name": "Python 3 (ipykernel)",
   "language": "python",
   "name": "python3"
  },
  "language_info": {
   "codemirror_mode": {
    "name": "ipython",
    "version": 3
   },
   "file_extension": ".py",
   "mimetype": "text/x-python",
   "name": "python",
   "nbconvert_exporter": "python",
   "pygments_lexer": "ipython3",
   "version": "3.10.4"
  },
  "toc": {
   "base_numbering": 1,
   "nav_menu": {},
   "number_sections": true,
   "sideBar": true,
   "skip_h1_title": false,
   "title_cell": "Table of Contents",
   "title_sidebar": "Contents",
   "toc_cell": false,
   "toc_position": {},
   "toc_section_display": true,
   "toc_window_display": false
  }
 },
 "nbformat": 4,
 "nbformat_minor": 2
}
