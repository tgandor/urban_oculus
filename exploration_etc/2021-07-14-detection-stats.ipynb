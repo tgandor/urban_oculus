{
 "cells": [
  {
   "cell_type": "code",
   "execution_count": null,
   "id": "3c129602",
   "metadata": {
    "ExecuteTime": {
     "end_time": "2022-05-11T20:50:07.790045Z",
     "start_time": "2022-05-11T20:50:04.489917Z"
    }
   },
   "outputs": [],
   "source": [
    "# See also: 2021-07-07-GT-statistics (gt_id_statistics() is the dataframe source)\n",
    "import sys; sys.path.append(\"..\")\n",
    "from evaldets.postprocess import *\n",
    "# logging.basicConfig(level=logging.INFO)"
   ]
  },
  {
   "cell_type": "code",
   "execution_count": null,
   "id": "e5e78645",
   "metadata": {
    "ExecuteTime": {
     "end_time": "2022-05-11T20:50:19.702566Z",
     "start_time": "2022-05-11T20:50:07.791679Z"
    }
   },
   "outputs": [],
   "source": [
    "df = gt_id_statistics(\"~/reval_05/\")\n",
    "df = df[df.crowd == False]\n",
    "df"
   ]
  },
  {
   "cell_type": "code",
   "execution_count": null,
   "id": "73c6711d",
   "metadata": {
    "ExecuteTime": {
     "end_time": "2022-05-10T15:53:51.661520Z",
     "start_time": "2022-05-10T15:53:50.710515Z"
    }
   },
   "outputs": [],
   "source": [
    "df.gt_id.value_counts().value_counts().sort_index().plot()\n",
    "# save_pl"
   ]
  },
  {
   "cell_type": "code",
   "execution_count": null,
   "id": "a5aebffb",
   "metadata": {
    "ExecuteTime": {
     "end_time": "2022-05-10T15:53:52.493915Z",
     "start_time": "2022-05-10T15:53:51.663368Z"
    }
   },
   "outputs": [],
   "source": [
    "df.gt_id.value_counts()"
   ]
  },
  {
   "cell_type": "code",
   "execution_count": null,
   "id": "f2b00b02",
   "metadata": {
    "ExecuteTime": {
     "end_time": "2022-05-10T15:53:53.236496Z",
     "start_time": "2022-05-10T15:53:52.495410Z"
    }
   },
   "outputs": [],
   "source": [
    "mins = df.groupby('gt_id').quality.min().sort_values()"
   ]
  },
  {
   "cell_type": "code",
   "execution_count": null,
   "id": "16f2140f",
   "metadata": {
    "ExecuteTime": {
     "end_time": "2022-05-10T15:53:53.244342Z",
     "start_time": "2022-05-10T15:53:53.237837Z"
    }
   },
   "outputs": [],
   "source": [
    "mins[mins >= 20]"
   ]
  },
  {
   "cell_type": "code",
   "execution_count": null,
   "id": "0469e922",
   "metadata": {
    "ExecuteTime": {
     "end_time": "2022-05-10T15:53:53.308728Z",
     "start_time": "2022-05-10T15:53:53.246411Z"
    }
   },
   "outputs": [],
   "source": [
    "from evaldets.visualization import show_single_gt\n",
    "mins[mins >= 20].head(3).index"
   ]
  },
  {
   "cell_type": "code",
   "execution_count": null,
   "id": "17e3a771",
   "metadata": {
    "ExecuteTime": {
     "end_time": "2022-05-10T15:53:54.188203Z",
     "start_time": "2022-05-10T15:53:53.309989Z"
    },
    "scrolled": false
   },
   "outputs": [],
   "source": [
    "for gt_id in mins[mins >= 1].head(3).index:\n",
    "    show_single_gt(gt_id, crop=False, q=1)"
   ]
  },
  {
   "cell_type": "code",
   "execution_count": null,
   "id": "d73abd26",
   "metadata": {
    "ExecuteTime": {
     "end_time": "2022-05-10T15:53:54.727910Z",
     "start_time": "2022-05-10T15:53:54.189472Z"
    },
    "scrolled": true
   },
   "outputs": [],
   "source": [
    "for gt_id in mins[mins >= 20].head(3).index:\n",
    "    show_single_gt(gt_id, crop=False, q=20)"
   ]
  },
  {
   "cell_type": "code",
   "execution_count": null,
   "id": "066fe970",
   "metadata": {
    "ExecuteTime": {
     "end_time": "2022-05-10T15:53:55.848618Z",
     "start_time": "2022-05-10T15:53:54.729755Z"
    },
    "scrolled": true
   },
   "outputs": [],
   "source": [
    "for gt_id in mins[mins >= 40].head(3).index:\n",
    "    show_single_gt(gt_id, crop=False, q=40, v=True)"
   ]
  },
  {
   "cell_type": "code",
   "execution_count": null,
   "id": "fad04544",
   "metadata": {
    "ExecuteTime": {
     "end_time": "2022-05-10T15:53:56.494685Z",
     "start_time": "2022-05-10T15:53:55.850056Z"
    },
    "scrolled": true
   },
   "outputs": [],
   "source": [
    "for gt_id in mins[mins >= 60].head(3).index:\n",
    "    show_single_gt(gt_id, crop=False, q=60, v=True)"
   ]
  },
  {
   "cell_type": "code",
   "execution_count": null,
   "id": "b54f1be4",
   "metadata": {
    "ExecuteTime": {
     "end_time": "2022-05-10T15:53:57.003746Z",
     "start_time": "2022-05-10T15:53:56.496504Z"
    },
    "scrolled": true
   },
   "outputs": [],
   "source": [
    "for gt_id in mins[mins >= 80].head(3).index:\n",
    "    show_single_gt(gt_id, crop=False, q=80, v=True)"
   ]
  },
  {
   "cell_type": "code",
   "execution_count": null,
   "id": "899d60de",
   "metadata": {
    "ExecuteTime": {
     "end_time": "2022-05-10T15:53:57.030414Z",
     "start_time": "2022-05-10T15:53:57.005036Z"
    }
   },
   "outputs": [],
   "source": [
    "df[df.gt_id == 1264308].sort_values('quality')"
   ]
  },
  {
   "cell_type": "code",
   "execution_count": null,
   "id": "f4e4000f",
   "metadata": {
    "ExecuteTime": {
     "end_time": "2022-05-10T15:53:57.059145Z",
     "start_time": "2022-05-10T15:53:57.031978Z"
    }
   },
   "outputs": [],
   "source": [
    "df[df.gt_id == 1694318]"
   ]
  },
  {
   "cell_type": "code",
   "execution_count": null,
   "id": "11ac8edd",
   "metadata": {
    "ExecuteTime": {
     "end_time": "2022-05-10T15:53:57.147615Z",
     "start_time": "2022-05-10T15:53:57.060630Z"
    }
   },
   "outputs": [],
   "source": [
    "mins.value_counts().sort_index().plot()"
   ]
  },
  {
   "cell_type": "code",
   "execution_count": null,
   "id": "e965f248",
   "metadata": {
    "ExecuteTime": {
     "end_time": "2022-05-10T15:53:57.154044Z",
     "start_time": "2022-05-10T15:53:57.148791Z"
    }
   },
   "outputs": [],
   "source": [
    "mins.value_counts().sort_index()"
   ]
  },
  {
   "cell_type": "code",
   "execution_count": null,
   "id": "d6b35e0c",
   "metadata": {
    "ExecuteTime": {
     "end_time": "2022-05-10T15:53:59.095525Z",
     "start_time": "2022-05-10T15:53:57.155509Z"
    }
   },
   "outputs": [],
   "source": [
    "fig, axes = plt.subplots(1, 5)\n",
    "s = 2\n",
    "fig.set_figheight(3*s)\n",
    "fig.set_figwidth(15*s)\n",
    "fig, axes\n",
    "\n",
    "axes[0].axis('off')\n",
    "axes[0].imshow(show_single_gt(166023, mode=\"ret\", q=1), aspect=1)\n",
    "axes[0].set_title('A: min(Q)=1, id=166023')\n",
    "axes[1].axis('off')\n",
    "axes[1].imshow(show_single_gt(693003, mode=\"ret\", q=20), aspect=1)\n",
    "axes[1].set_title('B: min(Q)=20, id=693003')\n",
    "axes[2].axis('off')\n",
    "axes[2].imshow(show_single_gt(1264308, mode=\"ret\", q=40), aspect=1)\n",
    "axes[2].set_title('C: min(Q)=40, id=1264308')\n",
    "axes[3].axis('off')\n",
    "axes[3].imshow(show_single_gt(1147645, mode=\"ret\", q=60), aspect=1)\n",
    "axes[3].set_title('D: min(Q)=60, id=1264308')\n",
    "axes[4].axis('off')\n",
    "axes[4].imshow(show_single_gt(2079208, mode=\"ret\", q=80), aspect=1)\n",
    "axes[4].set_title('E: min(Q)=80, id=1264308')\n",
    "fig.savefig(\"Min_Q_examples.pdf\", bbox_inches='tight')"
   ]
  },
  {
   "cell_type": "code",
   "execution_count": null,
   "id": "42d32e21",
   "metadata": {
    "ExecuteTime": {
     "end_time": "2022-05-10T15:54:03.086830Z",
     "start_time": "2022-05-10T15:53:59.096922Z"
    }
   },
   "outputs": [],
   "source": [
    "next(iter(df.groupby(['image_id', 'model'])))[1].quality.value_counts().sort_index()"
   ]
  }
 ],
 "metadata": {
  "kernelspec": {
   "display_name": "Python 3 (ipykernel)",
   "language": "python",
   "name": "python3"
  },
  "language_info": {
   "codemirror_mode": {
    "name": "ipython",
    "version": 3
   },
   "file_extension": ".py",
   "mimetype": "text/x-python",
   "name": "python",
   "nbconvert_exporter": "python",
   "pygments_lexer": "ipython3",
   "version": "3.10.4"
  },
  "toc": {
   "base_numbering": 1,
   "nav_menu": {},
   "number_sections": true,
   "sideBar": true,
   "skip_h1_title": false,
   "title_cell": "Table of Contents",
   "title_sidebar": "Contents",
   "toc_cell": false,
   "toc_position": {},
   "toc_section_display": true,
   "toc_window_display": false
  }
 },
 "nbformat": 4,
 "nbformat_minor": 5
}
