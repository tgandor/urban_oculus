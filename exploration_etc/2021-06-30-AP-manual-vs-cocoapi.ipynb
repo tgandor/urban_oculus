{
 "cells": [
  {
   "cell_type": "markdown",
   "metadata": {},
   "source": [
    "### Fixes\n",
    "\n",
    "* performance (`DetectionResults.detections_by_class` memoized)\n",
    "* performance (`DetectionResults.num_gt_class` memoized)\n",
    "* \"crowd\" GT detection handling. Yes: each T_IoU level needs `.match_detections(iou_index)`\n",
    "\n",
    "### To do\n",
    "\n",
    "* per-class AP\n",
    "* small / medium / large AP... (?)"
   ]
  },
  {
   "cell_type": "code",
   "execution_count": 1,
   "metadata": {
    "ExecuteTime": {
     "end_time": "2021-06-30T21:22:42.377060Z",
     "start_time": "2021-06-30T21:22:41.481425Z"
    }
   },
   "outputs": [],
   "source": [
    "import sys; sys.path.append(\"..\")\n",
    "import numpy as np\n",
    "import pandas as pd\n",
    "from matplotlib import pyplot as plt\n",
    "from evaldets.api import *\n",
    "from uo.utils import *"
   ]
  },
  {
   "cell_type": "code",
   "execution_count": 2,
   "metadata": {
    "ExecuteTime": {
     "end_time": "2021-06-30T21:23:00.734405Z",
     "start_time": "2021-06-30T21:22:42.378227Z"
    }
   },
   "outputs": [
    {
     "name": "stdout",
     "output_type": "stream",
     "text": [
      "Loaded cached detections: ../reval_05/baseline_05/evaluator_dump_R101_101/detections.pkl\n",
      "Cached COCOEval loadef from: ../reval_05/baseline_05/evaluator_dump_R101_101/coco.pkl.gz\n",
      " Average Precision  (AP) @[ IoU=0.50:0.95 | area=   all | maxDets=100 ] = 0.404\n",
      " Average Precision  (AP) @[ IoU=0.50      | area=   all | maxDets=100 ] = 0.603\n",
      " Average Precision  (AP) @[ IoU=0.75      | area=   all | maxDets=100 ] = 0.432\n",
      " Average Precision  (AP) @[ IoU=0.50:0.95 | area= small | maxDets=100 ] = 0.240\n",
      " Average Precision  (AP) @[ IoU=0.50:0.95 | area=medium | maxDets=100 ] = 0.443\n",
      " Average Precision  (AP) @[ IoU=0.50:0.95 | area= large | maxDets=100 ] = 0.522\n",
      " Average Recall     (AR) @[ IoU=0.50:0.95 | area=   all | maxDets=  1 ] = 0.336\n",
      " Average Recall     (AR) @[ IoU=0.50:0.95 | area=   all | maxDets= 10 ] = 0.532\n",
      " Average Recall     (AR) @[ IoU=0.50:0.95 | area=   all | maxDets=100 ] = 0.563\n",
      " Average Recall     (AR) @[ IoU=0.50:0.95 | area= small | maxDets=100 ] = 0.376\n",
      " Average Recall     (AR) @[ IoU=0.50:0.95 | area=medium | maxDets=100 ] = 0.599\n",
      " Average Recall     (AR) @[ IoU=0.50:0.95 | area= large | maxDets=100 ] = 0.715\n"
     ]
    }
   ],
   "source": [
    "# area_rng=None, iou_thresh=None - needed for full cocoeval\n",
    "dr = DetectionResults('~/reval_05/baseline_05/evaluator_dump_R101_101/', area_rng=None, iou_thresh=None) \n",
    "dr.finish_cocoeval()"
   ]
  },
  {
   "cell_type": "code",
   "execution_count": 3,
   "metadata": {
    "ExecuteTime": {
     "end_time": "2021-06-30T21:23:00.741310Z",
     "start_time": "2021-06-30T21:23:00.739160Z"
    }
   },
   "outputs": [],
   "source": [
    "# 2 minutes runtime:\n",
    "# dr.save_cocoeval()"
   ]
  },
  {
   "cell_type": "markdown",
   "metadata": {},
   "source": [
    "AveP for a single class, at 0.5 $T_{IoU}$."
   ]
  },
  {
   "cell_type": "code",
   "execution_count": 4,
   "metadata": {
    "ExecuteTime": {
     "end_time": "2021-06-30T21:23:00.752193Z",
     "start_time": "2021-06-30T21:23:00.742811Z"
    }
   },
   "outputs": [
    {
     "data": {
      "text/plain": [
       "0.8071831344949841"
      ]
     },
     "execution_count": 4,
     "metadata": {},
     "output_type": "execute_result"
    }
   ],
   "source": [
    "np.mean(dr.coco.eval[\"precision\"][0, :, 0, 0, -1])"
   ]
  },
  {
   "cell_type": "code",
   "execution_count": 5,
   "metadata": {
    "ExecuteTime": {
     "end_time": "2021-06-30T21:23:01.709512Z",
     "start_time": "2021-06-30T21:23:00.753596Z"
    }
   },
   "outputs": [
    {
     "data": {
      "text/plain": [
       "0.8071831344949841"
      ]
     },
     "execution_count": 5,
     "metadata": {},
     "output_type": "execute_result"
    }
   ],
   "source": [
    "dr.average_precision('person')"
   ]
  },
  {
   "cell_type": "markdown",
   "metadata": {},
   "source": [
    "mAP.5 seems as good as it gets:"
   ]
  },
  {
   "cell_type": "code",
   "execution_count": 6,
   "metadata": {
    "ExecuteTime": {
     "end_time": "2021-06-30T21:23:02.183897Z",
     "start_time": "2021-06-30T21:23:01.710887Z"
    }
   },
   "outputs": [
    {
     "data": {
      "text/plain": [
       "0.6025011979805461"
      ]
     },
     "execution_count": 6,
     "metadata": {},
     "output_type": "execute_result"
    }
   ],
   "source": [
    "dr.mean_average_precision()"
   ]
  },
  {
   "cell_type": "code",
   "execution_count": 7,
   "metadata": {
    "ExecuteTime": {
     "end_time": "2021-06-30T21:23:02.191059Z",
     "start_time": "2021-06-30T21:23:02.186981Z"
    }
   },
   "outputs": [
    {
     "data": {
      "text/plain": [
       "0.602501197980546"
      ]
     },
     "execution_count": 7,
     "metadata": {},
     "output_type": "execute_result"
    }
   ],
   "source": [
    "np.mean(dr.coco.eval[\"precision\"][0, :, :, 0, -1])"
   ]
  },
  {
   "cell_type": "markdown",
   "metadata": {},
   "source": [
    "mAP.75 doesn't look so great:"
   ]
  },
  {
   "cell_type": "code",
   "execution_count": 8,
   "metadata": {
    "ExecuteTime": {
     "end_time": "2021-06-30T21:23:02.200762Z",
     "start_time": "2021-06-30T21:23:02.193518Z"
    }
   },
   "outputs": [
    {
     "data": {
      "text/plain": [
       "0.4318813315869904"
      ]
     },
     "execution_count": 8,
     "metadata": {},
     "output_type": "execute_result"
    }
   ],
   "source": [
    "np.mean(dr.coco.eval[\"precision\"][5, :, :, 0, -1])"
   ]
  },
  {
   "cell_type": "code",
   "execution_count": 9,
   "metadata": {
    "ExecuteTime": {
     "end_time": "2021-06-30T21:23:02.705844Z",
     "start_time": "2021-06-30T21:23:02.202198Z"
    }
   },
   "outputs": [
    {
     "data": {
      "text/plain": [
       "0.4268057493526962"
      ]
     },
     "execution_count": 9,
     "metadata": {},
     "output_type": "execute_result"
    }
   ],
   "source": [
    "dr.mean_average_precision(0.75)"
   ]
  },
  {
   "cell_type": "markdown",
   "metadata": {},
   "source": [
    "Why? Probably because of FPs becoming crowds..."
   ]
  },
  {
   "cell_type": "code",
   "execution_count": 10,
   "metadata": {
    "ExecuteTime": {
     "end_time": "2021-06-30T21:23:02.797573Z",
     "start_time": "2021-06-30T21:23:02.707137Z"
    }
   },
   "outputs": [
    {
     "data": {
      "text/plain": [
       "False"
      ]
     },
     "execution_count": 10,
     "metadata": {},
     "output_type": "execute_result"
    }
   ],
   "source": [
    "TP = dr._tp_sum('person', 0.75)\n",
    "FP = dr._fp_sum('person', 0.75)\n",
    "# won't work without custom cocoapi\n",
    "if 'tp_sums' not in dr.coco.eval:\n",
    "    raise ValueError(\"The rest won't work without custom COCOapi.\")\n",
    "TP_coco = dr.coco.eval['tp_sums'][0][5]\n",
    "FP_coco = dr.coco.eval['fp_sums'][0][5]\n",
    "(TP == TP_coco).all()"
   ]
  },
  {
   "cell_type": "code",
   "execution_count": 11,
   "metadata": {
    "ExecuteTime": {
     "end_time": "2021-06-30T21:23:02.802282Z",
     "start_time": "2021-06-30T21:23:02.798981Z"
    }
   },
   "outputs": [
    {
     "data": {
      "text/plain": [
       "array([1.000e+00, 2.000e+00, 3.000e+00, ..., 7.053e+03, 7.053e+03,\n",
       "       7.053e+03])"
      ]
     },
     "execution_count": 11,
     "metadata": {},
     "output_type": "execute_result"
    }
   ],
   "source": [
    "TP"
   ]
  },
  {
   "cell_type": "code",
   "execution_count": 12,
   "metadata": {
    "ExecuteTime": {
     "end_time": "2021-06-30T21:23:02.815175Z",
     "start_time": "2021-06-30T21:23:02.803542Z"
    }
   },
   "outputs": [
    {
     "data": {
      "text/plain": [
       "array([1.000e+00, 2.000e+00, 3.000e+00, ..., 7.176e+03, 7.176e+03,\n",
       "       7.176e+03])"
      ]
     },
     "execution_count": 12,
     "metadata": {},
     "output_type": "execute_result"
    }
   ],
   "source": [
    "# TP_coco"
   ]
  },
  {
   "cell_type": "code",
   "execution_count": 13,
   "metadata": {
    "ExecuteTime": {
     "end_time": "2021-06-30T21:23:02.823072Z",
     "start_time": "2021-06-30T21:23:02.816608Z"
    }
   },
   "outputs": [],
   "source": [
    "from evaldets.visualization import show_detection"
   ]
  },
  {
   "cell_type": "code",
   "execution_count": 14,
   "metadata": {
    "ExecuteTime": {
     "end_time": "2021-06-30T21:23:02.836457Z",
     "start_time": "2021-06-30T21:23:02.824449Z"
    }
   },
   "outputs": [
    {
     "data": {
      "text/plain": [
       "(3961,\n",
       " 3562.0,\n",
       " 3563.0,\n",
       " {'image_id': 12670,\n",
       "  'category_id': 1,\n",
       "  'bbox': [330.01025390625,\n",
       "   292.5989990234375,\n",
       "   108.38092041015625,\n",
       "   134.40679931640625],\n",
       "  'score': 0.8061718940734863,\n",
       "  'area': 14567.13261929527,\n",
       "  'id': 9684,\n",
       "  'iou': 0.9999568597729189,\n",
       "  'gt_id': 900100012670,\n",
       "  'category': 'person',\n",
       "  'x': 330.01025390625,\n",
       "  'y': 292.5989990234375,\n",
       "  'w': 108.38092041015625,\n",
       "  'h': 134.40679931640625})"
      ]
     },
     "execution_count": 14,
     "metadata": {},
     "output_type": "execute_result"
    }
   ],
   "source": [
    "dets = dr.all_detections_by_class('person')\n",
    "for i, d in enumerate(dets):\n",
    "    if TP[i] != TP_coco[i]:\n",
    "        break\n",
    "i, TP[i], TP_coco[i], d"
   ]
  },
  {
   "cell_type": "code",
   "execution_count": 15,
   "metadata": {
    "ExecuteTime": {
     "end_time": "2021-06-30T21:23:02.843479Z",
     "start_time": "2021-06-30T21:23:02.838120Z"
    }
   },
   "outputs": [],
   "source": [
    "# show_detection(d)"
   ]
  },
  {
   "cell_type": "code",
   "execution_count": 16,
   "metadata": {
    "ExecuteTime": {
     "end_time": "2021-06-30T21:23:02.987982Z",
     "start_time": "2021-06-30T21:23:02.845907Z"
    }
   },
   "outputs": [],
   "source": [
    "eis = [x for x in dr.coco.evalImgs if x and x['image_id'] == 12670 and x['category_id'] == 1]\n",
    "# len(eis), eis[0]"
   ]
  },
  {
   "cell_type": "code",
   "execution_count": 17,
   "metadata": {
    "ExecuteTime": {
     "end_time": "2021-06-30T21:23:02.992703Z",
     "start_time": "2021-06-30T21:23:02.989346Z"
    }
   },
   "outputs": [
    {
     "data": {
      "text/plain": [
       "False"
      ]
     },
     "execution_count": 17,
     "metadata": {},
     "output_type": "execute_result"
    }
   ],
   "source": [
    "dr.coco.eval['dtigs'][0][5][i]"
   ]
  },
  {
   "cell_type": "code",
   "execution_count": 18,
   "metadata": {
    "ExecuteTime": {
     "end_time": "2021-06-30T21:23:03.021108Z",
     "start_time": "2021-06-30T21:23:02.994260Z"
    }
   },
   "outputs": [
    {
     "data": {
      "text/plain": [
       "(1968,\n",
       " 87.0,\n",
       " 86.0,\n",
       " {'image_id': 143961,\n",
       "  'category_id': 1,\n",
       "  'bbox': [129.54359436035156,\n",
       "   150.02687072753906,\n",
       "   159.7234649658203,\n",
       "   203.3919219970703],\n",
       "  'score': 0.9081220030784607,\n",
       "  'area': 32486.462527429918,\n",
       "  'id': 91573,\n",
       "  'iou': 0.5864054907152463,\n",
       "  'gt_id': 1203308,\n",
       "  'category': 'person',\n",
       "  'x': 129.54359436035156,\n",
       "  'y': 150.02687072753906,\n",
       "  'w': 159.7234649658203,\n",
       "  'h': 203.3919219970703})"
      ]
     },
     "execution_count": 18,
     "metadata": {},
     "output_type": "execute_result"
    }
   ],
   "source": [
    "for i, d in enumerate(dets):\n",
    "    if FP[i] != FP_coco[i]:\n",
    "        break\n",
    "i, FP[i], FP_coco[i], d"
   ]
  },
  {
   "cell_type": "code",
   "execution_count": 19,
   "metadata": {
    "ExecuteTime": {
     "end_time": "2021-06-30T21:23:03.033346Z",
     "start_time": "2021-06-30T21:23:03.022161Z"
    }
   },
   "outputs": [],
   "source": [
    "#show_detection(d)"
   ]
  },
  {
   "cell_type": "code",
   "execution_count": 20,
   "metadata": {
    "ExecuteTime": {
     "end_time": "2021-06-30T21:23:03.044160Z",
     "start_time": "2021-06-30T21:23:03.034730Z"
    }
   },
   "outputs": [
    {
     "data": {
      "text/plain": [
       "True"
      ]
     },
     "execution_count": 20,
     "metadata": {},
     "output_type": "execute_result"
    }
   ],
   "source": [
    "dr.coco.eval['dtigs'][0][5][i]"
   ]
  },
  {
   "cell_type": "markdown",
   "metadata": {},
   "source": [
    "Re-classifying TP / FP before mAP.75"
   ]
  },
  {
   "cell_type": "code",
   "execution_count": 21,
   "metadata": {
    "ExecuteTime": {
     "end_time": "2021-06-30T21:23:03.540414Z",
     "start_time": "2021-06-30T21:23:03.045744Z"
    }
   },
   "outputs": [
    {
     "data": {
      "text/plain": [
       "0.4268057493526962"
      ]
     },
     "execution_count": 21,
     "metadata": {},
     "output_type": "execute_result"
    }
   ],
   "source": [
    "dr.mean_average_precision(t_iou=0.75)"
   ]
  },
  {
   "cell_type": "code",
   "execution_count": 22,
   "metadata": {
    "ExecuteTime": {
     "end_time": "2021-06-30T21:23:03.645478Z",
     "start_time": "2021-06-30T21:23:03.544243Z"
    }
   },
   "outputs": [
    {
     "data": {
      "text/plain": [
       "0.5574921347420048"
      ]
     },
     "execution_count": 22,
     "metadata": {},
     "output_type": "execute_result"
    }
   ],
   "source": [
    "dr.average_precision('person', t_iou=0.75)"
   ]
  },
  {
   "cell_type": "code",
   "execution_count": 23,
   "metadata": {
    "ExecuteTime": {
     "end_time": "2021-06-30T21:23:04.209033Z",
     "start_time": "2021-06-30T21:23:03.646870Z"
    }
   },
   "outputs": [],
   "source": [
    "dr.match_detections(5)"
   ]
  },
  {
   "cell_type": "code",
   "execution_count": 24,
   "metadata": {
    "ExecuteTime": {
     "end_time": "2021-06-30T21:23:05.509682Z",
     "start_time": "2021-06-30T21:23:04.210304Z"
    }
   },
   "outputs": [
    {
     "data": {
      "text/plain": [
       "0.4318813315869905"
      ]
     },
     "execution_count": 24,
     "metadata": {},
     "output_type": "execute_result"
    }
   ],
   "source": [
    "dr.mean_average_precision(t_iou=0.75)"
   ]
  },
  {
   "cell_type": "code",
   "execution_count": 25,
   "metadata": {
    "ExecuteTime": {
     "end_time": "2021-06-30T21:23:05.586340Z",
     "start_time": "2021-06-30T21:23:05.511259Z"
    }
   },
   "outputs": [
    {
     "data": {
      "text/plain": [
       "True"
      ]
     },
     "execution_count": 25,
     "metadata": {},
     "output_type": "execute_result"
    }
   ],
   "source": [
    "TP = dr._tp_sum('person', 0.75)\n",
    "FP = dr._fp_sum('person', 0.75)\n",
    "TP_coco = dr.coco.eval['tp_sums'][0][5]\n",
    "FP_coco = dr.coco.eval['fp_sums'][0][5]\n",
    "(TP == TP_coco).all()"
   ]
  },
  {
   "cell_type": "code",
   "execution_count": 26,
   "metadata": {
    "ExecuteTime": {
     "end_time": "2021-06-30T21:23:05.592952Z",
     "start_time": "2021-06-30T21:23:05.588063Z"
    }
   },
   "outputs": [
    {
     "data": {
      "text/plain": [
       "0.5667977368947763"
      ]
     },
     "execution_count": 26,
     "metadata": {},
     "output_type": "execute_result"
    }
   ],
   "source": [
    "np.mean(dr.coco.eval[\"precision\"][5, :, 0, 0, -1])"
   ]
  },
  {
   "cell_type": "code",
   "execution_count": 27,
   "metadata": {
    "ExecuteTime": {
     "end_time": "2021-06-30T21:23:05.693337Z",
     "start_time": "2021-06-30T21:23:05.594156Z"
    }
   },
   "outputs": [
    {
     "data": {
      "text/plain": [
       "0.5667977368947763"
      ]
     },
     "execution_count": 27,
     "metadata": {},
     "output_type": "execute_result"
    }
   ],
   "source": [
    "dr.average_precision('person', t_iou=0.75)"
   ]
  },
  {
   "cell_type": "code",
   "execution_count": 28,
   "metadata": {
    "ExecuteTime": {
     "end_time": "2021-06-30T21:23:06.141512Z",
     "start_time": "2021-06-30T21:23:05.694814Z"
    }
   },
   "outputs": [],
   "source": [
    "for name, idx in dr.names.items():\n",
    "    cocoAveP = np.mean(dr.coco.eval[\"precision\"][5, :, idx, 0, -1])\n",
    "    drAveP = dr.average_precision(name, t_iou=0.75)\n",
    "    if cocoAveP != drAveP:\n",
    "        print(f\"Error for {idx} {name}: {cocoAveP=} {drAveP=}\")\n"
   ]
  }
 ],
 "metadata": {
  "kernelspec": {
   "display_name": "Python 3 (ipykernel)",
   "language": "python",
   "name": "python3"
  },
  "language_info": {
   "codemirror_mode": {
    "name": "ipython",
    "version": 3
   },
   "file_extension": ".py",
   "mimetype": "text/x-python",
   "name": "python",
   "nbconvert_exporter": "python",
   "pygments_lexer": "ipython3",
   "version": "3.10.4"
  },
  "toc": {
   "base_numbering": 1,
   "nav_menu": {},
   "number_sections": true,
   "sideBar": true,
   "skip_h1_title": false,
   "title_cell": "Table of Contents",
   "title_sidebar": "Contents",
   "toc_cell": false,
   "toc_position": {},
   "toc_section_display": true,
   "toc_window_display": false
  }
 },
 "nbformat": 4,
 "nbformat_minor": 4
}
