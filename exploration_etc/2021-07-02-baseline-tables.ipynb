{
 "cells": [
  {
   "cell_type": "code",
   "execution_count": 1,
   "id": "922fef87",
   "metadata": {
    "ExecuteTime": {
     "end_time": "2021-07-03T06:37:56.213182Z",
     "start_time": "2021-07-03T06:37:55.330333Z"
    }
   },
   "outputs": [],
   "source": [
    "import glob\n",
    "import os\n",
    "from evaldets.results import DetectionResults\n",
    "import pandas as pd"
   ]
  },
  {
   "cell_type": "code",
   "execution_count": 2,
   "id": "d751b0b7",
   "metadata": {
    "ExecuteTime": {
     "end_time": "2021-07-03T06:37:56.796898Z",
     "start_time": "2021-07-03T06:37:56.214323Z"
    }
   },
   "outputs": [],
   "source": [
    "dr = DetectionResults('~/reval_50/baseline_50/evaluator_dump_R50_101/')"
   ]
  },
  {
   "cell_type": "code",
   "execution_count": 3,
   "id": "3f0ed324",
   "metadata": {
    "ExecuteTime": {
     "end_time": "2021-07-03T06:37:56.932567Z",
     "start_time": "2021-07-03T06:37:56.798764Z"
    }
   },
   "outputs": [
    {
     "data": {
      "text/plain": [
       "(18043, 4320, 821)"
      ]
     },
     "execution_count": 3,
     "metadata": {},
     "output_type": "execute_result"
    }
   ],
   "source": [
    "assert dr.count_TP() + dr.count_FP() + dr.count_EX() == len(dr)\n",
    "dr.count_TP(), dr.count_FP(), dr.count_EX()"
   ]
  },
  {
   "cell_type": "raw",
   "id": "dd6db019",
   "metadata": {
    "ExecuteTime": {
     "end_time": "2021-07-02T00:12:24.810521Z",
     "start_time": "2021-07-02T00:12:12.598859Z"
    }
   },
   "source": [
    "dr.AP_score()"
   ]
  },
  {
   "cell_type": "raw",
   "id": "484847c7",
   "metadata": {
    "ExecuteTime": {
     "end_time": "2021-07-02T00:12:26.761845Z",
     "start_time": "2021-07-02T00:12:24.812186Z"
    }
   },
   "source": [
    "dr.finish_cocoeval()"
   ]
  },
  {
   "cell_type": "code",
   "execution_count": 4,
   "id": "fccbc484",
   "metadata": {
    "ExecuteTime": {
     "end_time": "2021-07-03T06:38:03.124294Z",
     "start_time": "2021-07-03T06:37:56.934240Z"
    }
   },
   "outputs": [
    {
     "name": "stdout",
     "output_type": "stream",
     "text": [
      "                                FP     TP    EX\n",
      "evaluator_dump_R101_101       4360  18769   820\n",
      "evaluator_dump_R101_C4_101   17246  24373  4463\n",
      "evaluator_dump_R101_DC5_101  17752  24701  4504\n",
      "evaluator_dump_R101_FPN_101  10751  23593  2605\n",
      "evaluator_dump_R50_101        4320  18043   821\n",
      "evaluator_dump_R50_C4_101    18075  23733  4586\n",
      "evaluator_dump_R50_DC5_101   18190  24244  4668\n",
      "evaluator_dump_R50_FPN_101   13811  23170   380\n",
      "evaluator_dump_X101_101      10472  24073  2534\n"
     ]
    }
   ],
   "source": [
    "dumps = glob.glob(os.path.expanduser('~/reval_50/baseline_50/*'))\n",
    "print(pd.DataFrame([DetectionResults(d).summary() for d in dumps], index=map(os.path.basename, dumps)).sort_index())"
   ]
  },
  {
   "cell_type": "code",
   "execution_count": 5,
   "id": "c282749c",
   "metadata": {
    "ExecuteTime": {
     "end_time": "2021-07-03T06:38:14.441831Z",
     "start_time": "2021-07-03T06:38:03.125984Z"
    }
   },
   "outputs": [
    {
     "name": "stdout",
     "output_type": "stream",
     "text": [
      "                                FP     TP    EX\n",
      "evaluator_dump_R101_101       4360  18769   820\n",
      "evaluator_dump_R101_C4_101   17246  24373  4463\n",
      "evaluator_dump_R101_DC5_101  17752  24701  4504\n",
      "evaluator_dump_R101_FPN_101  10751  23593  2605\n",
      "evaluator_dump_R50_101        4320  18043   821\n",
      "evaluator_dump_R50_C4_101    18075  23733  4586\n",
      "evaluator_dump_R50_DC5_101   18190  24244  4668\n",
      "evaluator_dump_R50_FPN_101   11428  23170  2763\n",
      "evaluator_dump_X101_101      10472  24073  2534\n"
     ]
    }
   ],
   "source": [
    "dumps = glob.glob(os.path.expanduser('~/reval_05/baseline_05/*'))\n",
    "print(pd.DataFrame([DetectionResults(d).summary(t_score=0.5) for d in dumps], index=map(os.path.basename, dumps)).sort_index())"
   ]
  },
  {
   "cell_type": "code",
   "execution_count": 6,
   "id": "a2d25b4f",
   "metadata": {
    "ExecuteTime": {
     "end_time": "2021-07-03T06:38:25.395778Z",
     "start_time": "2021-07-03T06:38:14.443185Z"
    }
   },
   "outputs": [
    {
     "name": "stdout",
     "output_type": "stream",
     "text": [
      "                                 FP     TP     EX\n",
      "evaluator_dump_R101_101      330518  30238  15319\n",
      "evaluator_dump_R101_C4_101   127795  29531  13591\n",
      "evaluator_dump_R101_DC5_101  124023  29530  14152\n",
      "evaluator_dump_R101_FPN_101   93415  29786  12744\n",
      "evaluator_dump_R50_101       358261  30112  15188\n",
      "evaluator_dump_R50_C4_101    138201  29004  13422\n",
      "evaluator_dump_R50_DC5_101   129690  29178  14221\n",
      "evaluator_dump_R50_FPN_101   108119  29596  13205\n",
      "evaluator_dump_X101_101       69608  29546  11862\n"
     ]
    }
   ],
   "source": [
    "dumps = glob.glob(os.path.expanduser('~/reval_05/baseline_05/*'))\n",
    "print(pd.DataFrame([DetectionResults(d).summary() for d in dumps], index=map(os.path.basename, dumps)).sort_index())"
   ]
  }
 ],
 "metadata": {
  "kernelspec": {
   "display_name": "Python 3",
   "language": "python",
   "name": "python3"
  },
  "language_info": {
   "codemirror_mode": {
    "name": "ipython",
    "version": 3
   },
   "file_extension": ".py",
   "mimetype": "text/x-python",
   "name": "python",
   "nbconvert_exporter": "python",
   "pygments_lexer": "ipython3",
   "version": "3.9.5"
  },
  "toc": {
   "base_numbering": 1,
   "nav_menu": {},
   "number_sections": true,
   "sideBar": true,
   "skip_h1_title": false,
   "title_cell": "Table of Contents",
   "title_sidebar": "Contents",
   "toc_cell": false,
   "toc_position": {},
   "toc_section_display": true,
   "toc_window_display": false
  }
 },
 "nbformat": 4,
 "nbformat_minor": 5
}
