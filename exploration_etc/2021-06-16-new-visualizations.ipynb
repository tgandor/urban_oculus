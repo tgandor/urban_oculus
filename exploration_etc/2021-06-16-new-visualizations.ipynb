{
 "cells": [
  {
   "cell_type": "markdown",
   "metadata": {},
   "source": [
    "# Updates\n",
    "* 2021-07-06 - fixed bug with q in show_detection(), added q to show_image_objects()"
   ]
  },
  {
   "cell_type": "code",
   "execution_count": null,
   "metadata": {
    "ExecuteTime": {
     "end_time": "2021-07-06T16:57:14.904804Z",
     "start_time": "2021-07-06T16:57:14.133996Z"
    }
   },
   "outputs": [],
   "source": [
    "import logging\n",
    "from evaldets.visualization import *\n",
    "from evaldets.results import DetectionResults\n",
    "# logging.basicConfig(level=logging.INFO)"
   ]
  },
  {
   "cell_type": "code",
   "execution_count": null,
   "metadata": {
    "ExecuteTime": {
     "end_time": "2021-07-06T16:57:19.056471Z",
     "start_time": "2021-07-06T16:57:14.905850Z"
    }
   },
   "outputs": [],
   "source": [
    "dets = DetectionResults('~/reval_50/R101/evaluator_dump_R101_075/', iou_thresh=0.25, cache=0)"
   ]
  },
  {
   "cell_type": "code",
   "execution_count": null,
   "metadata": {
    "ExecuteTime": {
     "end_time": "2021-07-06T16:57:19.703999Z",
     "start_time": "2021-07-06T16:57:19.060229Z"
    }
   },
   "outputs": [],
   "source": [
    "len(dets), dets[1], len(DSI.gt),  DSI.gt[104368], min(d.get('iou', 1) for d in dets)"
   ]
  },
  {
   "cell_type": "code",
   "execution_count": null,
   "metadata": {
    "ExecuteTime": {
     "end_time": "2021-07-06T16:57:19.709100Z",
     "start_time": "2021-07-06T16:57:19.705820Z"
    }
   },
   "outputs": [],
   "source": [
    "dets[1205]"
   ]
  },
  {
   "cell_type": "code",
   "execution_count": null,
   "metadata": {
    "ExecuteTime": {
     "end_time": "2021-07-06T16:57:20.147325Z",
     "start_time": "2021-07-06T16:57:19.710563Z"
    }
   },
   "outputs": [],
   "source": [
    "show_detection(dets[1205], scale=1.5, q=75, v=1)"
   ]
  },
  {
   "cell_type": "code",
   "execution_count": null,
   "metadata": {
    "ExecuteTime": {
     "end_time": "2021-07-06T16:59:05.787113Z",
     "start_time": "2021-07-06T16:59:05.783502Z"
    }
   },
   "outputs": [],
   "source": [
    "d = 1468"
   ]
  },
  {
   "cell_type": "code",
   "execution_count": null,
   "metadata": {
    "ExecuteTime": {
     "end_time": "2021-07-06T16:59:24.486711Z",
     "start_time": "2021-07-06T16:59:24.403637Z"
    }
   },
   "outputs": [],
   "source": [
    "print(d)\n",
    "show_detection(dets[d], crop=True, v=True, crop_margin=10, scale=2, q=75)\n",
    "d += 1"
   ]
  },
  {
   "cell_type": "code",
   "execution_count": null,
   "metadata": {
    "ExecuteTime": {
     "end_time": "2021-07-06T16:57:53.374837Z",
     "start_time": "2021-07-06T16:57:53.017735Z"
    }
   },
   "outputs": [],
   "source": [
    "show_detections(dets[:10], scale=1.5, v=1, q=75)"
   ]
  },
  {
   "cell_type": "code",
   "execution_count": null,
   "metadata": {
    "ExecuteTime": {
     "end_time": "2021-07-06T16:57:21.424795Z",
     "start_time": "2021-07-06T16:57:20.970332Z"
    }
   },
   "outputs": [],
   "source": [
    "show_image_objects(33638+0*27768, show_ids=True, scale=2)"
   ]
  },
  {
   "cell_type": "code",
   "execution_count": null,
   "metadata": {
    "ExecuteTime": {
     "end_time": "2021-07-06T16:57:21.853026Z",
     "start_time": "2021-07-06T16:57:21.425870Z"
    }
   },
   "outputs": [],
   "source": [
    "show_detections(dets.detections_by_image_id(33638), q=75, scale=2)"
   ]
  }
 ],
 "metadata": {
  "kernelspec": {
   "display_name": "Python 3",
   "language": "python",
   "name": "python3"
  },
  "language_info": {
   "codemirror_mode": {
    "name": "ipython",
    "version": 3
   },
   "file_extension": ".py",
   "mimetype": "text/x-python",
   "name": "python",
   "nbconvert_exporter": "python",
   "pygments_lexer": "ipython3",
   "version": "3.9.5"
  },
  "toc": {
   "base_numbering": 1,
   "nav_menu": {},
   "number_sections": true,
   "sideBar": true,
   "skip_h1_title": false,
   "title_cell": "Table of Contents",
   "title_sidebar": "Contents",
   "toc_cell": false,
   "toc_position": {},
   "toc_section_display": true,
   "toc_window_display": false
  }
 },
 "nbformat": 4,
 "nbformat_minor": 4
}
