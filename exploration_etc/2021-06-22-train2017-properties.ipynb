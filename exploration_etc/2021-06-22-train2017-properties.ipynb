{
 "cells": [
  {
   "cell_type": "code",
   "execution_count": 1,
   "metadata": {
    "ExecuteTime": {
     "end_time": "2021-06-21T22:25:02.799319Z",
     "start_time": "2021-06-21T22:25:02.792300Z"
    }
   },
   "outputs": [],
   "source": [
    "from evaldets.visualization import DatasetIndex  # wrong module for that?"
   ]
  },
  {
   "cell_type": "code",
   "execution_count": 5,
   "metadata": {
    "ExecuteTime": {
     "end_time": "2021-06-21T22:26:16.967277Z",
     "start_time": "2021-06-21T22:26:16.961069Z"
    }
   },
   "outputs": [],
   "source": [
    "dsi = DatasetIndex('coco_2017_train')"
   ]
  },
  {
   "cell_type": "code",
   "execution_count": 6,
   "metadata": {
    "ExecuteTime": {
     "end_time": "2021-06-21T22:26:33.834595Z",
     "start_time": "2021-06-21T22:26:19.634425Z"
    }
   },
   "outputs": [
    {
     "data": {
      "text/plain": [
       "860001"
      ]
     },
     "execution_count": 6,
     "metadata": {},
     "output_type": "execute_result"
    }
   ],
   "source": [
    "len(dsi.gt)"
   ]
  },
  {
   "cell_type": "code",
   "execution_count": 7,
   "metadata": {
    "ExecuteTime": {
     "end_time": "2021-06-21T22:27:21.511246Z",
     "start_time": "2021-06-21T22:27:21.264605Z"
    }
   },
   "outputs": [
    {
     "data": {
      "text/plain": [
       "117266"
      ]
     },
     "execution_count": 7,
     "metadata": {},
     "output_type": "execute_result"
    }
   ],
   "source": [
    "len(set(a[\"image_id\"] for a in dsi.gt.values()))"
   ]
  },
  {
   "cell_type": "code",
   "execution_count": 8,
   "metadata": {
    "ExecuteTime": {
     "end_time": "2021-06-21T22:27:50.347647Z",
     "start_time": "2021-06-21T22:27:50.249735Z"
    }
   },
   "outputs": [
    {
     "data": {
      "text/plain": [
       "10052"
      ]
     },
     "execution_count": 8,
     "metadata": {},
     "output_type": "execute_result"
    }
   ],
   "source": [
    "sum(a[\"iscrowd\"] for a in dsi.gt.values())"
   ]
  },
  {
   "cell_type": "code",
   "execution_count": 9,
   "metadata": {
    "ExecuteTime": {
     "end_time": "2021-06-21T22:28:00.516363Z",
     "start_time": "2021-06-21T22:28:00.394032Z"
    }
   },
   "outputs": [
    {
     "data": {
      "text/plain": [
       "849949"
      ]
     },
     "execution_count": 9,
     "metadata": {},
     "output_type": "execute_result"
    }
   ],
   "source": [
    "sum(a[\"iscrowd\"]==0 for a in dsi.gt.values())"
   ]
  },
  {
   "cell_type": "markdown",
   "metadata": {},
   "source": [
    "### Training details"
   ]
  },
  {
   "cell_type": "code",
   "execution_count": 1,
   "metadata": {
    "ExecuteTime": {
     "end_time": "2021-06-21T23:06:33.455439Z",
     "start_time": "2021-06-21T23:06:32.227696Z"
    }
   },
   "outputs": [],
   "source": [
    "from imports import *"
   ]
  },
  {
   "cell_type": "code",
   "execution_count": null,
   "metadata": {
    "ExecuteTime": {
     "end_time": "2021-06-21T23:37:10.118243Z",
     "start_time": "2021-06-21T23:37:09.951606Z"
    }
   },
   "outputs": [],
   "source": [
    "pd.DataFrame(\n",
    "    [{'model': key, **conf(key).SOLVER} for key in MODEL_ZOO_CONFIGS.keys()]\n",
    "    + [{'model': key+'x1', **conf(key, CONFIGS_1x).SOLVER} for key in CONFIGS_1x.keys()],\n",
    "    # columns=['model', 'LR_SCHEDULER_NAME']\n",
    ")"
   ]
  }
 ],
 "metadata": {
  "kernelspec": {
   "display_name": "Python 3",
   "language": "python",
   "name": "python3"
  },
  "language_info": {
   "codemirror_mode": {
    "name": "ipython",
    "version": 3
   },
   "file_extension": ".py",
   "mimetype": "text/x-python",
   "name": "python",
   "nbconvert_exporter": "python",
   "pygments_lexer": "ipython3",
   "version": "3.7.6"
  },
  "toc": {
   "base_numbering": 1,
   "nav_menu": {},
   "number_sections": true,
   "sideBar": true,
   "skip_h1_title": false,
   "title_cell": "Table of Contents",
   "title_sidebar": "Contents",
   "toc_cell": false,
   "toc_position": {},
   "toc_section_display": true,
   "toc_window_display": false
  }
 },
 "nbformat": 4,
 "nbformat_minor": 4
}
