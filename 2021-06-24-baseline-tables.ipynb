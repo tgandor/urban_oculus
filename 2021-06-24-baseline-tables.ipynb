{
 "cells": [
  {
   "cell_type": "code",
   "execution_count": null,
   "metadata": {
    "ExecuteTime": {
     "end_time": "2021-06-25T08:16:42.453364Z",
     "start_time": "2021-06-25T08:16:42.193009Z"
    }
   },
   "outputs": [],
   "source": [
    "import pandas as pd\n",
    "from evaldets.postprocess import *"
   ]
  },
  {
   "cell_type": "code",
   "execution_count": null,
   "metadata": {
    "ExecuteTime": {
     "end_time": "2021-06-25T08:16:42.466169Z",
     "start_time": "2021-06-25T08:16:42.455094Z"
    }
   },
   "outputs": [],
   "source": [
    "rr05, rr50  = [\n",
    "    pd.DataFrame(load_rich_results(reval_dir)).set_index(\"model\").drop(columns=['elapsed', 'quality', 'min_score'])\n",
    "    for reval_dir in ('data/bad_reval/reval_05/baseline_05/', 'data/bad_reval/reval_50/baseline_50/')\n",
    "]"
   ]
  },
  {
   "cell_type": "code",
   "execution_count": null,
   "metadata": {
    "ExecuteTime": {
     "end_time": "2021-06-25T08:16:42.511019Z",
     "start_time": "2021-06-25T08:16:42.468509Z"
    }
   },
   "outputs": [],
   "source": [
    "rr05.compare(rr50)"
   ]
  },
  {
   "cell_type": "code",
   "execution_count": null,
   "metadata": {
    "ExecuteTime": {
     "end_time": "2021-06-25T08:16:42.527779Z",
     "start_time": "2021-06-25T08:16:42.513726Z"
    }
   },
   "outputs": [],
   "source": [
    "rr05 - rr50"
   ]
  },
  {
   "cell_type": "code",
   "execution_count": null,
   "metadata": {
    "ExecuteTime": {
     "end_time": "2021-06-25T08:16:42.705731Z",
     "start_time": "2021-06-25T08:16:42.529571Z"
    }
   },
   "outputs": [],
   "source": [
    "import matplotlib.pyplot as plt"
   ]
  },
  {
   "cell_type": "code",
   "execution_count": null,
   "metadata": {
    "ExecuteTime": {
     "end_time": "2021-06-25T08:16:42.714630Z",
     "start_time": "2021-06-25T08:16:42.707469Z"
    }
   },
   "outputs": [],
   "source": [
    "rr = rr05.merge(rr50, left_index=True, right_index=True, suffixes=['_05', '_50'])\n",
    "rr = rr[sorted(rr.columns)]"
   ]
  },
  {
   "cell_type": "code",
   "execution_count": null,
   "metadata": {
    "ExecuteTime": {
     "end_time": "2021-06-25T08:16:42.745720Z",
     "start_time": "2021-06-25T08:16:42.716220Z"
    }
   },
   "outputs": [],
   "source": [
    "pd.options.display.max_columns = None\n",
    "rr"
   ]
  },
  {
   "cell_type": "code",
   "execution_count": null,
   "metadata": {
    "ExecuteTime": {
     "end_time": "2021-06-25T08:16:42.983238Z",
     "start_time": "2021-06-25T08:16:42.747424Z"
    }
   },
   "outputs": [],
   "source": [
    "# plt.rcParams['legend.loc'] = \"lower right\"\n",
    "rr[['precision_50',  'precision_05']].plot.bar(ylim=(0, 1))"
   ]
  },
  {
   "cell_type": "code",
   "execution_count": null,
   "metadata": {
    "ExecuteTime": {
     "end_time": "2021-06-25T08:16:43.183164Z",
     "start_time": "2021-06-25T08:16:42.984920Z"
    }
   },
   "outputs": [],
   "source": [
    "# something is not yes:\n",
    "rr[['recall_50',  'recall_05']].plot.bar(ylim=(0, 1))"
   ]
  },
  {
   "cell_type": "code",
   "execution_count": null,
   "metadata": {
    "ExecuteTime": {
     "end_time": "2021-06-25T08:16:43.412751Z",
     "start_time": "2021-06-25T08:16:43.184675Z"
    }
   },
   "outputs": [],
   "source": [
    "rr[['tp_50',  'tp_05', 'fp_50', 'fp_05']].plot.bar()"
   ]
  },
  {
   "cell_type": "code",
   "execution_count": null,
   "metadata": {
    "ExecuteTime": {
     "end_time": "2021-06-25T08:20:07.782707Z",
     "start_time": "2021-06-25T08:20:07.750670Z"
    }
   },
   "outputs": [],
   "source": [
    "ok05, ok50  = [\n",
    "    pd.DataFrame(load_rich_results(reval_dir)).set_index(\"model\").drop(columns=['elapsed', 'quality', 'min_score', 'score_T'])\n",
    "    for reval_dir in ('../reval_05/baseline_05/', '../reval_50/baseline_50/')\n",
    "]"
   ]
  },
  {
   "cell_type": "code",
   "execution_count": null,
   "metadata": {
    "ExecuteTime": {
     "end_time": "2021-06-25T08:20:08.342876Z",
     "start_time": "2021-06-25T08:20:08.326615Z"
    }
   },
   "outputs": [],
   "source": [
    "ok = ok05.merge(ok50, left_index=True, right_index=True, suffixes=['_05', '_50'])\n",
    "ok = ok[sorted(ok.columns)]"
   ]
  },
  {
   "cell_type": "code",
   "execution_count": null,
   "metadata": {
    "ExecuteTime": {
     "end_time": "2021-06-25T08:20:22.957708Z",
     "start_time": "2021-06-25T08:20:22.912473Z"
    }
   },
   "outputs": [],
   "source": [
    "ok.compare(rr)"
   ]
  },
  {
   "cell_type": "code",
   "execution_count": null,
   "metadata": {
    "ExecuteTime": {
     "end_time": "2021-06-25T08:21:43.155429Z",
     "start_time": "2021-06-25T08:21:42.951278Z"
    }
   },
   "outputs": [],
   "source": [
    "ok[['recall_50',  'recall_05']].plot.bar(ylim=(0, 1));"
   ]
  },
  {
   "cell_type": "code",
   "execution_count": null,
   "metadata": {
    "ExecuteTime": {
     "end_time": "2021-06-25T08:22:29.123344Z",
     "start_time": "2021-06-25T08:22:28.942103Z"
    }
   },
   "outputs": [],
   "source": [
    "rr[['precision_50',  'precision_05']].plot.bar(ylim=(0, 1));"
   ]
  }
 ],
 "metadata": {
  "kernelspec": {
   "display_name": "Python 3",
   "language": "python",
   "name": "python3"
  },
  "language_info": {
   "codemirror_mode": {
    "name": "ipython",
    "version": 3
   },
   "file_extension": ".py",
   "mimetype": "text/x-python",
   "name": "python",
   "nbconvert_exporter": "python",
   "pygments_lexer": "ipython3",
   "version": "3.7.6"
  },
  "toc": {
   "base_numbering": 1,
   "nav_menu": {},
   "number_sections": true,
   "sideBar": true,
   "skip_h1_title": false,
   "title_cell": "Table of Contents",
   "title_sidebar": "Contents",
   "toc_cell": false,
   "toc_position": {},
   "toc_section_display": true,
   "toc_window_display": false
  }
 },
 "nbformat": 4,
 "nbformat_minor": 4
}
