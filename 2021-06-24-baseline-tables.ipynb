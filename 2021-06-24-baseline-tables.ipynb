{
 "cells": [
  {
   "cell_type": "code",
   "execution_count": null,
   "metadata": {
    "ExecuteTime": {
     "end_time": "2021-06-24T21:26:56.479759Z",
     "start_time": "2021-06-24T21:26:55.985748Z"
    }
   },
   "outputs": [],
   "source": [
    "import pandas as pd\n",
    "from evaldets.postprocess import *"
   ]
  },
  {
   "cell_type": "code",
   "execution_count": null,
   "metadata": {
    "ExecuteTime": {
     "end_time": "2021-06-24T21:53:45.428838Z",
     "start_time": "2021-06-24T21:53:45.402695Z"
    }
   },
   "outputs": [],
   "source": [
    "rr05, rr50  = [\n",
    "    pd.DataFrame(load_rich_results(reval_dir)).set_index(\"model\").drop(columns=['elapsed', 'quality', 'min_score'])\n",
    "    for reval_dir in ('./reval_05/baseline_05/', './reval_50/baseline_50/')\n",
    "]"
   ]
  },
  {
   "cell_type": "code",
   "execution_count": null,
   "metadata": {
    "ExecuteTime": {
     "end_time": "2021-06-24T21:53:45.964974Z",
     "start_time": "2021-06-24T21:53:45.919897Z"
    }
   },
   "outputs": [],
   "source": [
    "rr05.compare(rr50)"
   ]
  },
  {
   "cell_type": "code",
   "execution_count": null,
   "metadata": {
    "ExecuteTime": {
     "end_time": "2021-06-24T21:53:50.657092Z",
     "start_time": "2021-06-24T21:53:50.629450Z"
    }
   },
   "outputs": [],
   "source": [
    "rr05 - rr50"
   ]
  },
  {
   "cell_type": "code",
   "execution_count": null,
   "metadata": {
    "ExecuteTime": {
     "end_time": "2021-06-24T21:54:05.753835Z",
     "start_time": "2021-06-24T21:54:05.747688Z"
    }
   },
   "outputs": [],
   "source": [
    "import matplotlib.pyplot as plt"
   ]
  },
  {
   "cell_type": "code",
   "execution_count": null,
   "metadata": {
    "ExecuteTime": {
     "end_time": "2021-06-24T21:56:53.337225Z",
     "start_time": "2021-06-24T21:56:53.322720Z"
    }
   },
   "outputs": [],
   "source": [
    "rr = rr05.merge(rr50, left_index=True, right_index=True, suffixes=['_05', '_50'])\n",
    "rr = rr[sorted(rr.columns)]"
   ]
  },
  {
   "cell_type": "code",
   "execution_count": null,
   "metadata": {
    "ExecuteTime": {
     "end_time": "2021-06-24T21:56:55.029245Z",
     "start_time": "2021-06-24T21:56:54.990861Z"
    }
   },
   "outputs": [],
   "source": [
    "pd.options.display.max_columns = None\n",
    "rr"
   ]
  },
  {
   "cell_type": "code",
   "execution_count": null,
   "metadata": {
    "ExecuteTime": {
     "end_time": "2021-06-24T21:44:40.195994Z",
     "start_time": "2021-06-24T21:44:40.012805Z"
    }
   },
   "outputs": [],
   "source": [
    "# plt.rcParams['legend.loc'] = \"lower right\"\n",
    "rr[['precision_50',  'precision_05']].plot.bar(ylim=(0, 1))"
   ]
  },
  {
   "cell_type": "code",
   "execution_count": null,
   "metadata": {
    "ExecuteTime": {
     "end_time": "2021-06-24T22:03:42.549027Z",
     "start_time": "2021-06-24T22:03:42.372466Z"
    }
   },
   "outputs": [],
   "source": [
    "# something is not yes:\n",
    "rr[['recall_50',  'recall_05']].plot.bar(ylim=(0, 1))"
   ]
  },
  {
   "cell_type": "code",
   "execution_count": null,
   "metadata": {
    "ExecuteTime": {
     "end_time": "2021-06-24T22:04:26.790626Z",
     "start_time": "2021-06-24T22:04:26.382736Z"
    }
   },
   "outputs": [],
   "source": [
    "rr[['tp_50',  'tp_05', 'fp_50', 'fp_05']].plot.bar()"
   ]
  }
 ],
 "metadata": {
  "kernelspec": {
   "display_name": "Python 3",
   "language": "python",
   "name": "python3"
  },
  "language_info": {
   "codemirror_mode": {
    "name": "ipython",
    "version": 3
   },
   "file_extension": ".py",
   "mimetype": "text/x-python",
   "name": "python",
   "nbconvert_exporter": "python",
   "pygments_lexer": "ipython3",
   "version": "3.7.6"
  },
  "toc": {
   "base_numbering": 1,
   "nav_menu": {},
   "number_sections": true,
   "sideBar": true,
   "skip_h1_title": false,
   "title_cell": "Table of Contents",
   "title_sidebar": "Contents",
   "toc_cell": false,
   "toc_position": {},
   "toc_section_display": true,
   "toc_window_display": false
  }
 },
 "nbformat": 4,
 "nbformat_minor": 4
}
