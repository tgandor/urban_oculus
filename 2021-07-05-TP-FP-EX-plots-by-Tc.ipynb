{
 "cells": [
  {
   "cell_type": "code",
   "execution_count": null,
   "id": "6a57f092",
   "metadata": {
    "ExecuteTime": {
     "end_time": "2021-07-08T21:05:39.932198Z",
     "start_time": "2021-07-08T21:05:39.057427Z"
    }
   },
   "outputs": [],
   "source": [
    "import logging\n",
    "from evaldets.results import DetectionResults\n",
    "from evaldets.postprocess import *\n",
    "import matplotlib.pyplot as plt\n",
    "# logging.basicConfig(level=logging.INFO)"
   ]
  },
  {
   "cell_type": "code",
   "execution_count": null,
   "id": "995473ce",
   "metadata": {
    "ExecuteTime": {
     "end_time": "2021-07-08T21:05:39.936644Z",
     "start_time": "2021-07-08T21:05:39.933584Z"
    }
   },
   "outputs": [],
   "source": [
    "s = Summary('~/reval_05/baseline_05/')"
   ]
  },
  {
   "cell_type": "markdown",
   "id": "ae239514",
   "metadata": {},
   "source": [
    "# Non-stacked version "
   ]
  },
  {
   "cell_type": "code",
   "execution_count": null,
   "id": "dda373c8",
   "metadata": {
    "ExecuteTime": {
     "end_time": "2021-07-08T21:05:41.343831Z",
     "start_time": "2021-07-08T21:05:39.938264Z"
    },
    "scrolled": false
   },
   "outputs": [],
   "source": [
    "fig, axes = get_figure_axes(sharey=True)\n",
    "s.plot_tc_tp_fp_ex(axes, order='R101 R101_C4 R101_DC5 R101_FPN X101 R50 R50_C4 R50_DC5 R50_FPN'.split(), min_Tc=0.15, legend=False)\n",
    "finish_plot(fig, axes)"
   ]
  },
  {
   "cell_type": "code",
   "execution_count": null,
   "id": "b493c082",
   "metadata": {
    "ExecuteTime": {
     "end_time": "2021-07-08T21:05:41.347663Z",
     "start_time": "2021-07-08T21:05:41.345612Z"
    }
   },
   "outputs": [],
   "source": [
    "# fig.savefig('baseline_TPFPEX_Tc.pdf')"
   ]
  },
  {
   "cell_type": "markdown",
   "id": "e61c57c5",
   "metadata": {
    "ExecuteTime": {
     "end_time": "2021-07-06T09:48:07.906910Z",
     "start_time": "2021-07-06T09:48:07.899594Z"
    }
   },
   "source": [
    "# Stacked version\n",
    "The better one."
   ]
  },
  {
   "cell_type": "code",
   "execution_count": null,
   "id": "24eb1b2d",
   "metadata": {
    "ExecuteTime": {
     "end_time": "2021-07-08T21:09:18.421512Z",
     "start_time": "2021-07-08T21:09:17.230257Z"
    },
    "scrolled": false
   },
   "outputs": [],
   "source": [
    "fig, axes = get_figure_axes(sharey=True)\n",
    "s.plot_tc_tp_fp_ex(axes, stack=True, min_Tc=0.2, order='R101 R101_C4 R101_DC5 R101_FPN X101 R50 R50_C4 R50_DC5 R50_FPN'.split(), legend=False)\n",
    "finish_plot(fig, axes)"
   ]
  },
  {
   "cell_type": "code",
   "execution_count": null,
   "id": "da90b279",
   "metadata": {
    "ExecuteTime": {
     "end_time": "2021-07-08T21:05:42.953143Z",
     "start_time": "2021-07-08T21:05:42.693520Z"
    }
   },
   "outputs": [],
   "source": [
    "fig.savefig('baseline_TPFPEX_Tc.pdf')"
   ]
  },
  {
   "cell_type": "markdown",
   "id": "3d38ba52",
   "metadata": {},
   "source": [
    "# Early experimens"
   ]
  },
  {
   "cell_type": "code",
   "execution_count": null,
   "id": "5addb250",
   "metadata": {
    "ExecuteTime": {
     "end_time": "2021-07-08T21:05:44.663849Z",
     "start_time": "2021-07-08T21:05:42.954359Z"
    }
   },
   "outputs": [],
   "source": [
    "dr = DetectionResults('~/reval_05/baseline_05/evaluator_dump_R101_101/')"
   ]
  },
  {
   "cell_type": "code",
   "execution_count": null,
   "id": "38b9a527",
   "metadata": {
    "ExecuteTime": {
     "end_time": "2021-07-08T21:05:46.183543Z",
     "start_time": "2021-07-08T21:05:44.665296Z"
    }
   },
   "outputs": [],
   "source": [
    "plt.plot(dr.scores_all(), dr.tp_sum_all(), 'g-')\n",
    "plt.plot(dr.scores_all(), -dr.fp_sum_all(), 'r-')\n",
    "plt.plot(dr.scores_all(), dr.tp_sum_all()+dr.ex_sum_all(), 'y--')\n",
    "plt.axhline(0, color='black')\n",
    "plt.gca().set_xlim(1, 0)"
   ]
  },
  {
   "cell_type": "code",
   "execution_count": null,
   "id": "fad6faba",
   "metadata": {
    "ExecuteTime": {
     "end_time": "2021-07-08T21:05:47.121104Z",
     "start_time": "2021-07-08T21:05:46.184996Z"
    }
   },
   "outputs": [],
   "source": [
    "dr = DetectionResults('~/reval_05/baseline_05/evaluator_dump_X101_101/')"
   ]
  },
  {
   "cell_type": "code",
   "execution_count": null,
   "id": "7370cb44",
   "metadata": {
    "ExecuteTime": {
     "end_time": "2021-07-08T21:05:47.581746Z",
     "start_time": "2021-07-08T21:05:47.122494Z"
    }
   },
   "outputs": [],
   "source": [
    "plt.plot(dr.scores_all(), dr.tp_sum_all(), 'g-')\n",
    "plt.plot(dr.scores_all(), -dr.fp_sum_all(), 'r-')\n",
    "plt.plot(dr.scores_all(), dr.tp_sum_all()+dr.ex_sum_all(), 'y--')\n",
    "plt.xlim(1, 0)\n",
    "plt.axhline(0, color='black', linestyle='-.');"
   ]
  }
 ],
 "metadata": {
  "kernelspec": {
   "display_name": "Python 3",
   "language": "python",
   "name": "python3"
  },
  "language_info": {
   "codemirror_mode": {
    "name": "ipython",
    "version": 3
   },
   "file_extension": ".py",
   "mimetype": "text/x-python",
   "name": "python",
   "nbconvert_exporter": "python",
   "pygments_lexer": "ipython3",
   "version": "3.9.5"
  },
  "toc": {
   "base_numbering": 1,
   "nav_menu": {},
   "number_sections": true,
   "sideBar": true,
   "skip_h1_title": false,
   "title_cell": "Table of Contents",
   "title_sidebar": "Contents",
   "toc_cell": false,
   "toc_position": {},
   "toc_section_display": true,
   "toc_window_display": false
  }
 },
 "nbformat": 4,
 "nbformat_minor": 5
}
