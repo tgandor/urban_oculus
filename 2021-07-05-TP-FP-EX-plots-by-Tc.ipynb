{
 "cells": [
  {
   "cell_type": "code",
   "execution_count": null,
   "id": "6a57f092",
   "metadata": {
    "ExecuteTime": {
     "end_time": "2021-07-06T09:48:39.368879Z",
     "start_time": "2021-07-06T09:48:38.483265Z"
    }
   },
   "outputs": [],
   "source": [
    "import logging\n",
    "from evaldets.results import DetectionResults\n",
    "from evaldets.postprocess import Summary\n",
    "import matplotlib.pyplot as plt\n",
    "# logging.basicConfig(level=logging.INFO)"
   ]
  },
  {
   "cell_type": "code",
   "execution_count": null,
   "id": "995473ce",
   "metadata": {
    "ExecuteTime": {
     "end_time": "2021-07-06T09:48:39.374223Z",
     "start_time": "2021-07-06T09:48:39.370304Z"
    }
   },
   "outputs": [],
   "source": [
    "s = Summary('~/reval_05/baseline_05/')"
   ]
  },
  {
   "cell_type": "markdown",
   "id": "ae239514",
   "metadata": {},
   "source": [
    "# Non-stacked version "
   ]
  },
  {
   "cell_type": "code",
   "execution_count": null,
   "id": "dda373c8",
   "metadata": {
    "ExecuteTime": {
     "end_time": "2021-07-06T09:48:40.663479Z",
     "start_time": "2021-07-06T09:48:39.376500Z"
    },
    "scrolled": false
   },
   "outputs": [],
   "source": [
    "fig, axes = plt.subplots(2, 5, sharey=True)\n",
    "fig.set_figheight(6)\n",
    "fig.set_figwidth(15)\n",
    "s.plot_tc_tp_fp_ex(axes, order='R101 R101_C4 R101_DC5 R101_FPN X101 R50 R50_C4 R50_DC5 R50_FPN'.split(), min_Tc=0.15, legend=False)\n",
    "fig.tight_layout()\n",
    "axes[1, 4].axis('off')\n",
    "axes[1, 4].legend(*axes[0, 0].get_legend_handles_labels(), loc='lower right', fontsize='x-large', borderpad=2);"
   ]
  },
  {
   "cell_type": "code",
   "execution_count": null,
   "id": "b493c082",
   "metadata": {
    "ExecuteTime": {
     "end_time": "2021-07-06T09:48:40.667608Z",
     "start_time": "2021-07-06T09:48:40.665130Z"
    }
   },
   "outputs": [],
   "source": [
    "# fig.savefig('baseline_TPFPEX_Tc.pdf')"
   ]
  },
  {
   "cell_type": "markdown",
   "id": "e61c57c5",
   "metadata": {
    "ExecuteTime": {
     "end_time": "2021-07-06T09:48:07.906910Z",
     "start_time": "2021-07-06T09:48:07.899594Z"
    }
   },
   "source": [
    "# Stacked version\n",
    "The better one."
   ]
  },
  {
   "cell_type": "code",
   "execution_count": null,
   "id": "24eb1b2d",
   "metadata": {
    "ExecuteTime": {
     "end_time": "2021-07-06T09:48:41.926100Z",
     "start_time": "2021-07-06T09:48:40.669410Z"
    },
    "scrolled": false
   },
   "outputs": [],
   "source": [
    "fig, axes = plt.subplots(2, 5, sharey=True)\n",
    "fig.set_figheight(6)\n",
    "fig.set_figwidth(15)\n",
    "s.plot_tc_tp_fp_ex(axes, stack=True, min_Tc=0.2, order='R101 R101_C4 R101_DC5 R101_FPN X101 R50 R50_C4 R50_DC5 R50_FPN'.split(), legend=False)\n",
    "fig.tight_layout()\n",
    "axes[1, 4].axis('off')\n",
    "axes[1, 4].legend(*axes[0, 0].get_legend_handles_labels(), loc='lower right', fontsize='x-large', borderpad=2);"
   ]
  },
  {
   "cell_type": "code",
   "execution_count": null,
   "id": "da90b279",
   "metadata": {
    "ExecuteTime": {
     "end_time": "2021-07-06T09:48:42.175472Z",
     "start_time": "2021-07-06T09:48:41.927254Z"
    }
   },
   "outputs": [],
   "source": [
    "fig.savefig('baseline_TPFPEX_Tc.pdf')"
   ]
  },
  {
   "cell_type": "markdown",
   "id": "3d38ba52",
   "metadata": {},
   "source": [
    "# Early experimens"
   ]
  },
  {
   "cell_type": "code",
   "execution_count": null,
   "id": "5addb250",
   "metadata": {
    "ExecuteTime": {
     "end_time": "2021-07-06T09:48:43.686820Z",
     "start_time": "2021-07-06T09:48:42.176787Z"
    }
   },
   "outputs": [],
   "source": [
    "dr = DetectionResults('~/reval_05/baseline_05/evaluator_dump_R101_101/')"
   ]
  },
  {
   "cell_type": "code",
   "execution_count": null,
   "id": "38b9a527",
   "metadata": {
    "ExecuteTime": {
     "end_time": "2021-07-06T09:48:45.086523Z",
     "start_time": "2021-07-06T09:48:43.688229Z"
    }
   },
   "outputs": [],
   "source": [
    "plt.plot(dr.scores_all(), dr.tp_sum_all(), 'g-')\n",
    "plt.plot(dr.scores_all(), -dr.fp_sum_all(), 'r-')\n",
    "plt.plot(dr.scores_all(), dr.tp_sum_all()+dr.ex_sum_all(), 'y--')\n",
    "plt.axhline(0, color='black')\n",
    "plt.gca().set_xlim(1, 0)"
   ]
  },
  {
   "cell_type": "code",
   "execution_count": null,
   "id": "fad6faba",
   "metadata": {
    "ExecuteTime": {
     "end_time": "2021-07-06T09:48:45.999526Z",
     "start_time": "2021-07-06T09:48:45.087761Z"
    }
   },
   "outputs": [],
   "source": [
    "dr = DetectionResults('~/reval_05/baseline_05/evaluator_dump_X101_101/')"
   ]
  },
  {
   "cell_type": "code",
   "execution_count": null,
   "id": "7370cb44",
   "metadata": {
    "ExecuteTime": {
     "end_time": "2021-07-06T09:48:46.455490Z",
     "start_time": "2021-07-06T09:48:46.000608Z"
    }
   },
   "outputs": [],
   "source": [
    "plt.plot(dr.scores_all(), dr.tp_sum_all(), 'g-')\n",
    "plt.plot(dr.scores_all(), -dr.fp_sum_all(), 'r-')\n",
    "plt.plot(dr.scores_all(), dr.tp_sum_all()+dr.ex_sum_all(), 'y--')\n",
    "plt.xlim(1, 0)\n",
    "plt.axhline(0, color='black', linestyle='-.');"
   ]
  },
  {
   "cell_type": "code",
   "execution_count": null,
   "id": "cfc8a31a",
   "metadata": {},
   "outputs": [],
   "source": []
  }
 ],
 "metadata": {
  "kernelspec": {
   "display_name": "Python 3",
   "language": "python",
   "name": "python3"
  },
  "language_info": {
   "codemirror_mode": {
    "name": "ipython",
    "version": 3
   },
   "file_extension": ".py",
   "mimetype": "text/x-python",
   "name": "python",
   "nbconvert_exporter": "python",
   "pygments_lexer": "ipython3",
   "version": "3.9.5"
  },
  "toc": {
   "base_numbering": 1,
   "nav_menu": {},
   "number_sections": true,
   "sideBar": true,
   "skip_h1_title": false,
   "title_cell": "Table of Contents",
   "title_sidebar": "Contents",
   "toc_cell": false,
   "toc_position": {},
   "toc_section_display": true,
   "toc_window_display": false
  }
 },
 "nbformat": 4,
 "nbformat_minor": 5
}
