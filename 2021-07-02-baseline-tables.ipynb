{
 "cells": [
  {
   "cell_type": "code",
   "execution_count": null,
   "id": "922fef87",
   "metadata": {
    "ExecuteTime": {
     "end_time": "2021-07-02T00:12:59.010008Z",
     "start_time": "2021-07-02T00:12:58.166981Z"
    }
   },
   "outputs": [],
   "source": [
    "import glob\n",
    "import os\n",
    "from evaldets.results import DetectionResults"
   ]
  },
  {
   "cell_type": "code",
   "execution_count": null,
   "id": "d751b0b7",
   "metadata": {
    "ExecuteTime": {
     "end_time": "2021-07-02T00:12:59.690443Z",
     "start_time": "2021-07-02T00:12:59.011515Z"
    }
   },
   "outputs": [],
   "source": [
    "dr = DetectionResults('~/reval_50/baseline_50/evaluator_dump_R50_101/')"
   ]
  },
  {
   "cell_type": "code",
   "execution_count": null,
   "id": "3f0ed324",
   "metadata": {
    "ExecuteTime": {
     "end_time": "2021-07-02T00:12:59.832096Z",
     "start_time": "2021-07-02T00:12:59.692197Z"
    }
   },
   "outputs": [],
   "source": [
    "assert dr.count_TP() + dr.count_FP() + dr.count_EX() == len(dr)\n",
    "dr.count_TP(), dr.count_FP(), dr.count_EX()"
   ]
  },
  {
   "cell_type": "raw",
   "id": "dd6db019",
   "metadata": {
    "ExecuteTime": {
     "end_time": "2021-07-02T00:12:24.810521Z",
     "start_time": "2021-07-02T00:12:12.598859Z"
    }
   },
   "source": [
    "dr.AP_score()"
   ]
  },
  {
   "cell_type": "raw",
   "id": "484847c7",
   "metadata": {
    "ExecuteTime": {
     "end_time": "2021-07-02T00:12:26.761845Z",
     "start_time": "2021-07-02T00:12:24.812186Z"
    }
   },
   "source": [
    "dr.finish_cocoeval()"
   ]
  },
  {
   "cell_type": "code",
   "execution_count": null,
   "id": "fccbc484",
   "metadata": {
    "ExecuteTime": {
     "end_time": "2021-07-02T00:13:06.820702Z",
     "start_time": "2021-07-02T00:12:59.833596Z"
    }
   },
   "outputs": [],
   "source": [
    "import pandas as pd\n",
    "pd.DataFrame([DetectionResults(d).summary() for d in glob.glob(os.path.expanduser('~/reval_50/baseline_50/*'))])"
   ]
  }
 ],
 "metadata": {
  "kernelspec": {
   "display_name": "Python 3",
   "language": "python",
   "name": "python3"
  },
  "language_info": {
   "codemirror_mode": {
    "name": "ipython",
    "version": 3
   },
   "file_extension": ".py",
   "mimetype": "text/x-python",
   "name": "python",
   "nbconvert_exporter": "python",
   "pygments_lexer": "ipython3",
   "version": "3.9.5"
  },
  "toc": {
   "base_numbering": 1,
   "nav_menu": {},
   "number_sections": true,
   "sideBar": true,
   "skip_h1_title": false,
   "title_cell": "Table of Contents",
   "title_sidebar": "Contents",
   "toc_cell": false,
   "toc_position": {},
   "toc_section_display": true,
   "toc_window_display": false
  }
 },
 "nbformat": 4,
 "nbformat_minor": 5
}
