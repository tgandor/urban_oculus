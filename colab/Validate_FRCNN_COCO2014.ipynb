{
  "nbformat": 4,
  "nbformat_minor": 0,
  "metadata": {
    "colab": {
      "name": "Validate_FRCNN_COCO2014.ipynb",
      "provenance": [],
      "collapsed_sections": [],
      "authorship_tag": "ABX9TyO9tWDBehOQux1G9G062Yj+",
      "include_colab_link": true
    },
    "kernelspec": {
      "name": "python3",
      "display_name": "Python 3"
    },
    "accelerator": "GPU"
  },
  "cells": [
    {
      "cell_type": "markdown",
      "metadata": {
        "id": "view-in-github",
        "colab_type": "text"
      },
      "source": [
        "<a href=\"https://colab.research.google.com/github/tgandor/urban_oculus/blob/master/colab/Validate_FRCNN_COCO2014.ipynb\" target=\"_parent\"><img src=\"https://colab.research.google.com/assets/colab-badge.svg\" alt=\"Open In Colab\"/></a>"
      ]
    },
    {
      "cell_type": "code",
      "metadata": {
        "id": "tAC2bqca3Qrv",
        "colab_type": "code",
        "outputId": "04e50933-5c2d-432f-da3b-f4d4fbc3ee55",
        "colab": {
          "base_uri": "https://localhost:8080/",
          "height": 421
        }
      },
      "source": [
        "# careful with dumb Python2 pycocotools:\n",
        "# NameError: name 'unicode' is not defined in\n",
        "# /usr/local/lib/python3.6/dist-packages/pycocotools/coco.py:308\n",
        "# needs to be:\n",
        "# if type(resFile) == str or (PYTHON_VERSION == 2 and type(resFile) == unicode):\n",
        "!pip install -U 'git+https://github.com/cocodataset/cocoapi.git#subdirectory=PythonAPI'"
      ],
      "execution_count": 1,
      "outputs": [
        {
          "output_type": "stream",
          "text": [
            "Collecting git+https://github.com/cocodataset/cocoapi.git#subdirectory=PythonAPI\n",
            "  Cloning https://github.com/cocodataset/cocoapi.git to /tmp/pip-req-build-tst5a44p\n",
            "  Running command git clone -q https://github.com/cocodataset/cocoapi.git /tmp/pip-req-build-tst5a44p\n",
            "Requirement already satisfied, skipping upgrade: setuptools>=18.0 in /usr/local/lib/python3.6/dist-packages (from pycocotools==2.0) (45.1.0)\n",
            "Requirement already satisfied, skipping upgrade: cython>=0.27.3 in /usr/local/lib/python3.6/dist-packages (from pycocotools==2.0) (0.29.15)\n",
            "Requirement already satisfied, skipping upgrade: matplotlib>=2.1.0 in /usr/local/lib/python3.6/dist-packages (from pycocotools==2.0) (3.1.3)\n",
            "Requirement already satisfied, skipping upgrade: pyparsing!=2.0.4,!=2.1.2,!=2.1.6,>=2.0.1 in /usr/local/lib/python3.6/dist-packages (from matplotlib>=2.1.0->pycocotools==2.0) (2.4.6)\n",
            "Requirement already satisfied, skipping upgrade: cycler>=0.10 in /usr/local/lib/python3.6/dist-packages (from matplotlib>=2.1.0->pycocotools==2.0) (0.10.0)\n",
            "Requirement already satisfied, skipping upgrade: python-dateutil>=2.1 in /usr/local/lib/python3.6/dist-packages (from matplotlib>=2.1.0->pycocotools==2.0) (2.6.1)\n",
            "Requirement already satisfied, skipping upgrade: numpy>=1.11 in /usr/local/lib/python3.6/dist-packages (from matplotlib>=2.1.0->pycocotools==2.0) (1.17.5)\n",
            "Requirement already satisfied, skipping upgrade: kiwisolver>=1.0.1 in /usr/local/lib/python3.6/dist-packages (from matplotlib>=2.1.0->pycocotools==2.0) (1.1.0)\n",
            "Requirement already satisfied, skipping upgrade: six in /usr/local/lib/python3.6/dist-packages (from cycler>=0.10->matplotlib>=2.1.0->pycocotools==2.0) (1.12.0)\n",
            "Building wheels for collected packages: pycocotools\n",
            "  Building wheel for pycocotools (setup.py) ... \u001b[?25l\u001b[?25hdone\n",
            "  Created wheel for pycocotools: filename=pycocotools-2.0-cp36-cp36m-linux_x86_64.whl size=275279 sha256=ddaa9da609f879390dd42aca3c6c01175973db11251779c7e2eb1b989e0b43b6\n",
            "  Stored in directory: /tmp/pip-ephem-wheel-cache-v2rndxpo/wheels/90/51/41/646daf401c3bc408ff10de34ec76587a9b3ebfac8d21ca5c3a\n",
            "Successfully built pycocotools\n",
            "Installing collected packages: pycocotools\n",
            "  Found existing installation: pycocotools 2.0\n",
            "    Uninstalling pycocotools-2.0:\n",
            "      Successfully uninstalled pycocotools-2.0\n",
            "Successfully installed pycocotools-2.0\n"
          ],
          "name": "stdout"
        }
      ]
    },
    {
      "cell_type": "code",
      "metadata": {
        "id": "785bkuhpXE3-",
        "colab_type": "code",
        "outputId": "7474e33c-53f0-45c4-f077-d753046f9d1f",
        "colab": {
          "base_uri": "https://localhost:8080/",
          "height": 54
        }
      },
      "source": [
        "%%time\n",
        "# deps installation\n",
        "try:\n",
        "  import detectron2\n",
        "except ImportError:\n",
        "  !git clone https://github.com/facebookresearch/detectron2 detectron2_repo\n",
        "  !pip install -e detectron2_repo\n",
        "  print('Stopping RUNTIME! Please run again.')\n",
        "  import os\n",
        "  os.kill(os.getpid(), 9)"
      ],
      "execution_count": 2,
      "outputs": [
        {
          "output_type": "stream",
          "text": [
            "CPU times: user 222 ms, sys: 53.7 ms, total: 276 ms\n",
            "Wall time: 1.43 s\n"
          ],
          "name": "stdout"
        }
      ]
    },
    {
      "cell_type": "markdown",
      "metadata": {
        "id": "WhmEn2SHYxBp",
        "colab_type": "text"
      },
      "source": [
        "Create example model"
      ]
    },
    {
      "cell_type": "code",
      "metadata": {
        "id": "YuoQ9EX_XYIm",
        "colab_type": "code",
        "colab": {}
      },
      "source": [
        "import detectron2.model_zoo\n",
        "from detectron2.config import get_cfg"
      ],
      "execution_count": 0,
      "outputs": []
    },
    {
      "cell_type": "code",
      "metadata": {
        "id": "MuCzojcYYCUx",
        "colab_type": "code",
        "colab": {}
      },
      "source": [
        "cfg = get_cfg()\n",
        "cfg.merge_from_file(detectron2.model_zoo.get_config_file(\"COCO-InstanceSegmentation/mask_rcnn_R_50_FPN_3x.yaml\"))\n",
        "cfg.MODEL.ROI_HEADS.SCORE_THRESH_TEST = 0.5  # set threshold for this model\n",
        "cfg.MODEL.WEIGHTS = \"detectron2://COCO-InstanceSegmentation/mask_rcnn_R_50_FPN_3x/137849600/model_final_f10217.pkl\""
      ],
      "execution_count": 0,
      "outputs": []
    },
    {
      "cell_type": "markdown",
      "metadata": {
        "id": "floZioUWaumB",
        "colab_type": "text"
      },
      "source": [
        "Create evaluator"
      ]
    },
    {
      "cell_type": "code",
      "metadata": {
        "id": "AMKibHvbaGjG",
        "colab_type": "code",
        "colab": {}
      },
      "source": [
        "# from detectron2.data import MetadataCatalog\n",
        "# MetadataCatalog().get('coco_2014_val')\n",
        "from detectron2.evaluation import COCOEvaluator, inference_on_dataset"
      ],
      "execution_count": 0,
      "outputs": []
    },
    {
      "cell_type": "code",
      "metadata": {
        "id": "orX9jrgEcw28",
        "colab_type": "code",
        "outputId": "9d55b43e-171d-498b-a610-b897e6a36842",
        "colab": {
          "base_uri": "https://localhost:8080/",
          "height": 54
        }
      },
      "source": [
        "%%time\n",
        "# No such file or directory: 'datasets/coco/annotations/instances_val2014.json'\n",
        "import os\n",
        "if not os.path.exists('datasets/coco/annotations/'):\n",
        "  !mkdir -p datasets/coco\n",
        "  !wget -q http://images.cocodataset.org/annotations/annotations_trainval2014.zip\n",
        "  !unzip -d datasets/coco annotations_trainval2014.zip"
      ],
      "execution_count": 6,
      "outputs": [
        {
          "output_type": "stream",
          "text": [
            "CPU times: user 29 µs, sys: 7 µs, total: 36 µs\n",
            "Wall time: 39.1 µs\n"
          ],
          "name": "stdout"
        }
      ]
    },
    {
      "cell_type": "code",
      "metadata": {
        "id": "xwdpcbn6bCtP",
        "colab_type": "code",
        "colab": {}
      },
      "source": [
        "evaluator = COCOEvaluator('coco_2014_val', cfg, False)"
      ],
      "execution_count": 0,
      "outputs": []
    },
    {
      "cell_type": "markdown",
      "metadata": {
        "id": "ktrvI0fcgU_R",
        "colab_type": "text"
      },
      "source": [
        "Run inference / metrics"
      ]
    },
    {
      "cell_type": "code",
      "metadata": {
        "id": "vcKlW3VciVzJ",
        "colab_type": "code",
        "colab": {}
      },
      "source": [
        "from detectron2.data import build_detection_test_loader\n",
        "# needed?\n",
        "# cfg.DATASETS.TEST = ('coco_2014_val',)\n",
        "data_loader = build_detection_test_loader(cfg, 'coco_2014_val')"
      ],
      "execution_count": 0,
      "outputs": []
    },
    {
      "cell_type": "code",
      "metadata": {
        "id": "S-mozciDjmyI",
        "colab_type": "code",
        "colab": {}
      },
      "source": [
        "from detectron2.engine import DefaultPredictor\n",
        "predictor = DefaultPredictor(cfg)\n",
        "# predictor is not a model:\n",
        "# results = inference_on_dataset(predictor, data_loader, evaluator)"
      ],
      "execution_count": 0,
      "outputs": []
    },
    {
      "cell_type": "code",
      "metadata": {
        "id": "sfA0eRW-nCUS",
        "colab_type": "code",
        "outputId": "aa58ddca-f864-4285-a755-8df5901f1f50",
        "colab": {
          "base_uri": "https://localhost:8080/",
          "height": 54
        }
      },
      "source": [
        "%%time\n",
        "import os\n",
        "if not os.path.exists('datasets/coco/val2014/'):\n",
        "  !wget http://images.cocodataset.org/zips/val2014.zip\n",
        "  !unzip val2014 -d datasets/coco/"
      ],
      "execution_count": 10,
      "outputs": [
        {
          "output_type": "stream",
          "text": [
            "CPU times: user 366 µs, sys: 50 µs, total: 416 µs\n",
            "Wall time: 464 µs\n"
          ],
          "name": "stdout"
        }
      ]
    },
    {
      "cell_type": "code",
      "metadata": {
        "id": "3XwZbViVeYMd",
        "colab_type": "code",
        "outputId": "b6cef7a1-83b2-4509-fa14-ad4ccc53fe6b",
        "colab": {
          "base_uri": "https://localhost:8080/",
          "height": 825
        }
      },
      "source": [
        "%%time\n",
        "results = inference_on_dataset(predictor.model, data_loader, evaluator)\n",
        "results"
      ],
      "execution_count": 11,
      "outputs": [
        {
          "output_type": "stream",
          "text": [
            "Loading and preparing results...\n",
            "DONE (t=0.38s)\n",
            "creating index...\n",
            "index created!\n",
            "Running per image evaluation...\n",
            "Evaluate annotation type *bbox*\n",
            "DONE (t=141.23s).\n",
            "Accumulating evaluation results...\n",
            "DONE (t=15.34s).\n",
            " Average Precision  (AP) @[ IoU=0.50:0.95 | area=   all | maxDets=100 ] = 0.458\n",
            " Average Precision  (AP) @[ IoU=0.50      | area=   all | maxDets=100 ] = 0.648\n",
            " Average Precision  (AP) @[ IoU=0.75      | area=   all | maxDets=100 ] = 0.519\n",
            " Average Precision  (AP) @[ IoU=0.50:0.95 | area= small | maxDets=100 ] = 0.255\n",
            " Average Precision  (AP) @[ IoU=0.50:0.95 | area=medium | maxDets=100 ] = 0.502\n",
            " Average Precision  (AP) @[ IoU=0.50:0.95 | area= large | maxDets=100 ] = 0.594\n",
            " Average Recall     (AR) @[ IoU=0.50:0.95 | area=   all | maxDets=  1 ] = 0.346\n",
            " Average Recall     (AR) @[ IoU=0.50:0.95 | area=   all | maxDets= 10 ] = 0.518\n",
            " Average Recall     (AR) @[ IoU=0.50:0.95 | area=   all | maxDets=100 ] = 0.527\n",
            " Average Recall     (AR) @[ IoU=0.50:0.95 | area= small | maxDets=100 ] = 0.295\n",
            " Average Recall     (AR) @[ IoU=0.50:0.95 | area=medium | maxDets=100 ] = 0.576\n",
            " Average Recall     (AR) @[ IoU=0.50:0.95 | area= large | maxDets=100 ] = 0.691\n",
            "Loading and preparing results...\n",
            "DONE (t=3.84s)\n",
            "creating index...\n",
            "index created!\n",
            "Running per image evaluation...\n",
            "Evaluate annotation type *segm*\n",
            "DONE (t=159.19s).\n",
            "Accumulating evaluation results...\n",
            "DONE (t=14.97s).\n",
            " Average Precision  (AP) @[ IoU=0.50:0.95 | area=   all | maxDets=100 ] = 0.408\n",
            " Average Precision  (AP) @[ IoU=0.50      | area=   all | maxDets=100 ] = 0.623\n",
            " Average Precision  (AP) @[ IoU=0.75      | area=   all | maxDets=100 ] = 0.450\n",
            " Average Precision  (AP) @[ IoU=0.50:0.95 | area= small | maxDets=100 ] = 0.197\n",
            " Average Precision  (AP) @[ IoU=0.50:0.95 | area=medium | maxDets=100 ] = 0.437\n",
            " Average Precision  (AP) @[ IoU=0.50:0.95 | area= large | maxDets=100 ] = 0.579\n",
            " Average Recall     (AR) @[ IoU=0.50:0.95 | area=   all | maxDets=  1 ] = 0.319\n",
            " Average Recall     (AR) @[ IoU=0.50:0.95 | area=   all | maxDets= 10 ] = 0.470\n",
            " Average Recall     (AR) @[ IoU=0.50:0.95 | area=   all | maxDets=100 ] = 0.478\n",
            " Average Recall     (AR) @[ IoU=0.50:0.95 | area= small | maxDets=100 ] = 0.257\n",
            " Average Recall     (AR) @[ IoU=0.50:0.95 | area=medium | maxDets=100 ] = 0.520\n",
            " Average Recall     (AR) @[ IoU=0.50:0.95 | area= large | maxDets=100 ] = 0.648\n",
            "CPU times: user 47min 48s, sys: 13min 55s, total: 1h 1min 43s\n",
            "Wall time: 1h 2min 23s\n"
          ],
          "name": "stdout"
        }
      ]
    },
    {
      "cell_type": "code",
      "metadata": {
        "id": "berN7PljjCN8",
        "colab_type": "code",
        "colab": {
          "base_uri": "https://localhost:8080/",
          "height": 54
        },
        "outputId": "fec94587-6a46-4cec-9c1c-20d15ea583cd"
      },
      "source": [
        "!ls"
      ],
      "execution_count": 12,
      "outputs": [
        {
          "output_type": "stream",
          "text": [
            "annotations_trainval2014.zip  detectron2_repo  val2014.zip\n",
            "datasets\t\t      sample_data\n"
          ],
          "name": "stdout"
        }
      ]
    },
    {
      "cell_type": "markdown",
      "metadata": {
        "id": "AcgXuA4OK9zy",
        "colab_type": "text"
      },
      "source": [
        "Appendix: pycocotools Py3 error check"
      ]
    },
    {
      "cell_type": "code",
      "metadata": {
        "id": "AZSW15bBrL8J",
        "colab_type": "code",
        "colab": {}
      },
      "source": [
        "import pycocotools"
      ],
      "execution_count": 0,
      "outputs": []
    },
    {
      "cell_type": "code",
      "metadata": {
        "id": "fjPPGyGCjDbt",
        "colab_type": "code",
        "outputId": "579baf66-be41-4c19-e427-daad01eb4557",
        "colab": {
          "base_uri": "https://localhost:8080/",
          "height": 35
        }
      },
      "source": [
        "pycocotools.__file__"
      ],
      "execution_count": 14,
      "outputs": [
        {
          "output_type": "execute_result",
          "data": {
            "text/plain": [
              "'/usr/local/lib/python3.6/dist-packages/pycocotools/__init__.py'"
            ]
          },
          "metadata": {
            "tags": []
          },
          "execution_count": 14
        }
      ]
    },
    {
      "cell_type": "code",
      "metadata": {
        "id": "2NziykuR5OyT",
        "colab_type": "code",
        "colab": {
          "base_uri": "https://localhost:8080/",
          "height": 35
        },
        "outputId": "440f1d88-28cf-4b3b-bb5a-b59eb1ff5f63"
      },
      "source": [
        "!cat `dirname {pycocotools.__file__}`/coco.py | grep unicode"
      ],
      "execution_count": 17,
      "outputs": [
        {
          "output_type": "stream",
          "text": [
            "        if type(resFile) == str or (PYTHON_VERSION == 2 and type(resFile) == unicode):\n"
          ],
          "name": "stdout"
        }
      ]
    },
    {
      "cell_type": "code",
      "metadata": {
        "id": "vNSVILFb4PBg",
        "colab_type": "code",
        "colab": {
          "base_uri": "https://localhost:8080/",
          "height": 35
        },
        "outputId": "19aef6a0-73f0-42b5-be33-0fb016266cb5"
      },
      "source": [
        "results.keys()"
      ],
      "execution_count": 19,
      "outputs": [
        {
          "output_type": "execute_result",
          "data": {
            "text/plain": [
              "odict_keys(['bbox', 'segm'])"
            ]
          },
          "metadata": {
            "tags": []
          },
          "execution_count": 19
        }
      ]
    },
    {
      "cell_type": "code",
      "metadata": {
        "id": "Vh3z3hnXLM5j",
        "colab_type": "code",
        "colab": {
          "base_uri": "https://localhost:8080/",
          "height": 1000
        },
        "outputId": "72ddfa65-44fb-4dfe-a57b-615e140e84dd"
      },
      "source": [
        "results['bbox']"
      ],
      "execution_count": 20,
      "outputs": [
        {
          "output_type": "execute_result",
          "data": {
            "text/plain": [
              "{'AP': 45.8080216334962,\n",
              " 'AP-airplane': 59.591768325498094,\n",
              " 'AP-apple': 25.307838084880395,\n",
              " 'AP-backpack': 21.39432195257931,\n",
              " 'AP-banana': 30.60160175400067,\n",
              " 'AP-baseball bat': 37.49395523099272,\n",
              " 'AP-baseball glove': 43.44074913308509,\n",
              " 'AP-bear': 76.03213561543704,\n",
              " 'AP-bed': 49.53013675811101,\n",
              " 'AP-bench': 27.94417566068692,\n",
              " 'AP-bicycle': 35.88971157372225,\n",
              " 'AP-bird': 43.01590246236457,\n",
              " 'AP-boat': 31.89311451915974,\n",
              " 'AP-book': 15.523950564841165,\n",
              " 'AP-bottle': 40.868324825889175,\n",
              " 'AP-bowl': 43.761479990046105,\n",
              " 'AP-broccoli': 33.34351660451721,\n",
              " 'AP-bus': 63.96079665519164,\n",
              " 'AP-cake': 42.76828766842542,\n",
              " 'AP-car': 45.80246428394561,\n",
              " 'AP-carrot': 28.32102069583968,\n",
              " 'AP-cat': 71.04268172199484,\n",
              " 'AP-cell phone': 40.64491928218635,\n",
              " 'AP-chair': 32.62311147728073,\n",
              " 'AP-clock': 54.12158674360007,\n",
              " 'AP-couch': 41.41063652558003,\n",
              " 'AP-cow': 58.555517331667374,\n",
              " 'AP-cup': 45.770666827388794,\n",
              " 'AP-dining table': 31.47628251280297,\n",
              " 'AP-dog': 65.9292737208276,\n",
              " 'AP-donut': 56.60116247546474,\n",
              " 'AP-elephant': 70.71573673831868,\n",
              " 'AP-fire hydrant': 68.98292727129544,\n",
              " 'AP-fork': 35.47222540654292,\n",
              " 'AP-frisbee': 68.6274829318879,\n",
              " 'AP-giraffe': 71.55386314589265,\n",
              " 'AP-hair drier': 18.357664959446502,\n",
              " 'AP-handbag': 17.55091744992073,\n",
              " 'AP-horse': 60.42388089840441,\n",
              " 'AP-hot dog': 42.42615433003605,\n",
              " 'AP-keyboard': 55.42432363874116,\n",
              " 'AP-kite': 45.562097442118905,\n",
              " 'AP-knife': 26.470213148484994,\n",
              " 'AP-laptop': 62.2354658615976,\n",
              " 'AP-microwave': 59.48287122566398,\n",
              " 'AP-motorcycle': 45.519536538441955,\n",
              " 'AP-mouse': 58.474885725635616,\n",
              " 'AP-orange': 33.76723620745826,\n",
              " 'AP-oven': 40.741480388106815,\n",
              " 'AP-parking meter': 43.04416927960714,\n",
              " 'AP-person': 55.678096963525206,\n",
              " 'AP-pizza': 56.4401668617357,\n",
              " 'AP-potted plant': 32.774215161185595,\n",
              " 'AP-refrigerator': 53.13793701919622,\n",
              " 'AP-remote': 40.52971608462874,\n",
              " 'AP-sandwich': 41.30874357617665,\n",
              " 'AP-scissors': 41.65586356824086,\n",
              " 'AP-sheep': 54.39521473061421,\n",
              " 'AP-sink': 41.8820857183547,\n",
              " 'AP-skateboard': 54.018228071338456,\n",
              " 'AP-skis': 27.88193812266676,\n",
              " 'AP-snowboard': 40.58888227373413,\n",
              " 'AP-spoon': 23.404027945328497,\n",
              " 'AP-sports ball': 52.00430102025388,\n",
              " 'AP-stop sign': 69.80149881909306,\n",
              " 'AP-suitcase': 40.19765869785241,\n",
              " 'AP-surfboard': 47.37443321546699,\n",
              " 'AP-teddy bear': 53.72751468986958,\n",
              " 'AP-tennis racket': 54.8589325621041,\n",
              " 'AP-tie': 43.42322228623321,\n",
              " 'AP-toaster': 28.774588773991557,\n",
              " 'AP-toilet': 70.40102895958522,\n",
              " 'AP-toothbrush': 28.993909598122553,\n",
              " 'AP-traffic light': 35.45247706474686,\n",
              " 'AP-train': 64.91933152668308,\n",
              " 'AP-truck': 36.789185978832684,\n",
              " 'AP-tv': 56.32845022568357,\n",
              " 'AP-umbrella': 38.63578483083469,\n",
              " 'AP-vase': 46.14899508173348,\n",
              " 'AP-wine glass': 42.950593621264446,\n",
              " 'AP-zebra': 70.67048406500936,\n",
              " 'AP50': 64.80295356941134,\n",
              " 'AP75': 51.87619938129131,\n",
              " 'APl': 59.35798253847507,\n",
              " 'APm': 50.23814909531495,\n",
              " 'APs': 25.493618147077573}"
            ]
          },
          "metadata": {
            "tags": []
          },
          "execution_count": 20
        }
      ]
    },
    {
      "cell_type": "code",
      "metadata": {
        "id": "wcf-rNHrLjmC",
        "colab_type": "code",
        "colab": {}
      },
      "source": [
        "result_file = 'coco_val2014_rcnn_3x.json'\n",
        "import json\n",
        "with open(result_file, 'w') as f:\n",
        "  f.write(json.dumps(results['bbox']))"
      ],
      "execution_count": 0,
      "outputs": []
    },
    {
      "cell_type": "code",
      "metadata": {
        "id": "Krj-nOdpMO5D",
        "colab_type": "code",
        "colab": {}
      },
      "source": [
        "from google.colab import files\n",
        "\n",
        "files.download(result_file)"
      ],
      "execution_count": 0,
      "outputs": []
    },
    {
      "cell_type": "code",
      "metadata": {
        "id": "Qi1fjmCmMtV1",
        "colab_type": "code",
        "colab": {}
      },
      "source": [
        ""
      ],
      "execution_count": 0,
      "outputs": []
    }
  ]
}