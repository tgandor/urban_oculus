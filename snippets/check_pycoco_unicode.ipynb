{
 "cells": [
  {
   "cell_type": "markdown",
   "metadata": {},
   "source": [
    "Should find nothing, or this:\n",
    "`if type(resFile) == str or (PYTHON_VERSION == 2 and type(resFile) == unicode):`"
   ]
  },
  {
   "cell_type": "code",
   "execution_count": 1,
   "metadata": {},
   "outputs": [
    {
     "name": "stdout",
     "output_type": "stream",
     "text": [
      "        if type(resFile) == str or (PYTHON_VERSION == 2 and type(resFile) == unicode):\r\n"
     ]
    }
   ],
   "source": [
    "import pycocotools\n",
    "!cat `dirname {pycocotools.__file__}`/coco.py | grep unicode"
   ]
  }
 ],
 "metadata": {
  "kernelspec": {
   "display_name": "Python 3",
   "language": "python",
   "name": "python3"
  },
  "language_info": {
   "codemirror_mode": {
    "name": "ipython",
    "version": 3
   },
   "file_extension": ".py",
   "mimetype": "text/x-python",
   "name": "python",
   "nbconvert_exporter": "python",
   "pygments_lexer": "ipython3",
   "version": "3.7.3"
  }
 },
 "nbformat": 4,
 "nbformat_minor": 2
}
