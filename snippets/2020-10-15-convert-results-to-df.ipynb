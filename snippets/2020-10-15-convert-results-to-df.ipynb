{
 "cells": [
  {
   "cell_type": "code",
   "execution_count": 1,
   "metadata": {
    "ExecuteTime": {
     "end_time": "2020-10-18T22:17:26.517969Z",
     "start_time": "2020-10-18T22:17:26.297597Z"
    }
   },
   "outputs": [],
   "source": [
    "import json\n",
    "import glob\n",
    "import os\n",
    "import numpy as np\n",
    "import pandas as pd\n",
    "pd.options.display.max_rows = 4\n",
    "pd.options.display.max_columns = 8"
   ]
  },
  {
   "cell_type": "code",
   "execution_count": 2,
   "metadata": {
    "ExecuteTime": {
     "end_time": "2020-10-18T22:17:26.605899Z",
     "start_time": "2020-10-18T22:17:26.519392Z"
    }
   },
   "outputs": [],
   "source": [
    "results_cardio = [json.load(open(f)) for f in glob.glob('../cardio_results/*.json')]"
   ]
  },
  {
   "cell_type": "code",
   "execution_count": 3,
   "metadata": {
    "ExecuteTime": {
     "end_time": "2020-10-18T22:17:26.662596Z",
     "start_time": "2020-10-18T22:17:26.607644Z"
    }
   },
   "outputs": [
    {
     "data": {
      "text/html": [
       "<div>\n",
       "<style scoped>\n",
       "    .dataframe tbody tr th:only-of-type {\n",
       "        vertical-align: middle;\n",
       "    }\n",
       "\n",
       "    .dataframe tbody tr th {\n",
       "        vertical-align: top;\n",
       "    }\n",
       "\n",
       "    .dataframe thead th {\n",
       "        text-align: right;\n",
       "    }\n",
       "</style>\n",
       "<table border=\"1\" class=\"dataframe\">\n",
       "  <thead>\n",
       "    <tr style=\"text-align: right;\">\n",
       "      <th></th>\n",
       "      <th></th>\n",
       "      <th>elapsed</th>\n",
       "      <th>finished</th>\n",
       "      <th>device</th>\n",
       "      <th>AP</th>\n",
       "      <th>...</th>\n",
       "      <th>AP-scissors</th>\n",
       "      <th>AP-teddy bear</th>\n",
       "      <th>AP-hair drier</th>\n",
       "      <th>AP-toothbrush</th>\n",
       "    </tr>\n",
       "    <tr>\n",
       "      <th>quality</th>\n",
       "      <th>model_config</th>\n",
       "      <th></th>\n",
       "      <th></th>\n",
       "      <th></th>\n",
       "      <th></th>\n",
       "      <th></th>\n",
       "      <th></th>\n",
       "      <th></th>\n",
       "      <th></th>\n",
       "      <th></th>\n",
       "    </tr>\n",
       "  </thead>\n",
       "  <tbody>\n",
       "    <tr>\n",
       "      <th rowspan=\"2\" valign=\"top\">1</th>\n",
       "      <th>COCO-Detection/faster_rcnn_R_101_C4_3x.yaml</th>\n",
       "      <td>2826.581140</td>\n",
       "      <td>2020-06-08 00:41:11</td>\n",
       "      <td>GeForce GTX 1060 6GB</td>\n",
       "      <td>0.689457</td>\n",
       "      <td>...</td>\n",
       "      <td>0.000000</td>\n",
       "      <td>0.000000</td>\n",
       "      <td>0.000000</td>\n",
       "      <td>0.000000</td>\n",
       "    </tr>\n",
       "    <tr>\n",
       "      <th>COCO-Detection/faster_rcnn_R_101_DC5_3x.yaml</th>\n",
       "      <td>1645.898561</td>\n",
       "      <td>2020-06-08 08:53:43</td>\n",
       "      <td>GeForce GTX 1060 6GB</td>\n",
       "      <td>0.740405</td>\n",
       "      <td>...</td>\n",
       "      <td>0.000000</td>\n",
       "      <td>0.000000</td>\n",
       "      <td>0.000000</td>\n",
       "      <td>0.000000</td>\n",
       "    </tr>\n",
       "    <tr>\n",
       "      <th>...</th>\n",
       "      <th>...</th>\n",
       "      <td>...</td>\n",
       "      <td>...</td>\n",
       "      <td>...</td>\n",
       "      <td>...</td>\n",
       "      <td>...</td>\n",
       "      <td>...</td>\n",
       "      <td>...</td>\n",
       "      <td>...</td>\n",
       "      <td>...</td>\n",
       "    </tr>\n",
       "    <tr>\n",
       "      <th rowspan=\"2\" valign=\"top\">100</th>\n",
       "      <th>COCO-Detection/retinanet_R_101_FPN_3x.yaml</th>\n",
       "      <td>1301.285856</td>\n",
       "      <td>2020-06-09 20:11:30</td>\n",
       "      <td>GeForce GTX 1060 6GB</td>\n",
       "      <td>39.869614</td>\n",
       "      <td>...</td>\n",
       "      <td>30.317981</td>\n",
       "      <td>44.312238</td>\n",
       "      <td>0.595652</td>\n",
       "      <td>15.846204</td>\n",
       "    </tr>\n",
       "    <tr>\n",
       "      <th>COCO-Detection/retinanet_R_50_FPN_3x.yaml</th>\n",
       "      <td>1070.493649</td>\n",
       "      <td>2020-06-10 06:55:16</td>\n",
       "      <td>GeForce GTX 1060 6GB</td>\n",
       "      <td>37.924545</td>\n",
       "      <td>...</td>\n",
       "      <td>25.936524</td>\n",
       "      <td>42.228038</td>\n",
       "      <td>0.950829</td>\n",
       "      <td>14.429351</td>\n",
       "    </tr>\n",
       "  </tbody>\n",
       "</table>\n",
       "<p>900 rows × 89 columns</p>\n",
       "</div>"
      ],
      "text/plain": [
       "                                                          elapsed  \\\n",
       "quality model_config                                                \n",
       "1       COCO-Detection/faster_rcnn_R_101_C4_3x.yaml   2826.581140   \n",
       "        COCO-Detection/faster_rcnn_R_101_DC5_3x.yaml  1645.898561   \n",
       "...                                                           ...   \n",
       "100     COCO-Detection/retinanet_R_101_FPN_3x.yaml    1301.285856   \n",
       "        COCO-Detection/retinanet_R_50_FPN_3x.yaml     1070.493649   \n",
       "\n",
       "                                                                 finished  \\\n",
       "quality model_config                                                        \n",
       "1       COCO-Detection/faster_rcnn_R_101_C4_3x.yaml   2020-06-08 00:41:11   \n",
       "        COCO-Detection/faster_rcnn_R_101_DC5_3x.yaml  2020-06-08 08:53:43   \n",
       "...                                                                   ...   \n",
       "100     COCO-Detection/retinanet_R_101_FPN_3x.yaml    2020-06-09 20:11:30   \n",
       "        COCO-Detection/retinanet_R_50_FPN_3x.yaml     2020-06-10 06:55:16   \n",
       "\n",
       "                                                                    device  \\\n",
       "quality model_config                                                         \n",
       "1       COCO-Detection/faster_rcnn_R_101_C4_3x.yaml   GeForce GTX 1060 6GB   \n",
       "        COCO-Detection/faster_rcnn_R_101_DC5_3x.yaml  GeForce GTX 1060 6GB   \n",
       "...                                                                    ...   \n",
       "100     COCO-Detection/retinanet_R_101_FPN_3x.yaml    GeForce GTX 1060 6GB   \n",
       "        COCO-Detection/retinanet_R_50_FPN_3x.yaml     GeForce GTX 1060 6GB   \n",
       "\n",
       "                                                             AP  ...  \\\n",
       "quality model_config                                             ...   \n",
       "1       COCO-Detection/faster_rcnn_R_101_C4_3x.yaml    0.689457  ...   \n",
       "        COCO-Detection/faster_rcnn_R_101_DC5_3x.yaml   0.740405  ...   \n",
       "...                                                         ...  ...   \n",
       "100     COCO-Detection/retinanet_R_101_FPN_3x.yaml    39.869614  ...   \n",
       "        COCO-Detection/retinanet_R_50_FPN_3x.yaml     37.924545  ...   \n",
       "\n",
       "                                                      AP-scissors  \\\n",
       "quality model_config                                                \n",
       "1       COCO-Detection/faster_rcnn_R_101_C4_3x.yaml      0.000000   \n",
       "        COCO-Detection/faster_rcnn_R_101_DC5_3x.yaml     0.000000   \n",
       "...                                                           ...   \n",
       "100     COCO-Detection/retinanet_R_101_FPN_3x.yaml      30.317981   \n",
       "        COCO-Detection/retinanet_R_50_FPN_3x.yaml       25.936524   \n",
       "\n",
       "                                                      AP-teddy bear  \\\n",
       "quality model_config                                                  \n",
       "1       COCO-Detection/faster_rcnn_R_101_C4_3x.yaml        0.000000   \n",
       "        COCO-Detection/faster_rcnn_R_101_DC5_3x.yaml       0.000000   \n",
       "...                                                             ...   \n",
       "100     COCO-Detection/retinanet_R_101_FPN_3x.yaml        44.312238   \n",
       "        COCO-Detection/retinanet_R_50_FPN_3x.yaml         42.228038   \n",
       "\n",
       "                                                      AP-hair drier  \\\n",
       "quality model_config                                                  \n",
       "1       COCO-Detection/faster_rcnn_R_101_C4_3x.yaml        0.000000   \n",
       "        COCO-Detection/faster_rcnn_R_101_DC5_3x.yaml       0.000000   \n",
       "...                                                             ...   \n",
       "100     COCO-Detection/retinanet_R_101_FPN_3x.yaml         0.595652   \n",
       "        COCO-Detection/retinanet_R_50_FPN_3x.yaml          0.950829   \n",
       "\n",
       "                                                      AP-toothbrush  \n",
       "quality model_config                                                 \n",
       "1       COCO-Detection/faster_rcnn_R_101_C4_3x.yaml        0.000000  \n",
       "        COCO-Detection/faster_rcnn_R_101_DC5_3x.yaml       0.000000  \n",
       "...                                                             ...  \n",
       "100     COCO-Detection/retinanet_R_101_FPN_3x.yaml        15.846204  \n",
       "        COCO-Detection/retinanet_R_50_FPN_3x.yaml         14.429351  \n",
       "\n",
       "[900 rows x 89 columns]"
      ]
     },
     "execution_count": 3,
     "metadata": {},
     "output_type": "execute_result"
    }
   ],
   "source": [
    "def flatten(value):\n",
    "    result = value.copy()\n",
    "    result.update(result['bbox'])\n",
    "    del result['bbox']\n",
    "    return result\n",
    "\n",
    "keys = ['quality', 'model_config',]\n",
    "c_df = pd.DataFrame([flatten(r) for r in results_cardio]).set_index(keys).sort_index()\n",
    "c_df"
   ]
  },
  {
   "cell_type": "code",
   "execution_count": 4,
   "metadata": {
    "ExecuteTime": {
     "end_time": "2020-10-18T22:17:26.771125Z",
     "start_time": "2020-10-18T22:17:26.664449Z"
    }
   },
   "outputs": [],
   "source": [
    "c_df.to_csv('../data/results_val2017.csv', float_format='%.3f')"
   ]
  },
  {
   "cell_type": "markdown",
   "metadata": {},
   "source": [
    "## Merging means of quality and compression ratio"
   ]
  },
  {
   "cell_type": "code",
   "execution_count": 5,
   "metadata": {
    "ExecuteTime": {
     "end_time": "2020-10-18T22:17:26.785464Z",
     "start_time": "2020-10-18T22:17:26.772438Z"
    }
   },
   "outputs": [
    {
     "data": {
      "text/html": [
       "<div>\n",
       "<style scoped>\n",
       "    .dataframe tbody tr th:only-of-type {\n",
       "        vertical-align: middle;\n",
       "    }\n",
       "\n",
       "    .dataframe tbody tr th {\n",
       "        vertical-align: top;\n",
       "    }\n",
       "\n",
       "    .dataframe thead th {\n",
       "        text-align: right;\n",
       "    }\n",
       "</style>\n",
       "<table border=\"1\" class=\"dataframe\">\n",
       "  <thead>\n",
       "    <tr style=\"text-align: right;\">\n",
       "      <th></th>\n",
       "      <th>quality</th>\n",
       "      <th>mean_squared_error</th>\n",
       "      <th>peak_signal_noise_ratio</th>\n",
       "      <th>structural_similarity</th>\n",
       "      <th>filesize</th>\n",
       "      <th>B_per_kpx</th>\n",
       "    </tr>\n",
       "  </thead>\n",
       "  <tbody>\n",
       "    <tr>\n",
       "      <th>0</th>\n",
       "      <td>1</td>\n",
       "      <td>536.180</td>\n",
       "      <td>21.205</td>\n",
       "      <td>0.539</td>\n",
       "      <td>7203.782</td>\n",
       "      <td>9.291</td>\n",
       "    </tr>\n",
       "    <tr>\n",
       "      <th>1</th>\n",
       "      <td>2</td>\n",
       "      <td>535.910</td>\n",
       "      <td>21.207</td>\n",
       "      <td>0.539</td>\n",
       "      <td>7207.225</td>\n",
       "      <td>9.295</td>\n",
       "    </tr>\n",
       "    <tr>\n",
       "      <th>...</th>\n",
       "      <td>...</td>\n",
       "      <td>...</td>\n",
       "      <td>...</td>\n",
       "      <td>...</td>\n",
       "      <td>...</td>\n",
       "      <td>...</td>\n",
       "    </tr>\n",
       "    <tr>\n",
       "      <th>98</th>\n",
       "      <td>99</td>\n",
       "      <td>0.224</td>\n",
       "      <td>54.850</td>\n",
       "      <td>0.999</td>\n",
       "      <td>215370.463</td>\n",
       "      <td>273.443</td>\n",
       "    </tr>\n",
       "    <tr>\n",
       "      <th>99</th>\n",
       "      <td>100</td>\n",
       "      <td>0.159</td>\n",
       "      <td>56.273</td>\n",
       "      <td>0.999</td>\n",
       "      <td>257475.181</td>\n",
       "      <td>325.305</td>\n",
       "    </tr>\n",
       "  </tbody>\n",
       "</table>\n",
       "<p>100 rows × 6 columns</p>\n",
       "</div>"
      ],
      "text/plain": [
       "    quality  mean_squared_error  peak_signal_noise_ratio  \\\n",
       "0         1             536.180                   21.205   \n",
       "1         2             535.910                   21.207   \n",
       "..      ...                 ...                      ...   \n",
       "98       99               0.224                   54.850   \n",
       "99      100               0.159                   56.273   \n",
       "\n",
       "    structural_similarity    filesize  B_per_kpx  \n",
       "0                   0.539    7203.782      9.291  \n",
       "1                   0.539    7207.225      9.295  \n",
       "..                    ...         ...        ...  \n",
       "98                  0.999  215370.463    273.443  \n",
       "99                  0.999  257475.181    325.305  \n",
       "\n",
       "[100 rows x 6 columns]"
      ]
     },
     "execution_count": 5,
     "metadata": {},
     "output_type": "execute_result"
    }
   ],
   "source": [
    "q_df = pd.read_csv('../data/val2017_means_per_Q.csv')\n",
    "q_df"
   ]
  },
  {
   "cell_type": "code",
   "execution_count": 6,
   "metadata": {
    "ExecuteTime": {
     "end_time": "2020-10-18T22:17:26.834048Z",
     "start_time": "2020-10-18T22:17:26.786625Z"
    }
   },
   "outputs": [
    {
     "data": {
      "text/html": [
       "<div>\n",
       "<style scoped>\n",
       "    .dataframe tbody tr th:only-of-type {\n",
       "        vertical-align: middle;\n",
       "    }\n",
       "\n",
       "    .dataframe tbody tr th {\n",
       "        vertical-align: top;\n",
       "    }\n",
       "\n",
       "    .dataframe thead th {\n",
       "        text-align: right;\n",
       "    }\n",
       "</style>\n",
       "<table border=\"1\" class=\"dataframe\">\n",
       "  <thead>\n",
       "    <tr style=\"text-align: right;\">\n",
       "      <th></th>\n",
       "      <th>quality</th>\n",
       "      <th>model_config</th>\n",
       "      <th>AP</th>\n",
       "      <th>AP50</th>\n",
       "      <th>...</th>\n",
       "      <th>peak_signal_noise_ratio</th>\n",
       "      <th>structural_similarity</th>\n",
       "      <th>filesize</th>\n",
       "      <th>B_per_kpx</th>\n",
       "    </tr>\n",
       "  </thead>\n",
       "  <tbody>\n",
       "    <tr>\n",
       "      <th>0</th>\n",
       "      <td>1</td>\n",
       "      <td>COCO-Detection/faster_rcnn_R_101_C4_3x.yaml</td>\n",
       "      <td>0.689457</td>\n",
       "      <td>1.235953</td>\n",
       "      <td>...</td>\n",
       "      <td>21.205</td>\n",
       "      <td>0.539</td>\n",
       "      <td>7203.782</td>\n",
       "      <td>9.291</td>\n",
       "    </tr>\n",
       "    <tr>\n",
       "      <th>1</th>\n",
       "      <td>1</td>\n",
       "      <td>COCO-Detection/faster_rcnn_R_101_DC5_3x.yaml</td>\n",
       "      <td>0.740405</td>\n",
       "      <td>1.303380</td>\n",
       "      <td>...</td>\n",
       "      <td>21.205</td>\n",
       "      <td>0.539</td>\n",
       "      <td>7203.782</td>\n",
       "      <td>9.291</td>\n",
       "    </tr>\n",
       "    <tr>\n",
       "      <th>...</th>\n",
       "      <td>...</td>\n",
       "      <td>...</td>\n",
       "      <td>...</td>\n",
       "      <td>...</td>\n",
       "      <td>...</td>\n",
       "      <td>...</td>\n",
       "      <td>...</td>\n",
       "      <td>...</td>\n",
       "      <td>...</td>\n",
       "    </tr>\n",
       "    <tr>\n",
       "      <th>898</th>\n",
       "      <td>100</td>\n",
       "      <td>COCO-Detection/retinanet_R_101_FPN_3x.yaml</td>\n",
       "      <td>39.869614</td>\n",
       "      <td>60.102201</td>\n",
       "      <td>...</td>\n",
       "      <td>56.273</td>\n",
       "      <td>0.999</td>\n",
       "      <td>257475.181</td>\n",
       "      <td>325.305</td>\n",
       "    </tr>\n",
       "    <tr>\n",
       "      <th>899</th>\n",
       "      <td>100</td>\n",
       "      <td>COCO-Detection/retinanet_R_50_FPN_3x.yaml</td>\n",
       "      <td>37.924545</td>\n",
       "      <td>57.871832</td>\n",
       "      <td>...</td>\n",
       "      <td>56.273</td>\n",
       "      <td>0.999</td>\n",
       "      <td>257475.181</td>\n",
       "      <td>325.305</td>\n",
       "    </tr>\n",
       "  </tbody>\n",
       "</table>\n",
       "<p>900 rows × 93 columns</p>\n",
       "</div>"
      ],
      "text/plain": [
       "     quality                                  model_config         AP  \\\n",
       "0          1   COCO-Detection/faster_rcnn_R_101_C4_3x.yaml   0.689457   \n",
       "1          1  COCO-Detection/faster_rcnn_R_101_DC5_3x.yaml   0.740405   \n",
       "..       ...                                           ...        ...   \n",
       "898      100    COCO-Detection/retinanet_R_101_FPN_3x.yaml  39.869614   \n",
       "899      100     COCO-Detection/retinanet_R_50_FPN_3x.yaml  37.924545   \n",
       "\n",
       "          AP50  ...  peak_signal_noise_ratio  structural_similarity  \\\n",
       "0     1.235953  ...                   21.205                  0.539   \n",
       "1     1.303380  ...                   21.205                  0.539   \n",
       "..         ...  ...                      ...                    ...   \n",
       "898  60.102201  ...                   56.273                  0.999   \n",
       "899  57.871832  ...                   56.273                  0.999   \n",
       "\n",
       "       filesize  B_per_kpx  \n",
       "0      7203.782      9.291  \n",
       "1      7203.782      9.291  \n",
       "..          ...        ...  \n",
       "898  257475.181    325.305  \n",
       "899  257475.181    325.305  \n",
       "\n",
       "[900 rows x 93 columns]"
      ]
     },
     "execution_count": 6,
     "metadata": {},
     "output_type": "execute_result"
    }
   ],
   "source": [
    "# losing model_config, which was in index...\n",
    "df = pd.merge(c_df.reset_index(), q_df, on='quality')\n",
    "# no float truncation: 1,4 MB; +%.3f,-device: 584 KB; -elapsed,-finished: 560 KB\n",
    "remove = ['device', 'elapsed', 'finished', ]\n",
    "df = df.drop(remove, 1)\n",
    "df"
   ]
  },
  {
   "cell_type": "code",
   "execution_count": 7,
   "metadata": {
    "ExecuteTime": {
     "end_time": "2020-10-18T22:17:26.841647Z",
     "start_time": "2020-10-18T22:17:26.836422Z"
    }
   },
   "outputs": [
    {
     "data": {
      "text/plain": [
       "array(['COCO-Detection/faster_rcnn_R_101_C4_3x.yaml',\n",
       "       'COCO-Detection/faster_rcnn_R_101_DC5_3x.yaml',\n",
       "       'COCO-Detection/faster_rcnn_R_101_FPN_3x.yaml',\n",
       "       'COCO-Detection/faster_rcnn_R_50_C4_3x.yaml',\n",
       "       'COCO-Detection/faster_rcnn_R_50_DC5_3x.yaml',\n",
       "       'COCO-Detection/faster_rcnn_R_50_FPN_3x.yaml',\n",
       "       'COCO-Detection/faster_rcnn_X_101_32x8d_FPN_3x.yaml',\n",
       "       'COCO-Detection/retinanet_R_101_FPN_3x.yaml',\n",
       "       'COCO-Detection/retinanet_R_50_FPN_3x.yaml'], dtype=object)"
      ]
     },
     "execution_count": 7,
     "metadata": {},
     "output_type": "execute_result"
    }
   ],
   "source": [
    "models = df.model_config.unique()\n",
    "models"
   ]
  },
  {
   "cell_type": "code",
   "execution_count": 8,
   "metadata": {
    "ExecuteTime": {
     "end_time": "2020-10-18T22:17:26.853950Z",
     "start_time": "2020-10-18T22:17:26.843533Z"
    }
   },
   "outputs": [],
   "source": [
    "def make_uncommon(strings):\n",
    "    left = 1\n",
    "    while len(set(s[:left] for s in strings)) == 1:\n",
    "        left += 1\n",
    "    left -= 1\n",
    "    \n",
    "    right = -1\n",
    "    while len(set(s[right:] for s in strings)) == 1:\n",
    "        right -= 1\n",
    "    \n",
    "    right += 1\n",
    "    if right == 0:\n",
    "        right = None\n",
    "        \n",
    "    return [s[left:right] for s in strings]"
   ]
  },
  {
   "cell_type": "code",
   "execution_count": 9,
   "metadata": {
    "ExecuteTime": {
     "end_time": "2020-10-18T22:17:26.864995Z",
     "start_time": "2020-10-18T22:17:26.855199Z"
    }
   },
   "outputs": [
    {
     "data": {
      "text/plain": [
       "['faster_rcnn_R_101_C4',\n",
       " 'faster_rcnn_R_101_DC5',\n",
       " 'faster_rcnn_R_101_FPN',\n",
       " 'faster_rcnn_R_50_C4',\n",
       " 'faster_rcnn_R_50_DC5',\n",
       " 'faster_rcnn_R_50_FPN',\n",
       " 'faster_rcnn_X_101_32x8d_FPN',\n",
       " 'retinanet_R_101_FPN',\n",
       " 'retinanet_R_50_FPN']"
      ]
     },
     "execution_count": 9,
     "metadata": {},
     "output_type": "execute_result"
    }
   ],
   "source": [
    "make_uncommon(models)"
   ]
  },
  {
   "cell_type": "code",
   "execution_count": 10,
   "metadata": {
    "ExecuteTime": {
     "end_time": "2020-10-18T22:17:26.874438Z",
     "start_time": "2020-10-18T22:17:26.866215Z"
    }
   },
   "outputs": [
    {
     "data": {
      "text/plain": [
       "{'COCO-Detection/faster_rcnn_R_101_C4_3x.yaml': 'faster_rcnn_R_101_C4',\n",
       " 'COCO-Detection/faster_rcnn_R_101_DC5_3x.yaml': 'faster_rcnn_R_101_DC5',\n",
       " 'COCO-Detection/faster_rcnn_R_101_FPN_3x.yaml': 'faster_rcnn_R_101_FPN',\n",
       " 'COCO-Detection/faster_rcnn_R_50_C4_3x.yaml': 'faster_rcnn_R_50_C4',\n",
       " 'COCO-Detection/faster_rcnn_R_50_DC5_3x.yaml': 'faster_rcnn_R_50_DC5',\n",
       " 'COCO-Detection/faster_rcnn_R_50_FPN_3x.yaml': 'faster_rcnn_R_50_FPN',\n",
       " 'COCO-Detection/faster_rcnn_X_101_32x8d_FPN_3x.yaml': 'faster_rcnn_X_101_32x8d_FPN',\n",
       " 'COCO-Detection/retinanet_R_101_FPN_3x.yaml': 'retinanet_R_101_FPN',\n",
       " 'COCO-Detection/retinanet_R_50_FPN_3x.yaml': 'retinanet_R_50_FPN'}"
      ]
     },
     "execution_count": 10,
     "metadata": {},
     "output_type": "execute_result"
    }
   ],
   "source": [
    "d = dict(zip(models, make_uncommon(models)))\n",
    "d"
   ]
  },
  {
   "cell_type": "code",
   "execution_count": 11,
   "metadata": {
    "ExecuteTime": {
     "end_time": "2020-10-18T22:17:26.886999Z",
     "start_time": "2020-10-18T22:17:26.875819Z"
    }
   },
   "outputs": [
    {
     "data": {
      "text/plain": [
       "0       faster_rcnn_R_101_C4\n",
       "1      faster_rcnn_R_101_DC5\n",
       "               ...          \n",
       "898      retinanet_R_101_FPN\n",
       "899       retinanet_R_50_FPN\n",
       "Name: model_config, Length: 900, dtype: object"
      ]
     },
     "execution_count": 11,
     "metadata": {},
     "output_type": "execute_result"
    }
   ],
   "source": [
    "df['model_config'] = df.model_config.map(d)\n",
    "df.model_config"
   ]
  },
  {
   "cell_type": "code",
   "execution_count": 12,
   "metadata": {
    "ExecuteTime": {
     "end_time": "2020-10-18T22:17:26.996075Z",
     "start_time": "2020-10-18T22:17:26.888693Z"
    }
   },
   "outputs": [],
   "source": [
    "df.to_csv('../data/results_and_quality_val2017.csv', float_format='%.3f')"
   ]
  }
 ],
 "metadata": {
  "kernelspec": {
   "display_name": "Python 3",
   "language": "python",
   "name": "python3"
  },
  "language_info": {
   "codemirror_mode": {
    "name": "ipython",
    "version": 3
   },
   "file_extension": ".py",
   "mimetype": "text/x-python",
   "name": "python",
   "nbconvert_exporter": "python",
   "pygments_lexer": "ipython3",
   "version": "3.7.6"
  },
  "toc": {
   "base_numbering": 1,
   "nav_menu": {},
   "number_sections": true,
   "sideBar": true,
   "skip_h1_title": false,
   "title_cell": "Table of Contents",
   "title_sidebar": "Contents",
   "toc_cell": false,
   "toc_position": {},
   "toc_section_display": true,
   "toc_window_display": false
  }
 },
 "nbformat": 4,
 "nbformat_minor": 4
}
