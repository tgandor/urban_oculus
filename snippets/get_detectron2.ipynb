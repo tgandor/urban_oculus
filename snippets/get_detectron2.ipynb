{
 "cells": [
  {
   "cell_type": "markdown",
   "metadata": {
    "colab_type": "text",
    "id": "view-in-github"
   },
   "source": [
    "<a href=\"https://colab.research.google.com/github/tgandor/urban_oculus/blob/master/colab/Validate_FRCNN_COCO2017.ipynb\" target=\"_parent\"><img src=\"https://colab.research.google.com/assets/colab-badge.svg\" alt=\"Open In Colab\"/></a>"
   ]
  },
  {
   "cell_type": "code",
   "execution_count": null,
   "metadata": {
    "colab": {
     "base_uri": "https://localhost:8080/",
     "height": 421
    },
    "colab_type": "code",
    "id": "tAC2bqca3Qrv",
    "outputId": "05f8cb04-a1c2-4792-db3c-3ef2d58ea5c7"
   },
   "outputs": [],
   "source": [
    "# careful with dumb Python2 pycocotools:\n",
    "# NameError: name 'unicode' is not defined in\n",
    "# /usr/local/lib/python3.6/dist-packages/pycocotools/coco.py:308\n",
    "# needs to be:\n",
    "# if type(resFile) == str or (PYTHON_VERSION == 2 and type(resFile) == unicode):\n",
    "try:\n",
    "    import pycocotools\n",
    "    line = !cat `dirname {pycocotools.__file__}`/coco.py | grep unicode\n",
    "    if 'PYTHON_VERSION' not in line:\n",
    "        raise ImportError\n",
    "except ImportError:\n",
    "    !pip install -q -U 'git+https://github.com/cocodataset/cocoapi.git#subdirectory=PythonAPI' "
   ]
  },
  {
   "cell_type": "code",
   "execution_count": null,
   "metadata": {
    "colab": {
     "base_uri": "https://localhost:8080/",
     "height": 54
    },
    "colab_type": "code",
    "id": "785bkuhpXE3-",
    "outputId": "f705dd38-f9d2-4eb5-b040-009ead01454c"
   },
   "outputs": [],
   "source": [
    "%%time\n",
    "# deps installation\n",
    "try:\n",
    "  import detectron2\n",
    "except ImportError:\n",
    "  !git clone https://github.com/facebookresearch/detectron2 detectron2_repo\n",
    "  !pip install -q -e detectron2_repo\n",
    "  print('Stopping RUNTIME! Please run again.')\n",
    "  import os\n",
    "  os.kill(os.getpid(), 9)  # no way around it"
   ]
  }
 ],
 "metadata": {
  "accelerator": "GPU",
  "colab": {
   "authorship_tag": "ABX9TyPzm5Y4kWiQK+T6FdSl8cqA",
   "collapsed_sections": [],
   "include_colab_link": true,
   "name": "Validate_FRCNN_COCO2017.ipynb",
   "provenance": []
  },
  "kernelspec": {
   "display_name": "Python 3",
   "language": "python",
   "name": "python3"
  },
  "language_info": {
   "codemirror_mode": {
    "name": "ipython",
    "version": 3
   },
   "file_extension": ".py",
   "mimetype": "text/x-python",
   "name": "python",
   "nbconvert_exporter": "python",
   "pygments_lexer": "ipython3",
   "version": "3.7.3"
  }
 },
 "nbformat": 4,
 "nbformat_minor": 2
}
