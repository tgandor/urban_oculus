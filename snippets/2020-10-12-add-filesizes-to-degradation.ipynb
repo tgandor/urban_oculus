{
 "cells": [
  {
   "cell_type": "code",
   "execution_count": 1,
   "metadata": {
    "ExecuteTime": {
     "end_time": "2020-10-17T01:33:43.946068Z",
     "start_time": "2020-10-17T01:33:43.439191Z"
    }
   },
   "outputs": [
    {
     "data": {
      "text/html": [
       "<div>\n",
       "<style scoped>\n",
       "    .dataframe tbody tr th:only-of-type {\n",
       "        vertical-align: middle;\n",
       "    }\n",
       "\n",
       "    .dataframe tbody tr th {\n",
       "        vertical-align: top;\n",
       "    }\n",
       "\n",
       "    .dataframe thead th {\n",
       "        text-align: right;\n",
       "    }\n",
       "</style>\n",
       "<table border=\"1\" class=\"dataframe\">\n",
       "  <thead>\n",
       "    <tr style=\"text-align: right;\">\n",
       "      <th></th>\n",
       "      <th>image</th>\n",
       "      <th>quality</th>\n",
       "      <th>width</th>\n",
       "      <th>height</th>\n",
       "      <th>channels</th>\n",
       "      <th>mean_squared_error</th>\n",
       "      <th>peak_signal_noise_ratio</th>\n",
       "      <th>structural_similarity</th>\n",
       "    </tr>\n",
       "  </thead>\n",
       "  <tbody>\n",
       "    <tr>\n",
       "      <th>0</th>\n",
       "      <td>000000000139.jpg</td>\n",
       "      <td>1</td>\n",
       "      <td>640</td>\n",
       "      <td>426</td>\n",
       "      <td>3</td>\n",
       "      <td>454.463</td>\n",
       "      <td>21.556</td>\n",
       "      <td>0.600</td>\n",
       "    </tr>\n",
       "    <tr>\n",
       "      <th>1</th>\n",
       "      <td>000000000285.jpg</td>\n",
       "      <td>1</td>\n",
       "      <td>586</td>\n",
       "      <td>640</td>\n",
       "      <td>3</td>\n",
       "      <td>781.224</td>\n",
       "      <td>19.203</td>\n",
       "      <td>0.345</td>\n",
       "    </tr>\n",
       "  </tbody>\n",
       "</table>\n",
       "</div>"
      ],
      "text/plain": [
       "              image  quality  width  height  channels  mean_squared_error  \\\n",
       "0  000000000139.jpg        1    640     426         3             454.463   \n",
       "1  000000000285.jpg        1    586     640         3             781.224   \n",
       "\n",
       "   peak_signal_noise_ratio  structural_similarity  \n",
       "0                   21.556                  0.600  \n",
       "1                   19.203                  0.345  "
      ]
     },
     "execution_count": 1,
     "metadata": {},
     "output_type": "execute_result"
    }
   ],
   "source": [
    "import glob, json, pandas as pd\n",
    "df1 = pd.read_csv('../data/coco_degradation/val2017.csv')\n",
    "\n",
    "df1.head(2)"
   ]
  },
  {
   "cell_type": "code",
   "execution_count": 2,
   "metadata": {
    "ExecuteTime": {
     "end_time": "2020-10-17T01:33:43.954636Z",
     "start_time": "2020-10-17T01:33:43.947522Z"
    }
   },
   "outputs": [
    {
     "data": {
      "text/plain": [
       "3    499000\n",
       "1      1000\n",
       "Name: channels, dtype: int64"
      ]
     },
     "execution_count": 2,
     "metadata": {},
     "output_type": "execute_result"
    }
   ],
   "source": [
    "df1.channels.value_counts()"
   ]
  },
  {
   "cell_type": "code",
   "execution_count": 3,
   "metadata": {
    "ExecuteTime": {
     "end_time": "2020-10-17T01:33:43.963689Z",
     "start_time": "2020-10-17T01:33:43.956754Z"
    }
   },
   "outputs": [],
   "source": [
    "def load(f):\n",
    "    with open(f) as jsf:\n",
    "        return json.load(jsf)"
   ]
  },
  {
   "cell_type": "code",
   "execution_count": 4,
   "metadata": {
    "ExecuteTime": {
     "end_time": "2020-10-17T01:33:44.154384Z",
     "start_time": "2020-10-17T01:33:43.965779Z"
    }
   },
   "outputs": [],
   "source": [
    "jsons = glob.glob('../results/*/filesizes*.json')\n",
    "objs = [load(f) for f in jsons]"
   ]
  },
  {
   "cell_type": "code",
   "execution_count": 5,
   "metadata": {
    "ExecuteTime": {
     "end_time": "2020-10-17T01:33:44.160397Z",
     "start_time": "2020-10-17T01:33:44.156068Z"
    }
   },
   "outputs": [],
   "source": [
    "def dicts(objs):\n",
    "    for obj in objs:\n",
    "        q = obj['quality']\n",
    "        if q == 'original' or q == 0:\n",
    "            continue\n",
    "        for img, size in obj['filesizes'].items():\n",
    "            yield dict(\n",
    "                quality=q,\n",
    "                image=img,\n",
    "                filesize=size,\n",
    "            )"
   ]
  },
  {
   "cell_type": "code",
   "execution_count": 6,
   "metadata": {
    "ExecuteTime": {
     "end_time": "2020-10-17T01:33:44.828715Z",
     "start_time": "2020-10-17T01:33:44.162000Z"
    }
   },
   "outputs": [],
   "source": [
    "df2 = pd.DataFrame(dicts(objs))"
   ]
  },
  {
   "cell_type": "code",
   "execution_count": 7,
   "metadata": {
    "ExecuteTime": {
     "end_time": "2020-10-17T01:33:44.998771Z",
     "start_time": "2020-10-17T01:33:44.830070Z"
    }
   },
   "outputs": [
    {
     "data": {
      "text/plain": [
       "1    500000\n",
       "dtype: int64"
      ]
     },
     "execution_count": 7,
     "metadata": {},
     "output_type": "execute_result"
    }
   ],
   "source": [
    "# unique img<->Q\n",
    "df2.drop('filesize', 1).value_counts().value_counts()"
   ]
  },
  {
   "cell_type": "code",
   "execution_count": 8,
   "metadata": {
    "ExecuteTime": {
     "end_time": "2020-10-17T01:33:45.146112Z",
     "start_time": "2020-10-17T01:33:45.001412Z"
    }
   },
   "outputs": [],
   "source": [
    "idf1 = df1.set_index(['image', 'quality'])\n",
    "idf2 = df2.set_index(['image', 'quality'])"
   ]
  },
  {
   "cell_type": "code",
   "execution_count": 9,
   "metadata": {
    "ExecuteTime": {
     "end_time": "2020-10-17T01:33:45.932124Z",
     "start_time": "2020-10-17T01:33:45.147633Z"
    }
   },
   "outputs": [],
   "source": [
    "idf1['filesize'] = idf2.filesize"
   ]
  },
  {
   "cell_type": "code",
   "execution_count": 10,
   "metadata": {
    "ExecuteTime": {
     "end_time": "2020-10-17T01:33:45.943165Z",
     "start_time": "2020-10-17T01:33:45.933566Z"
    }
   },
   "outputs": [
    {
     "data": {
      "text/html": [
       "<div>\n",
       "<style scoped>\n",
       "    .dataframe tbody tr th:only-of-type {\n",
       "        vertical-align: middle;\n",
       "    }\n",
       "\n",
       "    .dataframe tbody tr th {\n",
       "        vertical-align: top;\n",
       "    }\n",
       "\n",
       "    .dataframe thead th {\n",
       "        text-align: right;\n",
       "    }\n",
       "</style>\n",
       "<table border=\"1\" class=\"dataframe\">\n",
       "  <thead>\n",
       "    <tr style=\"text-align: right;\">\n",
       "      <th></th>\n",
       "      <th></th>\n",
       "      <th>width</th>\n",
       "      <th>height</th>\n",
       "      <th>channels</th>\n",
       "      <th>mean_squared_error</th>\n",
       "      <th>peak_signal_noise_ratio</th>\n",
       "      <th>structural_similarity</th>\n",
       "      <th>filesize</th>\n",
       "    </tr>\n",
       "    <tr>\n",
       "      <th>image</th>\n",
       "      <th>quality</th>\n",
       "      <th></th>\n",
       "      <th></th>\n",
       "      <th></th>\n",
       "      <th></th>\n",
       "      <th></th>\n",
       "      <th></th>\n",
       "      <th></th>\n",
       "    </tr>\n",
       "  </thead>\n",
       "  <tbody>\n",
       "    <tr>\n",
       "      <th>000000000139.jpg</th>\n",
       "      <th>1</th>\n",
       "      <td>640</td>\n",
       "      <td>426</td>\n",
       "      <td>3</td>\n",
       "      <td>454.463</td>\n",
       "      <td>21.556</td>\n",
       "      <td>0.600</td>\n",
       "      <td>4748</td>\n",
       "    </tr>\n",
       "    <tr>\n",
       "      <th>000000000285.jpg</th>\n",
       "      <th>1</th>\n",
       "      <td>586</td>\n",
       "      <td>640</td>\n",
       "      <td>3</td>\n",
       "      <td>781.224</td>\n",
       "      <td>19.203</td>\n",
       "      <td>0.345</td>\n",
       "      <td>10097</td>\n",
       "    </tr>\n",
       "  </tbody>\n",
       "</table>\n",
       "</div>"
      ],
      "text/plain": [
       "                          width  height  channels  mean_squared_error  \\\n",
       "image            quality                                                \n",
       "000000000139.jpg 1          640     426         3             454.463   \n",
       "000000000285.jpg 1          586     640         3             781.224   \n",
       "\n",
       "                          peak_signal_noise_ratio  structural_similarity  \\\n",
       "image            quality                                                   \n",
       "000000000139.jpg 1                         21.556                  0.600   \n",
       "000000000285.jpg 1                         19.203                  0.345   \n",
       "\n",
       "                          filesize  \n",
       "image            quality            \n",
       "000000000139.jpg 1            4748  \n",
       "000000000285.jpg 1           10097  "
      ]
     },
     "execution_count": 10,
     "metadata": {},
     "output_type": "execute_result"
    }
   ],
   "source": [
    "idf1.head(2)"
   ]
  },
  {
   "cell_type": "code",
   "execution_count": 11,
   "metadata": {
    "ExecuteTime": {
     "end_time": "2020-10-17T01:33:48.857135Z",
     "start_time": "2020-10-17T01:33:45.944425Z"
    }
   },
   "outputs": [],
   "source": [
    "df = idf1.reset_index()\n",
    "df.to_csv(\n",
    "    '../data/val2017_degraded.csv',\n",
    "    float_format='%.3f'\n",
    ")"
   ]
  },
  {
   "cell_type": "markdown",
   "metadata": {},
   "source": [
    "## Mean values per quality "
   ]
  },
  {
   "cell_type": "code",
   "execution_count": 12,
   "metadata": {
    "ExecuteTime": {
     "end_time": "2020-10-17T01:33:48.874751Z",
     "start_time": "2020-10-17T01:33:48.864743Z"
    }
   },
   "outputs": [],
   "source": [
    "df['out_channels'] = df.channels"
   ]
  },
  {
   "cell_type": "code",
   "execution_count": 13,
   "metadata": {
    "ExecuteTime": {
     "end_time": "2020-10-17T01:33:48.889712Z",
     "start_time": "2020-10-17T01:33:48.877813Z"
    }
   },
   "outputs": [
    {
     "data": {
      "text/html": [
       "<div>\n",
       "<style scoped>\n",
       "    .dataframe tbody tr th:only-of-type {\n",
       "        vertical-align: middle;\n",
       "    }\n",
       "\n",
       "    .dataframe tbody tr th {\n",
       "        vertical-align: top;\n",
       "    }\n",
       "\n",
       "    .dataframe thead th {\n",
       "        text-align: right;\n",
       "    }\n",
       "</style>\n",
       "<table border=\"1\" class=\"dataframe\">\n",
       "  <thead>\n",
       "    <tr style=\"text-align: right;\">\n",
       "      <th></th>\n",
       "      <th>image</th>\n",
       "    </tr>\n",
       "  </thead>\n",
       "  <tbody>\n",
       "    <tr>\n",
       "      <th>0</th>\n",
       "      <td>000000001425.jpg</td>\n",
       "    </tr>\n",
       "    <tr>\n",
       "      <th>1</th>\n",
       "      <td>000000001490.jpg</td>\n",
       "    </tr>\n",
       "  </tbody>\n",
       "</table>\n",
       "</div>"
      ],
      "text/plain": [
       "              image\n",
       "0  000000001425.jpg\n",
       "1  000000001490.jpg"
      ]
     },
     "execution_count": 13,
     "metadata": {},
     "output_type": "execute_result"
    }
   ],
   "source": [
    "images_3_to_1 = pd.read_csv('../data/monoRGB_val2017.csv', index_col=0, quotechar=\"'\")\n",
    "images_3_to_1.head(2)"
   ]
  },
  {
   "cell_type": "code",
   "execution_count": 14,
   "metadata": {
    "ExecuteTime": {
     "end_time": "2020-10-17T01:33:49.040557Z",
     "start_time": "2020-10-17T01:33:48.891798Z"
    }
   },
   "outputs": [
    {
     "data": {
      "text/html": [
       "<div>\n",
       "<style scoped>\n",
       "    .dataframe tbody tr th:only-of-type {\n",
       "        vertical-align: middle;\n",
       "    }\n",
       "\n",
       "    .dataframe tbody tr th {\n",
       "        vertical-align: top;\n",
       "    }\n",
       "\n",
       "    .dataframe thead th {\n",
       "        text-align: right;\n",
       "    }\n",
       "</style>\n",
       "<table border=\"1\" class=\"dataframe\">\n",
       "  <thead>\n",
       "    <tr style=\"text-align: right;\">\n",
       "      <th></th>\n",
       "      <th>quality</th>\n",
       "      <th>width</th>\n",
       "      <th>height</th>\n",
       "      <th>channels</th>\n",
       "      <th>mean_squared_error</th>\n",
       "      <th>peak_signal_noise_ratio</th>\n",
       "      <th>structural_similarity</th>\n",
       "      <th>filesize</th>\n",
       "      <th>out_channels</th>\n",
       "      <th>B_per_kpx</th>\n",
       "    </tr>\n",
       "    <tr>\n",
       "      <th>image</th>\n",
       "      <th></th>\n",
       "      <th></th>\n",
       "      <th></th>\n",
       "      <th></th>\n",
       "      <th></th>\n",
       "      <th></th>\n",
       "      <th></th>\n",
       "      <th></th>\n",
       "      <th></th>\n",
       "      <th></th>\n",
       "    </tr>\n",
       "  </thead>\n",
       "  <tbody>\n",
       "    <tr>\n",
       "      <th>000000000139.jpg</th>\n",
       "      <td>1</td>\n",
       "      <td>640</td>\n",
       "      <td>426</td>\n",
       "      <td>3</td>\n",
       "      <td>454.463</td>\n",
       "      <td>21.556</td>\n",
       "      <td>0.600</td>\n",
       "      <td>4748</td>\n",
       "      <td>3</td>\n",
       "      <td>5.804969</td>\n",
       "    </tr>\n",
       "    <tr>\n",
       "      <th>000000000285.jpg</th>\n",
       "      <td>1</td>\n",
       "      <td>586</td>\n",
       "      <td>640</td>\n",
       "      <td>3</td>\n",
       "      <td>781.224</td>\n",
       "      <td>19.203</td>\n",
       "      <td>0.345</td>\n",
       "      <td>10097</td>\n",
       "      <td>3</td>\n",
       "      <td>8.974154</td>\n",
       "    </tr>\n",
       "  </tbody>\n",
       "</table>\n",
       "</div>"
      ],
      "text/plain": [
       "                  quality  width  height  channels  mean_squared_error  \\\n",
       "image                                                                    \n",
       "000000000139.jpg        1    640     426         3             454.463   \n",
       "000000000285.jpg        1    586     640         3             781.224   \n",
       "\n",
       "                  peak_signal_noise_ratio  structural_similarity  filesize  \\\n",
       "image                                                                        \n",
       "000000000139.jpg                   21.556                  0.600      4748   \n",
       "000000000285.jpg                   19.203                  0.345     10097   \n",
       "\n",
       "                  out_channels  B_per_kpx  \n",
       "image                                      \n",
       "000000000139.jpg             3   5.804969  \n",
       "000000000285.jpg             3   8.974154  "
      ]
     },
     "execution_count": 14,
     "metadata": {},
     "output_type": "execute_result"
    }
   ],
   "source": [
    "idf = df.set_index('image')\n",
    "idf.loc[images_3_to_1.image, 'out_channels'] = 1\n",
    "idf['B_per_kpx'] = 1000 * idf.filesize / (idf.width * idf.height * idf.out_channels)\n",
    "idf.head(2)"
   ]
  },
  {
   "cell_type": "code",
   "execution_count": 15,
   "metadata": {
    "ExecuteTime": {
     "end_time": "2020-10-17T01:33:49.091133Z",
     "start_time": "2020-10-17T01:33:49.042225Z"
    }
   },
   "outputs": [
    {
     "data": {
      "text/html": [
       "<div>\n",
       "<style scoped>\n",
       "    .dataframe tbody tr th:only-of-type {\n",
       "        vertical-align: middle;\n",
       "    }\n",
       "\n",
       "    .dataframe tbody tr th {\n",
       "        vertical-align: top;\n",
       "    }\n",
       "\n",
       "    .dataframe thead th {\n",
       "        text-align: right;\n",
       "    }\n",
       "</style>\n",
       "<table border=\"1\" class=\"dataframe\">\n",
       "  <thead>\n",
       "    <tr style=\"text-align: right;\">\n",
       "      <th></th>\n",
       "      <th>mean_squared_error</th>\n",
       "      <th>peak_signal_noise_ratio</th>\n",
       "      <th>structural_similarity</th>\n",
       "      <th>filesize</th>\n",
       "      <th>B_per_kpx</th>\n",
       "    </tr>\n",
       "    <tr>\n",
       "      <th>quality</th>\n",
       "      <th></th>\n",
       "      <th></th>\n",
       "      <th></th>\n",
       "      <th></th>\n",
       "      <th></th>\n",
       "    </tr>\n",
       "  </thead>\n",
       "  <tbody>\n",
       "    <tr>\n",
       "      <th>1</th>\n",
       "      <td>536.180397</td>\n",
       "      <td>21.204653</td>\n",
       "      <td>0.538857</td>\n",
       "      <td>7203.7820</td>\n",
       "      <td>9.290775</td>\n",
       "    </tr>\n",
       "    <tr>\n",
       "      <th>2</th>\n",
       "      <td>535.909813</td>\n",
       "      <td>21.206728</td>\n",
       "      <td>0.539011</td>\n",
       "      <td>7207.2246</td>\n",
       "      <td>9.295268</td>\n",
       "    </tr>\n",
       "    <tr>\n",
       "      <th>...</th>\n",
       "      <td>...</td>\n",
       "      <td>...</td>\n",
       "      <td>...</td>\n",
       "      <td>...</td>\n",
       "      <td>...</td>\n",
       "    </tr>\n",
       "    <tr>\n",
       "      <th>99</th>\n",
       "      <td>0.224027</td>\n",
       "      <td>54.850101</td>\n",
       "      <td>0.998937</td>\n",
       "      <td>215370.4628</td>\n",
       "      <td>273.442582</td>\n",
       "    </tr>\n",
       "    <tr>\n",
       "      <th>100</th>\n",
       "      <td>0.158625</td>\n",
       "      <td>56.272696</td>\n",
       "      <td>0.999161</td>\n",
       "      <td>257475.1808</td>\n",
       "      <td>325.305082</td>\n",
       "    </tr>\n",
       "  </tbody>\n",
       "</table>\n",
       "<p>100 rows × 5 columns</p>\n",
       "</div>"
      ],
      "text/plain": [
       "         mean_squared_error  peak_signal_noise_ratio  structural_similarity  \\\n",
       "quality                                                                       \n",
       "1                536.180397                21.204653               0.538857   \n",
       "2                535.909813                21.206728               0.539011   \n",
       "...                     ...                      ...                    ...   \n",
       "99                 0.224027                54.850101               0.998937   \n",
       "100                0.158625                56.272696               0.999161   \n",
       "\n",
       "            filesize   B_per_kpx  \n",
       "quality                           \n",
       "1          7203.7820    9.290775  \n",
       "2          7207.2246    9.295268  \n",
       "...              ...         ...  \n",
       "99       215370.4628  273.442582  \n",
       "100      257475.1808  325.305082  \n",
       "\n",
       "[100 rows x 5 columns]"
      ]
     },
     "execution_count": 15,
     "metadata": {},
     "output_type": "execute_result"
    }
   ],
   "source": [
    "pd.options.display.max_rows = 4\n",
    "mdf = idf.drop(['channels', 'out_channels', 'width', 'height'], 1).groupby('quality').mean()\n",
    "mdf"
   ]
  },
  {
   "cell_type": "code",
   "execution_count": 16,
   "metadata": {
    "ExecuteTime": {
     "end_time": "2020-10-17T01:33:49.096779Z",
     "start_time": "2020-10-17T01:33:49.092476Z"
    }
   },
   "outputs": [],
   "source": [
    "mdf.to_csv(\n",
    "    '../data/val2017_means_per_Q.csv',\n",
    "    float_format='%.3f'\n",
    ")"
   ]
  },
  {
   "cell_type": "code",
   "execution_count": null,
   "metadata": {},
   "outputs": [],
   "source": []
  }
 ],
 "metadata": {
  "kernelspec": {
   "display_name": "Python 3",
   "language": "python",
   "name": "python3"
  },
  "language_info": {
   "codemirror_mode": {
    "name": "ipython",
    "version": 3
   },
   "file_extension": ".py",
   "mimetype": "text/x-python",
   "name": "python",
   "nbconvert_exporter": "python",
   "pygments_lexer": "ipython3",
   "version": "3.7.6"
  },
  "toc": {
   "base_numbering": 1,
   "nav_menu": {},
   "number_sections": true,
   "sideBar": true,
   "skip_h1_title": false,
   "title_cell": "Table of Contents",
   "title_sidebar": "Contents",
   "toc_cell": false,
   "toc_position": {},
   "toc_section_display": true,
   "toc_window_display": false
  }
 },
 "nbformat": 4,
 "nbformat_minor": 4
}
