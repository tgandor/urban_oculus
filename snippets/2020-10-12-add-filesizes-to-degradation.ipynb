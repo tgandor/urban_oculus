{
 "cells": [
  {
   "cell_type": "code",
   "execution_count": 33,
   "metadata": {
    "ExecuteTime": {
     "end_time": "2020-10-15T13:43:38.132945Z",
     "start_time": "2020-10-15T13:43:37.874809Z"
    }
   },
   "outputs": [
    {
     "data": {
      "text/html": [
       "<div>\n",
       "<style scoped>\n",
       "    .dataframe tbody tr th:only-of-type {\n",
       "        vertical-align: middle;\n",
       "    }\n",
       "\n",
       "    .dataframe tbody tr th {\n",
       "        vertical-align: top;\n",
       "    }\n",
       "\n",
       "    .dataframe thead th {\n",
       "        text-align: right;\n",
       "    }\n",
       "</style>\n",
       "<table border=\"1\" class=\"dataframe\">\n",
       "  <thead>\n",
       "    <tr style=\"text-align: right;\">\n",
       "      <th></th>\n",
       "      <th>image</th>\n",
       "      <th>quality</th>\n",
       "      <th>width</th>\n",
       "      <th>height</th>\n",
       "      <th>channels</th>\n",
       "      <th>mean_squared_error</th>\n",
       "      <th>peak_signal_noise_ratio</th>\n",
       "      <th>structural_similarity</th>\n",
       "    </tr>\n",
       "  </thead>\n",
       "  <tbody>\n",
       "    <tr>\n",
       "      <th>0</th>\n",
       "      <td>000000000139.jpg</td>\n",
       "      <td>1</td>\n",
       "      <td>640</td>\n",
       "      <td>426</td>\n",
       "      <td>3</td>\n",
       "      <td>454.463</td>\n",
       "      <td>21.556</td>\n",
       "      <td>0.600</td>\n",
       "    </tr>\n",
       "    <tr>\n",
       "      <th>1</th>\n",
       "      <td>000000000285.jpg</td>\n",
       "      <td>1</td>\n",
       "      <td>586</td>\n",
       "      <td>640</td>\n",
       "      <td>3</td>\n",
       "      <td>781.224</td>\n",
       "      <td>19.203</td>\n",
       "      <td>0.345</td>\n",
       "    </tr>\n",
       "  </tbody>\n",
       "</table>\n",
       "</div>"
      ],
      "text/plain": [
       "              image  quality  width  height  channels  mean_squared_error  \\\n",
       "0  000000000139.jpg        1    640     426         3             454.463   \n",
       "1  000000000285.jpg        1    586     640         3             781.224   \n",
       "\n",
       "   peak_signal_noise_ratio  structural_similarity  \n",
       "0                   21.556                  0.600  \n",
       "1                   19.203                  0.345  "
      ]
     },
     "execution_count": 33,
     "metadata": {},
     "output_type": "execute_result"
    }
   ],
   "source": [
    "import glob, json, pandas as pd\n",
    "df1 = pd.read_csv('../data/coco_degradation/val2017.csv')\n",
    "\n",
    "df1.head(2)"
   ]
  },
  {
   "cell_type": "code",
   "execution_count": 34,
   "metadata": {
    "ExecuteTime": {
     "end_time": "2020-10-15T13:43:43.673512Z",
     "start_time": "2020-10-15T13:43:43.651147Z"
    }
   },
   "outputs": [
    {
     "data": {
      "text/plain": [
       "3    499000\n",
       "1      1000\n",
       "Name: channels, dtype: int64"
      ]
     },
     "execution_count": 34,
     "metadata": {},
     "output_type": "execute_result"
    }
   ],
   "source": [
    "df1.channels.value_counts()"
   ]
  },
  {
   "cell_type": "code",
   "execution_count": 35,
   "metadata": {
    "ExecuteTime": {
     "end_time": "2020-10-15T13:43:44.136011Z",
     "start_time": "2020-10-15T13:43:44.128794Z"
    }
   },
   "outputs": [],
   "source": [
    "def load(f):\n",
    "    with open(f) as jsf:\n",
    "        return json.load(jsf)"
   ]
  },
  {
   "cell_type": "code",
   "execution_count": 9,
   "metadata": {
    "ExecuteTime": {
     "end_time": "2020-10-15T13:33:45.242506Z",
     "start_time": "2020-10-15T13:33:45.005181Z"
    }
   },
   "outputs": [],
   "source": [
    "jsons = glob.glob('../results/*/filesizes*.json')\n",
    "objs = [load(f) for f in jsons]"
   ]
  },
  {
   "cell_type": "code",
   "execution_count": 46,
   "metadata": {
    "ExecuteTime": {
     "end_time": "2020-10-15T13:47:10.904129Z",
     "start_time": "2020-10-15T13:47:10.893546Z"
    }
   },
   "outputs": [],
   "source": [
    "def dicts(objs):\n",
    "    for obj in objs:\n",
    "        q = obj['quality']\n",
    "        if q == 'original' or q == 0:\n",
    "            continue\n",
    "        for img, size in obj['filesizes'].items():\n",
    "            yield dict(\n",
    "                quality=q,\n",
    "                image=img,\n",
    "                filesize=size,\n",
    "            )"
   ]
  },
  {
   "cell_type": "code",
   "execution_count": 47,
   "metadata": {
    "ExecuteTime": {
     "end_time": "2020-10-15T13:47:12.305864Z",
     "start_time": "2020-10-15T13:47:11.681574Z"
    }
   },
   "outputs": [],
   "source": [
    "df2 = pd.DataFrame(dicts(objs))"
   ]
  },
  {
   "cell_type": "code",
   "execution_count": 48,
   "metadata": {
    "ExecuteTime": {
     "end_time": "2020-10-15T13:47:18.766542Z",
     "start_time": "2020-10-15T13:47:18.594633Z"
    }
   },
   "outputs": [
    {
     "data": {
      "text/plain": [
       "1    500000\n",
       "dtype: int64"
      ]
     },
     "execution_count": 48,
     "metadata": {},
     "output_type": "execute_result"
    }
   ],
   "source": [
    "# unique img<->Q\n",
    "df2.drop('filesize', 1).value_counts().value_counts()"
   ]
  },
  {
   "cell_type": "code",
   "execution_count": 49,
   "metadata": {
    "ExecuteTime": {
     "end_time": "2020-10-15T13:47:19.856411Z",
     "start_time": "2020-10-15T13:47:19.701039Z"
    }
   },
   "outputs": [],
   "source": [
    "idf1 = df1.set_index(['image', 'quality'])\n",
    "idf2 = df2.set_index(['image', 'quality'])"
   ]
  },
  {
   "cell_type": "code",
   "execution_count": 50,
   "metadata": {
    "ExecuteTime": {
     "end_time": "2020-10-15T13:47:26.470062Z",
     "start_time": "2020-10-15T13:47:24.996943Z"
    }
   },
   "outputs": [],
   "source": [
    "idf1['filesize'] = idf2.filesize"
   ]
  },
  {
   "cell_type": "code",
   "execution_count": 52,
   "metadata": {
    "ExecuteTime": {
     "end_time": "2020-10-15T13:47:49.990987Z",
     "start_time": "2020-10-15T13:47:49.972169Z"
    }
   },
   "outputs": [
    {
     "data": {
      "text/html": [
       "<div>\n",
       "<style scoped>\n",
       "    .dataframe tbody tr th:only-of-type {\n",
       "        vertical-align: middle;\n",
       "    }\n",
       "\n",
       "    .dataframe tbody tr th {\n",
       "        vertical-align: top;\n",
       "    }\n",
       "\n",
       "    .dataframe thead th {\n",
       "        text-align: right;\n",
       "    }\n",
       "</style>\n",
       "<table border=\"1\" class=\"dataframe\">\n",
       "  <thead>\n",
       "    <tr style=\"text-align: right;\">\n",
       "      <th></th>\n",
       "      <th></th>\n",
       "      <th>width</th>\n",
       "      <th>height</th>\n",
       "      <th>channels</th>\n",
       "      <th>mean_squared_error</th>\n",
       "      <th>peak_signal_noise_ratio</th>\n",
       "      <th>structural_similarity</th>\n",
       "      <th>filesize</th>\n",
       "    </tr>\n",
       "    <tr>\n",
       "      <th>image</th>\n",
       "      <th>quality</th>\n",
       "      <th></th>\n",
       "      <th></th>\n",
       "      <th></th>\n",
       "      <th></th>\n",
       "      <th></th>\n",
       "      <th></th>\n",
       "      <th></th>\n",
       "    </tr>\n",
       "  </thead>\n",
       "  <tbody>\n",
       "    <tr>\n",
       "      <th>000000000139.jpg</th>\n",
       "      <th>1</th>\n",
       "      <td>640</td>\n",
       "      <td>426</td>\n",
       "      <td>3</td>\n",
       "      <td>454.463</td>\n",
       "      <td>21.556</td>\n",
       "      <td>0.600</td>\n",
       "      <td>4748</td>\n",
       "    </tr>\n",
       "    <tr>\n",
       "      <th>000000000285.jpg</th>\n",
       "      <th>1</th>\n",
       "      <td>586</td>\n",
       "      <td>640</td>\n",
       "      <td>3</td>\n",
       "      <td>781.224</td>\n",
       "      <td>19.203</td>\n",
       "      <td>0.345</td>\n",
       "      <td>10097</td>\n",
       "    </tr>\n",
       "  </tbody>\n",
       "</table>\n",
       "</div>"
      ],
      "text/plain": [
       "                          width  height  channels  mean_squared_error  \\\n",
       "image            quality                                                \n",
       "000000000139.jpg 1          640     426         3             454.463   \n",
       "000000000285.jpg 1          586     640         3             781.224   \n",
       "\n",
       "                          peak_signal_noise_ratio  structural_similarity  \\\n",
       "image            quality                                                   \n",
       "000000000139.jpg 1                         21.556                  0.600   \n",
       "000000000285.jpg 1                         19.203                  0.345   \n",
       "\n",
       "                          filesize  \n",
       "image            quality            \n",
       "000000000139.jpg 1            4748  \n",
       "000000000285.jpg 1           10097  "
      ]
     },
     "execution_count": 52,
     "metadata": {},
     "output_type": "execute_result"
    }
   ],
   "source": [
    "idf1.head(2)"
   ]
  },
  {
   "cell_type": "code",
   "execution_count": 59,
   "metadata": {
    "ExecuteTime": {
     "end_time": "2020-10-15T18:32:29.720688Z",
     "start_time": "2020-10-15T18:32:26.828106Z"
    }
   },
   "outputs": [],
   "source": [
    "df = idf1.reset_index()\n",
    "df.to_csv(\n",
    "    '../data/val2017_degraded.csv',\n",
    "    float_format='%.3f'\n",
    ")"
   ]
  },
  {
   "cell_type": "markdown",
   "metadata": {},
   "source": [
    "Mean values per quality  \n",
    "(TODO)"
   ]
  },
  {
   "cell_type": "code",
   "execution_count": 58,
   "metadata": {
    "ExecuteTime": {
     "end_time": "2020-10-15T14:19:04.368082Z",
     "start_time": "2020-10-15T14:19:04.292860Z"
    }
   },
   "outputs": [
    {
     "data": {
      "text/html": [
       "<div>\n",
       "<style scoped>\n",
       "    .dataframe tbody tr th:only-of-type {\n",
       "        vertical-align: middle;\n",
       "    }\n",
       "\n",
       "    .dataframe tbody tr th {\n",
       "        vertical-align: top;\n",
       "    }\n",
       "\n",
       "    .dataframe thead th {\n",
       "        text-align: right;\n",
       "    }\n",
       "</style>\n",
       "<table border=\"1\" class=\"dataframe\">\n",
       "  <thead>\n",
       "    <tr style=\"text-align: right;\">\n",
       "      <th></th>\n",
       "      <th>width</th>\n",
       "      <th>height</th>\n",
       "      <th>mean_squared_error</th>\n",
       "      <th>peak_signal_noise_ratio</th>\n",
       "      <th>structural_similarity</th>\n",
       "      <th>filesize</th>\n",
       "    </tr>\n",
       "    <tr>\n",
       "      <th>quality</th>\n",
       "      <th></th>\n",
       "      <th></th>\n",
       "      <th></th>\n",
       "      <th></th>\n",
       "      <th></th>\n",
       "      <th></th>\n",
       "    </tr>\n",
       "  </thead>\n",
       "  <tbody>\n",
       "    <tr>\n",
       "      <th>1</th>\n",
       "      <td>573.7548</td>\n",
       "      <td>483.543</td>\n",
       "      <td>536.180397</td>\n",
       "      <td>21.204653</td>\n",
       "      <td>0.538857</td>\n",
       "      <td>7203.7820</td>\n",
       "    </tr>\n",
       "    <tr>\n",
       "      <th>2</th>\n",
       "      <td>573.7548</td>\n",
       "      <td>483.543</td>\n",
       "      <td>535.909813</td>\n",
       "      <td>21.206728</td>\n",
       "      <td>0.539011</td>\n",
       "      <td>7207.2246</td>\n",
       "    </tr>\n",
       "    <tr>\n",
       "      <th>3</th>\n",
       "      <td>573.7548</td>\n",
       "      <td>483.543</td>\n",
       "      <td>506.466772</td>\n",
       "      <td>21.449087</td>\n",
       "      <td>0.557630</td>\n",
       "      <td>7596.0948</td>\n",
       "    </tr>\n",
       "    <tr>\n",
       "      <th>4</th>\n",
       "      <td>573.7548</td>\n",
       "      <td>483.543</td>\n",
       "      <td>412.602897</td>\n",
       "      <td>22.409323</td>\n",
       "      <td>0.596385</td>\n",
       "      <td>8406.9092</td>\n",
       "    </tr>\n",
       "    <tr>\n",
       "      <th>5</th>\n",
       "      <td>573.7548</td>\n",
       "      <td>483.543</td>\n",
       "      <td>340.629869</td>\n",
       "      <td>23.328939</td>\n",
       "      <td>0.626999</td>\n",
       "      <td>9321.4490</td>\n",
       "    </tr>\n",
       "    <tr>\n",
       "      <th>...</th>\n",
       "      <td>...</td>\n",
       "      <td>...</td>\n",
       "      <td>...</td>\n",
       "      <td>...</td>\n",
       "      <td>...</td>\n",
       "      <td>...</td>\n",
       "    </tr>\n",
       "    <tr>\n",
       "      <th>96</th>\n",
       "      <td>573.7548</td>\n",
       "      <td>483.543</td>\n",
       "      <td>0.488821</td>\n",
       "      <td>54.827485</td>\n",
       "      <td>0.998574</td>\n",
       "      <td>171089.2448</td>\n",
       "    </tr>\n",
       "    <tr>\n",
       "      <th>97</th>\n",
       "      <td>573.7548</td>\n",
       "      <td>483.543</td>\n",
       "      <td>1.103242</td>\n",
       "      <td>48.541253</td>\n",
       "      <td>0.996691</td>\n",
       "      <td>182717.3818</td>\n",
       "    </tr>\n",
       "    <tr>\n",
       "      <th>98</th>\n",
       "      <td>573.7548</td>\n",
       "      <td>483.543</td>\n",
       "      <td>0.365069</td>\n",
       "      <td>52.839577</td>\n",
       "      <td>0.998546</td>\n",
       "      <td>191785.5742</td>\n",
       "    </tr>\n",
       "    <tr>\n",
       "      <th>99</th>\n",
       "      <td>573.7548</td>\n",
       "      <td>483.543</td>\n",
       "      <td>0.224027</td>\n",
       "      <td>54.850101</td>\n",
       "      <td>0.998937</td>\n",
       "      <td>215370.4628</td>\n",
       "    </tr>\n",
       "    <tr>\n",
       "      <th>100</th>\n",
       "      <td>573.7548</td>\n",
       "      <td>483.543</td>\n",
       "      <td>0.158625</td>\n",
       "      <td>56.272696</td>\n",
       "      <td>0.999161</td>\n",
       "      <td>257475.1808</td>\n",
       "    </tr>\n",
       "  </tbody>\n",
       "</table>\n",
       "<p>100 rows × 6 columns</p>\n",
       "</div>"
      ],
      "text/plain": [
       "            width   height  mean_squared_error  peak_signal_noise_ratio  \\\n",
       "quality                                                                   \n",
       "1        573.7548  483.543          536.180397                21.204653   \n",
       "2        573.7548  483.543          535.909813                21.206728   \n",
       "3        573.7548  483.543          506.466772                21.449087   \n",
       "4        573.7548  483.543          412.602897                22.409323   \n",
       "5        573.7548  483.543          340.629869                23.328939   \n",
       "...           ...      ...                 ...                      ...   \n",
       "96       573.7548  483.543            0.488821                54.827485   \n",
       "97       573.7548  483.543            1.103242                48.541253   \n",
       "98       573.7548  483.543            0.365069                52.839577   \n",
       "99       573.7548  483.543            0.224027                54.850101   \n",
       "100      573.7548  483.543            0.158625                56.272696   \n",
       "\n",
       "         structural_similarity     filesize  \n",
       "quality                                      \n",
       "1                     0.538857    7203.7820  \n",
       "2                     0.539011    7207.2246  \n",
       "3                     0.557630    7596.0948  \n",
       "4                     0.596385    8406.9092  \n",
       "5                     0.626999    9321.4490  \n",
       "...                        ...          ...  \n",
       "96                    0.998574  171089.2448  \n",
       "97                    0.996691  182717.3818  \n",
       "98                    0.998546  191785.5742  \n",
       "99                    0.998937  215370.4628  \n",
       "100                   0.999161  257475.1808  \n",
       "\n",
       "[100 rows x 6 columns]"
      ]
     },
     "execution_count": 58,
     "metadata": {},
     "output_type": "execute_result"
    }
   ],
   "source": [
    "df.drop('channels', 1).groupby('quality').mean()"
   ]
  }
 ],
 "metadata": {
  "kernelspec": {
   "display_name": "Python 3",
   "language": "python",
   "name": "python3"
  },
  "language_info": {
   "codemirror_mode": {
    "name": "ipython",
    "version": 3
   },
   "file_extension": ".py",
   "mimetype": "text/x-python",
   "name": "python",
   "nbconvert_exporter": "python",
   "pygments_lexer": "ipython3",
   "version": "3.7.6"
  },
  "toc": {
   "base_numbering": 1,
   "nav_menu": {},
   "number_sections": true,
   "sideBar": true,
   "skip_h1_title": false,
   "title_cell": "Table of Contents",
   "title_sidebar": "Contents",
   "toc_cell": false,
   "toc_position": {},
   "toc_section_display": true,
   "toc_window_display": false
  }
 },
 "nbformat": 4,
 "nbformat_minor": 4
}
