{
 "cells": [
  {
   "cell_type": "markdown",
   "metadata": {
    "colab_type": "text",
    "id": "view-in-github"
   },
   "source": [
    "<a href=\"https://colab.research.google.com/github/tgandor/urban_oculus/blob/master/colab/Validate_FRCNN_COCO2017.ipynb\" target=\"_parent\"><img src=\"https://colab.research.google.com/assets/colab-badge.svg\" alt=\"Open In Colab\"/></a>"
   ]
  },
  {
   "cell_type": "code",
   "execution_count": null,
   "metadata": {
    "colab": {
     "base_uri": "https://localhost:8080/",
     "height": 72
    },
    "colab_type": "code",
    "id": "orX9jrgEcw28",
    "outputId": "e72e3dae-d118-406f-918b-89e79ce037ca"
   },
   "outputs": [],
   "source": [
    "%%time\n",
    "!mkdir -p datasets/coco \n",
    "import os\n",
    "if not os.path.exists('annotations_trainval2017.zip'):\n",
    "  !wget -q http://images.cocodataset.org/annotations/annotations_trainval2017.zip\n",
    "if not os.path.exists('datasets/coco/annotations/'):\n",
    "  !unzip -d datasets/coco annotations_trainval2017.zip\n",
    "if not os.path.exists('val2017.zip'):\n",
    "  !wget http://images.cocodataset.org/zips/val2017.zip\n",
    "if not os.path.exists('datasets/coco/val2017/'):\n",
    "  !unzip val2017.zip -d datasets/coco/"
   ]
  },
  {
   "cell_type": "code",
   "execution_count": null,
   "metadata": {},
   "outputs": [],
   "source": [
    "!if ! which mogrify ; then apt install imagemagick ; fi"
   ]
  }
 ],
 "metadata": {
  "accelerator": "GPU",
  "colab": {
   "authorship_tag": "ABX9TyPzm5Y4kWiQK+T6FdSl8cqA",
   "collapsed_sections": [],
   "include_colab_link": true,
   "name": "Validate_FRCNN_COCO2017.ipynb",
   "provenance": []
  },
  "kernelspec": {
   "display_name": "Python 3",
   "language": "python",
   "name": "python3"
  },
  "language_info": {
   "codemirror_mode": {
    "name": "ipython",
    "version": 3
   },
   "file_extension": ".py",
   "mimetype": "text/x-python",
   "name": "python",
   "nbconvert_exporter": "python",
   "pygments_lexer": "ipython3",
   "version": "3.7.3"
  }
 },
 "nbformat": 4,
 "nbformat_minor": 2
}
