{
 "cells": [
  {
   "cell_type": "code",
   "execution_count": 1,
   "metadata": {
    "colab": {
     "base_uri": "https://localhost:8080/",
     "height": 1000
    },
    "colab_type": "code",
    "id": "MBhkWi-fOyG6",
    "outputId": "4e4dcde5-430d-4213-d6d9-67df3f5234bd"
   },
   "outputs": [
    {
     "name": "stdout",
     "output_type": "stream",
     "text": [
      "Already up to date.\n",
      "CPU times: user 2.67 ms, sys: 475 µs, total: 3.14 ms\n",
      "Wall time: 126 ms\n",
      "/usr/bin/mogrify\n",
      "CPU times: user 1.08 s, sys: 146 ms, total: 1.22 s\n",
      "Wall time: 8.25 s\n"
     ]
    }
   ],
   "source": [
    "%%time\n",
    "import os\n",
    "if not os.path.isdir('urban_oculus'):\n",
    "  !git clone https://github.com/tgandor/urban_oculus\n",
    "!(cd urban_oculus; git pull)\n",
    "%run urban_oculus/snippets/get_coco_val2017_nounzip.ipynb\n",
    "%run urban_oculus/snippets/validate_2017_functions.py"
   ]
  },
  {
   "cell_type": "code",
   "execution_count": 2,
   "metadata": {
    "colab": {
     "base_uri": "https://localhost:8080/",
     "height": 890
    },
    "colab_type": "code",
    "id": "2q7HORZ915PU",
    "outputId": "39b0c6bc-d27a-4834-af8c-464b25b3b95e"
   },
   "outputs": [
    {
     "data": {
      "text/plain": [
       "22280"
      ]
     },
     "execution_count": 2,
     "metadata": {},
     "output_type": "execute_result"
    }
   ],
   "source": [
    "import time\n",
    "time.strftime('%Y-%m-%d %H:%M:%S')\n",
    "os.getpid()\n"
   ]
  },
  {
   "cell_type": "code",
   "execution_count": 3,
   "metadata": {
    "colab": {},
    "colab_type": "code",
    "id": "G4UeBvNtb4Cs"
   },
   "outputs": [],
   "source": [
    "def validate_coco2017(model_config, quality, output_dir):\n",
    "  result_file = result_path(model_config, quality, output_dir)\n",
    "  if os.path.exists(result_file):\n",
    "    print(time.strftime('%Y-%m-%d %H:%M:%S'), 'result seems to exist:', result_file)\n",
    "    print('skipping', model_config, quality)\n",
    "    return\n",
    "\n",
    "  print(time.strftime('%Y-%m-%d %H:%M:%S'), 'unpacking')\n",
    "  !unzip -o val2017.zip -d datasets/coco 2>&1 | tqdm --total 5000 >/dev/null\n",
    "  # save_filesizes('filesizes_original.json', 'original', 0, output_dir)\n",
    "\n",
    "  print(time.strftime('%Y-%m-%d %H:%M:%S'), f'degrading quality to {quality}')\n",
    "  start = time.time()\n",
    "  !mogrify -verbose -quality {quality} datasets/coco/val2017/*.jpg 2>&1 | tqdm --total 10000 >/dev/null\n",
    "  elapsed = time.time() - start\n",
    "  # save_filesizes(f'filesizes_{quality}.json', quality, elapsed, output_dir)\n",
    "\n",
    "  print(time.strftime('%Y-%m-%d %H:%M:%S'), 'finished', quality)\n",
    "  results, inference_time =  run_validation(model_config)\n",
    "  \n",
    "  print(time.strftime('%Y-%m-%d %H:%M:%S'), 'finished', quality)\n",
    "  save_results(model_config, quality, results, inference_time, output_dir)"
   ]
  },
  {
   "cell_type": "code",
   "execution_count": 4,
   "metadata": {},
   "outputs": [
    {
     "data": {
      "text/plain": [
       "1"
      ]
     },
     "execution_count": 4,
     "metadata": {},
     "output_type": "execute_result"
    }
   ],
   "source": [
    "torch.cuda.set_device(1)\n",
    "torch.cuda.current_device()"
   ]
  },
  {
   "cell_type": "code",
   "execution_count": null,
   "metadata": {
    "colab": {
     "base_uri": "https://localhost:8080/",
     "height": 1000,
     "referenced_widgets": [
      "69d959e9abbe40c388738b9688569720",
      "a24aa92fed2c42348b4930ef2834e901",
      "6457d4245975423cacd32165d9662082",
      "8b13b718c91144f08bc5029cd1587413",
      "78c53394467e4dbfa1920107dc5c74e7",
      "25e58b6c69bc4ca8803114d313b033ad",
      "0c6e6cd257df4b44929f5e73f17ff271",
      "16c432acc49b4396b7291052ef4585e5"
     ]
    },
    "colab_type": "code",
    "id": "0sc3xsC7A8SM",
    "outputId": "56dc6d11-f103-4ed2-c605-4fc3d8723793",
    "scrolled": false
   },
   "outputs": [
    {
     "name": "stdout",
     "output_type": "stream",
     "text": [
      "model config: COCO-Detection/faster_rcnn_R_50_C4_3x.yaml idx: 0\n"
     ]
    },
    {
     "data": {
      "application/vnd.jupyter.widget-view+json": {
       "model_id": "91cb660ecc9e4059af7959ce1d07e8e1",
       "version_major": 2,
       "version_minor": 0
      },
      "text/plain": [
       "HBox(children=(FloatProgress(value=0.0, max=34.0), HTML(value='')))"
      ]
     },
     "metadata": {},
     "output_type": "display_data"
    },
    {
     "name": "stdout",
     "output_type": "stream",
     "text": [
      "2020-06-10 10:14:38 result seems to exist: ./val2017_faster_rcnn_R_50_C4_3x_q_001.json\n",
      "skipping COCO-Detection/faster_rcnn_R_50_C4_3x.yaml 1\n",
      "2020-06-10 10:14:38 result seems to exist: ./val2017_faster_rcnn_R_50_C4_3x_q_004.json\n",
      "skipping COCO-Detection/faster_rcnn_R_50_C4_3x.yaml 4\n",
      "2020-06-10 10:14:38 result seems to exist: ./val2017_faster_rcnn_R_50_C4_3x_q_007.json\n",
      "skipping COCO-Detection/faster_rcnn_R_50_C4_3x.yaml 7\n",
      "2020-06-10 10:14:38 result seems to exist: ./val2017_faster_rcnn_R_50_C4_3x_q_010.json\n",
      "skipping COCO-Detection/faster_rcnn_R_50_C4_3x.yaml 10\n",
      "2020-06-10 10:14:38 result seems to exist: ./val2017_faster_rcnn_R_50_C4_3x_q_013.json\n",
      "skipping COCO-Detection/faster_rcnn_R_50_C4_3x.yaml 13\n",
      "2020-06-10 10:14:38 result seems to exist: ./val2017_faster_rcnn_R_50_C4_3x_q_016.json\n",
      "skipping COCO-Detection/faster_rcnn_R_50_C4_3x.yaml 16\n",
      "2020-06-10 10:14:38 result seems to exist: ./val2017_faster_rcnn_R_50_C4_3x_q_019.json\n",
      "skipping COCO-Detection/faster_rcnn_R_50_C4_3x.yaml 19\n",
      "2020-06-10 10:14:38 result seems to exist: ./val2017_faster_rcnn_R_50_C4_3x_q_022.json\n",
      "skipping COCO-Detection/faster_rcnn_R_50_C4_3x.yaml 22\n",
      "2020-06-10 10:14:38 result seems to exist: ./val2017_faster_rcnn_R_50_C4_3x_q_025.json\n",
      "skipping COCO-Detection/faster_rcnn_R_50_C4_3x.yaml 25\n",
      "2020-06-10 10:14:38 result seems to exist: ./val2017_faster_rcnn_R_50_C4_3x_q_028.json\n",
      "skipping COCO-Detection/faster_rcnn_R_50_C4_3x.yaml 28\n",
      "2020-06-10 10:14:38 result seems to exist: ./val2017_faster_rcnn_R_50_C4_3x_q_031.json\n",
      "skipping COCO-Detection/faster_rcnn_R_50_C4_3x.yaml 31\n",
      "2020-06-10 10:14:38 result seems to exist: ./val2017_faster_rcnn_R_50_C4_3x_q_034.json\n",
      "skipping COCO-Detection/faster_rcnn_R_50_C4_3x.yaml 34\n",
      "2020-06-10 10:14:38 result seems to exist: ./val2017_faster_rcnn_R_50_C4_3x_q_037.json\n",
      "skipping COCO-Detection/faster_rcnn_R_50_C4_3x.yaml 37\n",
      "2020-06-10 10:14:38 result seems to exist: ./val2017_faster_rcnn_R_50_C4_3x_q_040.json\n",
      "skipping COCO-Detection/faster_rcnn_R_50_C4_3x.yaml 40\n",
      "2020-06-10 10:14:38 result seems to exist: ./val2017_faster_rcnn_R_50_C4_3x_q_043.json\n",
      "skipping COCO-Detection/faster_rcnn_R_50_C4_3x.yaml 43\n",
      "2020-06-10 10:14:38 result seems to exist: ./val2017_faster_rcnn_R_50_C4_3x_q_046.json\n",
      "skipping COCO-Detection/faster_rcnn_R_50_C4_3x.yaml 46\n",
      "2020-06-10 10:14:38 result seems to exist: ./val2017_faster_rcnn_R_50_C4_3x_q_049.json\n",
      "skipping COCO-Detection/faster_rcnn_R_50_C4_3x.yaml 49\n",
      "2020-06-10 10:14:38 result seems to exist: ./val2017_faster_rcnn_R_50_C4_3x_q_052.json\n",
      "skipping COCO-Detection/faster_rcnn_R_50_C4_3x.yaml 52\n",
      "2020-06-10 10:14:38 result seems to exist: ./val2017_faster_rcnn_R_50_C4_3x_q_055.json\n",
      "skipping COCO-Detection/faster_rcnn_R_50_C4_3x.yaml 55\n",
      "2020-06-10 10:14:38 result seems to exist: ./val2017_faster_rcnn_R_50_C4_3x_q_058.json\n",
      "skipping COCO-Detection/faster_rcnn_R_50_C4_3x.yaml 58\n",
      "2020-06-10 10:14:38 result seems to exist: ./val2017_faster_rcnn_R_50_C4_3x_q_061.json\n",
      "skipping COCO-Detection/faster_rcnn_R_50_C4_3x.yaml 61\n",
      "2020-06-10 10:14:38 result seems to exist: ./val2017_faster_rcnn_R_50_C4_3x_q_064.json\n",
      "skipping COCO-Detection/faster_rcnn_R_50_C4_3x.yaml 64\n",
      "2020-06-10 10:14:38 result seems to exist: ./val2017_faster_rcnn_R_50_C4_3x_q_067.json\n",
      "skipping COCO-Detection/faster_rcnn_R_50_C4_3x.yaml 67\n",
      "2020-06-10 10:14:38 result seems to exist: ./val2017_faster_rcnn_R_50_C4_3x_q_070.json\n",
      "skipping COCO-Detection/faster_rcnn_R_50_C4_3x.yaml 70\n",
      "2020-06-10 10:14:38 result seems to exist: ./val2017_faster_rcnn_R_50_C4_3x_q_073.json\n",
      "skipping COCO-Detection/faster_rcnn_R_50_C4_3x.yaml 73\n",
      "2020-06-10 10:14:38 result seems to exist: ./val2017_faster_rcnn_R_50_C4_3x_q_076.json\n",
      "skipping COCO-Detection/faster_rcnn_R_50_C4_3x.yaml 76\n",
      "2020-06-10 10:14:38 result seems to exist: ./val2017_faster_rcnn_R_50_C4_3x_q_079.json\n",
      "skipping COCO-Detection/faster_rcnn_R_50_C4_3x.yaml 79\n",
      "2020-06-10 10:14:38 result seems to exist: ./val2017_faster_rcnn_R_50_C4_3x_q_082.json\n",
      "skipping COCO-Detection/faster_rcnn_R_50_C4_3x.yaml 82\n",
      "2020-06-10 10:14:38 result seems to exist: ./val2017_faster_rcnn_R_50_C4_3x_q_085.json\n",
      "skipping COCO-Detection/faster_rcnn_R_50_C4_3x.yaml 85\n",
      "2020-06-10 10:14:38 result seems to exist: ./val2017_faster_rcnn_R_50_C4_3x_q_088.json\n",
      "skipping COCO-Detection/faster_rcnn_R_50_C4_3x.yaml 88\n",
      "2020-06-10 10:14:38 result seems to exist: ./val2017_faster_rcnn_R_50_C4_3x_q_091.json\n",
      "skipping COCO-Detection/faster_rcnn_R_50_C4_3x.yaml 91\n",
      "2020-06-10 10:14:38 result seems to exist: ./val2017_faster_rcnn_R_50_C4_3x_q_094.json\n",
      "skipping COCO-Detection/faster_rcnn_R_50_C4_3x.yaml 94\n",
      "2020-06-10 10:14:38 result seems to exist: ./val2017_faster_rcnn_R_50_C4_3x_q_097.json\n",
      "skipping COCO-Detection/faster_rcnn_R_50_C4_3x.yaml 97\n",
      "2020-06-10 10:14:38 result seems to exist: ./val2017_faster_rcnn_R_50_C4_3x_q_100.json\n",
      "skipping COCO-Detection/faster_rcnn_R_50_C4_3x.yaml 100\n",
      "\n",
      "model config: COCO-Detection/faster_rcnn_R_50_DC5_3x.yaml idx: 1\n"
     ]
    },
    {
     "data": {
      "application/vnd.jupyter.widget-view+json": {
       "model_id": "409a804ac1134291b6c315a25040e137",
       "version_major": 2,
       "version_minor": 0
      },
      "text/plain": [
       "HBox(children=(FloatProgress(value=0.0, max=34.0), HTML(value='')))"
      ]
     },
     "metadata": {},
     "output_type": "display_data"
    },
    {
     "name": "stdout",
     "output_type": "stream",
     "text": [
      "2020-06-10 10:14:38 result seems to exist: ./val2017_faster_rcnn_R_50_DC5_3x_q_001.json\n",
      "skipping COCO-Detection/faster_rcnn_R_50_DC5_3x.yaml 1\n",
      "2020-06-10 10:14:38 result seems to exist: ./val2017_faster_rcnn_R_50_DC5_3x_q_004.json\n",
      "skipping COCO-Detection/faster_rcnn_R_50_DC5_3x.yaml 4\n",
      "2020-06-10 10:14:38 result seems to exist: ./val2017_faster_rcnn_R_50_DC5_3x_q_007.json\n",
      "skipping COCO-Detection/faster_rcnn_R_50_DC5_3x.yaml 7\n",
      "2020-06-10 10:14:38 result seems to exist: ./val2017_faster_rcnn_R_50_DC5_3x_q_010.json\n",
      "skipping COCO-Detection/faster_rcnn_R_50_DC5_3x.yaml 10\n",
      "2020-06-10 10:14:38 unpacking\n",
      "5001it [00:03, 1351.67it/s]                                                     \n",
      "2020-06-10 10:14:42 degrading quality to 13\n",
      "100%|████████████████████████████████████| 10000/10000 [00:36<00:00, 274.79it/s]\n",
      "2020-06-10 10:15:18 finished 13\n",
      "Loading and preparing results...\n",
      "DONE (t=0.16s)\n",
      "creating index...\n",
      "index created!\n",
      "Running per image evaluation...\n",
      "Evaluate annotation type *bbox*\n",
      "DONE (t=12.87s).\n",
      "Accumulating evaluation results...\n",
      "DONE (t=1.91s).\n",
      " Average Precision  (AP) @[ IoU=0.50:0.95 | area=   all | maxDets=100 ] = 0.166\n",
      " Average Precision  (AP) @[ IoU=0.50      | area=   all | maxDets=100 ] = 0.275\n",
      " Average Precision  (AP) @[ IoU=0.75      | area=   all | maxDets=100 ] = 0.177\n",
      " Average Precision  (AP) @[ IoU=0.50:0.95 | area= small | maxDets=100 ] = 0.067\n",
      " Average Precision  (AP) @[ IoU=0.50:0.95 | area=medium | maxDets=100 ] = 0.189\n",
      " Average Precision  (AP) @[ IoU=0.50:0.95 | area= large | maxDets=100 ] = 0.245\n",
      " Average Recall     (AR) @[ IoU=0.50:0.95 | area=   all | maxDets=  1 ] = 0.158\n",
      " Average Recall     (AR) @[ IoU=0.50:0.95 | area=   all | maxDets= 10 ] = 0.217\n",
      " Average Recall     (AR) @[ IoU=0.50:0.95 | area=   all | maxDets=100 ] = 0.219\n",
      " Average Recall     (AR) @[ IoU=0.50:0.95 | area= small | maxDets=100 ] = 0.089\n",
      " Average Recall     (AR) @[ IoU=0.50:0.95 | area=medium | maxDets=100 ] = 0.249\n",
      " Average Recall     (AR) @[ IoU=0.50:0.95 | area= large | maxDets=100 ] = 0.314\n",
      "2020-06-10 10:40:21 finished 13\n",
      "Not copying: val2017_faster_rcnn_R_50_DC5_3x_q_013.json\n",
      "2020-06-10 10:40:21 unpacking\n",
      "5001it [00:03, 1397.91it/s]                                                     \n",
      "2020-06-10 10:40:25 degrading quality to 16\n",
      "100%|████████████████████████████████████| 10000/10000 [00:38<00:00, 256.78it/s]\n",
      "2020-06-10 10:41:04 finished 16\n"
     ]
    }
   ],
   "source": [
    "%%time\n",
    "# https://github.com/conansherry/detectron2/blob/master/configs/COCO-Detection/faster_rcnn_X_101_32x8d_FPN_3x.yaml\n",
    "output_dir = '.' # '/content/gdrive/My Drive/results'  # mounted or not, here I come\n",
    "#model_idx = 5\n",
    "#model_config = MODEL_ZOO_CONFIGS[model_idx]\n",
    "\n",
    "for model_idx, model_config in enumerate(MODEL_ZOO_CONFIGS):\n",
    "    print('model config:', model_config, 'idx:', model_idx)\n",
    "    for q in tqdm(range(1, 101, 3)):\n",
    "      validate_coco2017(model_config, q, output_dir)"
   ]
  },
  {
   "cell_type": "code",
   "execution_count": 2,
   "metadata": {
    "colab": {
     "base_uri": "https://localhost:8080/",
     "height": 319
    },
    "colab_type": "code",
    "id": "3wi8wJ8vSOMS",
    "outputId": "029bf192-3376-4015-cbcd-c2ca7d0303c4"
   },
   "outputs": [
    {
     "name": "stdout",
     "output_type": "stream",
     "text": [
      "Device count: 2\n",
      "Using device: cuda\n",
      "\n",
      "GeForce GTX 1060 6GB\n",
      "Memory Usage:\n",
      "Allocated: 0.0 GB\n",
      "Cached:    0.0 GB\n",
      "processor\t: 0\r\n",
      "vendor_id\t: GenuineIntel\r\n",
      "cpu family\t: 6\r\n",
      "model\t\t: 85\r\n",
      "model name\t: Intel(R) Core(TM) i9-7900X CPU @ 3.30GHz\r\n",
      "stepping\t: 4\r\n",
      "microcode\t: 0x2000065\r\n",
      "cpu MHz\t\t: 4013.715\r\n",
      "cache size\t: 14080 KB\r\n",
      "physical id\t: 0\r\n",
      "siblings\t: 20\r\n"
     ]
    }
   ],
   "source": [
    "import torch\n",
    "\n",
    "print('Device count:', torch.cuda.device_count())\n",
    "torch.cuda.set_device(1)\n",
    "\n",
    "# setting device on GPU if available, else CPU\n",
    "device = torch.device('cuda' if torch.cuda.is_available() else 'cpu')\n",
    "print('Using device:', device)\n",
    "print()\n",
    "\n",
    "#Additional Info when using cuda\n",
    "if device.type == 'cuda':\n",
    "    print(torch.cuda.get_device_name())\n",
    "    print('Memory Usage:')\n",
    "    print('Allocated:', round(torch.cuda.memory_allocated(0)/1024**3, 1), 'GB')\n",
    "    print('Cached:   ', round(torch.cuda.memory_cached(0)/1024**3, 1), 'GB')\n",
    "\n",
    "!head -n 11 /proc/cpuinfo\n"
   ]
  },
  {
   "cell_type": "code",
   "execution_count": 10,
   "metadata": {
    "colab": {},
    "colab_type": "code",
    "id": "HmBjyPhFDCCF"
   },
   "outputs": [
    {
     "name": "stdout",
     "output_type": "stream",
     "text": [
      "18.py\t\t\t      NewValidate_multiple_JPEG.ipynb\r\n",
      "22.py\t\t\t      nowe_id\r\n",
      "annotations_trainval2017.zip  pycardio\r\n",
      "AoC22.ipynb\t\t      pytony\r\n",
      "datasets\t\t      Scans\r\n",
      "environment_testing.ipynb     stare_id\r\n",
      "euler_spoj\t\t      swapfile\r\n",
      "hemodynamic-pipe\t      TrainSet\r\n",
      "in18.txt\t\t      urban_oculus\r\n",
      "in22.txt\t\t      val2017_faster_rcnn_R_101_FPN_3x_q_5.json\r\n",
      "lakeit\t\t\t      val2017.zip\r\n",
      "log_18.txt\t\t      Zarr_scratch.ipynb\r\n",
      "meats\r\n"
     ]
    }
   ],
   "source": [
    "!ls"
   ]
  },
  {
   "cell_type": "code",
   "execution_count": null,
   "metadata": {},
   "outputs": [],
   "source": []
  }
 ],
 "metadata": {
  "accelerator": "GPU",
  "colab": {
   "authorship_tag": "ABX9TyMWBOs68uSr3v/DyEGDchgX",
   "collapsed_sections": [],
   "include_colab_link": true,
   "name": "Validate_multiple_JPEG.ipynb",
   "provenance": []
  },
  "kernelspec": {
   "display_name": "Python 3",
   "language": "python",
   "name": "python3"
  },
  "language_info": {
   "codemirror_mode": {
    "name": "ipython",
    "version": 3
   },
   "file_extension": ".py",
   "mimetype": "text/x-python",
   "name": "python",
   "nbconvert_exporter": "python",
   "pygments_lexer": "ipython3",
   "version": "3.6.10"
  },
  "widgets": {
   "application/vnd.jupyter.widget-state+json": {
    "0c6e6cd257df4b44929f5e73f17ff271": {
     "model_module": "@jupyter-widgets/controls",
     "model_name": "DescriptionStyleModel",
     "state": {
      "_model_module": "@jupyter-widgets/controls",
      "_model_module_version": "1.5.0",
      "_model_name": "DescriptionStyleModel",
      "_view_count": null,
      "_view_module": "@jupyter-widgets/base",
      "_view_module_version": "1.2.0",
      "_view_name": "StyleView",
      "description_width": ""
     }
    },
    "16c432acc49b4396b7291052ef4585e5": {
     "model_module": "@jupyter-widgets/base",
     "model_name": "LayoutModel",
     "state": {
      "_model_module": "@jupyter-widgets/base",
      "_model_module_version": "1.2.0",
      "_model_name": "LayoutModel",
      "_view_count": null,
      "_view_module": "@jupyter-widgets/base",
      "_view_module_version": "1.2.0",
      "_view_name": "LayoutView",
      "align_content": null,
      "align_items": null,
      "align_self": null,
      "border": null,
      "bottom": null,
      "display": null,
      "flex": null,
      "flex_flow": null,
      "grid_area": null,
      "grid_auto_columns": null,
      "grid_auto_flow": null,
      "grid_auto_rows": null,
      "grid_column": null,
      "grid_gap": null,
      "grid_row": null,
      "grid_template_areas": null,
      "grid_template_columns": null,
      "grid_template_rows": null,
      "height": null,
      "justify_content": null,
      "justify_items": null,
      "left": null,
      "margin": null,
      "max_height": null,
      "max_width": null,
      "min_height": null,
      "min_width": null,
      "object_fit": null,
      "object_position": null,
      "order": null,
      "overflow": null,
      "overflow_x": null,
      "overflow_y": null,
      "padding": null,
      "right": null,
      "top": null,
      "visibility": null,
      "width": null
     }
    },
    "25e58b6c69bc4ca8803114d313b033ad": {
     "model_module": "@jupyter-widgets/base",
     "model_name": "LayoutModel",
     "state": {
      "_model_module": "@jupyter-widgets/base",
      "_model_module_version": "1.2.0",
      "_model_name": "LayoutModel",
      "_view_count": null,
      "_view_module": "@jupyter-widgets/base",
      "_view_module_version": "1.2.0",
      "_view_name": "LayoutView",
      "align_content": null,
      "align_items": null,
      "align_self": null,
      "border": null,
      "bottom": null,
      "display": null,
      "flex": null,
      "flex_flow": null,
      "grid_area": null,
      "grid_auto_columns": null,
      "grid_auto_flow": null,
      "grid_auto_rows": null,
      "grid_column": null,
      "grid_gap": null,
      "grid_row": null,
      "grid_template_areas": null,
      "grid_template_columns": null,
      "grid_template_rows": null,
      "height": null,
      "justify_content": null,
      "justify_items": null,
      "left": null,
      "margin": null,
      "max_height": null,
      "max_width": null,
      "min_height": null,
      "min_width": null,
      "object_fit": null,
      "object_position": null,
      "order": null,
      "overflow": null,
      "overflow_x": null,
      "overflow_y": null,
      "padding": null,
      "right": null,
      "top": null,
      "visibility": null,
      "width": null
     }
    },
    "6457d4245975423cacd32165d9662082": {
     "model_module": "@jupyter-widgets/controls",
     "model_name": "FloatProgressModel",
     "state": {
      "_dom_classes": [],
      "_model_module": "@jupyter-widgets/controls",
      "_model_module_version": "1.5.0",
      "_model_name": "FloatProgressModel",
      "_view_count": null,
      "_view_module": "@jupyter-widgets/controls",
      "_view_module_version": "1.5.0",
      "_view_name": "ProgressView",
      "bar_style": "",
      "description": " 55%",
      "description_tooltip": null,
      "layout": "IPY_MODEL_25e58b6c69bc4ca8803114d313b033ad",
      "max": 11,
      "min": 0,
      "orientation": "horizontal",
      "style": "IPY_MODEL_78c53394467e4dbfa1920107dc5c74e7",
      "value": 6
     }
    },
    "69d959e9abbe40c388738b9688569720": {
     "model_module": "@jupyter-widgets/controls",
     "model_name": "HBoxModel",
     "state": {
      "_dom_classes": [],
      "_model_module": "@jupyter-widgets/controls",
      "_model_module_version": "1.5.0",
      "_model_name": "HBoxModel",
      "_view_count": null,
      "_view_module": "@jupyter-widgets/controls",
      "_view_module_version": "1.5.0",
      "_view_name": "HBoxView",
      "box_style": "",
      "children": [
       "IPY_MODEL_6457d4245975423cacd32165d9662082",
       "IPY_MODEL_8b13b718c91144f08bc5029cd1587413"
      ],
      "layout": "IPY_MODEL_a24aa92fed2c42348b4930ef2834e901"
     }
    },
    "78c53394467e4dbfa1920107dc5c74e7": {
     "model_module": "@jupyter-widgets/controls",
     "model_name": "ProgressStyleModel",
     "state": {
      "_model_module": "@jupyter-widgets/controls",
      "_model_module_version": "1.5.0",
      "_model_name": "ProgressStyleModel",
      "_view_count": null,
      "_view_module": "@jupyter-widgets/base",
      "_view_module_version": "1.2.0",
      "_view_name": "StyleView",
      "bar_color": null,
      "description_width": "initial"
     }
    },
    "8b13b718c91144f08bc5029cd1587413": {
     "model_module": "@jupyter-widgets/controls",
     "model_name": "HTMLModel",
     "state": {
      "_dom_classes": [],
      "_model_module": "@jupyter-widgets/controls",
      "_model_module_version": "1.5.0",
      "_model_name": "HTMLModel",
      "_view_count": null,
      "_view_module": "@jupyter-widgets/controls",
      "_view_module_version": "1.5.0",
      "_view_name": "HTMLView",
      "description": "",
      "description_tooltip": null,
      "layout": "IPY_MODEL_16c432acc49b4396b7291052ef4585e5",
      "placeholder": "​",
      "style": "IPY_MODEL_0c6e6cd257df4b44929f5e73f17ff271",
      "value": " 6/11 [2:42:02&lt;2:36:03, 1872.70s/it]"
     }
    },
    "a24aa92fed2c42348b4930ef2834e901": {
     "model_module": "@jupyter-widgets/base",
     "model_name": "LayoutModel",
     "state": {
      "_model_module": "@jupyter-widgets/base",
      "_model_module_version": "1.2.0",
      "_model_name": "LayoutModel",
      "_view_count": null,
      "_view_module": "@jupyter-widgets/base",
      "_view_module_version": "1.2.0",
      "_view_name": "LayoutView",
      "align_content": null,
      "align_items": null,
      "align_self": null,
      "border": null,
      "bottom": null,
      "display": null,
      "flex": null,
      "flex_flow": null,
      "grid_area": null,
      "grid_auto_columns": null,
      "grid_auto_flow": null,
      "grid_auto_rows": null,
      "grid_column": null,
      "grid_gap": null,
      "grid_row": null,
      "grid_template_areas": null,
      "grid_template_columns": null,
      "grid_template_rows": null,
      "height": null,
      "justify_content": null,
      "justify_items": null,
      "left": null,
      "margin": null,
      "max_height": null,
      "max_width": null,
      "min_height": null,
      "min_width": null,
      "object_fit": null,
      "object_position": null,
      "order": null,
      "overflow": null,
      "overflow_x": null,
      "overflow_y": null,
      "padding": null,
      "right": null,
      "top": null,
      "visibility": null,
      "width": null
     }
    }
   }
  }
 },
 "nbformat": 4,
 "nbformat_minor": 1
}
