{
 "cells": [
  {
   "cell_type": "code",
   "execution_count": 1,
   "id": "4dd84e98",
   "metadata": {
    "ExecuteTime": {
     "end_time": "2022-06-17T22:57:53.596682Z",
     "start_time": "2022-06-17T22:57:52.031977Z"
    }
   },
   "outputs": [],
   "source": [
    "import sys; sys.path.append(\"..\")\n",
    "from evaldets.results import *\n",
    "from evaldets.postprocess import *"
   ]
  },
  {
   "cell_type": "markdown",
   "id": "b1391bb2",
   "metadata": {},
   "source": [
    "# Overall AP, mAP.5, mAP.75"
   ]
  },
  {
   "cell_type": "code",
   "execution_count": 2,
   "id": "3ffcf38e",
   "metadata": {
    "ExecuteTime": {
     "end_time": "2022-06-17T22:57:53.603004Z",
     "start_time": "2022-06-17T22:57:53.598862Z"
    }
   },
   "outputs": [],
   "source": [
    "i18n = {'value': 'wartość miary', \"quality\": \"jakość JPEG\", \"d(AP)/dQ\": \"zmiana d(AP) / dQ\"}\n",
    "s = GrandSummary('~/reval_05/')"
   ]
  },
  {
   "cell_type": "code",
   "execution_count": 3,
   "id": "26857f63",
   "metadata": {
    "ExecuteTime": {
     "end_time": "2022-06-17T22:57:55.618116Z",
     "start_time": "2022-06-17T22:57:53.605242Z"
    },
    "scrolled": true
   },
   "outputs": [
    {
     "name": "stdout",
     "output_type": "stream",
     "text": [
      "Saved 09-metrics-APx_Q-1-all_05_AP_Q.png\n"
     ]
    }
   ],
   "source": [
    "fig, axes = get_figure_axes(sharey=True)\n",
    "s.plot_ap_summaries(axes, order=DEFAULT_ORDER, i18n=i18n, legend=False)\n",
    "finish_plot(fig, axes)\n",
    "save_plot(fig, \"09-metrics-APx_Q-1-all_05_AP_Q\", p=0, c=1)"
   ]
  },
  {
   "cell_type": "markdown",
   "id": "a253e48f",
   "metadata": {},
   "source": [
    "# By size"
   ]
  },
  {
   "cell_type": "code",
   "execution_count": 4,
   "id": "0b51d753",
   "metadata": {
    "ExecuteTime": {
     "end_time": "2022-06-17T22:57:55.624075Z",
     "start_time": "2022-06-17T22:57:55.620690Z"
    }
   },
   "outputs": [],
   "source": [
    "s = GrandSummary('~/reval_05/')"
   ]
  },
  {
   "cell_type": "code",
   "execution_count": 5,
   "id": "06522f16",
   "metadata": {
    "ExecuteTime": {
     "end_time": "2022-06-17T22:57:57.514982Z",
     "start_time": "2022-06-17T22:57:55.626259Z"
    },
    "scrolled": true
   },
   "outputs": [
    {
     "name": "stdout",
     "output_type": "stream",
     "text": [
      "Saved 09-metrics-APx_Q-2-APsize_Q.png\n"
     ]
    }
   ],
   "source": [
    "fig, axes = get_figure_axes(sharey=True)\n",
    "s.plot_ap_summaries(axes, order=DEFAULT_ORDER, legend=False, i18n=i18n, by_size=True)\n",
    "finish_plot(fig, axes)\n",
    "save_plot(fig, \"09-metrics-APx_Q-2-APsize_Q\", p=0, c=1)"
   ]
  },
  {
   "cell_type": "markdown",
   "id": "df0ddd6c",
   "metadata": {},
   "source": [
    "# Looking at derivative"
   ]
  },
  {
   "cell_type": "code",
   "execution_count": 6,
   "id": "0cc92a40",
   "metadata": {
    "ExecuteTime": {
     "end_time": "2022-06-17T22:57:59.499107Z",
     "start_time": "2022-06-17T22:57:57.517305Z"
    }
   },
   "outputs": [
    {
     "name": "stdout",
     "output_type": "stream",
     "text": [
      "Saved 09-metrics-APx_Q-3-APderiv_Q.png\n"
     ]
    }
   ],
   "source": [
    "fig, axes = get_figure_axes(sharey=True)\n",
    "s.plot_ap_derivatives(axes, order=DEFAULT_ORDER, i18n=i18n)\n",
    "finish_plot(fig, axes)\n",
    "save_plot(fig, \"09-metrics-APx_Q-3-APderiv_Q\", p=0, c=1)"
   ]
  }
 ],
 "metadata": {
  "kernelspec": {
   "display_name": "Python 3 (ipykernel)",
   "language": "python",
   "name": "python3"
  },
  "language_info": {
   "codemirror_mode": {
    "name": "ipython",
    "version": 3
   },
   "file_extension": ".py",
   "mimetype": "text/x-python",
   "name": "python",
   "nbconvert_exporter": "python",
   "pygments_lexer": "ipython3",
   "version": "3.10.5"
  },
  "toc": {
   "base_numbering": 1,
   "nav_menu": {},
   "number_sections": true,
   "sideBar": true,
   "skip_h1_title": false,
   "title_cell": "Table of Contents",
   "title_sidebar": "Contents",
   "toc_cell": false,
   "toc_position": {},
   "toc_section_display": true,
   "toc_window_display": false
  }
 },
 "nbformat": 4,
 "nbformat_minor": 5
}
