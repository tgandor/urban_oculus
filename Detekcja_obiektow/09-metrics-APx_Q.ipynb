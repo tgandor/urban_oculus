{
 "cells": [
  {
   "cell_type": "code",
   "execution_count": 1,
   "id": "4dd84e98",
   "metadata": {
    "ExecuteTime": {
     "end_time": "2022-06-19T12:50:24.577558Z",
     "start_time": "2022-06-19T12:50:22.894657Z"
    }
   },
   "outputs": [],
   "source": [
    "import sys; sys.path.append(\"..\")\n",
    "from evaldets.results import *\n",
    "from evaldets.postprocess import *"
   ]
  },
  {
   "cell_type": "markdown",
   "id": "b1391bb2",
   "metadata": {},
   "source": [
    "# Overall AP, mAP.5, mAP.75"
   ]
  },
  {
   "cell_type": "code",
   "execution_count": 2,
   "id": "3ffcf38e",
   "metadata": {
    "ExecuteTime": {
     "end_time": "2022-06-19T12:50:24.584342Z",
     "start_time": "2022-06-19T12:50:24.580062Z"
    }
   },
   "outputs": [],
   "source": [
    "i18n = {'value': 'wartość miary', \"quality\": \"jakość JPEG\", \"d(AP)/dQ\": \"zmiana d(AP) / dQ\", \"% of max value\": \"% wartości maksymalnej\"}\n",
    "s = GrandSummary('~/reval_05/')"
   ]
  },
  {
   "cell_type": "code",
   "execution_count": 3,
   "id": "26857f63",
   "metadata": {
    "ExecuteTime": {
     "end_time": "2022-06-19T12:50:26.754439Z",
     "start_time": "2022-06-19T12:50:24.586189Z"
    },
    "scrolled": true
   },
   "outputs": [
    {
     "name": "stdout",
     "output_type": "stream",
     "text": [
      "Saved 09-metrics-APx_Q-1-all_05_AP_Q.png\n"
     ]
    }
   ],
   "source": [
    "fig, axes = get_figure_axes(sharey=True)\n",
    "s.plot_ap_summaries(axes, order=DEFAULT_ORDER, i18n=i18n, legend=False)\n",
    "finish_plot(fig, axes)\n",
    "save_plot(fig, \"09-metrics-APx_Q-1-all_05_AP_Q\", p=0, c=1)"
   ]
  },
  {
   "cell_type": "markdown",
   "id": "a253e48f",
   "metadata": {},
   "source": [
    "# By size"
   ]
  },
  {
   "cell_type": "code",
   "execution_count": 4,
   "id": "06522f16",
   "metadata": {
    "ExecuteTime": {
     "end_time": "2022-06-19T12:50:28.679353Z",
     "start_time": "2022-06-19T12:50:26.758245Z"
    },
    "scrolled": true
   },
   "outputs": [
    {
     "name": "stdout",
     "output_type": "stream",
     "text": [
      "Saved 09-metrics-APx_Q-2-APsize_Q.png\n"
     ]
    }
   ],
   "source": [
    "fig, axes = get_figure_axes(sharey=True)\n",
    "s.plot_ap_summaries(axes, order=DEFAULT_ORDER, legend=False, i18n=i18n, by_size=True)\n",
    "finish_plot(fig, axes)\n",
    "save_plot(fig, \"09-metrics-APx_Q-2-APsize_Q\", p=0, c=1)"
   ]
  },
  {
   "cell_type": "markdown",
   "id": "af5d17e3",
   "metadata": {},
   "source": [
    "# By size---relative to max"
   ]
  },
  {
   "cell_type": "code",
   "execution_count": 5,
   "id": "3822b476",
   "metadata": {
    "ExecuteTime": {
     "end_time": "2022-06-19T12:50:30.991181Z",
     "start_time": "2022-06-19T12:50:28.681211Z"
    },
    "scrolled": true
   },
   "outputs": [
    {
     "name": "stdout",
     "output_type": "stream",
     "text": [
      "Saved 09-metrics-APx_Q-4-APsizeREL_Q.png\n"
     ]
    }
   ],
   "source": [
    "fig, axes = get_figure_axes(sharey=True)\n",
    "s.plot_ap_summaries(axes, order=DEFAULT_ORDER, legend=False, i18n=i18n, by_size=True, relative=True)\n",
    "finish_plot(fig, axes)\n",
    "save_plot(fig, \"09-metrics-APx_Q-4-APsizeREL_Q\", p=0, c=1)"
   ]
  },
  {
   "cell_type": "markdown",
   "id": "df0ddd6c",
   "metadata": {},
   "source": [
    "# Looking at derivative"
   ]
  },
  {
   "cell_type": "code",
   "execution_count": 6,
   "id": "0cc92a40",
   "metadata": {
    "ExecuteTime": {
     "end_time": "2022-06-19T12:50:33.084515Z",
     "start_time": "2022-06-19T12:50:30.993342Z"
    }
   },
   "outputs": [
    {
     "name": "stdout",
     "output_type": "stream",
     "text": [
      "Saved 09-metrics-APx_Q-3-APderiv_Q.png\n"
     ]
    }
   ],
   "source": [
    "fig, axes = get_figure_axes(sharey=True)\n",
    "s.plot_ap_derivatives(axes, order=DEFAULT_ORDER, i18n=i18n)\n",
    "finish_plot(fig, axes)\n",
    "save_plot(fig, \"09-metrics-APx_Q-3-APderiv_Q\", p=0, c=1)"
   ]
  }
 ],
 "metadata": {
  "kernelspec": {
   "display_name": "Python 3 (ipykernel)",
   "language": "python",
   "name": "python3"
  },
  "language_info": {
   "codemirror_mode": {
    "name": "ipython",
    "version": 3
   },
   "file_extension": ".py",
   "mimetype": "text/x-python",
   "name": "python",
   "nbconvert_exporter": "python",
   "pygments_lexer": "ipython3",
   "version": "3.10.5"
  },
  "toc": {
   "base_numbering": 1,
   "nav_menu": {},
   "number_sections": true,
   "sideBar": true,
   "skip_h1_title": false,
   "title_cell": "Table of Contents",
   "title_sidebar": "Contents",
   "toc_cell": false,
   "toc_position": {},
   "toc_section_display": true,
   "toc_window_display": false
  }
 },
 "nbformat": 4,
 "nbformat_minor": 5
}
