{
 "cells": [
  {
   "cell_type": "code",
   "execution_count": 1,
   "id": "90654e08",
   "metadata": {
    "ExecuteTime": {
     "end_time": "2022-06-05T18:42:01.671901Z",
     "start_time": "2022-06-05T18:42:00.170268Z"
    }
   },
   "outputs": [
    {
     "name": "stdout",
     "output_type": "stream",
     "text": [
      "\\begin{tabular}{lcccrrr} \\toprule\n",
      "Model & PPV\\,\\% & TPR\\,\\% & F1\\,\\% & TP & FP & EX \\\\ \\midrule\n",
      "R101 & \\textbf{81.1} & 51.7 & 63.1 & 18769 & \\underline{4360} & 820 \\\\\n",
      "R101\\_C4 & 58.6 & \\underline{67.1} & 62.5 & \\underline{24373} & 17246 & 4463 \\\\\n",
      "R101\\_DC5 & 58.2 & \\textbf{68.0} & 62.7 & \\textbf{24701} & 17752 & 4504 \\\\\n",
      "R101\\_FPN & 68.7 & 64.9 & \\underline{66.8} & 23593 & 10751 & 2605 \\\\\n",
      "R50 & \\underline{80.7} & 49.7 & 61.5 & 18043 & \\textbf{4320} & 821 \\\\\n",
      "R50\\_C4 & 56.8 & 65.3 & 60.7 & 23733 & 18075 & \\underline{4586} \\\\\n",
      "R50\\_DC5 & 57.1 & 66.7 & 61.6 & 24244 & 18190 & \\textbf{4668} \\\\\n",
      "R50\\_FPN & 67.0 & 63.8 & 65.3 & 23170 & 11428 & 2763 \\\\\n",
      "X101 & 69.7 & 66.3 & \\textbf{67.9} & 24073 & 10472 & 2534 \\\\\n",
      "\\bottomrule\n",
      "\\end{tabular}\n"
     ]
    }
   ],
   "source": [
    "import os, sys; sys.path.append(\"..\")\n",
    "\n",
    "from evaldets.postprocess import baseline_table_prf_OO  # temporary regression\n",
    "baseline_table_prf_OO(os.path.expanduser(\"~/reval_50/baseline_50/\"), True)"
   ]
  },
  {
   "cell_type": "code",
   "execution_count": 2,
   "id": "3c7ea1d2",
   "metadata": {
    "ExecuteTime": {
     "end_time": "2022-06-05T18:45:14.149777Z",
     "start_time": "2022-06-05T18:45:14.127015Z"
    }
   },
   "outputs": [
    {
     "name": "stdout",
     "output_type": "stream",
     "text": [
      "\\begin{tabular}{lcccrrr} \\toprule\n",
      "Model & PPV\\,\\% & TPR\\,\\% & F1\\,\\% & TP & FP & EX \\\\ \\midrule\n",
      "R101 & 8.4 & \\textbf{83.2} & 15.2 & \\textbf{30238} & 330518 & \\textbf{15319} \\\\\n",
      "R101\\_C4 & 18.8 & 81.3 & 30.5 & 29531 & 127795 & 13591 \\\\\n",
      "R101\\_DC5 & 19.2 & 81.3 & 31.1 & 29530 & 124023 & 14152 \\\\\n",
      "R101\\_FPN & \\underline{24.2} & 82.0 & \\underline{37.3} & 29786 & \\underline{93415} & 12744 \\\\\n",
      "R50 & 7.8 & \\underline{82.9} & 14.2 & \\underline{30112} & 358261 & \\underline{15188} \\\\\n",
      "R50\\_C4 & 17.3 & 79.8 & 28.5 & 29004 & 138201 & 13422 \\\\\n",
      "R50\\_DC5 & 18.4 & 80.3 & 29.9 & 29178 & 129690 & 14221 \\\\\n",
      "R50\\_FPN & 21.5 & 81.5 & 34.0 & 29596 & 108119 & 13205 \\\\\n",
      "X101 & \\textbf{29.8} & 81.3 & \\textbf{43.6} & 29546 & \\textbf{69608} & 11862 \\\\\n",
      "\\bottomrule\n",
      "\\end{tabular}\n"
     ]
    }
   ],
   "source": [
    "baseline_table_prf_OO(os.path.expanduser(\"~/reval_05/baseline_05/\"))"
   ]
  }
 ],
 "metadata": {
  "kernelspec": {
   "display_name": "Python 3 (ipykernel)",
   "language": "python",
   "name": "python3"
  },
  "language_info": {
   "codemirror_mode": {
    "name": "ipython",
    "version": 3
   },
   "file_extension": ".py",
   "mimetype": "text/x-python",
   "name": "python",
   "nbconvert_exporter": "python",
   "pygments_lexer": "ipython3",
   "version": "3.10.4"
  },
  "toc": {
   "base_numbering": 1,
   "nav_menu": {},
   "number_sections": true,
   "sideBar": true,
   "skip_h1_title": false,
   "title_cell": "Table of Contents",
   "title_sidebar": "Contents",
   "toc_cell": false,
   "toc_position": {},
   "toc_section_display": true,
   "toc_window_display": false
  }
 },
 "nbformat": 4,
 "nbformat_minor": 5
}
