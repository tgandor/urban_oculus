{
 "cells": [
  {
   "cell_type": "code",
   "execution_count": 1,
   "id": "90654e08",
   "metadata": {
    "ExecuteTime": {
     "end_time": "2022-06-04T23:06:13.359161Z",
     "start_time": "2022-06-04T23:06:11.945265Z"
    }
   },
   "outputs": [
    {
     "name": "stderr",
     "output_type": "stream",
     "text": [
      "\\begin{tabular}{lcccrrr}\n",
      "\\toprule\n",
      "Model & TPR\\% & PPV\\% & F1\\% & TP & FP & EX \\\\ \\midrule\n"
     ]
    },
    {
     "name": "stdout",
     "output_type": "stream",
     "text": [
      "R101 & 51.7 & 81.1 & 63.1 & 18769 & 4360 & 820 \\\\\n",
      "R101\\_C4 & 67.1 & 58.6 & 62.5 & 24373 & 17246 & 4463 \\\\\n",
      "R101\\_DC5 & 68.0 & 58.2 & 62.7 & 24701 & 17752 & 4504 \\\\\n",
      "R101\\_FPN & 64.9 & 68.7 & 66.8 & 23593 & 10751 & 2605 \\\\\n",
      "R50 & 49.7 & 80.7 & 61.5 & 18043 & 4320 & 821 \\\\\n",
      "R50\\_C4 & 65.3 & 56.8 & 60.7 & 23733 & 18075 & 4586 \\\\\n",
      "R50\\_DC5 & 66.7 & 57.1 & 61.6 & 24244 & 18190 & 4668 \\\\\n",
      "R50\\_FPN & 63.8 & 67.0 & 65.3 & 23170 & 11428 & 2763 \\\\\n",
      "X101 & 66.3 & 69.7 & 67.9 & 24073 & 10472 & 2534 \\\\\n"
     ]
    },
    {
     "name": "stderr",
     "output_type": "stream",
     "text": [
      "\\bottomrule\n",
      "\\end{tabular}\n"
     ]
    }
   ],
   "source": [
    "import os, sys; sys.path.append(\"..\")\n",
    "\n",
    "from evaldets.postprocess import baseline_table_prf\n",
    "baseline_table_prf(os.path.expanduser(\"~/reval_50/baseline_50/\"), True)"
   ]
  }
 ],
 "metadata": {
  "kernelspec": {
   "display_name": "Python 3 (ipykernel)",
   "language": "python",
   "name": "python3"
  },
  "language_info": {
   "codemirror_mode": {
    "name": "ipython",
    "version": 3
   },
   "file_extension": ".py",
   "mimetype": "text/x-python",
   "name": "python",
   "nbconvert_exporter": "python",
   "pygments_lexer": "ipython3",
   "version": "3.10.4"
  },
  "toc": {
   "base_numbering": 1,
   "nav_menu": {},
   "number_sections": true,
   "sideBar": true,
   "skip_h1_title": false,
   "title_cell": "Table of Contents",
   "title_sidebar": "Contents",
   "toc_cell": false,
   "toc_position": {},
   "toc_section_display": true,
   "toc_window_display": false
  }
 },
 "nbformat": 4,
 "nbformat_minor": 5
}
