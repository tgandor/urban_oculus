{
 "cells": [
  {
   "cell_type": "code",
   "execution_count": 1,
   "id": "90654e08",
   "metadata": {
    "ExecuteTime": {
     "end_time": "2022-06-05T16:07:47.709185Z",
     "start_time": "2022-06-05T16:07:46.262869Z"
    }
   },
   "outputs": [
    {
     "name": "stdout",
     "output_type": "stream",
     "text": [
      "\\begin{tabular}{lc} \\toprule\n",
      "Model & PPV\\,\\% \\\\ \\midrule\n",
      "R101 & \\textbf{81.1} \\\\\n",
      "R101\\_C4 & 58.6 \\\\\n",
      "R101\\_DC5 & 58.2 \\\\\n",
      "R101\\_FPN & 68.7 \\\\\n",
      "R50 & \\underline{80.7} \\\\\n",
      "R50\\_C4 & 56.8 \\\\\n",
      "R50\\_DC5 & 57.1 \\\\\n",
      "R50\\_FPN & 67.0 \\\\\n",
      "X101 & 69.7 \\\\\n",
      "\\bottomrule\n",
      "\\end{tabular}\n"
     ]
    }
   ],
   "source": [
    "import os, sys; sys.path.append(\"..\")\n",
    "\n",
    "from evaldets.postprocess import baseline_table_prf_OO  # temporary regression\n",
    "baseline_table_prf_OO(os.path.expanduser(\"~/reval_50/baseline_50/\"), True)"
   ]
  }
 ],
 "metadata": {
  "kernelspec": {
   "display_name": "Python 3 (ipykernel)",
   "language": "python",
   "name": "python3"
  },
  "language_info": {
   "codemirror_mode": {
    "name": "ipython",
    "version": 3
   },
   "file_extension": ".py",
   "mimetype": "text/x-python",
   "name": "python",
   "nbconvert_exporter": "python",
   "pygments_lexer": "ipython3",
   "version": "3.10.4"
  },
  "toc": {
   "base_numbering": 1,
   "nav_menu": {},
   "number_sections": true,
   "sideBar": true,
   "skip_h1_title": false,
   "title_cell": "Table of Contents",
   "title_sidebar": "Contents",
   "toc_cell": false,
   "toc_position": {},
   "toc_section_display": true,
   "toc_window_display": false
  }
 },
 "nbformat": 4,
 "nbformat_minor": 5
}
