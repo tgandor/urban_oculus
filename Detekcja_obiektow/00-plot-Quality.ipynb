{
 "cells": [
  {
   "cell_type": "code",
   "execution_count": 1,
   "metadata": {
    "ExecuteTime": {
     "end_time": "2022-07-09T12:06:54.308482Z",
     "start_time": "2022-07-09T12:06:52.620524Z"
    }
   },
   "outputs": [],
   "source": [
    "import sys; sys.path.append(\"..\")\n",
    "import glob, json, pandas as pd, itertools, numpy as np\n",
    "from evaldets.postprocess import save_plot\n",
    "%matplotlib inline\n",
    "c = True  # close plots if True\n",
    "p = False  # save plot PDFs"
   ]
  },
  {
   "cell_type": "code",
   "execution_count": 2,
   "metadata": {
    "ExecuteTime": {
     "end_time": "2022-07-09T12:06:54.577931Z",
     "start_time": "2022-07-09T12:06:54.310496Z"
    }
   },
   "outputs": [
    {
     "data": {
      "text/html": [
       "<div>\n",
       "<style scoped>\n",
       "    .dataframe tbody tr th:only-of-type {\n",
       "        vertical-align: middle;\n",
       "    }\n",
       "\n",
       "    .dataframe tbody tr th {\n",
       "        vertical-align: top;\n",
       "    }\n",
       "\n",
       "    .dataframe thead th {\n",
       "        text-align: right;\n",
       "    }\n",
       "</style>\n",
       "<table border=\"1\" class=\"dataframe\">\n",
       "  <thead>\n",
       "    <tr style=\"text-align: right;\">\n",
       "      <th></th>\n",
       "      <th>image</th>\n",
       "      <th>quality</th>\n",
       "      <th>width</th>\n",
       "      <th>height</th>\n",
       "      <th>channels</th>\n",
       "      <th>mean_squared_error</th>\n",
       "      <th>peak_signal_noise_ratio</th>\n",
       "      <th>structural_similarity</th>\n",
       "    </tr>\n",
       "  </thead>\n",
       "  <tbody>\n",
       "    <tr>\n",
       "      <th>0</th>\n",
       "      <td>000000000139.jpg</td>\n",
       "      <td>1</td>\n",
       "      <td>640</td>\n",
       "      <td>426</td>\n",
       "      <td>3</td>\n",
       "      <td>454.463</td>\n",
       "      <td>21.556</td>\n",
       "      <td>0.600</td>\n",
       "    </tr>\n",
       "    <tr>\n",
       "      <th>1</th>\n",
       "      <td>000000000285.jpg</td>\n",
       "      <td>1</td>\n",
       "      <td>586</td>\n",
       "      <td>640</td>\n",
       "      <td>3</td>\n",
       "      <td>781.224</td>\n",
       "      <td>19.203</td>\n",
       "      <td>0.345</td>\n",
       "    </tr>\n",
       "    <tr>\n",
       "      <th>2</th>\n",
       "      <td>000000000632.jpg</td>\n",
       "      <td>1</td>\n",
       "      <td>640</td>\n",
       "      <td>483</td>\n",
       "      <td>3</td>\n",
       "      <td>701.154</td>\n",
       "      <td>19.673</td>\n",
       "      <td>0.439</td>\n",
       "    </tr>\n",
       "    <tr>\n",
       "      <th>3</th>\n",
       "      <td>000000000724.jpg</td>\n",
       "      <td>1</td>\n",
       "      <td>375</td>\n",
       "      <td>500</td>\n",
       "      <td>3</td>\n",
       "      <td>591.834</td>\n",
       "      <td>20.409</td>\n",
       "      <td>0.560</td>\n",
       "    </tr>\n",
       "    <tr>\n",
       "      <th>4</th>\n",
       "      <td>000000000776.jpg</td>\n",
       "      <td>1</td>\n",
       "      <td>428</td>\n",
       "      <td>640</td>\n",
       "      <td>3</td>\n",
       "      <td>685.464</td>\n",
       "      <td>19.771</td>\n",
       "      <td>0.253</td>\n",
       "    </tr>\n",
       "  </tbody>\n",
       "</table>\n",
       "</div>"
      ],
      "text/plain": [
       "              image  quality  width  height  channels  mean_squared_error  \\\n",
       "0  000000000139.jpg        1    640     426         3             454.463   \n",
       "1  000000000285.jpg        1    586     640         3             781.224   \n",
       "2  000000000632.jpg        1    640     483         3             701.154   \n",
       "3  000000000724.jpg        1    375     500         3             591.834   \n",
       "4  000000000776.jpg        1    428     640         3             685.464   \n",
       "\n",
       "   peak_signal_noise_ratio  structural_similarity  \n",
       "0                   21.556                  0.600  \n",
       "1                   19.203                  0.345  \n",
       "2                   19.673                  0.439  \n",
       "3                   20.409                  0.560  \n",
       "4                   19.771                  0.253  "
      ]
     },
     "execution_count": 2,
     "metadata": {},
     "output_type": "execute_result"
    }
   ],
   "source": [
    "df = pd.read_csv('../data/coco_degradation/val2017.csv')\n",
    "df.head()"
   ]
  },
  {
   "cell_type": "code",
   "execution_count": 3,
   "metadata": {
    "ExecuteTime": {
     "end_time": "2022-07-09T12:06:56.847058Z",
     "start_time": "2022-07-09T12:06:54.579802Z"
    }
   },
   "outputs": [
    {
     "name": "stdout",
     "output_type": "stream",
     "text": [
      "Saved 00-plot-Quality-1-SSIM-mean-med-scatter.png\n"
     ]
    }
   ],
   "source": [
    "# %matplotlib notebook\n",
    "import matplotlib.pyplot as plt\n",
    "plt.rcParams[\"figure.figsize\"] = (20, 10)\n",
    "ax = df.sample(2000, random_state=1).plot.scatter(x='quality', y='structural_similarity');\n",
    "ax = df.groupby('quality').structural_similarity.mean().rename('średnia').plot(color='magenta');\n",
    "df.groupby('quality').structural_similarity.median().rename('mediana').plot(color='orange');\n",
    "ax.set_xlabel('Jakość JPEG')\n",
    "ax.set_ylabel('indeks podobieństwa strukturalnego (SSIM)');\n",
    "plt.legend()\n",
    "save_plot(plt.gcf(), \"00-plot-Quality-1-SSIM-mean-med-scatter\", c=c, p=p)"
   ]
  },
  {
   "cell_type": "code",
   "execution_count": 4,
   "metadata": {
    "ExecuteTime": {
     "end_time": "2022-07-09T12:07:00.291486Z",
     "start_time": "2022-07-09T12:06:56.850426Z"
    }
   },
   "outputs": [
    {
     "name": "stdout",
     "output_type": "stream",
     "text": [
      "Saved 00-plot-Quality-2-SSIM-violinplot.png\n"
     ]
    }
   ],
   "source": [
    "plt.violinplot(dataset=[subdf.structural_similarity for q, subdf in df.groupby('quality')])\n",
    "ax = df.groupby('quality').structural_similarity.mean().rename('średnia').plot()\n",
    "ax.set_xlabel('Jakość JPEG')\n",
    "ax.set_ylabel('indeks podobieństwa strukturalnego (SSIM)');\n",
    "plt.legend()\n",
    "save_plot(plt.gcf(), \"00-plot-Quality-2-SSIM-violinplot\", c=c, p=p)"
   ]
  },
  {
   "cell_type": "code",
   "execution_count": 5,
   "metadata": {
    "ExecuteTime": {
     "end_time": "2022-07-09T12:07:02.977038Z",
     "start_time": "2022-07-09T12:07:00.293349Z"
    }
   },
   "outputs": [
    {
     "name": "stdout",
     "output_type": "stream",
     "text": [
      "Saved 00-plot-Quality-3-SSIM-boxplot.png\n"
     ]
    }
   ],
   "source": [
    "plt.boxplot([subdf.structural_similarity for q, subdf in df.groupby('quality')]); ax = plt.gca()\n",
    "ax.set_xticks(range(1, 101, 3))\n",
    "ax.set_xticklabels(range(1, 101, 3));\n",
    "ax.set_xlabel('Jakość JPEG')\n",
    "ax.set_ylabel('indeks podobieństwa strukturalnego (SSIM)');\n",
    "save_plot(plt.gcf(), \"00-plot-Quality-3-SSIM-boxplot\", c=c, p=p)"
   ]
  },
  {
   "cell_type": "code",
   "execution_count": 6,
   "metadata": {
    "ExecuteTime": {
     "end_time": "2022-07-09T12:07:05.190366Z",
     "start_time": "2022-07-09T12:07:02.979131Z"
    }
   },
   "outputs": [
    {
     "name": "stdout",
     "output_type": "stream",
     "text": [
      "Saved 00-plot-Quality-3a-SSIM-boxplot.png\n"
     ]
    }
   ],
   "source": [
    "plt.boxplot([subdf.structural_similarity for q, subdf in df.groupby('quality')], sym=''); ax = plt.gca()\n",
    "ax.set_xticks(range(1, 101, 3))\n",
    "ax.set_xticklabels(range(1, 101, 3));\n",
    "ax.set_xlabel('Jakość JPEG')\n",
    "ax.set_ylabel('indeks podobieństwa strukturalnego (SSIM)');\n",
    "save_plot(plt.gcf(), \"00-plot-Quality-3a-SSIM-boxplot\", c=c, p=p)"
   ]
  },
  {
   "cell_type": "markdown",
   "metadata": {},
   "source": [
    "# Other metrics: PSNR and MSE"
   ]
  },
  {
   "cell_type": "code",
   "execution_count": 7,
   "metadata": {
    "ExecuteTime": {
     "end_time": "2022-07-09T12:07:07.680640Z",
     "start_time": "2022-07-09T12:07:05.192743Z"
    }
   },
   "outputs": [
    {
     "name": "stdout",
     "output_type": "stream",
     "text": [
      "Saved 00-plot-Quality-4-PSNR-scatter.png\n"
     ]
    }
   ],
   "source": [
    "df.sample(1000).plot.scatter(x='quality', y='peak_signal_noise_ratio');\n",
    "ax = df.groupby('quality').peak_signal_noise_ratio.mean().plot();\n",
    "ax.set_xlabel('Jakość JPEG')\n",
    "save_plot(plt.gcf(), \"00-plot-Quality-4-PSNR-scatter\", c=c, p=p)"
   ]
  },
  {
   "cell_type": "code",
   "execution_count": 8,
   "metadata": {
    "ExecuteTime": {
     "end_time": "2022-07-09T12:07:09.747668Z",
     "start_time": "2022-07-09T12:07:07.682853Z"
    }
   },
   "outputs": [
    {
     "name": "stdout",
     "output_type": "stream",
     "text": [
      "Saved 00-plot-Quality-5-MSE-scatter.png\n"
     ]
    }
   ],
   "source": [
    "# df.groupby('quality').boxplot('mean_squared_error') # fail\n",
    "df.sample(1000).plot.scatter(x='quality', y='mean_squared_error');\n",
    "df.groupby('quality').mean_squared_error.mean().plot(); ax = plt.gca()\n",
    "ax.set_xlabel('Jakość JPEG')\n",
    "save_plot(plt.gcf(), \"00-plot-Quality-5-MSE-scatter\", c=c, p=p)"
   ]
  },
  {
   "cell_type": "code",
   "execution_count": 9,
   "metadata": {
    "ExecuteTime": {
     "end_time": "2022-07-09T12:07:11.441143Z",
     "start_time": "2022-07-09T12:07:09.749763Z"
    }
   },
   "outputs": [
    {
     "name": "stdout",
     "output_type": "stream",
     "text": [
      "Saved 00-plot-Quality-6-SSIM-Q-60-hist.png\n"
     ]
    }
   ],
   "source": [
    "df[df.quality==60].structural_similarity.hist(bins=40); ax = plt.gca()\n",
    "ax.set_xlabel('SSIM')\n",
    "ax.set_ylabel('# obrazów')\n",
    "save_plot(plt.gcf(), \"00-plot-Quality-6-SSIM-Q-60-hist\", c=c, p=p)"
   ]
  },
  {
   "cell_type": "code",
   "execution_count": 10,
   "metadata": {
    "ExecuteTime": {
     "end_time": "2022-07-09T12:07:13.237799Z",
     "start_time": "2022-07-09T12:07:11.444070Z"
    }
   },
   "outputs": [
    {
     "name": "stdout",
     "output_type": "stream",
     "text": [
      "Saved 00-plot-Quality-7-SSIM-Q-50-hist-nofill.png\n"
     ]
    }
   ],
   "source": [
    "df[df.quality==40].structural_similarity.hist(bins=50, fill=None); ax = plt.gca()\n",
    "ax.set_xlabel('SSIM')\n",
    "ax.set_ylabel('# obrazów')\n",
    "save_plot(plt.gcf(), \"00-plot-Quality-7-SSIM-Q-50-hist-nofill\", c=c, p=p)"
   ]
  },
  {
   "cell_type": "code",
   "execution_count": null,
   "metadata": {
    "ExecuteTime": {
     "start_time": "2022-07-09T12:06:52.636Z"
    }
   },
   "outputs": [],
   "source": [
    "df[df.quality==80].structural_similarity.hist(bins=50, histtype='step'); ax = plt.gca()\n",
    "ax.set_xlabel('SSIM')\n",
    "ax.set_ylabel('# obrazów')\n",
    "save_plot(plt.gcf(), \"00-plot-Quality-8-SSIM-Q-80-hist-step\", c=c, p=p)"
   ]
  },
  {
   "cell_type": "code",
   "execution_count": null,
   "metadata": {
    "ExecuteTime": {
     "start_time": "2022-07-09T12:06:52.638Z"
    }
   },
   "outputs": [],
   "source": [
    "for q in range(10, 91, 20):\n",
    "    df[df.quality==q].structural_similarity.hist(bins=200, range=(0.2, 1), histtype='step', label=f'Q={q}');\n",
    "ax = plt.gca()\n",
    "ax.set_xlabel('indeks podobieństwa strukturalnego (SSIM)');\n",
    "ax.set_ylabel('# obrazów');\n",
    "plt.legend(loc=2);\n",
    "save_plot(plt.gcf(), \"00-plot-Quality-9-SSIM-Q-10-90-hist\", c=c, p=p)"
   ]
  },
  {
   "cell_type": "code",
   "execution_count": null,
   "metadata": {
    "ExecuteTime": {
     "start_time": "2022-07-09T12:06:52.640Z"
    }
   },
   "outputs": [],
   "source": [
    "df.structural_similarity.min()"
   ]
  }
 ],
 "metadata": {
  "kernelspec": {
   "display_name": "Python 3 (ipykernel)",
   "language": "python",
   "name": "python3"
  },
  "language_info": {
   "codemirror_mode": {
    "name": "ipython",
    "version": 3
   },
   "file_extension": ".py",
   "mimetype": "text/x-python",
   "name": "python",
   "nbconvert_exporter": "python",
   "pygments_lexer": "ipython3",
   "version": "3.10.5"
  },
  "toc": {
   "base_numbering": 1,
   "nav_menu": {},
   "number_sections": true,
   "sideBar": true,
   "skip_h1_title": false,
   "title_cell": "Table of Contents",
   "title_sidebar": "Contents",
   "toc_cell": false,
   "toc_position": {},
   "toc_section_display": true,
   "toc_window_display": false
  }
 },
 "nbformat": 4,
 "nbformat_minor": 4
}
