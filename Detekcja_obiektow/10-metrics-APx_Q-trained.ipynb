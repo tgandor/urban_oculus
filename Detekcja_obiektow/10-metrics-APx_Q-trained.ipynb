{
 "cells": [
  {
   "cell_type": "code",
   "execution_count": 1,
   "id": "4dd84e98",
   "metadata": {
    "ExecuteTime": {
     "end_time": "2022-06-22T12:41:00.196479Z",
     "start_time": "2022-06-22T12:40:58.317714Z"
    }
   },
   "outputs": [],
   "source": [
    "import sys; sys.path.append(\"..\")\n",
    "from evaldets.results import *\n",
    "from evaldets.postprocess import *"
   ]
  },
  {
   "cell_type": "markdown",
   "id": "b1391bb2",
   "metadata": {},
   "source": [
    "# Overall AP, mAP.5, mAP.75"
   ]
  },
  {
   "cell_type": "code",
   "execution_count": 2,
   "id": "3ffcf38e",
   "metadata": {
    "ExecuteTime": {
     "end_time": "2022-06-22T12:41:00.204379Z",
     "start_time": "2022-06-22T12:41:00.198722Z"
    }
   },
   "outputs": [],
   "source": [
    "i18n = {'value': 'wartość miary', \"quality\": \"jakość JPEG\", \"d(AP)/dQ\": \"zmiana d(AP) / dQ\", \"% of max value\": \"% wartości maksymalnej\"}\n",
    "opt = dict(rows=3, cols=5, h=9, sharey=True)\n",
    "fopt = dict(legend_row=2, legend_col=4, clear_col=2)\n",
    "s = GrandSummary('../detectron2/data/', model_is_basename=True)\n",
    "order = [\n",
    " 'F50-STD', 'F50-Q20', 'F50-Q40', 'F50-T20', 'F50-T40',\n",
    " 'R50-STD', 'R50-Q20', 'R50-Q40', 'R50-T20', 'R50-T40',\n",
    " 'F50-D2', 'R50-D2' # 2 empty, then legend...\n",
    "]"
   ]
  },
  {
   "cell_type": "code",
   "execution_count": 3,
   "id": "26857f63",
   "metadata": {
    "ExecuteTime": {
     "end_time": "2022-06-22T12:41:03.412760Z",
     "start_time": "2022-06-22T12:41:00.206363Z"
    },
    "scrolled": true
   },
   "outputs": [
    {
     "name": "stdout",
     "output_type": "stream",
     "text": [
      "Saved 10-metrics-APx_Q-trained-1-all_05_AP_Q.png\n"
     ]
    }
   ],
   "source": [
    "# this can also take some time first time around...\n",
    "fig, axes = get_figure_axes(**opt)\n",
    "s.plot_ap_summaries(axes, order=order, i18n=i18n, legend=False)\n",
    "finish_plot(fig, axes, **fopt)\n",
    "save_plot(fig, \"10-metrics-APx_Q-trained-1-all_05_AP_Q\", p=0, c=1)"
   ]
  },
  {
   "cell_type": "markdown",
   "id": "a253e48f",
   "metadata": {},
   "source": [
    "# By size"
   ]
  },
  {
   "cell_type": "code",
   "execution_count": 4,
   "id": "06522f16",
   "metadata": {
    "ExecuteTime": {
     "end_time": "2022-06-22T12:41:06.511588Z",
     "start_time": "2022-06-22T12:41:03.415618Z"
    },
    "scrolled": true
   },
   "outputs": [
    {
     "name": "stdout",
     "output_type": "stream",
     "text": [
      "Saved 10-metrics-APx_Q-trained-2-APsize_Q.png\n"
     ]
    }
   ],
   "source": [
    "fig, axes = get_figure_axes(**opt)\n",
    "s.plot_ap_summaries(axes, order=order, legend=False, i18n=i18n, by_size=True)\n",
    "finish_plot(fig, axes, **fopt)\n",
    "save_plot(fig, \"10-metrics-APx_Q-trained-2-APsize_Q\", p=0, c=1)"
   ]
  },
  {
   "cell_type": "markdown",
   "id": "af5d17e3",
   "metadata": {},
   "source": [
    "# By size---relative to max"
   ]
  },
  {
   "cell_type": "code",
   "execution_count": 5,
   "id": "3822b476",
   "metadata": {
    "ExecuteTime": {
     "end_time": "2022-06-22T12:41:10.195930Z",
     "start_time": "2022-06-22T12:41:06.514354Z"
    },
    "scrolled": true
   },
   "outputs": [
    {
     "name": "stdout",
     "output_type": "stream",
     "text": [
      "Saved 10-metrics-APx_Q-trained-3-APsizeREL_Q.png\n"
     ]
    }
   ],
   "source": [
    "fig, axes = get_figure_axes(**opt)\n",
    "s.plot_ap_summaries(axes, order=order, legend=False, i18n=i18n, by_size=True, relative=True)\n",
    "finish_plot(fig, axes, **fopt)\n",
    "save_plot(fig, \"10-metrics-APx_Q-trained-3-APsizeREL_Q\", p=0, c=1)"
   ]
  }
 ],
 "metadata": {
  "kernelspec": {
   "display_name": "Python 3 (ipykernel)",
   "language": "python",
   "name": "python3"
  },
  "language_info": {
   "codemirror_mode": {
    "name": "ipython",
    "version": 3
   },
   "file_extension": ".py",
   "mimetype": "text/x-python",
   "name": "python",
   "nbconvert_exporter": "python",
   "pygments_lexer": "ipython3",
   "version": "3.10.5"
  },
  "toc": {
   "base_numbering": 1,
   "nav_menu": {},
   "number_sections": true,
   "sideBar": true,
   "skip_h1_title": false,
   "title_cell": "Table of Contents",
   "title_sidebar": "Contents",
   "toc_cell": false,
   "toc_position": {},
   "toc_section_display": true,
   "toc_window_display": false
  }
 },
 "nbformat": 4,
 "nbformat_minor": 5
}
