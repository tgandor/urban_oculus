{
 "cells": [
  {
   "cell_type": "code",
   "execution_count": 1,
   "id": "40ad65e4",
   "metadata": {
    "ExecuteTime": {
     "end_time": "2022-07-29T22:14:55.607659Z",
     "start_time": "2022-07-29T22:14:53.143348Z"
    }
   },
   "outputs": [],
   "source": [
    "import sys; sys.path.append(\"..\")\n",
    "from evaldets.results import *\n",
    "from evaldets.postprocess import *"
   ]
  },
  {
   "cell_type": "code",
   "execution_count": 2,
   "id": "b284eeb2",
   "metadata": {
    "ExecuteTime": {
     "end_time": "2022-07-29T22:14:55.620201Z",
     "start_time": "2022-07-29T22:14:55.610741Z"
    }
   },
   "outputs": [
    {
     "name": "stdout",
     "output_type": "stream",
     "text": [
      "\\begin{tabular}{lcccrrr} \\toprule\n",
      "Model & PPV\\,\\% & TPR\\,\\% & F1\\,\\% & TP & FP & EX \\\\ \\midrule\n",
      "R101 & \\textbf{80.9} & 41.0 & 54.4 & \\textbf{27825} & 365968 & \\textbf{14880} \\\\\n",
      "R101\\_C4 & 57.1 & \\underline{56.8} & 57.0 & 26816 & 142735 & 13022 \\\\\n",
      "R101\\_DC5 & 57.3 & \\textbf{57.7} & 57.5 & 26929 & 135881 & 13691 \\\\\n",
      "R101\\_FPN & 68.8 & 53.1 & \\underline{60.0} & 26796 & \\underline{98208} & 12370 \\\\\n",
      "R50 & \\underline{80.3} & 38.7 & 52.2 & \\underline{27461} & 395941 & \\underline{14557} \\\\\n",
      "R50\\_C4 & 52.1 & 54.6 & 53.3 & 26257 & 177631 & 12678 \\\\\n",
      "R50\\_DC5 & 54.7 & 56.5 & 55.6 & 26599 & 151024 & 13781 \\\\\n",
      "R50\\_FPN & 66.2 & 51.6 & 58.0 & 26606 & 117261 & 12675 \\\\\n",
      "X101 & 68.2 & 54.8 & \\textbf{60.8} & 26504 & \\textbf{76447} & 11463 \\\\\n",
      "\\bottomrule\n",
      "\\end{tabular}\n"
     ]
    }
   ],
   "source": [
    "prf_table_for_quality_OO(\"~/reval_05/\", 25)"
   ]
  },
  {
   "cell_type": "code",
   "execution_count": 3,
   "id": "b9038c33",
   "metadata": {
    "ExecuteTime": {
     "end_time": "2022-07-29T22:14:55.653771Z",
     "start_time": "2022-07-29T22:14:55.623079Z"
    }
   },
   "outputs": [
    {
     "name": "stdout",
     "output_type": "stream",
     "text": [
      "\\begin{tabular}{lcccrrr} \\toprule\n",
      "Model & PPV\\,\\% & TPR\\,\\% & F1\\,\\% & TP & FP & EX \\\\ \\midrule\n",
      "F50-D2 & 66.6 & \\textbf{61.8} & \\textbf{64.1} & 29547 & \\textbf{127127} & 13796 \\\\\n",
      "F50-Q20 & 62.4 & 56.3 & 59.2 & 28327 & 171559 & 14308 \\\\\n",
      "F50-Q40 & 63.8 & 57.5 & 60.4 & 28651 & 162681 & 14063 \\\\\n",
      "F50-STD & 65.8 & 58.2 & 61.8 & 28814 & \\underline{145532} & 14115 \\\\\n",
      "F50-T20 & 63.3 & 58.9 & 61.0 & 28849 & 157512 & 14282 \\\\\n",
      "F50-T40 & 63.3 & \\underline{60.4} & \\underline{61.8} & 29198 & 154194 & 14268 \\\\\n",
      "R50-D2 & 83.7 & 45.8 & 59.2 & \\textbf{30176} & 398079 & \\textbf{15313} \\\\\n",
      "R50-Q20 & 82.1 & 42.7 & 56.2 & 29216 & 433480 & 14839 \\\\\n",
      "R50-Q40 & 82.8 & 43.1 & 56.7 & 29494 & 431855 & 14969 \\\\\n",
      "R50-STD & \\textbf{84.4} & 42.2 & 56.3 & 29616 & 423294 & \\underline{15250} \\\\\n",
      "R50-T20 & 83.6 & 43.8 & 57.4 & 29578 & 429929 & 15154 \\\\\n",
      "R50-T40 & \\underline{83.7} & 44.6 & 58.2 & \\underline{29943} & 423397 & 15163 \\\\\n",
      "\\bottomrule\n",
      "\\end{tabular}\n"
     ]
    }
   ],
   "source": [
    "prf_table_for_quality_OO(\"../detectron2/data/\", 96, model_is_basename=True)"
   ]
  },
  {
   "cell_type": "code",
   "execution_count": 4,
   "id": "44b8d43e",
   "metadata": {
    "ExecuteTime": {
     "end_time": "2022-07-29T22:17:49.798718Z",
     "start_time": "2022-07-29T22:17:49.776552Z"
    }
   },
   "outputs": [
    {
     "name": "stdout",
     "output_type": "stream",
     "text": [
      "\\begin{tabular}{lcccrrr} \\toprule\n",
      "Model & PPV\\,\\% & TPR\\,\\% & F1\\,\\% & TP & FP & EX \\\\ \\midrule\n",
      "F50-D2 & 66.5 & 50.2 & 57.2 & 26661 & \\textbf{136696} & 13205 \\\\\n",
      "F50-Q20 & 64.5 & 53.1 & 58.3 & 27573 & 164223 & 14181 \\\\\n",
      "F50-Q40 & 65.9 & 52.2 & 58.2 & 27422 & 155085 & 13800 \\\\\n",
      "F50-STD & 65.3 & 45.8 & 53.8 & 25524 & 155250 & 13275 \\\\\n",
      "F50-T20 & 65.3 & \\textbf{55.6} & \\textbf{60.0} & 28094 & 151031 & 14100 \\\\\n",
      "F50-T40 & 65.9 & \\underline{54.8} & \\underline{59.9} & 27967 & \\underline{147453} & 13993 \\\\\n",
      "R50-D2 & 84.6 & 35.5 & 50.1 & 27774 & 426467 & 14947 \\\\\n",
      "R50-Q20 & 83.6 & 39.4 & 53.6 & 28617 & 430387 & 14757 \\\\\n",
      "R50-Q40 & 84.4 & 38.1 & 52.5 & 28488 & 432586 & 14817 \\\\\n",
      "R50-STD & \\textbf{85.9} & 32.2 & 46.9 & 27056 & 443452 & 14615 \\\\\n",
      "R50-T20 & 85.1 & 40.5 & 54.9 & \\underline{28930} & 427273 & \\underline{15068} \\\\\n",
      "R50-T40 & \\underline{85.4} & 39.6 & 54.1 & \\textbf{28939} & 424493 & \\textbf{15110} \\\\\n",
      "\\bottomrule\n",
      "\\end{tabular}\n"
     ]
    }
   ],
   "source": [
    "prf_table_for_quality_OO(\"../detectron2/data/\", 26, model_is_basename=True)"
   ]
  }
 ],
 "metadata": {
  "kernelspec": {
   "display_name": "Python 3 (ipykernel)",
   "language": "python",
   "name": "python3"
  },
  "language_info": {
   "codemirror_mode": {
    "name": "ipython",
    "version": 3
   },
   "file_extension": ".py",
   "mimetype": "text/x-python",
   "name": "python",
   "nbconvert_exporter": "python",
   "pygments_lexer": "ipython3",
   "version": "3.10.5"
  },
  "toc": {
   "base_numbering": 1,
   "nav_menu": {},
   "number_sections": true,
   "sideBar": true,
   "skip_h1_title": false,
   "title_cell": "Table of Contents",
   "title_sidebar": "Contents",
   "toc_cell": false,
   "toc_position": {},
   "toc_section_display": true,
   "toc_window_display": false
  }
 },
 "nbformat": 4,
 "nbformat_minor": 5
}
