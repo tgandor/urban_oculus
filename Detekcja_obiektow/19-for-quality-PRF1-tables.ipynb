{
 "cells": [
  {
   "cell_type": "code",
   "execution_count": 1,
   "id": "40ad65e4",
   "metadata": {
    "ExecuteTime": {
     "end_time": "2022-09-26T02:42:14.525812Z",
     "start_time": "2022-09-26T02:42:13.099242Z"
    }
   },
   "outputs": [],
   "source": [
    "import sys; sys.path.append(\"..\")\n",
    "from evaldets.results import *\n",
    "from evaldets.postprocess import *\n",
    "#logging.basicConfig(level=logging.DEBUG)"
   ]
  },
  {
   "cell_type": "code",
   "execution_count": 2,
   "id": "b284eeb2",
   "metadata": {
    "ExecuteTime": {
     "end_time": "2022-09-26T02:42:14.553847Z",
     "start_time": "2022-09-26T02:42:14.527801Z"
    }
   },
   "outputs": [
    {
     "name": "stdout",
     "output_type": "stream",
     "text": [
      "\\begin{tabular}{lcccrrr} \\toprule\n",
      "Model & PPV\\,\\% & TPR\\,\\% & F1\\,\\% & TP & FP & EX \\\\ \\midrule\n",
      "R101 & \\textbf{80.9} & 41.0 & 54.4 & 14900 & \\underline{3511} & 513 \\\\\n",
      "R101\\_C4 & 57.1 & \\underline{56.8} & 57.0 & \\underline{20634} & 15478 & 3253 \\\\\n",
      "R101\\_DC5 & 57.3 & \\textbf{57.7} & 57.5 & \\textbf{20979} & 15626 & 3363 \\\\\n",
      "R101\\_FPN & 68.8 & 53.1 & \\underline{60.0} & 19309 & 8765 & 1779 \\\\\n",
      "R50 & \\underline{80.3} & 38.7 & 52.2 & 14067 & \\textbf{3458} & 470 \\\\\n",
      "R50\\_C4 & 52.1 & 54.6 & 53.3 & 19842 & 18225 & \\underline{3373} \\\\\n",
      "R50\\_DC5 & 54.7 & 56.5 & 55.6 & 20516 & 16974 & \\textbf{3390} \\\\\n",
      "R50\\_FPN & 66.2 & 51.6 & 58.0 & 18761 & 9575 & 1784 \\\\\n",
      "X101 & 68.2 & 54.8 & \\textbf{60.8} & 19914 & 9269 & 1736 \\\\\n",
      "\\bottomrule\n",
      "\\end{tabular}\n"
     ]
    }
   ],
   "source": [
    "prf_table_for_quality_OO(\"~/reval_05/\", 25)"
   ]
  },
  {
   "cell_type": "markdown",
   "id": "cf8f6354",
   "metadata": {},
   "source": [
    "# 96 all "
   ]
  },
  {
   "cell_type": "code",
   "execution_count": 3,
   "id": "f8476741",
   "metadata": {
    "ExecuteTime": {
     "end_time": "2022-09-26T02:42:14.563505Z",
     "start_time": "2022-09-26T02:42:14.555530Z"
    }
   },
   "outputs": [
    {
     "name": "stdout",
     "output_type": "stream",
     "text": [
      "\\begin{tabular}{lcccrrr} \\toprule\n",
      "Model & PPV\\,\\% & TPR\\,\\% & F1\\,\\% & TP & FP & EX \\\\ \\midrule\n",
      "F50-D2 & 66.6 & \\textbf{61.8} & \\textbf{64.1} & \\textbf{22450} & 11236 & 2649 \\\\\n",
      "F50-Q20 & 62.4 & 56.3 & 59.2 & 20473 & 12359 & 2870 \\\\\n",
      "F50-Q40 & 63.8 & 57.5 & 60.4 & 20876 & 11864 & 2773 \\\\\n",
      "F50-STD & 65.8 & 58.2 & 61.8 & 21155 & 11017 & 2691 \\\\\n",
      "F50-T20 & 63.3 & 58.9 & 61.0 & 21408 & 12408 & \\underline{2966} \\\\\n",
      "F50-T40 & 63.3 & \\underline{60.4} & \\underline{61.8} & \\underline{21930} & 12722 & \\textbf{2975} \\\\\n",
      "R50-D2 & 83.7 & 45.8 & 59.2 & 16645 & 3253 & 720 \\\\\n",
      "R50-Q20 & 82.1 & 42.7 & 56.2 & 15512 & 3373 & 809 \\\\\n",
      "R50-Q40 & 82.8 & 43.1 & 56.7 & 15646 & 3245 & 721 \\\\\n",
      "R50-STD & \\textbf{84.4} & 42.2 & 56.3 & 15327 & \\textbf{2833} & 669 \\\\\n",
      "R50-T20 & 83.6 & 43.8 & 57.4 & 15898 & \\underline{3115} & 826 \\\\\n",
      "R50-T40 & \\underline{83.7} & 44.6 & 58.2 & 16213 & 3156 & 816 \\\\\n",
      "\\bottomrule\n",
      "\\end{tabular}\n"
     ]
    }
   ],
   "source": [
    "QualitySummary(\"../detectron2/data/\", 96,  model_is_basename=True).get_summaries(0.5)\n",
    "\n",
    "prf_table_for_quality_OO(\"../detectron2/data/\", 96, t_score=0.5, model_is_basename=True)"
   ]
  },
  {
   "cell_type": "markdown",
   "id": "e78c8f8b",
   "metadata": {},
   "source": [
    "# 33 all"
   ]
  },
  {
   "cell_type": "code",
   "execution_count": 5,
   "id": "44b8d43e",
   "metadata": {
    "ExecuteTime": {
     "end_time": "2022-09-26T02:55:07.107627Z",
     "start_time": "2022-09-26T02:55:07.101433Z"
    }
   },
   "outputs": [
    {
     "name": "stdout",
     "output_type": "stream",
     "text": [
      "\\begin{tabular}{lcccrrr} \\toprule\n",
      "Model & PPV\\,\\% & TPR\\,\\% & F1\\,\\% & TP & FP & EX \\\\ \\midrule\n",
      "F50-D2 & 67.1 & 53.2 & 59.3 & 19325 & 9469 & 1937 \\\\\n",
      "F50-Q20 & 64.1 & 53.8 & 58.5 & 19553 & 10956 & 2346 \\\\\n",
      "F50-Q40 & 65.6 & 53.6 & 59.0 & 19466 & 10220 & 2179 \\\\\n",
      "F50-STD & 65.8 & 49.3 & 56.4 & 17911 & 9306 & 1903 \\\\\n",
      "F50-T20 & 65.0 & \\textbf{56.4} & \\underline{60.4} & \\textbf{20499} & 11056 & \\textbf{2447} \\\\\n",
      "F50-T40 & 65.8 & \\underline{56.3} & \\textbf{60.7} & \\underline{20450} & 10615 & \\underline{2351} \\\\\n",
      "R50-D2 & 84.8 & 38.2 & 52.7 & 13874 & \\underline{2478} & 447 \\\\\n",
      "R50-Q20 & 83.4 & 40.2 & 54.3 & 14614 & 2903 & 636 \\\\\n",
      "R50-Q40 & 84.2 & 39.4 & 53.7 & 14331 & 2681 & 527 \\\\\n",
      "R50-STD & \\textbf{85.7} & 34.9 & 49.6 & 12676 & \\textbf{2122} & 424 \\\\\n",
      "R50-T20 & 85.1 & 41.2 & 55.5 & 14984 & 2629 & 642 \\\\\n",
      "R50-T40 & \\underline{85.3} & 40.8 & 55.2 & 14838 & 2549 & 606 \\\\\n",
      "\\bottomrule\n",
      "\\end{tabular}\n"
     ]
    }
   ],
   "source": [
    "prf_table_for_quality_OO(\"../detectron2/data/\", 33, t_score=0.5, model_is_basename=True)"
   ]
  },
  {
   "cell_type": "markdown",
   "id": "7b3ef39c",
   "metadata": {},
   "source": [
    "# 96 split"
   ]
  },
  {
   "cell_type": "code",
   "execution_count": 9,
   "id": "f973536e",
   "metadata": {
    "ExecuteTime": {
     "end_time": "2022-09-26T02:57:26.980136Z",
     "start_time": "2022-09-26T02:57:26.973464Z"
    }
   },
   "outputs": [
    {
     "name": "stdout",
     "output_type": "stream",
     "text": [
      "\\begin{tabular}{lcccrrr} \\toprule\n",
      "Model & PPV\\,\\% & TPR\\,\\% & F1\\,\\% & TP & FP & EX \\\\ \\midrule\n",
      "F50-Q20 & 62.4 & 56.3 & 59.2 & 20473 & 12359 & \\textbf{2870} \\\\\n",
      "F50-Q40 & 63.8 & \\underline{57.5} & \\underline{60.4} & \\underline{20876} & 11864 & \\underline{2773} \\\\\n",
      "F50-STD & 65.8 & \\textbf{58.2} & \\textbf{61.8} & \\textbf{21155} & 11017 & 2691 \\\\\n",
      "R50-Q20 & 82.1 & 42.7 & 56.2 & 15512 & 3373 & 809 \\\\\n",
      "R50-Q40 & \\underline{82.8} & 43.1 & 56.7 & 15646 & \\underline{3245} & 721 \\\\\n",
      "R50-STD & \\textbf{84.4} & 42.2 & 56.3 & 15327 & \\textbf{2833} & 669 \\\\\n",
      "\\bottomrule\n",
      "\\end{tabular}\n"
     ]
    }
   ],
   "source": [
    "prf_table_for_quality_OO(\"../detectron2/data/\", 96, t_score=0.5, model_is_basename=True, condition=lambda x: x[\"model\"][-3:] in {\"STD\", \"Q20\", \"Q40\"},)"
   ]
  },
  {
   "cell_type": "code",
   "execution_count": 10,
   "id": "d667165e",
   "metadata": {
    "ExecuteTime": {
     "end_time": "2022-09-26T02:57:39.174873Z",
     "start_time": "2022-09-26T02:57:39.156924Z"
    }
   },
   "outputs": [
    {
     "name": "stdout",
     "output_type": "stream",
     "text": [
      "\\begin{tabular}{lcccrrr} \\toprule\n",
      "Model & PPV\\,\\% & TPR\\,\\% & F1\\,\\% & TP & FP & EX \\\\ \\midrule\n",
      "F50-D2 & 66.6 & \\textbf{61.8} & \\textbf{64.1} & \\textbf{22450} & 11236 & 2649 \\\\\n",
      "F50-T20 & 63.3 & 58.9 & 61.0 & 21408 & 12408 & \\underline{2966} \\\\\n",
      "F50-T40 & 63.3 & \\underline{60.4} & \\underline{61.8} & \\underline{21930} & 12722 & \\textbf{2975} \\\\\n",
      "R50-D2 & \\underline{83.7} & 45.8 & 59.2 & 16645 & 3253 & 720 \\\\\n",
      "R50-T20 & 83.6 & 43.8 & 57.4 & 15898 & \\textbf{3115} & 826 \\\\\n",
      "R50-T40 & \\textbf{83.7} & 44.6 & 58.2 & 16213 & \\underline{3156} & 816 \\\\\n",
      "\\bottomrule\n",
      "\\end{tabular}\n"
     ]
    }
   ],
   "source": [
    "prf_table_for_quality_OO(\"../detectron2/data/\", 96, t_score=0.5, model_is_basename=True, condition=lambda x: x[\"model\"][-3:] not in {\"STD\", \"Q20\", \"Q40\"},)"
   ]
  },
  {
   "cell_type": "markdown",
   "id": "24f3bf06",
   "metadata": {},
   "source": [
    "# 33 split"
   ]
  },
  {
   "cell_type": "code",
   "execution_count": 11,
   "id": "3434c8a5",
   "metadata": {
    "ExecuteTime": {
     "end_time": "2022-09-26T02:59:53.467625Z",
     "start_time": "2022-09-26T02:59:53.461691Z"
    }
   },
   "outputs": [
    {
     "name": "stdout",
     "output_type": "stream",
     "text": [
      "\\begin{tabular}{lcccrrr} \\toprule\n",
      "Model & PPV\\,\\% & TPR\\,\\% & F1\\,\\% & TP & FP & EX \\\\ \\midrule\n",
      "F50-Q20 & 64.1 & \\textbf{53.8} & \\underline{58.5} & \\textbf{19553} & 10956 & \\textbf{2346} \\\\\n",
      "F50-Q40 & 65.6 & \\underline{53.6} & \\textbf{59.0} & \\underline{19466} & 10220 & \\underline{2179} \\\\\n",
      "F50-STD & 65.8 & 49.3 & 56.4 & 17911 & 9306 & 1903 \\\\\n",
      "R50-Q20 & 83.4 & 40.2 & 54.3 & 14614 & 2903 & 636 \\\\\n",
      "R50-Q40 & \\underline{84.2} & 39.4 & 53.7 & 14331 & \\underline{2681} & 527 \\\\\n",
      "R50-STD & \\textbf{85.7} & 34.9 & 49.6 & 12676 & \\textbf{2122} & 424 \\\\\n",
      "\\bottomrule\n",
      "\\end{tabular}\n"
     ]
    }
   ],
   "source": [
    "prf_table_for_quality_OO(\"../detectron2/data/\", 33, t_score=0.5, model_is_basename=True, condition=lambda x: x[\"model\"][-3:] in {\"STD\", \"Q20\", \"Q40\"},)"
   ]
  },
  {
   "cell_type": "code",
   "execution_count": 12,
   "id": "57965ced",
   "metadata": {
    "ExecuteTime": {
     "end_time": "2022-09-26T02:59:53.708164Z",
     "start_time": "2022-09-26T02:59:53.688234Z"
    }
   },
   "outputs": [
    {
     "name": "stdout",
     "output_type": "stream",
     "text": [
      "\\begin{tabular}{lcccrrr} \\toprule\n",
      "Model & PPV\\,\\% & TPR\\,\\% & F1\\,\\% & TP & FP & EX \\\\ \\midrule\n",
      "F50-D2 & 67.1 & 53.2 & 59.3 & 19325 & 9469 & 1937 \\\\\n",
      "F50-T20 & 65.0 & \\textbf{56.4} & \\underline{60.4} & \\textbf{20499} & 11056 & \\textbf{2447} \\\\\n",
      "F50-T40 & 65.8 & \\underline{56.3} & \\textbf{60.7} & \\underline{20450} & 10615 & \\underline{2351} \\\\\n",
      "R50-D2 & 84.8 & 38.2 & 52.7 & 13874 & \\textbf{2478} & 447 \\\\\n",
      "R50-T20 & \\underline{85.1} & 41.2 & 55.5 & 14984 & 2629 & 642 \\\\\n",
      "R50-T40 & \\textbf{85.3} & 40.8 & 55.2 & 14838 & \\underline{2549} & 606 \\\\\n",
      "\\bottomrule\n",
      "\\end{tabular}\n"
     ]
    }
   ],
   "source": [
    "prf_table_for_quality_OO(\"../detectron2/data/\", 33, t_score=0.5, model_is_basename=True, condition=lambda x: x[\"model\"][-3:] not in {\"STD\", \"Q20\", \"Q40\"},)"
   ]
  },
  {
   "cell_type": "code",
   "execution_count": null,
   "id": "c371a938",
   "metadata": {},
   "outputs": [],
   "source": []
  }
 ],
 "metadata": {
  "kernelspec": {
   "display_name": "Python 3 (ipykernel)",
   "language": "python",
   "name": "python3"
  },
  "language_info": {
   "codemirror_mode": {
    "name": "ipython",
    "version": 3
   },
   "file_extension": ".py",
   "mimetype": "text/x-python",
   "name": "python",
   "nbconvert_exporter": "python",
   "pygments_lexer": "ipython3",
   "version": "3.9.13"
  },
  "toc": {
   "base_numbering": 1,
   "nav_menu": {},
   "number_sections": true,
   "sideBar": true,
   "skip_h1_title": false,
   "title_cell": "Table of Contents",
   "title_sidebar": "Contents",
   "toc_cell": false,
   "toc_position": {},
   "toc_section_display": true,
   "toc_window_display": false
  }
 },
 "nbformat": 4,
 "nbformat_minor": 5
}
