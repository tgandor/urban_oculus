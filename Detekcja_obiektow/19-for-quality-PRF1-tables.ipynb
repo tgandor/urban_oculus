{
 "cells": [
  {
   "cell_type": "code",
   "execution_count": 1,
   "id": "40ad65e4",
   "metadata": {
    "ExecuteTime": {
     "end_time": "2022-07-30T07:13:15.839091Z",
     "start_time": "2022-07-30T07:13:14.136120Z"
    }
   },
   "outputs": [],
   "source": [
    "import sys; sys.path.append(\"..\")\n",
    "from evaldets.results import *\n",
    "from evaldets.postprocess import *\n",
    "#logging.basicConfig(level=logging.DEBUG)"
   ]
  },
  {
   "cell_type": "code",
   "execution_count": 2,
   "id": "b284eeb2",
   "metadata": {
    "ExecuteTime": {
     "end_time": "2022-07-30T07:13:15.848524Z",
     "start_time": "2022-07-30T07:13:15.841299Z"
    }
   },
   "outputs": [
    {
     "name": "stdout",
     "output_type": "stream",
     "text": [
      "\\begin{tabular}{lcccrrr} \\toprule\n",
      "Model & PPV\\,\\% & TPR\\,\\% & F1\\,\\% & TP & FP & EX \\\\ \\midrule\n",
      "R101 & \\textbf{80.9} & 41.0 & 54.4 & 14900 & \\underline{3511} & 513 \\\\\n",
      "R101\\_C4 & 57.1 & \\underline{56.8} & 57.0 & \\underline{20634} & 15478 & 3253 \\\\\n",
      "R101\\_DC5 & 57.3 & \\textbf{57.7} & 57.5 & \\textbf{20979} & 15626 & 3363 \\\\\n",
      "R101\\_FPN & 68.8 & 53.1 & \\underline{60.0} & 19309 & 8765 & 1779 \\\\\n",
      "R50 & \\underline{80.3} & 38.7 & 52.2 & 14067 & \\textbf{3458} & 470 \\\\\n",
      "R50\\_C4 & 52.1 & 54.6 & 53.3 & 19842 & 18225 & \\underline{3373} \\\\\n",
      "R50\\_DC5 & 54.7 & 56.5 & 55.6 & 20516 & 16974 & \\textbf{3390} \\\\\n",
      "R50\\_FPN & 66.2 & 51.6 & 58.0 & 18761 & 9575 & 1784 \\\\\n",
      "X101 & 68.2 & 54.8 & \\textbf{60.8} & 19914 & 9269 & 1736 \\\\\n",
      "\\bottomrule\n",
      "\\end{tabular}\n"
     ]
    }
   ],
   "source": [
    "prf_table_for_quality_OO(\"~/reval_05/\", 25)"
   ]
  },
  {
   "cell_type": "code",
   "execution_count": 3,
   "id": "f8476741",
   "metadata": {
    "ExecuteTime": {
     "end_time": "2022-07-30T07:13:15.863947Z",
     "start_time": "2022-07-30T07:13:15.851596Z"
    }
   },
   "outputs": [
    {
     "name": "stdout",
     "output_type": "stream",
     "text": [
      "\\begin{tabular}{lcccrrr} \\toprule\n",
      "Model & PPV\\,\\% & TPR\\,\\% & F1\\,\\% & TP & FP & EX \\\\ \\midrule\n",
      "F50-D2 & 66.6 & \\textbf{61.8} & \\textbf{64.1} & \\textbf{22450} & 11236 & 2649 \\\\\n",
      "F50-Q20 & 62.4 & 56.3 & 59.2 & 20473 & 12359 & 2870 \\\\\n",
      "F50-Q40 & 63.8 & 57.5 & 60.4 & 20876 & 11864 & 2773 \\\\\n",
      "F50-STD & 65.8 & 58.2 & 61.8 & 21155 & 11017 & 2691 \\\\\n",
      "F50-T20 & 63.3 & 58.9 & 61.0 & 21408 & 12408 & \\underline{2966} \\\\\n",
      "F50-T40 & 63.3 & \\underline{60.4} & \\underline{61.8} & \\underline{21930} & 12722 & \\textbf{2975} \\\\\n",
      "R50-D2 & 83.7 & 45.8 & 59.2 & 16645 & 3253 & 720 \\\\\n",
      "R50-Q20 & 82.1 & 42.7 & 56.2 & 15512 & 3373 & 809 \\\\\n",
      "R50-Q40 & 82.8 & 43.1 & 56.7 & 15646 & 3245 & 721 \\\\\n",
      "R50-STD & \\textbf{84.4} & 42.2 & 56.3 & 15327 & \\textbf{2833} & 669 \\\\\n",
      "R50-T20 & 83.6 & 43.8 & 57.4 & 15898 & \\underline{3115} & 826 \\\\\n",
      "R50-T40 & \\underline{83.7} & 44.6 & 58.2 & 16213 & 3156 & 816 \\\\\n",
      "\\bottomrule\n",
      "\\end{tabular}\n"
     ]
    }
   ],
   "source": [
    "QualitySummary(\"../detectron2/data/\", 96,  model_is_basename=True).get_summaries(0.5)\n",
    "\n",
    "prf_table_for_quality_OO(\"../detectron2/data/\", 96, t_score=0.5, model_is_basename=True)"
   ]
  },
  {
   "cell_type": "code",
   "execution_count": 4,
   "id": "44b8d43e",
   "metadata": {
    "ExecuteTime": {
     "end_time": "2022-07-30T07:13:15.872990Z",
     "start_time": "2022-07-30T07:13:15.866472Z"
    }
   },
   "outputs": [
    {
     "name": "stdout",
     "output_type": "stream",
     "text": [
      "\\begin{tabular}{lcccrrr} \\toprule\n",
      "Model & PPV\\,\\% & TPR\\,\\% & F1\\,\\% & TP & FP & EX \\\\ \\midrule\n",
      "F50-D2 & 66.5 & 50.2 & 57.2 & 18245 & 9207 & 1739 \\\\\n",
      "F50-Q20 & 64.5 & 53.1 & 58.3 & 19303 & 10605 & \\underline{2257} \\\\\n",
      "F50-Q40 & 65.9 & 52.2 & 58.2 & 18950 & 9798 & 2089 \\\\\n",
      "F50-STD & 65.3 & 45.8 & 53.8 & 16631 & 8847 & 1698 \\\\\n",
      "F50-T20 & 65.3 & \\textbf{55.6} & \\textbf{60.0} & \\textbf{20185} & 10727 & \\textbf{2285} \\\\\n",
      "F50-T40 & 65.9 & \\underline{54.8} & \\underline{59.9} & \\underline{19929} & 10293 & 2193 \\\\\n",
      "R50-D2 & 84.6 & 35.5 & 50.1 & 12914 & \\underline{2350} & 407 \\\\\n",
      "R50-Q20 & 83.6 & 39.4 & 53.6 & 14320 & 2810 & 604 \\\\\n",
      "R50-Q40 & 84.4 & 38.1 & 52.5 & 13853 & 2559 & 494 \\\\\n",
      "R50-STD & \\textbf{85.9} & 32.2 & 46.9 & 11711 & \\textbf{1923} & 381 \\\\\n",
      "R50-T20 & 85.1 & 40.5 & 54.9 & 14723 & 2586 & 602 \\\\\n",
      "R50-T40 & \\underline{85.4} & 39.6 & 54.1 & 14381 & 2453 & 548 \\\\\n",
      "\\bottomrule\n",
      "\\end{tabular}\n"
     ]
    }
   ],
   "source": [
    "prf_table_for_quality_OO(\"../detectron2/data/\", 26, t_score=0.5, model_is_basename=True)"
   ]
  }
 ],
 "metadata": {
  "kernelspec": {
   "display_name": "Python 3 (ipykernel)",
   "language": "python",
   "name": "python3"
  },
  "language_info": {
   "codemirror_mode": {
    "name": "ipython",
    "version": 3
   },
   "file_extension": ".py",
   "mimetype": "text/x-python",
   "name": "python",
   "nbconvert_exporter": "python",
   "pygments_lexer": "ipython3",
   "version": "3.10.5"
  },
  "toc": {
   "base_numbering": 1,
   "nav_menu": {},
   "number_sections": true,
   "sideBar": true,
   "skip_h1_title": false,
   "title_cell": "Table of Contents",
   "title_sidebar": "Contents",
   "toc_cell": false,
   "toc_position": {},
   "toc_section_display": true,
   "toc_window_display": false
  }
 },
 "nbformat": 4,
 "nbformat_minor": 5
}
