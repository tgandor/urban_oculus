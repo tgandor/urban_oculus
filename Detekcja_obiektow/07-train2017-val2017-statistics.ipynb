{
 "cells": [
  {
   "cell_type": "code",
   "execution_count": 1,
   "metadata": {
    "ExecuteTime": {
     "end_time": "2022-06-07T10:35:02.357380Z",
     "start_time": "2022-06-07T10:35:00.119726Z"
    }
   },
   "outputs": [],
   "source": [
    "import sys; sys.path.append(\"..\")\n",
    "from evaldets.visualization import DatasetIndex"
   ]
  },
  {
   "cell_type": "markdown",
   "metadata": {},
   "source": [
    "### val2017 stats"
   ]
  },
  {
   "cell_type": "code",
   "execution_count": 2,
   "metadata": {
    "ExecuteTime": {
     "end_time": "2022-06-07T10:35:54.353766Z",
     "start_time": "2022-06-07T10:35:54.349973Z"
    }
   },
   "outputs": [],
   "source": [
    "dsi = DatasetIndex('coco_2017_val')"
   ]
  },
  {
   "cell_type": "code",
   "execution_count": 3,
   "metadata": {
    "ExecuteTime": {
     "end_time": "2022-06-07T10:35:56.051259Z",
     "start_time": "2022-06-07T10:35:55.545139Z"
    }
   },
   "outputs": [
    {
     "data": {
      "text/plain": [
       "36781"
      ]
     },
     "execution_count": 3,
     "metadata": {},
     "output_type": "execute_result"
    }
   ],
   "source": [
    "len(dsi.gt)"
   ]
  },
  {
   "cell_type": "code",
   "execution_count": 4,
   "metadata": {
    "ExecuteTime": {
     "end_time": "2022-06-07T10:35:56.922588Z",
     "start_time": "2022-06-07T10:35:56.895575Z"
    }
   },
   "outputs": [
    {
     "data": {
      "text/plain": [
       "4952"
      ]
     },
     "execution_count": 4,
     "metadata": {},
     "output_type": "execute_result"
    }
   ],
   "source": [
    "len(set(a[\"image_id\"] for a in dsi.gt.values()))"
   ]
  },
  {
   "cell_type": "code",
   "execution_count": 5,
   "metadata": {
    "ExecuteTime": {
     "end_time": "2022-06-07T10:35:58.303023Z",
     "start_time": "2022-06-07T10:35:58.293268Z"
    }
   },
   "outputs": [
    {
     "data": {
      "text/plain": [
       "446"
      ]
     },
     "execution_count": 5,
     "metadata": {},
     "output_type": "execute_result"
    }
   ],
   "source": [
    "sum(a[\"iscrowd\"] for a in dsi.gt.values())"
   ]
  },
  {
   "cell_type": "code",
   "execution_count": 7,
   "metadata": {
    "ExecuteTime": {
     "end_time": "2022-06-07T10:53:11.945041Z",
     "start_time": "2022-06-07T10:53:11.923137Z"
    }
   },
   "outputs": [
    {
     "data": {
      "text/plain": [
       "36335"
      ]
     },
     "execution_count": 7,
     "metadata": {},
     "output_type": "execute_result"
    }
   ],
   "source": [
    "sum(a[\"iscrowd\"]==0 for a in dsi.gt.values())"
   ]
  },
  {
   "cell_type": "code",
   "execution_count": 11,
   "metadata": {
    "ExecuteTime": {
     "end_time": "2022-06-07T10:53:58.375756Z",
     "start_time": "2022-06-07T10:53:58.372358Z"
    }
   },
   "outputs": [
    {
     "data": {
      "text/plain": [
       "{'area': 702.1057499999998,\n",
       " 'iscrowd': 0,\n",
       " 'image_id': 289343,\n",
       " 'bbox': [473.07, 395.93, 38.65, 28.67],\n",
       " 'id': 1768,\n",
       " 'category': 'dog'}"
      ]
     },
     "execution_count": 11,
     "metadata": {},
     "output_type": "execute_result"
    }
   ],
   "source": [
    "next(iter(dsi.gt.values()))"
   ]
  },
  {
   "cell_type": "code",
   "execution_count": 12,
   "metadata": {
    "ExecuteTime": {
     "end_time": "2022-06-07T10:58:46.552962Z",
     "start_time": "2022-06-07T10:58:46.544063Z"
    }
   },
   "outputs": [
    {
     "data": {
      "text/plain": [
       "{'area': 18419,\n",
       " 'iscrowd': 1,\n",
       " 'image_id': 448263,\n",
       " 'bbox': [1, 0, 276, 122],\n",
       " 'id': 900100448263,\n",
       " 'category': 'person'}"
      ]
     },
     "execution_count": 12,
     "metadata": {},
     "output_type": "execute_result"
    }
   ],
   "source": [
    "next(a for a in dsi.gt.values() if a[\"iscrowd\"])"
   ]
  },
  {
   "cell_type": "markdown",
   "metadata": {},
   "source": [
    "### train2017 stats"
   ]
  },
  {
   "cell_type": "code",
   "execution_count": 2,
   "metadata": {
    "ExecuteTime": {
     "end_time": "2022-05-02T19:25:58.077460Z",
     "start_time": "2022-05-02T19:25:58.073651Z"
    }
   },
   "outputs": [],
   "source": [
    "dsi = DatasetIndex('coco_2017_train')"
   ]
  },
  {
   "cell_type": "code",
   "execution_count": 3,
   "metadata": {
    "ExecuteTime": {
     "end_time": "2022-05-02T19:26:11.303670Z",
     "start_time": "2022-05-02T19:25:58.080984Z"
    }
   },
   "outputs": [
    {
     "data": {
      "text/plain": [
       "860001"
      ]
     },
     "execution_count": 3,
     "metadata": {},
     "output_type": "execute_result"
    }
   ],
   "source": [
    "len(dsi.gt)"
   ]
  },
  {
   "cell_type": "code",
   "execution_count": 4,
   "metadata": {
    "ExecuteTime": {
     "end_time": "2022-05-02T19:26:11.557578Z",
     "start_time": "2022-05-02T19:26:11.305667Z"
    }
   },
   "outputs": [
    {
     "data": {
      "text/plain": [
       "117266"
      ]
     },
     "execution_count": 4,
     "metadata": {},
     "output_type": "execute_result"
    }
   ],
   "source": [
    "len(set(a[\"image_id\"] for a in dsi.gt.values()))"
   ]
  },
  {
   "cell_type": "code",
   "execution_count": 5,
   "metadata": {
    "ExecuteTime": {
     "end_time": "2022-05-02T19:26:11.642539Z",
     "start_time": "2022-05-02T19:26:11.559172Z"
    }
   },
   "outputs": [
    {
     "data": {
      "text/plain": [
       "10052"
      ]
     },
     "execution_count": 5,
     "metadata": {},
     "output_type": "execute_result"
    }
   ],
   "source": [
    "sum(a[\"iscrowd\"] for a in dsi.gt.values())"
   ]
  },
  {
   "cell_type": "code",
   "execution_count": 6,
   "metadata": {
    "ExecuteTime": {
     "end_time": "2022-05-02T19:26:11.729820Z",
     "start_time": "2022-05-02T19:26:11.643742Z"
    }
   },
   "outputs": [
    {
     "data": {
      "text/plain": [
       "849949"
      ]
     },
     "execution_count": 6,
     "metadata": {},
     "output_type": "execute_result"
    }
   ],
   "source": [
    "sum(a[\"iscrowd\"]==0 for a in dsi.gt.values())"
   ]
  },
  {
   "cell_type": "markdown",
   "metadata": {},
   "source": [
    "### Training details"
   ]
  },
  {
   "cell_type": "code",
   "execution_count": 7,
   "metadata": {
    "ExecuteTime": {
     "end_time": "2022-05-02T19:26:12.216939Z",
     "start_time": "2022-05-02T19:26:11.731372Z"
    }
   },
   "outputs": [],
   "source": [
    "from imports import *"
   ]
  },
  {
   "cell_type": "code",
   "execution_count": null,
   "metadata": {
    "ExecuteTime": {
     "end_time": "2022-05-02T19:26:12.322451Z",
     "start_time": "2022-05-02T19:26:12.218254Z"
    }
   },
   "outputs": [],
   "source": [
    "df = pd.DataFrame(\n",
    "    [{'model': key, **conf(key).SOLVER} for key in MODEL_ZOO_CONFIGS.keys()]\n",
    "    + [{'model': key+'x1', **conf(key, CONFIGS_1x).SOLVER} for key in CONFIGS_1x.keys()],\n",
    "    # columns=['model', 'LR_SCHEDULER_NAME']\n",
    ")"
   ]
  },
  {
   "cell_type": "code",
   "execution_count": 9,
   "metadata": {
    "ExecuteTime": {
     "end_time": "2022-05-02T19:26:12.356970Z",
     "start_time": "2022-05-02T19:26:12.324219Z"
    }
   },
   "outputs": [
    {
     "data": {
      "text/html": [
       "<div>\n",
       "<style scoped>\n",
       "    .dataframe tbody tr th:only-of-type {\n",
       "        vertical-align: middle;\n",
       "    }\n",
       "\n",
       "    .dataframe tbody tr th {\n",
       "        vertical-align: top;\n",
       "    }\n",
       "\n",
       "    .dataframe thead th {\n",
       "        text-align: right;\n",
       "    }\n",
       "</style>\n",
       "<table border=\"1\" class=\"dataframe\">\n",
       "  <thead>\n",
       "    <tr style=\"text-align: right;\">\n",
       "      <th></th>\n",
       "      <th>model</th>\n",
       "      <th>LR_SCHEDULER_NAME</th>\n",
       "      <th>MAX_ITER</th>\n",
       "      <th>BASE_LR</th>\n",
       "      <th>BASE_LR_END</th>\n",
       "      <th>MOMENTUM</th>\n",
       "      <th>NESTEROV</th>\n",
       "      <th>WEIGHT_DECAY</th>\n",
       "      <th>WEIGHT_DECAY_NORM</th>\n",
       "      <th>GAMMA</th>\n",
       "      <th>...</th>\n",
       "      <th>WARMUP_FACTOR</th>\n",
       "      <th>WARMUP_ITERS</th>\n",
       "      <th>WARMUP_METHOD</th>\n",
       "      <th>CHECKPOINT_PERIOD</th>\n",
       "      <th>IMS_PER_BATCH</th>\n",
       "      <th>REFERENCE_WORLD_SIZE</th>\n",
       "      <th>BIAS_LR_FACTOR</th>\n",
       "      <th>WEIGHT_DECAY_BIAS</th>\n",
       "      <th>CLIP_GRADIENTS</th>\n",
       "      <th>AMP</th>\n",
       "    </tr>\n",
       "  </thead>\n",
       "  <tbody>\n",
       "    <tr>\n",
       "      <th>0</th>\n",
       "      <td>R50_C4</td>\n",
       "      <td>WarmupMultiStepLR</td>\n",
       "      <td>270000</td>\n",
       "      <td>0.02</td>\n",
       "      <td>0.0</td>\n",
       "      <td>0.9</td>\n",
       "      <td>False</td>\n",
       "      <td>0.0001</td>\n",
       "      <td>0.0</td>\n",
       "      <td>0.1</td>\n",
       "      <td>...</td>\n",
       "      <td>0.001</td>\n",
       "      <td>1000</td>\n",
       "      <td>linear</td>\n",
       "      <td>5000</td>\n",
       "      <td>16</td>\n",
       "      <td>0</td>\n",
       "      <td>1.0</td>\n",
       "      <td>None</td>\n",
       "      <td>{'ENABLED': False, 'CLIP_TYPE': 'value', 'CLIP...</td>\n",
       "      <td>{'ENABLED': False}</td>\n",
       "    </tr>\n",
       "    <tr>\n",
       "      <th>1</th>\n",
       "      <td>R50_DC5</td>\n",
       "      <td>WarmupMultiStepLR</td>\n",
       "      <td>270000</td>\n",
       "      <td>0.02</td>\n",
       "      <td>0.0</td>\n",
       "      <td>0.9</td>\n",
       "      <td>False</td>\n",
       "      <td>0.0001</td>\n",
       "      <td>0.0</td>\n",
       "      <td>0.1</td>\n",
       "      <td>...</td>\n",
       "      <td>0.001</td>\n",
       "      <td>1000</td>\n",
       "      <td>linear</td>\n",
       "      <td>5000</td>\n",
       "      <td>16</td>\n",
       "      <td>0</td>\n",
       "      <td>1.0</td>\n",
       "      <td>None</td>\n",
       "      <td>{'ENABLED': False, 'CLIP_TYPE': 'value', 'CLIP...</td>\n",
       "      <td>{'ENABLED': False}</td>\n",
       "    </tr>\n",
       "    <tr>\n",
       "      <th>2</th>\n",
       "      <td>R50_FPN</td>\n",
       "      <td>WarmupMultiStepLR</td>\n",
       "      <td>270000</td>\n",
       "      <td>0.02</td>\n",
       "      <td>0.0</td>\n",
       "      <td>0.9</td>\n",
       "      <td>False</td>\n",
       "      <td>0.0001</td>\n",
       "      <td>0.0</td>\n",
       "      <td>0.1</td>\n",
       "      <td>...</td>\n",
       "      <td>0.001</td>\n",
       "      <td>1000</td>\n",
       "      <td>linear</td>\n",
       "      <td>5000</td>\n",
       "      <td>16</td>\n",
       "      <td>0</td>\n",
       "      <td>1.0</td>\n",
       "      <td>None</td>\n",
       "      <td>{'ENABLED': False, 'CLIP_TYPE': 'value', 'CLIP...</td>\n",
       "      <td>{'ENABLED': False}</td>\n",
       "    </tr>\n",
       "    <tr>\n",
       "      <th>3</th>\n",
       "      <td>R101_C4</td>\n",
       "      <td>WarmupMultiStepLR</td>\n",
       "      <td>270000</td>\n",
       "      <td>0.02</td>\n",
       "      <td>0.0</td>\n",
       "      <td>0.9</td>\n",
       "      <td>False</td>\n",
       "      <td>0.0001</td>\n",
       "      <td>0.0</td>\n",
       "      <td>0.1</td>\n",
       "      <td>...</td>\n",
       "      <td>0.001</td>\n",
       "      <td>1000</td>\n",
       "      <td>linear</td>\n",
       "      <td>5000</td>\n",
       "      <td>16</td>\n",
       "      <td>0</td>\n",
       "      <td>1.0</td>\n",
       "      <td>None</td>\n",
       "      <td>{'ENABLED': False, 'CLIP_TYPE': 'value', 'CLIP...</td>\n",
       "      <td>{'ENABLED': False}</td>\n",
       "    </tr>\n",
       "    <tr>\n",
       "      <th>4</th>\n",
       "      <td>R101_DC5</td>\n",
       "      <td>WarmupMultiStepLR</td>\n",
       "      <td>270000</td>\n",
       "      <td>0.02</td>\n",
       "      <td>0.0</td>\n",
       "      <td>0.9</td>\n",
       "      <td>False</td>\n",
       "      <td>0.0001</td>\n",
       "      <td>0.0</td>\n",
       "      <td>0.1</td>\n",
       "      <td>...</td>\n",
       "      <td>0.001</td>\n",
       "      <td>1000</td>\n",
       "      <td>linear</td>\n",
       "      <td>5000</td>\n",
       "      <td>16</td>\n",
       "      <td>0</td>\n",
       "      <td>1.0</td>\n",
       "      <td>None</td>\n",
       "      <td>{'ENABLED': False, 'CLIP_TYPE': 'value', 'CLIP...</td>\n",
       "      <td>{'ENABLED': False}</td>\n",
       "    </tr>\n",
       "    <tr>\n",
       "      <th>5</th>\n",
       "      <td>R101_FPN</td>\n",
       "      <td>WarmupMultiStepLR</td>\n",
       "      <td>270000</td>\n",
       "      <td>0.02</td>\n",
       "      <td>0.0</td>\n",
       "      <td>0.9</td>\n",
       "      <td>False</td>\n",
       "      <td>0.0001</td>\n",
       "      <td>0.0</td>\n",
       "      <td>0.1</td>\n",
       "      <td>...</td>\n",
       "      <td>0.001</td>\n",
       "      <td>1000</td>\n",
       "      <td>linear</td>\n",
       "      <td>5000</td>\n",
       "      <td>16</td>\n",
       "      <td>0</td>\n",
       "      <td>1.0</td>\n",
       "      <td>None</td>\n",
       "      <td>{'ENABLED': False, 'CLIP_TYPE': 'value', 'CLIP...</td>\n",
       "      <td>{'ENABLED': False}</td>\n",
       "    </tr>\n",
       "    <tr>\n",
       "      <th>6</th>\n",
       "      <td>X101</td>\n",
       "      <td>WarmupMultiStepLR</td>\n",
       "      <td>270000</td>\n",
       "      <td>0.02</td>\n",
       "      <td>0.0</td>\n",
       "      <td>0.9</td>\n",
       "      <td>False</td>\n",
       "      <td>0.0001</td>\n",
       "      <td>0.0</td>\n",
       "      <td>0.1</td>\n",
       "      <td>...</td>\n",
       "      <td>0.001</td>\n",
       "      <td>1000</td>\n",
       "      <td>linear</td>\n",
       "      <td>5000</td>\n",
       "      <td>16</td>\n",
       "      <td>0</td>\n",
       "      <td>1.0</td>\n",
       "      <td>None</td>\n",
       "      <td>{'ENABLED': False, 'CLIP_TYPE': 'value', 'CLIP...</td>\n",
       "      <td>{'ENABLED': False}</td>\n",
       "    </tr>\n",
       "    <tr>\n",
       "      <th>7</th>\n",
       "      <td>R50</td>\n",
       "      <td>WarmupMultiStepLR</td>\n",
       "      <td>270000</td>\n",
       "      <td>0.01</td>\n",
       "      <td>0.0</td>\n",
       "      <td>0.9</td>\n",
       "      <td>False</td>\n",
       "      <td>0.0001</td>\n",
       "      <td>0.0</td>\n",
       "      <td>0.1</td>\n",
       "      <td>...</td>\n",
       "      <td>0.001</td>\n",
       "      <td>1000</td>\n",
       "      <td>linear</td>\n",
       "      <td>5000</td>\n",
       "      <td>16</td>\n",
       "      <td>0</td>\n",
       "      <td>1.0</td>\n",
       "      <td>None</td>\n",
       "      <td>{'ENABLED': False, 'CLIP_TYPE': 'value', 'CLIP...</td>\n",
       "      <td>{'ENABLED': False}</td>\n",
       "    </tr>\n",
       "    <tr>\n",
       "      <th>8</th>\n",
       "      <td>R101</td>\n",
       "      <td>WarmupMultiStepLR</td>\n",
       "      <td>270000</td>\n",
       "      <td>0.01</td>\n",
       "      <td>0.0</td>\n",
       "      <td>0.9</td>\n",
       "      <td>False</td>\n",
       "      <td>0.0001</td>\n",
       "      <td>0.0</td>\n",
       "      <td>0.1</td>\n",
       "      <td>...</td>\n",
       "      <td>0.001</td>\n",
       "      <td>1000</td>\n",
       "      <td>linear</td>\n",
       "      <td>5000</td>\n",
       "      <td>16</td>\n",
       "      <td>0</td>\n",
       "      <td>1.0</td>\n",
       "      <td>None</td>\n",
       "      <td>{'ENABLED': False, 'CLIP_TYPE': 'value', 'CLIP...</td>\n",
       "      <td>{'ENABLED': False}</td>\n",
       "    </tr>\n",
       "    <tr>\n",
       "      <th>9</th>\n",
       "      <td>R50_C4x1</td>\n",
       "      <td>WarmupMultiStepLR</td>\n",
       "      <td>90000</td>\n",
       "      <td>0.02</td>\n",
       "      <td>0.0</td>\n",
       "      <td>0.9</td>\n",
       "      <td>False</td>\n",
       "      <td>0.0001</td>\n",
       "      <td>0.0</td>\n",
       "      <td>0.1</td>\n",
       "      <td>...</td>\n",
       "      <td>0.001</td>\n",
       "      <td>1000</td>\n",
       "      <td>linear</td>\n",
       "      <td>5000</td>\n",
       "      <td>16</td>\n",
       "      <td>0</td>\n",
       "      <td>1.0</td>\n",
       "      <td>None</td>\n",
       "      <td>{'ENABLED': False, 'CLIP_TYPE': 'value', 'CLIP...</td>\n",
       "      <td>{'ENABLED': False}</td>\n",
       "    </tr>\n",
       "    <tr>\n",
       "      <th>10</th>\n",
       "      <td>R50_DC5x1</td>\n",
       "      <td>WarmupMultiStepLR</td>\n",
       "      <td>90000</td>\n",
       "      <td>0.02</td>\n",
       "      <td>0.0</td>\n",
       "      <td>0.9</td>\n",
       "      <td>False</td>\n",
       "      <td>0.0001</td>\n",
       "      <td>0.0</td>\n",
       "      <td>0.1</td>\n",
       "      <td>...</td>\n",
       "      <td>0.001</td>\n",
       "      <td>1000</td>\n",
       "      <td>linear</td>\n",
       "      <td>5000</td>\n",
       "      <td>16</td>\n",
       "      <td>0</td>\n",
       "      <td>1.0</td>\n",
       "      <td>None</td>\n",
       "      <td>{'ENABLED': False, 'CLIP_TYPE': 'value', 'CLIP...</td>\n",
       "      <td>{'ENABLED': False}</td>\n",
       "    </tr>\n",
       "    <tr>\n",
       "      <th>11</th>\n",
       "      <td>R50_FPNx1</td>\n",
       "      <td>WarmupMultiStepLR</td>\n",
       "      <td>90000</td>\n",
       "      <td>0.02</td>\n",
       "      <td>0.0</td>\n",
       "      <td>0.9</td>\n",
       "      <td>False</td>\n",
       "      <td>0.0001</td>\n",
       "      <td>0.0</td>\n",
       "      <td>0.1</td>\n",
       "      <td>...</td>\n",
       "      <td>0.001</td>\n",
       "      <td>1000</td>\n",
       "      <td>linear</td>\n",
       "      <td>5000</td>\n",
       "      <td>16</td>\n",
       "      <td>0</td>\n",
       "      <td>1.0</td>\n",
       "      <td>None</td>\n",
       "      <td>{'ENABLED': False, 'CLIP_TYPE': 'value', 'CLIP...</td>\n",
       "      <td>{'ENABLED': False}</td>\n",
       "    </tr>\n",
       "    <tr>\n",
       "      <th>12</th>\n",
       "      <td>R50x1</td>\n",
       "      <td>WarmupMultiStepLR</td>\n",
       "      <td>90000</td>\n",
       "      <td>0.01</td>\n",
       "      <td>0.0</td>\n",
       "      <td>0.9</td>\n",
       "      <td>False</td>\n",
       "      <td>0.0001</td>\n",
       "      <td>0.0</td>\n",
       "      <td>0.1</td>\n",
       "      <td>...</td>\n",
       "      <td>0.001</td>\n",
       "      <td>1000</td>\n",
       "      <td>linear</td>\n",
       "      <td>5000</td>\n",
       "      <td>16</td>\n",
       "      <td>0</td>\n",
       "      <td>1.0</td>\n",
       "      <td>None</td>\n",
       "      <td>{'ENABLED': False, 'CLIP_TYPE': 'value', 'CLIP...</td>\n",
       "      <td>{'ENABLED': False}</td>\n",
       "    </tr>\n",
       "  </tbody>\n",
       "</table>\n",
       "<p>13 rows × 21 columns</p>\n",
       "</div>"
      ],
      "text/plain": [
       "        model  LR_SCHEDULER_NAME  MAX_ITER  BASE_LR  BASE_LR_END  MOMENTUM  \\\n",
       "0      R50_C4  WarmupMultiStepLR    270000     0.02          0.0       0.9   \n",
       "1     R50_DC5  WarmupMultiStepLR    270000     0.02          0.0       0.9   \n",
       "2     R50_FPN  WarmupMultiStepLR    270000     0.02          0.0       0.9   \n",
       "3     R101_C4  WarmupMultiStepLR    270000     0.02          0.0       0.9   \n",
       "4    R101_DC5  WarmupMultiStepLR    270000     0.02          0.0       0.9   \n",
       "5    R101_FPN  WarmupMultiStepLR    270000     0.02          0.0       0.9   \n",
       "6        X101  WarmupMultiStepLR    270000     0.02          0.0       0.9   \n",
       "7         R50  WarmupMultiStepLR    270000     0.01          0.0       0.9   \n",
       "8        R101  WarmupMultiStepLR    270000     0.01          0.0       0.9   \n",
       "9    R50_C4x1  WarmupMultiStepLR     90000     0.02          0.0       0.9   \n",
       "10  R50_DC5x1  WarmupMultiStepLR     90000     0.02          0.0       0.9   \n",
       "11  R50_FPNx1  WarmupMultiStepLR     90000     0.02          0.0       0.9   \n",
       "12      R50x1  WarmupMultiStepLR     90000     0.01          0.0       0.9   \n",
       "\n",
       "    NESTEROV  WEIGHT_DECAY  WEIGHT_DECAY_NORM  GAMMA  ... WARMUP_FACTOR  \\\n",
       "0      False        0.0001                0.0    0.1  ...         0.001   \n",
       "1      False        0.0001                0.0    0.1  ...         0.001   \n",
       "2      False        0.0001                0.0    0.1  ...         0.001   \n",
       "3      False        0.0001                0.0    0.1  ...         0.001   \n",
       "4      False        0.0001                0.0    0.1  ...         0.001   \n",
       "5      False        0.0001                0.0    0.1  ...         0.001   \n",
       "6      False        0.0001                0.0    0.1  ...         0.001   \n",
       "7      False        0.0001                0.0    0.1  ...         0.001   \n",
       "8      False        0.0001                0.0    0.1  ...         0.001   \n",
       "9      False        0.0001                0.0    0.1  ...         0.001   \n",
       "10     False        0.0001                0.0    0.1  ...         0.001   \n",
       "11     False        0.0001                0.0    0.1  ...         0.001   \n",
       "12     False        0.0001                0.0    0.1  ...         0.001   \n",
       "\n",
       "    WARMUP_ITERS  WARMUP_METHOD CHECKPOINT_PERIOD  IMS_PER_BATCH  \\\n",
       "0           1000         linear              5000             16   \n",
       "1           1000         linear              5000             16   \n",
       "2           1000         linear              5000             16   \n",
       "3           1000         linear              5000             16   \n",
       "4           1000         linear              5000             16   \n",
       "5           1000         linear              5000             16   \n",
       "6           1000         linear              5000             16   \n",
       "7           1000         linear              5000             16   \n",
       "8           1000         linear              5000             16   \n",
       "9           1000         linear              5000             16   \n",
       "10          1000         linear              5000             16   \n",
       "11          1000         linear              5000             16   \n",
       "12          1000         linear              5000             16   \n",
       "\n",
       "    REFERENCE_WORLD_SIZE  BIAS_LR_FACTOR  WEIGHT_DECAY_BIAS  \\\n",
       "0                      0             1.0               None   \n",
       "1                      0             1.0               None   \n",
       "2                      0             1.0               None   \n",
       "3                      0             1.0               None   \n",
       "4                      0             1.0               None   \n",
       "5                      0             1.0               None   \n",
       "6                      0             1.0               None   \n",
       "7                      0             1.0               None   \n",
       "8                      0             1.0               None   \n",
       "9                      0             1.0               None   \n",
       "10                     0             1.0               None   \n",
       "11                     0             1.0               None   \n",
       "12                     0             1.0               None   \n",
       "\n",
       "                                       CLIP_GRADIENTS                 AMP  \n",
       "0   {'ENABLED': False, 'CLIP_TYPE': 'value', 'CLIP...  {'ENABLED': False}  \n",
       "1   {'ENABLED': False, 'CLIP_TYPE': 'value', 'CLIP...  {'ENABLED': False}  \n",
       "2   {'ENABLED': False, 'CLIP_TYPE': 'value', 'CLIP...  {'ENABLED': False}  \n",
       "3   {'ENABLED': False, 'CLIP_TYPE': 'value', 'CLIP...  {'ENABLED': False}  \n",
       "4   {'ENABLED': False, 'CLIP_TYPE': 'value', 'CLIP...  {'ENABLED': False}  \n",
       "5   {'ENABLED': False, 'CLIP_TYPE': 'value', 'CLIP...  {'ENABLED': False}  \n",
       "6   {'ENABLED': False, 'CLIP_TYPE': 'value', 'CLIP...  {'ENABLED': False}  \n",
       "7   {'ENABLED': False, 'CLIP_TYPE': 'value', 'CLIP...  {'ENABLED': False}  \n",
       "8   {'ENABLED': False, 'CLIP_TYPE': 'value', 'CLIP...  {'ENABLED': False}  \n",
       "9   {'ENABLED': False, 'CLIP_TYPE': 'value', 'CLIP...  {'ENABLED': False}  \n",
       "10  {'ENABLED': False, 'CLIP_TYPE': 'value', 'CLIP...  {'ENABLED': False}  \n",
       "11  {'ENABLED': False, 'CLIP_TYPE': 'value', 'CLIP...  {'ENABLED': False}  \n",
       "12  {'ENABLED': False, 'CLIP_TYPE': 'value', 'CLIP...  {'ENABLED': False}  \n",
       "\n",
       "[13 rows x 21 columns]"
      ]
     },
     "execution_count": 9,
     "metadata": {},
     "output_type": "execute_result"
    }
   ],
   "source": [
    "df"
   ]
  }
 ],
 "metadata": {
  "kernelspec": {
   "display_name": "Python 3 (ipykernel)",
   "language": "python",
   "name": "python3"
  },
  "language_info": {
   "codemirror_mode": {
    "name": "ipython",
    "version": 3
   },
   "file_extension": ".py",
   "mimetype": "text/x-python",
   "name": "python",
   "nbconvert_exporter": "python",
   "pygments_lexer": "ipython3",
   "version": "3.10.4"
  },
  "toc": {
   "base_numbering": 1,
   "nav_menu": {},
   "number_sections": true,
   "sideBar": true,
   "skip_h1_title": false,
   "title_cell": "Table of Contents",
   "title_sidebar": "Contents",
   "toc_cell": false,
   "toc_position": {},
   "toc_section_display": true,
   "toc_window_display": false
  }
 },
 "nbformat": 4,
 "nbformat_minor": 4
}
