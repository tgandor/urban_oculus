{
 "cells": [
  {
   "cell_type": "code",
   "execution_count": 1,
   "id": "6a4acdd9",
   "metadata": {
    "ExecuteTime": {
     "end_time": "2022-06-07T08:45:44.027996Z",
     "start_time": "2022-06-07T08:45:43.527386Z"
    }
   },
   "outputs": [],
   "source": [
    "import pandas as pd\n",
    "\n",
    "def load_props(path):\n",
    "    temp = pd.read_json(path)\n",
    "    df = pd.json_normalize(temp.files)\n",
    "    return df"
   ]
  },
  {
   "cell_type": "code",
   "execution_count": 2,
   "id": "62a11581",
   "metadata": {
    "ExecuteTime": {
     "end_time": "2022-06-07T08:46:09.420761Z",
     "start_time": "2022-06-07T08:46:09.286479Z"
    }
   },
   "outputs": [],
   "source": [
    "# https://dataverse.harvard.edu/file.xhtml?fileId=5745840&version=2.1\n",
    "df = load_props('../results/rate_ssim_byQ/properties_001.json')"
   ]
  },
  {
   "cell_type": "code",
   "execution_count": 7,
   "id": "0aa6f7c5",
   "metadata": {
    "ExecuteTime": {
     "end_time": "2022-06-07T08:46:45.301462Z",
     "start_time": "2022-06-07T08:46:45.291978Z"
    }
   },
   "outputs": [
    {
     "data": {
      "text/plain": [
       "count    5000.000000\n",
       "mean      573.754800\n",
       "std        94.003704\n",
       "min       200.000000\n",
       "25%       500.000000\n",
       "50%       640.000000\n",
       "75%       640.000000\n",
       "max       640.000000\n",
       "Name: width, dtype: float64"
      ]
     },
     "execution_count": 7,
     "metadata": {},
     "output_type": "execute_result"
    }
   ],
   "source": [
    "df.width.describe()"
   ]
  },
  {
   "cell_type": "code",
   "execution_count": 8,
   "id": "a3b8ab23",
   "metadata": {
    "ExecuteTime": {
     "end_time": "2022-06-07T08:47:25.120867Z",
     "start_time": "2022-06-07T08:47:25.102177Z"
    }
   },
   "outputs": [
    {
     "data": {
      "text/plain": [
       "count    5000.000000\n",
       "mean      483.543000\n",
       "std        98.765315\n",
       "min       145.000000\n",
       "25%       426.000000\n",
       "50%       480.000000\n",
       "75%       517.750000\n",
       "max       640.000000\n",
       "Name: height, dtype: float64"
      ]
     },
     "execution_count": 8,
     "metadata": {},
     "output_type": "execute_result"
    }
   ],
   "source": [
    "df.height.describe()"
   ]
  },
  {
   "cell_type": "code",
   "execution_count": 16,
   "id": "085169d1",
   "metadata": {
    "ExecuteTime": {
     "end_time": "2022-06-07T08:58:52.208420Z",
     "start_time": "2022-06-07T08:58:52.201436Z"
    }
   },
   "outputs": [
    {
     "data": {
      "text/html": [
       "<div>\n",
       "<style scoped>\n",
       "    .dataframe tbody tr th:only-of-type {\n",
       "        vertical-align: middle;\n",
       "    }\n",
       "\n",
       "    .dataframe tbody tr th {\n",
       "        vertical-align: top;\n",
       "    }\n",
       "\n",
       "    .dataframe thead th {\n",
       "        text-align: right;\n",
       "    }\n",
       "</style>\n",
       "<table border=\"1\" class=\"dataframe\">\n",
       "  <thead>\n",
       "    <tr style=\"text-align: right;\">\n",
       "      <th></th>\n",
       "      <th>width</th>\n",
       "      <th>height</th>\n",
       "    </tr>\n",
       "  </thead>\n",
       "  <tbody>\n",
       "    <tr>\n",
       "      <th>2029</th>\n",
       "      <td>640</td>\n",
       "      <td>640</td>\n",
       "    </tr>\n",
       "    <tr>\n",
       "      <th>3682</th>\n",
       "      <td>640</td>\n",
       "      <td>640</td>\n",
       "    </tr>\n",
       "    <tr>\n",
       "      <th>4603</th>\n",
       "      <td>640</td>\n",
       "      <td>640</td>\n",
       "    </tr>\n",
       "    <tr>\n",
       "      <th>3643</th>\n",
       "      <td>640</td>\n",
       "      <td>640</td>\n",
       "    </tr>\n",
       "    <tr>\n",
       "      <th>294</th>\n",
       "      <td>640</td>\n",
       "      <td>640</td>\n",
       "    </tr>\n",
       "  </tbody>\n",
       "</table>\n",
       "</div>"
      ],
      "text/plain": [
       "      width  height\n",
       "2029    640     640\n",
       "3682    640     640\n",
       "4603    640     640\n",
       "3643    640     640\n",
       "294     640     640"
      ]
     },
     "execution_count": 16,
     "metadata": {},
     "output_type": "execute_result"
    }
   ],
   "source": [
    "df[['width', 'height', 'rawsize']].sort_values(by='rawsize')[['width', 'height']].tail()"
   ]
  },
  {
   "cell_type": "code",
   "execution_count": 19,
   "id": "e8177bf3",
   "metadata": {
    "ExecuteTime": {
     "end_time": "2022-06-07T09:00:06.150986Z",
     "start_time": "2022-06-07T09:00:06.137572Z"
    }
   },
   "outputs": [
    {
     "data": {
      "text/html": [
       "<div>\n",
       "<style scoped>\n",
       "    .dataframe tbody tr th:only-of-type {\n",
       "        vertical-align: middle;\n",
       "    }\n",
       "\n",
       "    .dataframe tbody tr th {\n",
       "        vertical-align: top;\n",
       "    }\n",
       "\n",
       "    .dataframe thead th {\n",
       "        text-align: right;\n",
       "    }\n",
       "</style>\n",
       "<table border=\"1\" class=\"dataframe\">\n",
       "  <thead>\n",
       "    <tr style=\"text-align: right;\">\n",
       "      <th></th>\n",
       "      <th>width</th>\n",
       "      <th>height</th>\n",
       "    </tr>\n",
       "  </thead>\n",
       "  <tbody>\n",
       "    <tr>\n",
       "      <th>2913</th>\n",
       "      <td>635</td>\n",
       "      <td>640</td>\n",
       "    </tr>\n",
       "    <tr>\n",
       "      <th>3204</th>\n",
       "      <td>640</td>\n",
       "      <td>637</td>\n",
       "    </tr>\n",
       "    <tr>\n",
       "      <th>1265</th>\n",
       "      <td>640</td>\n",
       "      <td>638</td>\n",
       "    </tr>\n",
       "    <tr>\n",
       "      <th>417</th>\n",
       "      <td>639</td>\n",
       "      <td>640</td>\n",
       "    </tr>\n",
       "    <tr>\n",
       "      <th>777</th>\n",
       "      <td>640</td>\n",
       "      <td>639</td>\n",
       "    </tr>\n",
       "  </tbody>\n",
       "</table>\n",
       "</div>"
      ],
      "text/plain": [
       "      width  height\n",
       "2913    635     640\n",
       "3204    640     637\n",
       "1265    640     638\n",
       "417     639     640\n",
       "777     640     639"
      ]
     },
     "execution_count": 19,
     "metadata": {},
     "output_type": "execute_result"
    }
   ],
   "source": [
    "df[['width', 'height', 'rawsize']].sort_values(by='rawsize')[['width', 'height']].drop_duplicates().tail()"
   ]
  },
  {
   "cell_type": "code",
   "execution_count": 18,
   "id": "a4b0cc5d",
   "metadata": {
    "ExecuteTime": {
     "end_time": "2022-06-07T08:59:03.124419Z",
     "start_time": "2022-06-07T08:59:03.115827Z"
    }
   },
   "outputs": [
    {
     "data": {
      "text/plain": [
       "width  height\n",
       "640    480       1061\n",
       "       427        606\n",
       "480    640        336\n",
       "500    375        240\n",
       "640    426        215\n",
       "dtype: int64"
      ]
     },
     "execution_count": 18,
     "metadata": {},
     "output_type": "execute_result"
    }
   ],
   "source": [
    "df[['width', 'height', 'rawsize']].sort_values(by='rawsize')[['width', 'height']].value_counts().head()"
   ]
  }
 ],
 "metadata": {
  "kernelspec": {
   "display_name": "Python 3 (ipykernel)",
   "language": "python",
   "name": "python3"
  },
  "language_info": {
   "codemirror_mode": {
    "name": "ipython",
    "version": 3
   },
   "file_extension": ".py",
   "mimetype": "text/x-python",
   "name": "python",
   "nbconvert_exporter": "python",
   "pygments_lexer": "ipython3",
   "version": "3.10.4"
  },
  "toc": {
   "base_numbering": 1,
   "nav_menu": {},
   "number_sections": true,
   "sideBar": true,
   "skip_h1_title": false,
   "title_cell": "Table of Contents",
   "title_sidebar": "Contents",
   "toc_cell": false,
   "toc_position": {},
   "toc_section_display": true,
   "toc_window_display": false
  }
 },
 "nbformat": 4,
 "nbformat_minor": 5
}
