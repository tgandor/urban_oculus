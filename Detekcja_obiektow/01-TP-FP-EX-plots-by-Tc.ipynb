{
 "cells": [
  {
   "cell_type": "code",
   "execution_count": 1,
   "id": "6a57f092",
   "metadata": {
    "ExecuteTime": {
     "end_time": "2022-08-31T04:26:09.626691Z",
     "start_time": "2022-08-31T04:26:06.176974Z"
    }
   },
   "outputs": [],
   "source": [
    "import sys; sys.path.append(\"..\")\n",
    "from evaldets.results import DetectionResults\n",
    "from evaldets.postprocess import *\n",
    "c = True"
   ]
  },
  {
   "cell_type": "code",
   "execution_count": 2,
   "id": "995473ce",
   "metadata": {
    "ExecuteTime": {
     "end_time": "2022-08-31T04:26:09.658489Z",
     "start_time": "2022-08-31T04:26:09.628679Z"
    }
   },
   "outputs": [],
   "source": [
    "s = Summary('~/reval_05/baseline_05/')\n",
    "i18n = {\"count\": \"# obiektów / $10^3$\", \"T_c\": \"$T_c$\"}\n",
    "order = 'R101 R101_C4 R101_DC5 R101_FPN X101 R50 R50_C4 R50_DC5 R50_FPN'.split()"
   ]
  },
  {
   "cell_type": "markdown",
   "id": "ae239514",
   "metadata": {},
   "source": [
    "# Non-stacked version "
   ]
  },
  {
   "cell_type": "code",
   "execution_count": 3,
   "id": "dda373c8",
   "metadata": {
    "ExecuteTime": {
     "end_time": "2022-08-31T04:26:13.268821Z",
     "start_time": "2022-08-31T04:26:09.659940Z"
    },
    "scrolled": false
   },
   "outputs": [
    {
     "name": "stdout",
     "output_type": "stream",
     "text": [
      "Saved 01-TP-FP-EX-plots-by-Tc-1-non-stacked.png\n"
     ]
    }
   ],
   "source": [
    "plt.rc(\"font\", size=14)\n",
    "fig, axes = get_figure_axes(sharey=True, h=8, w=18)\n",
    "s.plot_tc_tp_fp_ex(axes, order=order, min_Tc=0.15, xlim=(0.2, 1), legend=False, i18n=i18n)\n",
    "finish_plot(fig, axes)\n",
    "save_plot(fig, '01-TP-FP-EX-plots-by-Tc-1-non-stacked', c=c)"
   ]
  },
  {
   "cell_type": "markdown",
   "id": "e61c57c5",
   "metadata": {
    "ExecuteTime": {
     "end_time": "2021-07-06T09:48:07.906910Z",
     "start_time": "2021-07-06T09:48:07.899594Z"
    }
   },
   "source": [
    "# Stacked version\n",
    "The better one."
   ]
  },
  {
   "cell_type": "code",
   "execution_count": 4,
   "id": "24eb1b2d",
   "metadata": {
    "ExecuteTime": {
     "end_time": "2022-08-31T04:26:17.379010Z",
     "start_time": "2022-08-31T04:26:13.270961Z"
    },
    "scrolled": false
   },
   "outputs": [
    {
     "name": "stdout",
     "output_type": "stream",
     "text": [
      "Saved 01-TP-FP-EX-plots-by-Tc-2-stacked.png\n"
     ]
    }
   ],
   "source": [
    "plt.rc(\"font\", size=14)\n",
    "fig, axes = get_figure_axes(sharey=True, sharex=False, h=12, w=18)\n",
    "s.plot_tc_tp_fp_ex(axes, stack=True, min_Tc=0.2, xlim=(0.2, 1), i18n=i18n, order=order, legend=False, scale=0.001)\n",
    "finish_plot(fig, axes, legend_font=\"x-large\")\n",
    "save_plot(fig, '01-TP-FP-EX-plots-by-Tc-2-stacked', c=c)"
   ]
  }
 ],
 "metadata": {
  "kernelspec": {
   "display_name": "Python 3 (ipykernel)",
   "language": "python",
   "name": "python3"
  },
  "language_info": {
   "codemirror_mode": {
    "name": "ipython",
    "version": 3
   },
   "file_extension": ".py",
   "mimetype": "text/x-python",
   "name": "python",
   "nbconvert_exporter": "python",
   "pygments_lexer": "ipython3",
   "version": "3.9.13"
  },
  "toc": {
   "base_numbering": 1,
   "nav_menu": {},
   "number_sections": true,
   "sideBar": true,
   "skip_h1_title": false,
   "title_cell": "Table of Contents",
   "title_sidebar": "Contents",
   "toc_cell": false,
   "toc_position": {},
   "toc_section_display": true,
   "toc_window_display": false
  }
 },
 "nbformat": 4,
 "nbformat_minor": 5
}
