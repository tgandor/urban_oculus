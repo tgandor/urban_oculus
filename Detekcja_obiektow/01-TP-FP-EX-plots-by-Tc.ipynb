{
 "cells": [
  {
   "cell_type": "code",
   "execution_count": null,
   "id": "6a57f092",
   "metadata": {
    "ExecuteTime": {
     "end_time": "2022-04-26T12:39:10.497443Z",
     "start_time": "2022-04-26T12:39:08.997373Z"
    }
   },
   "outputs": [],
   "source": [
    "import sys; sys.path.append(\"..\")\n",
    "from evaldets.results import DetectionResults\n",
    "from evaldets.postprocess import *"
   ]
  },
  {
   "cell_type": "code",
   "execution_count": null,
   "id": "995473ce",
   "metadata": {
    "ExecuteTime": {
     "end_time": "2022-04-26T12:39:10.503072Z",
     "start_time": "2022-04-26T12:39:10.499194Z"
    }
   },
   "outputs": [],
   "source": [
    "s = Summary('~/reval_05/baseline_05/')\n",
    "i18n = {\"count\": \"liczba obiektów\"}\n",
    "order = 'R101 R101_C4 R101_DC5 R101_FPN X101 R50 R50_C4 R50_DC5 R50_FPN'.split()"
   ]
  },
  {
   "cell_type": "markdown",
   "id": "ae239514",
   "metadata": {},
   "source": [
    "# Non-stacked version "
   ]
  },
  {
   "cell_type": "code",
   "execution_count": null,
   "id": "dda373c8",
   "metadata": {
    "ExecuteTime": {
     "end_time": "2022-04-26T12:39:13.681326Z",
     "start_time": "2022-04-26T12:39:10.504621Z"
    },
    "scrolled": false
   },
   "outputs": [],
   "source": [
    "fig, axes = get_figure_axes(sharey=True)\n",
    "s.plot_tc_tp_fp_ex(axes, order=order, min_Tc=0.15, legend=False, i18n=i18n)\n",
    "finish_plot(fig, axes)\n",
    "save_plot(fig, '01-TP-FP-EX-plots-by-Tc-1-non-stacked')"
   ]
  },
  {
   "cell_type": "markdown",
   "id": "e61c57c5",
   "metadata": {
    "ExecuteTime": {
     "end_time": "2021-07-06T09:48:07.906910Z",
     "start_time": "2021-07-06T09:48:07.899594Z"
    }
   },
   "source": [
    "# Stacked version\n",
    "The better one."
   ]
  },
  {
   "cell_type": "code",
   "execution_count": null,
   "id": "24eb1b2d",
   "metadata": {
    "ExecuteTime": {
     "end_time": "2022-04-26T12:39:16.559921Z",
     "start_time": "2022-04-26T12:39:13.682935Z"
    },
    "scrolled": false
   },
   "outputs": [],
   "source": [
    "fig, axes = get_figure_axes(sharey=True)\n",
    "s.plot_tc_tp_fp_ex(axes, stack=True, min_Tc=0.2, i18n=i18n, order=order, legend=False)\n",
    "finish_plot(fig, axes)\n",
    "save_plot(fig, '01-TP-FP-EX-plots-by-Tc-2-stacked')"
   ]
  }
 ],
 "metadata": {
  "kernelspec": {
   "display_name": "Python 3 (ipykernel)",
   "language": "python",
   "name": "python3"
  },
  "language_info": {
   "codemirror_mode": {
    "name": "ipython",
    "version": 3
   },
   "file_extension": ".py",
   "mimetype": "text/x-python",
   "name": "python",
   "nbconvert_exporter": "python",
   "pygments_lexer": "ipython3",
   "version": "3.10.4"
  },
  "toc": {
   "base_numbering": 1,
   "nav_menu": {},
   "number_sections": true,
   "sideBar": true,
   "skip_h1_title": false,
   "title_cell": "Table of Contents",
   "title_sidebar": "Contents",
   "toc_cell": false,
   "toc_position": {},
   "toc_section_display": true,
   "toc_window_display": false
  }
 },
 "nbformat": 4,
 "nbformat_minor": 5
}
