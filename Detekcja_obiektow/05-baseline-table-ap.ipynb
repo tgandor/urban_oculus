{
 "cells": [
  {
   "cell_type": "code",
   "execution_count": null,
   "id": "4d56eda0",
   "metadata": {
    "ExecuteTime": {
     "end_time": "2022-06-05T18:42:01.671901Z",
     "start_time": "2022-06-05T18:42:00.170268Z"
    }
   },
   "outputs": [],
   "source": [
    "import os, sys; sys.path.append(\"..\")\n",
    "from evaldets.postprocess import baseline_table_ap_OO"
   ]
  },
  {
   "cell_type": "code",
   "execution_count": 2,
   "id": "90654e08",
   "metadata": {
    "ExecuteTime": {
     "end_time": "2022-06-05T18:42:01.671901Z",
     "start_time": "2022-06-05T18:42:00.170268Z"
    }
   },
   "outputs": [
    {
     "name": "stdout",
     "output_type": "stream",
     "text": [
      "\\begin{tabular}{lcccccc} \\toprule\n",
      "Model & AP & AP\\tsub{50} & AP\\tsub{75} & AP\\tsub{l} & AP\\tsub{m} & AP\\tsub{s} \\\\ \\midrule\n",
      "R101 & 33.6 & 47.0 & 37.2 & 46.3 & 37.5 & 15.3 \\\\\n",
      "R101\\_C4 & \\underline{38.5} & 56.3 & 41.9 & \\textbf{53.6} & 42.8 & 19.1 \\\\\n",
      "R101\\_DC5 & 38.3 & \\underline{56.8} & 42.0 & 52.1 & \\underline{42.8} & 19.4 \\\\\n",
      "R101\\_FPN & 38.4 & 55.5 & \\underline{42.6} & 51.2 & 42.1 & \\underline{20.8} \\\\\n",
      "R50 & 31.6 & 44.3 & 35.2 & 44.3 & 34.8 & 14.1 \\\\\n",
      "R50\\_C4 & 35.9 & 53.6 & 39.3 & 51.0 & 39.8 & 17.6 \\\\\n",
      "R50\\_DC5 & 36.8 & 55.7 & 40.5 & 50.5 & 41.4 & 18.2 \\\\\n",
      "R50\\_FPN & 36.7 & 54.1 & 40.7 & 49.4 & 40.1 & 19.1 \\\\\n",
      "X101 & \\textbf{39.6} & \\textbf{57.0} & \\textbf{43.9} & \\underline{52.1} & \\textbf{42.9} & \\textbf{22.6} \\\\\n",
      "\\bottomrule\n",
      "\\end{tabular}\n"
     ]
    }
   ],
   "source": [
    "baseline_table_ap_OO(os.path.expanduser(\"~/reval_50/baseline_50/\"), True)"
   ]
  },
  {
   "cell_type": "code",
   "execution_count": 3,
   "id": "3c7ea1d2",
   "metadata": {
    "ExecuteTime": {
     "end_time": "2022-06-05T18:45:14.149777Z",
     "start_time": "2022-06-05T18:45:14.127015Z"
    }
   },
   "outputs": [
    {
     "name": "stdout",
     "output_type": "stream",
     "text": [
      "\\begin{tabular}{lcccccc} \\toprule\n",
      "Model & AP & AP\\tsub{50} & AP\\tsub{75} & AP\\tsub{l} & AP\\tsub{m} & AP\\tsub{s} \\\\ \\midrule\n",
      "R101 & 40.4 & 60.3 & 43.2 & 52.2 & 44.3 & 24.0 \\\\\n",
      "R101\\_C4 & 41.1 & 61.4 & 44.1 & \\textbf{55.9} & 45.5 & 22.2 \\\\\n",
      "R101\\_DC5 & 40.6 & 61.7 & 43.9 & 54.1 & 45.1 & 22.9 \\\\\n",
      "R101\\_FPN & \\underline{42.0} & \\underline{62.5} & \\underline{45.9} & 54.6 & \\underline{45.6} & \\underline{25.2} \\\\\n",
      "R50 & 38.7 & 58.0 & 41.5 & 50.3 & 42.3 & 23.3 \\\\\n",
      "R50\\_C4 & 38.4 & 58.7 & 41.3 & 53.1 & 42.7 & 20.7 \\\\\n",
      "R50\\_DC5 & 39.1 & 60.5 & 42.3 & 52.6 & 43.5 & 21.4 \\\\\n",
      "R50\\_FPN & 40.2 & 61.0 & 43.8 & 52.0 & 43.5 & 24.2 \\\\\n",
      "X101 & \\textbf{43.0} & \\textbf{63.7} & \\textbf{46.9} & \\underline{54.9} & \\textbf{46.1} & \\textbf{27.2} \\\\\n",
      "\\bottomrule\n",
      "\\end{tabular}\n"
     ]
    }
   ],
   "source": [
    "baseline_table_ap_OO(os.path.expanduser(\"~/reval_05/baseline_05/\"))"
   ]
  }
 ],
 "metadata": {
  "kernelspec": {
   "display_name": "Python 3 (ipykernel)",
   "language": "python",
   "name": "python3"
  },
  "language_info": {
   "codemirror_mode": {
    "name": "ipython",
    "version": 3
   },
   "file_extension": ".py",
   "mimetype": "text/x-python",
   "name": "python",
   "nbconvert_exporter": "python",
   "pygments_lexer": "ipython3",
   "version": "3.10.4"
  },
  "toc": {
   "base_numbering": 1,
   "nav_menu": {},
   "number_sections": true,
   "sideBar": true,
   "skip_h1_title": false,
   "title_cell": "Table of Contents",
   "title_sidebar": "Contents",
   "toc_cell": false,
   "toc_position": {},
   "toc_section_display": true,
   "toc_window_display": false
  }
 },
 "nbformat": 4,
 "nbformat_minor": 5
}
