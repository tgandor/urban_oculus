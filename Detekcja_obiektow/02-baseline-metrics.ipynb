{
 "cells": [
  {
   "cell_type": "code",
   "execution_count": 1,
   "id": "4dd84e98",
   "metadata": {
    "ExecuteTime": {
     "end_time": "2022-06-04T15:08:18.157387Z",
     "start_time": "2022-06-04T15:08:16.668991Z"
    }
   },
   "outputs": [],
   "source": [
    "import sys; sys.path.append(\"..\")\n",
    "from evaldets.results import *\n",
    "from evaldets.postprocess import *\n",
    "from uo.utils import *"
   ]
  },
  {
   "cell_type": "code",
   "execution_count": 2,
   "id": "e39d21a6",
   "metadata": {
    "ExecuteTime": {
     "end_time": "2022-06-04T15:08:18.163275Z",
     "start_time": "2022-06-04T15:08:18.159478Z"
    }
   },
   "outputs": [],
   "source": [
    "order = 'R101 R101_C4 R101_DC5 R101_FPN X101 R50 R50_C4 R50_DC5 R50_FPN'.split()\n",
    "i18n = {'value': 'wartość miary', \"T_c\": \"próg ufności (Tc)\"}\n",
    "s = Summary('~/reval_05/baseline_05')"
   ]
  },
  {
   "cell_type": "code",
   "execution_count": 3,
   "id": "c46837ed",
   "metadata": {
    "ExecuteTime": {
     "end_time": "2022-06-04T15:08:20.358585Z",
     "start_time": "2022-06-04T15:08:18.165847Z"
    },
    "scrolled": false
   },
   "outputs": [
    {
     "name": "stdout",
     "output_type": "stream",
     "text": [
      "Saved 02-baseline-metrics-PRF1_Tc.png\n"
     ]
    }
   ],
   "source": [
    "fig, axes = get_figure_axes()\n",
    "s.plot_tc_summaries(axes, xlim=(0, 1), order=order, i18n=i18n, legend=False)\n",
    "fig.tight_layout()\n",
    "axes[1, 4].axis('off')\n",
    "axes[1, 4].legend(*axes[0, 0].get_legend_handles_labels(), loc='lower right', fontsize='x-large', borderpad=2);\n",
    "\n",
    "save_plot(fig, \"02-baseline-metrics-PRF1_Tc\", c=1, p=0)"
   ]
  }
 ],
 "metadata": {
  "kernelspec": {
   "display_name": "Python 3 (ipykernel)",
   "language": "python",
   "name": "python3"
  },
  "language_info": {
   "codemirror_mode": {
    "name": "ipython",
    "version": 3
   },
   "file_extension": ".py",
   "mimetype": "text/x-python",
   "name": "python",
   "nbconvert_exporter": "python",
   "pygments_lexer": "ipython3",
   "version": "3.10.4"
  },
  "toc": {
   "base_numbering": 1,
   "nav_menu": {},
   "number_sections": true,
   "sideBar": true,
   "skip_h1_title": false,
   "title_cell": "Table of Contents",
   "title_sidebar": "Contents",
   "toc_cell": false,
   "toc_position": {},
   "toc_section_display": true,
   "toc_window_display": false
  }
 },
 "nbformat": 4,
 "nbformat_minor": 5
}
