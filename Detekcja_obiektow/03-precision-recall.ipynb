{
 "cells": [
  {
   "cell_type": "code",
   "execution_count": 1,
   "metadata": {
    "ExecuteTime": {
     "end_time": "2022-06-02T23:00:38.261307Z",
     "start_time": "2022-06-02T23:00:36.679592Z"
    }
   },
   "outputs": [],
   "source": [
    "import sys; sys.path.append(\"..\")\n",
    "import pandas as pd\n",
    "import numpy as np\n",
    "from matplotlib import pyplot as plt\n",
    "from matplotlib.patches import Rectangle\n",
    "from evaldets.metrics import resample_pr_curve\n",
    "from evaldets.results import *\n",
    "from evaldets.postprocess import save_plot\n",
    "# plt.rcParams['figure.figsize'] = (6, 6)\n",
    "c=1"
   ]
  },
  {
   "cell_type": "code",
   "execution_count": 2,
   "metadata": {
    "ExecuteTime": {
     "end_time": "2022-06-02T23:00:40.235997Z",
     "start_time": "2022-06-02T23:00:38.263445Z"
    }
   },
   "outputs": [
    {
     "name": "stdout",
     "output_type": "stream",
     "text": [
      "loading annotations into memory...\n",
      "Done (t=0.50s)\n",
      "creating index...\n",
      "index created!\n"
     ]
    }
   ],
   "source": [
    "dr = DetectionResults('~/reval_05/baseline_05/evaluator_dump_R50_101/', area_rng=None, iou_thresh=None, debug=0)"
   ]
  },
  {
   "cell_type": "code",
   "execution_count": 3,
   "metadata": {
    "ExecuteTime": {
     "end_time": "2022-06-02T23:00:41.107626Z",
     "start_time": "2022-06-02T23:00:40.237872Z"
    }
   },
   "outputs": [],
   "source": [
    "nGT = dr.num_gt_class('person')\n",
    "dets = dr.detections_by_class('person')"
   ]
  },
  {
   "cell_type": "code",
   "execution_count": 4,
   "metadata": {
    "ExecuteTime": {
     "end_time": "2022-06-02T23:00:41.187394Z",
     "start_time": "2022-06-02T23:00:41.109904Z"
    }
   },
   "outputs": [
    {
     "data": {
      "text/plain": [
       "73656"
      ]
     },
     "execution_count": 4,
     "metadata": {},
     "output_type": "execute_result"
    }
   ],
   "source": [
    "TP = dr._tp_sum('person', 0.5)\n",
    "FP = dr._fp_sum('person', 0.5)\n",
    "TPR = TP / nGT\n",
    "PPV = TP / (TP + FP)\n",
    "PPVi = interpolated_PPV(PPV)\n",
    "len(PPV)"
   ]
  },
  {
   "cell_type": "code",
   "execution_count": 5,
   "metadata": {
    "ExecuteTime": {
     "end_time": "2022-06-02T23:00:41.192670Z",
     "start_time": "2022-06-02T23:00:41.189218Z"
    }
   },
   "outputs": [],
   "source": [
    "# see COCOeval.accumulate()\n",
    "recThrs, q = resample_pr_curve(TPR, PPVi, np.linspace(0.0, 1.00, 11, endpoint=True))"
   ]
  },
  {
   "cell_type": "markdown",
   "metadata": {},
   "source": [
    "### Precision vs monotonic precision"
   ]
  },
  {
   "cell_type": "code",
   "execution_count": 6,
   "metadata": {
    "ExecuteTime": {
     "end_time": "2022-06-02T23:00:41.944014Z",
     "start_time": "2022-06-02T23:00:41.194426Z"
    }
   },
   "outputs": [
    {
     "name": "stdout",
     "output_type": "stream",
     "text": [
      "Saved 03-precision-recall-1-PPV_vs_PPVi.png\n"
     ]
    }
   ],
   "source": [
    "CHUNK = 8000\n",
    "fig, axes = plt.subplots(1, 3, figsize=(9, 3))\n",
    "\n",
    "axes = iter(axes.ravel())\n",
    "ax2 = next(axes)\n",
    "ax2.plot(PPV[:CHUNK], label=\"PPV(k)\");\n",
    "ax2.plot(PPVi[:CHUNK], label=\"PPV'(k)\");\n",
    "ax2.set_title('A')\n",
    "ax2.set_ylabel(\"precyzja\")\n",
    "ax2.set_xlabel(\"k (ranga ufności)\")\n",
    "# ax2.legend();\n",
    "ax2.add_patch(Rectangle((0, PPV[:1500].min()), 1500, 1-PPV[:1500].min(), fill=False))\n",
    "\n",
    "\n",
    "ax2 = next(axes)\n",
    "ax2.plot(PPV[:1500], label=\"PPV(k)\");\n",
    "ax2.plot(PPVi[:1500], label=\"PPV'(k)\");\n",
    "ax2.set_title('B')\n",
    "ax2.set_ylabel(\"precyzja\")\n",
    "ax2.set_xlabel(\"k (ranga ufności)\")\n",
    "# ax2.legend();\n",
    "\n",
    "ax3 = next(axes)\n",
    "ax3.axis('off')\n",
    "ax3.legend(*ax2.get_legend_handles_labels(), loc='lower right', fontsize='x-large', borderpad=2)\n",
    "fig.tight_layout()\n",
    "save_plot(fig, \"03-precision-recall-1-PPV_vs_PPVi\", p=0, c=c)"
   ]
  },
  {
   "cell_type": "markdown",
   "metadata": {},
   "source": [
    "### PR-curve and AveP / AP"
   ]
  },
  {
   "cell_type": "code",
   "execution_count": 8,
   "metadata": {
    "ExecuteTime": {
     "end_time": "2022-06-02T23:01:15.030130Z",
     "start_time": "2022-06-02T23:01:13.433514Z"
    }
   },
   "outputs": [
    {
     "name": "stdout",
     "output_type": "stream",
     "text": [
      "Saved 03-precision-recall-2-PR_AP_examples.png\n",
      "  and 03-precision-recall-2-PR_AP_examples.pdf\n"
     ]
    }
   ],
   "source": [
    "fig, axes = plt.subplots(1, 4, figsize=(12, 3))\n",
    "\n",
    "axes = iter(axes.ravel())\n",
    "\n",
    "ax2 = next(axes)\n",
    "ax2.plot(TPR, label=\"TPR(k)\");\n",
    "ax2.plot(PPVi, label=\"PPV'(k)\");\n",
    "ax2.set_title('A')\n",
    "ax2.set_ylabel(\"PPV / TPR\")\n",
    "ax2.set_xlabel(\"k (ranga)\")\n",
    "ax2.legend();\n",
    "\n",
    "ax2 = next(axes)\n",
    "ax2.plot(TPR, PPVi, label=\"PPV'(TPR)\");\n",
    "ax2.set_title('B')\n",
    "ax2.set_ylabel(\"PPV (precyzja)\")\n",
    "ax2.set_xlabel(\"TPR (czułość)\")\n",
    "ax2.legend()\n",
    "\n",
    "ax2 = next(axes)\n",
    "ax2.plot(TPR, PPVi, label=\"PPV'(TPR)\");\n",
    "ax2.set_title('C')\n",
    "ax2.set_ylabel(\"PPV'\")\n",
    "ax2.set_xlabel(\"TPR (ciągła)\")\n",
    "ax2.set_xlim([0, 1])\n",
    "ax2.set_ylim([0, 1])\n",
    "ax2.fill_between(TPR, PPVi, hatch='//', alpha=0.3, label=\"AP = całk(PPV')d(TPR)\")\n",
    "ax2.legend()\n",
    "\n",
    "ax2 = next(axes)\n",
    "ax2.scatter(recThrs, q, label=\"PPV'_i\");\n",
    "ax2.axhline(np.mean(q), label=\"AP = śr(PPV'_i)\")\n",
    "ax2.set_title('D')\n",
    "ax2.set_ylabel(\"PPV'\")\n",
    "ax2.set_xlabel(\"TPR (progi)\")\n",
    "ax2.set_xlim([-0.01, 1.01])\n",
    "ax2.set_ylim([-0.01, 1.01])\n",
    "ax2.legend(loc='lower left')\n",
    "\n",
    "fig.tight_layout()\n",
    "save_plot(fig, \"03-precision-recall-2-PR_AP_examples\", p=1, c=c)"
   ]
  }
 ],
 "metadata": {
  "kernelspec": {
   "display_name": "Python 3 (ipykernel)",
   "language": "python",
   "name": "python3"
  },
  "language_info": {
   "codemirror_mode": {
    "name": "ipython",
    "version": 3
   },
   "file_extension": ".py",
   "mimetype": "text/x-python",
   "name": "python",
   "nbconvert_exporter": "python",
   "pygments_lexer": "ipython3",
   "version": "3.10.4"
  },
  "toc": {
   "base_numbering": 1,
   "nav_menu": {},
   "number_sections": true,
   "sideBar": true,
   "skip_h1_title": false,
   "title_cell": "Table of Contents",
   "title_sidebar": "Contents",
   "toc_cell": false,
   "toc_position": {},
   "toc_section_display": true,
   "toc_window_display": false
  }
 },
 "nbformat": 4,
 "nbformat_minor": 4
}
