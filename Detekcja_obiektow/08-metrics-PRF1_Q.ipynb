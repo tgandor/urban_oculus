{
 "cells": [
  {
   "cell_type": "code",
   "execution_count": 1,
   "id": "4dd84e98",
   "metadata": {
    "ExecuteTime": {
     "end_time": "2022-06-16T17:16:30.977565Z",
     "start_time": "2022-06-16T17:16:29.134102Z"
    }
   },
   "outputs": [],
   "source": [
    "import sys; sys.path.append(\"..\")\n",
    "from evaldets.results import *\n",
    "from evaldets.postprocess import *"
   ]
  },
  {
   "cell_type": "code",
   "execution_count": 2,
   "id": "ebad5a6f",
   "metadata": {
    "ExecuteTime": {
     "end_time": "2022-06-16T17:16:30.983624Z",
     "start_time": "2022-06-16T17:16:30.979629Z"
    }
   },
   "outputs": [],
   "source": [
    "i18n = {'value': 'wartość miary', \"quality\": \"jakość JPEG\"}\n",
    "order = 'R101 R101_C4 R101_DC5 R101_FPN X101 R50 R50_C4 R50_DC5 R50_FPN'.split()\n",
    "s = GrandSummary('~/reval_50/')"
   ]
  },
  {
   "cell_type": "code",
   "execution_count": 3,
   "id": "0f211bfd",
   "metadata": {
    "ExecuteTime": {
     "end_time": "2022-06-16T17:16:33.326710Z",
     "start_time": "2022-06-16T17:16:30.985819Z"
    }
   },
   "outputs": [
    {
     "name": "stdout",
     "output_type": "stream",
     "text": [
      "Saved 08-metrics-PRF1_Q.png\n"
     ]
    }
   ],
   "source": [
    "# about 1h with empty caches\n",
    "fig, axes = get_figure_axes()\n",
    "s.plot_q_summaries(axes, order=order, i18n=i18n, legend=False)\n",
    "finish_plot(fig, axes)\n",
    "# fig.savefig('all_PRF1_Q.pdf')\n",
    "save_plot(fig, \"08-metrics-PRF1_Q\", c=1, p=0)"
   ]
  }
 ],
 "metadata": {
  "kernelspec": {
   "display_name": "Python 3 (ipykernel)",
   "language": "python",
   "name": "python3"
  },
  "language_info": {
   "codemirror_mode": {
    "name": "ipython",
    "version": 3
   },
   "file_extension": ".py",
   "mimetype": "text/x-python",
   "name": "python",
   "nbconvert_exporter": "python",
   "pygments_lexer": "ipython3",
   "version": "3.10.5"
  },
  "toc": {
   "base_numbering": 1,
   "nav_menu": {},
   "number_sections": true,
   "sideBar": true,
   "skip_h1_title": false,
   "title_cell": "Table of Contents",
   "title_sidebar": "Contents",
   "toc_cell": false,
   "toc_position": {},
   "toc_section_display": true,
   "toc_window_display": false
  }
 },
 "nbformat": 4,
 "nbformat_minor": 5
}
