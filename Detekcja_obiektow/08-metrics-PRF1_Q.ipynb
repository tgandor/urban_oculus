{
 "cells": [
  {
   "cell_type": "code",
   "execution_count": 1,
   "id": "4dd84e98",
   "metadata": {
    "ExecuteTime": {
     "end_time": "2022-06-17T22:58:29.389189Z",
     "start_time": "2022-06-17T22:58:27.804599Z"
    }
   },
   "outputs": [],
   "source": [
    "import sys; sys.path.append(\"..\")\n",
    "from evaldets.results import *\n",
    "from evaldets.postprocess import *"
   ]
  },
  {
   "cell_type": "code",
   "execution_count": 2,
   "id": "ebad5a6f",
   "metadata": {
    "ExecuteTime": {
     "end_time": "2022-06-17T22:58:29.394957Z",
     "start_time": "2022-06-17T22:58:29.391452Z"
    }
   },
   "outputs": [],
   "source": [
    "i18n = {'value': 'wartość miary', \"quality\": \"jakość JPEG\"}\n",
    "s = GrandSummary('~/reval_50/')"
   ]
  },
  {
   "cell_type": "code",
   "execution_count": 3,
   "id": "0f211bfd",
   "metadata": {
    "ExecuteTime": {
     "end_time": "2022-06-17T22:58:31.572403Z",
     "start_time": "2022-06-17T22:58:29.397024Z"
    }
   },
   "outputs": [
    {
     "name": "stdout",
     "output_type": "stream",
     "text": [
      "Saved 08-metrics-PRF1_Q.png\n"
     ]
    }
   ],
   "source": [
    "# about 1h with empty caches\n",
    "fig, axes = get_figure_axes(sharey=True)\n",
    "s.plot_q_summaries(axes, order=DEFAULT_ORDER, i18n=i18n, legend=False)\n",
    "finish_plot(fig, axes)\n",
    "save_plot(fig, \"08-metrics-PRF1_Q\", c=1, p=0)"
   ]
  }
 ],
 "metadata": {
  "kernelspec": {
   "display_name": "Python 3 (ipykernel)",
   "language": "python",
   "name": "python3"
  },
  "language_info": {
   "codemirror_mode": {
    "name": "ipython",
    "version": 3
   },
   "file_extension": ".py",
   "mimetype": "text/x-python",
   "name": "python",
   "nbconvert_exporter": "python",
   "pygments_lexer": "ipython3",
   "version": "3.10.5"
  },
  "toc": {
   "base_numbering": 1,
   "nav_menu": {},
   "number_sections": true,
   "sideBar": true,
   "skip_h1_title": false,
   "title_cell": "Table of Contents",
   "title_sidebar": "Contents",
   "toc_cell": false,
   "toc_position": {},
   "toc_section_display": true,
   "toc_window_display": false
  }
 },
 "nbformat": 4,
 "nbformat_minor": 5
}
