{
 "cells": [
  {
   "cell_type": "code",
   "execution_count": 1,
   "id": "4dd84e98",
   "metadata": {
    "ExecuteTime": {
     "end_time": "2022-07-05T12:04:40.612560Z",
     "start_time": "2022-07-05T12:04:38.887233Z"
    }
   },
   "outputs": [],
   "source": [
    "import sys; sys.path.append(\"..\")\n",
    "from evaldets.results import *\n",
    "from evaldets.postprocess import *"
   ]
  },
  {
   "cell_type": "code",
   "execution_count": 2,
   "id": "ebad5a6f",
   "metadata": {
    "ExecuteTime": {
     "end_time": "2022-07-05T12:04:40.617829Z",
     "start_time": "2022-07-05T12:04:40.614581Z"
    }
   },
   "outputs": [],
   "source": [
    "i18n = {'value': 'wartość miary', \"quality\": \"jakość JPEG\"}\n",
    "s = GrandSummary('~/reval_50/')"
   ]
  },
  {
   "cell_type": "code",
   "execution_count": 3,
   "id": "0f211bfd",
   "metadata": {
    "ExecuteTime": {
     "end_time": "2022-07-05T12:04:42.912356Z",
     "start_time": "2022-07-05T12:04:40.619767Z"
    }
   },
   "outputs": [
    {
     "name": "stdout",
     "output_type": "stream",
     "text": [
      "Saved 08-metrics-PRF1_Q.png\n"
     ]
    }
   ],
   "source": [
    "# about 1h 53m with empty caches\n",
    "fig, axes = get_figure_axes(sharey=True)\n",
    "s.plot_q_summaries(axes, order=DEFAULT_ORDER, i18n=i18n, legend=False)\n",
    "finish_plot(fig, axes)\n",
    "save_plot(fig, \"08-metrics-PRF1_Q\", c=1, p=0)"
   ]
  },
  {
   "cell_type": "code",
   "execution_count": 4,
   "id": "b412b1cd",
   "metadata": {
    "ExecuteTime": {
     "end_time": "2022-07-05T12:04:42.918405Z",
     "start_time": "2022-07-05T12:04:42.914728Z"
    }
   },
   "outputs": [],
   "source": [
    "s = GrandSummary('~/reval_05/')"
   ]
  },
  {
   "cell_type": "code",
   "execution_count": 5,
   "id": "2b2038dc",
   "metadata": {
    "ExecuteTime": {
     "end_time": "2022-07-05T12:04:45.460940Z",
     "start_time": "2022-07-05T12:04:42.920035Z"
    }
   },
   "outputs": [
    {
     "name": "stdout",
     "output_type": "stream",
     "text": [
      "Saved 08-metrics-PRF1_Q-50.png\n"
     ]
    }
   ],
   "source": [
    "# about 30m with empty caches\n",
    "fig, axes = get_figure_axes(sharey=True, h=7)\n",
    "s.plot_q_summaries(axes, order=DEFAULT_ORDER, i18n=i18n, t_score=0.5, legend=False)\n",
    "finish_plot(fig, axes, suptitle=\"Próg ufności $T_c = 0.5$\")\n",
    "save_plot(fig, \"08-metrics-PRF1_Q-50\", c=1, p=0)"
   ]
  },
  {
   "cell_type": "code",
   "execution_count": 6,
   "id": "4e53593a",
   "metadata": {
    "ExecuteTime": {
     "end_time": "2022-07-05T12:04:47.732199Z",
     "start_time": "2022-07-05T12:04:45.463467Z"
    }
   },
   "outputs": [
    {
     "name": "stdout",
     "output_type": "stream",
     "text": [
      "Saved 08-metrics-PRF1_Q-05.png\n"
     ]
    }
   ],
   "source": [
    "# about 30m with empty caches\n",
    "fig, axes = get_figure_axes(sharey=True, h=7)\n",
    "s.plot_q_summaries(axes, order=DEFAULT_ORDER, i18n=i18n, legend=False)\n",
    "finish_plot(fig, axes, suptitle=\"Próg ufności $T_c = 0.05$\")\n",
    "save_plot(fig, \"08-metrics-PRF1_Q-05\", c=1, p=0)"
   ]
  },
  {
   "cell_type": "code",
   "execution_count": 7,
   "id": "5a0bc46c",
   "metadata": {
    "ExecuteTime": {
     "end_time": "2022-07-05T12:04:52.500263Z",
     "start_time": "2022-07-05T12:04:50.101464Z"
    }
   },
   "outputs": [
    {
     "name": "stdout",
     "output_type": "stream",
     "text": [
      "Saved 08-metrics-PRF1_Q-25.png\n"
     ]
    }
   ],
   "source": [
    "# about 30m with empty caches\n",
    "fig, axes = get_figure_axes(sharey=True, h=7)\n",
    "s.plot_q_summaries(axes, order=DEFAULT_ORDER, i18n=i18n, t_score=0.25, legend=False)\n",
    "finish_plot(fig, axes, suptitle=\"Próg ufności $T_c = 0.25$\")\n",
    "save_plot(fig, \"08-metrics-PRF1_Q-25\", c=1, p=0)"
   ]
  },
  {
   "cell_type": "code",
   "execution_count": 8,
   "id": "83ac8a0f",
   "metadata": {
    "ExecuteTime": {
     "end_time": "2022-07-05T12:04:52.500263Z",
     "start_time": "2022-07-05T12:04:50.101464Z"
    }
   },
   "outputs": [
    {
     "name": "stdout",
     "output_type": "stream",
     "text": [
      "Saved 08-metrics-PRF1_Q-75.png\n"
     ]
    }
   ],
   "source": [
    "# about 30m with empty caches\n",
    "fig, axes = get_figure_axes(sharey=True, h=7)\n",
    "s.plot_q_summaries(axes, order=DEFAULT_ORDER, i18n=i18n, t_score=0.75, legend=False)\n",
    "finish_plot(fig, axes, suptitle=\"Próg ufności $T_c = 0.75$\")\n",
    "save_plot(fig, \"08-metrics-PRF1_Q-75\", c=1, p=0)"
   ]
  }
 ],
 "metadata": {
  "kernelspec": {
   "display_name": "Python 3 (ipykernel)",
   "language": "python",
   "name": "python3"
  },
  "language_info": {
   "codemirror_mode": {
    "name": "ipython",
    "version": 3
   },
   "file_extension": ".py",
   "mimetype": "text/x-python",
   "name": "python",
   "nbconvert_exporter": "python",
   "pygments_lexer": "ipython3",
   "version": "3.10.5"
  },
  "toc": {
   "base_numbering": 1,
   "nav_menu": {},
   "number_sections": true,
   "sideBar": true,
   "skip_h1_title": false,
   "title_cell": "Table of Contents",
   "title_sidebar": "Contents",
   "toc_cell": false,
   "toc_position": {},
   "toc_section_display": true,
   "toc_window_display": false
  }
 },
 "nbformat": 4,
 "nbformat_minor": 5
}
