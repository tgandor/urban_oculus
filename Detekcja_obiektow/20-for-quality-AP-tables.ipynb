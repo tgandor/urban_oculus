{
 "cells": [
  {
   "cell_type": "code",
   "execution_count": 4,
   "id": "7daa6526",
   "metadata": {
    "ExecuteTime": {
     "end_time": "2022-07-31T12:04:19.399532Z",
     "start_time": "2022-07-31T12:04:19.391946Z"
    }
   },
   "outputs": [],
   "source": [
    "import sys\n",
    "\n",
    "sys.path.append(\"..\")\n",
    "from evaldets.results import *\n",
    "from evaldets.postprocess import *\n",
    "\n",
    "# logging.basicConfig(level=logging.DEBUG)\n",
    "\n",
    "try:\n",
    "    import jupyter_black\n",
    "\n",
    "    jupyter_black.load(lab=False)\n",
    "except:\n",
    "    pass"
   ]
  },
  {
   "cell_type": "code",
   "execution_count": 5,
   "id": "fb702449",
   "metadata": {
    "ExecuteTime": {
     "end_time": "2022-07-31T12:04:25.188028Z",
     "start_time": "2022-07-31T12:04:24.883869Z"
    }
   },
   "outputs": [
    {
     "name": "stdout",
     "output_type": "stream",
     "text": [
      "This is pdfTeX, Version 3.141592653-2.6-1.40.24 (TeX Live 2022/Arch Linux) (preloaded format=pdflatex)\n",
      " restricted \\write18 enabled.\n",
      "entering extended mode\n",
      "(./tab_gekryb.tex\n",
      "LaTeX2e <2021-11-15> patch level 1\n",
      "L3 programming layer <2022-04-10>\n",
      "(/usr/share/texmf-dist/tex/latex/standalone/standalone.cls\n",
      "Document Class: standalone 2018/03/26 v1.3a Class to compile TeX sub-files stan\n",
      "dalone\n",
      "(/usr/share/texmf-dist/tex/latex/tools/shellesc.sty)\n",
      "(/usr/share/texmf-dist/tex/generic/iftex/ifluatex.sty\n",
      "(/usr/share/texmf-dist/tex/generic/iftex/iftex.sty))\n",
      "(/usr/share/texmf-dist/tex/latex/xkeyval/xkeyval.sty\n",
      "(/usr/share/texmf-dist/tex/generic/xkeyval/xkeyval.tex\n",
      "(/usr/share/texmf-dist/tex/generic/xkeyval/xkvutils.tex\n",
      "(/usr/share/texmf-dist/tex/generic/xkeyval/keyval.tex))))\n",
      "(/usr/share/texmf-dist/tex/latex/standalone/standalone.cfg)\n",
      "(/usr/share/texmf-dist/tex/latex/base/article.cls\n",
      "Document Class: article 2021/10/04 v1.4n Standard LaTeX document class\n",
      "(/usr/share/texmf-dist/tex/latex/base/size10.clo)))\n",
      "(/usr/share/texmf-dist/tex/latex/booktabs/booktabs.sty)\n",
      "(/usr/share/texmf-dist/tex/latex/l3backend/l3backend-pdftex.def)\n",
      "No file tab_gekryb.aux.\n",
      "[1{/var/lib/texmf/fonts/map/pdftex/updmap/pdftex.map}] (./tab_gekryb.aux) )</us\n",
      "r/share/texmf-dist/fonts/type1/public/amsfonts/cm/cmbx10.pfb></usr/share/texmf-\n",
      "dist/fonts/type1/public/amsfonts/cm/cmr10.pfb></usr/share/texmf-dist/fonts/type\n",
      "1/public/amsfonts/cm/cmr7.pfb>\n",
      "Output written on tab_gekryb.pdf (1 page, 36548 bytes).\n",
      "Transcript written on tab_gekryb.log.\n"
     ]
    }
   ],
   "source": [
    "ap_table_for_quality_OO(\n",
    "    \"../detectron2/data/\",\n",
    "    96,\n",
    "    model_is_basename=True,\n",
    "    preview=True,\n",
    "    condition=lambda x: x[\"model\"][-3:] in {\"STD\", \"Q20\", \"Q40\"},\n",
    ")"
   ]
  },
  {
   "cell_type": "code",
   "execution_count": null,
   "id": "9ce753e8",
   "metadata": {},
   "outputs": [],
   "source": []
  }
 ],
 "metadata": {
  "kernelspec": {
   "display_name": "Python 3 (ipykernel)",
   "language": "python",
   "name": "python3"
  },
  "language_info": {
   "codemirror_mode": {
    "name": "ipython",
    "version": 3
   },
   "file_extension": ".py",
   "mimetype": "text/x-python",
   "name": "python",
   "nbconvert_exporter": "python",
   "pygments_lexer": "ipython3",
   "version": "3.10.5"
  },
  "toc": {
   "base_numbering": 1,
   "nav_menu": {},
   "number_sections": true,
   "sideBar": true,
   "skip_h1_title": false,
   "title_cell": "Table of Contents",
   "title_sidebar": "Contents",
   "toc_cell": false,
   "toc_position": {},
   "toc_section_display": true,
   "toc_window_display": false
  }
 },
 "nbformat": 4,
 "nbformat_minor": 5
}
