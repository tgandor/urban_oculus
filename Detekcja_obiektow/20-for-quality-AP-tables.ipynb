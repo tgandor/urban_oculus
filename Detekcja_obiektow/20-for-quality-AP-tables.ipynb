{
 "cells": [
  {
   "cell_type": "code",
   "execution_count": 2,
   "id": "7daa6526",
   "metadata": {
    "ExecuteTime": {
     "end_time": "2022-09-26T02:31:12.160848Z",
     "start_time": "2022-09-26T02:31:12.156555Z"
    }
   },
   "outputs": [
    {
     "name": "stdout",
     "output_type": "stream",
     "text": [
      "No jupyter_black\n"
     ]
    }
   ],
   "source": [
    "import sys\n",
    "\n",
    "sys.path.append(\"..\")\n",
    "from evaldets.results import *\n",
    "from evaldets.postprocess import *\n",
    "\n",
    "# logging.basicConfig(level=logging.DEBUG)\n",
    "\n",
    "try:\n",
    "    import jupyter_black\n",
    "    jupyter_black.load(lab=False)\n",
    "except:\n",
    "    print(\"No jupyter_black\")\n",
    "    pass"
   ]
  },
  {
   "cell_type": "code",
   "execution_count": 6,
   "id": "fb702449",
   "metadata": {
    "ExecuteTime": {
     "end_time": "2022-09-26T02:33:02.282701Z",
     "start_time": "2022-09-26T02:33:02.264162Z"
    }
   },
   "outputs": [
    {
     "name": "stdout",
     "output_type": "stream",
     "text": [
      "\\begin{tabular}{lcccccc} \\toprule\n",
      "Model & AP & AP\\tsub{50} & AP\\tsub{75} & AP\\tsub{l} & AP\\tsub{m} & AP\\tsub{s} \\\\ \\midrule\n",
      "F50-D2 & \\textbf{37.9} & \\textbf{58.8} & \\textbf{41.1} & \\textbf{49.2} & \\underline{41.1} & \\underline{22.6} \\\\\n",
      "F50-Q20 & 31.7 & 51.4 & 33.7 & 41.4 & 33.9 & 17.8 \\\\\n",
      "F50-Q40 & 33.2 & 52.9 & 35.7 & 43.7 & 35.5 & 18.7 \\\\\n",
      "F50-STD & 34.3 & 54.6 & 37.3 & 44.1 & 37.1 & 19.2 \\\\\n",
      "F50-T20 & 34.5 & 54.5 & 36.9 & 45.1 & 37.3 & 20.2 \\\\\n",
      "F50-T40 & 35.6 & 55.8 & 38.4 & 46.4 & 38.3 & 20.8 \\\\\n",
      "R50-D2 & \\underline{37.4} & \\underline{56.7} & \\underline{40.2} & \\underline{48.3} & \\textbf{41.5} & \\textbf{23.0} \\\\\n",
      "R50-Q20 & 32.4 & 50.3 & 34.4 & 42.2 & 35.8 & 17.5 \\\\\n",
      "R50-Q40 & 33.6 & 51.8 & 36.0 & 43.0 & 37.4 & 18.9 \\\\\n",
      "R50-STD & 34.3 & 52.5 & 36.6 & 44.1 & 38.0 & 19.6 \\\\\n",
      "R50-T20 & 34.6 & 53.1 & 37.1 & 45.0 & 38.7 & 19.4 \\\\\n",
      "R50-T40 & 35.5 & 54.5 & 37.9 & 45.5 & 39.1 & 21.7 \\\\\n",
      "\\bottomrule\n",
      "\\end{tabular}\n"
     ]
    }
   ],
   "source": [
    "ap_table_for_quality_OO(\n",
    "    \"../detectron2/data/\",\n",
    "    96,\n",
    "    model_is_basename=True,\n",
    "    # preview=True,\n",
    "    # condition=lambda x: x[\"model\"][-3:] in {\"STD\", \"Q20\", \"Q40\"},\n",
    ")"
   ]
  },
  {
   "cell_type": "code",
   "execution_count": 7,
   "id": "769b4f34",
   "metadata": {
    "ExecuteTime": {
     "end_time": "2022-09-26T02:40:35.063850Z",
     "start_time": "2022-09-26T02:40:35.053205Z"
    }
   },
   "outputs": [
    {
     "name": "stdout",
     "output_type": "stream",
     "text": [
      "\\begin{tabular}{lcccccc} \\toprule\n",
      "Model & AP & AP\\tsub{50} & AP\\tsub{75} & AP\\tsub{l} & AP\\tsub{m} & AP\\tsub{s} \\\\ \\midrule\n",
      "F50-D2 & 32.3 & 51.8 & 34.7 & 43.9 & 35.3 & 16.4 \\\\\n",
      "F50-Q20 & 31.0 & 50.3 & 33.0 & 41.3 & 33.0 & 16.2 \\\\\n",
      "F50-Q40 & 31.7 & 50.9 & 33.5 & 43.1 & 33.6 & 16.4 \\\\\n",
      "F50-STD & 28.7 & 46.8 & 30.3 & 38.8 & 31.1 & 14.3 \\\\\n",
      "F50-T20 & 33.8 & \\underline{53.5} & \\underline{36.1} & \\underline{45.1} & 36.7 & 18.1 \\\\\n",
      "F50-T40 & \\textbf{34.0} & \\textbf{53.7} & \\textbf{36.5} & \\textbf{45.3} & 36.7 & 18.5 \\\\\n",
      "R50-D2 & 31.9 & 49.9 & 33.5 & 43.1 & 35.4 & 16.3 \\\\\n",
      "R50-Q20 & 31.7 & 49.2 & 33.5 & 42.6 & 34.8 & 17.7 \\\\\n",
      "R50-Q40 & 32.0 & 49.8 & 34.0 & 42.5 & 35.5 & 18.0 \\\\\n",
      "R50-STD & 29.1 & 45.7 & 30.5 & 39.0 & 32.1 & 15.7 \\\\\n",
      "R50-T20 & 33.7 & 52.2 & 36.0 & 44.4 & \\textbf{37.5} & \\underline{18.8} \\\\\n",
      "R50-T40 & \\underline{34.0} & 52.5 & 36.0 & 44.9 & \\underline{37.2} & \\textbf{19.7} \\\\\n",
      "\\bottomrule\n",
      "\\end{tabular}\n"
     ]
    }
   ],
   "source": [
    "ap_table_for_quality_OO(\n",
    "    \"../detectron2/data/\",\n",
    "    33,\n",
    "    model_is_basename=True,\n",
    "    # preview=True,\n",
    "    # condition=lambda x: x[\"model\"][-3:] in {\"STD\", \"Q20\", \"Q40\"},\n",
    ")"
   ]
  },
  {
   "cell_type": "markdown",
   "id": "7cc5d035",
   "metadata": {},
   "source": [
    "# SPLIT"
   ]
  },
  {
   "cell_type": "markdown",
   "id": "edc23612",
   "metadata": {},
   "source": [
    "## Q = 96"
   ]
  },
  {
   "cell_type": "code",
   "execution_count": 10,
   "id": "8720c40b",
   "metadata": {
    "ExecuteTime": {
     "end_time": "2022-09-26T03:02:10.843972Z",
     "start_time": "2022-09-26T03:02:10.837399Z"
    }
   },
   "outputs": [
    {
     "name": "stdout",
     "output_type": "stream",
     "text": [
      "\\begin{tabular}{lcccccc} \\toprule\n",
      "Model & AP & AP\\tsub{50} & AP\\tsub{75} & AP\\tsub{l} & AP\\tsub{m} & AP\\tsub{s} \\\\ \\midrule\n",
      "F50-Q20 & 31.7 & 51.4 & 33.7 & 41.4 & 33.9 & 17.8 \\\\\n",
      "F50-Q40 & 33.2 & \\underline{52.9} & 35.7 & 43.7 & 35.5 & 18.7 \\\\\n",
      "F50-STD & \\textbf{34.3} & \\textbf{54.6} & \\textbf{37.3} & \\textbf{44.1} & 37.1 & \\underline{19.2} \\\\\n",
      "R50-Q20 & 32.4 & 50.3 & 34.4 & 42.2 & 35.8 & 17.5 \\\\\n",
      "R50-Q40 & 33.6 & 51.8 & 36.0 & 43.0 & \\underline{37.4} & 18.9 \\\\\n",
      "R50-STD & \\underline{34.3} & 52.5 & \\underline{36.6} & \\underline{44.1} & \\textbf{38.0} & \\textbf{19.6} \\\\\n",
      "\\bottomrule\n",
      "\\end{tabular}\n"
     ]
    }
   ],
   "source": [
    "ap_table_for_quality_OO(\n",
    "    \"../detectron2/data/\",\n",
    "    96,\n",
    "    model_is_basename=True,\n",
    "    # preview=True,\n",
    "    condition=lambda x: x[\"model\"][-3:] in {\"STD\", \"Q20\", \"Q40\"},\n",
    ")"
   ]
  },
  {
   "cell_type": "code",
   "execution_count": 11,
   "id": "9ce753e8",
   "metadata": {
    "ExecuteTime": {
     "end_time": "2022-09-26T03:02:11.814202Z",
     "start_time": "2022-09-26T03:02:11.794954Z"
    }
   },
   "outputs": [
    {
     "name": "stdout",
     "output_type": "stream",
     "text": [
      "\\begin{tabular}{lcccccc} \\toprule\n",
      "Model & AP & AP\\tsub{50} & AP\\tsub{75} & AP\\tsub{l} & AP\\tsub{m} & AP\\tsub{s} \\\\ \\midrule\n",
      "F50-D2 & \\textbf{37.9} & \\textbf{58.8} & \\textbf{41.1} & \\textbf{49.2} & \\underline{41.1} & \\underline{22.6} \\\\\n",
      "F50-T20 & 34.5 & 54.5 & 36.9 & 45.1 & 37.3 & 20.2 \\\\\n",
      "F50-T40 & 35.6 & 55.8 & 38.4 & 46.4 & 38.3 & 20.8 \\\\\n",
      "R50-D2 & \\underline{37.4} & \\underline{56.7} & \\underline{40.2} & \\underline{48.3} & \\textbf{41.5} & \\textbf{23.0} \\\\\n",
      "R50-T20 & 34.6 & 53.1 & 37.1 & 45.0 & 38.7 & 19.4 \\\\\n",
      "R50-T40 & 35.5 & 54.5 & 37.9 & 45.5 & 39.1 & 21.7 \\\\\n",
      "\\bottomrule\n",
      "\\end{tabular}\n"
     ]
    }
   ],
   "source": [
    "ap_table_for_quality_OO(\n",
    "    \"../detectron2/data/\",\n",
    "    96,\n",
    "    model_is_basename=True,\n",
    "    # preview=True,\n",
    "    condition=lambda x: x[\"model\"][-3:] not in {\"STD\", \"Q20\", \"Q40\"},\n",
    ")"
   ]
  },
  {
   "cell_type": "markdown",
   "id": "846464bd",
   "metadata": {},
   "source": [
    "## Q = 33"
   ]
  },
  {
   "cell_type": "code",
   "execution_count": 8,
   "id": "072ab246",
   "metadata": {
    "ExecuteTime": {
     "end_time": "2022-09-26T02:50:52.146927Z",
     "start_time": "2022-09-26T02:50:52.138005Z"
    }
   },
   "outputs": [
    {
     "name": "stdout",
     "output_type": "stream",
     "text": [
      "\\begin{tabular}{lcccccc} \\toprule\n",
      "Model & AP & AP\\tsub{50} & AP\\tsub{75} & AP\\tsub{l} & AP\\tsub{m} & AP\\tsub{s} \\\\ \\midrule\n",
      "F50-Q20 & 31.0 & \\underline{50.3} & 33.0 & 41.3 & 33.0 & 16.2 \\\\\n",
      "F50-Q40 & 31.7 & \\textbf{50.9} & \\underline{33.5} & \\textbf{43.1} & 33.6 & 16.4 \\\\\n",
      "F50-STD & 28.7 & 46.8 & 30.3 & 38.8 & 31.1 & 14.3 \\\\\n",
      "R50-Q20 & \\underline{31.7} & 49.2 & 33.5 & \\underline{42.6} & \\underline{34.8} & \\underline{17.7} \\\\\n",
      "R50-Q40 & \\textbf{32.0} & 49.8 & \\textbf{34.0} & 42.5 & \\textbf{35.5} & \\textbf{18.0} \\\\\n",
      "R50-STD & 29.1 & 45.7 & 30.5 & 39.0 & 32.1 & 15.7 \\\\\n",
      "\\bottomrule\n",
      "\\end{tabular}\n"
     ]
    }
   ],
   "source": [
    "ap_table_for_quality_OO(\n",
    "    \"../detectron2/data/\",\n",
    "    33,\n",
    "    model_is_basename=True,\n",
    "    # preview=True,\n",
    "    condition=lambda x: x[\"model\"][-3:] in {\"STD\", \"Q20\", \"Q40\"},\n",
    ")"
   ]
  },
  {
   "cell_type": "code",
   "execution_count": 9,
   "id": "af1d2095",
   "metadata": {
    "ExecuteTime": {
     "end_time": "2022-09-26T02:50:52.472250Z",
     "start_time": "2022-09-26T02:50:52.457132Z"
    }
   },
   "outputs": [
    {
     "name": "stdout",
     "output_type": "stream",
     "text": [
      "\\begin{tabular}{lcccccc} \\toprule\n",
      "Model & AP & AP\\tsub{50} & AP\\tsub{75} & AP\\tsub{l} & AP\\tsub{m} & AP\\tsub{s} \\\\ \\midrule\n",
      "F50-D2 & 32.3 & 51.8 & 34.7 & 43.9 & 35.3 & 16.4 \\\\\n",
      "F50-T20 & 33.8 & \\underline{53.5} & \\underline{36.1} & \\underline{45.1} & 36.7 & 18.1 \\\\\n",
      "F50-T40 & \\textbf{34.0} & \\textbf{53.7} & \\textbf{36.5} & \\textbf{45.3} & 36.7 & 18.5 \\\\\n",
      "R50-D2 & 31.9 & 49.9 & 33.5 & 43.1 & 35.4 & 16.3 \\\\\n",
      "R50-T20 & 33.7 & 52.2 & 36.0 & 44.4 & \\textbf{37.5} & \\underline{18.8} \\\\\n",
      "R50-T40 & \\underline{34.0} & 52.5 & 36.0 & 44.9 & \\underline{37.2} & \\textbf{19.7} \\\\\n",
      "\\bottomrule\n",
      "\\end{tabular}\n"
     ]
    }
   ],
   "source": [
    "ap_table_for_quality_OO(\n",
    "    \"../detectron2/data/\",\n",
    "    33,\n",
    "    model_is_basename=True,\n",
    "    # preview=True,\n",
    "    condition=lambda x: x[\"model\"][-3:] not in {\"STD\", \"Q20\", \"Q40\"},\n",
    ")"
   ]
  },
  {
   "cell_type": "code",
   "execution_count": null,
   "id": "f96615d0",
   "metadata": {},
   "outputs": [],
   "source": []
  }
 ],
 "metadata": {
  "kernelspec": {
   "display_name": "Python 3 (ipykernel)",
   "language": "python",
   "name": "python3"
  },
  "language_info": {
   "codemirror_mode": {
    "name": "ipython",
    "version": 3
   },
   "file_extension": ".py",
   "mimetype": "text/x-python",
   "name": "python",
   "nbconvert_exporter": "python",
   "pygments_lexer": "ipython3",
   "version": "3.9.13"
  },
  "toc": {
   "base_numbering": 1,
   "nav_menu": {},
   "number_sections": true,
   "sideBar": true,
   "skip_h1_title": false,
   "title_cell": "Table of Contents",
   "title_sidebar": "Contents",
   "toc_cell": false,
   "toc_position": {},
   "toc_section_display": true,
   "toc_window_display": false
  }
 },
 "nbformat": 4,
 "nbformat_minor": 5
}
