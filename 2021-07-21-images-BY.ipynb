{
 "cells": [
  {
   "cell_type": "code",
   "execution_count": 1,
   "id": "0e5b2a27",
   "metadata": {
    "ExecuteTime": {
     "end_time": "2021-07-21T07:04:14.871419Z",
     "start_time": "2021-07-21T07:04:13.978612Z"
    }
   },
   "outputs": [],
   "source": [
    "from evaldets.visualization import *\n",
    "import logging\n",
    "# logging.basicConfig(level=logging.INFO)"
   ]
  },
  {
   "cell_type": "code",
   "execution_count": 4,
   "id": "bc714150",
   "metadata": {
    "ExecuteTime": {
     "end_time": "2021-07-21T07:10:47.375797Z",
     "start_time": "2021-07-21T07:10:47.362805Z"
    }
   },
   "outputs": [
    {
     "data": {
      "text/plain": [
       "Counter({'http://creativecommons.org/licenses/by/2.0/': 857,\n",
       "         'http://creativecommons.org/licenses/by-nc-sa/2.0/': 1431,\n",
       "         'http://creativecommons.org/licenses/by-nd/2.0/': 246,\n",
       "         'http://creativecommons.org/licenses/by-nc-nd/2.0/': 1414,\n",
       "         'http://creativecommons.org/licenses/by-sa/2.0/': 417,\n",
       "         'http://creativecommons.org/licenses/by-nc/2.0/': 630,\n",
       "         'http://flickr.com/commons/usage/': 5})"
      ]
     },
     "execution_count": 4,
     "metadata": {},
     "output_type": "execute_result"
    }
   ],
   "source": [
    "from collections import Counter\n",
    "Counter(i['license_url'] for i in DSI.info.values())"
   ]
  },
  {
   "cell_type": "code",
   "execution_count": null,
   "id": "8a58d9c4",
   "metadata": {},
   "outputs": [],
   "source": []
  }
 ],
 "metadata": {
  "kernelspec": {
   "display_name": "Python 3",
   "language": "python",
   "name": "python3"
  },
  "language_info": {
   "codemirror_mode": {
    "name": "ipython",
    "version": 3
   },
   "file_extension": ".py",
   "mimetype": "text/x-python",
   "name": "python",
   "nbconvert_exporter": "python",
   "pygments_lexer": "ipython3",
   "version": "3.9.6"
  },
  "toc": {
   "base_numbering": 1,
   "nav_menu": {},
   "number_sections": true,
   "sideBar": true,
   "skip_h1_title": false,
   "title_cell": "Table of Contents",
   "title_sidebar": "Contents",
   "toc_cell": false,
   "toc_position": {},
   "toc_section_display": true,
   "toc_window_display": false
  }
 },
 "nbformat": 4,
 "nbformat_minor": 5
}
