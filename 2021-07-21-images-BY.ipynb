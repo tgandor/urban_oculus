{
 "cells": [
  {
   "cell_type": "code",
   "execution_count": 1,
   "id": "0e5b2a27",
   "metadata": {
    "ExecuteTime": {
     "end_time": "2021-07-21T14:36:30.806589Z",
     "start_time": "2021-07-21T14:36:29.784645Z"
    }
   },
   "outputs": [],
   "source": [
    "from evaldets.visualization import *\n",
    "import logging\n",
    "import glob, os\n",
    "# logging.basicConfig(level=logging.INFO)"
   ]
  },
  {
   "cell_type": "code",
   "execution_count": 2,
   "id": "bc714150",
   "metadata": {
    "ExecuteTime": {
     "end_time": "2021-07-21T14:36:31.304614Z",
     "start_time": "2021-07-21T14:36:30.808836Z"
    }
   },
   "outputs": [
    {
     "data": {
      "text/plain": [
       "[('http://creativecommons.org/licenses/by-nc-sa/2.0/', 1431),\n",
       " ('http://creativecommons.org/licenses/by-nc-nd/2.0/', 1414),\n",
       " ('http://creativecommons.org/licenses/by/2.0/', 857),\n",
       " ('http://creativecommons.org/licenses/by-nc/2.0/', 630),\n",
       " ('http://creativecommons.org/licenses/by-sa/2.0/', 417),\n",
       " ('http://creativecommons.org/licenses/by-nd/2.0/', 246),\n",
       " ('http://flickr.com/commons/usage/', 5)]"
      ]
     },
     "execution_count": 2,
     "metadata": {},
     "output_type": "execute_result"
    }
   ],
   "source": [
    "from collections import Counter\n",
    "k = itemgetter('license_url')\n",
    "c = Counter(map(k, DSI.info.values())); c.most_common()"
   ]
  },
  {
   "cell_type": "code",
   "execution_count": 3,
   "id": "4438a42a",
   "metadata": {
    "ExecuteTime": {
     "end_time": "2021-07-21T14:36:31.309283Z",
     "start_time": "2021-07-21T14:36:31.306725Z"
    }
   },
   "outputs": [],
   "source": [
    "BY = 'http://creativecommons.org/licenses/by/2.0/'"
   ]
  },
  {
   "cell_type": "code",
   "execution_count": 4,
   "id": "f0206132",
   "metadata": {
    "ExecuteTime": {
     "end_time": "2021-07-21T14:36:31.329971Z",
     "start_time": "2021-07-21T14:36:31.311334Z"
    }
   },
   "outputs": [],
   "source": [
    "id_sets = {k: set(str(v['id']) for v in val) for k, val in groupby(sorted(DSI.info.values(), key=k), key=k)}"
   ]
  },
  {
   "cell_type": "code",
   "execution_count": 5,
   "id": "7fa882c0",
   "metadata": {
    "ExecuteTime": {
     "end_time": "2021-07-21T14:36:31.343892Z",
     "start_time": "2021-07-21T14:36:31.331429Z"
    }
   },
   "outputs": [],
   "source": [
    "atrib = [x for x in glob.glob('by_image/*') if os.path.basename(x) in id_sets[BY]]"
   ]
  },
  {
   "cell_type": "code",
   "execution_count": 6,
   "id": "1033a3c3",
   "metadata": {
    "ExecuteTime": {
     "end_time": "2021-07-21T14:36:31.354170Z",
     "start_time": "2021-07-21T14:36:31.345457Z"
    }
   },
   "outputs": [],
   "source": [
    "restricted = [x for x in glob.glob('by_image/*') if os.path.basename(x) not in id_sets[BY]]"
   ]
  },
  {
   "cell_type": "code",
   "execution_count": 7,
   "id": "f4000b2f",
   "metadata": {
    "ExecuteTime": {
     "end_time": "2021-07-21T14:36:31.364728Z",
     "start_time": "2021-07-21T14:36:31.355556Z"
    }
   },
   "outputs": [
    {
     "data": {
      "text/plain": [
       "(43, 0)"
      ]
     },
     "execution_count": 7,
     "metadata": {},
     "output_type": "execute_result"
    }
   ],
   "source": [
    "len(atrib), len(restricted)"
   ]
  },
  {
   "cell_type": "code",
   "execution_count": 8,
   "id": "54f3c778",
   "metadata": {
    "ExecuteTime": {
     "end_time": "2021-07-21T14:36:31.383381Z",
     "start_time": "2021-07-21T14:36:31.366866Z"
    }
   },
   "outputs": [],
   "source": [
    "import shutil"
   ]
  },
  {
   "cell_type": "code",
   "execution_count": 9,
   "id": "68f489ae",
   "metadata": {
    "ExecuteTime": {
     "end_time": "2021-07-21T14:36:31.393439Z",
     "start_time": "2021-07-21T14:36:31.385020Z"
    }
   },
   "outputs": [],
   "source": [
    "for d in restricted:\n",
    "    shutil.rmtree(d)"
   ]
  },
  {
   "cell_type": "code",
   "execution_count": null,
   "id": "5cb3c010",
   "metadata": {},
   "outputs": [],
   "source": []
  }
 ],
 "metadata": {
  "kernelspec": {
   "display_name": "Python 3",
   "language": "python",
   "name": "python3"
  },
  "language_info": {
   "codemirror_mode": {
    "name": "ipython",
    "version": 3
   },
   "file_extension": ".py",
   "mimetype": "text/x-python",
   "name": "python",
   "nbconvert_exporter": "python",
   "pygments_lexer": "ipython3",
   "version": "3.9.6"
  },
  "toc": {
   "base_numbering": 1,
   "nav_menu": {},
   "number_sections": true,
   "sideBar": true,
   "skip_h1_title": false,
   "title_cell": "Table of Contents",
   "title_sidebar": "Contents",
   "toc_cell": false,
   "toc_position": {},
   "toc_section_display": true,
   "toc_window_display": false
  }
 },
 "nbformat": 4,
 "nbformat_minor": 5
}
