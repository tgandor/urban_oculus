{
 "cells": [
  {
   "cell_type": "code",
   "execution_count": null,
   "metadata": {
    "ExecuteTime": {
     "end_time": "2021-06-25T02:53:17.680043Z",
     "start_time": "2021-06-25T02:53:17.441024Z"
    }
   },
   "outputs": [],
   "source": [
    "import pandas as pd"
   ]
  },
  {
   "cell_type": "code",
   "execution_count": null,
   "metadata": {
    "ExecuteTime": {
     "end_time": "2021-06-25T02:53:19.029366Z",
     "start_time": "2021-06-25T02:53:17.681873Z"
    }
   },
   "outputs": [],
   "source": [
    "df = pd.read_json('detections.json')"
   ]
  },
  {
   "cell_type": "code",
   "execution_count": null,
   "metadata": {
    "ExecuteTime": {
     "end_time": "2021-06-25T02:53:19.045400Z",
     "start_time": "2021-06-25T02:53:19.033407Z"
    }
   },
   "outputs": [],
   "source": [
    "df.gt_id.nunique()"
   ]
  },
  {
   "cell_type": "code",
   "execution_count": null,
   "metadata": {
    "ExecuteTime": {
     "end_time": "2021-06-25T02:53:19.085033Z",
     "start_time": "2021-06-25T02:53:19.047060Z"
    }
   },
   "outputs": [],
   "source": [
    "df.info()"
   ]
  },
  {
   "cell_type": "code",
   "execution_count": null,
   "metadata": {
    "ExecuteTime": {
     "end_time": "2021-06-25T02:53:19.456570Z",
     "start_time": "2021-06-25T02:53:19.086814Z"
    }
   },
   "outputs": [],
   "source": [
    "df.iou.hist(bins=25)"
   ]
  },
  {
   "cell_type": "code",
   "execution_count": null,
   "metadata": {
    "ExecuteTime": {
     "end_time": "2021-06-25T02:53:20.045307Z",
     "start_time": "2021-06-25T02:53:19.459037Z"
    }
   },
   "outputs": [],
   "source": [
    "from evaldets.results import load_gt"
   ]
  },
  {
   "cell_type": "code",
   "execution_count": null,
   "metadata": {
    "ExecuteTime": {
     "end_time": "2021-06-25T02:53:20.535276Z",
     "start_time": "2021-06-25T02:53:20.047524Z"
    }
   },
   "outputs": [],
   "source": [
    "anns = load_gt()"
   ]
  },
  {
   "cell_type": "code",
   "execution_count": null,
   "metadata": {
    "ExecuteTime": {
     "end_time": "2021-06-25T02:53:20.610322Z",
     "start_time": "2021-06-25T02:53:20.537180Z"
    }
   },
   "outputs": [],
   "source": [
    "gt_df = pd.DataFrame(anns.dataset['annotations'])"
   ]
  },
  {
   "cell_type": "code",
   "execution_count": null,
   "metadata": {
    "ExecuteTime": {
     "end_time": "2021-06-25T02:53:20.619657Z",
     "start_time": "2021-06-25T02:53:20.612100Z"
    }
   },
   "outputs": [],
   "source": [
    "gt_df.id.nunique()"
   ]
  },
  {
   "cell_type": "code",
   "execution_count": null,
   "metadata": {
    "ExecuteTime": {
     "end_time": "2021-06-25T02:53:20.629605Z",
     "start_time": "2021-06-25T02:53:20.620978Z"
    }
   },
   "outputs": [],
   "source": [
    "gt_df.id.nunique() - gt_df.iscrowd.sum()\n"
   ]
  },
  {
   "cell_type": "code",
   "execution_count": null,
   "metadata": {
    "ExecuteTime": {
     "end_time": "2021-06-25T02:53:20.642733Z",
     "start_time": "2021-06-25T02:53:20.631732Z"
    }
   },
   "outputs": [],
   "source": [
    "900100002299 in set(gt_df.id)"
   ]
  },
  {
   "cell_type": "code",
   "execution_count": null,
   "metadata": {
    "ExecuteTime": {
     "end_time": "2021-06-25T02:53:20.655894Z",
     "start_time": "2021-06-25T02:53:20.644066Z"
    }
   },
   "outputs": [],
   "source": [
    "900100002299 in set(df.gt_id.dropna().astype(int))"
   ]
  },
  {
   "cell_type": "code",
   "execution_count": null,
   "metadata": {
    "ExecuteTime": {
     "end_time": "2021-06-25T03:20:34.432032Z",
     "start_time": "2021-06-25T03:20:34.417468Z"
    }
   },
   "outputs": [],
   "source": [
    "import numpy as np\n",
    "dti = np.array([[False, False, False,  True, False, False,  True, False,  True,\n",
    "        False, False, False, False,  True,  True, False,  True,  True,\n",
    "         True,  True,  True,  True,  True,  True,  True,  True,  True,\n",
    "         True, False,  True,  True,  True,  True,  True,  True, False,\n",
    "         True,  True,  True,  True,  True,  True,  True,  True,  True,\n",
    "         True,  True,  True],\n",
    "       [False, False, False,  True, False, False,  True, False,  True,\n",
    "        False, False, False, False,  True,  True, False,  True,  True,\n",
    "         True,  True,  True,  True,  True,  True,  True,  True,  True,\n",
    "         True, False,  True,  True,  True,  True,  True,  True, False,\n",
    "         True,  True,  True,  True,  True,  True,  True,  True,  True,\n",
    "        False,  True,  True],\n",
    "       [False, False, False,  True,  True, False,  True, False,  True,\n",
    "        False, False, False, False,  True,  True, False,  True,  True,\n",
    "         True,  True,  True,  True,  True,  True,  True,  True,  True,\n",
    "         True,  True,  True,  True,  True,  True,  True,  True, False,\n",
    "         True,  True,  True,  True,  True,  True,  True,  True,  True,\n",
    "        False,  True,  True],\n",
    "       [False, False, False,  True,  True, False,  True, False,  True,\n",
    "        False, False, False,  True,  True,  True, False,  True,  True,\n",
    "         True,  True,  True,  True,  True,  True,  True,  True,  True,\n",
    "         True,  True,  True,  True,  True,  True,  True,  True, False,\n",
    "         True,  True,  True,  True,  True,  True,  True,  True,  True,\n",
    "        False,  True,  True],\n",
    "       [False, False, False,  True,  True, False,  True, False,  True,\n",
    "        False, False, False,  True,  True,  True, False,  True,  True,\n",
    "         True,  True,  True,  True,  True,  True,  True,  True,  True,\n",
    "         True,  True,  True,  True,  True,  True,  True,  True, False,\n",
    "         True,  True,  True,  True,  True,  True,  True,  True,  True,\n",
    "        False,  True,  True],\n",
    "       [False, False, False,  True,  True, False,  True, False,  True,\n",
    "        False, False, False,  True,  True,  True, False,  True,  True,\n",
    "         True,  True,  True,  True,  True,  True,  True,  True,  True,\n",
    "         True,  True,  True,  True,  True,  True,  True,  True, False,\n",
    "         True,  True,  True,  True,  True,  True,  True,  True,  True,\n",
    "        False,  True,  True],\n",
    "       [False, False, False,  True,  True, False,  True, False,  True,\n",
    "        False, False, False,  True,  True,  True, False,  True,  True,\n",
    "         True,  True,  True,  True,  True,  True,  True,  True,  True,\n",
    "         True,  True,  True,  True,  True,  True,  True,  True,  True,\n",
    "         True,  True,  True,  True,  True,  True,  True,  True,  True,\n",
    "        False,  True,  True],\n",
    "       [False, False, False,  True,  True,  True,  True, False,  True,\n",
    "         True, False,  True,  True,  True,  True,  True,  True,  True,\n",
    "         True,  True,  True,  True,  True,  True,  True,  True,  True,\n",
    "         True,  True,  True,  True,  True,  True,  True,  True,  True,\n",
    "         True,  True,  True,  True,  True,  True,  True,  True,  True,\n",
    "        False,  True,  True],\n",
    "       [False, False,  True,  True,  True, False,  True, False,  True,\n",
    "        False, False,  True,  True,  True,  True,  True,  True,  True,\n",
    "         True,  True,  True,  True,  True,  True,  True,  True,  True,\n",
    "         True,  True,  True,  True,  True,  True,  True,  True,  True,\n",
    "         True,  True,  True,  True,  True,  True,  True,  True,  True,\n",
    "        False,  True,  True],\n",
    "       [False, False,  True,  True,  True, False,  True,  True,  True,\n",
    "        False, False,  True,  True,  True,  True,  True,  True,  True,\n",
    "         True,  True,  True,  True,  True,  True,  True,  True,  True,\n",
    "         True,  True,  True,  True,  True,  True,  True,  True,  True,\n",
    "         True,  True,  True, False,  True,  True,  True,  True,  True,\n",
    "        False, False, False]])"
   ]
  },
  {
   "cell_type": "code",
   "execution_count": null,
   "metadata": {
    "ExecuteTime": {
     "end_time": "2021-06-25T03:21:24.690585Z",
     "start_time": "2021-06-25T03:21:24.680299Z"
    }
   },
   "outputs": [],
   "source": [
    "(~dti[0]).sum()"
   ]
  },
  {
   "cell_type": "code",
   "execution_count": null,
   "metadata": {},
   "outputs": [],
   "source": []
  }
 ],
 "metadata": {
  "kernelspec": {
   "display_name": "Python 3",
   "language": "python",
   "name": "python3"
  },
  "language_info": {
   "codemirror_mode": {
    "name": "ipython",
    "version": 3
   },
   "file_extension": ".py",
   "mimetype": "text/x-python",
   "name": "python",
   "nbconvert_exporter": "python",
   "pygments_lexer": "ipython3",
   "version": "3.7.6"
  },
  "toc": {
   "base_numbering": 1,
   "nav_menu": {},
   "number_sections": true,
   "sideBar": true,
   "skip_h1_title": false,
   "title_cell": "Table of Contents",
   "title_sidebar": "Contents",
   "toc_cell": false,
   "toc_position": {},
   "toc_section_display": true,
   "toc_window_display": false
  }
 },
 "nbformat": 4,
 "nbformat_minor": 4
}
