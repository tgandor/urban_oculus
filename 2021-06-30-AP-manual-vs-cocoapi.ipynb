{
 "cells": [
  {
   "cell_type": "markdown",
   "metadata": {},
   "source": [
    "### Fixes\n",
    "\n",
    "* performance (`DetectionResults.detections_by_class` memoized)\n",
    "* performance (`DetectionResults.num_gt_class` memoized)\n",
    "* \"crowd\" GT detection handling (OK for T_IoU = 0.5 at least!)\n",
    "\n",
    "### To do\n",
    "\n",
    "* \"crowd\" GT detection handling\n",
    "* per-class AP\n",
    "* small / medium / large AP..."
   ]
  },
  {
   "cell_type": "code",
   "execution_count": 1,
   "metadata": {
    "ExecuteTime": {
     "end_time": "2021-06-30T12:38:09.773282Z",
     "start_time": "2021-06-30T12:38:08.678863Z"
    }
   },
   "outputs": [],
   "source": [
    "import numpy as np\n",
    "import pandas as pd\n",
    "from matplotlib import pyplot as plt\n",
    "from evaldets.api import *\n",
    "from uo.utils import *"
   ]
  },
  {
   "cell_type": "code",
   "execution_count": 2,
   "metadata": {
    "ExecuteTime": {
     "end_time": "2021-06-30T12:39:06.821370Z",
     "start_time": "2021-06-30T12:38:09.774597Z"
    }
   },
   "outputs": [
    {
     "name": "stdout",
     "output_type": "stream",
     "text": [
      " Average Precision  (AP) @[ IoU=0.50:0.95 | area=   all | maxDets=100 ] = 0.404\n",
      " Average Precision  (AP) @[ IoU=0.50      | area=   all | maxDets=100 ] = 0.603\n",
      " Average Precision  (AP) @[ IoU=0.75      | area=   all | maxDets=100 ] = 0.432\n",
      " Average Precision  (AP) @[ IoU=0.50:0.95 | area= small | maxDets=100 ] = 0.240\n",
      " Average Precision  (AP) @[ IoU=0.50:0.95 | area=medium | maxDets=100 ] = 0.443\n",
      " Average Precision  (AP) @[ IoU=0.50:0.95 | area= large | maxDets=100 ] = 0.522\n",
      " Average Recall     (AR) @[ IoU=0.50:0.95 | area=   all | maxDets=  1 ] = 0.336\n",
      " Average Recall     (AR) @[ IoU=0.50:0.95 | area=   all | maxDets= 10 ] = 0.532\n",
      " Average Recall     (AR) @[ IoU=0.50:0.95 | area=   all | maxDets=100 ] = 0.563\n",
      " Average Recall     (AR) @[ IoU=0.50:0.95 | area= small | maxDets=100 ] = 0.376\n",
      " Average Recall     (AR) @[ IoU=0.50:0.95 | area=medium | maxDets=100 ] = 0.599\n",
      " Average Recall     (AR) @[ IoU=0.50:0.95 | area= large | maxDets=100 ] = 0.715\n"
     ]
    }
   ],
   "source": [
    "dr = DetectionResults('../reval_05/baseline_05/evaluator_dump_R101_101/', area_rng=None, iou_thresh=None, debug=0, cache=0)\n",
    "dr.finish_cocoeval()"
   ]
  },
  {
   "cell_type": "markdown",
   "metadata": {},
   "source": [
    "AveP for a single class, at 0.5 $T_{IoU}$."
   ]
  },
  {
   "cell_type": "code",
   "execution_count": 3,
   "metadata": {
    "ExecuteTime": {
     "end_time": "2021-06-30T12:39:06.829722Z",
     "start_time": "2021-06-30T12:39:06.823882Z"
    }
   },
   "outputs": [
    {
     "data": {
      "text/plain": [
       "0.8071831344949841"
      ]
     },
     "execution_count": 3,
     "metadata": {},
     "output_type": "execute_result"
    }
   ],
   "source": [
    "np.mean(dr.coco.eval[\"precision\"][0, :, 0, 0, -1])"
   ]
  },
  {
   "cell_type": "code",
   "execution_count": 4,
   "metadata": {
    "ExecuteTime": {
     "end_time": "2021-06-30T12:39:07.721134Z",
     "start_time": "2021-06-30T12:39:06.831730Z"
    }
   },
   "outputs": [
    {
     "data": {
      "text/plain": [
       "0.8071831344949841"
      ]
     },
     "execution_count": 4,
     "metadata": {},
     "output_type": "execute_result"
    }
   ],
   "source": [
    "dr.average_precision('person')"
   ]
  },
  {
   "cell_type": "markdown",
   "metadata": {},
   "source": [
    "mAP.5 seems as good as it gets:"
   ]
  },
  {
   "cell_type": "code",
   "execution_count": 5,
   "metadata": {
    "ExecuteTime": {
     "end_time": "2021-06-30T12:39:08.170202Z",
     "start_time": "2021-06-30T12:39:07.722965Z"
    }
   },
   "outputs": [
    {
     "data": {
      "text/plain": [
       "0.6025011979805461"
      ]
     },
     "execution_count": 5,
     "metadata": {},
     "output_type": "execute_result"
    }
   ],
   "source": [
    "dr.mean_average_precision()"
   ]
  },
  {
   "cell_type": "code",
   "execution_count": 6,
   "metadata": {
    "ExecuteTime": {
     "end_time": "2021-06-30T12:39:08.177300Z",
     "start_time": "2021-06-30T12:39:08.171734Z"
    }
   },
   "outputs": [
    {
     "data": {
      "text/plain": [
       "0.602501197980546"
      ]
     },
     "execution_count": 6,
     "metadata": {},
     "output_type": "execute_result"
    }
   ],
   "source": [
    "np.mean(dr.coco.eval[\"precision\"][0, :, :, 0, -1])"
   ]
  },
  {
   "cell_type": "markdown",
   "metadata": {},
   "source": [
    "mAP.75 doesn't look so great:"
   ]
  },
  {
   "cell_type": "code",
   "execution_count": 7,
   "metadata": {
    "ExecuteTime": {
     "end_time": "2021-06-30T12:39:08.191170Z",
     "start_time": "2021-06-30T12:39:08.178980Z"
    }
   },
   "outputs": [
    {
     "data": {
      "text/plain": [
       "0.4318813315869904"
      ]
     },
     "execution_count": 7,
     "metadata": {},
     "output_type": "execute_result"
    }
   ],
   "source": [
    "np.mean(dr.coco.eval[\"precision\"][5, :, :, 0, -1])"
   ]
  },
  {
   "cell_type": "code",
   "execution_count": 8,
   "metadata": {
    "ExecuteTime": {
     "end_time": "2021-06-30T12:39:08.634022Z",
     "start_time": "2021-06-30T12:39:08.193037Z"
    }
   },
   "outputs": [
    {
     "data": {
      "text/plain": [
       "0.4268057493526962"
      ]
     },
     "execution_count": 8,
     "metadata": {},
     "output_type": "execute_result"
    }
   ],
   "source": [
    "dr.mean_average_precision(0.75)"
   ]
  },
  {
   "cell_type": "markdown",
   "metadata": {},
   "source": [
    "Why? Probably because of FPs becoming crowds..."
   ]
  },
  {
   "cell_type": "code",
   "execution_count": 9,
   "metadata": {
    "ExecuteTime": {
     "end_time": "2021-06-30T12:39:08.704073Z",
     "start_time": "2021-06-30T12:39:08.635772Z"
    }
   },
   "outputs": [
    {
     "data": {
      "text/plain": [
       "False"
      ]
     },
     "execution_count": 9,
     "metadata": {},
     "output_type": "execute_result"
    }
   ],
   "source": [
    "TP = dr._tp_sum('person', 0.75)\n",
    "FP = dr._fp_sum('person', 0.75)\n",
    "TP_coco = dr.coco.eval['tp_sums'][0][5]\n",
    "FP_coco = dr.coco.eval['fp_sums'][0][5]\n",
    "(TP == TP_coco).all()"
   ]
  },
  {
   "cell_type": "code",
   "execution_count": 10,
   "metadata": {
    "ExecuteTime": {
     "end_time": "2021-06-30T12:39:08.708684Z",
     "start_time": "2021-06-30T12:39:08.705374Z"
    }
   },
   "outputs": [
    {
     "data": {
      "text/plain": [
       "array([1.000e+00, 2.000e+00, 3.000e+00, ..., 7.053e+03, 7.053e+03,\n",
       "       7.053e+03])"
      ]
     },
     "execution_count": 10,
     "metadata": {},
     "output_type": "execute_result"
    }
   ],
   "source": [
    "TP"
   ]
  },
  {
   "cell_type": "code",
   "execution_count": 11,
   "metadata": {
    "ExecuteTime": {
     "end_time": "2021-06-30T12:39:08.714921Z",
     "start_time": "2021-06-30T12:39:08.710390Z"
    }
   },
   "outputs": [
    {
     "data": {
      "text/plain": [
       "array([1.000e+00, 2.000e+00, 3.000e+00, ..., 7.176e+03, 7.176e+03,\n",
       "       7.176e+03])"
      ]
     },
     "execution_count": 11,
     "metadata": {},
     "output_type": "execute_result"
    }
   ],
   "source": [
    "TP_coco"
   ]
  },
  {
   "cell_type": "code",
   "execution_count": 12,
   "metadata": {
    "ExecuteTime": {
     "end_time": "2021-06-30T12:39:08.723466Z",
     "start_time": "2021-06-30T12:39:08.716504Z"
    }
   },
   "outputs": [],
   "source": [
    "from evaldets.visualization import show_detection"
   ]
  },
  {
   "cell_type": "code",
   "execution_count": 13,
   "metadata": {
    "ExecuteTime": {
     "end_time": "2021-06-30T12:39:08.738535Z",
     "start_time": "2021-06-30T12:39:08.724936Z"
    }
   },
   "outputs": [
    {
     "data": {
      "text/plain": [
       "(3961,\n",
       " 3562.0,\n",
       " 3563.0,\n",
       " {'image_id': 12670,\n",
       "  'score': 0.8061718940734863,\n",
       "  'iou': 0.9999568597729189,\n",
       "  'gt_id': 900100012670,\n",
       "  'category': 'person',\n",
       "  'x': 330.01025390625,\n",
       "  'y': 292.5989990234375,\n",
       "  'w': 108.38092041015625,\n",
       "  'h': 134.40679931640625})"
      ]
     },
     "execution_count": 13,
     "metadata": {},
     "output_type": "execute_result"
    }
   ],
   "source": [
    "dets = dr.all_detections_by_class('person')\n",
    "for i, d in enumerate(dets):\n",
    "    if TP[i] != TP_coco[i]:\n",
    "        break\n",
    "i, TP[i], TP_coco[i], d"
   ]
  },
  {
   "cell_type": "code",
   "execution_count": 14,
   "metadata": {
    "ExecuteTime": {
     "end_time": "2021-06-30T12:39:08.743343Z",
     "start_time": "2021-06-30T12:39:08.740029Z"
    }
   },
   "outputs": [],
   "source": [
    "# show_detection(d)"
   ]
  },
  {
   "cell_type": "code",
   "execution_count": 15,
   "metadata": {
    "ExecuteTime": {
     "end_time": "2021-06-30T12:39:08.888457Z",
     "start_time": "2021-06-30T12:39:08.744897Z"
    }
   },
   "outputs": [],
   "source": [
    "eis = [x for x in dr.coco.evalImgs if x and x['image_id'] == 12670 and x['category_id'] == 1]\n",
    "# len(eis), eis[0]"
   ]
  },
  {
   "cell_type": "code",
   "execution_count": 16,
   "metadata": {
    "ExecuteTime": {
     "end_time": "2021-06-30T12:39:08.909724Z",
     "start_time": "2021-06-30T12:39:08.890120Z"
    }
   },
   "outputs": [
    {
     "data": {
      "text/plain": [
       "False"
      ]
     },
     "execution_count": 16,
     "metadata": {},
     "output_type": "execute_result"
    }
   ],
   "source": [
    "dr.coco.eval['dtigs'][0][5][i]"
   ]
  },
  {
   "cell_type": "code",
   "execution_count": 17,
   "metadata": {
    "ExecuteTime": {
     "end_time": "2021-06-30T12:39:08.927208Z",
     "start_time": "2021-06-30T12:39:08.911142Z"
    }
   },
   "outputs": [
    {
     "data": {
      "text/plain": [
       "(1968,\n",
       " 87.0,\n",
       " 86.0,\n",
       " {'image_id': 143961,\n",
       "  'score': 0.9081220030784607,\n",
       "  'iou': 0.5864054907152463,\n",
       "  'gt_id': 1203308,\n",
       "  'category': 'person',\n",
       "  'x': 129.54359436035156,\n",
       "  'y': 150.02687072753906,\n",
       "  'w': 159.7234649658203,\n",
       "  'h': 203.3919219970703})"
      ]
     },
     "execution_count": 17,
     "metadata": {},
     "output_type": "execute_result"
    }
   ],
   "source": [
    "for i, d in enumerate(dets):\n",
    "    if FP[i] != FP_coco[i]:\n",
    "        break\n",
    "i, FP[i], FP_coco[i], d"
   ]
  },
  {
   "cell_type": "code",
   "execution_count": 18,
   "metadata": {
    "ExecuteTime": {
     "end_time": "2021-06-30T12:39:08.933921Z",
     "start_time": "2021-06-30T12:39:08.928727Z"
    }
   },
   "outputs": [],
   "source": [
    "#show_detection(d)"
   ]
  },
  {
   "cell_type": "code",
   "execution_count": 19,
   "metadata": {
    "ExecuteTime": {
     "end_time": "2021-06-30T12:39:08.944910Z",
     "start_time": "2021-06-30T12:39:08.935446Z"
    }
   },
   "outputs": [
    {
     "data": {
      "text/plain": [
       "True"
      ]
     },
     "execution_count": 19,
     "metadata": {},
     "output_type": "execute_result"
    }
   ],
   "source": [
    "dr.coco.eval['dtigs'][0][5][i]"
   ]
  },
  {
   "cell_type": "markdown",
   "metadata": {},
   "source": [
    "Re-classifying TP / FP before mAP.75"
   ]
  },
  {
   "cell_type": "code",
   "execution_count": 20,
   "metadata": {
    "ExecuteTime": {
     "end_time": "2021-06-30T12:39:09.397433Z",
     "start_time": "2021-06-30T12:39:08.945918Z"
    }
   },
   "outputs": [
    {
     "data": {
      "text/plain": [
       "0.4268057493526962"
      ]
     },
     "execution_count": 20,
     "metadata": {},
     "output_type": "execute_result"
    }
   ],
   "source": [
    "dr.mean_average_precision(t_iou=0.75)"
   ]
  },
  {
   "cell_type": "code",
   "execution_count": 21,
   "metadata": {
    "ExecuteTime": {
     "end_time": "2021-06-30T12:39:09.496804Z",
     "start_time": "2021-06-30T12:39:09.399162Z"
    }
   },
   "outputs": [
    {
     "data": {
      "text/plain": [
       "0.5574921347420048"
      ]
     },
     "execution_count": 21,
     "metadata": {},
     "output_type": "execute_result"
    }
   ],
   "source": [
    "dr.average_precision('person', t_iou=0.75)"
   ]
  },
  {
   "cell_type": "code",
   "execution_count": 22,
   "metadata": {
    "ExecuteTime": {
     "end_time": "2021-06-30T12:39:09.880522Z",
     "start_time": "2021-06-30T12:39:09.498006Z"
    }
   },
   "outputs": [],
   "source": [
    "dr.match_detections(5)"
   ]
  },
  {
   "cell_type": "code",
   "execution_count": 23,
   "metadata": {
    "ExecuteTime": {
     "end_time": "2021-06-30T12:39:10.320824Z",
     "start_time": "2021-06-30T12:39:09.884046Z"
    }
   },
   "outputs": [
    {
     "data": {
      "text/plain": [
       "0.4318813315869905"
      ]
     },
     "execution_count": 23,
     "metadata": {},
     "output_type": "execute_result"
    }
   ],
   "source": [
    "dr.mean_average_precision(t_iou=0.75)"
   ]
  },
  {
   "cell_type": "code",
   "execution_count": 24,
   "metadata": {
    "ExecuteTime": {
     "end_time": "2021-06-30T12:39:10.388051Z",
     "start_time": "2021-06-30T12:39:10.322546Z"
    }
   },
   "outputs": [
    {
     "data": {
      "text/plain": [
       "True"
      ]
     },
     "execution_count": 24,
     "metadata": {},
     "output_type": "execute_result"
    }
   ],
   "source": [
    "TP = dr._tp_sum('person', 0.75)\n",
    "FP = dr._fp_sum('person', 0.75)\n",
    "TP_coco = dr.coco.eval['tp_sums'][0][5]\n",
    "FP_coco = dr.coco.eval['fp_sums'][0][5]\n",
    "(TP == TP_coco).all()"
   ]
  },
  {
   "cell_type": "code",
   "execution_count": 25,
   "metadata": {
    "ExecuteTime": {
     "end_time": "2021-06-30T12:39:10.394190Z",
     "start_time": "2021-06-30T12:39:10.389910Z"
    }
   },
   "outputs": [
    {
     "data": {
      "text/plain": [
       "0.5667977368947763"
      ]
     },
     "execution_count": 25,
     "metadata": {},
     "output_type": "execute_result"
    }
   ],
   "source": [
    "np.mean(dr.coco.eval[\"precision\"][5, :, 0, 0, -1])"
   ]
  },
  {
   "cell_type": "code",
   "execution_count": 26,
   "metadata": {
    "ExecuteTime": {
     "end_time": "2021-06-30T12:39:10.497086Z",
     "start_time": "2021-06-30T12:39:10.395445Z"
    }
   },
   "outputs": [
    {
     "data": {
      "text/plain": [
       "0.5667977368947763"
      ]
     },
     "execution_count": 26,
     "metadata": {},
     "output_type": "execute_result"
    }
   ],
   "source": [
    "dr.average_precision('person', t_iou=0.75)"
   ]
  },
  {
   "cell_type": "code",
   "execution_count": 27,
   "metadata": {
    "ExecuteTime": {
     "end_time": "2021-06-30T12:39:10.939885Z",
     "start_time": "2021-06-30T12:39:10.498778Z"
    }
   },
   "outputs": [],
   "source": [
    "for name, idx in dr.names.items():\n",
    "    cocoAveP = np.mean(dr.coco.eval[\"precision\"][5, :, idx, 0, -1])\n",
    "    drAveP = dr.average_precision(name, t_iou=0.75)\n",
    "    if cocoAveP != drAveP:\n",
    "        print(f\"Error for {idx} {name}: {cocoAveP=} {drAveP=}\")\n"
   ]
  },
  {
   "cell_type": "code",
   "execution_count": null,
   "metadata": {},
   "outputs": [],
   "source": []
  }
 ],
 "metadata": {
  "kernelspec": {
   "display_name": "Python 3",
   "language": "python",
   "name": "python3"
  },
  "language_info": {
   "codemirror_mode": {
    "name": "ipython",
    "version": 3
   },
   "file_extension": ".py",
   "mimetype": "text/x-python",
   "name": "python",
   "nbconvert_exporter": "python",
   "pygments_lexer": "ipython3",
   "version": "3.9.5"
  },
  "toc": {
   "base_numbering": 1,
   "nav_menu": {},
   "number_sections": true,
   "sideBar": true,
   "skip_h1_title": false,
   "title_cell": "Table of Contents",
   "title_sidebar": "Contents",
   "toc_cell": false,
   "toc_position": {},
   "toc_section_display": true,
   "toc_window_display": false
  }
 },
 "nbformat": 4,
 "nbformat_minor": 4
}
