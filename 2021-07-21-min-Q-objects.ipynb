{
 "cells": [
  {
   "cell_type": "markdown",
   "id": "ad4b99dd",
   "metadata": {},
   "source": [
    "Probably need other ones."
   ]
  },
  {
   "cell_type": "code",
   "execution_count": null,
   "id": "3c129602",
   "metadata": {
    "ExecuteTime": {
     "end_time": "2021-07-21T06:54:13.310208Z",
     "start_time": "2021-07-21T06:54:12.497426Z"
    }
   },
   "outputs": [],
   "source": [
    "from evaldets.visualization import *\n",
    "import logging\n",
    "# logging.basicConfig(level=logging.INFO)"
   ]
  },
  {
   "cell_type": "code",
   "execution_count": null,
   "id": "d6b35e0c",
   "metadata": {
    "ExecuteTime": {
     "end_time": "2021-07-21T06:54:17.134569Z",
     "start_time": "2021-07-21T06:54:13.311802Z"
    }
   },
   "outputs": [],
   "source": [
    "fig, axes = plt.subplots(1, 5)\n",
    "s = 4\n",
    "fs = 40\n",
    "fig.set_figheight(3*s)\n",
    "fig.set_figwidth(15*s)\n",
    "fig, axes\n",
    "\n",
    "axes[0].axis('off')\n",
    "axes[0].imshow(show_single_gt(166023, mode=\"ret\", q=1, v=1), aspect=1)\n",
    "axes[0].set_title('A: min(Q)=1, id=166023', fontsize=fs)\n",
    "axes[1].axis('off')\n",
    "axes[1].imshow(show_single_gt(693003, mode=\"ret\", q=20, v=1), aspect=1)\n",
    "axes[1].set_title('B: min(Q)=20, id=693003', fontsize=fs)\n",
    "axes[2].axis('off')\n",
    "axes[2].imshow(show_single_gt(1264308, mode=\"ret\", q=40, v=1), aspect=1)\n",
    "axes[2].set_title('C: min(Q)=40, id=1264308', fontsize=fs)\n",
    "axes[3].axis('off')\n",
    "axes[3].imshow(show_single_gt(1147645, mode=\"ret\", q=60, v=1), aspect=1)\n",
    "axes[3].set_title('D: min(Q)=60, id=1264308', fontsize=fs)\n",
    "axes[4].axis('off')\n",
    "axes[4].imshow(show_single_gt(2079208, mode=\"ret\", q=80, v=1), aspect=1)\n",
    "axes[4].set_title('E: min(Q)=80, id=1264308', fontsize=fs)\n",
    "fig.savefig(\"Min_Q_examples.pdf\", bbox_inches='tight')"
   ]
  },
  {
   "cell_type": "code",
   "execution_count": null,
   "id": "5b95d1ca",
   "metadata": {},
   "outputs": [],
   "source": []
  }
 ],
 "metadata": {
  "kernelspec": {
   "display_name": "Python 3",
   "language": "python",
   "name": "python3"
  },
  "language_info": {
   "codemirror_mode": {
    "name": "ipython",
    "version": 3
   },
   "file_extension": ".py",
   "mimetype": "text/x-python",
   "name": "python",
   "nbconvert_exporter": "python",
   "pygments_lexer": "ipython3",
   "version": "3.9.6"
  },
  "toc": {
   "base_numbering": 1,
   "nav_menu": {},
   "number_sections": true,
   "sideBar": true,
   "skip_h1_title": false,
   "title_cell": "Table of Contents",
   "title_sidebar": "Contents",
   "toc_cell": false,
   "toc_position": {},
   "toc_section_display": true,
   "toc_window_display": false
  }
 },
 "nbformat": 4,
 "nbformat_minor": 5
}
