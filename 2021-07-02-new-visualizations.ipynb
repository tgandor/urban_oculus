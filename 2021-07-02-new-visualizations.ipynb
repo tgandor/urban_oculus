{
 "cells": [
  {
   "cell_type": "code",
   "execution_count": null,
   "metadata": {
    "ExecuteTime": {
     "end_time": "2021-07-01T23:15:32.957872Z",
     "start_time": "2021-07-01T23:15:32.202418Z"
    }
   },
   "outputs": [],
   "source": [
    "from evaldets.visualization import *\n",
    "from evaldets.results import DetectionResults"
   ]
  },
  {
   "cell_type": "code",
   "execution_count": null,
   "metadata": {
    "ExecuteTime": {
     "end_time": "2021-07-01T23:15:33.597317Z",
     "start_time": "2021-07-01T23:15:32.959297Z"
    }
   },
   "outputs": [],
   "source": [
    "dets = DetectionResults('~/reval_50/R101/evaluator_dump_R101_075/', iou_thresh=0.2)"
   ]
  },
  {
   "cell_type": "code",
   "execution_count": null,
   "metadata": {
    "ExecuteTime": {
     "end_time": "2021-07-01T23:15:33.606257Z",
     "start_time": "2021-07-01T23:15:33.600174Z"
    }
   },
   "outputs": [],
   "source": [
    "len(dets)"
   ]
  },
  {
   "cell_type": "code",
   "execution_count": null,
   "metadata": {
    "ExecuteTime": {
     "end_time": "2021-07-01T23:15:33.613240Z",
     "start_time": "2021-07-01T23:15:33.608083Z"
    }
   },
   "outputs": [],
   "source": [
    "dets[1]"
   ]
  },
  {
   "cell_type": "code",
   "execution_count": null,
   "metadata": {
    "ExecuteTime": {
     "end_time": "2021-07-01T23:15:34.127299Z",
     "start_time": "2021-07-01T23:15:33.614933Z"
    }
   },
   "outputs": [],
   "source": [
    "DSI.gt[104368]"
   ]
  },
  {
   "cell_type": "code",
   "execution_count": null,
   "metadata": {
    "ExecuteTime": {
     "end_time": "2021-07-01T23:15:34.816568Z",
     "start_time": "2021-07-01T23:15:34.128457Z"
    }
   },
   "outputs": [],
   "source": [
    "show_detection(dets[1205], scale=2.0, v=1, q=75)"
   ]
  },
  {
   "cell_type": "code",
   "execution_count": null,
   "metadata": {
    "ExecuteTime": {
     "end_time": "2021-07-01T23:15:34.820106Z",
     "start_time": "2021-07-01T23:15:34.818348Z"
    }
   },
   "outputs": [],
   "source": [
    "d = 1467"
   ]
  },
  {
   "cell_type": "code",
   "execution_count": null,
   "metadata": {
    "ExecuteTime": {
     "end_time": "2021-07-01T23:15:35.263853Z",
     "start_time": "2021-07-01T23:15:34.821358Z"
    }
   },
   "outputs": [],
   "source": [
    "d += 1\n",
    "print(d)\n",
    "show_detection(dets[d], crop=True, v=True, crop_margin=10, q=75, scale=3)"
   ]
  },
  {
   "cell_type": "code",
   "execution_count": null,
   "metadata": {
    "ExecuteTime": {
     "end_time": "2021-07-01T23:15:35.679522Z",
     "start_time": "2021-07-01T23:15:35.265333Z"
    }
   },
   "outputs": [],
   "source": [
    "show_detections(dets[:10], scale=1.5, v=1, q=75)"
   ]
  },
  {
   "cell_type": "code",
   "execution_count": null,
   "metadata": {
    "ExecuteTime": {
     "end_time": "2021-07-01T23:15:35.683849Z",
     "start_time": "2021-07-01T23:15:35.680996Z"
    }
   },
   "outputs": [],
   "source": [
    "len(DSI.gt)"
   ]
  },
  {
   "cell_type": "code",
   "execution_count": null,
   "metadata": {
    "ExecuteTime": {
     "end_time": "2021-07-01T23:15:36.006830Z",
     "start_time": "2021-07-01T23:15:35.685138Z"
    }
   },
   "outputs": [],
   "source": [
    "show_image_objects(33638+0*27768, show_ids=True)"
   ]
  },
  {
   "cell_type": "code",
   "execution_count": null,
   "metadata": {
    "ExecuteTime": {
     "end_time": "2021-07-01T23:15:36.155385Z",
     "start_time": "2021-07-01T23:15:36.008136Z"
    }
   },
   "outputs": [],
   "source": [
    "show_detections(dets.detections_by_image_id(33638))"
   ]
  }
 ],
 "metadata": {
  "kernelspec": {
   "display_name": "Python 3",
   "language": "python",
   "name": "python3"
  },
  "language_info": {
   "codemirror_mode": {
    "name": "ipython",
    "version": 3
   },
   "file_extension": ".py",
   "mimetype": "text/x-python",
   "name": "python",
   "nbconvert_exporter": "python",
   "pygments_lexer": "ipython3",
   "version": "3.9.5"
  },
  "toc": {
   "base_numbering": 1,
   "nav_menu": {},
   "number_sections": true,
   "sideBar": true,
   "skip_h1_title": false,
   "title_cell": "Table of Contents",
   "title_sidebar": "Contents",
   "toc_cell": false,
   "toc_position": {},
   "toc_section_display": true,
   "toc_window_display": false
  }
 },
 "nbformat": 4,
 "nbformat_minor": 4
}
