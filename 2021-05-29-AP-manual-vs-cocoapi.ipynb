{
 "cells": [
  {
   "cell_type": "code",
   "execution_count": 2,
   "metadata": {
    "ExecuteTime": {
     "end_time": "2021-06-06T10:57:03.800447Z",
     "start_time": "2021-06-06T10:57:01.832167Z"
    }
   },
   "outputs": [],
   "source": [
    "import numpy as np\n",
    "import pandas as pd\n",
    "from matplotlib import pyplot as plt\n",
    "from evaluation import *\n",
    "from imports import *"
   ]
  },
  {
   "cell_type": "code",
   "execution_count": 3,
   "metadata": {
    "ExecuteTime": {
     "end_time": "2021-06-06T10:57:15.236283Z",
     "start_time": "2021-06-06T10:57:03.801987Z"
    }
   },
   "outputs": [
    {
     "name": "stdout",
     "output_type": "stream",
     "text": [
      "nCats: 80 1600000 1600000\n"
     ]
    }
   ],
   "source": [
    "dr = DetectionResults('../reval_50/baseline_50/evaluator_dump_R50_101/', area_rng=None, iou_thresh=None, rounding=False, debug=0)"
   ]
  },
  {
   "cell_type": "code",
   "execution_count": 4,
   "metadata": {
    "ExecuteTime": {
     "end_time": "2021-06-06T10:57:15.244191Z",
     "start_time": "2021-06-06T10:57:15.238610Z"
    }
   },
   "outputs": [
    {
     "data": {
      "text/plain": [
       "<pycocotools.coco.COCO at 0x7f446e558050>"
      ]
     },
     "execution_count": 4,
     "metadata": {},
     "output_type": "execute_result"
    }
   ],
   "source": [
    "dr.gt."
   ]
  },
  {
   "cell_type": "code",
   "execution_count": 3,
   "metadata": {
    "ExecuteTime": {
     "end_time": "2021-05-31T01:46:40.286924Z",
     "start_time": "2021-05-31T01:46:38.454974Z"
    }
   },
   "outputs": [],
   "source": [
    "dr.coco.accumulate()"
   ]
  },
  {
   "cell_type": "code",
   "execution_count": 4,
   "metadata": {
    "ExecuteTime": {
     "end_time": "2021-05-31T01:46:40.296552Z",
     "start_time": "2021-05-31T01:46:40.288533Z"
    }
   },
   "outputs": [
    {
     "name": "stdout",
     "output_type": "stream",
     "text": [
      " Average Precision  (AP) @[ IoU=0.50:0.95 | area=   all | maxDets=100 ] = 0.316\n",
      " Average Precision  (AP) @[ IoU=0.50      | area=   all | maxDets=100 ] = 0.443\n",
      " Average Precision  (AP) @[ IoU=0.75      | area=   all | maxDets=100 ] = 0.352\n",
      " Average Precision  (AP) @[ IoU=0.50:0.95 | area= small | maxDets=100 ] = 0.141\n",
      " Average Precision  (AP) @[ IoU=0.50:0.95 | area=medium | maxDets=100 ] = 0.348\n",
      " Average Precision  (AP) @[ IoU=0.50:0.95 | area= large | maxDets=100 ] = 0.443\n",
      " Average Recall     (AR) @[ IoU=0.50:0.95 | area=   all | maxDets=  1 ] = 0.265\n",
      " Average Recall     (AR) @[ IoU=0.50:0.95 | area=   all | maxDets= 10 ] = 0.361\n",
      " Average Recall     (AR) @[ IoU=0.50:0.95 | area=   all | maxDets=100 ] = 0.363\n",
      " Average Recall     (AR) @[ IoU=0.50:0.95 | area= small | maxDets=100 ] = 0.152\n",
      " Average Recall     (AR) @[ IoU=0.50:0.95 | area=medium | maxDets=100 ] = 0.394\n",
      " Average Recall     (AR) @[ IoU=0.50:0.95 | area= large | maxDets=100 ] = 0.519\n"
     ]
    }
   ],
   "source": [
    "dr.coco.summarize()"
   ]
  },
  {
   "cell_type": "code",
   "execution_count": 5,
   "metadata": {
    "ExecuteTime": {
     "end_time": "2021-05-31T01:46:40.307196Z",
     "start_time": "2021-05-31T01:46:40.297873Z"
    }
   },
   "outputs": [
    {
     "data": {
      "text/plain": [
       "80"
      ]
     },
     "execution_count": 5,
     "metadata": {},
     "output_type": "execute_result"
    }
   ],
   "source": [
    "len(dr.names.all)"
   ]
  },
  {
   "cell_type": "code",
   "execution_count": 6,
   "metadata": {
    "ExecuteTime": {
     "end_time": "2021-05-31T01:46:40.398302Z",
     "start_time": "2021-05-31T01:46:40.308651Z"
    }
   },
   "outputs": [],
   "source": [
    "dets = pd.DataFrame(obj for l in dr.coco._dts.values() for obj in l)"
   ]
  },
  {
   "cell_type": "code",
   "execution_count": 7,
   "metadata": {
    "ExecuteTime": {
     "end_time": "2021-05-31T01:46:40.412378Z",
     "start_time": "2021-05-31T01:46:40.399675Z"
    }
   },
   "outputs": [
    {
     "name": "stdout",
     "output_type": "stream",
     "text": [
      "<class 'pandas.core.frame.DataFrame'>\n",
      "RangeIndex: 23184 entries, 0 to 23183\n",
      "Data columns (total 10 columns):\n",
      " #   Column         Non-Null Count  Dtype  \n",
      "---  ------         --------------  -----  \n",
      " 0   image_id       23184 non-null  int64  \n",
      " 1   bbox           23184 non-null  object \n",
      " 2   score          23184 non-null  float64\n",
      " 3   area           23184 non-null  float64\n",
      " 4   iscrowd        23184 non-null  int64  \n",
      " 5   true_positive  23184 non-null  bool   \n",
      " 6   iou            18297 non-null  float64\n",
      " 7   gt_id          18297 non-null  float64\n",
      " 8   gt_bbox        18297 non-null  object \n",
      " 9   category       23184 non-null  object \n",
      "dtypes: bool(1), float64(4), int64(2), object(3)\n",
      "memory usage: 1.6+ MB\n"
     ]
    }
   ],
   "source": [
    "dets.info()"
   ]
  },
  {
   "cell_type": "code",
   "execution_count": 8,
   "metadata": {
    "ExecuteTime": {
     "end_time": "2021-05-31T01:46:40.481511Z",
     "start_time": "2021-05-31T01:46:40.415294Z"
    }
   },
   "outputs": [],
   "source": [
    "gts = pd.DataFrame((gt for row in dr.coco._gts.values() for gt in row), columns=['ignore', 'iscrowd'])"
   ]
  },
  {
   "cell_type": "code",
   "execution_count": 9,
   "metadata": {
    "ExecuteTime": {
     "end_time": "2021-05-31T01:46:40.497580Z",
     "start_time": "2021-05-31T01:46:40.483352Z"
    }
   },
   "outputs": [
    {
     "name": "stdout",
     "output_type": "stream",
     "text": [
      "<class 'pandas.core.frame.DataFrame'>\n",
      "RangeIndex: 36781 entries, 0 to 36780\n",
      "Data columns (total 2 columns):\n",
      " #   Column   Non-Null Count  Dtype\n",
      "---  ------   --------------  -----\n",
      " 0   ignore   36781 non-null  int64\n",
      " 1   iscrowd  36781 non-null  int64\n",
      "dtypes: int64(2)\n",
      "memory usage: 574.8 KB\n"
     ]
    }
   ],
   "source": [
    "gts.info()"
   ]
  },
  {
   "cell_type": "code",
   "execution_count": 10,
   "metadata": {
    "ExecuteTime": {
     "end_time": "2021-05-31T01:46:40.502288Z",
     "start_time": "2021-05-31T01:46:40.499110Z"
    }
   },
   "outputs": [],
   "source": [
    "x, *y = top(dr.detections)"
   ]
  },
  {
   "cell_type": "code",
   "execution_count": 11,
   "metadata": {
    "ExecuteTime": {
     "end_time": "2021-05-31T01:46:40.513888Z",
     "start_time": "2021-05-31T01:46:40.503701Z"
    }
   },
   "outputs": [
    {
     "data": {
      "text/plain": [
       "{'image_id': 139,\n",
       " 'bbox': [3.665334701538086,\n",
       "  165.8559112548828,\n",
       "  150.8690948486328,\n",
       "  98.82243347167969],\n",
       " 'score': 0.8734709620475769,\n",
       " 'area': 14909.251088611549,\n",
       " 'iscrowd': 0,\n",
       " 'true_positive': True,\n",
       " 'iou': 0.9278752484858206,\n",
       " 'gt_id': 34646,\n",
       " 'gt_bbox': [7.03, 167.76, 149.32, 94.87],\n",
       " 'category': 'tv'}"
      ]
     },
     "execution_count": 11,
     "metadata": {},
     "output_type": "execute_result"
    }
   ],
   "source": [
    "x"
   ]
  },
  {
   "cell_type": "code",
   "execution_count": 12,
   "metadata": {
    "ExecuteTime": {
     "end_time": "2021-05-31T01:46:40.525141Z",
     "start_time": "2021-05-31T01:46:40.515147Z"
    }
   },
   "outputs": [
    {
     "data": {
      "text/plain": [
       "{'area': 13244.657700000002,\n",
       " 'iscrowd': 0,\n",
       " 'image_id': 139,\n",
       " 'bbox': [7.03, 167.76, 149.32, 94.87],\n",
       " 'category_id': 72,\n",
       " 'id': 34646,\n",
       " 'ignore': 0,\n",
       " '_ignore': 0}"
      ]
     },
     "execution_count": 12,
     "metadata": {},
     "output_type": "execute_result"
    }
   ],
   "source": [
    "dr.gt.anns[34646]"
   ]
  },
  {
   "cell_type": "code",
   "execution_count": 13,
   "metadata": {
    "ExecuteTime": {
     "end_time": "2021-05-31T01:46:40.533883Z",
     "start_time": "2021-05-31T01:46:40.526578Z"
    }
   },
   "outputs": [
    {
     "data": {
      "text/plain": [
       "14165.9884"
      ]
     },
     "execution_count": 13,
     "metadata": {},
     "output_type": "execute_result"
    }
   ],
   "source": [
    "149.32 * 94.87"
   ]
  },
  {
   "cell_type": "code",
   "execution_count": 14,
   "metadata": {
    "ExecuteTime": {
     "end_time": "2021-05-31T01:46:40.542310Z",
     "start_time": "2021-05-31T01:46:40.535541Z"
    }
   },
   "outputs": [],
   "source": [
    "from detectron2.structures import BoxMode"
   ]
  },
  {
   "cell_type": "code",
   "execution_count": 15,
   "metadata": {
    "ExecuteTime": {
     "end_time": "2021-05-31T01:46:40.559043Z",
     "start_time": "2021-05-31T01:46:40.543781Z"
    }
   },
   "outputs": [
    {
     "data": {
      "text/plain": [
       "[3.665334701538086, 165.8559112548828, 154.534423828125, 264.6783447265625]"
      ]
     },
     "execution_count": 15,
     "metadata": {},
     "output_type": "execute_result"
    }
   ],
   "source": [
    "BoxMode.convert(x['bbox'], BoxMode.XYWH_ABS, BoxMode.XYXY_ABS)"
   ]
  },
  {
   "cell_type": "code",
   "execution_count": 16,
   "metadata": {
    "ExecuteTime": {
     "end_time": "2021-05-31T01:46:40.570074Z",
     "start_time": "2021-05-31T01:46:40.563836Z"
    }
   },
   "outputs": [
    {
     "data": {
      "text/plain": [
       "14909.251088611549"
      ]
     },
     "execution_count": 16,
     "metadata": {},
     "output_type": "execute_result"
    }
   ],
   "source": [
    "x['bbox'][-1] * x['bbox'][-2]"
   ]
  },
  {
   "cell_type": "code",
   "execution_count": 17,
   "metadata": {
    "ExecuteTime": {
     "end_time": "2021-05-31T01:46:40.591978Z",
     "start_time": "2021-05-31T01:46:40.572526Z"
    }
   },
   "outputs": [
    {
     "data": {
      "text/html": [
       "<div>\n",
       "<style scoped>\n",
       "    .dataframe tbody tr th:only-of-type {\n",
       "        vertical-align: middle;\n",
       "    }\n",
       "\n",
       "    .dataframe tbody tr th {\n",
       "        vertical-align: top;\n",
       "    }\n",
       "\n",
       "    .dataframe thead th {\n",
       "        text-align: right;\n",
       "    }\n",
       "</style>\n",
       "<table border=\"1\" class=\"dataframe\">\n",
       "  <thead>\n",
       "    <tr style=\"text-align: right;\">\n",
       "      <th></th>\n",
       "      <th>image_id</th>\n",
       "      <th>bbox</th>\n",
       "      <th>score</th>\n",
       "      <th>area</th>\n",
       "      <th>iscrowd</th>\n",
       "      <th>true_positive</th>\n",
       "      <th>iou</th>\n",
       "      <th>gt_id</th>\n",
       "      <th>gt_bbox</th>\n",
       "      <th>category</th>\n",
       "    </tr>\n",
       "  </thead>\n",
       "  <tbody>\n",
       "  </tbody>\n",
       "</table>\n",
       "</div>"
      ],
      "text/plain": [
       "Empty DataFrame\n",
       "Columns: [image_id, bbox, score, area, iscrowd, true_positive, iou, gt_id, gt_bbox, category]\n",
       "Index: []"
      ]
     },
     "execution_count": 17,
     "metadata": {},
     "output_type": "execute_result"
    }
   ],
   "source": [
    "dets[dets.iscrowd == 1]"
   ]
  },
  {
   "cell_type": "code",
   "execution_count": 18,
   "metadata": {
    "ExecuteTime": {
     "end_time": "2021-05-31T01:46:40.597902Z",
     "start_time": "2021-05-31T01:46:40.593720Z"
    }
   },
   "outputs": [
    {
     "data": {
      "text/plain": [
       "[('info', dict),\n",
       " ('licenses', list),\n",
       " ('images', list),\n",
       " ('annotations', list),\n",
       " ('categories', list)]"
      ]
     },
     "execution_count": 18,
     "metadata": {},
     "output_type": "execute_result"
    }
   ],
   "source": [
    "dr.gt.dataset[\"categories\"];\n",
    "[(x, type(v)) for x, v in dr.gt.dataset.items()]"
   ]
  },
  {
   "cell_type": "code",
   "execution_count": 19,
   "metadata": {
    "ExecuteTime": {
     "end_time": "2021-05-31T01:46:40.603954Z",
     "start_time": "2021-05-31T01:46:40.599640Z"
    }
   },
   "outputs": [
    {
     "data": {
      "text/plain": [
       "dict_keys(['image_id', 'bbox', 'score', 'area', 'iscrowd', 'true_positive', 'iou', 'gt_id', 'gt_bbox', 'category'])"
      ]
     },
     "execution_count": 19,
     "metadata": {},
     "output_type": "execute_result"
    }
   ],
   "source": [
    "x.keys()"
   ]
  },
  {
   "cell_type": "code",
   "execution_count": 20,
   "metadata": {
    "ExecuteTime": {
     "end_time": "2021-05-31T01:46:40.613962Z",
     "start_time": "2021-05-31T01:46:40.606139Z"
    }
   },
   "outputs": [
    {
     "data": {
      "text/plain": [
       "0.9278752484858206"
      ]
     },
     "execution_count": 20,
     "metadata": {},
     "output_type": "execute_result"
    }
   ],
   "source": [
    "x[\"iou\"]"
   ]
  },
  {
   "cell_type": "code",
   "execution_count": 21,
   "metadata": {
    "ExecuteTime": {
     "end_time": "2021-05-31T01:46:40.626498Z",
     "start_time": "2021-05-31T01:46:40.616534Z"
    }
   },
   "outputs": [
    {
     "data": {
      "text/plain": [
       "0.9278752484858206"
      ]
     },
     "execution_count": 21,
     "metadata": {},
     "output_type": "execute_result"
    }
   ],
   "source": [
    "compute_iou(x)"
   ]
  },
  {
   "cell_type": "code",
   "execution_count": 22,
   "metadata": {
    "ExecuteTime": {
     "end_time": "2021-05-31T01:46:40.634310Z",
     "start_time": "2021-05-31T01:46:40.628626Z"
    }
   },
   "outputs": [
    {
     "data": {
      "text/plain": [
       "[True, True, True, True, True, True]"
      ]
     },
     "execution_count": 22,
     "metadata": {},
     "output_type": "execute_result"
    }
   ],
   "source": [
    "[compute_iou(x) == x[\"iou\"] for x in y if x[\"true_positive\"]]"
   ]
  },
  {
   "cell_type": "code",
   "execution_count": 23,
   "metadata": {
    "ExecuteTime": {
     "end_time": "2021-05-31T01:46:40.648850Z",
     "start_time": "2021-05-31T01:46:40.638556Z"
    }
   },
   "outputs": [
    {
     "name": "stdout",
     "output_type": "stream",
     "text": [
      " Average Precision  (AP) @[ IoU=0.50:0.95 | area=   all | maxDets=100 ] = 0.316\n",
      " Average Precision  (AP) @[ IoU=0.50      | area=   all | maxDets=100 ] = 0.443\n",
      " Average Precision  (AP) @[ IoU=0.75      | area=   all | maxDets=100 ] = 0.352\n",
      " Average Precision  (AP) @[ IoU=0.50:0.95 | area= small | maxDets=100 ] = 0.141\n",
      " Average Precision  (AP) @[ IoU=0.50:0.95 | area=medium | maxDets=100 ] = 0.348\n",
      " Average Precision  (AP) @[ IoU=0.50:0.95 | area= large | maxDets=100 ] = 0.443\n",
      " Average Recall     (AR) @[ IoU=0.50:0.95 | area=   all | maxDets=  1 ] = 0.265\n",
      " Average Recall     (AR) @[ IoU=0.50:0.95 | area=   all | maxDets= 10 ] = 0.361\n",
      " Average Recall     (AR) @[ IoU=0.50:0.95 | area=   all | maxDets=100 ] = 0.363\n",
      " Average Recall     (AR) @[ IoU=0.50:0.95 | area= small | maxDets=100 ] = 0.152\n",
      " Average Recall     (AR) @[ IoU=0.50:0.95 | area=medium | maxDets=100 ] = 0.394\n",
      " Average Recall     (AR) @[ IoU=0.50:0.95 | area= large | maxDets=100 ] = 0.519\n"
     ]
    }
   ],
   "source": [
    "dr.coco.summarize()"
   ]
  },
  {
   "cell_type": "code",
   "execution_count": 24,
   "metadata": {
    "ExecuteTime": {
     "end_time": "2021-05-31T01:46:44.691916Z",
     "start_time": "2021-05-31T01:46:40.650725Z"
    }
   },
   "outputs": [
    {
     "data": {
      "text/plain": [
       "0.4437226490908093"
      ]
     },
     "execution_count": 24,
     "metadata": {},
     "output_type": "execute_result"
    }
   ],
   "source": [
    "dr.mean_average_precision()"
   ]
  },
  {
   "cell_type": "code",
   "execution_count": 25,
   "metadata": {
    "ExecuteTime": {
     "end_time": "2021-05-31T01:46:48.809046Z",
     "start_time": "2021-05-31T01:46:44.693903Z"
    }
   },
   "outputs": [
    {
     "data": {
      "text/plain": [
       "0.35157542767196426"
      ]
     },
     "execution_count": 25,
     "metadata": {},
     "output_type": "execute_result"
    }
   ],
   "source": [
    "dr.mean_average_precision(0.75)"
   ]
  },
  {
   "cell_type": "markdown",
   "metadata": {},
   "source": [
    "Fair enough."
   ]
  },
  {
   "cell_type": "code",
   "execution_count": 26,
   "metadata": {
    "ExecuteTime": {
     "end_time": "2021-05-31T01:47:29.116384Z",
     "start_time": "2021-05-31T01:46:48.810966Z"
    }
   },
   "outputs": [
    {
     "data": {
      "text/plain": [
       "0.3159372198956375"
      ]
     },
     "execution_count": 26,
     "metadata": {},
     "output_type": "execute_result"
    }
   ],
   "source": [
    "np.mean([dr.mean_average_precision(t) for t in dr.coco.params.iouThrs])"
   ]
  },
  {
   "cell_type": "markdown",
   "metadata": {},
   "source": [
    "This is likely to be OK, regardless of averaging order (class / T_iou)."
   ]
  },
  {
   "cell_type": "code",
   "execution_count": 27,
   "metadata": {
    "ExecuteTime": {
     "end_time": "2021-05-31T01:47:29.121840Z",
     "start_time": "2021-05-31T01:47:29.118060Z"
    }
   },
   "outputs": [
    {
     "data": {
      "text/plain": [
       "[True, True, True, True, True, True, True, True, True]"
      ]
     },
     "execution_count": 27,
     "metadata": {},
     "output_type": "execute_result"
    }
   ],
   "source": [
    "[x['area'] == x['bbox'][-1] * x['bbox'][-2] for x in y]"
   ]
  },
  {
   "cell_type": "markdown",
   "metadata": {},
   "source": [
    "For detections, the area is computed from bbox (obviously)."
   ]
  }
 ],
 "metadata": {
  "kernelspec": {
   "display_name": "Python 3",
   "language": "python",
   "name": "python3"
  },
  "language_info": {
   "codemirror_mode": {
    "name": "ipython",
    "version": 3
   },
   "file_extension": ".py",
   "mimetype": "text/x-python",
   "name": "python",
   "nbconvert_exporter": "python",
   "pygments_lexer": "ipython3",
   "version": "3.7.6"
  },
  "toc": {
   "base_numbering": 1,
   "nav_menu": {},
   "number_sections": true,
   "sideBar": true,
   "skip_h1_title": false,
   "title_cell": "Table of Contents",
   "title_sidebar": "Contents",
   "toc_cell": false,
   "toc_position": {},
   "toc_section_display": true,
   "toc_window_display": false
  }
 },
 "nbformat": 4,
 "nbformat_minor": 4
}
