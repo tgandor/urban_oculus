{
 "cells": [
  {
   "cell_type": "code",
   "execution_count": 1,
   "metadata": {
    "ExecuteTime": {
     "end_time": "2021-06-14T13:13:56.099380Z",
     "start_time": "2021-06-14T13:13:54.985393Z"
    }
   },
   "outputs": [],
   "source": [
    "import numpy as np\n",
    "import pandas as pd\n",
    "from matplotlib import pyplot as plt\n",
    "from evaldets.api import *\n",
    "from uo.utils import *"
   ]
  },
  {
   "cell_type": "code",
   "execution_count": 2,
   "metadata": {
    "ExecuteTime": {
     "end_time": "2021-06-14T13:14:11.534449Z",
     "start_time": "2021-06-14T13:13:56.101245Z"
    }
   },
   "outputs": [],
   "source": [
    "dr = DetectionResults('../reval_50/baseline_50/evaluator_dump_R50_101/', area_rng=None, iou_thresh=None, rounding=False, debug=0)"
   ]
  },
  {
   "cell_type": "code",
   "execution_count": 3,
   "metadata": {
    "ExecuteTime": {
     "end_time": "2021-06-14T13:14:11.545492Z",
     "start_time": "2021-06-14T13:14:11.538605Z"
    }
   },
   "outputs": [
    {
     "data": {
      "text/plain": [
       "[{'area': 702.1057499999998,\n",
       "  'iscrowd': 0,\n",
       "  'image_id': 289343,\n",
       "  'bbox': [473.07, 395.93, 38.65, 28.67],\n",
       "  'category_id': 18,\n",
       "  'id': 1768,\n",
       "  'ignore': 0,\n",
       "  '_ignore': 1},\n",
       " {'area': 27718.476299999995,\n",
       "  'iscrowd': 0,\n",
       "  'image_id': 61471,\n",
       "  'bbox': [272.1, 200.23, 151.97, 279.77],\n",
       "  'category_id': 18,\n",
       "  'id': 1773,\n",
       "  'ignore': 0,\n",
       "  '_ignore': 0},\n",
       " {'area': 78969.31690000003,\n",
       "  'iscrowd': 0,\n",
       "  'image_id': 472375,\n",
       "  'bbox': [124.71, 196.18, 372.85, 356.81],\n",
       "  'category_id': 18,\n",
       "  'id': 2551,\n",
       "  'ignore': 0,\n",
       "  '_ignore': 0},\n",
       " {'area': 108316.66515000002,\n",
       "  'iscrowd': 0,\n",
       "  'image_id': 520301,\n",
       "  'bbox': [112.71, 154.82, 367.29, 479.35],\n",
       "  'category_id': 18,\n",
       "  'id': 3186,\n",
       "  'ignore': 0,\n",
       "  '_ignore': 0}]"
      ]
     },
     "execution_count": 3,
     "metadata": {},
     "output_type": "execute_result"
    }
   ],
   "source": [
    "dr.gt.dataset['annotations'][:4]"
   ]
  },
  {
   "cell_type": "code",
   "execution_count": 4,
   "metadata": {
    "ExecuteTime": {
     "end_time": "2021-06-14T13:14:13.946461Z",
     "start_time": "2021-06-14T13:14:11.547774Z"
    }
   },
   "outputs": [],
   "source": [
    "dr.coco.accumulate()"
   ]
  },
  {
   "cell_type": "code",
   "execution_count": 5,
   "metadata": {
    "ExecuteTime": {
     "end_time": "2021-06-14T13:14:13.958512Z",
     "start_time": "2021-06-14T13:14:13.948101Z"
    }
   },
   "outputs": [
    {
     "name": "stdout",
     "output_type": "stream",
     "text": [
      " Average Precision  (AP) @[ IoU=0.50:0.95 | area=   all | maxDets=100 ] = 0.316\n",
      " Average Precision  (AP) @[ IoU=0.50      | area=   all | maxDets=100 ] = 0.443\n",
      " Average Precision  (AP) @[ IoU=0.75      | area=   all | maxDets=100 ] = 0.352\n",
      " Average Precision  (AP) @[ IoU=0.50:0.95 | area= small | maxDets=100 ] = 0.141\n",
      " Average Precision  (AP) @[ IoU=0.50:0.95 | area=medium | maxDets=100 ] = 0.348\n",
      " Average Precision  (AP) @[ IoU=0.50:0.95 | area= large | maxDets=100 ] = 0.443\n",
      " Average Recall     (AR) @[ IoU=0.50:0.95 | area=   all | maxDets=  1 ] = 0.265\n",
      " Average Recall     (AR) @[ IoU=0.50:0.95 | area=   all | maxDets= 10 ] = 0.361\n",
      " Average Recall     (AR) @[ IoU=0.50:0.95 | area=   all | maxDets=100 ] = 0.363\n",
      " Average Recall     (AR) @[ IoU=0.50:0.95 | area= small | maxDets=100 ] = 0.152\n",
      " Average Recall     (AR) @[ IoU=0.50:0.95 | area=medium | maxDets=100 ] = 0.394\n",
      " Average Recall     (AR) @[ IoU=0.50:0.95 | area= large | maxDets=100 ] = 0.519\n"
     ]
    }
   ],
   "source": [
    "dr.coco.summarize()"
   ]
  },
  {
   "cell_type": "code",
   "execution_count": 6,
   "metadata": {
    "ExecuteTime": {
     "end_time": "2021-06-14T13:14:13.965692Z",
     "start_time": "2021-06-14T13:14:13.960182Z"
    }
   },
   "outputs": [
    {
     "data": {
      "text/plain": [
       "80"
      ]
     },
     "execution_count": 6,
     "metadata": {},
     "output_type": "execute_result"
    }
   ],
   "source": [
    "len(dr.names.all)"
   ]
  },
  {
   "cell_type": "code",
   "execution_count": 7,
   "metadata": {
    "ExecuteTime": {
     "end_time": "2021-06-14T13:14:14.060391Z",
     "start_time": "2021-06-14T13:14:13.967983Z"
    }
   },
   "outputs": [],
   "source": [
    "dets = pd.DataFrame(obj for l in dr.coco._dts.values() for obj in l)"
   ]
  },
  {
   "cell_type": "code",
   "execution_count": 8,
   "metadata": {
    "ExecuteTime": {
     "end_time": "2021-06-14T13:14:14.077891Z",
     "start_time": "2021-06-14T13:14:14.063328Z"
    }
   },
   "outputs": [
    {
     "name": "stdout",
     "output_type": "stream",
     "text": [
      "<class 'pandas.core.frame.DataFrame'>\n",
      "RangeIndex: 23184 entries, 0 to 23183\n",
      "Data columns (total 9 columns):\n",
      " #   Column    Non-Null Count  Dtype  \n",
      "---  ------    --------------  -----  \n",
      " 0   image_id  23184 non-null  int64  \n",
      " 1   score     23184 non-null  float64\n",
      " 2   iou       18297 non-null  float64\n",
      " 3   gt_id     18297 non-null  float64\n",
      " 4   category  23184 non-null  object \n",
      " 5   x         23184 non-null  float64\n",
      " 6   y         23184 non-null  float64\n",
      " 7   w         23184 non-null  float64\n",
      " 8   h         23184 non-null  float64\n",
      "dtypes: float64(7), int64(1), object(1)\n",
      "memory usage: 1.6+ MB\n"
     ]
    }
   ],
   "source": [
    "dets.info()"
   ]
  },
  {
   "cell_type": "code",
   "execution_count": 9,
   "metadata": {
    "ExecuteTime": {
     "end_time": "2021-06-14T13:14:14.155652Z",
     "start_time": "2021-06-14T13:14:14.079969Z"
    }
   },
   "outputs": [],
   "source": [
    "gts = pd.DataFrame((gt for row in dr.coco._gts.values() for gt in row), columns=['ignore', 'iscrowd'])"
   ]
  },
  {
   "cell_type": "code",
   "execution_count": 10,
   "metadata": {
    "ExecuteTime": {
     "end_time": "2021-06-14T13:14:14.165183Z",
     "start_time": "2021-06-14T13:14:14.157469Z"
    }
   },
   "outputs": [
    {
     "name": "stdout",
     "output_type": "stream",
     "text": [
      "<class 'pandas.core.frame.DataFrame'>\n",
      "RangeIndex: 36781 entries, 0 to 36780\n",
      "Data columns (total 2 columns):\n",
      " #   Column   Non-Null Count  Dtype\n",
      "---  ------   --------------  -----\n",
      " 0   ignore   36781 non-null  int64\n",
      " 1   iscrowd  36781 non-null  int64\n",
      "dtypes: int64(2)\n",
      "memory usage: 574.8 KB\n"
     ]
    }
   ],
   "source": [
    "gts.info()"
   ]
  },
  {
   "cell_type": "code",
   "execution_count": 11,
   "metadata": {
    "ExecuteTime": {
     "end_time": "2021-06-14T13:14:14.174252Z",
     "start_time": "2021-06-14T13:14:14.166885Z"
    }
   },
   "outputs": [],
   "source": [
    "x, *y = top(dr.detections)"
   ]
  },
  {
   "cell_type": "code",
   "execution_count": 12,
   "metadata": {
    "ExecuteTime": {
     "end_time": "2021-06-14T13:14:14.192174Z",
     "start_time": "2021-06-14T13:14:14.175794Z"
    }
   },
   "outputs": [
    {
     "data": {
      "text/plain": [
       "{'image_id': 139,\n",
       " 'score': 0.8734709620475769,\n",
       " 'iou': 0.9278752484858206,\n",
       " 'gt_id': 34646,\n",
       " 'category': 'tv',\n",
       " 'x': 3.665334701538086,\n",
       " 'y': 165.8559112548828,\n",
       " 'w': 150.8690948486328,\n",
       " 'h': 98.82243347167969}"
      ]
     },
     "execution_count": 12,
     "metadata": {},
     "output_type": "execute_result"
    }
   ],
   "source": [
    "x"
   ]
  },
  {
   "cell_type": "code",
   "execution_count": 13,
   "metadata": {
    "ExecuteTime": {
     "end_time": "2021-06-14T13:14:14.201454Z",
     "start_time": "2021-06-14T13:14:14.196087Z"
    }
   },
   "outputs": [
    {
     "data": {
      "text/plain": [
       "{'area': 13244.657700000002,\n",
       " 'iscrowd': 0,\n",
       " 'image_id': 139,\n",
       " 'bbox': [7.03, 167.76, 149.32, 94.87],\n",
       " 'category_id': 72,\n",
       " 'id': 34646,\n",
       " 'ignore': 0,\n",
       " '_ignore': 0}"
      ]
     },
     "execution_count": 13,
     "metadata": {},
     "output_type": "execute_result"
    }
   ],
   "source": [
    "dr.gt.anns[34646]"
   ]
  },
  {
   "cell_type": "code",
   "execution_count": 14,
   "metadata": {
    "ExecuteTime": {
     "end_time": "2021-06-14T13:14:14.214763Z",
     "start_time": "2021-06-14T13:14:14.203052Z"
    }
   },
   "outputs": [
    {
     "data": {
      "text/plain": [
       "14165.9884"
      ]
     },
     "execution_count": 14,
     "metadata": {},
     "output_type": "execute_result"
    }
   ],
   "source": [
    "149.32 * 94.87"
   ]
  },
  {
   "cell_type": "code",
   "execution_count": 15,
   "metadata": {
    "ExecuteTime": {
     "end_time": "2021-06-14T13:14:14.223897Z",
     "start_time": "2021-06-14T13:14:14.216309Z"
    }
   },
   "outputs": [],
   "source": [
    "from detectron2.structures import BoxMode"
   ]
  },
  {
   "cell_type": "code",
   "execution_count": 16,
   "metadata": {
    "ExecuteTime": {
     "end_time": "2021-06-14T13:14:14.234440Z",
     "start_time": "2021-06-14T13:14:14.226176Z"
    }
   },
   "outputs": [
    {
     "data": {
      "text/plain": [
       "0.9278752484858206"
      ]
     },
     "execution_count": 16,
     "metadata": {},
     "output_type": "execute_result"
    }
   ],
   "source": [
    "x[\"iou\"]"
   ]
  },
  {
   "cell_type": "code",
   "execution_count": 17,
   "metadata": {
    "ExecuteTime": {
     "end_time": "2021-06-14T13:14:14.244867Z",
     "start_time": "2021-06-14T13:14:14.235651Z"
    }
   },
   "outputs": [
    {
     "data": {
      "text/plain": [
       "0.9278752484858206"
      ]
     },
     "execution_count": 17,
     "metadata": {},
     "output_type": "execute_result"
    }
   ],
   "source": [
    "compute_iou(x, dr.gt.anns[x[\"gt_id\"]])"
   ]
  },
  {
   "cell_type": "code",
   "execution_count": 21,
   "metadata": {
    "ExecuteTime": {
     "end_time": "2021-06-14T13:18:57.424667Z",
     "start_time": "2021-06-14T13:18:57.408139Z"
    }
   },
   "outputs": [
    {
     "data": {
      "text/plain": [
       "[True, True, True, True, True, True]"
      ]
     },
     "execution_count": 21,
     "metadata": {},
     "output_type": "execute_result"
    }
   ],
   "source": [
    "[compute_iou(x, dr.gt.anns[x[\"gt_id\"]]) == x[\"iou\"] for x in y if \"gt_id\" in x]"
   ]
  },
  {
   "cell_type": "code",
   "execution_count": 22,
   "metadata": {
    "ExecuteTime": {
     "end_time": "2021-06-14T13:19:05.077681Z",
     "start_time": "2021-06-14T13:19:05.057844Z"
    }
   },
   "outputs": [
    {
     "name": "stdout",
     "output_type": "stream",
     "text": [
      " Average Precision  (AP) @[ IoU=0.50:0.95 | area=   all | maxDets=100 ] = 0.316\n",
      " Average Precision  (AP) @[ IoU=0.50      | area=   all | maxDets=100 ] = 0.443\n",
      " Average Precision  (AP) @[ IoU=0.75      | area=   all | maxDets=100 ] = 0.352\n",
      " Average Precision  (AP) @[ IoU=0.50:0.95 | area= small | maxDets=100 ] = 0.141\n",
      " Average Precision  (AP) @[ IoU=0.50:0.95 | area=medium | maxDets=100 ] = 0.348\n",
      " Average Precision  (AP) @[ IoU=0.50:0.95 | area= large | maxDets=100 ] = 0.443\n",
      " Average Recall     (AR) @[ IoU=0.50:0.95 | area=   all | maxDets=  1 ] = 0.265\n",
      " Average Recall     (AR) @[ IoU=0.50:0.95 | area=   all | maxDets= 10 ] = 0.361\n",
      " Average Recall     (AR) @[ IoU=0.50:0.95 | area=   all | maxDets=100 ] = 0.363\n",
      " Average Recall     (AR) @[ IoU=0.50:0.95 | area= small | maxDets=100 ] = 0.152\n",
      " Average Recall     (AR) @[ IoU=0.50:0.95 | area=medium | maxDets=100 ] = 0.394\n",
      " Average Recall     (AR) @[ IoU=0.50:0.95 | area= large | maxDets=100 ] = 0.519\n"
     ]
    }
   ],
   "source": [
    "dr.coco.summarize()"
   ]
  },
  {
   "cell_type": "code",
   "execution_count": 23,
   "metadata": {
    "ExecuteTime": {
     "end_time": "2021-06-14T13:19:12.271216Z",
     "start_time": "2021-06-14T13:19:07.649276Z"
    }
   },
   "outputs": [
    {
     "data": {
      "text/plain": [
       "0.4437226490908093"
      ]
     },
     "execution_count": 23,
     "metadata": {},
     "output_type": "execute_result"
    }
   ],
   "source": [
    "dr.mean_average_precision()"
   ]
  },
  {
   "cell_type": "code",
   "execution_count": 24,
   "metadata": {
    "ExecuteTime": {
     "end_time": "2021-06-14T13:19:16.911566Z",
     "start_time": "2021-06-14T13:19:12.272796Z"
    }
   },
   "outputs": [
    {
     "data": {
      "text/plain": [
       "0.35157542767196426"
      ]
     },
     "execution_count": 24,
     "metadata": {},
     "output_type": "execute_result"
    }
   ],
   "source": [
    "dr.mean_average_precision(0.75)"
   ]
  },
  {
   "cell_type": "markdown",
   "metadata": {},
   "source": [
    "Fair enough."
   ]
  },
  {
   "cell_type": "code",
   "execution_count": 25,
   "metadata": {
    "ExecuteTime": {
     "end_time": "2021-06-14T13:20:04.568975Z",
     "start_time": "2021-06-14T13:19:16.914116Z"
    }
   },
   "outputs": [
    {
     "data": {
      "text/plain": [
       "0.3159372198956375"
      ]
     },
     "execution_count": 25,
     "metadata": {},
     "output_type": "execute_result"
    }
   ],
   "source": [
    "np.mean([dr.mean_average_precision(t) for t in dr.coco.params.iouThrs])"
   ]
  },
  {
   "cell_type": "markdown",
   "metadata": {},
   "source": [
    "This is likely to be OK, regardless of averaging order (class / T_iou)."
   ]
  },
  {
   "cell_type": "code",
   "execution_count": 26,
   "metadata": {
    "ExecuteTime": {
     "end_time": "2021-06-14T13:20:04.584239Z",
     "start_time": "2021-06-14T13:20:04.570832Z"
    }
   },
   "outputs": [
    {
     "ename": "KeyError",
     "evalue": "'area'",
     "output_type": "error",
     "traceback": [
      "\u001b[0;31m---------------------------------------------------------------------------\u001b[0m",
      "\u001b[0;31mKeyError\u001b[0m                                  Traceback (most recent call last)",
      "\u001b[0;32m<ipython-input-26-4d0a913afb0a>\u001b[0m in \u001b[0;36m<module>\u001b[0;34m\u001b[0m\n\u001b[0;32m----> 1\u001b[0;31m \u001b[0;34m[\u001b[0m\u001b[0mx\u001b[0m\u001b[0;34m[\u001b[0m\u001b[0;34m'area'\u001b[0m\u001b[0;34m]\u001b[0m \u001b[0;34m==\u001b[0m \u001b[0mx\u001b[0m\u001b[0;34m[\u001b[0m\u001b[0;34m'bbox'\u001b[0m\u001b[0;34m]\u001b[0m\u001b[0;34m[\u001b[0m\u001b[0;34m-\u001b[0m\u001b[0;36m1\u001b[0m\u001b[0;34m]\u001b[0m \u001b[0;34m*\u001b[0m \u001b[0mx\u001b[0m\u001b[0;34m[\u001b[0m\u001b[0;34m'bbox'\u001b[0m\u001b[0;34m]\u001b[0m\u001b[0;34m[\u001b[0m\u001b[0;34m-\u001b[0m\u001b[0;36m2\u001b[0m\u001b[0;34m]\u001b[0m \u001b[0;32mfor\u001b[0m \u001b[0mx\u001b[0m \u001b[0;32min\u001b[0m \u001b[0my\u001b[0m\u001b[0;34m]\u001b[0m\u001b[0;34m\u001b[0m\u001b[0;34m\u001b[0m\u001b[0m\n\u001b[0m",
      "\u001b[0;32m<ipython-input-26-4d0a913afb0a>\u001b[0m in \u001b[0;36m<listcomp>\u001b[0;34m(.0)\u001b[0m\n\u001b[0;32m----> 1\u001b[0;31m \u001b[0;34m[\u001b[0m\u001b[0mx\u001b[0m\u001b[0;34m[\u001b[0m\u001b[0;34m'area'\u001b[0m\u001b[0;34m]\u001b[0m \u001b[0;34m==\u001b[0m \u001b[0mx\u001b[0m\u001b[0;34m[\u001b[0m\u001b[0;34m'bbox'\u001b[0m\u001b[0;34m]\u001b[0m\u001b[0;34m[\u001b[0m\u001b[0;34m-\u001b[0m\u001b[0;36m1\u001b[0m\u001b[0;34m]\u001b[0m \u001b[0;34m*\u001b[0m \u001b[0mx\u001b[0m\u001b[0;34m[\u001b[0m\u001b[0;34m'bbox'\u001b[0m\u001b[0;34m]\u001b[0m\u001b[0;34m[\u001b[0m\u001b[0;34m-\u001b[0m\u001b[0;36m2\u001b[0m\u001b[0;34m]\u001b[0m \u001b[0;32mfor\u001b[0m \u001b[0mx\u001b[0m \u001b[0;32min\u001b[0m \u001b[0my\u001b[0m\u001b[0;34m]\u001b[0m\u001b[0;34m\u001b[0m\u001b[0;34m\u001b[0m\u001b[0m\n\u001b[0m",
      "\u001b[0;31mKeyError\u001b[0m: 'area'"
     ]
    }
   ],
   "source": [
    "[x['area'] == x['bbox'][-1] * x['bbox'][-2] for x in y]"
   ]
  },
  {
   "cell_type": "markdown",
   "metadata": {},
   "source": [
    "For detections, the area is computed from bbox (obviously)."
   ]
  }
 ],
 "metadata": {
  "kernelspec": {
   "display_name": "Python 3",
   "language": "python",
   "name": "python3"
  },
  "language_info": {
   "codemirror_mode": {
    "name": "ipython",
    "version": 3
   },
   "file_extension": ".py",
   "mimetype": "text/x-python",
   "name": "python",
   "nbconvert_exporter": "python",
   "pygments_lexer": "ipython3",
   "version": "3.7.6"
  },
  "toc": {
   "base_numbering": 1,
   "nav_menu": {},
   "number_sections": true,
   "sideBar": true,
   "skip_h1_title": false,
   "title_cell": "Table of Contents",
   "title_sidebar": "Contents",
   "toc_cell": false,
   "toc_position": {},
   "toc_section_display": true,
   "toc_window_display": false
  }
 },
 "nbformat": 4,
 "nbformat_minor": 4
}
