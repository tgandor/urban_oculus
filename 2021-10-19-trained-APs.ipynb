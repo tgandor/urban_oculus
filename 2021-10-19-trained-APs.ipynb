{
 "cells": [
  {
   "cell_type": "code",
   "execution_count": null,
   "id": "4c4f1579",
   "metadata": {
    "ExecuteTime": {
     "end_time": "2021-10-19T00:39:03.490507Z",
     "start_time": "2021-10-19T00:39:02.053351Z"
    }
   },
   "outputs": [],
   "source": [
    "from imports import *"
   ]
  },
  {
   "cell_type": "code",
   "execution_count": null,
   "id": "1396da24",
   "metadata": {
    "ExecuteTime": {
     "end_time": "2021-10-19T00:39:03.509490Z",
     "start_time": "2021-10-19T00:39:03.492055Z"
    }
   },
   "outputs": [],
   "source": [
    "k = lambda x: x.split('/')[3]\n",
    "k2 = lambda x: k(x)[:-4]\n",
    "q = lambda fn: int(k(fn)[-3:])\n",
    "ap = lambda fn: load(fn)['results']['bbox']['AP']\n",
    "files = glob.glob('detectron2/data/*/*/results.json')\n",
    "d = dict(((key, list(val)) for key, val in groupby(sorted(files, key=k), key=k2))); d"
   ]
  },
  {
   "cell_type": "code",
   "execution_count": null,
   "id": "79d31874",
   "metadata": {
    "ExecuteTime": {
     "end_time": "2021-10-19T00:39:03.546956Z",
     "start_time": "2021-10-19T00:39:03.513390Z"
    }
   },
   "outputs": [],
   "source": [
    "df = pd.DataFrame({\n",
    "    model: {q(fn): ap(fn) for fn in files}\n",
    "    for model, files in d.items()\n",
    "})"
   ]
  },
  {
   "cell_type": "code",
   "execution_count": null,
   "id": "31897c82",
   "metadata": {
    "ExecuteTime": {
     "end_time": "2021-10-19T00:39:03.618704Z",
     "start_time": "2021-10-19T00:39:03.548308Z"
    }
   },
   "outputs": [],
   "source": [
    "%matplotlib notebook\n",
    "df.plot()"
   ]
  },
  {
   "cell_type": "code",
   "execution_count": null,
   "id": "dffa0645",
   "metadata": {
    "ExecuteTime": {
     "end_time": "2021-10-19T00:39:03.622676Z",
     "start_time": "2021-10-19T00:39:03.619936Z"
    }
   },
   "outputs": [],
   "source": [
    "from ipywidgets import interact, SelectMultiple, Layout"
   ]
  },
  {
   "cell_type": "code",
   "execution_count": null,
   "id": "8d17c413",
   "metadata": {
    "ExecuteTime": {
     "end_time": "2021-10-19T00:39:03.659843Z",
     "start_time": "2021-10-19T00:39:03.623733Z"
    }
   },
   "outputs": [],
   "source": [
    "@interact(sel=SelectMultiple(options=d.keys(), rows=len(d), layout=Layout(width='500px')))\n",
    "def plot(sel):\n",
    "    if not sel:\n",
    "        print('Empty')\n",
    "        return\n",
    "    pd.DataFrame({\n",
    "        model: {q(fn): ap(fn) for fn in files}\n",
    "        for model, files in d.items()\n",
    "        if model in sel\n",
    "    }).plot()"
   ]
  },
  {
   "cell_type": "code",
   "execution_count": null,
   "id": "ffb0dbd8",
   "metadata": {},
   "outputs": [],
   "source": []
  }
 ],
 "metadata": {
  "kernelspec": {
   "display_name": "Python 3 (ipykernel)",
   "language": "python",
   "name": "python3"
  },
  "language_info": {
   "codemirror_mode": {
    "name": "ipython",
    "version": 3
   },
   "file_extension": ".py",
   "mimetype": "text/x-python",
   "name": "python",
   "nbconvert_exporter": "python",
   "pygments_lexer": "ipython3",
   "version": "3.9.7"
  },
  "toc": {
   "base_numbering": 1,
   "nav_menu": {},
   "number_sections": true,
   "sideBar": true,
   "skip_h1_title": false,
   "title_cell": "Table of Contents",
   "title_sidebar": "Contents",
   "toc_cell": false,
   "toc_position": {},
   "toc_section_display": true,
   "toc_window_display": false
  }
 },
 "nbformat": 4,
 "nbformat_minor": 5
}
