{
 "cells": [
  {
   "cell_type": "code",
   "execution_count": 1,
   "id": "4dd84e98",
   "metadata": {
    "ExecuteTime": {
     "end_time": "2021-07-04T03:23:58.542752Z",
     "start_time": "2021-07-04T03:23:57.683155Z"
    }
   },
   "outputs": [],
   "source": [
    "import glob\n",
    "import multiprocessing\n",
    "import os\n",
    "from evaldets.results import *\n",
    "from evaldets.postprocess import *\n",
    "import numpy as np\n",
    "import pandas as pd\n",
    "from uo.utils import *"
   ]
  },
  {
   "cell_type": "code",
   "execution_count": 2,
   "id": "227cd74a",
   "metadata": {
    "ExecuteTime": {
     "end_time": "2021-07-04T03:24:43.451948Z",
     "start_time": "2021-07-04T03:24:22.976440Z"
    }
   },
   "outputs": [
    {
     "data": {
      "text/html": [
       "<div>\n",
       "<style scoped>\n",
       "    .dataframe tbody tr th:only-of-type {\n",
       "        vertical-align: middle;\n",
       "    }\n",
       "\n",
       "    .dataframe tbody tr th {\n",
       "        vertical-align: top;\n",
       "    }\n",
       "\n",
       "    .dataframe thead th {\n",
       "        text-align: right;\n",
       "    }\n",
       "</style>\n",
       "<table border=\"1\" class=\"dataframe\">\n",
       "  <thead>\n",
       "    <tr style=\"text-align: right;\">\n",
       "      <th></th>\n",
       "      <th>FP</th>\n",
       "      <th>TP</th>\n",
       "      <th>PPV</th>\n",
       "      <th>TPR</th>\n",
       "      <th>EX</th>\n",
       "      <th>F1</th>\n",
       "      <th>T_c</th>\n",
       "    </tr>\n",
       "  </thead>\n",
       "  <tbody>\n",
       "    <tr>\n",
       "      <th>0</th>\n",
       "      <td>330518</td>\n",
       "      <td>30238</td>\n",
       "      <td>0.083818</td>\n",
       "      <td>0.832200</td>\n",
       "      <td>15319</td>\n",
       "      <td>0.152298</td>\n",
       "      <td>0.05</td>\n",
       "    </tr>\n",
       "    <tr>\n",
       "      <th>1</th>\n",
       "      <td>92824</td>\n",
       "      <td>28629</td>\n",
       "      <td>0.235721</td>\n",
       "      <td>0.787918</td>\n",
       "      <td>12467</td>\n",
       "      <td>0.362879</td>\n",
       "      <td>0.15</td>\n",
       "    </tr>\n",
       "    <tr>\n",
       "      <th>2</th>\n",
       "      <td>31638</td>\n",
       "      <td>25885</td>\n",
       "      <td>0.449994</td>\n",
       "      <td>0.712399</td>\n",
       "      <td>6197</td>\n",
       "      <td>0.551578</td>\n",
       "      <td>0.25</td>\n",
       "    </tr>\n",
       "    <tr>\n",
       "      <th>3</th>\n",
       "      <td>13371</td>\n",
       "      <td>22990</td>\n",
       "      <td>0.632271</td>\n",
       "      <td>0.632723</td>\n",
       "      <td>2558</td>\n",
       "      <td>0.632497</td>\n",
       "      <td>0.35</td>\n",
       "    </tr>\n",
       "    <tr>\n",
       "      <th>4</th>\n",
       "      <td>6301</td>\n",
       "      <td>20186</td>\n",
       "      <td>0.762110</td>\n",
       "      <td>0.555552</td>\n",
       "      <td>1215</td>\n",
       "      <td>0.642641</td>\n",
       "      <td>0.45</td>\n",
       "    </tr>\n",
       "    <tr>\n",
       "      <th>5</th>\n",
       "      <td>3042</td>\n",
       "      <td>17371</td>\n",
       "      <td>0.850977</td>\n",
       "      <td>0.478079</td>\n",
       "      <td>574</td>\n",
       "      <td>0.612215</td>\n",
       "      <td>0.55</td>\n",
       "    </tr>\n",
       "    <tr>\n",
       "      <th>6</th>\n",
       "      <td>1385</td>\n",
       "      <td>14357</td>\n",
       "      <td>0.912019</td>\n",
       "      <td>0.395129</td>\n",
       "      <td>264</td>\n",
       "      <td>0.551376</td>\n",
       "      <td>0.65</td>\n",
       "    </tr>\n",
       "    <tr>\n",
       "      <th>7</th>\n",
       "      <td>548</td>\n",
       "      <td>11018</td>\n",
       "      <td>0.952620</td>\n",
       "      <td>0.303234</td>\n",
       "      <td>91</td>\n",
       "      <td>0.460032</td>\n",
       "      <td>0.75</td>\n",
       "    </tr>\n",
       "    <tr>\n",
       "      <th>8</th>\n",
       "      <td>158</td>\n",
       "      <td>6991</td>\n",
       "      <td>0.977899</td>\n",
       "      <td>0.192404</td>\n",
       "      <td>17</td>\n",
       "      <td>0.321544</td>\n",
       "      <td>0.85</td>\n",
       "    </tr>\n",
       "    <tr>\n",
       "      <th>9</th>\n",
       "      <td>14</td>\n",
       "      <td>1935</td>\n",
       "      <td>0.992817</td>\n",
       "      <td>0.053254</td>\n",
       "      <td>0</td>\n",
       "      <td>0.101087</td>\n",
       "      <td>0.95</td>\n",
       "    </tr>\n",
       "  </tbody>\n",
       "</table>\n",
       "</div>"
      ],
      "text/plain": [
       "       FP     TP       PPV       TPR     EX        F1   T_c\n",
       "0  330518  30238  0.083818  0.832200  15319  0.152298  0.05\n",
       "1   92824  28629  0.235721  0.787918  12467  0.362879  0.15\n",
       "2   31638  25885  0.449994  0.712399   6197  0.551578  0.25\n",
       "3   13371  22990  0.632271  0.632723   2558  0.632497  0.35\n",
       "4    6301  20186  0.762110  0.555552   1215  0.642641  0.45\n",
       "5    3042  17371  0.850977  0.478079    574  0.612215  0.55\n",
       "6    1385  14357  0.912019  0.395129    264  0.551376  0.65\n",
       "7     548  11018  0.952620  0.303234     91  0.460032  0.75\n",
       "8     158   6991  0.977899  0.192404     17  0.321544  0.85\n",
       "9      14   1935  0.992817  0.053254      0  0.101087  0.95"
      ]
     },
     "execution_count": 2,
     "metadata": {},
     "output_type": "execute_result"
    }
   ],
   "source": [
    "summaries_by_tc('/home/tgandor/reval_05/baseline_05/evaluator_dump_R101_101/')"
   ]
  },
  {
   "cell_type": "code",
   "execution_count": 3,
   "id": "b665ab4f",
   "metadata": {
    "ExecuteTime": {
     "end_time": "2021-07-04T03:25:45.296474Z",
     "start_time": "2021-07-04T03:25:45.290666Z"
    }
   },
   "outputs": [],
   "source": [
    "df = _"
   ]
  },
  {
   "cell_type": "code",
   "execution_count": 4,
   "id": "75337ec4",
   "metadata": {
    "ExecuteTime": {
     "end_time": "2021-07-04T03:26:10.365829Z",
     "start_time": "2021-07-04T03:26:10.251226Z"
    }
   },
   "outputs": [
    {
     "data": {
      "text/plain": [
       "<AxesSubplot:>"
      ]
     },
     "execution_count": 4,
     "metadata": {},
     "output_type": "execute_result"
    },
    {
     "data": {
      "image/png": "[encoded data removed]",
      "text/plain": [
       "<Figure size 432x288 with 1 Axes>"
      ]
     },
     "metadata": {
      "needs_background": "light"
     },
     "output_type": "display_data"
    }
   ],
   "source": [
    "df.F1.plot(x=df.T_c)"
   ]
  },
  {
   "cell_type": "code",
   "execution_count": 5,
   "id": "733db11e",
   "metadata": {
    "ExecuteTime": {
     "end_time": "2021-07-04T03:26:57.991618Z",
     "start_time": "2021-07-04T03:26:57.962951Z"
    }
   },
   "outputs": [
    {
     "data": {
      "text/html": [
       "<div>\n",
       "<style scoped>\n",
       "    .dataframe tbody tr th:only-of-type {\n",
       "        vertical-align: middle;\n",
       "    }\n",
       "\n",
       "    .dataframe tbody tr th {\n",
       "        vertical-align: top;\n",
       "    }\n",
       "\n",
       "    .dataframe thead th {\n",
       "        text-align: right;\n",
       "    }\n",
       "</style>\n",
       "<table border=\"1\" class=\"dataframe\">\n",
       "  <thead>\n",
       "    <tr style=\"text-align: right;\">\n",
       "      <th></th>\n",
       "      <th>FP</th>\n",
       "      <th>TP</th>\n",
       "      <th>PPV</th>\n",
       "      <th>TPR</th>\n",
       "      <th>EX</th>\n",
       "      <th>F1</th>\n",
       "      <th>T_c</th>\n",
       "    </tr>\n",
       "  </thead>\n",
       "  <tbody>\n",
       "    <tr>\n",
       "      <th>9</th>\n",
       "      <td>14</td>\n",
       "      <td>1935</td>\n",
       "      <td>0.992817</td>\n",
       "      <td>0.053254</td>\n",
       "      <td>0</td>\n",
       "      <td>0.101087</td>\n",
       "      <td>0.95</td>\n",
       "    </tr>\n",
       "    <tr>\n",
       "      <th>0</th>\n",
       "      <td>330518</td>\n",
       "      <td>30238</td>\n",
       "      <td>0.083818</td>\n",
       "      <td>0.832200</td>\n",
       "      <td>15319</td>\n",
       "      <td>0.152298</td>\n",
       "      <td>0.05</td>\n",
       "    </tr>\n",
       "    <tr>\n",
       "      <th>8</th>\n",
       "      <td>158</td>\n",
       "      <td>6991</td>\n",
       "      <td>0.977899</td>\n",
       "      <td>0.192404</td>\n",
       "      <td>17</td>\n",
       "      <td>0.321544</td>\n",
       "      <td>0.85</td>\n",
       "    </tr>\n",
       "    <tr>\n",
       "      <th>1</th>\n",
       "      <td>92824</td>\n",
       "      <td>28629</td>\n",
       "      <td>0.235721</td>\n",
       "      <td>0.787918</td>\n",
       "      <td>12467</td>\n",
       "      <td>0.362879</td>\n",
       "      <td>0.15</td>\n",
       "    </tr>\n",
       "    <tr>\n",
       "      <th>7</th>\n",
       "      <td>548</td>\n",
       "      <td>11018</td>\n",
       "      <td>0.952620</td>\n",
       "      <td>0.303234</td>\n",
       "      <td>91</td>\n",
       "      <td>0.460032</td>\n",
       "      <td>0.75</td>\n",
       "    </tr>\n",
       "    <tr>\n",
       "      <th>6</th>\n",
       "      <td>1385</td>\n",
       "      <td>14357</td>\n",
       "      <td>0.912019</td>\n",
       "      <td>0.395129</td>\n",
       "      <td>264</td>\n",
       "      <td>0.551376</td>\n",
       "      <td>0.65</td>\n",
       "    </tr>\n",
       "    <tr>\n",
       "      <th>2</th>\n",
       "      <td>31638</td>\n",
       "      <td>25885</td>\n",
       "      <td>0.449994</td>\n",
       "      <td>0.712399</td>\n",
       "      <td>6197</td>\n",
       "      <td>0.551578</td>\n",
       "      <td>0.25</td>\n",
       "    </tr>\n",
       "    <tr>\n",
       "      <th>5</th>\n",
       "      <td>3042</td>\n",
       "      <td>17371</td>\n",
       "      <td>0.850977</td>\n",
       "      <td>0.478079</td>\n",
       "      <td>574</td>\n",
       "      <td>0.612215</td>\n",
       "      <td>0.55</td>\n",
       "    </tr>\n",
       "    <tr>\n",
       "      <th>3</th>\n",
       "      <td>13371</td>\n",
       "      <td>22990</td>\n",
       "      <td>0.632271</td>\n",
       "      <td>0.632723</td>\n",
       "      <td>2558</td>\n",
       "      <td>0.632497</td>\n",
       "      <td>0.35</td>\n",
       "    </tr>\n",
       "    <tr>\n",
       "      <th>4</th>\n",
       "      <td>6301</td>\n",
       "      <td>20186</td>\n",
       "      <td>0.762110</td>\n",
       "      <td>0.555552</td>\n",
       "      <td>1215</td>\n",
       "      <td>0.642641</td>\n",
       "      <td>0.45</td>\n",
       "    </tr>\n",
       "  </tbody>\n",
       "</table>\n",
       "</div>"
      ],
      "text/plain": [
       "       FP     TP       PPV       TPR     EX        F1   T_c\n",
       "9      14   1935  0.992817  0.053254      0  0.101087  0.95\n",
       "0  330518  30238  0.083818  0.832200  15319  0.152298  0.05\n",
       "8     158   6991  0.977899  0.192404     17  0.321544  0.85\n",
       "1   92824  28629  0.235721  0.787918  12467  0.362879  0.15\n",
       "7     548  11018  0.952620  0.303234     91  0.460032  0.75\n",
       "6    1385  14357  0.912019  0.395129    264  0.551376  0.65\n",
       "2   31638  25885  0.449994  0.712399   6197  0.551578  0.25\n",
       "5    3042  17371  0.850977  0.478079    574  0.612215  0.55\n",
       "3   13371  22990  0.632271  0.632723   2558  0.632497  0.35\n",
       "4    6301  20186  0.762110  0.555552   1215  0.642641  0.45"
      ]
     },
     "execution_count": 5,
     "metadata": {},
     "output_type": "execute_result"
    }
   ],
   "source": [
    "df.sort_values('F1')"
   ]
  },
  {
   "cell_type": "code",
   "execution_count": 5,
   "id": "3ae35d96",
   "metadata": {
    "ExecuteTime": {
     "end_time": "2021-07-04T03:16:58.496437Z",
     "start_time": "2021-07-04T03:16:58.490536Z"
    }
   },
   "outputs": [],
   "source": [
    "s = Summary('~/reval_05/baseline_05')"
   ]
  },
  {
   "cell_type": "code",
   "execution_count": 6,
   "id": "0dced1c1",
   "metadata": {
    "ExecuteTime": {
     "end_time": "2021-07-04T03:17:09.208032Z",
     "start_time": "2021-07-04T03:16:58.931751Z"
    }
   },
   "outputs": [
    {
     "name": "stdout",
     "output_type": "stream",
     "text": [
      "{'FP': 330518, 'TP': 30238, 'PPV': 0.08381842575036867, 'TPR': 0.8322003577817532, 'EX': 15319, 'F1': 0.15229758418095596, 'T_c': 0}\n",
      "{'FP': 127795, 'TP': 29531, 'PPV': 0.18770578289666043, 'TPR': 0.8127425347461126, 'EX': 13591, 'F1': 0.30497622133521973, 'T_c': 0}\n",
      "{'FP': 124023, 'TP': 29530, 'PPV': 0.1923114494669593, 'TPR': 0.8127150130727948, 'EX': 14152, 'F1': 0.311025446579036, 'T_c': 0}\n",
      "{'FP': 93415, 'TP': 29786, 'PPV': 0.24176751812079447, 'TPR': 0.8197605614421357, 'EX': 12744, 'F1': 0.37340788286029475, 'T_c': 0}\n",
      "{'FP': 358261, 'TP': 30112, 'PPV': 0.07753371114881827, 'TPR': 0.8287326269437182, 'EX': 15188, 'F1': 0.14180095500908857, 'T_c': 0}\n",
      "{'FP': 138201, 'TP': 29004, 'PPV': 0.1734637122095631, 'TPR': 0.7982386129076647, 'EX': 13422, 'F1': 0.2849955782647145, 'T_c': 0}\n",
      "{'FP': 129690, 'TP': 29178, 'PPV': 0.1836619079990936, 'TPR': 0.8030273840649511, 'EX': 14221, 'F1': 0.29895032350937223, 'T_c': 0}\n",
      "{'FP': 108119, 'TP': 29596, 'PPV': 0.214907599026976, 'TPR': 0.8145314435117655, 'EX': 13205, 'F1': 0.34008618213157127, 'T_c': 0}\n",
      "{'FP': 69608, 'TP': 29546, 'PPV': 0.2979809185711116, 'TPR': 0.8131553598458786, 'EX': 11862, 'F1': 0.4361387271291395, 'T_c': 0}\n"
     ]
    },
    {
     "data": {
      "text/html": [
       "<div>\n",
       "<style scoped>\n",
       "    .dataframe tbody tr th:only-of-type {\n",
       "        vertical-align: middle;\n",
       "    }\n",
       "\n",
       "    .dataframe tbody tr th {\n",
       "        vertical-align: top;\n",
       "    }\n",
       "\n",
       "    .dataframe thead th {\n",
       "        text-align: right;\n",
       "    }\n",
       "</style>\n",
       "<table border=\"1\" class=\"dataframe\">\n",
       "  <thead>\n",
       "    <tr style=\"text-align: right;\">\n",
       "      <th></th>\n",
       "      <th>FP</th>\n",
       "      <th>TP</th>\n",
       "      <th>PPV</th>\n",
       "      <th>TPR</th>\n",
       "      <th>EX</th>\n",
       "      <th>F1</th>\n",
       "      <th>T_c</th>\n",
       "      <th>subdir</th>\n",
       "    </tr>\n",
       "  </thead>\n",
       "  <tbody>\n",
       "    <tr>\n",
       "      <th>0</th>\n",
       "      <td>330518</td>\n",
       "      <td>30238</td>\n",
       "      <td>0.083818</td>\n",
       "      <td>0.832200</td>\n",
       "      <td>15319</td>\n",
       "      <td>0.152298</td>\n",
       "      <td>0</td>\n",
       "      <td>evaluator_dump_R101_101</td>\n",
       "    </tr>\n",
       "    <tr>\n",
       "      <th>1</th>\n",
       "      <td>127795</td>\n",
       "      <td>29531</td>\n",
       "      <td>0.187706</td>\n",
       "      <td>0.812743</td>\n",
       "      <td>13591</td>\n",
       "      <td>0.304976</td>\n",
       "      <td>0</td>\n",
       "      <td>evaluator_dump_R101_C4_101</td>\n",
       "    </tr>\n",
       "    <tr>\n",
       "      <th>2</th>\n",
       "      <td>124023</td>\n",
       "      <td>29530</td>\n",
       "      <td>0.192311</td>\n",
       "      <td>0.812715</td>\n",
       "      <td>14152</td>\n",
       "      <td>0.311025</td>\n",
       "      <td>0</td>\n",
       "      <td>evaluator_dump_R101_DC5_101</td>\n",
       "    </tr>\n",
       "    <tr>\n",
       "      <th>3</th>\n",
       "      <td>93415</td>\n",
       "      <td>29786</td>\n",
       "      <td>0.241768</td>\n",
       "      <td>0.819761</td>\n",
       "      <td>12744</td>\n",
       "      <td>0.373408</td>\n",
       "      <td>0</td>\n",
       "      <td>evaluator_dump_R101_FPN_101</td>\n",
       "    </tr>\n",
       "    <tr>\n",
       "      <th>4</th>\n",
       "      <td>358261</td>\n",
       "      <td>30112</td>\n",
       "      <td>0.077534</td>\n",
       "      <td>0.828733</td>\n",
       "      <td>15188</td>\n",
       "      <td>0.141801</td>\n",
       "      <td>0</td>\n",
       "      <td>evaluator_dump_R50_101</td>\n",
       "    </tr>\n",
       "    <tr>\n",
       "      <th>5</th>\n",
       "      <td>138201</td>\n",
       "      <td>29004</td>\n",
       "      <td>0.173464</td>\n",
       "      <td>0.798239</td>\n",
       "      <td>13422</td>\n",
       "      <td>0.284996</td>\n",
       "      <td>0</td>\n",
       "      <td>evaluator_dump_R50_C4_101</td>\n",
       "    </tr>\n",
       "    <tr>\n",
       "      <th>6</th>\n",
       "      <td>129690</td>\n",
       "      <td>29178</td>\n",
       "      <td>0.183662</td>\n",
       "      <td>0.803027</td>\n",
       "      <td>14221</td>\n",
       "      <td>0.298950</td>\n",
       "      <td>0</td>\n",
       "      <td>evaluator_dump_R50_DC5_101</td>\n",
       "    </tr>\n",
       "    <tr>\n",
       "      <th>7</th>\n",
       "      <td>108119</td>\n",
       "      <td>29596</td>\n",
       "      <td>0.214908</td>\n",
       "      <td>0.814531</td>\n",
       "      <td>13205</td>\n",
       "      <td>0.340086</td>\n",
       "      <td>0</td>\n",
       "      <td>evaluator_dump_R50_FPN_101</td>\n",
       "    </tr>\n",
       "    <tr>\n",
       "      <th>8</th>\n",
       "      <td>69608</td>\n",
       "      <td>29546</td>\n",
       "      <td>0.297981</td>\n",
       "      <td>0.813155</td>\n",
       "      <td>11862</td>\n",
       "      <td>0.436139</td>\n",
       "      <td>0</td>\n",
       "      <td>evaluator_dump_X101_101</td>\n",
       "    </tr>\n",
       "  </tbody>\n",
       "</table>\n",
       "</div>"
      ],
      "text/plain": [
       "       FP     TP       PPV       TPR     EX        F1  T_c  \\\n",
       "0  330518  30238  0.083818  0.832200  15319  0.152298    0   \n",
       "1  127795  29531  0.187706  0.812743  13591  0.304976    0   \n",
       "2  124023  29530  0.192311  0.812715  14152  0.311025    0   \n",
       "3   93415  29786  0.241768  0.819761  12744  0.373408    0   \n",
       "4  358261  30112  0.077534  0.828733  15188  0.141801    0   \n",
       "5  138201  29004  0.173464  0.798239  13422  0.284996    0   \n",
       "6  129690  29178  0.183662  0.803027  14221  0.298950    0   \n",
       "7  108119  29596  0.214908  0.814531  13205  0.340086    0   \n",
       "8   69608  29546  0.297981  0.813155  11862  0.436139    0   \n",
       "\n",
       "                        subdir  \n",
       "0      evaluator_dump_R101_101  \n",
       "1   evaluator_dump_R101_C4_101  \n",
       "2  evaluator_dump_R101_DC5_101  \n",
       "3  evaluator_dump_R101_FPN_101  \n",
       "4       evaluator_dump_R50_101  \n",
       "5    evaluator_dump_R50_C4_101  \n",
       "6   evaluator_dump_R50_DC5_101  \n",
       "7   evaluator_dump_R50_FPN_101  \n",
       "8      evaluator_dump_X101_101  "
      ]
     },
     "execution_count": 6,
     "metadata": {},
     "output_type": "execute_result"
    }
   ],
   "source": [
    "s.get_summaries()"
   ]
  },
  {
   "cell_type": "code",
   "execution_count": 8,
   "id": "89dbe0b8",
   "metadata": {
    "ExecuteTime": {
     "end_time": "2021-07-04T03:23:22.478168Z",
     "start_time": "2021-07-04T03:23:22.468225Z"
    }
   },
   "outputs": [
    {
     "data": {
      "text/plain": [
       "array([0.05, 0.15, 0.25, 0.35, 0.45, 0.55, 0.65, 0.75, 0.85, 0.95])"
      ]
     },
     "execution_count": 8,
     "metadata": {},
     "output_type": "execute_result"
    }
   ],
   "source": [
    "np.arange(0.05, 1, 0.1)"
   ]
  },
  {
   "cell_type": "code",
   "execution_count": 4,
   "id": "b1d9a4c7",
   "metadata": {
    "ExecuteTime": {
     "end_time": "2021-07-04T03:16:37.277142Z",
     "start_time": "2021-07-04T03:16:37.202536Z"
    }
   },
   "outputs": [
    {
     "ename": "ValueError",
     "evalue": "",
     "output_type": "error",
     "traceback": [
      "\u001b[0;31m---------------------------------------------------------------------------\u001b[0m",
      "\u001b[0;31mValueError\u001b[0m                                Traceback (most recent call last)",
      "\u001b[0;32m<ipython-input-4-e4c8e09828d5>\u001b[0m in \u001b[0;36m<module>\u001b[0;34m\u001b[0m\n\u001b[0;32m----> 1\u001b[0;31m \u001b[0;32mraise\u001b[0m \u001b[0mValueError\u001b[0m\u001b[0;34m\u001b[0m\u001b[0;34m\u001b[0m\u001b[0m\n\u001b[0m",
      "\u001b[0;31mValueError\u001b[0m: "
     ]
    }
   ],
   "source": [
    "raise ValueError"
   ]
  },
  {
   "cell_type": "code",
   "execution_count": null,
   "id": "0c713821",
   "metadata": {
    "ExecuteTime": {
     "end_time": "2021-07-04T03:16:37.279052Z",
     "start_time": "2021-07-04T03:16:36.260Z"
    }
   },
   "outputs": [],
   "source": [
    "dr = DetectionResults('/home/tgandor/reval_05/baseline_05/')"
   ]
  },
  {
   "cell_type": "code",
   "execution_count": null,
   "id": "66bd5305",
   "metadata": {
    "ExecuteTime": {
     "end_time": "2021-07-04T03:16:37.279952Z",
     "start_time": "2021-07-04T03:16:36.264Z"
    }
   },
   "outputs": [],
   "source": [
    "r101 = glob.glob(os.path.expanduser('~/reval_05/R101/*'))"
   ]
  },
  {
   "cell_type": "code",
   "execution_count": null,
   "id": "ae5d8a31",
   "metadata": {
    "ExecuteTime": {
     "end_time": "2021-07-04T03:16:37.280587Z",
     "start_time": "2021-07-04T03:16:36.266Z"
    }
   },
   "outputs": [],
   "source": [
    "def get_summary(d):\n",
    "    return DetectionResults(d).summary(0.5, 0.5)\n",
    "\n",
    "def get_summary05(d):\n",
    "    return DetectionResults(d).summary()\n"
   ]
  },
  {
   "cell_type": "code",
   "execution_count": null,
   "id": "93dfe36c",
   "metadata": {
    "ExecuteTime": {
     "end_time": "2021-07-04T03:16:37.281851Z",
     "start_time": "2021-07-04T03:16:36.269Z"
    }
   },
   "outputs": [],
   "source": [
    "p = multiprocessing.Pool()"
   ]
  },
  {
   "cell_type": "code",
   "execution_count": null,
   "id": "99ca0a32",
   "metadata": {
    "ExecuteTime": {
     "end_time": "2021-07-04T03:16:37.282834Z",
     "start_time": "2021-07-04T03:16:36.272Z"
    }
   },
   "outputs": [],
   "source": [
    "df = pd.DataFrame([DetectionResults(d).summary() for d in r101], index=map(os.path.basename, r101)).sort_index()"
   ]
  },
  {
   "cell_type": "code",
   "execution_count": null,
   "id": "fd5b2bb7",
   "metadata": {
    "ExecuteTime": {
     "end_time": "2021-07-04T03:16:37.283807Z",
     "start_time": "2021-07-04T03:16:36.274Z"
    }
   },
   "outputs": [],
   "source": [
    "data50 = p.map(get_summary, r101)"
   ]
  },
  {
   "cell_type": "code",
   "execution_count": null,
   "id": "4b3575df",
   "metadata": {
    "ExecuteTime": {
     "end_time": "2021-07-04T03:16:37.284460Z",
     "start_time": "2021-07-04T03:16:36.277Z"
    }
   },
   "outputs": [],
   "source": [
    "df.tail()"
   ]
  },
  {
   "cell_type": "code",
   "execution_count": null,
   "id": "f2c6b49e",
   "metadata": {
    "ExecuteTime": {
     "end_time": "2021-07-04T03:16:37.285120Z",
     "start_time": "2021-07-04T03:16:36.279Z"
    }
   },
   "outputs": [],
   "source": [
    "df.reset_index(drop=True).F1.plot()\n",
    "df50.reset_index().F1.plot()"
   ]
  },
  {
   "cell_type": "code",
   "execution_count": null,
   "id": "57fc5470",
   "metadata": {
    "ExecuteTime": {
     "end_time": "2021-07-04T03:16:37.285814Z",
     "start_time": "2021-07-04T03:16:36.281Z"
    }
   },
   "outputs": [],
   "source": [
    "df.plot()"
   ]
  },
  {
   "cell_type": "code",
   "execution_count": null,
   "id": "708f2962",
   "metadata": {
    "ExecuteTime": {
     "end_time": "2021-07-04T03:16:37.286665Z",
     "start_time": "2021-07-04T03:16:36.282Z"
    }
   },
   "outputs": [],
   "source": [
    "df50 = pd.DataFrame(data50, index=map(os.path.basename, r101)).sort_index()"
   ]
  },
  {
   "cell_type": "code",
   "execution_count": null,
   "id": "08d476b2",
   "metadata": {
    "ExecuteTime": {
     "end_time": "2021-07-04T03:16:37.287706Z",
     "start_time": "2021-07-04T03:16:36.284Z"
    }
   },
   "outputs": [],
   "source": [
    "df50.plot()"
   ]
  },
  {
   "cell_type": "code",
   "execution_count": null,
   "id": "e45abf65",
   "metadata": {
    "ExecuteTime": {
     "end_time": "2021-07-04T03:16:37.288559Z",
     "start_time": "2021-07-04T03:16:36.286Z"
    }
   },
   "outputs": [],
   "source": [
    "x101 = glob.glob(os.path.expanduser('~/reval_05/R101/*'))"
   ]
  },
  {
   "cell_type": "code",
   "execution_count": null,
   "id": "86340cfc",
   "metadata": {
    "ExecuteTime": {
     "end_time": "2021-07-04T03:16:37.289686Z",
     "start_time": "2021-07-04T03:16:36.287Z"
    }
   },
   "outputs": [],
   "source": [
    "x101_50 = p.map(get_summary, x101)\n",
    "df_x101 = pd.DataFrame(x101_50, index=map(os.path.basename, x101)).sort_index()\n",
    "df_x101.plot()"
   ]
  },
  {
   "cell_type": "code",
   "execution_count": null,
   "id": "c8d16af2",
   "metadata": {
    "ExecuteTime": {
     "end_time": "2021-07-04T03:16:37.290973Z",
     "start_time": "2021-07-04T03:16:36.289Z"
    }
   },
   "outputs": [],
   "source": [
    "x101_05 = p.map(get_summary05, x101)"
   ]
  },
  {
   "cell_type": "code",
   "execution_count": null,
   "id": "3accdedd",
   "metadata": {
    "ExecuteTime": {
     "end_time": "2021-07-04T03:16:37.292186Z",
     "start_time": "2021-07-04T03:16:36.291Z"
    }
   },
   "outputs": [],
   "source": [
    "df_x101 = pd.DataFrame(x101_05, index=map(os.path.basename, x101)).sort_index()\n",
    "df_x101.plot()"
   ]
  },
  {
   "cell_type": "code",
   "execution_count": null,
   "id": "d2b8d709",
   "metadata": {},
   "outputs": [],
   "source": []
  }
 ],
 "metadata": {
  "kernelspec": {
   "display_name": "Python 3",
   "language": "python",
   "name": "python3"
  },
  "language_info": {
   "codemirror_mode": {
    "name": "ipython",
    "version": 3
   },
   "file_extension": ".py",
   "mimetype": "text/x-python",
   "name": "python",
   "nbconvert_exporter": "python",
   "pygments_lexer": "ipython3",
   "version": "3.9.5"
  },
  "toc": {
   "base_numbering": 1,
   "nav_menu": {},
   "number_sections": true,
   "sideBar": true,
   "skip_h1_title": false,
   "title_cell": "Table of Contents",
   "title_sidebar": "Contents",
   "toc_cell": false,
   "toc_position": {},
   "toc_section_display": true,
   "toc_window_display": false
  }
 },
 "nbformat": 4,
 "nbformat_minor": 5
}
