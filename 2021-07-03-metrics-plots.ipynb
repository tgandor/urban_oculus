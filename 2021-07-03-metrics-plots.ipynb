{
 "cells": [
  {
   "cell_type": "code",
   "execution_count": null,
   "id": "4dd84e98",
   "metadata": {
    "ExecuteTime": {
     "end_time": "2021-07-07T23:51:00.157862Z",
     "start_time": "2021-07-07T23:50:59.367563Z"
    }
   },
   "outputs": [],
   "source": [
    "import glob\n",
    "import logging\n",
    "import multiprocessing\n",
    "import os\n",
    "from evaldets.results import *\n",
    "from evaldets.postprocess import *\n",
    "import matplotlib.pyplot as plt\n",
    "import numpy as np\n",
    "import pandas as pd\n",
    "from uo.utils import *\n",
    "\n",
    "# logging.basicConfig(level=logging.INFO)"
   ]
  },
  {
   "cell_type": "code",
   "execution_count": null,
   "id": "e39d21a6",
   "metadata": {
    "ExecuteTime": {
     "end_time": "2021-07-07T23:51:00.188145Z",
     "start_time": "2021-07-07T23:51:00.159531Z"
    }
   },
   "outputs": [],
   "source": [
    "s = Summary('~/reval_05/baseline_05')"
   ]
  },
  {
   "cell_type": "code",
   "execution_count": null,
   "id": "c46837ed",
   "metadata": {
    "ExecuteTime": {
     "end_time": "2021-07-07T23:51:00.937059Z",
     "start_time": "2021-07-07T23:51:00.189705Z"
    },
    "scrolled": false
   },
   "outputs": [],
   "source": [
    "fig, axes = plt.subplots(2, 5)\n",
    "fig.set_figheight(6)\n",
    "fig.set_figwidth(15)\n",
    "s.plot_tc_summaries(axes, order='R101 R101_C4 R101_DC5 R101_FPN X101 R50 R50_C4 R50_DC5 R50_FPN'.split(), legend=False)\n",
    "fig.tight_layout()\n",
    "axes[1, 4].axis('off')\n",
    "axes[1, 4].legend(*axes[0, 0].get_legend_handles_labels(), loc='lower right', fontsize='x-large', borderpad=2);"
   ]
  },
  {
   "cell_type": "code",
   "execution_count": null,
   "id": "4d70411b",
   "metadata": {
    "ExecuteTime": {
     "end_time": "2021-07-07T23:51:01.125188Z",
     "start_time": "2021-07-07T23:51:00.938673Z"
    }
   },
   "outputs": [],
   "source": [
    "fig.savefig('baseline_PRF1_Tc.pdf')"
   ]
  }
 ],
 "metadata": {
  "kernelspec": {
   "display_name": "Python 3",
   "language": "python",
   "name": "python3"
  },
  "language_info": {
   "codemirror_mode": {
    "name": "ipython",
    "version": 3
   },
   "file_extension": ".py",
   "mimetype": "text/x-python",
   "name": "python",
   "nbconvert_exporter": "python",
   "pygments_lexer": "ipython3",
   "version": "3.9.5"
  },
  "toc": {
   "base_numbering": 1,
   "nav_menu": {},
   "number_sections": true,
   "sideBar": true,
   "skip_h1_title": false,
   "title_cell": "Table of Contents",
   "title_sidebar": "Contents",
   "toc_cell": false,
   "toc_position": {},
   "toc_section_display": true,
   "toc_window_display": false
  }
 },
 "nbformat": 4,
 "nbformat_minor": 5
}
