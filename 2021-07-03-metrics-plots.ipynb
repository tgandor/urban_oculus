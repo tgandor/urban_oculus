{
 "cells": [
  {
   "cell_type": "code",
   "execution_count": null,
   "id": "4dd84e98",
   "metadata": {
    "ExecuteTime": {
     "end_time": "2021-07-04T18:05:13.292011Z",
     "start_time": "2021-07-04T18:05:12.339906Z"
    }
   },
   "outputs": [],
   "source": [
    "import glob\n",
    "import logging\n",
    "import multiprocessing\n",
    "import os\n",
    "from evaldets.results import *\n",
    "from evaldets.postprocess import *\n",
    "import matplotlib.pyplot as plt\n",
    "import numpy as np\n",
    "import pandas as pd\n",
    "from uo.utils import *\n",
    "\n",
    "# logging.basicConfig(level=logging.INFO)"
   ]
  },
  {
   "cell_type": "code",
   "execution_count": null,
   "id": "e39d21a6",
   "metadata": {
    "ExecuteTime": {
     "end_time": "2021-07-04T18:05:13.296746Z",
     "start_time": "2021-07-04T18:05:13.293509Z"
    }
   },
   "outputs": [],
   "source": [
    "s = Summary('~/reval_05/baseline_05')"
   ]
  },
  {
   "cell_type": "code",
   "execution_count": null,
   "id": "c46837ed",
   "metadata": {
    "ExecuteTime": {
     "end_time": "2021-07-04T18:05:14.160071Z",
     "start_time": "2021-07-04T18:05:13.300044Z"
    },
    "scrolled": true
   },
   "outputs": [],
   "source": [
    "fig, axes = plt.subplots(3, 3)\n",
    "fig.set_figheight(15)\n",
    "fig.set_figwidth(15)\n",
    "s.plot_tc_summaries(axes)"
   ]
  },
  {
   "cell_type": "code",
   "execution_count": null,
   "id": "4d70411b",
   "metadata": {
    "ExecuteTime": {
     "end_time": "2021-07-04T18:05:14.376054Z",
     "start_time": "2021-07-04T18:05:14.161601Z"
    }
   },
   "outputs": [],
   "source": [
    "fig.savefig('baseline_PRF1_Tc.pdf')"
   ]
  },
  {
   "cell_type": "code",
   "execution_count": null,
   "id": "e9505bdf",
   "metadata": {
    "ExecuteTime": {
     "end_time": "2021-07-04T18:05:14.381942Z",
     "start_time": "2021-07-04T18:05:14.377236Z"
    }
   },
   "outputs": [],
   "source": [
    "for m, df in s.q_summaries():\n",
    "    print(df)\n",
    "    break"
   ]
  },
  {
   "cell_type": "code",
   "execution_count": null,
   "id": "828bc0c6",
   "metadata": {},
   "outputs": [],
   "source": []
  }
 ],
 "metadata": {
  "kernelspec": {
   "display_name": "Python 3",
   "language": "python",
   "name": "python3"
  },
  "language_info": {
   "codemirror_mode": {
    "name": "ipython",
    "version": 3
   },
   "file_extension": ".py",
   "mimetype": "text/x-python",
   "name": "python",
   "nbconvert_exporter": "python",
   "pygments_lexer": "ipython3",
   "version": "3.9.5"
  },
  "toc": {
   "base_numbering": 1,
   "nav_menu": {},
   "number_sections": true,
   "sideBar": true,
   "skip_h1_title": false,
   "title_cell": "Table of Contents",
   "title_sidebar": "Contents",
   "toc_cell": false,
   "toc_position": {},
   "toc_section_display": true,
   "toc_window_display": false
  }
 },
 "nbformat": 4,
 "nbformat_minor": 5
}
