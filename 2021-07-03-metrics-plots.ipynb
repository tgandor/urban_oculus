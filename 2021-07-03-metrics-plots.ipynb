{
 "cells": [
  {
   "cell_type": "code",
   "execution_count": 1,
   "id": "4dd84e98",
   "metadata": {
    "ExecuteTime": {
     "end_time": "2021-07-03T20:12:19.088150Z",
     "start_time": "2021-07-03T20:12:18.253993Z"
    }
   },
   "outputs": [],
   "source": [
    "import glob\n",
    "import multiprocessing\n",
    "import os\n",
    "from evaldets.results import *\n",
    "from evaldets.postprocess import Summary\n",
    "import numpy as np\n",
    "import pandas as pd\n",
    "from uo.utils import *"
   ]
  },
  {
   "cell_type": "code",
   "execution_count": 2,
   "id": "a125c3ec",
   "metadata": {
    "ExecuteTime": {
     "end_time": "2021-07-03T20:12:19.092301Z",
     "start_time": "2021-07-03T20:12:19.089505Z"
    }
   },
   "outputs": [],
   "source": [
    "s = Summary('~/reval_05/R101/')"
   ]
  },
  {
   "cell_type": "code",
   "execution_count": 3,
   "id": "60745b16",
   "metadata": {
    "ExecuteTime": {
     "end_time": "2021-07-03T20:12:23.589002Z",
     "start_time": "2021-07-03T20:12:23.572276Z"
    }
   },
   "outputs": [
    {
     "data": {
      "text/plain": [
       "['/home/tgandor/reval_05/R101/evaluator_dump_R101_001',\n",
       " '/home/tgandor/reval_05/R101/evaluator_dump_R101_002',\n",
       " '/home/tgandor/reval_05/R101/evaluator_dump_R101_003',\n",
       " '/home/tgandor/reval_05/R101/evaluator_dump_R101_004',\n",
       " '/home/tgandor/reval_05/R101/evaluator_dump_R101_005',\n",
       " '/home/tgandor/reval_05/R101/evaluator_dump_R101_006',\n",
       " '/home/tgandor/reval_05/R101/evaluator_dump_R101_007',\n",
       " '/home/tgandor/reval_05/R101/evaluator_dump_R101_008',\n",
       " '/home/tgandor/reval_05/R101/evaluator_dump_R101_009',\n",
       " '/home/tgandor/reval_05/R101/evaluator_dump_R101_010',\n",
       " '/home/tgandor/reval_05/R101/evaluator_dump_R101_011',\n",
       " '/home/tgandor/reval_05/R101/evaluator_dump_R101_012',\n",
       " '/home/tgandor/reval_05/R101/evaluator_dump_R101_013',\n",
       " '/home/tgandor/reval_05/R101/evaluator_dump_R101_014',\n",
       " '/home/tgandor/reval_05/R101/evaluator_dump_R101_015',\n",
       " '/home/tgandor/reval_05/R101/evaluator_dump_R101_016',\n",
       " '/home/tgandor/reval_05/R101/evaluator_dump_R101_017',\n",
       " '/home/tgandor/reval_05/R101/evaluator_dump_R101_018',\n",
       " '/home/tgandor/reval_05/R101/evaluator_dump_R101_019',\n",
       " '/home/tgandor/reval_05/R101/evaluator_dump_R101_020',\n",
       " '/home/tgandor/reval_05/R101/evaluator_dump_R101_021',\n",
       " '/home/tgandor/reval_05/R101/evaluator_dump_R101_022',\n",
       " '/home/tgandor/reval_05/R101/evaluator_dump_R101_023',\n",
       " '/home/tgandor/reval_05/R101/evaluator_dump_R101_024',\n",
       " '/home/tgandor/reval_05/R101/evaluator_dump_R101_025',\n",
       " '/home/tgandor/reval_05/R101/evaluator_dump_R101_026',\n",
       " '/home/tgandor/reval_05/R101/evaluator_dump_R101_027',\n",
       " '/home/tgandor/reval_05/R101/evaluator_dump_R101_028',\n",
       " '/home/tgandor/reval_05/R101/evaluator_dump_R101_029',\n",
       " '/home/tgandor/reval_05/R101/evaluator_dump_R101_030',\n",
       " '/home/tgandor/reval_05/R101/evaluator_dump_R101_031',\n",
       " '/home/tgandor/reval_05/R101/evaluator_dump_R101_032',\n",
       " '/home/tgandor/reval_05/R101/evaluator_dump_R101_033',\n",
       " '/home/tgandor/reval_05/R101/evaluator_dump_R101_034',\n",
       " '/home/tgandor/reval_05/R101/evaluator_dump_R101_035',\n",
       " '/home/tgandor/reval_05/R101/evaluator_dump_R101_036',\n",
       " '/home/tgandor/reval_05/R101/evaluator_dump_R101_037',\n",
       " '/home/tgandor/reval_05/R101/evaluator_dump_R101_038',\n",
       " '/home/tgandor/reval_05/R101/evaluator_dump_R101_039',\n",
       " '/home/tgandor/reval_05/R101/evaluator_dump_R101_040',\n",
       " '/home/tgandor/reval_05/R101/evaluator_dump_R101_041',\n",
       " '/home/tgandor/reval_05/R101/evaluator_dump_R101_042',\n",
       " '/home/tgandor/reval_05/R101/evaluator_dump_R101_043',\n",
       " '/home/tgandor/reval_05/R101/evaluator_dump_R101_044',\n",
       " '/home/tgandor/reval_05/R101/evaluator_dump_R101_045',\n",
       " '/home/tgandor/reval_05/R101/evaluator_dump_R101_046',\n",
       " '/home/tgandor/reval_05/R101/evaluator_dump_R101_047',\n",
       " '/home/tgandor/reval_05/R101/evaluator_dump_R101_048',\n",
       " '/home/tgandor/reval_05/R101/evaluator_dump_R101_049',\n",
       " '/home/tgandor/reval_05/R101/evaluator_dump_R101_050',\n",
       " '/home/tgandor/reval_05/R101/evaluator_dump_R101_051',\n",
       " '/home/tgandor/reval_05/R101/evaluator_dump_R101_052',\n",
       " '/home/tgandor/reval_05/R101/evaluator_dump_R101_053',\n",
       " '/home/tgandor/reval_05/R101/evaluator_dump_R101_054',\n",
       " '/home/tgandor/reval_05/R101/evaluator_dump_R101_055',\n",
       " '/home/tgandor/reval_05/R101/evaluator_dump_R101_056',\n",
       " '/home/tgandor/reval_05/R101/evaluator_dump_R101_057',\n",
       " '/home/tgandor/reval_05/R101/evaluator_dump_R101_058',\n",
       " '/home/tgandor/reval_05/R101/evaluator_dump_R101_059',\n",
       " '/home/tgandor/reval_05/R101/evaluator_dump_R101_060',\n",
       " '/home/tgandor/reval_05/R101/evaluator_dump_R101_061',\n",
       " '/home/tgandor/reval_05/R101/evaluator_dump_R101_062',\n",
       " '/home/tgandor/reval_05/R101/evaluator_dump_R101_063',\n",
       " '/home/tgandor/reval_05/R101/evaluator_dump_R101_064',\n",
       " '/home/tgandor/reval_05/R101/evaluator_dump_R101_065',\n",
       " '/home/tgandor/reval_05/R101/evaluator_dump_R101_066',\n",
       " '/home/tgandor/reval_05/R101/evaluator_dump_R101_067',\n",
       " '/home/tgandor/reval_05/R101/evaluator_dump_R101_068',\n",
       " '/home/tgandor/reval_05/R101/evaluator_dump_R101_069',\n",
       " '/home/tgandor/reval_05/R101/evaluator_dump_R101_070',\n",
       " '/home/tgandor/reval_05/R101/evaluator_dump_R101_071',\n",
       " '/home/tgandor/reval_05/R101/evaluator_dump_R101_072',\n",
       " '/home/tgandor/reval_05/R101/evaluator_dump_R101_073',\n",
       " '/home/tgandor/reval_05/R101/evaluator_dump_R101_074',\n",
       " '/home/tgandor/reval_05/R101/evaluator_dump_R101_075',\n",
       " '/home/tgandor/reval_05/R101/evaluator_dump_R101_076',\n",
       " '/home/tgandor/reval_05/R101/evaluator_dump_R101_077',\n",
       " '/home/tgandor/reval_05/R101/evaluator_dump_R101_078',\n",
       " '/home/tgandor/reval_05/R101/evaluator_dump_R101_079',\n",
       " '/home/tgandor/reval_05/R101/evaluator_dump_R101_080',\n",
       " '/home/tgandor/reval_05/R101/evaluator_dump_R101_081',\n",
       " '/home/tgandor/reval_05/R101/evaluator_dump_R101_082',\n",
       " '/home/tgandor/reval_05/R101/evaluator_dump_R101_083',\n",
       " '/home/tgandor/reval_05/R101/evaluator_dump_R101_084',\n",
       " '/home/tgandor/reval_05/R101/evaluator_dump_R101_085',\n",
       " '/home/tgandor/reval_05/R101/evaluator_dump_R101_086',\n",
       " '/home/tgandor/reval_05/R101/evaluator_dump_R101_087',\n",
       " '/home/tgandor/reval_05/R101/evaluator_dump_R101_088',\n",
       " '/home/tgandor/reval_05/R101/evaluator_dump_R101_089',\n",
       " '/home/tgandor/reval_05/R101/evaluator_dump_R101_090',\n",
       " '/home/tgandor/reval_05/R101/evaluator_dump_R101_091',\n",
       " '/home/tgandor/reval_05/R101/evaluator_dump_R101_092',\n",
       " '/home/tgandor/reval_05/R101/evaluator_dump_R101_093',\n",
       " '/home/tgandor/reval_05/R101/evaluator_dump_R101_094',\n",
       " '/home/tgandor/reval_05/R101/evaluator_dump_R101_095',\n",
       " '/home/tgandor/reval_05/R101/evaluator_dump_R101_096',\n",
       " '/home/tgandor/reval_05/R101/evaluator_dump_R101_097',\n",
       " '/home/tgandor/reval_05/R101/evaluator_dump_R101_098',\n",
       " '/home/tgandor/reval_05/R101/evaluator_dump_R101_099',\n",
       " '/home/tgandor/reval_05/R101/evaluator_dump_R101_100']"
      ]
     },
     "execution_count": 3,
     "metadata": {},
     "output_type": "execute_result"
    }
   ],
   "source": [
    "s.subdirs"
   ]
  },
  {
   "cell_type": "code",
   "execution_count": null,
   "id": "66bd5305",
   "metadata": {
    "ExecuteTime": {
     "end_time": "2021-07-03T15:14:37.011484Z",
     "start_time": "2021-07-03T15:14:37.006552Z"
    }
   },
   "outputs": [],
   "source": [
    "r101 = glob.glob(os.path.expanduser('~/reval_05/R101/*'))"
   ]
  },
  {
   "cell_type": "code",
   "execution_count": null,
   "id": "ae5d8a31",
   "metadata": {
    "ExecuteTime": {
     "end_time": "2021-07-03T15:14:37.029633Z",
     "start_time": "2021-07-03T15:14:37.015243Z"
    }
   },
   "outputs": [],
   "source": [
    "def get_summary(d):\n",
    "    return DetectionResults(d).summary(0.5, 0.5)\n",
    "\n",
    "def get_summary05(d):\n",
    "    return DetectionResults(d).summary()\n"
   ]
  },
  {
   "cell_type": "code",
   "execution_count": null,
   "id": "93dfe36c",
   "metadata": {
    "ExecuteTime": {
     "end_time": "2021-07-03T15:14:37.180181Z",
     "start_time": "2021-07-03T15:14:37.032370Z"
    }
   },
   "outputs": [],
   "source": [
    "p = multiprocessing.Pool()"
   ]
  },
  {
   "cell_type": "code",
   "execution_count": null,
   "id": "99ca0a32",
   "metadata": {
    "ExecuteTime": {
     "end_time": "2021-07-03T15:16:56.678026Z",
     "start_time": "2021-07-03T15:14:37.187161Z"
    }
   },
   "outputs": [],
   "source": [
    "df = pd.DataFrame([DetectionResults(d).summary() for d in r101], index=map(os.path.basename, r101)).sort_index()"
   ]
  },
  {
   "cell_type": "code",
   "execution_count": null,
   "id": "fd5b2bb7",
   "metadata": {
    "ExecuteTime": {
     "end_time": "2021-07-03T15:17:38.537467Z",
     "start_time": "2021-07-03T15:16:56.679239Z"
    }
   },
   "outputs": [],
   "source": [
    "data50 = p.map(get_summary, r101)"
   ]
  },
  {
   "cell_type": "code",
   "execution_count": null,
   "id": "e6bf49ac",
   "metadata": {
    "ExecuteTime": {
     "end_time": "2021-07-03T19:33:57.922491Z",
     "start_time": "2021-07-03T19:33:57.909127Z"
    }
   },
   "outputs": [],
   "source": [
    "df.tail()"
   ]
  },
  {
   "cell_type": "code",
   "execution_count": null,
   "id": "cfac4f20",
   "metadata": {
    "ExecuteTime": {
     "end_time": "2021-07-03T19:37:40.997424Z",
     "start_time": "2021-07-03T19:37:40.896957Z"
    }
   },
   "outputs": [],
   "source": [
    "df.reset_index(drop=True).F1.plot()\n",
    "df50.reset_index().F1.plot()"
   ]
  },
  {
   "cell_type": "code",
   "execution_count": null,
   "id": "57fc5470",
   "metadata": {
    "ExecuteTime": {
     "end_time": "2021-07-03T15:17:38.734270Z",
     "start_time": "2021-07-03T15:17:38.538462Z"
    }
   },
   "outputs": [],
   "source": [
    "df.plot()"
   ]
  },
  {
   "cell_type": "code",
   "execution_count": null,
   "id": "708f2962",
   "metadata": {
    "ExecuteTime": {
     "end_time": "2021-07-03T15:17:38.741491Z",
     "start_time": "2021-07-03T15:17:38.737004Z"
    }
   },
   "outputs": [],
   "source": [
    "df50 = pd.DataFrame(data50, index=map(os.path.basename, r101)).sort_index()"
   ]
  },
  {
   "cell_type": "code",
   "execution_count": null,
   "id": "08d476b2",
   "metadata": {
    "ExecuteTime": {
     "end_time": "2021-07-03T15:17:38.890042Z",
     "start_time": "2021-07-03T15:17:38.743475Z"
    }
   },
   "outputs": [],
   "source": [
    "df50.plot()"
   ]
  },
  {
   "cell_type": "code",
   "execution_count": null,
   "id": "e45abf65",
   "metadata": {
    "ExecuteTime": {
     "end_time": "2021-07-03T15:17:38.895284Z",
     "start_time": "2021-07-03T15:17:38.891785Z"
    }
   },
   "outputs": [],
   "source": [
    "x101 = glob.glob(os.path.expanduser('~/reval_05/R101/*'))"
   ]
  },
  {
   "cell_type": "code",
   "execution_count": null,
   "id": "86340cfc",
   "metadata": {
    "ExecuteTime": {
     "end_time": "2021-07-03T15:18:21.303935Z",
     "start_time": "2021-07-03T15:17:38.896792Z"
    }
   },
   "outputs": [],
   "source": [
    "x101_50 = p.map(get_summary, x101)\n",
    "df_x101 = pd.DataFrame(x101_50, index=map(os.path.basename, x101)).sort_index()\n",
    "df_x101.plot()"
   ]
  },
  {
   "cell_type": "code",
   "execution_count": null,
   "id": "c8d16af2",
   "metadata": {
    "ExecuteTime": {
     "end_time": "2021-07-03T15:19:06.049235Z",
     "start_time": "2021-07-03T15:18:21.305299Z"
    }
   },
   "outputs": [],
   "source": [
    "x101_05 = p.map(get_summary05, x101)"
   ]
  },
  {
   "cell_type": "code",
   "execution_count": null,
   "id": "3accdedd",
   "metadata": {
    "ExecuteTime": {
     "end_time": "2021-07-03T15:19:06.198033Z",
     "start_time": "2021-07-03T15:19:06.050416Z"
    }
   },
   "outputs": [],
   "source": [
    "df_x101 = pd.DataFrame(x101_05, index=map(os.path.basename, x101)).sort_index()\n",
    "df_x101.plot()"
   ]
  },
  {
   "cell_type": "code",
   "execution_count": null,
   "id": "d2b8d709",
   "metadata": {},
   "outputs": [],
   "source": []
  }
 ],
 "metadata": {
  "kernelspec": {
   "display_name": "Python 3",
   "language": "python",
   "name": "python3"
  },
  "language_info": {
   "codemirror_mode": {
    "name": "ipython",
    "version": 3
   },
   "file_extension": ".py",
   "mimetype": "text/x-python",
   "name": "python",
   "nbconvert_exporter": "python",
   "pygments_lexer": "ipython3",
   "version": "3.9.5"
  },
  "toc": {
   "base_numbering": 1,
   "nav_menu": {},
   "number_sections": true,
   "sideBar": true,
   "skip_h1_title": false,
   "title_cell": "Table of Contents",
   "title_sidebar": "Contents",
   "toc_cell": false,
   "toc_position": {},
   "toc_section_display": true,
   "toc_window_display": false
  }
 },
 "nbformat": 4,
 "nbformat_minor": 5
}
