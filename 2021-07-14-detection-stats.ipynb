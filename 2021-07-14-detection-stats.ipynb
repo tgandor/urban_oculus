{
 "cells": [
  {
   "cell_type": "code",
   "execution_count": null,
   "id": "3c129602",
   "metadata": {
    "ExecuteTime": {
     "end_time": "2021-07-17T10:00:57.348521Z",
     "start_time": "2021-07-17T10:00:55.876392Z"
    }
   },
   "outputs": [],
   "source": [
    "from evaldets.postprocess import *\n",
    "import logging\n",
    "# logging.basicConfig(level=logging.INFO)"
   ]
  },
  {
   "cell_type": "code",
   "execution_count": null,
   "id": "b2574245",
   "metadata": {
    "ExecuteTime": {
     "end_time": "2021-07-17T10:00:58.078133Z",
     "start_time": "2021-07-17T10:00:57.350053Z"
    }
   },
   "outputs": [],
   "source": [
    "gt_for_single_run(os.path.expanduser(\"~/reval_05/baseline_05/evaluator_dump_X101_101/\"))"
   ]
  },
  {
   "cell_type": "code",
   "execution_count": null,
   "id": "e5e78645",
   "metadata": {
    "ExecuteTime": {
     "end_time": "2021-07-17T10:01:06.771722Z",
     "start_time": "2021-07-17T10:00:58.080003Z"
    }
   },
   "outputs": [],
   "source": [
    "df = gt_id_statistics(\"~/reval_05/\")\n",
    "df = df[df.crowd == False]\n",
    "df"
   ]
  },
  {
   "cell_type": "code",
   "execution_count": null,
   "id": "73c6711d",
   "metadata": {
    "ExecuteTime": {
     "end_time": "2021-07-17T10:01:07.671774Z",
     "start_time": "2021-07-17T10:01:06.773232Z"
    }
   },
   "outputs": [],
   "source": [
    "df.gt_id.value_counts().value_counts().sort_index().plot()"
   ]
  },
  {
   "cell_type": "code",
   "execution_count": null,
   "id": "a5aebffb",
   "metadata": {
    "ExecuteTime": {
     "end_time": "2021-07-17T10:01:08.501156Z",
     "start_time": "2021-07-17T10:01:07.673480Z"
    }
   },
   "outputs": [],
   "source": [
    "df.gt_id.value_counts()"
   ]
  },
  {
   "cell_type": "code",
   "execution_count": null,
   "id": "f2b00b02",
   "metadata": {
    "ExecuteTime": {
     "end_time": "2021-07-17T10:01:09.440145Z",
     "start_time": "2021-07-17T10:01:08.502684Z"
    }
   },
   "outputs": [],
   "source": [
    "mins = df.groupby('gt_id').quality.min().sort_values()"
   ]
  },
  {
   "cell_type": "code",
   "execution_count": null,
   "id": "16f2140f",
   "metadata": {
    "ExecuteTime": {
     "end_time": "2021-07-17T10:01:09.447157Z",
     "start_time": "2021-07-17T10:01:09.441727Z"
    }
   },
   "outputs": [],
   "source": [
    "mins[mins >= 20]"
   ]
  },
  {
   "cell_type": "code",
   "execution_count": null,
   "id": "0469e922",
   "metadata": {
    "ExecuteTime": {
     "end_time": "2021-07-17T10:01:09.469049Z",
     "start_time": "2021-07-17T10:01:09.449975Z"
    }
   },
   "outputs": [],
   "source": [
    "from evaldets.visualization import show_single_gt\n",
    "mins[mins >= 20].head(3).index"
   ]
  },
  {
   "cell_type": "code",
   "execution_count": null,
   "id": "17e3a771",
   "metadata": {
    "ExecuteTime": {
     "end_time": "2021-07-17T10:01:10.465221Z",
     "start_time": "2021-07-17T10:01:09.470503Z"
    },
    "scrolled": false
   },
   "outputs": [],
   "source": [
    "for gt_id in mins[mins >= 1].head(3).index:\n",
    "    show_single_gt(gt_id, crop=False, q=1)"
   ]
  },
  {
   "cell_type": "code",
   "execution_count": null,
   "id": "d73abd26",
   "metadata": {
    "ExecuteTime": {
     "end_time": "2021-07-17T10:01:11.062831Z",
     "start_time": "2021-07-17T10:01:10.466426Z"
    },
    "scrolled": true
   },
   "outputs": [],
   "source": [
    "for gt_id in mins[mins >= 20].head(3).index:\n",
    "    show_single_gt(gt_id, crop=False, q=20)"
   ]
  },
  {
   "cell_type": "code",
   "execution_count": null,
   "id": "066fe970",
   "metadata": {
    "ExecuteTime": {
     "end_time": "2021-07-17T10:01:12.203922Z",
     "start_time": "2021-07-17T10:01:11.064017Z"
    },
    "scrolled": true
   },
   "outputs": [],
   "source": [
    "for gt_id in mins[mins >= 40].head(3).index:\n",
    "    show_single_gt(gt_id, crop=False, q=40, v=True)"
   ]
  },
  {
   "cell_type": "code",
   "execution_count": null,
   "id": "fad04544",
   "metadata": {
    "ExecuteTime": {
     "end_time": "2021-07-17T10:01:12.878401Z",
     "start_time": "2021-07-17T10:01:12.205153Z"
    },
    "scrolled": true
   },
   "outputs": [],
   "source": [
    "for gt_id in mins[mins >= 60].head(3).index:\n",
    "    show_single_gt(gt_id, crop=False, q=60, v=True)"
   ]
  },
  {
   "cell_type": "code",
   "execution_count": null,
   "id": "b54f1be4",
   "metadata": {
    "ExecuteTime": {
     "end_time": "2021-07-17T10:01:13.383777Z",
     "start_time": "2021-07-17T10:01:12.880129Z"
    },
    "scrolled": true
   },
   "outputs": [],
   "source": [
    "for gt_id in mins[mins >= 80].head(3).index:\n",
    "    show_single_gt(gt_id, crop=False, q=80, v=True)"
   ]
  },
  {
   "cell_type": "code",
   "execution_count": null,
   "id": "899d60de",
   "metadata": {
    "ExecuteTime": {
     "end_time": "2021-07-17T10:01:13.414951Z",
     "start_time": "2021-07-17T10:01:13.384793Z"
    }
   },
   "outputs": [],
   "source": [
    "df[df.gt_id == 1264308].sort_values('quality')"
   ]
  },
  {
   "cell_type": "code",
   "execution_count": null,
   "id": "f4e4000f",
   "metadata": {
    "ExecuteTime": {
     "end_time": "2021-07-17T10:01:13.441093Z",
     "start_time": "2021-07-17T10:01:13.416019Z"
    }
   },
   "outputs": [],
   "source": [
    "df[df.gt_id == 1694318]"
   ]
  },
  {
   "cell_type": "code",
   "execution_count": null,
   "id": "11ac8edd",
   "metadata": {
    "ExecuteTime": {
     "end_time": "2021-07-17T10:01:13.529972Z",
     "start_time": "2021-07-17T10:01:13.442142Z"
    }
   },
   "outputs": [],
   "source": [
    "mins.value_counts().sort_index().plot()"
   ]
  },
  {
   "cell_type": "code",
   "execution_count": null,
   "id": "e965f248",
   "metadata": {
    "ExecuteTime": {
     "end_time": "2021-07-17T10:01:13.536313Z",
     "start_time": "2021-07-17T10:01:13.531126Z"
    }
   },
   "outputs": [],
   "source": [
    "mins.value_counts().sort_index()"
   ]
  },
  {
   "cell_type": "code",
   "execution_count": null,
   "id": "d6b35e0c",
   "metadata": {
    "ExecuteTime": {
     "end_time": "2021-07-17T10:01:15.289136Z",
     "start_time": "2021-07-17T10:01:13.538046Z"
    }
   },
   "outputs": [],
   "source": [
    "fig, axes = plt.subplots(1, 5)\n",
    "s = 2\n",
    "fig.set_figheight(3*s)\n",
    "fig.set_figwidth(15*s)\n",
    "fig, axes\n",
    "\n",
    "axes[0].axis('off')\n",
    "axes[0].imshow(show_single_gt(166023, mode=\"ret\", q=1), aspect=1)\n",
    "axes[0].set_title('A: min(Q)=1, id=166023')\n",
    "axes[1].axis('off')\n",
    "axes[1].imshow(show_single_gt(693003, mode=\"ret\", q=20), aspect=1)\n",
    "axes[1].set_title('B: min(Q)=20, id=693003')\n",
    "axes[2].axis('off')\n",
    "axes[2].imshow(show_single_gt(1264308, mode=\"ret\", q=40), aspect=1)\n",
    "axes[2].set_title('C: min(Q)=40, id=1264308')\n",
    "axes[3].axis('off')\n",
    "axes[3].imshow(show_single_gt(1147645, mode=\"ret\", q=60), aspect=1)\n",
    "axes[3].set_title('D: min(Q)=60, id=1264308')\n",
    "axes[4].axis('off')\n",
    "axes[4].imshow(show_single_gt(2079208, mode=\"ret\", q=80), aspect=1)\n",
    "axes[4].set_title('E: min(Q)=80, id=1264308')\n",
    "fig.savefig(\"Min_Q_examples.pdf\", bbox_inches='tight')"
   ]
  },
  {
   "cell_type": "code",
   "execution_count": null,
   "id": "42d32e21",
   "metadata": {
    "ExecuteTime": {
     "end_time": "2021-07-17T10:01:19.537850Z",
     "start_time": "2021-07-17T10:01:15.290205Z"
    }
   },
   "outputs": [],
   "source": [
    "next(iter(df.groupby(['image_id', 'model'])))[1].quality.value_counts().sort_index()"
   ]
  }
 ],
 "metadata": {
  "kernelspec": {
   "display_name": "Python 3",
   "language": "python",
   "name": "python3"
  },
  "language_info": {
   "codemirror_mode": {
    "name": "ipython",
    "version": 3
   },
   "file_extension": ".py",
   "mimetype": "text/x-python",
   "name": "python",
   "nbconvert_exporter": "python",
   "pygments_lexer": "ipython3",
   "version": "3.9.6"
  },
  "toc": {
   "base_numbering": 1,
   "nav_menu": {},
   "number_sections": true,
   "sideBar": true,
   "skip_h1_title": false,
   "title_cell": "Table of Contents",
   "title_sidebar": "Contents",
   "toc_cell": false,
   "toc_position": {},
   "toc_section_display": true,
   "toc_window_display": false
  }
 },
 "nbformat": 4,
 "nbformat_minor": 5
}
