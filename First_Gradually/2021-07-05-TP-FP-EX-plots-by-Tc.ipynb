{
 "cells": [
  {
   "cell_type": "code",
   "execution_count": null,
   "id": "6a57f092",
   "metadata": {
    "ExecuteTime": {
     "end_time": "2022-04-26T11:00:25.864134Z",
     "start_time": "2022-04-26T11:00:24.342356Z"
    }
   },
   "outputs": [],
   "source": [
    "import sys; sys.path.append(\"..\")\n",
    "import logging\n",
    "from evaldets.results import DetectionResults\n",
    "from evaldets.postprocess import *\n",
    "import matplotlib.pyplot as plt\n",
    "# logging.basicConfig(level=logging.INFO)"
   ]
  },
  {
   "cell_type": "code",
   "execution_count": null,
   "id": "995473ce",
   "metadata": {
    "ExecuteTime": {
     "end_time": "2022-04-26T11:00:25.870236Z",
     "start_time": "2022-04-26T11:00:25.866464Z"
    }
   },
   "outputs": [],
   "source": [
    "s = Summary('~/reval_05/baseline_05/')"
   ]
  },
  {
   "cell_type": "markdown",
   "id": "ae239514",
   "metadata": {},
   "source": [
    "# Non-stacked version "
   ]
  },
  {
   "cell_type": "code",
   "execution_count": null,
   "id": "dda373c8",
   "metadata": {
    "ExecuteTime": {
     "end_time": "2022-04-26T11:00:27.227257Z",
     "start_time": "2022-04-26T11:00:25.871617Z"
    },
    "scrolled": false
   },
   "outputs": [],
   "source": [
    "fig, axes = get_figure_axes(sharey=True)\n",
    "s.plot_tc_tp_fp_ex(axes, order='R101 R101_C4 R101_DC5 R101_FPN X101 R50 R50_C4 R50_DC5 R50_FPN'.split(), min_Tc=0.15, legend=False)\n",
    "finish_plot(fig, axes)"
   ]
  },
  {
   "cell_type": "code",
   "execution_count": null,
   "id": "b493c082",
   "metadata": {
    "ExecuteTime": {
     "end_time": "2022-04-26T11:00:29.052656Z",
     "start_time": "2022-04-26T11:00:27.229235Z"
    }
   },
   "outputs": [],
   "source": [
    "# fig.savefig('2021-07-05-TP-FP-EX-plots-by-Tc_1_non_stacked.png')\n",
    "save_plot(fig, '2021-07-05-TP-FP-EX-plots-by-Tc_1_non_stacked')"
   ]
  },
  {
   "cell_type": "markdown",
   "id": "e61c57c5",
   "metadata": {
    "ExecuteTime": {
     "end_time": "2021-07-06T09:48:07.906910Z",
     "start_time": "2021-07-06T09:48:07.899594Z"
    }
   },
   "source": [
    "# Stacked version\n",
    "The better one."
   ]
  },
  {
   "cell_type": "code",
   "execution_count": null,
   "id": "24eb1b2d",
   "metadata": {
    "ExecuteTime": {
     "end_time": "2022-04-26T11:00:31.962451Z",
     "start_time": "2022-04-26T11:00:29.054077Z"
    },
    "scrolled": false
   },
   "outputs": [],
   "source": [
    "fig, axes = get_figure_axes(sharey=True)\n",
    "s.plot_tc_tp_fp_ex(axes, stack=True, min_Tc=0.2, order='R101 R101_C4 R101_DC5 R101_FPN X101 R50 R50_C4 R50_DC5 R50_FPN'.split(), legend=False)\n",
    "finish_plot(fig, axes)\n",
    "# fig.savefig('2021-07-05-TP-FP-EX-plots-by-Tc_2_stacked.png')\n",
    "save_plot(fig, '2021-07-05-TP-FP-EX-plots-by-Tc_2_stacked')"
   ]
  },
  {
   "cell_type": "markdown",
   "id": "3d38ba52",
   "metadata": {},
   "source": [
    "# Early experimens"
   ]
  },
  {
   "cell_type": "code",
   "execution_count": null,
   "id": "5addb250",
   "metadata": {
    "ExecuteTime": {
     "end_time": "2022-04-26T11:00:33.664899Z",
     "start_time": "2022-04-26T11:00:31.964114Z"
    }
   },
   "outputs": [],
   "source": [
    "dr = DetectionResults('~/reval_05/baseline_05/evaluator_dump_R101_101/')"
   ]
  },
  {
   "cell_type": "code",
   "execution_count": null,
   "id": "38b9a527",
   "metadata": {
    "ExecuteTime": {
     "end_time": "2022-04-26T11:00:35.508955Z",
     "start_time": "2022-04-26T11:00:33.666220Z"
    }
   },
   "outputs": [],
   "source": [
    "plt.plot(dr.scores_all(), dr.tp_sum_all(), 'g-')\n",
    "plt.plot(dr.scores_all(), -dr.fp_sum_all(), 'r-')\n",
    "plt.plot(dr.scores_all(), dr.tp_sum_all()+dr.ex_sum_all(), 'y--')\n",
    "plt.axhline(0, color='black')\n",
    "plt.gca().set_xlim(1, 0)\n",
    "save_plot(plt.gcf(), '2021-07-05-TP-FP-EX-plots-by-Tc_3_R101_101')"
   ]
  },
  {
   "cell_type": "code",
   "execution_count": null,
   "id": "fad6faba",
   "metadata": {
    "ExecuteTime": {
     "end_time": "2022-04-26T11:00:36.882863Z",
     "start_time": "2022-04-26T11:00:35.511059Z"
    }
   },
   "outputs": [],
   "source": [
    "dr = DetectionResults('~/reval_05/baseline_05/evaluator_dump_X101_101/')"
   ]
  },
  {
   "cell_type": "code",
   "execution_count": null,
   "id": "7370cb44",
   "metadata": {
    "ExecuteTime": {
     "end_time": "2022-04-26T11:00:37.803082Z",
     "start_time": "2022-04-26T11:00:36.884086Z"
    }
   },
   "outputs": [],
   "source": [
    "plt.plot(dr.scores_all(), dr.tp_sum_all(), 'g-')\n",
    "plt.plot(dr.scores_all(), -dr.fp_sum_all(), 'r-')\n",
    "plt.plot(dr.scores_all(), dr.tp_sum_all()+dr.ex_sum_all(), 'y--')\n",
    "plt.xlim(1, 0)\n",
    "plt.axhline(0, color='black', linestyle='-.');\n",
    "save_plot(plt.gcf(), '2021-07-05-TP-FP-EX-plots-by-Tc_4_X101_101')"
   ]
  },
  {
   "cell_type": "code",
   "execution_count": null,
   "id": "ddcb39bb",
   "metadata": {},
   "outputs": [],
   "source": []
  }
 ],
 "metadata": {
  "kernelspec": {
   "display_name": "Python 3 (ipykernel)",
   "language": "python",
   "name": "python3"
  },
  "language_info": {
   "codemirror_mode": {
    "name": "ipython",
    "version": 3
   },
   "file_extension": ".py",
   "mimetype": "text/x-python",
   "name": "python",
   "nbconvert_exporter": "python",
   "pygments_lexer": "ipython3",
   "version": "3.10.4"
  },
  "toc": {
   "base_numbering": 1,
   "nav_menu": {},
   "number_sections": true,
   "sideBar": true,
   "skip_h1_title": false,
   "title_cell": "Table of Contents",
   "title_sidebar": "Contents",
   "toc_cell": false,
   "toc_position": {},
   "toc_section_display": true,
   "toc_window_display": false
  }
 },
 "nbformat": 4,
 "nbformat_minor": 5
}
