{
 "cells": [
  {
   "cell_type": "code",
   "execution_count": null,
   "id": "4dd84e98",
   "metadata": {
    "ExecuteTime": {
     "end_time": "2022-05-05T11:12:03.895457Z",
     "start_time": "2022-05-05T11:12:01.070807Z"
    }
   },
   "outputs": [],
   "source": [
    "import sys; sys.path.append(\"..\")\n",
    "import logging\n",
    "import os\n",
    "from evaldets.results import *\n",
    "from evaldets.postprocess import *\n",
    "import matplotlib.pyplot as plt\n",
    "import numpy as np\n",
    "import pandas as pd\n",
    "from uo.utils import *"
   ]
  },
  {
   "cell_type": "code",
   "execution_count": null,
   "id": "ebad5a6f",
   "metadata": {
    "ExecuteTime": {
     "end_time": "2022-05-05T11:12:03.901471Z",
     "start_time": "2022-05-05T11:12:03.897010Z"
    }
   },
   "outputs": [],
   "source": [
    "s = GrandSummary('~/reval_50/')"
   ]
  },
  {
   "cell_type": "code",
   "execution_count": null,
   "id": "0f211bfd",
   "metadata": {
    "ExecuteTime": {
     "end_time": "2022-05-05T11:12:04.840714Z",
     "start_time": "2022-05-05T11:12:03.903295Z"
    }
   },
   "outputs": [],
   "source": [
    "# about 1h with empty caches\n",
    "fig, axes = get_figure_axes()\n",
    "s.plot_q_summaries(axes, order='R101 R101_C4 R101_DC5 R101_FPN X101 R50 R50_C4 R50_DC5 R50_FPN'.split(), legend=False)\n",
    "finish_plot(fig, axes)\n",
    "# fig.savefig('all_PRF1_Q.pdf')\n",
    "save_plot(fig, \"2021-07-05-q-metrics-plots-all_PRF1_Q\")"
   ]
  },
  {
   "cell_type": "code",
   "execution_count": null,
   "id": "99f7bd98",
   "metadata": {
    "ExecuteTime": {
     "end_time": "2022-05-05T11:12:06.878550Z",
     "start_time": "2022-05-05T11:12:06.875580Z"
    }
   },
   "outputs": [],
   "source": [
    "# q_summaries modified manually...\n",
    "# s.save_q_summaries(excel=True)"
   ]
  }
 ],
 "metadata": {
  "kernelspec": {
   "display_name": "Python 3 (ipykernel)",
   "language": "python",
   "name": "python3"
  },
  "language_info": {
   "codemirror_mode": {
    "name": "ipython",
    "version": 3
   },
   "file_extension": ".py",
   "mimetype": "text/x-python",
   "name": "python",
   "nbconvert_exporter": "python",
   "pygments_lexer": "ipython3",
   "version": "3.10.4"
  },
  "toc": {
   "base_numbering": 1,
   "nav_menu": {},
   "number_sections": true,
   "sideBar": true,
   "skip_h1_title": false,
   "title_cell": "Table of Contents",
   "title_sidebar": "Contents",
   "toc_cell": false,
   "toc_position": {},
   "toc_section_display": true,
   "toc_window_display": false
  }
 },
 "nbformat": 4,
 "nbformat_minor": 5
}
