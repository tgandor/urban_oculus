{
 "cells": [
  {
   "cell_type": "code",
   "execution_count": null,
   "id": "4dd84e98",
   "metadata": {
    "ExecuteTime": {
     "end_time": "2021-07-08T21:23:29.986325Z",
     "start_time": "2021-07-08T21:23:29.159107Z"
    }
   },
   "outputs": [],
   "source": [
    "import logging\n",
    "import os\n",
    "from evaldets.results import *\n",
    "from evaldets.postprocess import *\n",
    "import matplotlib.pyplot as plt\n",
    "import numpy as np\n",
    "import pandas as pd\n",
    "from uo.utils import *\n",
    "\n",
    "# logging.basicConfig(level=logging.DEBUG)\n",
    "# logging.basicConfig(level=logging.INFO)"
   ]
  },
  {
   "cell_type": "code",
   "execution_count": null,
   "id": "2b02bdcd",
   "metadata": {
    "ExecuteTime": {
     "end_time": "2021-07-08T21:23:30.015264Z",
     "start_time": "2021-07-08T21:23:29.987815Z"
    }
   },
   "outputs": [],
   "source": [
    "#!rm ~/reval_50/X101/subdir_summaries.pkl.gz\n",
    "subdir_summaries('~/reval_50/X101')"
   ]
  },
  {
   "cell_type": "code",
   "execution_count": null,
   "id": "ebad5a6f",
   "metadata": {
    "ExecuteTime": {
     "end_time": "2021-07-08T21:23:30.023880Z",
     "start_time": "2021-07-08T21:23:30.018363Z"
    }
   },
   "outputs": [],
   "source": [
    "s = GrandSummary('~/reval_50/')"
   ]
  },
  {
   "cell_type": "code",
   "execution_count": null,
   "id": "0f211bfd",
   "metadata": {
    "ExecuteTime": {
     "end_time": "2021-07-08T21:23:30.815561Z",
     "start_time": "2021-07-08T21:23:30.025008Z"
    }
   },
   "outputs": [],
   "source": [
    "fig, axes = get_figure_axes()\n",
    "s.plot_q_summaries(axes, order='R101 R101_C4 R101_DC5 R101_FPN X101 R50 R50_C4 R50_DC5 R50_FPN'.split(), legend=False)\n",
    "finish_plot(fig, axes)"
   ]
  },
  {
   "cell_type": "code",
   "execution_count": null,
   "id": "eff43432",
   "metadata": {
    "ExecuteTime": {
     "end_time": "2021-07-08T21:23:31.003037Z",
     "start_time": "2021-07-08T21:23:30.816708Z"
    }
   },
   "outputs": [],
   "source": [
    "fig.savefig('all_PRF1_Q.pdf')"
   ]
  },
  {
   "cell_type": "code",
   "execution_count": null,
   "id": "99f7bd98",
   "metadata": {
    "ExecuteTime": {
     "end_time": "2021-07-08T21:23:31.006534Z",
     "start_time": "2021-07-08T21:23:31.004781Z"
    }
   },
   "outputs": [],
   "source": [
    "# q_summaries modified manually...\n",
    "# s.save_q_summaries(excel=True)"
   ]
  }
 ],
 "metadata": {
  "kernelspec": {
   "display_name": "Python 3",
   "language": "python",
   "name": "python3"
  },
  "language_info": {
   "codemirror_mode": {
    "name": "ipython",
    "version": 3
   },
   "file_extension": ".py",
   "mimetype": "text/x-python",
   "name": "python",
   "nbconvert_exporter": "python",
   "pygments_lexer": "ipython3",
   "version": "3.9.5"
  },
  "toc": {
   "base_numbering": 1,
   "nav_menu": {},
   "number_sections": true,
   "sideBar": true,
   "skip_h1_title": false,
   "title_cell": "Table of Contents",
   "title_sidebar": "Contents",
   "toc_cell": false,
   "toc_position": {},
   "toc_section_display": true,
   "toc_window_display": false
  }
 },
 "nbformat": 4,
 "nbformat_minor": 5
}
