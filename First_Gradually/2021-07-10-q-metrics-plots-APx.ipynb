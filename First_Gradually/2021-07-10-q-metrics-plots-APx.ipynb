{
 "cells": [
  {
   "cell_type": "code",
   "execution_count": null,
   "id": "4dd84e98",
   "metadata": {
    "ExecuteTime": {
     "end_time": "2021-07-10T03:32:41.927030Z",
     "start_time": "2021-07-10T03:32:40.991558Z"
    }
   },
   "outputs": [],
   "source": [
    "import logging\n",
    "import os\n",
    "from evaldets.results import *\n",
    "from evaldets.postprocess import *\n",
    "import matplotlib.pyplot as plt\n",
    "import numpy as np\n",
    "import pandas as pd\n",
    "from uo.utils import *\n",
    "\n",
    "# logging.basicConfig(level=logging.DEBUG)\n",
    "logging.basicConfig(level=logging.INFO)"
   ]
  },
  {
   "cell_type": "markdown",
   "id": "b1391bb2",
   "metadata": {},
   "source": [
    "# Overall AP, mAP.5, mAP.75"
   ]
  },
  {
   "cell_type": "code",
   "execution_count": null,
   "id": "ebad5a6f",
   "metadata": {
    "ExecuteTime": {
     "end_time": "2021-07-10T03:32:41.931954Z",
     "start_time": "2021-07-10T03:32:41.928468Z"
    }
   },
   "outputs": [],
   "source": [
    "s = GrandSummary('~/reval_50/')"
   ]
  },
  {
   "cell_type": "code",
   "execution_count": null,
   "id": "0f211bfd",
   "metadata": {
    "ExecuteTime": {
     "end_time": "2021-07-10T03:32:42.861250Z",
     "start_time": "2021-07-10T03:32:41.933586Z"
    },
    "scrolled": true
   },
   "outputs": [],
   "source": [
    "fig, axes = get_figure_axes()\n",
    "s.plot_ap_summaries(axes, order=DEFAULT_ORDER, legend=False)\n",
    "finish_plot(fig, axes)"
   ]
  },
  {
   "cell_type": "code",
   "execution_count": null,
   "id": "eff43432",
   "metadata": {
    "ExecuteTime": {
     "end_time": "2021-07-10T03:32:43.049364Z",
     "start_time": "2021-07-10T03:32:42.862586Z"
    }
   },
   "outputs": [],
   "source": [
    "fig.savefig('all_50_AP_Q.pdf')"
   ]
  },
  {
   "cell_type": "code",
   "execution_count": null,
   "id": "3ffcf38e",
   "metadata": {
    "ExecuteTime": {
     "end_time": "2021-07-10T03:32:43.054893Z",
     "start_time": "2021-07-10T03:32:43.050639Z"
    }
   },
   "outputs": [],
   "source": [
    "s = GrandSummary('~/reval_05/')"
   ]
  },
  {
   "cell_type": "code",
   "execution_count": null,
   "id": "26857f63",
   "metadata": {
    "ExecuteTime": {
     "end_time": "2021-07-10T03:32:44.355016Z",
     "start_time": "2021-07-10T03:32:43.055956Z"
    },
    "scrolled": true
   },
   "outputs": [],
   "source": [
    "fig, axes = get_figure_axes()\n",
    "s.plot_ap_summaries(axes, order=DEFAULT_ORDER, legend=False)\n",
    "finish_plot(fig, axes)"
   ]
  },
  {
   "cell_type": "code",
   "execution_count": null,
   "id": "14cf0c0e",
   "metadata": {
    "ExecuteTime": {
     "end_time": "2021-07-10T03:32:44.550557Z",
     "start_time": "2021-07-10T03:32:44.356260Z"
    }
   },
   "outputs": [],
   "source": [
    "fig.savefig('all_05_AP_Q.pdf')"
   ]
  },
  {
   "cell_type": "markdown",
   "id": "a253e48f",
   "metadata": {},
   "source": [
    "# By size"
   ]
  },
  {
   "cell_type": "code",
   "execution_count": null,
   "id": "0b51d753",
   "metadata": {
    "ExecuteTime": {
     "end_time": "2021-07-10T03:32:44.556850Z",
     "start_time": "2021-07-10T03:32:44.553370Z"
    }
   },
   "outputs": [],
   "source": [
    "s = GrandSummary('~/reval_50/')"
   ]
  },
  {
   "cell_type": "code",
   "execution_count": null,
   "id": "06522f16",
   "metadata": {
    "ExecuteTime": {
     "end_time": "2021-07-10T03:32:45.435361Z",
     "start_time": "2021-07-10T03:32:44.558136Z"
    },
    "scrolled": true
   },
   "outputs": [],
   "source": [
    "fig, axes = get_figure_axes()\n",
    "s.plot_ap_summaries(axes, order=DEFAULT_ORDER, legend=False, by_size=True)\n",
    "finish_plot(fig, axes)"
   ]
  },
  {
   "cell_type": "code",
   "execution_count": null,
   "id": "f458c01f",
   "metadata": {
    "ExecuteTime": {
     "end_time": "2021-07-10T03:32:45.613080Z",
     "start_time": "2021-07-10T03:32:45.436738Z"
    }
   },
   "outputs": [],
   "source": [
    "fig.savefig('all_50_APsize_Q.pdf')"
   ]
  },
  {
   "cell_type": "code",
   "execution_count": null,
   "id": "8cee6838",
   "metadata": {
    "ExecuteTime": {
     "end_time": "2021-07-10T03:32:45.618840Z",
     "start_time": "2021-07-10T03:32:45.614479Z"
    }
   },
   "outputs": [],
   "source": [
    "s = GrandSummary('~/reval_05/')"
   ]
  },
  {
   "cell_type": "code",
   "execution_count": null,
   "id": "12fdd2f4",
   "metadata": {
    "ExecuteTime": {
     "end_time": "2021-07-10T03:32:46.932021Z",
     "start_time": "2021-07-10T03:32:45.620033Z"
    },
    "scrolled": true
   },
   "outputs": [],
   "source": [
    "fig, axes = get_figure_axes()\n",
    "s.plot_ap_summaries(axes, order=DEFAULT_ORDER, legend=False, by_size=True)\n",
    "finish_plot(fig, axes)"
   ]
  },
  {
   "cell_type": "code",
   "execution_count": null,
   "id": "a3796528",
   "metadata": {
    "ExecuteTime": {
     "end_time": "2021-07-10T03:32:47.124953Z",
     "start_time": "2021-07-10T03:32:46.933507Z"
    }
   },
   "outputs": [],
   "source": [
    "fig.savefig('all_05_APsize_Q.pdf')"
   ]
  },
  {
   "cell_type": "markdown",
   "id": "df0ddd6c",
   "metadata": {},
   "source": [
    "# Looking at derivative"
   ]
  },
  {
   "cell_type": "code",
   "execution_count": null,
   "id": "0cc92a40",
   "metadata": {
    "ExecuteTime": {
     "end_time": "2021-07-10T03:32:48.369583Z",
     "start_time": "2021-07-10T03:32:47.126781Z"
    }
   },
   "outputs": [],
   "source": [
    "fig, axes = get_figure_axes(sharey=True)\n",
    "s.plot_ap_derivatives(axes, order=DEFAULT_ORDER)\n",
    "finish_plot(fig, axes)"
   ]
  },
  {
   "cell_type": "code",
   "execution_count": null,
   "id": "0017f94c",
   "metadata": {
    "ExecuteTime": {
     "end_time": "2021-07-10T03:34:08.751468Z",
     "start_time": "2021-07-10T03:34:08.601955Z"
    }
   },
   "outputs": [],
   "source": [
    "fig.savefig('all_05_APderiv_Q.pdf')"
   ]
  },
  {
   "cell_type": "markdown",
   "id": "742b0526",
   "metadata": {},
   "source": [
    "## Prior research"
   ]
  },
  {
   "cell_type": "code",
   "execution_count": null,
   "id": "33f3c722",
   "metadata": {
    "ExecuteTime": {
     "end_time": "2021-07-10T03:32:48.422339Z",
     "start_time": "2021-07-10T03:32:48.370680Z"
    }
   },
   "outputs": [],
   "source": [
    "df = next(s.ap_summaries())"
   ]
  },
  {
   "cell_type": "code",
   "execution_count": null,
   "id": "2d63da26",
   "metadata": {
    "ExecuteTime": {
     "end_time": "2021-07-10T03:32:48.945075Z",
     "start_time": "2021-07-10T03:32:48.423672Z"
    }
   },
   "outputs": [],
   "source": [
    "for df in s.ap_summaries():\n",
    "    df.AP.rolling(5).mean().diff().plot()"
   ]
  },
  {
   "cell_type": "code",
   "execution_count": null,
   "id": "92824394",
   "metadata": {
    "ExecuteTime": {
     "end_time": "2021-07-10T03:32:49.440997Z",
     "start_time": "2021-07-10T03:32:48.946585Z"
    }
   },
   "outputs": [],
   "source": [
    "for df in s.ap_summaries():\n",
    "    df.AP.diff().rolling(5).mean().plot()"
   ]
  },
  {
   "cell_type": "markdown",
   "id": "a9627590",
   "metadata": {},
   "source": [
    "Comutative?"
   ]
  },
  {
   "cell_type": "code",
   "execution_count": null,
   "id": "1ccb8abf",
   "metadata": {
    "ExecuteTime": {
     "end_time": "2021-07-10T03:32:49.956823Z",
     "start_time": "2021-07-10T03:32:49.442247Z"
    }
   },
   "outputs": [],
   "source": [
    "for df in s.ap_summaries():\n",
    "    df.APs.diff().rolling(5).mean().plot()"
   ]
  },
  {
   "cell_type": "code",
   "execution_count": null,
   "id": "19493df6",
   "metadata": {
    "ExecuteTime": {
     "end_time": "2021-07-10T03:32:50.490914Z",
     "start_time": "2021-07-10T03:32:49.957877Z"
    }
   },
   "outputs": [],
   "source": [
    "for df in s.ap_summaries():\n",
    "    df.APs.rolling(5).mean().diff().plot()"
   ]
  },
  {
   "cell_type": "code",
   "execution_count": null,
   "id": "6217415e",
   "metadata": {},
   "outputs": [],
   "source": []
  }
 ],
 "metadata": {
  "kernelspec": {
   "display_name": "Python 3",
   "language": "python",
   "name": "python3"
  },
  "language_info": {
   "codemirror_mode": {
    "name": "ipython",
    "version": 3
   },
   "file_extension": ".py",
   "mimetype": "text/x-python",
   "name": "python",
   "nbconvert_exporter": "python",
   "pygments_lexer": "ipython3",
   "version": "3.9.5"
  },
  "toc": {
   "base_numbering": 1,
   "nav_menu": {},
   "number_sections": true,
   "sideBar": true,
   "skip_h1_title": false,
   "title_cell": "Table of Contents",
   "title_sidebar": "Contents",
   "toc_cell": false,
   "toc_position": {},
   "toc_section_display": true,
   "toc_window_display": false
  }
 },
 "nbformat": 4,
 "nbformat_minor": 5
}
