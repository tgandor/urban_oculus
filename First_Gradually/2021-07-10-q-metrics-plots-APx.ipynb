{
 "cells": [
  {
   "cell_type": "code",
   "execution_count": 1,
   "id": "4dd84e98",
   "metadata": {
    "ExecuteTime": {
     "end_time": "2022-05-09T08:05:51.520359Z",
     "start_time": "2022-05-09T08:05:49.843187Z"
    }
   },
   "outputs": [],
   "source": [
    "import sys; sys.path.append(\"..\")\n",
    "from evaldets.results import *\n",
    "from evaldets.postprocess import *\n",
    "import matplotlib.pyplot as plt\n",
    "import numpy as np\n",
    "import pandas as pd\n",
    "from uo.utils import *"
   ]
  },
  {
   "cell_type": "markdown",
   "id": "b1391bb2",
   "metadata": {},
   "source": [
    "# Overall AP, mAP.5, mAP.75"
   ]
  },
  {
   "cell_type": "code",
   "execution_count": 2,
   "id": "3ffcf38e",
   "metadata": {
    "ExecuteTime": {
     "end_time": "2022-05-09T08:05:51.525172Z",
     "start_time": "2022-05-09T08:05:51.521837Z"
    }
   },
   "outputs": [],
   "source": [
    "s = GrandSummary('~/reval_50/')"
   ]
  },
  {
   "cell_type": "code",
   "execution_count": 3,
   "id": "26857f63",
   "metadata": {
    "ExecuteTime": {
     "end_time": "2022-05-09T08:05:53.708444Z",
     "start_time": "2022-05-09T08:05:51.526587Z"
    },
    "scrolled": true
   },
   "outputs": [
    {
     "name": "stdout",
     "output_type": "stream",
     "text": [
      "Saved 2021-07-10-q-metrics-plots-APx-1-all_50_AP_Q.png\n",
      "  and 2021-07-10-q-metrics-plots-APx-1-all_50_AP_Q.pdf\n"
     ]
    }
   ],
   "source": [
    "fig, axes = get_figure_axes()\n",
    "s.plot_ap_summaries(axes, order=DEFAULT_ORDER, legend=False)\n",
    "finish_plot(fig, axes)\n",
    "# fig.savefig('all_50_AP_Q.pdf')\n",
    "save_plot(fig, \"2021-07-10-q-metrics-plots-APx-1-all_50_AP_Q\")\n",
    "plt.close()"
   ]
  },
  {
   "cell_type": "code",
   "execution_count": 4,
   "id": "38748335",
   "metadata": {
    "ExecuteTime": {
     "end_time": "2022-05-09T08:05:53.714356Z",
     "start_time": "2022-05-09T08:05:53.710943Z"
    }
   },
   "outputs": [],
   "source": [
    "s = GrandSummary('~/reval_05/')"
   ]
  },
  {
   "cell_type": "code",
   "execution_count": 5,
   "id": "d1f96642",
   "metadata": {
    "ExecuteTime": {
     "end_time": "2022-05-09T08:05:55.720006Z",
     "start_time": "2022-05-09T08:05:53.716481Z"
    },
    "scrolled": true
   },
   "outputs": [
    {
     "name": "stdout",
     "output_type": "stream",
     "text": [
      "Saved 2021-07-10-q-metrics-plots-APx-2-all_05_AP_Q.png\n",
      "  and 2021-07-10-q-metrics-plots-APx-2-all_05_AP_Q.pdf\n"
     ]
    }
   ],
   "source": [
    "fig, axes = get_figure_axes()\n",
    "s.plot_ap_summaries(axes, order=DEFAULT_ORDER, legend=False)\n",
    "finish_plot(fig, axes)\n",
    "# fig.savefig('all_05_AP_Q.pdf')\n",
    "save_plot(fig, \"2021-07-10-q-metrics-plots-APx-2-all_05_AP_Q\")\n",
    "plt.close()"
   ]
  },
  {
   "cell_type": "markdown",
   "id": "a253e48f",
   "metadata": {},
   "source": [
    "# By size"
   ]
  },
  {
   "cell_type": "code",
   "execution_count": 6,
   "id": "0b51d753",
   "metadata": {
    "ExecuteTime": {
     "end_time": "2022-05-09T08:05:55.724648Z",
     "start_time": "2022-05-09T08:05:55.721645Z"
    }
   },
   "outputs": [],
   "source": [
    "s = GrandSummary('~/reval_50/')"
   ]
  },
  {
   "cell_type": "code",
   "execution_count": 7,
   "id": "06522f16",
   "metadata": {
    "ExecuteTime": {
     "end_time": "2022-05-09T08:05:57.751563Z",
     "start_time": "2022-05-09T08:05:55.725903Z"
    },
    "scrolled": true
   },
   "outputs": [
    {
     "name": "stdout",
     "output_type": "stream",
     "text": [
      "Saved 2021-07-10-q-metrics-plots-APx-3-all_50_APsize_Q.png\n",
      "  and 2021-07-10-q-metrics-plots-APx-3-all_50_APsize_Q.pdf\n"
     ]
    }
   ],
   "source": [
    "fig, axes = get_figure_axes()\n",
    "s.plot_ap_summaries(axes, order=DEFAULT_ORDER, legend=False, by_size=True)\n",
    "finish_plot(fig, axes)\n",
    "# fig.savefig('all_50_APsize_Q.pdf')\n",
    "save_plot(fig, \"2021-07-10-q-metrics-plots-APx-3-all_50_APsize_Q\")\n",
    "plt.close()"
   ]
  },
  {
   "cell_type": "code",
   "execution_count": 8,
   "id": "8cee6838",
   "metadata": {
    "ExecuteTime": {
     "end_time": "2022-05-09T08:05:57.756148Z",
     "start_time": "2022-05-09T08:05:57.752968Z"
    }
   },
   "outputs": [],
   "source": [
    "s = GrandSummary('~/reval_05/')"
   ]
  },
  {
   "cell_type": "code",
   "execution_count": 9,
   "id": "12fdd2f4",
   "metadata": {
    "ExecuteTime": {
     "end_time": "2022-05-09T08:05:59.686042Z",
     "start_time": "2022-05-09T08:05:57.757311Z"
    },
    "scrolled": true
   },
   "outputs": [
    {
     "name": "stdout",
     "output_type": "stream",
     "text": [
      "Saved 2021-07-10-q-metrics-plots-APx-4-all_05_APsize_Q.png\n",
      "  and 2021-07-10-q-metrics-plots-APx-4-all_05_APsize_Q.pdf\n"
     ]
    }
   ],
   "source": [
    "fig, axes = get_figure_axes()\n",
    "s.plot_ap_summaries(axes, order=DEFAULT_ORDER, legend=False, by_size=True)\n",
    "finish_plot(fig, axes)\n",
    "# fig.savefig('all_05_APsize_Q.pdf')\n",
    "save_plot(fig, \"2021-07-10-q-metrics-plots-APx-4-all_05_APsize_Q\")\n",
    "plt.close()"
   ]
  },
  {
   "cell_type": "markdown",
   "id": "df0ddd6c",
   "metadata": {},
   "source": [
    "# Looking at derivative"
   ]
  },
  {
   "cell_type": "code",
   "execution_count": 10,
   "id": "0cc92a40",
   "metadata": {
    "ExecuteTime": {
     "end_time": "2022-05-09T08:06:01.870789Z",
     "start_time": "2022-05-09T08:05:59.688661Z"
    }
   },
   "outputs": [
    {
     "name": "stdout",
     "output_type": "stream",
     "text": [
      "Saved 2021-07-10-q-metrics-plots-APx-5-all_05_APderiv_Q.png\n",
      "  and 2021-07-10-q-metrics-plots-APx-5-all_05_APderiv_Q.pdf\n"
     ]
    }
   ],
   "source": [
    "fig, axes = get_figure_axes(sharey=True)\n",
    "s.plot_ap_derivatives(axes, order=DEFAULT_ORDER)\n",
    "finish_plot(fig, axes)\n",
    "\n",
    "# fig.savefig('all_05_APderiv_Q.pdf')\n",
    "save_plot(fig, \"2021-07-10-q-metrics-plots-APx-5-all_05_APderiv_Q\")\n",
    "plt.close()"
   ]
  },
  {
   "cell_type": "markdown",
   "id": "742b0526",
   "metadata": {},
   "source": [
    "## Prior research"
   ]
  },
  {
   "cell_type": "code",
   "execution_count": 11,
   "id": "33f3c722",
   "metadata": {
    "ExecuteTime": {
     "end_time": "2022-05-09T08:06:01.901809Z",
     "start_time": "2022-05-09T08:06:01.872641Z"
    }
   },
   "outputs": [
    {
     "data": {
      "text/html": [
       "<div>\n",
       "<style scoped>\n",
       "    .dataframe tbody tr th:only-of-type {\n",
       "        vertical-align: middle;\n",
       "    }\n",
       "\n",
       "    .dataframe tbody tr th {\n",
       "        vertical-align: top;\n",
       "    }\n",
       "\n",
       "    .dataframe thead th {\n",
       "        text-align: right;\n",
       "    }\n",
       "</style>\n",
       "<table border=\"1\" class=\"dataframe\">\n",
       "  <thead>\n",
       "    <tr style=\"text-align: right;\">\n",
       "      <th></th>\n",
       "      <th>quality</th>\n",
       "      <th>model</th>\n",
       "      <th>AP</th>\n",
       "      <th>AP50</th>\n",
       "      <th>AP50</th>\n",
       "      <th>APl</th>\n",
       "      <th>APm</th>\n",
       "      <th>APs</th>\n",
       "    </tr>\n",
       "  </thead>\n",
       "  <tbody>\n",
       "    <tr>\n",
       "      <th>0</th>\n",
       "      <td>1</td>\n",
       "      <td>R101</td>\n",
       "      <td>0.008509</td>\n",
       "      <td>0.016411</td>\n",
       "      <td>0.016411</td>\n",
       "      <td>0.016919</td>\n",
       "      <td>0.007245</td>\n",
       "      <td>0.003372</td>\n",
       "    </tr>\n",
       "    <tr>\n",
       "      <th>1</th>\n",
       "      <td>2</td>\n",
       "      <td>R101</td>\n",
       "      <td>0.008581</td>\n",
       "      <td>0.016416</td>\n",
       "      <td>0.016416</td>\n",
       "      <td>0.016701</td>\n",
       "      <td>0.007348</td>\n",
       "      <td>0.002621</td>\n",
       "    </tr>\n",
       "    <tr>\n",
       "      <th>2</th>\n",
       "      <td>3</td>\n",
       "      <td>R101</td>\n",
       "      <td>0.011567</td>\n",
       "      <td>0.022145</td>\n",
       "      <td>0.022145</td>\n",
       "      <td>0.021996</td>\n",
       "      <td>0.010758</td>\n",
       "      <td>0.004076</td>\n",
       "    </tr>\n",
       "    <tr>\n",
       "      <th>3</th>\n",
       "      <td>4</td>\n",
       "      <td>R101</td>\n",
       "      <td>0.019647</td>\n",
       "      <td>0.035909</td>\n",
       "      <td>0.035909</td>\n",
       "      <td>0.035306</td>\n",
       "      <td>0.021253</td>\n",
       "      <td>0.005519</td>\n",
       "    </tr>\n",
       "    <tr>\n",
       "      <th>4</th>\n",
       "      <td>5</td>\n",
       "      <td>R101</td>\n",
       "      <td>0.032967</td>\n",
       "      <td>0.059652</td>\n",
       "      <td>0.059652</td>\n",
       "      <td>0.054290</td>\n",
       "      <td>0.038606</td>\n",
       "      <td>0.010592</td>\n",
       "    </tr>\n",
       "    <tr>\n",
       "      <th>...</th>\n",
       "      <td>...</td>\n",
       "      <td>...</td>\n",
       "      <td>...</td>\n",
       "      <td>...</td>\n",
       "      <td>...</td>\n",
       "      <td>...</td>\n",
       "      <td>...</td>\n",
       "      <td>...</td>\n",
       "    </tr>\n",
       "    <tr>\n",
       "      <th>95</th>\n",
       "      <td>96</td>\n",
       "      <td>R101</td>\n",
       "      <td>0.403802</td>\n",
       "      <td>0.602083</td>\n",
       "      <td>0.602083</td>\n",
       "      <td>0.521320</td>\n",
       "      <td>0.443331</td>\n",
       "      <td>0.238118</td>\n",
       "    </tr>\n",
       "    <tr>\n",
       "      <th>96</th>\n",
       "      <td>97</td>\n",
       "      <td>R101</td>\n",
       "      <td>0.403959</td>\n",
       "      <td>0.602052</td>\n",
       "      <td>0.602052</td>\n",
       "      <td>0.522867</td>\n",
       "      <td>0.443156</td>\n",
       "      <td>0.239425</td>\n",
       "    </tr>\n",
       "    <tr>\n",
       "      <th>97</th>\n",
       "      <td>98</td>\n",
       "      <td>R101</td>\n",
       "      <td>0.404208</td>\n",
       "      <td>0.602391</td>\n",
       "      <td>0.602391</td>\n",
       "      <td>0.521902</td>\n",
       "      <td>0.443909</td>\n",
       "      <td>0.240388</td>\n",
       "    </tr>\n",
       "    <tr>\n",
       "      <th>98</th>\n",
       "      <td>99</td>\n",
       "      <td>R101</td>\n",
       "      <td>0.403977</td>\n",
       "      <td>0.602375</td>\n",
       "      <td>0.602375</td>\n",
       "      <td>0.521364</td>\n",
       "      <td>0.443729</td>\n",
       "      <td>0.238193</td>\n",
       "    </tr>\n",
       "    <tr>\n",
       "      <th>99</th>\n",
       "      <td>100</td>\n",
       "      <td>R101</td>\n",
       "      <td>0.404208</td>\n",
       "      <td>0.602322</td>\n",
       "      <td>0.602322</td>\n",
       "      <td>0.521540</td>\n",
       "      <td>0.444214</td>\n",
       "      <td>0.238687</td>\n",
       "    </tr>\n",
       "  </tbody>\n",
       "</table>\n",
       "<p>100 rows × 8 columns</p>\n",
       "</div>"
      ],
      "text/plain": [
       "    quality model        AP      AP50      AP50       APl       APm       APs\n",
       "0         1  R101  0.008509  0.016411  0.016411  0.016919  0.007245  0.003372\n",
       "1         2  R101  0.008581  0.016416  0.016416  0.016701  0.007348  0.002621\n",
       "2         3  R101  0.011567  0.022145  0.022145  0.021996  0.010758  0.004076\n",
       "3         4  R101  0.019647  0.035909  0.035909  0.035306  0.021253  0.005519\n",
       "4         5  R101  0.032967  0.059652  0.059652  0.054290  0.038606  0.010592\n",
       "..      ...   ...       ...       ...       ...       ...       ...       ...\n",
       "95       96  R101  0.403802  0.602083  0.602083  0.521320  0.443331  0.238118\n",
       "96       97  R101  0.403959  0.602052  0.602052  0.522867  0.443156  0.239425\n",
       "97       98  R101  0.404208  0.602391  0.602391  0.521902  0.443909  0.240388\n",
       "98       99  R101  0.403977  0.602375  0.602375  0.521364  0.443729  0.238193\n",
       "99      100  R101  0.404208  0.602322  0.602322  0.521540  0.444214  0.238687\n",
       "\n",
       "[100 rows x 8 columns]"
      ]
     },
     "execution_count": 11,
     "metadata": {},
     "output_type": "execute_result"
    }
   ],
   "source": [
    "df = next(s.ap_summaries())\n",
    "df[['quality', 'model', 'AP', 'AP50', 'AP50', 'APl', 'APm', 'APs']]"
   ]
  },
  {
   "cell_type": "code",
   "execution_count": 12,
   "id": "2d63da26",
   "metadata": {
    "ExecuteTime": {
     "end_time": "2022-05-09T08:06:02.517089Z",
     "start_time": "2022-05-09T08:06:01.903186Z"
    }
   },
   "outputs": [
    {
     "name": "stdout",
     "output_type": "stream",
     "text": [
      "Saved 2021-07-10-q-metrics-plots-APx-6-AP_diff_smooth5.png\n",
      "  and 2021-07-10-q-metrics-plots-APx-6-AP_diff_smooth5.pdf\n"
     ]
    }
   ],
   "source": [
    "# for df in s.ap_summaries():\n",
    "#     df.AP.rolling(5).mean().diff().plot()\n",
    "for df in s.ap_summaries():\n",
    "    df.AP.diff().rolling(5).mean().plot()\n",
    "    \n",
    "plt.title('AP -> diff -> smooth 5')\n",
    "save_plot(plt.gcf(), \"2021-07-10-q-metrics-plots-APx-6-AP_diff_smooth5\")\n",
    "plt.close()"
   ]
  },
  {
   "cell_type": "markdown",
   "id": "a9627590",
   "metadata": {},
   "source": [
    "Comutative? Looks like yes."
   ]
  },
  {
   "cell_type": "code",
   "execution_count": 13,
   "id": "19493df6",
   "metadata": {
    "ExecuteTime": {
     "end_time": "2022-05-09T08:06:03.291867Z",
     "start_time": "2022-05-09T08:06:02.518878Z"
    }
   },
   "outputs": [
    {
     "name": "stdout",
     "output_type": "stream",
     "text": [
      "Saved 2021-07-10-q-metrics-plots-APx-7-APs_smooth5_diff.png\n",
      "  and 2021-07-10-q-metrics-plots-APx-7-APs_smooth5_diff.pdf\n"
     ]
    }
   ],
   "source": [
    "# for df in s.ap_summaries():\n",
    "#    df.APs.diff().rolling(5).mean().plot()\n",
    "for df in s.ap_summaries():\n",
    "    df.APs.rolling(5).mean().diff().plot()\n",
    "    \n",
    "plt.title('AP(small) -> smooth 5 -> diff')\n",
    "save_plot(plt.gcf(), \"2021-07-10-q-metrics-plots-APx-7-APs_smooth5_diff\")\n",
    "plt.close()"
   ]
  }
 ],
 "metadata": {
  "kernelspec": {
   "display_name": "Python 3 (ipykernel)",
   "language": "python",
   "name": "python3"
  },
  "language_info": {
   "codemirror_mode": {
    "name": "ipython",
    "version": 3
   },
   "file_extension": ".py",
   "mimetype": "text/x-python",
   "name": "python",
   "nbconvert_exporter": "python",
   "pygments_lexer": "ipython3",
   "version": "3.10.4"
  },
  "toc": {
   "base_numbering": 1,
   "nav_menu": {},
   "number_sections": true,
   "sideBar": true,
   "skip_h1_title": false,
   "title_cell": "Table of Contents",
   "title_sidebar": "Contents",
   "toc_cell": false,
   "toc_position": {},
   "toc_section_display": true,
   "toc_window_display": false
  }
 },
 "nbformat": 4,
 "nbformat_minor": 5
}
