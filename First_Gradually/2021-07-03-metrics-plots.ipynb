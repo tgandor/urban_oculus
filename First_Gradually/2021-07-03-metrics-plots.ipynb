{
 "cells": [
  {
   "cell_type": "code",
   "execution_count": null,
   "id": "4dd84e98",
   "metadata": {
    "ExecuteTime": {
     "end_time": "2022-04-27T23:51:28.929113Z",
     "start_time": "2022-04-27T23:51:27.376864Z"
    }
   },
   "outputs": [],
   "source": [
    "import sys; sys.path.append(\"..\")\n",
    "from evaldets.results import *\n",
    "from evaldets.postprocess import *\n",
    "from uo.utils import *"
   ]
  },
  {
   "cell_type": "code",
   "execution_count": null,
   "id": "e39d21a6",
   "metadata": {
    "ExecuteTime": {
     "end_time": "2022-04-27T23:51:28.934182Z",
     "start_time": "2022-04-27T23:51:28.930911Z"
    }
   },
   "outputs": [],
   "source": [
    "order = 'R101 R101_C4 R101_DC5 R101_FPN X101 R50 R50_C4 R50_DC5 R50_FPN'.split()\n",
    "s = Summary('~/reval_05/baseline_05')"
   ]
  },
  {
   "cell_type": "code",
   "execution_count": null,
   "id": "c46837ed",
   "metadata": {
    "ExecuteTime": {
     "end_time": "2022-04-27T23:51:29.758461Z",
     "start_time": "2022-04-27T23:51:28.935539Z"
    },
    "scrolled": false
   },
   "outputs": [],
   "source": [
    "fig, axes = get_figure_axes()\n",
    "s.plot_tc_summaries(axes, order=order, legend=False)\n",
    "fig.tight_layout()\n",
    "axes[1, 4].axis('off')\n",
    "axes[1, 4].legend(*axes[0, 0].get_legend_handles_labels(), loc='lower right', fontsize='x-large', borderpad=2);"
   ]
  },
  {
   "cell_type": "code",
   "execution_count": null,
   "id": "4d70411b",
   "metadata": {
    "ExecuteTime": {
     "end_time": "2022-04-27T23:51:31.831138Z",
     "start_time": "2022-04-27T23:51:29.760116Z"
    }
   },
   "outputs": [],
   "source": [
    "fig.savefig('baseline_PRF1_Tc.pdf')\n",
    "save_plot(fig, \"2021-07-03-metrics-plots-baseline_PRF1_Tc\")"
   ]
  }
 ],
 "metadata": {
  "kernelspec": {
   "display_name": "Python 3 (ipykernel)",
   "language": "python",
   "name": "python3"
  },
  "language_info": {
   "codemirror_mode": {
    "name": "ipython",
    "version": 3
   },
   "file_extension": ".py",
   "mimetype": "text/x-python",
   "name": "python",
   "nbconvert_exporter": "python",
   "pygments_lexer": "ipython3",
   "version": "3.10.4"
  },
  "toc": {
   "base_numbering": 1,
   "nav_menu": {},
   "number_sections": true,
   "sideBar": true,
   "skip_h1_title": false,
   "title_cell": "Table of Contents",
   "title_sidebar": "Contents",
   "toc_cell": false,
   "toc_position": {},
   "toc_section_display": true,
   "toc_window_display": false
  }
 },
 "nbformat": 4,
 "nbformat_minor": 5
}
