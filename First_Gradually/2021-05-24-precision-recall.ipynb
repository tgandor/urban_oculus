{
 "cells": [
  {
   "cell_type": "code",
   "execution_count": null,
   "metadata": {
    "ExecuteTime": {
     "end_time": "2022-04-27T23:12:07.501915Z",
     "start_time": "2022-04-27T23:12:04.035149Z"
    }
   },
   "outputs": [],
   "source": [
    "import sys; sys.path.append(\"..\")\n",
    "import pandas as pd\n",
    "import numpy as np\n",
    "from matplotlib import pyplot as plt\n",
    "from evaldets.metrics import resample_pr_curve\n",
    "from evaldets.results import *\n",
    "from evaldets.postprocess import save_plot\n",
    "# plt.rcParams['figure.figsize'] = (6, 6)"
   ]
  },
  {
   "cell_type": "code",
   "execution_count": null,
   "metadata": {
    "ExecuteTime": {
     "end_time": "2022-04-27T23:12:08.253350Z",
     "start_time": "2022-04-27T23:12:07.507135Z"
    }
   },
   "outputs": [],
   "source": [
    "dr = DetectionResults('~/reval_50/baseline_50/evaluator_dump_R50_101/', area_rng=None, iou_thresh=None, debug=0)"
   ]
  },
  {
   "cell_type": "code",
   "execution_count": null,
   "metadata": {
    "ExecuteTime": {
     "end_time": "2022-04-27T23:12:08.304059Z",
     "start_time": "2022-04-27T23:12:08.255318Z"
    }
   },
   "outputs": [],
   "source": [
    "nGT = dr.num_gt_class('person')\n",
    "dets = dr.detections_by_class('person')"
   ]
  },
  {
   "cell_type": "code",
   "execution_count": null,
   "metadata": {
    "ExecuteTime": {
     "end_time": "2022-04-27T23:12:08.342679Z",
     "start_time": "2022-04-27T23:12:08.306289Z"
    }
   },
   "outputs": [],
   "source": [
    "TP = dr._tp_sum('person', 0.5)\n",
    "FP = dr._fp_sum('person', 0.5)\n",
    "TPR = TP / nGT\n",
    "PPV = TP / (TP + FP)\n",
    "PPVi = interpolated_PPV(PPV)\n",
    "len(PPV)"
   ]
  },
  {
   "cell_type": "code",
   "execution_count": null,
   "metadata": {
    "ExecuteTime": {
     "end_time": "2022-04-27T23:12:08.347666Z",
     "start_time": "2022-04-27T23:12:08.344361Z"
    }
   },
   "outputs": [],
   "source": [
    "# see COCOeval.accumulate()\n",
    "\n",
    "recThrs, q = resample_pr_curve(TPR, PPVi, np.linspace(0.0, 1.00, 11, endpoint=True))"
   ]
  },
  {
   "cell_type": "markdown",
   "metadata": {},
   "source": [
    "### Precision vs monotonic precision"
   ]
  },
  {
   "cell_type": "code",
   "execution_count": null,
   "metadata": {
    "ExecuteTime": {
     "end_time": "2022-04-27T23:12:09.488332Z",
     "start_time": "2022-04-27T23:12:08.349881Z"
    }
   },
   "outputs": [],
   "source": [
    "from matplotlib.patches import Rectangle\n",
    "# plt.rcParams['figure.figsize'] = (14, 14)\n",
    "# fig = plt.figure()\n",
    "fig, axes = plt.subplots(1, 3, figsize=(9, 3))\n",
    "\n",
    "axes = iter(axes.ravel())\n",
    "ax2 = next(axes)\n",
    "ax2.plot(PPV, label=\"PPV(k)\");\n",
    "ax2.plot(PPVi, label=\"PPV'(k)\");\n",
    "ax2.set_title('A')\n",
    "ax2.set_ylabel(\"precision\")\n",
    "ax2.set_xlabel(\"k (confidence rank)\")\n",
    "# ax2.legend();\n",
    "ax2.add_patch(Rectangle((0, PPV[:1500].min()), 1500, 1-PPV[:1500].min(), fill=False))\n",
    "\n",
    "\n",
    "ax2 = next(axes)\n",
    "ax2.plot(PPV[:1500], label=\"PPV(k)\");\n",
    "ax2.plot(PPVi[:1500], label=\"PPV'(k)\");\n",
    "ax2.set_title('B')\n",
    "ax2.set_ylabel(\"precision\")\n",
    "ax2.set_xlabel(\"k (confidence rank)\")\n",
    "# ax2.legend();\n",
    "\n",
    "ax3 = next(axes)\n",
    "ax3.axis('off')\n",
    "ax3.legend(*ax2.get_legend_handles_labels(), loc='lower right', fontsize='x-large', borderpad=2)\n",
    "fig.tight_layout()\n",
    "fig.savefig(\"PPV_vs_PPVi.pdf\")\n",
    "save_plot(fig, \"2021-05-24-precision-recall-1-PPV_vs_PPVi\")"
   ]
  },
  {
   "cell_type": "markdown",
   "metadata": {},
   "source": [
    "### PR-curve and AveP / AP"
   ]
  },
  {
   "cell_type": "code",
   "execution_count": null,
   "metadata": {
    "ExecuteTime": {
     "end_time": "2022-04-27T23:12:11.025270Z",
     "start_time": "2022-04-27T23:12:09.490265Z"
    }
   },
   "outputs": [],
   "source": [
    "fig, axes = plt.subplots(1, 4, figsize=(12, 3))\n",
    "# fig.suptitle('Precision-recall curves')\n",
    "\n",
    "axes = iter(axes.ravel())\n",
    "\n",
    "ax2 = next(axes)\n",
    "ax2.plot(TPR, label=\"TPR(k)\");\n",
    "ax2.plot(PPVi, label=\"PPV'(k)\");\n",
    "ax2.set_title('A')\n",
    "ax2.set_ylabel(\"precision / recall\")\n",
    "ax2.set_xlabel(\"k (rank)\")\n",
    "ax2.legend();\n",
    "\n",
    "ax2 = next(axes)\n",
    "ax2.plot(TPR, PPVi, label=\"PPV'(TPR)\");\n",
    "ax2.set_title('B')\n",
    "ax2.set_ylabel(\"precision\")\n",
    "ax2.set_xlabel(\"recall\")\n",
    "ax2.legend()\n",
    "\n",
    "ax2 = next(axes)\n",
    "ax2.plot(TPR, PPVi, label=\"PPV'(TPR)\");\n",
    "ax2.set_title('C')\n",
    "ax2.set_ylabel(\"precision\")\n",
    "ax2.set_xlabel(\"recall\")\n",
    "ax2.set_xlim([0, 1])\n",
    "ax2.set_ylim([0, 1])\n",
    "ax2.fill_between(TPR, PPVi, hatch='//', alpha=0.3, label=\"AveP = AuC(PPV'(TPR))\")\n",
    "ax2.legend()\n",
    "\n",
    "ax2 = next(axes)\n",
    "ax2.scatter(recThrs, q, label=\"PPV\");\n",
    "ax2.axhline(np.mean(q), label=\"AveP = mean(PPV'(TPR_i))\")\n",
    "ax2.set_title('D')\n",
    "ax2.set_ylabel(\"precision\")\n",
    "ax2.set_xlabel(\"recall\")\n",
    "ax2.set_xlim([-0.01, 1.01])\n",
    "ax2.set_ylim([-0.01, 1.01])\n",
    "ax2.legend(loc='lower left')\n",
    "\n",
    "fig.tight_layout()\n",
    "fig.savefig(\"PR_AP_examples.pdf\")\n",
    "save_plot(fig, \"2021-05-24-precision-recall-2-PR_AP_examples\")"
   ]
  },
  {
   "cell_type": "code",
   "execution_count": null,
   "metadata": {
    "ExecuteTime": {
     "end_time": "2022-04-27T23:13:57.058077Z",
     "start_time": "2022-04-27T23:13:56.003205Z"
    }
   },
   "outputs": [],
   "source": [
    "plt.figure(figsize=(6, 6)) \n",
    "plt.step(recThrs, q);\n",
    "save_plot(fig, \"2021-05-24-precision-recall-3-AP_curve_sample\")"
   ]
  },
  {
   "cell_type": "code",
   "execution_count": null,
   "metadata": {},
   "outputs": [],
   "source": []
  }
 ],
 "metadata": {
  "kernelspec": {
   "display_name": "Python 3 (ipykernel)",
   "language": "python",
   "name": "python3"
  },
  "language_info": {
   "codemirror_mode": {
    "name": "ipython",
    "version": 3
   },
   "file_extension": ".py",
   "mimetype": "text/x-python",
   "name": "python",
   "nbconvert_exporter": "python",
   "pygments_lexer": "ipython3",
   "version": "3.10.4"
  },
  "toc": {
   "base_numbering": 1,
   "nav_menu": {},
   "number_sections": true,
   "sideBar": true,
   "skip_h1_title": false,
   "title_cell": "Table of Contents",
   "title_sidebar": "Contents",
   "toc_cell": false,
   "toc_position": {},
   "toc_section_display": true,
   "toc_window_display": false
  }
 },
 "nbformat": 4,
 "nbformat_minor": 4
}
