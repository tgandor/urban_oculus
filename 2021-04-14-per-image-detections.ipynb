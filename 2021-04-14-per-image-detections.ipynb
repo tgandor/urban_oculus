{
 "cells": [
  {
   "cell_type": "code",
   "execution_count": 1,
   "metadata": {
    "ExecuteTime": {
     "end_time": "2021-06-27T14:44:27.849181Z",
     "start_time": "2021-06-27T14:44:25.106448Z"
    }
   },
   "outputs": [
    {
     "data": {
      "text/plain": [
       "dict_keys(['file_name', 'height', 'width', 'image_id', 'annotations'])"
      ]
     },
     "execution_count": 1,
     "metadata": {},
     "output_type": "execute_result"
    }
   ],
   "source": [
    "from imports import *\n",
    "%matplotlib notebook\n",
    "meta = MetadataCatalog.get('coco_2017_val')\n",
    "dset = DatasetCatalog.get('coco_2017_val')\n",
    "dset[0].keys()"
   ]
  },
  {
   "cell_type": "code",
   "execution_count": 2,
   "metadata": {
    "ExecuteTime": {
     "end_time": "2021-06-27T14:44:27.854486Z",
     "start_time": "2021-06-27T14:44:27.850893Z"
    }
   },
   "outputs": [
    {
     "data": {
      "text/plain": [
       "'datasets/coco/val2017/000000000139.jpg'"
      ]
     },
     "execution_count": 2,
     "metadata": {},
     "output_type": "execute_result"
    }
   ],
   "source": [
    "dset[0]['file_name']"
   ]
  },
  {
   "cell_type": "code",
   "execution_count": 3,
   "metadata": {
    "ExecuteTime": {
     "end_time": "2021-06-27T14:44:28.557066Z",
     "start_time": "2021-06-27T14:44:28.546649Z"
    }
   },
   "outputs": [
    {
     "data": {
      "text/plain": [
       "list"
      ]
     },
     "execution_count": 3,
     "metadata": {},
     "output_type": "execute_result"
    }
   ],
   "source": [
    "type(dset)"
   ]
  },
  {
   "cell_type": "code",
   "execution_count": 4,
   "metadata": {
    "ExecuteTime": {
     "end_time": "2021-06-27T14:44:29.480357Z",
     "start_time": "2021-06-27T14:44:29.288866Z"
    }
   },
   "outputs": [],
   "source": [
    "# all_dets = load(os.path.expanduser('~/reval_05/R50/evaluator_dump_R50_050/coco_instances_results.json.gz'))\n",
    "all_dets = load(os.path.expanduser('~/reval_50/R50/evaluator_dump_R50_050/coco_instances_results.json.gz'))"
   ]
  },
  {
   "cell_type": "code",
   "execution_count": null,
   "metadata": {
    "ExecuteTime": {
     "end_time": "2021-06-27T14:44:33.825829Z",
     "start_time": "2021-06-27T14:44:33.535147Z"
    }
   },
   "outputs": [],
   "source": [
    "show_image_gt(dset[10], meta, mpl=False)"
   ]
  },
  {
   "cell_type": "code",
   "execution_count": 6,
   "metadata": {
    "ExecuteTime": {
     "end_time": "2021-06-27T14:44:52.336825Z",
     "start_time": "2021-06-27T14:44:52.326192Z"
    }
   },
   "outputs": [
    {
     "data": {
      "text/plain": [
       "{'image_id': 139,\n",
       " 'category_id': 72,\n",
       " 'bbox': [6.891622543334961,\n",
       "  165.7586212158203,\n",
       "  148.7123260498047,\n",
       "  98.07444763183594],\n",
       " 'score': 0.8445889949798584}"
      ]
     },
     "execution_count": 6,
     "metadata": {},
     "output_type": "execute_result"
    }
   ],
   "source": [
    "all_dets[0]"
   ]
  },
  {
   "cell_type": "code",
   "execution_count": null,
   "metadata": {
    "ExecuteTime": {
     "end_time": "2021-06-27T14:44:53.204486Z",
     "start_time": "2021-06-27T14:44:52.924959Z"
    }
   },
   "outputs": [],
   "source": [
    "# 2021-05-25\n",
    "\n",
    "import numpy as np\n",
    "from detectron2.structures import BitMasks, Boxes, BoxMode\n",
    "    \n",
    "def show_image_detections(d: dict, all_dets, meta: Metadata, mpl=False):\n",
    "    import cv2\n",
    "    img = cv2.imread(d[\"file_name\"])\n",
    "\n",
    "    visualizer = Visualizer(img[:, :, ::-1], metadata=meta, scale=1.0)\n",
    "    preds = [x for x in all_dets if x['image_id'] == d['image_id']]\n",
    "    # preds = preds[:1]\n",
    "    # print(preds)\n",
    "    # vis = visualizer.draw_instance_predictions(preds)\n",
    "    boxes = np.array([p['bbox'] for p in preds])\n",
    "    # boxes = [x['bbox'] for x in d['annotations']]\n",
    "    boxes = BoxMode.convert(boxes, BoxMode.XYWH_ABS, BoxMode.XYXY_ABS)\n",
    "    names = Names(meta)\n",
    "    labels = [names.get(a['category_id']) for a in preds]\n",
    "    \n",
    "    vis = visualizer.overlay_instances(boxes=boxes, labels=labels)\n",
    "    v_img = vis.get_image()\n",
    "\n",
    "    if mpl:\n",
    "        plt.imshow(v_img)\n",
    "    else:\n",
    "        cv2_imshow(v_img[:, :, ::-1])\n",
    "\n",
    "show_image_detections(dset[10], all_dets, meta, )"
   ]
  },
  {
   "cell_type": "code",
   "execution_count": 8,
   "metadata": {
    "ExecuteTime": {
     "end_time": "2021-06-27T14:45:13.763102Z",
     "start_time": "2021-06-27T14:45:13.752440Z"
    }
   },
   "outputs": [
    {
     "data": {
      "text/plain": [
       "1268"
      ]
     },
     "execution_count": 8,
     "metadata": {},
     "output_type": "execute_result"
    }
   ],
   "source": [
    "dset[10]['image_id']"
   ]
  },
  {
   "cell_type": "code",
   "execution_count": 9,
   "metadata": {
    "ExecuteTime": {
     "end_time": "2021-06-27T14:45:14.245103Z",
     "start_time": "2021-06-27T14:45:14.225764Z"
    }
   },
   "outputs": [
    {
     "data": {
      "text/plain": [
       "[(14, [192.81, 224.8, 74.73, 33.43], <BoxMode.XYWH_ABS: 1>),\n",
       " (8, [124.77, 124.71, 139.54, 17.07], <BoxMode.XYWH_ABS: 1>),\n",
       " (8, [0.0, 129.71, 105.44, 15.14], <BoxMode.XYWH_ABS: 1>),\n",
       " (0, [23.27, 213.41, 53.53, 69.47], <BoxMode.XYWH_ABS: 1>),\n",
       " (0, [501.68, 77.66, 138.32, 343.71], <BoxMode.XYWH_ABS: 1>),\n",
       " (0, [402.34, 205.02, 65.26, 88.45], <BoxMode.XYWH_ABS: 1>),\n",
       " (0, [0.0, 209.18, 24.95, 80.6], <BoxMode.XYWH_ABS: 1>),\n",
       " (67, [528.91, 180.52, 29.68, 18.75], <BoxMode.XYWH_ABS: 1>),\n",
       " (24, [21.81, 231.3, 22.55, 51.55], <BoxMode.XYWH_ABS: 1>),\n",
       " (26, [492.47, 197.95, 103.07, 227.35], <BoxMode.XYWH_ABS: 1>),\n",
       " (8, [291.52, 86.03, 121.67, 57.45], <BoxMode.XYWH_ABS: 1>)]"
      ]
     },
     "execution_count": 9,
     "metadata": {},
     "output_type": "execute_result"
    }
   ],
   "source": [
    "[(x['category_id'], x['bbox'], x['bbox_mode']) for x in dset[10]['annotations']]"
   ]
  },
  {
   "cell_type": "code",
   "execution_count": 10,
   "metadata": {
    "ExecuteTime": {
     "end_time": "2021-06-27T14:45:14.596918Z",
     "start_time": "2021-06-27T14:45:14.587647Z"
    }
   },
   "outputs": [
    {
     "data": {
      "text/plain": [
       "'sandwich'"
      ]
     },
     "execution_count": 10,
     "metadata": {},
     "output_type": "execute_result"
    }
   ],
   "source": [
    "meta.thing_classes[48]"
   ]
  },
  {
   "cell_type": "code",
   "execution_count": 11,
   "metadata": {
    "ExecuteTime": {
     "end_time": "2021-06-27T14:45:14.946922Z",
     "start_time": "2021-06-27T14:45:14.933765Z"
    }
   },
   "outputs": [
    {
     "data": {
      "text/plain": [
       "dict_keys(['iscrowd', 'bbox', 'category_id', 'segmentation', 'bbox_mode'])"
      ]
     },
     "execution_count": 11,
     "metadata": {},
     "output_type": "execute_result"
    }
   ],
   "source": [
    "dset[0]['annotations'][0].keys()"
   ]
  },
  {
   "cell_type": "code",
   "execution_count": 12,
   "metadata": {
    "ExecuteTime": {
     "end_time": "2021-06-27T14:45:15.469820Z",
     "start_time": "2021-06-27T14:45:15.384723Z"
    }
   },
   "outputs": [
    {
     "data": {
      "text/plain": [
       "[(63,\n",
       "  'datasets/coco/val2017/000000435081.jpg',\n",
       "  Counter({'sandwich': 9,\n",
       "           'fork': 4,\n",
       "           'knife': 3,\n",
       "           'spoon': 4,\n",
       "           'carrot': 3,\n",
       "           'donut': 5,\n",
       "           'cake': 13,\n",
       "           'bowl': 8,\n",
       "           'pizza': 1,\n",
       "           'chair': 1,\n",
       "           'dining table': 9,\n",
       "           'vase': 1,\n",
       "           'cup': 2})),\n",
       " (56,\n",
       "  'datasets/coco/val2017/000000470924.jpg',\n",
       "  Counter({'car': 5,\n",
       "           'chair': 13,\n",
       "           'dining table': 3,\n",
       "           'wine glass': 2,\n",
       "           'cup': 5,\n",
       "           'fork': 2,\n",
       "           'knife': 4,\n",
       "           'pizza': 8,\n",
       "           'person': 14})),\n",
       " (56,\n",
       "  'datasets/coco/val2017/000000303566.jpg',\n",
       "  Counter({'car': 8,\n",
       "           'backpack': 1,\n",
       "           'handbag': 5,\n",
       "           'person': 14,\n",
       "           'apple': 14,\n",
       "           'orange': 14}))]"
      ]
     },
     "execution_count": 12,
     "metadata": {},
     "output_type": "execute_result"
    }
   ],
   "source": [
    "sorted([\n",
    "    (\n",
    "        len(d['annotations']), \n",
    "        d['file_name'], \n",
    "        Counter(meta.thing_classes[a['category_id']] for a in d['annotations'])\n",
    "    )\n",
    "    for d in dset\n",
    "], reverse=True)[:3]"
   ]
  },
  {
   "cell_type": "code",
   "execution_count": null,
   "metadata": {},
   "outputs": [],
   "source": []
  },
  {
   "cell_type": "code",
   "execution_count": null,
   "metadata": {},
   "outputs": [],
   "source": []
  }
 ],
 "metadata": {
  "kernelspec": {
   "display_name": "Python 3",
   "language": "python",
   "name": "python3"
  },
  "language_info": {
   "codemirror_mode": {
    "name": "ipython",
    "version": 3
   },
   "file_extension": ".py",
   "mimetype": "text/x-python",
   "name": "python",
   "nbconvert_exporter": "python",
   "pygments_lexer": "ipython3",
   "version": "3.9.6"
  },
  "toc": {
   "base_numbering": 1,
   "nav_menu": {},
   "number_sections": true,
   "sideBar": true,
   "skip_h1_title": false,
   "title_cell": "Table of Contents",
   "title_sidebar": "Contents",
   "toc_cell": false,
   "toc_position": {},
   "toc_section_display": true,
   "toc_window_display": false
  }
 },
 "nbformat": 4,
 "nbformat_minor": 4
}
