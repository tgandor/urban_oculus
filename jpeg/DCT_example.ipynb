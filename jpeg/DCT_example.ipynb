{
 "cells": [
  {
   "cell_type": "markdown",
   "metadata": {},
   "source": [
    "# Discrete Cosine Transform in 2D\n",
    "\n",
    "Here are some interesting URLs:\n",
    "\n",
    "* https://www.robertstocker.co.uk/jpeg/jpeg_new_9.htm\n",
    "* https://cs.stanford.edu/people/eroberts/courses/soco/projects/data-compression/lossy/jpeg/dct.htm"
   ]
  },
  {
   "cell_type": "code",
   "execution_count": 1,
   "metadata": {
    "ExecuteTime": {
     "end_time": "2020-02-07T11:47:59.708389Z",
     "start_time": "2020-02-07T11:47:59.692758Z"
    }
   },
   "outputs": [],
   "source": [
    "import numpy as np\n",
    "from scipy.fftpack import dctn"
   ]
  },
  {
   "cell_type": "code",
   "execution_count": 4,
   "metadata": {
    "ExecuteTime": {
     "end_time": "2020-02-07T11:51:11.620751Z",
     "start_time": "2020-02-07T11:51:11.589476Z"
    }
   },
   "outputs": [
    {
     "data": {
      "text/plain": [
       "array([[140, 144, 147, 140, 140, 155, 179, 175],\n",
       "       [144, 152, 140, 147, 140, 148, 167, 179],\n",
       "       [152, 155, 136, 167, 163, 162, 152, 172],\n",
       "       [168, 145, 156, 160, 152, 155, 136, 160],\n",
       "       [162, 148, 156, 148, 140, 136, 147, 162],\n",
       "       [147, 167, 140, 155, 155, 140, 136, 162],\n",
       "       [136, 156, 123, 167, 162, 144, 140, 147],\n",
       "       [148, 155, 136, 155, 152, 147, 147, 136]])"
      ]
     },
     "execution_count": 4,
     "metadata": {},
     "output_type": "execute_result"
    }
   ],
   "source": [
    "example = np.array([\n",
    "    [int(x) for x in line.split()]\n",
    "for line in \"\"\"140\t144\t147\t140\t140\t155\t179\t175\n",
    "144\t152\t140\t147\t140\t148\t167\t179\n",
    "152\t155\t136\t167\t163\t162\t152\t172\n",
    "168\t145\t156\t160\t152\t155\t136\t160\n",
    "162\t148\t156\t148\t140\t136\t147\t162\n",
    "147\t167\t140\t155\t155\t140\t136\t162\n",
    "136\t156\t123\t167\t162\t144\t140\t147\n",
    "148\t155\t136\t155\t152\t147\t147\t136\"\"\".split('\\n')\n",
    "])\n",
    "example"
   ]
  },
  {
   "cell_type": "code",
   "execution_count": 7,
   "metadata": {
    "ExecuteTime": {
     "end_time": "2020-02-07T11:53:11.882276Z",
     "start_time": "2020-02-07T11:53:11.866623Z"
    }
   },
   "outputs": [
    {
     "data": {
      "text/plain": [
       "array([[1210,  -18,   15,   -9,   23,   -9,  -14,  -19],\n",
       "       [  21,  -34,   26,   -9,  -11,   11,   14,    7],\n",
       "       [ -10,  -24,   -2,    6,  -18,    3,  -20,   -1],\n",
       "       [  -8,   -5,   14,  -15,   -8,   -3,   -3,    8],\n",
       "       [  -3,   10,    8,    1,  -11,   18,   18,   15],\n",
       "       [   4,   -2,  -18,    8,    8,   -4,    1,   -7],\n",
       "       [   9,    1,   -3,    4,   -1,   -7,   -1,   -2],\n",
       "       [   0,   -8,   -2,    2,    1,    4,   -6,    0]])"
      ]
     },
     "execution_count": 7,
     "metadata": {},
     "output_type": "execute_result"
    }
   ],
   "source": [
    "dctn(example, norm='ortho').round().astype(int)"
   ]
  },
  {
   "cell_type": "markdown",
   "metadata": {},
   "source": [
    "Too big values, we need to 'center' the input:"
   ]
  },
  {
   "cell_type": "code",
   "execution_count": 11,
   "metadata": {
    "ExecuteTime": {
     "end_time": "2020-02-07T11:55:34.172143Z",
     "start_time": "2020-02-07T11:55:34.134360Z"
    }
   },
   "outputs": [
    {
     "data": {
      "text/plain": [
       "array([[194, -18,  15,  -9,  23,  -9, -14, -19],\n",
       "       [ 21, -34,  26,  -9, -11,  11,  14,   7],\n",
       "       [-10, -24,  -2,   6, -18,   3, -20,  -1],\n",
       "       [ -8,  -5,  14, -15,  -8,  -3,  -3,   8],\n",
       "       [ -3,  10,   8,   1, -11,  18,  18,  15],\n",
       "       [  4,  -2, -18,   8,   8,  -4,   1,  -7],\n",
       "       [  9,   1,  -3,   4,  -1,  -7,  -1,  -2],\n",
       "       [  0,  -8,  -2,   2,   1,   4,  -6,   0]])"
      ]
     },
     "execution_count": 11,
     "metadata": {},
     "output_type": "execute_result"
    }
   ],
   "source": [
    "dctn(example - 127, norm='ortho').round().astype(int)"
   ]
  },
  {
   "cell_type": "markdown",
   "metadata": {},
   "source": [
    "Almost there, we need to add slightly more 'centering'"
   ]
  },
  {
   "cell_type": "code",
   "execution_count": 12,
   "metadata": {
    "ExecuteTime": {
     "end_time": "2020-02-07T13:12:32.191213Z",
     "start_time": "2020-02-07T13:12:32.155875Z"
    }
   },
   "outputs": [
    {
     "data": {
      "text/plain": [
       "array([[186, -18,  15,  -9,  23,  -9, -14, -19],\n",
       "       [ 21, -34,  26,  -9, -11,  11,  14,   7],\n",
       "       [-10, -24,  -2,   6, -18,   3, -20,  -1],\n",
       "       [ -8,  -5,  14, -15,  -8,  -3,  -3,   8],\n",
       "       [ -3,  10,   8,   1, -11,  18,  18,  15],\n",
       "       [  4,  -2, -18,   8,   8,  -4,   1,  -7],\n",
       "       [  9,   1,  -3,   4,  -1,  -7,  -1,  -2],\n",
       "       [  0,  -8,  -2,   2,   1,   4,  -6,   0]])"
      ]
     },
     "execution_count": 12,
     "metadata": {},
     "output_type": "execute_result"
    }
   ],
   "source": [
    "F = dctn(example - 128, norm='ortho').round().astype(int)\n",
    "F"
   ]
  },
  {
   "cell_type": "code",
   "execution_count": 15,
   "metadata": {
    "ExecuteTime": {
     "end_time": "2020-02-07T13:14:03.741158Z",
     "start_time": "2020-02-07T13:14:03.710783Z"
    }
   },
   "outputs": [
    {
     "data": {
      "text/plain": [
       "array([[140, 144, 147, 141, 140, 155, 179, 175],\n",
       "       [144, 152, 140, 147, 140, 148, 167, 179],\n",
       "       [152, 155, 136, 167, 163, 162, 152, 172],\n",
       "       [168, 145, 156, 160, 152, 154, 136, 160],\n",
       "       [162, 148, 156, 148, 140, 136, 147, 162],\n",
       "       [147, 167, 140, 155, 155, 140, 136, 162],\n",
       "       [136, 156, 123, 166, 162, 144, 140, 148],\n",
       "       [148, 155, 136, 155, 152, 147, 147, 136]])"
      ]
     },
     "execution_count": 15,
     "metadata": {},
     "output_type": "execute_result"
    }
   ],
   "source": [
    "round_trip = dctn(F, type=3, norm='ortho').round().astype(int) + 128\n",
    "round_trip"
   ]
  },
  {
   "cell_type": "code",
   "execution_count": 16,
   "metadata": {
    "ExecuteTime": {
     "end_time": "2020-02-07T13:14:13.610984Z",
     "start_time": "2020-02-07T13:14:13.580929Z"
    }
   },
   "outputs": [
    {
     "data": {
      "text/plain": [
       "array([[ 0,  0,  0, -1,  0,  0,  0,  0],\n",
       "       [ 0,  0,  0,  0,  0,  0,  0,  0],\n",
       "       [ 0,  0,  0,  0,  0,  0,  0,  0],\n",
       "       [ 0,  0,  0,  0,  0,  1,  0,  0],\n",
       "       [ 0,  0,  0,  0,  0,  0,  0,  0],\n",
       "       [ 0,  0,  0,  0,  0,  0,  0,  0],\n",
       "       [ 0,  0,  0,  1,  0,  0,  0, -1],\n",
       "       [ 0,  0,  0,  0,  0,  0,  0,  0]])"
      ]
     },
     "execution_count": 16,
     "metadata": {},
     "output_type": "execute_result"
    }
   ],
   "source": [
    "example - round_trip"
   ]
  },
  {
   "cell_type": "markdown",
   "metadata": {},
   "source": [
    "Rounding artifacts... How about no rounding in-between?"
   ]
  },
  {
   "cell_type": "code",
   "execution_count": 18,
   "metadata": {
    "ExecuteTime": {
     "end_time": "2020-02-07T13:20:10.811307Z",
     "start_time": "2020-02-07T13:20:10.780926Z"
    }
   },
   "outputs": [
    {
     "data": {
      "text/plain": [
       "array([[140, 144, 147, 140, 140, 155, 179, 175],\n",
       "       [144, 152, 140, 147, 140, 148, 167, 179],\n",
       "       [152, 155, 136, 167, 163, 162, 152, 172],\n",
       "       [168, 145, 156, 160, 152, 155, 136, 160],\n",
       "       [162, 148, 156, 148, 140, 136, 147, 162],\n",
       "       [147, 167, 140, 155, 155, 140, 136, 162],\n",
       "       [136, 156, 123, 167, 162, 144, 140, 147],\n",
       "       [148, 155, 136, 155, 152, 147, 147, 136]])"
      ]
     },
     "execution_count": 18,
     "metadata": {},
     "output_type": "execute_result"
    }
   ],
   "source": [
    "round_trip_float = dctn(dctn(example - 128, norm='ortho'), type=3, norm='ortho').round().astype(int) + 128\n",
    "round_trip_float"
   ]
  },
  {
   "cell_type": "code",
   "execution_count": 19,
   "metadata": {
    "ExecuteTime": {
     "end_time": "2020-02-07T13:20:24.555991Z",
     "start_time": "2020-02-07T13:20:24.536283Z"
    }
   },
   "outputs": [
    {
     "data": {
      "text/plain": [
       "array([[0, 0, 0, 0, 0, 0, 0, 0],\n",
       "       [0, 0, 0, 0, 0, 0, 0, 0],\n",
       "       [0, 0, 0, 0, 0, 0, 0, 0],\n",
       "       [0, 0, 0, 0, 0, 0, 0, 0],\n",
       "       [0, 0, 0, 0, 0, 0, 0, 0],\n",
       "       [0, 0, 0, 0, 0, 0, 0, 0],\n",
       "       [0, 0, 0, 0, 0, 0, 0, 0],\n",
       "       [0, 0, 0, 0, 0, 0, 0, 0]])"
      ]
     },
     "execution_count": 19,
     "metadata": {},
     "output_type": "execute_result"
    }
   ],
   "source": [
    "example - round_trip_float"
   ]
  },
  {
   "cell_type": "markdown",
   "metadata": {},
   "source": [
    "# Moral\n",
    "\n",
    "- The example uses \"ortho\" or $\\frac{1}{\\sqrt{2}}$ normalization of first row and column\n",
    "- The values are shifted from 0..255 to -128..127 for FDCT\n",
    "- Mr Roberts missed a minus in the last cell of first row of DCT output (should be: -19)\n",
    "- Rounding the coefficients to `int` effectively is a quantization, with a table of `np.ones((8, 8))`\n",
    "\n",
    "Still not sure about:\n",
    "\n",
    "- Is this \"ortho\" used in real JPEG, or the example was prepared using Matlab, which uses it by default?\n",
    "- (well the JPEG standard has $C(u)$ and $C(v)$, so probably it is)"
   ]
  },
  {
   "cell_type": "code",
   "execution_count": null,
   "metadata": {},
   "outputs": [],
   "source": []
  }
 ],
 "metadata": {
  "kernelspec": {
   "display_name": "Python 3",
   "language": "python",
   "name": "python3"
  },
  "language_info": {
   "codemirror_mode": {
    "name": "ipython",
    "version": 3
   },
   "file_extension": ".py",
   "mimetype": "text/x-python",
   "name": "python",
   "nbconvert_exporter": "python",
   "pygments_lexer": "ipython3",
   "version": "3.7.1"
  }
 },
 "nbformat": 4,
 "nbformat_minor": 2
}
