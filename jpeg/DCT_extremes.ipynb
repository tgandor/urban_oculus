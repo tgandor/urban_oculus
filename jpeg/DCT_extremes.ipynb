{
 "cells": [
  {
   "cell_type": "code",
   "execution_count": 3,
   "metadata": {
    "ExecuteTime": {
     "end_time": "2021-01-28T19:20:19.122843Z",
     "start_time": "2021-01-28T19:20:18.962382Z"
    }
   },
   "outputs": [],
   "source": [
    "import numpy as np\n",
    "from scipy.fftpack import dctn"
   ]
  },
  {
   "cell_type": "code",
   "execution_count": 4,
   "metadata": {
    "ExecuteTime": {
     "end_time": "2021-01-28T19:20:19.516726Z",
     "start_time": "2021-01-28T19:20:19.513737Z"
    }
   },
   "outputs": [],
   "source": [
    "example = np.zeros((8, 8))"
   ]
  },
  {
   "cell_type": "code",
   "execution_count": 10,
   "metadata": {
    "ExecuteTime": {
     "end_time": "2021-01-28T19:23:16.431300Z",
     "start_time": "2021-01-28T19:23:16.421915Z"
    }
   },
   "outputs": [
    {
     "data": {
      "text/plain": [
       "array([[-1024.,     0.,     0.,     0.,     0.,     0.,     0.,     0.],\n",
       "       [    0.,     0.,     0.,     0.,     0.,     0.,     0.,     0.],\n",
       "       [    0.,     0.,     0.,     0.,     0.,     0.,     0.,     0.],\n",
       "       [    0.,     0.,     0.,     0.,     0.,     0.,     0.,     0.],\n",
       "       [    0.,     0.,     0.,     0.,     0.,     0.,     0.,     0.],\n",
       "       [    0.,     0.,     0.,     0.,     0.,     0.,     0.,     0.],\n",
       "       [    0.,     0.,     0.,     0.,     0.,     0.,     0.,     0.],\n",
       "       [    0.,     0.,     0.,     0.,     0.,     0.,     0.,     0.]])"
      ]
     },
     "execution_count": 10,
     "metadata": {},
     "output_type": "execute_result"
    }
   ],
   "source": [
    "dctn(example - 128, norm='ortho').round()"
   ]
  },
  {
   "cell_type": "code",
   "execution_count": 12,
   "metadata": {
    "ExecuteTime": {
     "end_time": "2021-01-28T19:23:25.366956Z",
     "start_time": "2021-01-28T19:23:25.354498Z"
    }
   },
   "outputs": [
    {
     "data": {
      "text/plain": [
       "array([[1016.,    0.,    0.,    0.,    0.,    0.,    0.,    0.],\n",
       "       [   0.,    0.,    0.,    0.,    0.,    0.,    0.,    0.],\n",
       "       [   0.,    0.,    0.,    0.,    0.,    0.,    0.,    0.],\n",
       "       [   0.,    0.,    0.,    0.,    0.,    0.,    0.,    0.],\n",
       "       [   0.,    0.,    0.,    0.,    0.,    0.,    0.,    0.],\n",
       "       [   0.,    0.,    0.,    0.,    0.,    0.,    0.,    0.],\n",
       "       [   0.,    0.,    0.,    0.,    0.,    0.,    0.,    0.],\n",
       "       [   0.,    0.,    0.,    0.,    0.,    0.,    0.,    0.]])"
      ]
     },
     "execution_count": 12,
     "metadata": {},
     "output_type": "execute_result"
    }
   ],
   "source": [
    "dctn(example + 127, norm='ortho')"
   ]
  },
  {
   "cell_type": "code",
   "execution_count": 13,
   "metadata": {
    "ExecuteTime": {
     "end_time": "2021-01-28T19:24:41.573558Z",
     "start_time": "2021-01-28T19:24:41.560132Z"
    }
   },
   "outputs": [
    {
     "data": {
      "text/plain": [
       "array([[255., 255., 255., 255., 255., 255., 255., 255.],\n",
       "       [  0.,   0.,   0.,   0.,   0.,   0.,   0.,   0.],\n",
       "       [255., 255., 255., 255., 255., 255., 255., 255.],\n",
       "       [  0.,   0.,   0.,   0.,   0.,   0.,   0.,   0.],\n",
       "       [255., 255., 255., 255., 255., 255., 255., 255.],\n",
       "       [  0.,   0.,   0.,   0.,   0.,   0.,   0.,   0.],\n",
       "       [255., 255., 255., 255., 255., 255., 255., 255.],\n",
       "       [  0.,   0.,   0.,   0.,   0.,   0.,   0.,   0.]])"
      ]
     },
     "execution_count": 13,
     "metadata": {},
     "output_type": "execute_result"
    }
   ],
   "source": [
    "example[::2] = 255\n",
    "example"
   ]
  },
  {
   "cell_type": "code",
   "execution_count": 15,
   "metadata": {
    "ExecuteTime": {
     "end_time": "2021-01-28T19:25:14.950191Z",
     "start_time": "2021-01-28T19:25:14.936883Z"
    }
   },
   "outputs": [
    {
     "data": {
      "text/plain": [
       "array([[ -4.,   0.,   0.,   0.,   0.,   0.,   0.,   0.],\n",
       "       [184.,   0.,   0.,   0.,   0.,   0.,   0.,   0.],\n",
       "       [  0.,   0.,   0.,   0.,   0.,   0.,   0.,   0.],\n",
       "       [217.,   0.,   0.,   0.,   0.,   0.,   0.,   0.],\n",
       "       [  0.,   0.,   0.,   0.,   0.,   0.,   0.,   0.],\n",
       "       [325.,   0.,   0.,   0.,   0.,   0.,   0.,   0.],\n",
       "       [  0.,   0.,   0.,   0.,   0.,   0.,   0.,   0.],\n",
       "       [924.,   0.,   0.,   0.,   0.,   0.,   0.,   0.]])"
      ]
     },
     "execution_count": 15,
     "metadata": {},
     "output_type": "execute_result"
    }
   ],
   "source": [
    "dctn(example - 128, norm='ortho').round()"
   ]
  },
  {
   "cell_type": "code",
   "execution_count": 16,
   "metadata": {
    "ExecuteTime": {
     "end_time": "2021-01-28T19:26:44.108490Z",
     "start_time": "2021-01-28T19:26:44.095089Z"
    }
   },
   "outputs": [
    {
     "data": {
      "text/plain": [
       "array([[255., 255., 255., 255., 255., 255., 255., 255.],\n",
       "       [255., 255., 255., 255., 255., 255., 255., 255.],\n",
       "       [255., 255., 255., 255., 255., 255., 255., 255.],\n",
       "       [255., 255., 255., 255., 255., 255., 255., 255.],\n",
       "       [  0.,   0.,   0.,   0.,   0.,   0.,   0.,   0.],\n",
       "       [  0.,   0.,   0.,   0.,   0.,   0.,   0.,   0.],\n",
       "       [  0.,   0.,   0.,   0.,   0.,   0.,   0.,   0.],\n",
       "       [  0.,   0.,   0.,   0.,   0.,   0.,   0.,   0.]])"
      ]
     },
     "execution_count": 16,
     "metadata": {},
     "output_type": "execute_result"
    }
   ],
   "source": [
    "example = np.zeros((8, 8))\n",
    "example[:4] = 255\n",
    "example"
   ]
  },
  {
   "cell_type": "code",
   "execution_count": 17,
   "metadata": {
    "ExecuteTime": {
     "end_time": "2021-01-28T19:26:59.351921Z",
     "start_time": "2021-01-28T19:26:59.336779Z"
    }
   },
   "outputs": [
    {
     "data": {
      "text/plain": [
       "array([[  -4.,    0.,    0.,    0.,    0.,    0.,    0.,    0.],\n",
       "       [ 924.,    0.,    0.,    0.,    0.,    0.,    0.,    0.],\n",
       "       [   0.,    0.,    0.,    0.,    0.,    0.,    0.,    0.],\n",
       "       [-325.,    0.,    0.,    0.,    0.,    0.,    0.,    0.],\n",
       "       [   0.,    0.,    0.,    0.,    0.,    0.,    0.,    0.],\n",
       "       [ 217.,    0.,    0.,    0.,    0.,    0.,    0.,    0.],\n",
       "       [   0.,    0.,    0.,    0.,    0.,    0.,    0.,    0.],\n",
       "       [-184.,    0.,    0.,    0.,    0.,    0.,    0.,    0.]])"
      ]
     },
     "execution_count": 17,
     "metadata": {},
     "output_type": "execute_result"
    }
   ],
   "source": [
    "dctn(example - 128, norm='ortho').round()"
   ]
  },
  {
   "cell_type": "code",
   "execution_count": null,
   "metadata": {},
   "outputs": [],
   "source": []
  }
 ],
 "metadata": {
  "kernelspec": {
   "display_name": "Python 3",
   "language": "python",
   "name": "python3"
  },
  "language_info": {
   "codemirror_mode": {
    "name": "ipython",
    "version": 3
   },
   "file_extension": ".py",
   "mimetype": "text/x-python",
   "name": "python",
   "nbconvert_exporter": "python",
   "pygments_lexer": "ipython3",
   "version": "3.7.6"
  },
  "toc": {
   "base_numbering": 1,
   "nav_menu": {},
   "number_sections": true,
   "sideBar": true,
   "skip_h1_title": false,
   "title_cell": "Table of Contents",
   "title_sidebar": "Contents",
   "toc_cell": false,
   "toc_position": {},
   "toc_section_display": true,
   "toc_window_display": false
  }
 },
 "nbformat": 4,
 "nbformat_minor": 2
}
