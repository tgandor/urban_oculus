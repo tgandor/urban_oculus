{
 "cells": [
  {
   "cell_type": "code",
   "execution_count": 57,
   "metadata": {
    "ExecuteTime": {
     "end_time": "2021-01-31T19:25:20.256955Z",
     "start_time": "2021-01-31T19:25:18.800495Z"
    }
   },
   "outputs": [
    {
     "data": {
      "text/plain": [
       "[<Document 'b752589be29b9375958a93aefe000e1f'@'1-e5a5b0f0af5f9b7be7489f27ddaa8c45' {'type': 'JpgImg', 'name': '000000366884.jpg', 'quantization': ['0302020302020303030304030304050805050404050a070706080c0a0c0c0b0a0b0b0d0e12100d0e110e0b0b1016101113141515150c0f171816141812141514', '03040405040509050509140d0b0d1414141414141414141414141414141414141414141414141414141414141414141414141414141414141414141414141414'], 'quality': 90, 'dataset': 'val2017'}>,\n",
       " <Document 'b752589be29b9375958a93aefe00196e'@'1-8527ac39ef9fc24efb51c6cb44681735' {'type': 'JpgImg', 'name': '000000367082.jpg', 'quantization': ['01010101010101010101010101020203020202020204030302030504050505040404050607060505070604040609060708080808080506090a09080a07080808', '01010102020204020204080504050808080808080808080808080808080808080808080808080808080808080808080808080808080808080808080808080808'], 'quality': 96, 'dataset': 'val2017'}>,\n",
       " <Document 'b752589be29b9375958a93aefe001a18'@'1-9c297e686af30e2d7fbc05f3bf261053' {'type': 'JpgImg', 'name': '000000367095.jpg', 'quantization': ['01010101010101010101010101020203020202020204030302030504050505040404050607060505070604040609060708080808080506090a09080a07080808', '01010102020204020204080504050808080808080808080808080808080808080808080808080808080808080808080808080808080808080808080808080808'], 'quality': 96, 'dataset': 'val2017'}>,\n",
       " <Document 'b752589be29b9375958a93aefe002399'@'1-7d23e4da5b8e89adfc49707e41c22bcc' {'type': 'JpgImg', 'name': '000000367195.jpg', 'quantization': ['01010101010101010101010101020203020202020204030302030504050505040404050607060505070604040609060708080808080506090a09080a07080808', '01010102020204020204080504050808080808080808080808080808080808080808080808080808080808080808080808080808080808080808080808080808'], 'quality': 96, 'dataset': 'val2017'}>]"
      ]
     },
     "execution_count": 57,
     "metadata": {},
     "output_type": "execute_result"
    }
   ],
   "source": [
    "from couch import *\n",
    "all_docs('JpgImg')[:4]\n"
   ]
  },
  {
   "cell_type": "code",
   "execution_count": 3,
   "metadata": {
    "ExecuteTime": {
     "end_time": "2021-01-30T22:34:54.314358Z",
     "start_time": "2021-01-30T22:34:53.221771Z"
    }
   },
   "outputs": [
    {
     "data": {
      "text/plain": [
       "[<Document '40331ef1e1a7d75c9c3793602b0028a7'@'1-40d7443873a92f92fa52dc8543d46468' {'type': 'JpgMod', 'name': '001_000000000139.jpg', 'quantization': ['ffffffffffffffffffffffffffffffffffffffffffffffffffffffffffffffffffffffffffffffffffffffffffffffffffffffffffffffffffffffffffffffff', 'ffffffffffffffffffffffffffffffffffffffffffffffffffffffffffffffffffffffffffffffffffffffffffffffffffffffffffffffffffffffffffffffff'], 'quality': 1, 'dataset': 'fake'}>,\n",
       " <Document '40331ef1e1a7d75c9c3793602b00348c'@'1-0bf80c708704a40ddb0b4921748a6c5b' {'type': 'JpgMod', 'name': '001_000000000285.jpg', 'quantization': ['ffffffffffffffffffffffffffffffffffffffffffffffffffffffffffffffffffffffffffffffffffffffffffffffffffffffffffffffffffffffffffffffff', 'ffffffffffffffffffffffffffffffffffffffffffffffffffffffffffffffffffffffffffffffffffffffffffffffffffffffffffffffffffffffffffffffff'], 'quality': 1, 'dataset': 'fake'}>,\n",
       " <Document '40331ef1e1a7d75c9c3793602b00417c'@'1-b6f2f9ee60adcf2a15f47a8394cfd2c1' {'type': 'JpgMod', 'name': '001_000000000632.jpg', 'quantization': ['ffffffffffffffffffffffffffffffffffffffffffffffffffffffffffffffffffffffffffffffffffffffffffffffffffffffffffffffffffffffffffffffff', 'ffffffffffffffffffffffffffffffffffffffffffffffffffffffffffffffffffffffffffffffffffffffffffffffffffffffffffffffffffffffffffffffff'], 'quality': 1, 'dataset': 'fake'}>]"
      ]
     },
     "execution_count": 3,
     "metadata": {},
     "output_type": "execute_result"
    }
   ],
   "source": [
    "all_docs('JpgMod')[:3]"
   ]
  },
  {
   "cell_type": "code",
   "execution_count": 58,
   "metadata": {
    "ExecuteTime": {
     "end_time": "2021-01-31T19:25:25.803088Z",
     "start_time": "2021-01-31T19:25:25.797818Z"
    }
   },
   "outputs": [],
   "source": [
    "from collections import defaultdict"
   ]
  },
  {
   "cell_type": "code",
   "execution_count": 59,
   "metadata": {
    "ExecuteTime": {
     "end_time": "2021-01-31T19:25:28.191845Z",
     "start_time": "2021-01-31T19:25:28.174833Z"
    }
   },
   "outputs": [],
   "source": [
    "def stat_type(type_):\n",
    "    stat = defaultdict(set)\n",
    "    for doc in all_docs(type_):\n",
    "        if len(doc['quantization']) == 1:\n",
    "            stat[doc['quantization'][0]].add((doc['quality'], 'QT'))\n",
    "        else:\n",
    "            stat[doc['quantization'][0]].add((doc['quality'], 'QT1'))\n",
    "            stat[doc['quantization'][1]].add((doc['quality'], 'QT2'))\n",
    "    return stat"
   ]
  },
  {
   "cell_type": "code",
   "execution_count": 60,
   "metadata": {
    "ExecuteTime": {
     "end_time": "2021-01-31T19:25:28.682029Z",
     "start_time": "2021-01-31T19:25:28.676631Z"
    }
   },
   "outputs": [],
   "source": [
    "# pd.DataFrame(all_docs('JpgImg'))"
   ]
  },
  {
   "cell_type": "code",
   "execution_count": 33,
   "metadata": {
    "ExecuteTime": {
     "end_time": "2021-01-30T23:19:41.396764Z",
     "start_time": "2021-01-30T23:19:39.724566Z"
    }
   },
   "outputs": [],
   "source": [
    "orig = stat_type('JpgImg')"
   ]
  },
  {
   "cell_type": "code",
   "execution_count": 21,
   "metadata": {
    "ExecuteTime": {
     "end_time": "2021-01-30T22:52:59.029476Z",
     "start_time": "2021-01-30T22:52:56.702623Z"
    }
   },
   "outputs": [],
   "source": [
    "fake = stat_type('JpgMod')"
   ]
  },
  {
   "cell_type": "code",
   "execution_count": 34,
   "metadata": {
    "ExecuteTime": {
     "end_time": "2021-01-30T23:19:41.402170Z",
     "start_time": "2021-01-30T23:19:41.398322Z"
    }
   },
   "outputs": [
    {
     "data": {
      "text/plain": [
       "defaultdict(set,\n",
       "            {'0302020302020303030304030304050805050404050a070706080c0a0c0c0b0a0b0b0d0e12100d0e110e0b0b1016101113141515150c0f171816141812141514': {(90,\n",
       "               'QT1')},\n",
       "             '03040405040509050509140d0b0d1414141414141414141414141414141414141414141414141414141414141414141414141414141414141414141414141414': {(90,\n",
       "               'QT2')},\n",
       "             '01010101010101010101010101020203020202020204030302030504050505040404050607060505070604040609060708080808080506090a09080a07080808': {(96,\n",
       "               'QT'),\n",
       "              (96, 'QT1')},\n",
       "             '01010102020204020204080504050808080808080808080808080808080808080808080808080808080808080808080808080808080808080808080808080808': {(96,\n",
       "               'QT2')},\n",
       "             '06040506050406060506070706080a100a0a09090a140e0f0c1017141818171416161a1d251f1a1b231c1616202c20232627292a29191f2d302d283025282928': {(80,\n",
       "               'QT1')},\n",
       "             '0707070a080a130a0a13281a161a2828282828282828282828282828282828282828282828282828282828282828282828282828282828282828282828282828': {(80,\n",
       "               'QT2')}})"
      ]
     },
     "execution_count": 34,
     "metadata": {},
     "output_type": "execute_result"
    }
   ],
   "source": [
    "orig"
   ]
  },
  {
   "cell_type": "code",
   "execution_count": 23,
   "metadata": {
    "ExecuteTime": {
     "end_time": "2021-01-30T22:52:59.183063Z",
     "start_time": "2021-01-30T22:52:59.174096Z"
    }
   },
   "outputs": [
    {
     "data": {
      "text/plain": [
       "6"
      ]
     },
     "execution_count": 23,
     "metadata": {},
     "output_type": "execute_result"
    }
   ],
   "source": [
    "len(orig.keys())"
   ]
  },
  {
   "cell_type": "code",
   "execution_count": 24,
   "metadata": {
    "ExecuteTime": {
     "end_time": "2021-01-30T22:53:00.227590Z",
     "start_time": "2021-01-30T22:53:00.217341Z"
    }
   },
   "outputs": [
    {
     "data": {
      "text/plain": [
       "196"
      ]
     },
     "execution_count": 24,
     "metadata": {},
     "output_type": "execute_result"
    }
   ],
   "source": [
    "len(fake.keys())"
   ]
  },
  {
   "cell_type": "code",
   "execution_count": 25,
   "metadata": {
    "ExecuteTime": {
     "end_time": "2021-01-30T22:53:02.590180Z",
     "start_time": "2021-01-30T22:53:02.576673Z"
    }
   },
   "outputs": [
    {
     "data": {
      "text/plain": [
       "2"
      ]
     },
     "execution_count": 25,
     "metadata": {},
     "output_type": "execute_result"
    }
   ],
   "source": [
    "len([(k, v) for k, v in fake.items() if len(v) > 1])"
   ]
  },
  {
   "cell_type": "code",
   "execution_count": 27,
   "metadata": {
    "ExecuteTime": {
     "end_time": "2021-01-30T22:53:12.833839Z",
     "start_time": "2021-01-30T22:53:12.824915Z"
    }
   },
   "outputs": [
    {
     "data": {
      "text/plain": [
       "[('ffffffffffffffffffffffffffffffffffffffffffffffffffffffffffffffffffffffffffffffffffffffffffffffffffffffffffffffffffffffffffffffff',\n",
       "  {(1, 'QT1'), (1, 'QT2'), (2, 'QT2'), (3, 'QT2')}),\n",
       " ('01010101010101010101010101010101010101010101010101010101010101010101010101010101010101010101010101010101010101010101010101010101',\n",
       "  {(100, 'QT1'), (100, 'QT2')})]"
      ]
     },
     "execution_count": 27,
     "metadata": {},
     "output_type": "execute_result"
    }
   ],
   "source": [
    "[(k, v) for k, v in fake.items() if len(v) > 1]"
   ]
  },
  {
   "cell_type": "code",
   "execution_count": 28,
   "metadata": {
    "ExecuteTime": {
     "end_time": "2021-01-30T22:55:18.392418Z",
     "start_time": "2021-01-30T22:55:18.379715Z"
    }
   },
   "outputs": [
    {
     "name": "stdout",
     "output_type": "stream",
     "text": [
      "0302020302020303030304030304050805050404050a070706080c0a0c0c0b0a0b0b0d0e12100d0e110e0b0b1016101113141515150c0f171816141812141514 {(90, 'QT1')}\n",
      "03040405040509050509140d0b0d1414141414141414141414141414141414141414141414141414141414141414141414141414141414141414141414141414 {(90, 'QT2')}\n",
      "01010101010101010101010101020203020202020204030302030504050505040404050607060505070604040609060708080808080506090a09080a07080808 {(96, 'QT1')}\n",
      "01010102020204020204080504050808080808080808080808080808080808080808080808080808080808080808080808080808080808080808080808080808 {(96, 'QT2')}\n",
      "06040506050406060506070706080a100a0a09090a140e0f0c1017141818171416161a1d251f1a1b231c1616202c20232627292a29191f2d302d283025282928 {(80, 'QT1')}\n",
      "0707070a080a130a0a13281a161a2828282828282828282828282828282828282828282828282828282828282828282828282828282828282828282828282828 {(80, 'QT2')}\n"
     ]
    }
   ],
   "source": [
    "for qt in orig.keys():\n",
    "    print(qt, fake[qt])"
   ]
  },
  {
   "cell_type": "code",
   "execution_count": 29,
   "metadata": {
    "ExecuteTime": {
     "end_time": "2021-01-30T22:59:58.166014Z",
     "start_time": "2021-01-30T22:59:56.412016Z"
    }
   },
   "outputs": [
    {
     "data": {
      "text/plain": [
       "Counter({90: 1414, 96: 3540, 80: 46})"
      ]
     },
     "execution_count": 29,
     "metadata": {},
     "output_type": "execute_result"
    }
   ],
   "source": [
    "from collections import Counter\n",
    "Counter(d['quality'] for d in all_docs('JpgImg'))"
   ]
  },
  {
   "cell_type": "code",
   "execution_count": 30,
   "metadata": {
    "ExecuteTime": {
     "end_time": "2021-01-30T23:14:32.227821Z",
     "start_time": "2021-01-30T23:14:30.589981Z"
    }
   },
   "outputs": [
    {
     "data": {
      "text/plain": [
       "Counter({2: 4990, 1: 10})"
      ]
     },
     "execution_count": 30,
     "metadata": {},
     "output_type": "execute_result"
    }
   ],
   "source": [
    "Counter(len(d['quantization']) for d in all_docs('JpgImg'))"
   ]
  },
  {
   "cell_type": "code",
   "execution_count": 35,
   "metadata": {
    "ExecuteTime": {
     "end_time": "2021-01-30T23:38:35.802949Z",
     "start_time": "2021-01-30T23:38:33.915280Z"
    }
   },
   "outputs": [
    {
     "data": {
      "text/plain": [
       "Counter({2: 4866, 1: 134})"
      ]
     },
     "execution_count": 35,
     "metadata": {},
     "output_type": "execute_result"
    }
   ],
   "source": [
    "Counter(len(d['quantization']) for d in all_docs('JpgMod75'))"
   ]
  },
  {
   "cell_type": "code",
   "execution_count": 61,
   "metadata": {
    "ExecuteTime": {
     "end_time": "2021-01-31T19:25:37.287595Z",
     "start_time": "2021-01-31T19:25:37.285415Z"
    }
   },
   "outputs": [],
   "source": [
    "from imports import *\n",
    "import pandas as pd"
   ]
  },
  {
   "cell_type": "code",
   "execution_count": 62,
   "metadata": {
    "ExecuteTime": {
     "end_time": "2021-01-31T19:25:38.633927Z",
     "start_time": "2021-01-31T19:25:37.820726Z"
    }
   },
   "outputs": [],
   "source": [
    "meta = MetadataCatalog.get('coco_2017_val')\n",
    "dset = DatasetCatalog.get('coco_2017_val')"
   ]
  },
  {
   "cell_type": "code",
   "execution_count": 63,
   "metadata": {
    "ExecuteTime": {
     "end_time": "2021-01-31T19:25:40.607904Z",
     "start_time": "2021-01-31T19:25:40.602709Z"
    }
   },
   "outputs": [],
   "source": [
    "# meta.thing_classes\n",
    "\n",
    "def get_dicts():\n",
    "    for img in dset:\n",
    "        for obj in img['annotations']:\n",
    "            d = obj.copy()\n",
    "            del d['segmentation']\n",
    "            del d['bbox_mode']\n",
    "            d['filename'] = img['file_name']\n",
    "            yield d\n"
   ]
  },
  {
   "cell_type": "code",
   "execution_count": 64,
   "metadata": {
    "ExecuteTime": {
     "end_time": "2021-01-31T19:25:41.592302Z",
     "start_time": "2021-01-31T19:25:41.500889Z"
    }
   },
   "outputs": [],
   "source": [
    "df = pd.DataFrame(get_dicts())"
   ]
  },
  {
   "cell_type": "code",
   "execution_count": 65,
   "metadata": {
    "ExecuteTime": {
     "end_time": "2021-01-31T19:25:44.893115Z",
     "start_time": "2021-01-31T19:25:44.853556Z"
    }
   },
   "outputs": [],
   "source": [
    "df['category'] = df['category_id'].map(lambda x: meta.thing_classes[x])"
   ]
  },
  {
   "cell_type": "code",
   "execution_count": 6,
   "metadata": {
    "ExecuteTime": {
     "end_time": "2021-01-30T21:16:49.953501Z",
     "start_time": "2021-01-30T21:16:49.932822Z"
    }
   },
   "outputs": [
    {
     "data": {
      "text/html": [
       "<div>\n",
       "<style scoped>\n",
       "    .dataframe tbody tr th:only-of-type {\n",
       "        vertical-align: middle;\n",
       "    }\n",
       "\n",
       "    .dataframe tbody tr th {\n",
       "        vertical-align: top;\n",
       "    }\n",
       "\n",
       "    .dataframe thead th {\n",
       "        text-align: right;\n",
       "    }\n",
       "</style>\n",
       "<table border=\"1\" class=\"dataframe\">\n",
       "  <thead>\n",
       "    <tr style=\"text-align: right;\">\n",
       "      <th></th>\n",
       "      <th>iscrowd</th>\n",
       "      <th>bbox</th>\n",
       "      <th>category_id</th>\n",
       "      <th>filename</th>\n",
       "      <th>category</th>\n",
       "    </tr>\n",
       "  </thead>\n",
       "  <tbody>\n",
       "    <tr>\n",
       "      <th>0</th>\n",
       "      <td>0</td>\n",
       "      <td>[236.98, 142.51, 24.7, 69.5]</td>\n",
       "      <td>58</td>\n",
       "      <td>datasets/coco/val2017/000000000139.jpg</td>\n",
       "      <td>potted plant</td>\n",
       "    </tr>\n",
       "    <tr>\n",
       "      <th>1</th>\n",
       "      <td>0</td>\n",
       "      <td>[7.03, 167.76, 149.32, 94.87]</td>\n",
       "      <td>62</td>\n",
       "      <td>datasets/coco/val2017/000000000139.jpg</td>\n",
       "      <td>tv</td>\n",
       "    </tr>\n",
       "    <tr>\n",
       "      <th>2</th>\n",
       "      <td>0</td>\n",
       "      <td>[557.21, 209.19, 81.35, 78.73]</td>\n",
       "      <td>62</td>\n",
       "      <td>datasets/coco/val2017/000000000139.jpg</td>\n",
       "      <td>tv</td>\n",
       "    </tr>\n",
       "    <tr>\n",
       "      <th>3</th>\n",
       "      <td>0</td>\n",
       "      <td>[358.98, 218.05, 56.0, 102.83]</td>\n",
       "      <td>56</td>\n",
       "      <td>datasets/coco/val2017/000000000139.jpg</td>\n",
       "      <td>chair</td>\n",
       "    </tr>\n",
       "    <tr>\n",
       "      <th>4</th>\n",
       "      <td>0</td>\n",
       "      <td>[290.69, 218.0, 61.83, 98.48]</td>\n",
       "      <td>56</td>\n",
       "      <td>datasets/coco/val2017/000000000139.jpg</td>\n",
       "      <td>chair</td>\n",
       "    </tr>\n",
       "    <tr>\n",
       "      <th>...</th>\n",
       "      <td>...</td>\n",
       "      <td>...</td>\n",
       "      <td>...</td>\n",
       "      <td>...</td>\n",
       "      <td>...</td>\n",
       "    </tr>\n",
       "    <tr>\n",
       "      <th>36776</th>\n",
       "      <td>0</td>\n",
       "      <td>[582.44, 141.91, 57.56, 86.75]</td>\n",
       "      <td>46</td>\n",
       "      <td>datasets/coco/val2017/000000581781.jpg</td>\n",
       "      <td>banana</td>\n",
       "    </tr>\n",
       "    <tr>\n",
       "      <th>36777</th>\n",
       "      <td>0</td>\n",
       "      <td>[75.43, 105.54, 98.19, 107.17]</td>\n",
       "      <td>46</td>\n",
       "      <td>datasets/coco/val2017/000000581781.jpg</td>\n",
       "      <td>banana</td>\n",
       "    </tr>\n",
       "    <tr>\n",
       "      <th>36778</th>\n",
       "      <td>0</td>\n",
       "      <td>[2.15, 2.15, 41.89, 170.79]</td>\n",
       "      <td>46</td>\n",
       "      <td>datasets/coco/val2017/000000581781.jpg</td>\n",
       "      <td>banana</td>\n",
       "    </tr>\n",
       "    <tr>\n",
       "      <th>36779</th>\n",
       "      <td>0</td>\n",
       "      <td>[193.18, 183.42, 248.91, 63.15]</td>\n",
       "      <td>46</td>\n",
       "      <td>datasets/coco/val2017/000000581781.jpg</td>\n",
       "      <td>banana</td>\n",
       "    </tr>\n",
       "    <tr>\n",
       "      <th>36780</th>\n",
       "      <td>1</td>\n",
       "      <td>[0, 20, 639, 457]</td>\n",
       "      <td>46</td>\n",
       "      <td>datasets/coco/val2017/000000581781.jpg</td>\n",
       "      <td>banana</td>\n",
       "    </tr>\n",
       "  </tbody>\n",
       "</table>\n",
       "<p>36781 rows × 5 columns</p>\n",
       "</div>"
      ],
      "text/plain": [
       "       iscrowd                             bbox  category_id  \\\n",
       "0            0     [236.98, 142.51, 24.7, 69.5]           58   \n",
       "1            0    [7.03, 167.76, 149.32, 94.87]           62   \n",
       "2            0   [557.21, 209.19, 81.35, 78.73]           62   \n",
       "3            0   [358.98, 218.05, 56.0, 102.83]           56   \n",
       "4            0    [290.69, 218.0, 61.83, 98.48]           56   \n",
       "...        ...                              ...          ...   \n",
       "36776        0   [582.44, 141.91, 57.56, 86.75]           46   \n",
       "36777        0   [75.43, 105.54, 98.19, 107.17]           46   \n",
       "36778        0      [2.15, 2.15, 41.89, 170.79]           46   \n",
       "36779        0  [193.18, 183.42, 248.91, 63.15]           46   \n",
       "36780        1                [0, 20, 639, 457]           46   \n",
       "\n",
       "                                     filename      category  \n",
       "0      datasets/coco/val2017/000000000139.jpg  potted plant  \n",
       "1      datasets/coco/val2017/000000000139.jpg            tv  \n",
       "2      datasets/coco/val2017/000000000139.jpg            tv  \n",
       "3      datasets/coco/val2017/000000000139.jpg         chair  \n",
       "4      datasets/coco/val2017/000000000139.jpg         chair  \n",
       "...                                       ...           ...  \n",
       "36776  datasets/coco/val2017/000000581781.jpg        banana  \n",
       "36777  datasets/coco/val2017/000000581781.jpg        banana  \n",
       "36778  datasets/coco/val2017/000000581781.jpg        banana  \n",
       "36779  datasets/coco/val2017/000000581781.jpg        banana  \n",
       "36780  datasets/coco/val2017/000000581781.jpg        banana  \n",
       "\n",
       "[36781 rows x 5 columns]"
      ]
     },
     "execution_count": 6,
     "metadata": {},
     "output_type": "execute_result"
    }
   ],
   "source": [
    "df"
   ]
  },
  {
   "cell_type": "code",
   "execution_count": 7,
   "metadata": {
    "ExecuteTime": {
     "end_time": "2021-01-30T21:16:49.963168Z",
     "start_time": "2021-01-30T21:16:49.956324Z"
    }
   },
   "outputs": [
    {
     "data": {
      "text/plain": [
       "person        11004\n",
       "car            1932\n",
       "chair          1791\n",
       "book           1161\n",
       "bottle         1025\n",
       "              ...  \n",
       "toothbrush       57\n",
       "microwave        55\n",
       "scissors         36\n",
       "hair drier       11\n",
       "toaster           9\n",
       "Name: category, Length: 80, dtype: int64"
      ]
     },
     "execution_count": 7,
     "metadata": {},
     "output_type": "execute_result"
    }
   ],
   "source": [
    "df.category.value_counts()"
   ]
  },
  {
   "cell_type": "code",
   "execution_count": 8,
   "metadata": {
    "ExecuteTime": {
     "end_time": "2021-01-30T21:16:50.006247Z",
     "start_time": "2021-01-30T21:16:49.964730Z"
    }
   },
   "outputs": [
    {
     "data": {
      "text/html": [
       "<div>\n",
       "<style scoped>\n",
       "    .dataframe tbody tr th:only-of-type {\n",
       "        vertical-align: middle;\n",
       "    }\n",
       "\n",
       "    .dataframe tbody tr th {\n",
       "        vertical-align: top;\n",
       "    }\n",
       "\n",
       "    .dataframe thead th {\n",
       "        text-align: right;\n",
       "    }\n",
       "</style>\n",
       "<table border=\"1\" class=\"dataframe\">\n",
       "  <thead>\n",
       "    <tr style=\"text-align: right;\">\n",
       "      <th></th>\n",
       "      <th>iscrowd</th>\n",
       "      <th>bbox</th>\n",
       "      <th>category_id</th>\n",
       "      <th>filename</th>\n",
       "      <th>category</th>\n",
       "    </tr>\n",
       "  </thead>\n",
       "  <tbody>\n",
       "    <tr>\n",
       "      <th>0</th>\n",
       "      <td>0</td>\n",
       "      <td>[236.98, 142.51, 24.7, 69.5]</td>\n",
       "      <td>58</td>\n",
       "      <td>datasets/coco/val2017/000000000139.jpg</td>\n",
       "      <td>potted plant</td>\n",
       "    </tr>\n",
       "    <tr>\n",
       "      <th>1</th>\n",
       "      <td>0</td>\n",
       "      <td>[7.03, 167.76, 149.32, 94.87]</td>\n",
       "      <td>62</td>\n",
       "      <td>datasets/coco/val2017/000000000139.jpg</td>\n",
       "      <td>tv</td>\n",
       "    </tr>\n",
       "    <tr>\n",
       "      <th>2</th>\n",
       "      <td>0</td>\n",
       "      <td>[557.21, 209.19, 81.35, 78.73]</td>\n",
       "      <td>62</td>\n",
       "      <td>datasets/coco/val2017/000000000139.jpg</td>\n",
       "      <td>tv</td>\n",
       "    </tr>\n",
       "    <tr>\n",
       "      <th>3</th>\n",
       "      <td>0</td>\n",
       "      <td>[358.98, 218.05, 56.0, 102.83]</td>\n",
       "      <td>56</td>\n",
       "      <td>datasets/coco/val2017/000000000139.jpg</td>\n",
       "      <td>chair</td>\n",
       "    </tr>\n",
       "    <tr>\n",
       "      <th>4</th>\n",
       "      <td>0</td>\n",
       "      <td>[290.69, 218.0, 61.83, 98.48]</td>\n",
       "      <td>56</td>\n",
       "      <td>datasets/coco/val2017/000000000139.jpg</td>\n",
       "      <td>chair</td>\n",
       "    </tr>\n",
       "    <tr>\n",
       "      <th>...</th>\n",
       "      <td>...</td>\n",
       "      <td>...</td>\n",
       "      <td>...</td>\n",
       "      <td>...</td>\n",
       "      <td>...</td>\n",
       "    </tr>\n",
       "    <tr>\n",
       "      <th>36775</th>\n",
       "      <td>0</td>\n",
       "      <td>[439.33, 94.35, 160.05, 171.86]</td>\n",
       "      <td>46</td>\n",
       "      <td>datasets/coco/val2017/000000581781.jpg</td>\n",
       "      <td>banana</td>\n",
       "    </tr>\n",
       "    <tr>\n",
       "      <th>36776</th>\n",
       "      <td>0</td>\n",
       "      <td>[582.44, 141.91, 57.56, 86.75]</td>\n",
       "      <td>46</td>\n",
       "      <td>datasets/coco/val2017/000000581781.jpg</td>\n",
       "      <td>banana</td>\n",
       "    </tr>\n",
       "    <tr>\n",
       "      <th>36777</th>\n",
       "      <td>0</td>\n",
       "      <td>[75.43, 105.54, 98.19, 107.17]</td>\n",
       "      <td>46</td>\n",
       "      <td>datasets/coco/val2017/000000581781.jpg</td>\n",
       "      <td>banana</td>\n",
       "    </tr>\n",
       "    <tr>\n",
       "      <th>36778</th>\n",
       "      <td>0</td>\n",
       "      <td>[2.15, 2.15, 41.89, 170.79]</td>\n",
       "      <td>46</td>\n",
       "      <td>datasets/coco/val2017/000000581781.jpg</td>\n",
       "      <td>banana</td>\n",
       "    </tr>\n",
       "    <tr>\n",
       "      <th>36779</th>\n",
       "      <td>0</td>\n",
       "      <td>[193.18, 183.42, 248.91, 63.15]</td>\n",
       "      <td>46</td>\n",
       "      <td>datasets/coco/val2017/000000581781.jpg</td>\n",
       "      <td>banana</td>\n",
       "    </tr>\n",
       "  </tbody>\n",
       "</table>\n",
       "<p>36335 rows × 5 columns</p>\n",
       "</div>"
      ],
      "text/plain": [
       "       iscrowd                             bbox  category_id  \\\n",
       "0            0     [236.98, 142.51, 24.7, 69.5]           58   \n",
       "1            0    [7.03, 167.76, 149.32, 94.87]           62   \n",
       "2            0   [557.21, 209.19, 81.35, 78.73]           62   \n",
       "3            0   [358.98, 218.05, 56.0, 102.83]           56   \n",
       "4            0    [290.69, 218.0, 61.83, 98.48]           56   \n",
       "...        ...                              ...          ...   \n",
       "36775        0  [439.33, 94.35, 160.05, 171.86]           46   \n",
       "36776        0   [582.44, 141.91, 57.56, 86.75]           46   \n",
       "36777        0   [75.43, 105.54, 98.19, 107.17]           46   \n",
       "36778        0      [2.15, 2.15, 41.89, 170.79]           46   \n",
       "36779        0  [193.18, 183.42, 248.91, 63.15]           46   \n",
       "\n",
       "                                     filename      category  \n",
       "0      datasets/coco/val2017/000000000139.jpg  potted plant  \n",
       "1      datasets/coco/val2017/000000000139.jpg            tv  \n",
       "2      datasets/coco/val2017/000000000139.jpg            tv  \n",
       "3      datasets/coco/val2017/000000000139.jpg         chair  \n",
       "4      datasets/coco/val2017/000000000139.jpg         chair  \n",
       "...                                       ...           ...  \n",
       "36775  datasets/coco/val2017/000000581781.jpg        banana  \n",
       "36776  datasets/coco/val2017/000000581781.jpg        banana  \n",
       "36777  datasets/coco/val2017/000000581781.jpg        banana  \n",
       "36778  datasets/coco/val2017/000000581781.jpg        banana  \n",
       "36779  datasets/coco/val2017/000000581781.jpg        banana  \n",
       "\n",
       "[36335 rows x 5 columns]"
      ]
     },
     "execution_count": 8,
     "metadata": {},
     "output_type": "execute_result"
    }
   ],
   "source": [
    "df[df.iscrowd == 0]"
   ]
  },
  {
   "cell_type": "code",
   "execution_count": 9,
   "metadata": {
    "ExecuteTime": {
     "end_time": "2021-01-30T21:16:50.026401Z",
     "start_time": "2021-01-30T21:16:50.008828Z"
    }
   },
   "outputs": [
    {
     "data": {
      "text/html": [
       "<div>\n",
       "<style scoped>\n",
       "    .dataframe tbody tr th:only-of-type {\n",
       "        vertical-align: middle;\n",
       "    }\n",
       "\n",
       "    .dataframe tbody tr th {\n",
       "        vertical-align: top;\n",
       "    }\n",
       "\n",
       "    .dataframe thead th {\n",
       "        text-align: right;\n",
       "    }\n",
       "</style>\n",
       "<table border=\"1\" class=\"dataframe\">\n",
       "  <thead>\n",
       "    <tr style=\"text-align: right;\">\n",
       "      <th></th>\n",
       "      <th>iscrowd</th>\n",
       "      <th>bbox</th>\n",
       "      <th>category_id</th>\n",
       "      <th>filename</th>\n",
       "      <th>category</th>\n",
       "    </tr>\n",
       "  </thead>\n",
       "  <tbody>\n",
       "    <tr>\n",
       "      <th>38</th>\n",
       "      <td>1</td>\n",
       "      <td>[416, 43, 153, 303]</td>\n",
       "      <td>73</td>\n",
       "      <td>datasets/coco/val2017/000000000632.jpg</td>\n",
       "      <td>book</td>\n",
       "    </tr>\n",
       "    <tr>\n",
       "      <th>204</th>\n",
       "      <td>1</td>\n",
       "      <td>[0, 18, 499, 263]</td>\n",
       "      <td>0</td>\n",
       "      <td>datasets/coco/val2017/000000002299.jpg</td>\n",
       "      <td>person</td>\n",
       "    </tr>\n",
       "    <tr>\n",
       "      <th>352</th>\n",
       "      <td>1</td>\n",
       "      <td>[523, 26, 116, 288]</td>\n",
       "      <td>0</td>\n",
       "      <td>datasets/coco/val2017/000000005001.jpg</td>\n",
       "      <td>person</td>\n",
       "    </tr>\n",
       "    <tr>\n",
       "      <th>393</th>\n",
       "      <td>1</td>\n",
       "      <td>[0, 0, 319, 239]</td>\n",
       "      <td>0</td>\n",
       "      <td>datasets/coco/val2017/000000005586.jpg</td>\n",
       "      <td>person</td>\n",
       "    </tr>\n",
       "    <tr>\n",
       "      <th>514</th>\n",
       "      <td>1</td>\n",
       "      <td>[337, 272, 267, 28]</td>\n",
       "      <td>0</td>\n",
       "      <td>datasets/coco/val2017/000000007511.jpg</td>\n",
       "      <td>person</td>\n",
       "    </tr>\n",
       "    <tr>\n",
       "      <th>...</th>\n",
       "      <td>...</td>\n",
       "      <td>...</td>\n",
       "      <td>...</td>\n",
       "      <td>...</td>\n",
       "      <td>...</td>\n",
       "    </tr>\n",
       "    <tr>\n",
       "      <th>36286</th>\n",
       "      <td>1</td>\n",
       "      <td>[7, 131, 611, 224]</td>\n",
       "      <td>0</td>\n",
       "      <td>datasets/coco/val2017/000000572620.jpg</td>\n",
       "      <td>person</td>\n",
       "    </tr>\n",
       "    <tr>\n",
       "      <th>36374</th>\n",
       "      <td>1</td>\n",
       "      <td>[130, 346, 184, 38]</td>\n",
       "      <td>7</td>\n",
       "      <td>datasets/coco/val2017/000000573943.jpg</td>\n",
       "      <td>truck</td>\n",
       "    </tr>\n",
       "    <tr>\n",
       "      <th>36622</th>\n",
       "      <td>1</td>\n",
       "      <td>[10, 10, 552, 416]</td>\n",
       "      <td>41</td>\n",
       "      <td>datasets/coco/val2017/000000579070.jpg</td>\n",
       "      <td>cup</td>\n",
       "    </tr>\n",
       "    <tr>\n",
       "      <th>36678</th>\n",
       "      <td>1</td>\n",
       "      <td>[47, 148, 244, 250]</td>\n",
       "      <td>50</td>\n",
       "      <td>datasets/coco/val2017/000000579900.jpg</td>\n",
       "      <td>broccoli</td>\n",
       "    </tr>\n",
       "    <tr>\n",
       "      <th>36780</th>\n",
       "      <td>1</td>\n",
       "      <td>[0, 20, 639, 457]</td>\n",
       "      <td>46</td>\n",
       "      <td>datasets/coco/val2017/000000581781.jpg</td>\n",
       "      <td>banana</td>\n",
       "    </tr>\n",
       "  </tbody>\n",
       "</table>\n",
       "<p>446 rows × 5 columns</p>\n",
       "</div>"
      ],
      "text/plain": [
       "       iscrowd                 bbox  category_id  \\\n",
       "38           1  [416, 43, 153, 303]           73   \n",
       "204          1    [0, 18, 499, 263]            0   \n",
       "352          1  [523, 26, 116, 288]            0   \n",
       "393          1     [0, 0, 319, 239]            0   \n",
       "514          1  [337, 272, 267, 28]            0   \n",
       "...        ...                  ...          ...   \n",
       "36286        1   [7, 131, 611, 224]            0   \n",
       "36374        1  [130, 346, 184, 38]            7   \n",
       "36622        1   [10, 10, 552, 416]           41   \n",
       "36678        1  [47, 148, 244, 250]           50   \n",
       "36780        1    [0, 20, 639, 457]           46   \n",
       "\n",
       "                                     filename  category  \n",
       "38     datasets/coco/val2017/000000000632.jpg      book  \n",
       "204    datasets/coco/val2017/000000002299.jpg    person  \n",
       "352    datasets/coco/val2017/000000005001.jpg    person  \n",
       "393    datasets/coco/val2017/000000005586.jpg    person  \n",
       "514    datasets/coco/val2017/000000007511.jpg    person  \n",
       "...                                       ...       ...  \n",
       "36286  datasets/coco/val2017/000000572620.jpg    person  \n",
       "36374  datasets/coco/val2017/000000573943.jpg     truck  \n",
       "36622  datasets/coco/val2017/000000579070.jpg       cup  \n",
       "36678  datasets/coco/val2017/000000579900.jpg  broccoli  \n",
       "36780  datasets/coco/val2017/000000581781.jpg    banana  \n",
       "\n",
       "[446 rows x 5 columns]"
      ]
     },
     "execution_count": 9,
     "metadata": {},
     "output_type": "execute_result"
    }
   ],
   "source": [
    "df[df.iscrowd == 1]"
   ]
  },
  {
   "cell_type": "code",
   "execution_count": 70,
   "metadata": {
    "ExecuteTime": {
     "end_time": "2021-01-31T19:29:43.648253Z",
     "start_time": "2021-01-31T19:29:43.646142Z"
    }
   },
   "outputs": [],
   "source": [
    "from IPython.display import Image, display"
   ]
  },
  {
   "cell_type": "code",
   "execution_count": null,
   "metadata": {
    "ExecuteTime": {
     "end_time": "2021-01-30T21:16:50.065507Z",
     "start_time": "2021-01-30T21:16:50.056755Z"
    }
   },
   "outputs": [],
   "source": [
    "for (idx, (f, cat)) in df[df.iscrowd == 1][['filename', 'category']].iterrows():\n",
    "    #print(f, cat)\n",
    "    display(Image(f))\n",
    "    display(cat)\n",
    "    break"
   ]
  },
  {
   "cell_type": "code",
   "execution_count": 13,
   "metadata": {
    "ExecuteTime": {
     "end_time": "2021-01-30T21:16:50.078413Z",
     "start_time": "2021-01-30T21:16:50.068658Z"
    }
   },
   "outputs": [
    {
     "data": {
      "text/plain": [
       "person           227\n",
       "book              32\n",
       "chair             20\n",
       "car               14\n",
       "bird              13\n",
       "bottle            12\n",
       "donut             10\n",
       "kite               9\n",
       "banana             9\n",
       "cow                8\n",
       "sheep              7\n",
       "umbrella           6\n",
       "boat               6\n",
       "cake               6\n",
       "carrot             6\n",
       "suitcase           4\n",
       "motorcycle         4\n",
       "broccoli           4\n",
       "cup                4\n",
       "vase               3\n",
       "bowl               3\n",
       "sports ball        3\n",
       "traffic light      3\n",
       "elephant           3\n",
       "apple              3\n",
       "zebra              2\n",
       "orange             2\n",
       "hot dog            2\n",
       "tie                2\n",
       "bench              2\n",
       "bicycle            2\n",
       "dining table       2\n",
       "bus                2\n",
       "surfboard          2\n",
       "wine glass         2\n",
       "truck              1\n",
       "horse              1\n",
       "potted plant       1\n",
       "knife              1\n",
       "baseball bat       1\n",
       "pizza              1\n",
       "teddy bear         1\n",
       "Name: category, dtype: int64"
      ]
     },
     "execution_count": 13,
     "metadata": {},
     "output_type": "execute_result"
    }
   ],
   "source": [
    "df[df.iscrowd == 1].category.value_counts()"
   ]
  },
  {
   "cell_type": "code",
   "execution_count": 14,
   "metadata": {
    "ExecuteTime": {
     "end_time": "2021-01-30T21:16:50.087874Z",
     "start_time": "2021-01-30T21:16:50.079913Z"
    }
   },
   "outputs": [
    {
     "data": {
      "text/plain": [
       "(42,)"
      ]
     },
     "execution_count": 14,
     "metadata": {},
     "output_type": "execute_result"
    }
   ],
   "source": [
    "df[df.iscrowd == 1].category.value_counts().shape"
   ]
  },
  {
   "cell_type": "code",
   "execution_count": 36,
   "metadata": {
    "ExecuteTime": {
     "end_time": "2021-01-31T00:39:35.689943Z",
     "start_time": "2021-01-31T00:39:35.319523Z"
    }
   },
   "outputs": [
    {
     "data": {
      "text/plain": [
       "[<Document '63eec5765a48a594b94208499800fd04'@'1-d11c682377b5fc569fd52b4ab54e866d' {'quality': 64, 'bbox': {'AP': 35.92233851025809, 'AP50': 53.624655648435436, 'AP75': 39.259538097791506, 'APs': 17.59158172921125, 'APm': 39.79811732337794, 'APl': 50.981600334950926, 'AP-person': 50.59302339805936, 'AP-bicycle': 29.708733702344393, 'AP-car': 38.051859475577324, 'AP-motorcycle': 40.76503303047582, 'AP-airplane': 62.216422523055, 'AP-bus': 62.117838550873635, 'AP-train': 57.04543942172483, 'AP-truck': 27.75413281275138, 'AP-boat': 23.692857766072077, 'AP-traffic light': 21.597506081846056, 'AP-fire hydrant': 62.26338379813855, 'AP-stop sign': 61.21653315569304, 'AP-parking meter': 41.83164970754759, 'AP-bench': 20.926286401475217, 'AP-bird': 30.78653755649359, 'AP-cat': 61.66208253634717, 'AP-dog': 56.13972906986425, 'AP-horse': 52.7405369278079, 'AP-sheep': 43.48235087348109, 'AP-cow': 48.64997803757588, 'AP-elephant': 58.43295716310156, 'AP-bear': 61.96502107314239, 'AP-zebra': 62.194893947201976, 'AP-giraffe': 62.42272350601329, 'AP-backpack': 11.838242601873228, 'AP-umbrella': 35.06156281991577, 'AP-handbag': 11.197953651428227, 'AP-tie': 24.795293600902564, 'AP-suitcase': 28.34409629661392, 'AP-frisbee': 57.582129429627415, 'AP-skis': 21.08655921103732, 'AP-snowboard': 33.06282969575791, 'AP-sports ball': 36.42188663550283, 'AP-kite': 33.67621672730869, 'AP-baseball bat': 18.97311663193155, 'AP-baseball glove': 30.20177992597457, 'AP-skateboard': 48.64088339988236, 'AP-surfboard': 33.05863185024819, 'AP-tennis racket': 43.28604463884324, 'AP-bottle': 32.31181183942657, 'AP-wine glass': 29.64562261607776, 'AP-cup': 34.94758687024374, 'AP-fork': 26.58479295562508, 'AP-knife': 10.681125323966338, 'AP-spoon': 11.688170141356158, 'AP-bowl': 34.37823118704601, 'AP-banana': 19.337037847890866, 'AP-apple': 15.067221323574476, 'AP-sandwich': 25.665691591329136, 'AP-orange': 24.214629838008868, 'AP-broccoli': 19.838314886298058, 'AP-carrot': 18.393228808255728, 'AP-hot dog': 26.4233190028436, 'AP-pizza': 48.99600389631255, 'AP-donut': 36.099629104547596, 'AP-cake': 28.348308709958758, 'AP-chair': 22.932294360329315, 'AP-couch': 34.30878976798373, 'AP-potted plant': 21.48679092901218, 'AP-bed': 32.5682264265099, 'AP-dining table': 24.21150357740346, 'AP-toilet': 53.959409773979175, 'AP-tv': 51.02402992188314, 'AP-laptop': 57.04553833614491, 'AP-mouse': 56.77580385006794, 'AP-remote': 22.943571392748463, 'AP-keyboard': 48.04566378472899, 'AP-cell phone': 28.60596221554314, 'AP-microwave': 50.10282242621571, 'AP-oven': 28.40623866000101, 'AP-toaster': 43.23432343234323, 'AP-sink': 33.294327764838314, 'AP-refrigerator': 49.49824382515213, 'AP-book': 8.566204724333195, 'AP-clock': 43.616293610774306, 'AP-vase': 29.716100435413612, 'AP-scissors': 28.210503169987604, 'AP-teddy bear': 40.50275480119681, 'AP-hair drier': 0.0, 'AP-toothbrush': 16.626220057784764}, 'elapsed': 1194.8736307621002, 'model_config': 'COCO-Detection/faster_rcnn_R_50_C4_3x.yaml', 'finished': '2020-12-29 23:24:04', 'device': 'GeForce GTX 1070 Ti', 'type': 'Result'}>,\n",
       " <Document '63eec5765a48a594b94208499801023f'@'1-a16a8f01aa1bd2027e5bb4a59ee53245' {'quality': 67, 'bbox': {'AP': 38.51233127376532, 'AP50': 56.336268102607065, 'AP75': 41.87680846922699, 'APs': 19.141870881808355, 'APm': 42.761721536176836, 'APl': 53.57991571631939, 'AP-person': 51.803970939499955, 'AP-bicycle': 31.597562785391425, 'AP-car': 39.24160060119619, 'AP-motorcycle': 42.329741352686334, 'AP-airplane': 63.86154538383572, 'AP-bus': 63.2312127591401, 'AP-train': 61.6954445474809, 'AP-truck': 29.863726000868617, 'AP-boat': 25.48147176716461, 'AP-traffic light': 23.026260336835534, 'AP-fire hydrant': 66.10150632769842, 'AP-stop sign': 62.39619375369393, 'AP-parking meter': 45.37327777085901, 'AP-bench': 23.303174454858706, 'AP-bird': 33.129494270951405, 'AP-cat': 67.36653946445142, 'AP-dog': 58.34565406332322, 'AP-horse': 54.43175184917956, 'AP-sheep': 46.50552385597634, 'AP-cow': 50.387148101781364, 'AP-elephant': 58.99350980911201, 'AP-bear': 67.05212833162936, 'AP-zebra': 65.80412797922948, 'AP-giraffe': 65.32915558609734, 'AP-backpack': 12.788413950218406, 'AP-umbrella': 37.89722532853732, 'AP-handbag': 11.507461428116745, 'AP-tie': 31.700897264063865, 'AP-suitcase': 34.04130138433316, 'AP-frisbee': 57.01291310934934, 'AP-skis': 22.865825642030206, 'AP-snowboard': 35.06210613675105, 'AP-sports ball': 37.9822636893205, 'AP-kite': 37.18681431872997, 'AP-baseball bat': 22.181077906358045, 'AP-baseball glove': 32.05241501076949, 'AP-skateboard': 51.788768890949754, 'AP-surfboard': 35.65071567163357, 'AP-tennis racket': 48.556273437584935, 'AP-bottle': 33.440291577627725, 'AP-wine glass': 31.98517649403335, 'AP-cup': 36.95148487945416, 'AP-fork': 31.472537193343754, 'AP-knife': 15.988712504863866, 'AP-spoon': 15.95140955350275, 'AP-bowl': 36.711601437417464, 'AP-banana': 19.633615513160013, 'AP-apple': 16.006186193460078, 'AP-sandwich': 27.61753488302262, 'AP-orange': 26.939822922919955, 'AP-broccoli': 21.344409829229637, 'AP-carrot': 21.01112157809368, 'AP-hot dog': 26.15403460397664, 'AP-pizza': 49.77594958353361, 'AP-donut': 42.15092377212782, 'AP-cake': 30.24436380955038, 'AP-chair': 23.995898799874134, 'AP-couch': 37.27101057895679, 'AP-potted plant': 26.628446327783113, 'AP-bed': 36.94448992648721, 'AP-dining table': 27.300535145109027, 'AP-toilet': 57.87253386071386, 'AP-tv': 54.181069615130326, 'AP-laptop': 59.03973404581253, 'AP-mouse': 55.615821673017884, 'AP-remote': 25.328306718763894, 'AP-keyboard': 48.94604792844218, 'AP-cell phone': 30.58428839710215, 'AP-microwave': 50.61830747391273, 'AP-oven': 32.32960735945622, 'AP-toaster': 47.19471947194719, 'AP-sink': 34.16149383139125, 'AP-refrigerator': 55.890045461248974, 'AP-book': 11.196877031620058, 'AP-clock': 45.831808001982324, 'AP-vase': 32.94763549343252, 'AP-scissors': 25.095705304208504, 'AP-teddy bear': 43.26176995710574, 'AP-hair drier': 9.158415841584159, 'AP-toothbrush': 21.286562065138135}, 'elapsed': 1585.1987709999084, 'model_config': 'COCO-Detection/faster_rcnn_R_101_C4_3x.yaml', 'finished': '2020-12-26 18:51:56', 'device': 'GeForce GTX 1070 Ti', 'type': 'Result'}>,\n",
       " <Document '63eec5765a48a594b942084998010d1f'@'1-d4d946fdda6049a1ef6436623cd05e2d' {'quality': 34, 'bbox': {'AP': 35.92233851025809, 'AP50': 53.624655648435436, 'AP75': 39.259538097791506, 'APs': 17.59158172921125, 'APm': 39.79811732337794, 'APl': 50.981600334950926, 'AP-person': 50.59302339805936, 'AP-bicycle': 29.708733702344393, 'AP-car': 38.051859475577324, 'AP-motorcycle': 40.76503303047582, 'AP-airplane': 62.216422523055, 'AP-bus': 62.117838550873635, 'AP-train': 57.04543942172483, 'AP-truck': 27.75413281275138, 'AP-boat': 23.692857766072077, 'AP-traffic light': 21.597506081846056, 'AP-fire hydrant': 62.26338379813855, 'AP-stop sign': 61.21653315569304, 'AP-parking meter': 41.83164970754759, 'AP-bench': 20.926286401475217, 'AP-bird': 30.78653755649359, 'AP-cat': 61.66208253634717, 'AP-dog': 56.13972906986425, 'AP-horse': 52.7405369278079, 'AP-sheep': 43.48235087348109, 'AP-cow': 48.64997803757588, 'AP-elephant': 58.43295716310156, 'AP-bear': 61.96502107314239, 'AP-zebra': 62.194893947201976, 'AP-giraffe': 62.42272350601329, 'AP-backpack': 11.838242601873228, 'AP-umbrella': 35.06156281991577, 'AP-handbag': 11.197953651428227, 'AP-tie': 24.795293600902564, 'AP-suitcase': 28.34409629661392, 'AP-frisbee': 57.582129429627415, 'AP-skis': 21.08655921103732, 'AP-snowboard': 33.06282969575791, 'AP-sports ball': 36.42188663550283, 'AP-kite': 33.67621672730869, 'AP-baseball bat': 18.97311663193155, 'AP-baseball glove': 30.20177992597457, 'AP-skateboard': 48.64088339988236, 'AP-surfboard': 33.05863185024819, 'AP-tennis racket': 43.28604463884324, 'AP-bottle': 32.31181183942657, 'AP-wine glass': 29.64562261607776, 'AP-cup': 34.94758687024374, 'AP-fork': 26.58479295562508, 'AP-knife': 10.681125323966338, 'AP-spoon': 11.688170141356158, 'AP-bowl': 34.37823118704601, 'AP-banana': 19.337037847890866, 'AP-apple': 15.067221323574476, 'AP-sandwich': 25.665691591329136, 'AP-orange': 24.214629838008868, 'AP-broccoli': 19.838314886298058, 'AP-carrot': 18.393228808255728, 'AP-hot dog': 26.4233190028436, 'AP-pizza': 48.99600389631255, 'AP-donut': 36.099629104547596, 'AP-cake': 28.348308709958758, 'AP-chair': 22.932294360329315, 'AP-couch': 34.30878976798373, 'AP-potted plant': 21.48679092901218, 'AP-bed': 32.5682264265099, 'AP-dining table': 24.21150357740346, 'AP-toilet': 53.959409773979175, 'AP-tv': 51.02402992188314, 'AP-laptop': 57.04553833614491, 'AP-mouse': 56.77580385006794, 'AP-remote': 22.943571392748463, 'AP-keyboard': 48.04566378472899, 'AP-cell phone': 28.60596221554314, 'AP-microwave': 50.10282242621571, 'AP-oven': 28.40623866000101, 'AP-toaster': 43.23432343234323, 'AP-sink': 33.294327764838314, 'AP-refrigerator': 49.49824382515213, 'AP-book': 8.566204724333195, 'AP-clock': 43.616293610774306, 'AP-vase': 29.716100435413612, 'AP-scissors': 28.210503169987604, 'AP-teddy bear': 40.50275480119681, 'AP-hair drier': 0.0, 'AP-toothbrush': 16.626220057784764}, 'elapsed': 1194.5300571918488, 'model_config': 'COCO-Detection/faster_rcnn_R_50_C4_3x.yaml', 'finished': '2020-12-29 13:22:31', 'device': 'GeForce GTX 1070 Ti', 'type': 'Result'}>,\n",
       " <Document '63eec5765a48a594b942084998011213'@'1-a54b5832b32a84df7b78484c47b0ed3a' {'quality': 84, 'bbox': {'AP': 40.39770426347224, 'AP50': 60.250119798054605, 'AP75': 43.18813315869904, 'APs': 24.025374543076275, 'APm': 44.34015592069553, 'APl': 52.18457899388492, 'AP-person': 53.43033739587478, 'AP-bicycle': 32.30950711192222, 'AP-car': 42.6369505868599, 'AP-motorcycle': 45.18426798246625, 'AP-airplane': 65.38998235296543, 'AP-bus': 65.59795004028359, 'AP-train': 61.420909961220296, 'AP-truck': 37.83753617369922, 'AP-boat': 26.575031236457242, 'AP-traffic light': 26.22918473175918, 'AP-fire hydrant': 66.45217347808293, 'AP-stop sign': 64.44570018442678, 'AP-parking meter': 47.679109133723536, 'AP-bench': 23.83508035229506, 'AP-bird': 36.037151912858945, 'AP-cat': 67.84914744153635, 'AP-dog': 60.724091582924956, 'AP-horse': 58.2225509271005, 'AP-sheep': 48.80475407925361, 'AP-cow': 53.3666875553524, 'AP-elephant': 60.52676936340473, 'AP-bear': 70.91194671644017, 'AP-zebra': 64.97858661407643, 'AP-giraffe': 66.38047196110661, 'AP-backpack': 16.474669498971924, 'AP-umbrella': 39.49149942133676, 'AP-handbag': 15.841491203191655, 'AP-tie': 32.25460664924242, 'AP-suitcase': 38.20909120747324, 'AP-frisbee': 64.37886368426497, 'AP-skis': 20.068862380071202, 'AP-snowboard': 27.53535283638076, 'AP-sports ball': 43.989767436678726, 'AP-kite': 40.8169747956512, 'AP-baseball bat': 24.03580877686347, 'AP-baseball glove': 34.751352082272376, 'AP-skateboard': 52.86363940030437, 'AP-surfboard': 34.55395045616989, 'AP-tennis racket': 49.495852214474304, 'AP-bottle': 36.087830213694836, 'AP-wine glass': 36.36097382628742, 'AP-cup': 42.55275189863017, 'AP-fork': 31.639044666107036, 'AP-knife': 16.62910615161771, 'AP-spoon': 17.21046410318529, 'AP-bowl': 41.1337585727415, 'AP-banana': 20.30736535619527, 'AP-apple': 20.829669243382163, 'AP-sandwich': 35.62587287978266, 'AP-orange': 31.76182623135389, 'AP-broccoli': 20.74328588643025, 'AP-carrot': 20.091589332832957, 'AP-hot dog': 28.551484031235475, 'AP-pizza': 48.72536934940249, 'AP-donut': 43.31136160403793, 'AP-cake': 32.95465527551276, 'AP-chair': 27.546116447984577, 'AP-couch': 42.249363386705085, 'AP-potted plant': 26.952580624648498, 'AP-bed': 38.58658302338432, 'AP-dining table': 29.12031478563682, 'AP-toilet': 59.88401351760295, 'AP-tv': 57.1315283575504, 'AP-laptop': 59.55510738023919, 'AP-mouse': 61.208548420136296, 'AP-remote': 29.937922212691724, 'AP-keyboard': 48.11162807167372, 'AP-cell phone': 33.96079522346224, 'AP-microwave': 57.251732737728155, 'AP-oven': 34.82808388165074, 'AP-toaster': 37.139569293063765, 'AP-sink': 34.2752089692779, 'AP-refrigerator': 52.040634056540405, 'AP-book': 13.308148458726537, 'AP-clock': 49.293107294149685, 'AP-vase': 33.60715023516063, 'AP-scissors': 27.958884756203144, 'AP-teddy bear': 46.41605318636219, 'AP-hair drier': 7.40638725526688, 'AP-toothbrush': 17.942809960065347}, 'elapsed': 663.9585053920746, 'model_config': 'COCO-Detection/retinanet_R_101_FPN_3x.yaml', 'finished': '2020-12-19 16:10:30', 'device': 'GeForce GTX 1070 Ti', 'type': 'Result'}>,\n",
       " <Document '63eec5765a48a594b9420849980118b3'@'1-2be4d57c7511cd0fe74b09f542eb7d8e' {'quality': 82, 'bbox': {'AP': 38.51233127376532, 'AP50': 56.336268102607065, 'AP75': 41.87680846922699, 'APs': 19.141870881808355, 'APm': 42.761721536176836, 'APl': 53.57991571631939, 'AP-person': 51.803970939499955, 'AP-bicycle': 31.597562785391425, 'AP-car': 39.24160060119619, 'AP-motorcycle': 42.329741352686334, 'AP-airplane': 63.86154538383572, 'AP-bus': 63.2312127591401, 'AP-train': 61.6954445474809, 'AP-truck': 29.863726000868617, 'AP-boat': 25.48147176716461, 'AP-traffic light': 23.026260336835534, 'AP-fire hydrant': 66.10150632769842, 'AP-stop sign': 62.39619375369393, 'AP-parking meter': 45.37327777085901, 'AP-bench': 23.303174454858706, 'AP-bird': 33.129494270951405, 'AP-cat': 67.36653946445142, 'AP-dog': 58.34565406332322, 'AP-horse': 54.43175184917956, 'AP-sheep': 46.50552385597634, 'AP-cow': 50.387148101781364, 'AP-elephant': 58.99350980911201, 'AP-bear': 67.05212833162936, 'AP-zebra': 65.80412797922948, 'AP-giraffe': 65.32915558609734, 'AP-backpack': 12.788413950218406, 'AP-umbrella': 37.89722532853732, 'AP-handbag': 11.507461428116745, 'AP-tie': 31.700897264063865, 'AP-suitcase': 34.04130138433316, 'AP-frisbee': 57.01291310934934, 'AP-skis': 22.865825642030206, 'AP-snowboard': 35.06210613675105, 'AP-sports ball': 37.9822636893205, 'AP-kite': 37.18681431872997, 'AP-baseball bat': 22.181077906358045, 'AP-baseball glove': 32.05241501076949, 'AP-skateboard': 51.788768890949754, 'AP-surfboard': 35.65071567163357, 'AP-tennis racket': 48.556273437584935, 'AP-bottle': 33.440291577627725, 'AP-wine glass': 31.98517649403335, 'AP-cup': 36.95148487945416, 'AP-fork': 31.472537193343754, 'AP-knife': 15.988712504863866, 'AP-spoon': 15.95140955350275, 'AP-bowl': 36.711601437417464, 'AP-banana': 19.633615513160013, 'AP-apple': 16.006186193460078, 'AP-sandwich': 27.61753488302262, 'AP-orange': 26.939822922919955, 'AP-broccoli': 21.344409829229637, 'AP-carrot': 21.01112157809368, 'AP-hot dog': 26.15403460397664, 'AP-pizza': 49.77594958353361, 'AP-donut': 42.15092377212782, 'AP-cake': 30.24436380955038, 'AP-chair': 23.995898799874134, 'AP-couch': 37.27101057895679, 'AP-potted plant': 26.628446327783113, 'AP-bed': 36.94448992648721, 'AP-dining table': 27.300535145109027, 'AP-toilet': 57.87253386071386, 'AP-tv': 54.181069615130326, 'AP-laptop': 59.03973404581253, 'AP-mouse': 55.615821673017884, 'AP-remote': 25.328306718763894, 'AP-keyboard': 48.94604792844218, 'AP-cell phone': 30.58428839710215, 'AP-microwave': 50.61830747391273, 'AP-oven': 32.32960735945622, 'AP-toaster': 47.19471947194719, 'AP-sink': 34.16149383139125, 'AP-refrigerator': 55.890045461248974, 'AP-book': 11.196877031620058, 'AP-clock': 45.831808001982324, 'AP-vase': 32.94763549343252, 'AP-scissors': 25.095705304208504, 'AP-teddy bear': 43.26176995710574, 'AP-hair drier': 9.158415841584159, 'AP-toothbrush': 21.286562065138135}, 'elapsed': 1585.1233820915222, 'model_config': 'COCO-Detection/faster_rcnn_R_101_C4_3x.yaml', 'finished': '2020-12-27 01:30:20', 'device': 'GeForce GTX 1070 Ti', 'type': 'Result'}>,\n",
       " <Document '63eec5765a48a594b9420849980119dd'@'1-94da60331db10759924a70de24faba0c' {'quality': 74, 'bbox': {'AP': 38.273527984851, 'AP50': 56.79659315927791, 'AP75': 42.03840414390915, 'APs': 19.364237266088015, 'APm': 42.786158352704796, 'APl': 52.09066146803938, 'AP-person': 52.0443755686969, 'AP-bicycle': 29.65358390963691, 'AP-car': 39.82558409427796, 'AP-motorcycle': 41.36786585697775, 'AP-airplane': 61.25699275433269, 'AP-bus': 63.08577466036135, 'AP-train': 61.186016657401176, 'AP-truck': 31.877378001333746, 'AP-boat': 25.33822659323059, 'AP-traffic light': 22.620924354339586, 'AP-fire hydrant': 64.01894032344244, 'AP-stop sign': 61.8450824261939, 'AP-parking meter': 42.14457076338917, 'AP-bench': 23.744600380975147, 'AP-bird': 33.64240841824896, 'AP-cat': 64.82948180442905, 'AP-dog': 58.08324618549171, 'AP-horse': 55.784181930359935, 'AP-sheep': 48.25589495467038, 'AP-cow': 50.7134083488821, 'AP-elephant': 58.53467558000239, 'AP-bear': 64.88125865364415, 'AP-zebra': 64.26189200788579, 'AP-giraffe': 65.34340837147072, 'AP-backpack': 12.964897954701254, 'AP-umbrella': 36.16423452800237, 'AP-handbag': 12.489167279311825, 'AP-tie': 28.906068740234197, 'AP-suitcase': 36.718577215191154, 'AP-frisbee': 60.97226972503035, 'AP-skis': 20.68055781029983, 'AP-snowboard': 31.318219579235883, 'AP-sports ball': 39.44242673367485, 'AP-kite': 37.116399659968316, 'AP-baseball bat': 24.845718732074403, 'AP-baseball glove': 34.59140960874919, 'AP-skateboard': 50.07681657126095, 'AP-surfboard': 34.97567794995139, 'AP-tennis racket': 46.893234567941846, 'AP-bottle': 33.82908473765179, 'AP-wine glass': 30.825104543499727, 'AP-cup': 37.75554923742932, 'AP-fork': 32.91449194245818, 'AP-knife': 14.624805760801287, 'AP-spoon': 13.06122889257505, 'AP-bowl': 38.759224543057705, 'AP-banana': 19.152861200173014, 'AP-apple': 17.89369011721259, 'AP-sandwich': 29.72954999076952, 'AP-orange': 27.253348577529962, 'AP-broccoli': 20.216655751132286, 'AP-carrot': 19.878768786606464, 'AP-hot dog': 29.716464235715712, 'AP-pizza': 49.97712037541274, 'AP-donut': 41.75655548232866, 'AP-cake': 30.93204947748746, 'AP-chair': 25.38280986282999, 'AP-couch': 39.319723011520196, 'AP-potted plant': 26.074905133757003, 'AP-bed': 37.02636550986783, 'AP-dining table': 25.906111132125293, 'AP-toilet': 57.95205370218817, 'AP-tv': 53.894606147386945, 'AP-laptop': 57.91598085097181, 'AP-mouse': 54.51608700392243, 'AP-remote': 24.820192681898195, 'AP-keyboard': 47.63797666530935, 'AP-cell phone': 30.119962067233054, 'AP-microwave': 51.99671478801425, 'AP-oven': 33.34967493858394, 'AP-toaster': 44.603960396039604, 'AP-sink': 35.597789226253, 'AP-refrigerator': 53.24145433080897, 'AP-book': 11.297701302235106, 'AP-clock': 45.095340459701596, 'AP-vase': 33.8905449369302, 'AP-scissors': 22.006125406496693, 'AP-teddy bear': 44.43077016899022, 'AP-hair drier': 5.9405940594059405, 'AP-toothbrush': 19.092792098466685}, 'elapsed': 1118.695962190628, 'model_config': 'COCO-Detection/faster_rcnn_R_101_DC5_3x.yaml', 'finished': '2020-12-25 05:02:49', 'device': 'GeForce GTX 1070 Ti', 'type': 'Result'}>,\n",
       " <Document '63eec5765a48a594b942084998012131'@'1-6eac46f26e0da890c48fe8ec1ac42694' {'quality': 13, 'bbox': {'AP': 38.680062304662414, 'AP50': 57.99630816533926, 'AP75': 41.496807331252285, 'APs': 23.34830661031759, 'APm': 42.303528281361494, 'APl': 50.31798590406332, 'AP-person': 52.52100759455163, 'AP-bicycle': 29.88896586542209, 'AP-car': 41.63549044387807, 'AP-motorcycle': 43.745312003370174, 'AP-airplane': 64.7815826452139, 'AP-bus': 65.4625750373888, 'AP-train': 60.08857818926092, 'AP-truck': 35.005331362411894, 'AP-boat': 24.643825444605422, 'AP-traffic light': 25.573822931801825, 'AP-fire hydrant': 64.25778458394981, 'AP-stop sign': 63.255033250402946, 'AP-parking meter': 42.67411915533787, 'AP-bench': 21.777184573020143, 'AP-bird': 34.57501293481875, 'AP-cat': 64.39512692900973, 'AP-dog': 58.74235187460559, 'AP-horse': 57.50172401200189, 'AP-sheep': 48.49468835586252, 'AP-cow': 52.29052522275073, 'AP-elephant': 60.16404824062226, 'AP-bear': 66.65866019501078, 'AP-zebra': 64.88868530632207, 'AP-giraffe': 64.79847788289518, 'AP-backpack': 15.426918227755666, 'AP-umbrella': 36.84226698410459, 'AP-handbag': 14.47041001209057, 'AP-tie': 30.000977959373564, 'AP-suitcase': 33.84707148414442, 'AP-frisbee': 61.772827822851625, 'AP-skis': 18.993718571999153, 'AP-snowboard': 24.56005083554846, 'AP-sports ball': 44.06547604482521, 'AP-kite': 38.528595033493055, 'AP-baseball bat': 21.740701165147946, 'AP-baseball glove': 32.980516025431896, 'AP-skateboard': 50.3085334414458, 'AP-surfboard': 32.178308385026, 'AP-tennis racket': 47.275575461741234, 'AP-bottle': 35.806417572731895, 'AP-wine glass': 35.09400161025539, 'AP-cup': 41.664436775530554, 'AP-fork': 28.001152216788594, 'AP-knife': 13.185562033749227, 'AP-spoon': 12.89095692392969, 'AP-bowl': 38.1830663758476, 'AP-banana': 20.01178915676684, 'AP-apple': 19.049400328729586, 'AP-sandwich': 30.645898369002268, 'AP-orange': 29.06395684482596, 'AP-broccoli': 20.514940899287982, 'AP-carrot': 20.96473953563115, 'AP-hot dog': 30.381805582097837, 'AP-pizza': 48.108974664577524, 'AP-donut': 39.04737980298359, 'AP-cake': 34.05483120010274, 'AP-chair': 25.552929550940956, 'AP-couch': 40.9994260970704, 'AP-potted plant': 24.738474359074168, 'AP-bed': 40.09421955922875, 'AP-dining table': 27.799156604926566, 'AP-toilet': 56.74174003413551, 'AP-tv': 54.66963455119795, 'AP-laptop': 56.977494089941736, 'AP-mouse': 60.78712739393326, 'AP-remote': 26.239212184192805, 'AP-keyboard': 45.30620646400455, 'AP-cell phone': 30.21250580436916, 'AP-microwave': 54.53650617746612, 'AP-oven': 34.64540799034766, 'AP-toaster': 34.10738479863024, 'AP-sink': 33.27787688190836, 'AP-refrigerator': 51.44048680740653, 'AP-book': 12.022275974904227, 'AP-clock': 49.12203831892252, 'AP-vase': 34.869637571696906, 'AP-scissors': 25.016152143043197, 'AP-teddy bear': 43.40266696689375, 'AP-hair drier': 7.797272578393247, 'AP-toothbrush': 16.567980088031987}, 'elapsed': 495.34644198417664, 'model_config': 'COCO-Detection/retinanet_R_50_FPN_3x.yaml', 'finished': '2020-12-19 20:58:57', 'device': 'GeForce GTX 1070 Ti', 'type': 'Result'}>,\n",
       " <Document '63eec5765a48a594b94208499801263c'@'1-1673a7792bd28d5debd5752bac23528e' {'quality': 100, 'bbox': {'AP': 36.81332543063816, 'AP50': 55.74432346371755, 'AP75': 40.48285228320967, 'APs': 18.17985773773952, 'APm': 41.35333807666891, 'APl': 50.50137591289715, 'AP-person': 50.57691080428677, 'AP-bicycle': 29.157436890839794, 'AP-car': 38.34638188147239, 'AP-motorcycle': 40.81635971921212, 'AP-airplane': 59.99183093546604, 'AP-bus': 62.349586756844275, 'AP-train': 59.70902845349416, 'AP-truck': 29.040509323702874, 'AP-boat': 23.157115259220777, 'AP-traffic light': 22.175458878632696, 'AP-fire hydrant': 61.809593203892845, 'AP-stop sign': 63.361209213167655, 'AP-parking meter': 45.4597127864719, 'AP-bench': 22.248696940233216, 'AP-bird': 31.191928165094136, 'AP-cat': 63.421352429648934, 'AP-dog': 54.21042925193162, 'AP-horse': 52.114279707901424, 'AP-sheep': 45.22740802559388, 'AP-cow': 47.11526130546406, 'AP-elephant': 57.70190952263682, 'AP-bear': 64.74411234520713, 'AP-zebra': 63.4410888000528, 'AP-giraffe': 64.18216660614608, 'AP-backpack': 13.045851087544413, 'AP-umbrella': 37.31781160631347, 'AP-handbag': 10.571750727925568, 'AP-tie': 29.09634143820553, 'AP-suitcase': 31.666791887384864, 'AP-frisbee': 60.67181478623469, 'AP-skis': 20.811325812390987, 'AP-snowboard': 29.31257274326034, 'AP-sports ball': 39.57863458284826, 'AP-kite': 37.95729370326316, 'AP-baseball bat': 24.544733095526936, 'AP-baseball glove': 31.438266457720214, 'AP-skateboard': 47.99335605541849, 'AP-surfboard': 34.29335667450902, 'AP-tennis racket': 42.68339874019675, 'AP-bottle': 31.588595730443704, 'AP-wine glass': 31.314915293337638, 'AP-cup': 35.851714960282074, 'AP-fork': 27.76817054631267, 'AP-knife': 12.928004168840879, 'AP-spoon': 13.456439483242699, 'AP-bowl': 34.73079859085878, 'AP-banana': 18.763972507148775, 'AP-apple': 17.12206480880163, 'AP-sandwich': 27.482468001884325, 'AP-orange': 25.95560488488956, 'AP-broccoli': 19.380286097099027, 'AP-carrot': 18.58019001672955, 'AP-hot dog': 30.852569820655308, 'AP-pizza': 46.95242489197178, 'AP-donut': 38.3743472954507, 'AP-cake': 29.433767380631533, 'AP-chair': 23.153066357519197, 'AP-couch': 36.57077192223064, 'AP-potted plant': 22.687414985301672, 'AP-bed': 35.47951478333902, 'AP-dining table': 25.01113666256377, 'AP-toilet': 56.31295064701788, 'AP-tv': 52.42512157465239, 'AP-laptop': 56.372826964504874, 'AP-mouse': 53.86805240437717, 'AP-remote': 22.591142242510568, 'AP-keyboard': 47.92810856774374, 'AP-cell phone': 28.35585116978212, 'AP-microwave': 50.4877538058231, 'AP-oven': 30.872484750607214, 'AP-toaster': 40.608010801080106, 'AP-sink': 32.26356722772258, 'AP-refrigerator': 51.44223021726826, 'AP-book': 9.887067081797008, 'AP-clock': 44.66604898177033, 'AP-vase': 33.40150477298444, 'AP-scissors': 22.54830765854153, 'AP-teddy bear': 42.138425902606755, 'AP-hair drier': 3.9603960396039604, 'AP-toothbrush': 18.964877845766477}, 'elapsed': 959.5859928131104, 'model_config': 'COCO-Detection/faster_rcnn_R_50_DC5_3x.yaml', 'finished': '2020-12-29 02:00:19', 'device': 'GeForce GTX 1070 Ti', 'type': 'Result'}>,\n",
       " <Document '63eec5765a48a594b942084998012794'@'1-2bf4cce013e23230e2ecb0e72a5a7f88' {'quality': 86, 'bbox': {'AP': 39.62315141020042, 'AP50': 56.986863940295365, 'AP75': 43.867873154714474, 'APs': 22.578027553443032, 'APm': 42.9443378367763, 'APl': 52.10643192607029, 'AP-person': 53.05641468477603, 'AP-bicycle': 31.18113068420435, 'AP-car': 42.99110432681394, 'AP-motorcycle': 41.83626319111957, 'AP-airplane': 63.35367597935957, 'AP-bus': 64.27183047453165, 'AP-train': 60.65353211852693, 'AP-truck': 31.527304981042793, 'AP-boat': 26.363982212997954, 'AP-traffic light': 25.80666772735204, 'AP-fire hydrant': 62.71991648748373, 'AP-stop sign': 65.39332050023295, 'AP-parking meter': 44.91155755086583, 'AP-bench': 24.497013962494776, 'AP-bird': 36.34963891886067, 'AP-cat': 66.32943678498886, 'AP-dog': 60.65887341800889, 'AP-horse': 57.241396359342566, 'AP-sheep': 49.13193728379734, 'AP-cow': 52.81053997588185, 'AP-elephant': 61.12713920385456, 'AP-bear': 69.95245293321169, 'AP-zebra': 64.42279613693252, 'AP-giraffe': 64.26543621089753, 'AP-backpack': 14.692231204208763, 'AP-umbrella': 36.56158986369249, 'AP-handbag': 13.640549876230706, 'AP-tie': 33.22232684519771, 'AP-suitcase': 39.6054943938063, 'AP-frisbee': 63.03606420187224, 'AP-skis': 23.400320833059173, 'AP-snowboard': 35.302859845012684, 'AP-sports ball': 46.649827221359736, 'AP-kite': 38.212616998741304, 'AP-baseball bat': 29.935608422472416, 'AP-baseball glove': 37.62812019014162, 'AP-skateboard': 53.44728573897266, 'AP-surfboard': 38.34079201663481, 'AP-tennis racket': 48.210838264868684, 'AP-bottle': 36.55367585828511, 'AP-wine glass': 34.597125541067186, 'AP-cup': 40.14225136448957, 'AP-fork': 36.118347843307916, 'AP-knife': 18.67689978984454, 'AP-spoon': 18.63207863850262, 'AP-bowl': 37.866392539334655, 'AP-banana': 18.21074950234784, 'AP-apple': 20.01435656659263, 'AP-sandwich': 29.8211363582134, 'AP-orange': 25.546145743522942, 'AP-broccoli': 20.20642967228571, 'AP-carrot': 18.978856904842818, 'AP-hot dog': 28.860722544139044, 'AP-pizza': 49.146909167865175, 'AP-donut': 38.759712841029184, 'AP-cake': 32.87370279440155, 'AP-chair': 25.82748689416491, 'AP-couch': 38.9112546976581, 'AP-potted plant': 24.897419394223704, 'AP-bed': 38.132203723292406, 'AP-dining table': 25.053810126538682, 'AP-toilet': 55.67390632071584, 'AP-tv': 54.78741680933443, 'AP-laptop': 58.17296712322765, 'AP-mouse': 60.294095724915785, 'AP-remote': 31.396883025298866, 'AP-keyboard': 49.381347621636564, 'AP-cell phone': 35.193831641694594, 'AP-microwave': 54.76485076277412, 'AP-oven': 30.56599233826392, 'AP-toaster': 30.495049504950494, 'AP-sink': 34.497415182121046, 'AP-refrigerator': 53.19459830344534, 'AP-book': 10.767954775427475, 'AP-clock': 47.56479370787892, 'AP-vase': 34.07200384110469, 'AP-scissors': 26.6994728044233, 'AP-teddy bear': 43.39972099820209, 'AP-hair drier': 5.247524752475248, 'AP-toothbrush': 23.114731048344016}, 'elapsed': 2671.466336965561, 'model_config': 'COCO-Detection/faster_rcnn_X_101_32x8d_FPN_3x.yaml', 'finished': '2020-12-23 01:12:11', 'device': 'GeForce GTX 1070 Ti', 'type': 'Result'}>,\n",
       " <Document '63eec5765a48a594b942084998012b6d'@'1-43577f77e33254a054380520d5f071f6' {'quality': 95, 'bbox': {'AP': 38.680062304662414, 'AP50': 57.99630816533926, 'AP75': 41.496807331252285, 'APs': 23.34830661031759, 'APm': 42.303528281361494, 'APl': 50.31798590406332, 'AP-person': 52.52100759455163, 'AP-bicycle': 29.88896586542209, 'AP-car': 41.63549044387807, 'AP-motorcycle': 43.745312003370174, 'AP-airplane': 64.7815826452139, 'AP-bus': 65.4625750373888, 'AP-train': 60.08857818926092, 'AP-truck': 35.005331362411894, 'AP-boat': 24.643825444605422, 'AP-traffic light': 25.573822931801825, 'AP-fire hydrant': 64.25778458394981, 'AP-stop sign': 63.255033250402946, 'AP-parking meter': 42.67411915533787, 'AP-bench': 21.777184573020143, 'AP-bird': 34.57501293481875, 'AP-cat': 64.39512692900973, 'AP-dog': 58.74235187460559, 'AP-horse': 57.50172401200189, 'AP-sheep': 48.49468835586252, 'AP-cow': 52.29052522275073, 'AP-elephant': 60.16404824062226, 'AP-bear': 66.65866019501078, 'AP-zebra': 64.88868530632207, 'AP-giraffe': 64.79847788289518, 'AP-backpack': 15.426918227755666, 'AP-umbrella': 36.84226698410459, 'AP-handbag': 14.47041001209057, 'AP-tie': 30.000977959373564, 'AP-suitcase': 33.84707148414442, 'AP-frisbee': 61.772827822851625, 'AP-skis': 18.993718571999153, 'AP-snowboard': 24.56005083554846, 'AP-sports ball': 44.06547604482521, 'AP-kite': 38.528595033493055, 'AP-baseball bat': 21.740701165147946, 'AP-baseball glove': 32.980516025431896, 'AP-skateboard': 50.3085334414458, 'AP-surfboard': 32.178308385026, 'AP-tennis racket': 47.275575461741234, 'AP-bottle': 35.806417572731895, 'AP-wine glass': 35.09400161025539, 'AP-cup': 41.664436775530554, 'AP-fork': 28.001152216788594, 'AP-knife': 13.185562033749227, 'AP-spoon': 12.89095692392969, 'AP-bowl': 38.1830663758476, 'AP-banana': 20.01178915676684, 'AP-apple': 19.049400328729586, 'AP-sandwich': 30.645898369002268, 'AP-orange': 29.06395684482596, 'AP-broccoli': 20.514940899287982, 'AP-carrot': 20.96473953563115, 'AP-hot dog': 30.381805582097837, 'AP-pizza': 48.108974664577524, 'AP-donut': 39.04737980298359, 'AP-cake': 34.05483120010274, 'AP-chair': 25.552929550940956, 'AP-couch': 40.9994260970704, 'AP-potted plant': 24.738474359074168, 'AP-bed': 40.09421955922875, 'AP-dining table': 27.799156604926566, 'AP-toilet': 56.74174003413551, 'AP-tv': 54.66963455119795, 'AP-laptop': 56.977494089941736, 'AP-mouse': 60.78712739393326, 'AP-remote': 26.239212184192805, 'AP-keyboard': 45.30620646400455, 'AP-cell phone': 30.21250580436916, 'AP-microwave': 54.53650617746612, 'AP-oven': 34.64540799034766, 'AP-toaster': 34.10738479863024, 'AP-sink': 33.27787688190836, 'AP-refrigerator': 51.44048680740653, 'AP-book': 12.022275974904227, 'AP-clock': 49.12203831892252, 'AP-vase': 34.869637571696906, 'AP-scissors': 25.016152143043197, 'AP-teddy bear': 43.40266696689375, 'AP-hair drier': 7.797272578393247, 'AP-toothbrush': 16.567980088031987}, 'elapsed': 495.2472507953644, 'model_config': 'COCO-Detection/retinanet_R_50_FPN_3x.yaml', 'finished': '2020-12-20 08:27:02', 'device': 'GeForce GTX 1070 Ti', 'type': 'Result'}>]"
      ]
     },
     "execution_count": 36,
     "metadata": {},
     "output_type": "execute_result"
    }
   ],
   "source": [
    "all_docs('Result')[:10]"
   ]
  },
  {
   "cell_type": "code",
   "execution_count": 37,
   "metadata": {
    "ExecuteTime": {
     "end_time": "2021-01-31T17:44:07.513015Z",
     "start_time": "2021-01-31T17:44:07.127278Z"
    }
   },
   "outputs": [],
   "source": [
    "r1 = all_docs('Result')[0]"
   ]
  },
  {
   "cell_type": "code",
   "execution_count": 39,
   "metadata": {
    "ExecuteTime": {
     "end_time": "2021-01-31T17:44:39.193311Z",
     "start_time": "2021-01-31T17:44:39.186979Z"
    }
   },
   "outputs": [
    {
     "data": {
      "text/plain": [
       "35.92233851025809"
      ]
     },
     "execution_count": 39,
     "metadata": {},
     "output_type": "execute_result"
    }
   ],
   "source": [
    "r1['bbox']['AP']"
   ]
  },
  {
   "cell_type": "code",
   "execution_count": 43,
   "metadata": {
    "ExecuteTime": {
     "end_time": "2021-01-31T17:57:29.171542Z",
     "start_time": "2021-01-31T17:57:29.165711Z"
    }
   },
   "outputs": [],
   "source": [
    "import numpy as np"
   ]
  },
  {
   "cell_type": "code",
   "execution_count": 47,
   "metadata": {
    "ExecuteTime": {
     "end_time": "2021-01-31T17:58:23.188324Z",
     "start_time": "2021-01-31T17:58:23.172051Z"
    }
   },
   "outputs": [
    {
     "data": {
      "text/plain": [
       "35.922338510258086"
      ]
     },
     "execution_count": 47,
     "metadata": {},
     "output_type": "execute_result"
    }
   ],
   "source": [
    "np.array([v for k, v in r1['bbox'].items() if k.startswith('AP-')]).mean()"
   ]
  },
  {
   "cell_type": "code",
   "execution_count": 48,
   "metadata": {
    "ExecuteTime": {
     "end_time": "2021-01-31T17:59:13.834461Z",
     "start_time": "2021-01-31T17:59:13.811847Z"
    }
   },
   "outputs": [
    {
     "data": {
      "text/plain": [
       "[(0.0, 'AP-hair drier'),\n",
       " (8.566204724333195, 'AP-book'),\n",
       " (10.681125323966338, 'AP-knife'),\n",
       " (11.197953651428227, 'AP-handbag'),\n",
       " (11.688170141356158, 'AP-spoon'),\n",
       " (11.838242601873228, 'AP-backpack'),\n",
       " (15.067221323574476, 'AP-apple'),\n",
       " (16.626220057784764, 'AP-toothbrush'),\n",
       " (18.393228808255728, 'AP-carrot'),\n",
       " (18.97311663193155, 'AP-baseball bat'),\n",
       " (19.337037847890866, 'AP-banana'),\n",
       " (19.838314886298058, 'AP-broccoli'),\n",
       " (20.926286401475217, 'AP-bench'),\n",
       " (21.08655921103732, 'AP-skis'),\n",
       " (21.48679092901218, 'AP-potted plant'),\n",
       " (21.597506081846056, 'AP-traffic light'),\n",
       " (22.932294360329315, 'AP-chair'),\n",
       " (22.943571392748463, 'AP-remote'),\n",
       " (23.692857766072077, 'AP-boat'),\n",
       " (24.21150357740346, 'AP-dining table'),\n",
       " (24.214629838008868, 'AP-orange'),\n",
       " (24.795293600902564, 'AP-tie'),\n",
       " (25.665691591329136, 'AP-sandwich'),\n",
       " (26.4233190028436, 'AP-hot dog'),\n",
       " (26.58479295562508, 'AP-fork'),\n",
       " (27.75413281275138, 'AP-truck'),\n",
       " (28.210503169987604, 'AP-scissors'),\n",
       " (28.34409629661392, 'AP-suitcase'),\n",
       " (28.348308709958758, 'AP-cake'),\n",
       " (28.40623866000101, 'AP-oven'),\n",
       " (28.60596221554314, 'AP-cell phone'),\n",
       " (29.64562261607776, 'AP-wine glass'),\n",
       " (29.708733702344393, 'AP-bicycle'),\n",
       " (29.716100435413612, 'AP-vase'),\n",
       " (30.20177992597457, 'AP-baseball glove'),\n",
       " (30.78653755649359, 'AP-bird'),\n",
       " (32.31181183942657, 'AP-bottle'),\n",
       " (32.5682264265099, 'AP-bed'),\n",
       " (33.05863185024819, 'AP-surfboard'),\n",
       " (33.06282969575791, 'AP-snowboard'),\n",
       " (33.294327764838314, 'AP-sink'),\n",
       " (33.67621672730869, 'AP-kite'),\n",
       " (34.30878976798373, 'AP-couch'),\n",
       " (34.37823118704601, 'AP-bowl'),\n",
       " (34.94758687024374, 'AP-cup'),\n",
       " (35.06156281991577, 'AP-umbrella'),\n",
       " (36.099629104547596, 'AP-donut'),\n",
       " (36.42188663550283, 'AP-sports ball'),\n",
       " (38.051859475577324, 'AP-car'),\n",
       " (40.50275480119681, 'AP-teddy bear'),\n",
       " (40.76503303047582, 'AP-motorcycle'),\n",
       " (41.83164970754759, 'AP-parking meter'),\n",
       " (43.23432343234323, 'AP-toaster'),\n",
       " (43.28604463884324, 'AP-tennis racket'),\n",
       " (43.48235087348109, 'AP-sheep'),\n",
       " (43.616293610774306, 'AP-clock'),\n",
       " (48.04566378472899, 'AP-keyboard'),\n",
       " (48.64088339988236, 'AP-skateboard'),\n",
       " (48.64997803757588, 'AP-cow'),\n",
       " (48.99600389631255, 'AP-pizza'),\n",
       " (49.49824382515213, 'AP-refrigerator'),\n",
       " (50.10282242621571, 'AP-microwave'),\n",
       " (50.59302339805936, 'AP-person'),\n",
       " (51.02402992188314, 'AP-tv'),\n",
       " (52.7405369278079, 'AP-horse'),\n",
       " (53.959409773979175, 'AP-toilet'),\n",
       " (56.13972906986425, 'AP-dog'),\n",
       " (56.77580385006794, 'AP-mouse'),\n",
       " (57.04543942172483, 'AP-train'),\n",
       " (57.04553833614491, 'AP-laptop'),\n",
       " (57.582129429627415, 'AP-frisbee'),\n",
       " (58.43295716310156, 'AP-elephant'),\n",
       " (61.21653315569304, 'AP-stop sign'),\n",
       " (61.66208253634717, 'AP-cat'),\n",
       " (61.96502107314239, 'AP-bear'),\n",
       " (62.117838550873635, 'AP-bus'),\n",
       " (62.194893947201976, 'AP-zebra'),\n",
       " (62.216422523055, 'AP-airplane'),\n",
       " (62.26338379813855, 'AP-fire hydrant'),\n",
       " (62.42272350601329, 'AP-giraffe')]"
      ]
     },
     "execution_count": 48,
     "metadata": {},
     "output_type": "execute_result"
    }
   ],
   "source": [
    "sorted([(v, k) for k, v in r1['bbox'].items() if k.startswith('AP-')])"
   ]
  },
  {
   "cell_type": "code",
   "execution_count": 53,
   "metadata": {
    "ExecuteTime": {
     "end_time": "2021-01-31T19:14:11.271936Z",
     "start_time": "2021-01-31T19:14:11.259440Z"
    }
   },
   "outputs": [
    {
     "data": {
      "text/plain": [
       "[('0201010201010202020202020202030503030303030604040305070607070706070708090b0908080a0807070a0d0a0a0b0c0c0c0c07090e0f0d0c0e0b0c0c0c',\n",
       "  {(94, 'QT1')}),\n",
       " ('0201010101010201010102020202020403020202020504040304060506060605060606070908060709070606080b08090a0a0a0a0a06080b0c0b0a0c090a0a0a',\n",
       "  {(95, 'QT1')})]"
      ]
     },
     "execution_count": 53,
     "metadata": {},
     "output_type": "execute_result"
    }
   ],
   "source": [
    "# lookning at QTs from: http://www.robertstocker.co.uk/jpeg/jpeg_new_10.htm\n",
    "[(x, v) for x, v in fake.items() if x.startswith('020101')]"
   ]
  },
  {
   "cell_type": "code",
   "execution_count": 54,
   "metadata": {
    "ExecuteTime": {
     "end_time": "2021-01-31T19:15:04.664974Z",
     "start_time": "2021-01-31T19:15:04.653919Z"
    }
   },
   "outputs": [
    {
     "data": {
      "text/plain": [
       "[]"
      ]
     },
     "execution_count": 54,
     "metadata": {},
     "output_type": "execute_result"
    }
   ],
   "source": [
    "# nope, let's look at chroma:\n",
    "[(x, v) for x, v in fake.items() if x.startswith('020203')]"
   ]
  },
  {
   "cell_type": "code",
   "execution_count": 55,
   "metadata": {
    "ExecuteTime": {
     "end_time": "2021-01-31T19:15:23.072440Z",
     "start_time": "2021-01-31T19:15:23.058490Z"
    }
   },
   "outputs": [
    {
     "data": {
      "text/plain": [
       "[('02020202020102020202030202030306040303030307050504060807090808070808090a0d0b090a0c0a08080b0f0b0c0d0e0e0f0e090b1011100e110d0e0e0e',\n",
       "  {(93, 'QT1')}),\n",
       " ('020202030303060303060c0807080c0c0c0c0c0c0c0c0c0c0c0c0c0c0c0c0c0c0c0c0c0c0c0c0c0c0c0c0c0c0c0c0c0c0c0c0c0c0c0c0c0c0c0c0c0c0c0c0c0c',\n",
       "  {(94, 'QT2')}),\n",
       " ('020202020202050303050a0706070a0a0a0a0a0a0a0a0a0a0a0a0a0a0a0a0a0a0a0a0a0a0a0a0a0a0a0a0a0a0a0a0a0a0a0a0a0a0a0a0a0a0a0a0a0a0a0a0a0a',\n",
       "  {(95, 'QT2')})]"
      ]
     },
     "execution_count": 55,
     "metadata": {},
     "output_type": "execute_result"
    }
   ],
   "source": [
    "[(x, v) for x, v in fake.items() if x.startswith('0202')]"
   ]
  },
  {
   "cell_type": "code",
   "execution_count": 68,
   "metadata": {
    "ExecuteTime": {
     "end_time": "2021-01-31T19:27:45.039794Z",
     "start_time": "2021-01-31T19:27:45.003660Z"
    }
   },
   "outputs": [
    {
     "data": {
      "text/plain": [
       "filename                                category    \n",
       "datasets/coco/val2017/000000290163.jpg  dining table     1\n",
       "datasets/coco/val2017/000000239041.jpg  tv               1\n",
       "                                        sink             1\n",
       "                                        hair drier       1\n",
       "                                        bottle           1\n",
       "                                                        ..\n",
       "datasets/coco/val2017/000000559099.jpg  cow             18\n",
       "datasets/coco/val2017/000000103548.jpg  sheep           19\n",
       "datasets/coco/val2017/000000315001.jpg  bird            20\n",
       "datasets/coco/val2017/000000147498.jpg  bird            23\n",
       "datasets/coco/val2017/000000182441.jpg  bird            26\n",
       "Length: 14631, dtype: int64"
      ]
     },
     "execution_count": 68,
     "metadata": {},
     "output_type": "execute_result"
    }
   ],
   "source": [
    "df.groupby(['filename', 'category']).size().sort_values()"
   ]
  },
  {
   "cell_type": "code",
   "execution_count": 87,
   "metadata": {
    "ExecuteTime": {
     "end_time": "2021-01-31T19:39:12.337388Z",
     "start_time": "2021-01-31T19:39:12.315834Z"
    }
   },
   "outputs": [
    {
     "data": {
      "text/plain": [
       "datasets/coco/val2017/000000435081.jpg    63\n",
       "datasets/coco/val2017/000000303566.jpg    56\n",
       "datasets/coco/val2017/000000470924.jpg    56\n",
       "datasets/coco/val2017/000000018380.jpg    54\n",
       "datasets/coco/val2017/000000031296.jpg    53\n",
       "                                          ..\n",
       "datasets/coco/val2017/000000071451.jpg     1\n",
       "datasets/coco/val2017/000000331075.jpg     1\n",
       "datasets/coco/val2017/000000543300.jpg     1\n",
       "datasets/coco/val2017/000000377000.jpg     1\n",
       "datasets/coco/val2017/000000404191.jpg     1\n",
       "Name: filename, Length: 4952, dtype: int64"
      ]
     },
     "execution_count": 87,
     "metadata": {},
     "output_type": "execute_result"
    }
   ],
   "source": [
    "df['filename'].value_counts()"
   ]
  },
  {
   "cell_type": "code",
   "execution_count": null,
   "metadata": {
    "ExecuteTime": {
     "end_time": "2021-01-31T19:39:12.792019Z",
     "start_time": "2021-01-31T19:39:12.779252Z"
    }
   },
   "outputs": [],
   "source": [
    "# Image('datasets/coco/val2017/000000435081.jpg')\n",
    "for img in _.index[:2]:\n",
    "    display(Image(img))"
   ]
  },
  {
   "cell_type": "code",
   "execution_count": 76,
   "metadata": {
    "ExecuteTime": {
     "end_time": "2021-01-31T19:32:15.133580Z",
     "start_time": "2021-01-31T19:32:15.129694Z"
    }
   },
   "outputs": [],
   "source": [
    "import matplotlib.pyplot as plt"
   ]
  },
  {
   "cell_type": "code",
   "execution_count": 80,
   "metadata": {
    "ExecuteTime": {
     "end_time": "2021-01-31T19:33:34.232907Z",
     "start_time": "2021-01-31T19:33:34.109213Z"
    }
   },
   "outputs": [
    {
     "data": {
      "text/plain": [
       "[<matplotlib.lines.Line2D at 0x7fe63f4fd410>]"
      ]
     },
     "execution_count": 80,
     "metadata": {},
     "output_type": "execute_result"
    },
    {
     "data": {
      "image/png": "[encoded data removed]",
      "text/plain": [
       "<Figure size 432x288 with 1 Axes>"
      ]
     },
     "metadata": {
      "needs_background": "light"
     },
     "output_type": "display_data"
    }
   ],
   "source": [
    "plt.plot(df['filename'].value_counts().values)"
   ]
  },
  {
   "cell_type": "code",
   "execution_count": 78,
   "metadata": {
    "ExecuteTime": {
     "end_time": "2021-01-31T19:33:16.874072Z",
     "start_time": "2021-01-31T19:33:16.871947Z"
    }
   },
   "outputs": [],
   "source": [
    "plt.show()"
   ]
  },
  {
   "cell_type": "code",
   "execution_count": 81,
   "metadata": {
    "ExecuteTime": {
     "end_time": "2021-01-31T19:35:22.704481Z",
     "start_time": "2021-01-31T19:35:20.839554Z"
    }
   },
   "outputs": [],
   "source": [
    "res = load('evaluator_dump_R50_075/coco_instances_results.json')"
   ]
  },
  {
   "cell_type": "code",
   "execution_count": 83,
   "metadata": {
    "ExecuteTime": {
     "end_time": "2021-01-31T19:35:43.933994Z",
     "start_time": "2021-01-31T19:35:43.539038Z"
    }
   },
   "outputs": [
    {
     "data": {
      "text/html": [
       "<div>\n",
       "<style scoped>\n",
       "    .dataframe tbody tr th:only-of-type {\n",
       "        vertical-align: middle;\n",
       "    }\n",
       "\n",
       "    .dataframe tbody tr th {\n",
       "        vertical-align: top;\n",
       "    }\n",
       "\n",
       "    .dataframe thead th {\n",
       "        text-align: right;\n",
       "    }\n",
       "</style>\n",
       "<table border=\"1\" class=\"dataframe\">\n",
       "  <thead>\n",
       "    <tr style=\"text-align: right;\">\n",
       "      <th></th>\n",
       "      <th>image_id</th>\n",
       "      <th>category_id</th>\n",
       "      <th>bbox</th>\n",
       "      <th>score</th>\n",
       "    </tr>\n",
       "  </thead>\n",
       "  <tbody>\n",
       "    <tr>\n",
       "      <th>0</th>\n",
       "      <td>139</td>\n",
       "      <td>72</td>\n",
       "      <td>[4.789795398712158, 165.6790771484375, 150.306...</td>\n",
       "      <td>0.863024</td>\n",
       "    </tr>\n",
       "    <tr>\n",
       "      <th>1</th>\n",
       "      <td>139</td>\n",
       "      <td>62</td>\n",
       "      <td>[294.8429870605469, 218.08056640625, 56.301605...</td>\n",
       "      <td>0.811822</td>\n",
       "    </tr>\n",
       "    <tr>\n",
       "      <th>2</th>\n",
       "      <td>139</td>\n",
       "      <td>62</td>\n",
       "      <td>[363.4383850097656, 219.9794921875, 67.6530761...</td>\n",
       "      <td>0.743908</td>\n",
       "    </tr>\n",
       "    <tr>\n",
       "      <th>3</th>\n",
       "      <td>139</td>\n",
       "      <td>86</td>\n",
       "      <td>[166.81060791015625, 232.972412109375, 18.6255...</td>\n",
       "      <td>0.699434</td>\n",
       "    </tr>\n",
       "    <tr>\n",
       "      <th>4</th>\n",
       "      <td>139</td>\n",
       "      <td>1</td>\n",
       "      <td>[420.2927551269531, 157.10125732421875, 42.886...</td>\n",
       "      <td>0.694363</td>\n",
       "    </tr>\n",
       "    <tr>\n",
       "      <th>...</th>\n",
       "      <td>...</td>\n",
       "      <td>...</td>\n",
       "      <td>...</td>\n",
       "      <td>...</td>\n",
       "    </tr>\n",
       "    <tr>\n",
       "      <th>402951</th>\n",
       "      <td>581781</td>\n",
       "      <td>52</td>\n",
       "      <td>[469.3309326171875, 191.95555114746094, 81.766...</td>\n",
       "      <td>0.140049</td>\n",
       "    </tr>\n",
       "    <tr>\n",
       "      <th>402952</th>\n",
       "      <td>581781</td>\n",
       "      <td>52</td>\n",
       "      <td>[184.40492248535156, 295.5135498046875, 241.29...</td>\n",
       "      <td>0.138535</td>\n",
       "    </tr>\n",
       "    <tr>\n",
       "      <th>402953</th>\n",
       "      <td>581781</td>\n",
       "      <td>52</td>\n",
       "      <td>[95.07391357421875, 192.88121032714844, 76.654...</td>\n",
       "      <td>0.138366</td>\n",
       "    </tr>\n",
       "    <tr>\n",
       "      <th>402954</th>\n",
       "      <td>581781</td>\n",
       "      <td>57</td>\n",
       "      <td>[0.0, 320.87982177734375, 225.0288543701172, 1...</td>\n",
       "      <td>0.136587</td>\n",
       "    </tr>\n",
       "    <tr>\n",
       "      <th>402955</th>\n",
       "      <td>581781</td>\n",
       "      <td>52</td>\n",
       "      <td>[476.71148681640625, 0.0, 129.88592529296875, ...</td>\n",
       "      <td>0.136550</td>\n",
       "    </tr>\n",
       "  </tbody>\n",
       "</table>\n",
       "<p>402956 rows × 4 columns</p>\n",
       "</div>"
      ],
      "text/plain": [
       "        image_id  category_id  \\\n",
       "0            139           72   \n",
       "1            139           62   \n",
       "2            139           62   \n",
       "3            139           86   \n",
       "4            139            1   \n",
       "...          ...          ...   \n",
       "402951    581781           52   \n",
       "402952    581781           52   \n",
       "402953    581781           52   \n",
       "402954    581781           57   \n",
       "402955    581781           52   \n",
       "\n",
       "                                                     bbox     score  \n",
       "0       [4.789795398712158, 165.6790771484375, 150.306...  0.863024  \n",
       "1       [294.8429870605469, 218.08056640625, 56.301605...  0.811822  \n",
       "2       [363.4383850097656, 219.9794921875, 67.6530761...  0.743908  \n",
       "3       [166.81060791015625, 232.972412109375, 18.6255...  0.699434  \n",
       "4       [420.2927551269531, 157.10125732421875, 42.886...  0.694363  \n",
       "...                                                   ...       ...  \n",
       "402951  [469.3309326171875, 191.95555114746094, 81.766...  0.140049  \n",
       "402952  [184.40492248535156, 295.5135498046875, 241.29...  0.138535  \n",
       "402953  [95.07391357421875, 192.88121032714844, 76.654...  0.138366  \n",
       "402954  [0.0, 320.87982177734375, 225.0288543701172, 1...  0.136587  \n",
       "402955  [476.71148681640625, 0.0, 129.88592529296875, ...  0.136550  \n",
       "\n",
       "[402956 rows x 4 columns]"
      ]
     },
     "execution_count": 83,
     "metadata": {},
     "output_type": "execute_result"
    }
   ],
   "source": [
    "rdf = pd.DataFrame(res)\n",
    "rdf"
   ]
  },
  {
   "cell_type": "code",
   "execution_count": 84,
   "metadata": {
    "ExecuteTime": {
     "end_time": "2021-01-31T19:36:04.235341Z",
     "start_time": "2021-01-31T19:36:04.227470Z"
    }
   },
   "outputs": [
    {
     "data": {
      "text/plain": [
       "477288    100\n",
       "35963     100\n",
       "376284    100\n",
       "177213    100\n",
       "345027    100\n",
       "         ... \n",
       "404568      2\n",
       "229747      1\n",
       "379453      1\n",
       "155571      1\n",
       "514540      1\n",
       "Name: image_id, Length: 5000, dtype: int64"
      ]
     },
     "execution_count": 84,
     "metadata": {},
     "output_type": "execute_result"
    }
   ],
   "source": [
    "rdf['image_id'].value_counts()"
   ]
  },
  {
   "cell_type": "code",
   "execution_count": 85,
   "metadata": {
    "ExecuteTime": {
     "end_time": "2021-01-31T19:36:29.545199Z",
     "start_time": "2021-01-31T19:36:29.422816Z"
    }
   },
   "outputs": [
    {
     "data": {
      "text/plain": [
       "[<matplotlib.lines.Line2D at 0x7fe63f07c510>]"
      ]
     },
     "execution_count": 85,
     "metadata": {},
     "output_type": "execute_result"
    },
    {
     "data": {
      "image/png": "[encoded data removed]",
      "text/plain": [
       "<Figure size 432x288 with 1 Axes>"
      ]
     },
     "metadata": {
      "needs_background": "light"
     },
     "output_type": "display_data"
    }
   ],
   "source": [
    "plt.plot(rdf['image_id'].value_counts().values)"
   ]
  },
  {
   "cell_type": "code",
   "execution_count": 89,
   "metadata": {
    "ExecuteTime": {
     "end_time": "2021-01-31T19:40:56.090692Z",
     "start_time": "2021-01-31T19:40:56.046344Z"
    }
   },
   "outputs": [
    {
     "data": {
      "text/html": [
       "<div>\n",
       "<style scoped>\n",
       "    .dataframe tbody tr th:only-of-type {\n",
       "        vertical-align: middle;\n",
       "    }\n",
       "\n",
       "    .dataframe tbody tr th {\n",
       "        vertical-align: top;\n",
       "    }\n",
       "\n",
       "    .dataframe thead th {\n",
       "        text-align: right;\n",
       "    }\n",
       "</style>\n",
       "<table border=\"1\" class=\"dataframe\">\n",
       "  <thead>\n",
       "    <tr style=\"text-align: right;\">\n",
       "      <th></th>\n",
       "      <th>image_id</th>\n",
       "      <th>category_id</th>\n",
       "      <th>bbox</th>\n",
       "      <th>score</th>\n",
       "    </tr>\n",
       "  </thead>\n",
       "  <tbody>\n",
       "    <tr>\n",
       "      <th>0</th>\n",
       "      <td>139</td>\n",
       "      <td>72</td>\n",
       "      <td>[4.789795398712158, 165.6790771484375, 150.306...</td>\n",
       "      <td>0.863024</td>\n",
       "    </tr>\n",
       "    <tr>\n",
       "      <th>1</th>\n",
       "      <td>139</td>\n",
       "      <td>62</td>\n",
       "      <td>[294.8429870605469, 218.08056640625, 56.301605...</td>\n",
       "      <td>0.811822</td>\n",
       "    </tr>\n",
       "    <tr>\n",
       "      <th>2</th>\n",
       "      <td>139</td>\n",
       "      <td>62</td>\n",
       "      <td>[363.4383850097656, 219.9794921875, 67.6530761...</td>\n",
       "      <td>0.743908</td>\n",
       "    </tr>\n",
       "    <tr>\n",
       "      <th>3</th>\n",
       "      <td>139</td>\n",
       "      <td>86</td>\n",
       "      <td>[166.81060791015625, 232.972412109375, 18.6255...</td>\n",
       "      <td>0.699434</td>\n",
       "    </tr>\n",
       "    <tr>\n",
       "      <th>4</th>\n",
       "      <td>139</td>\n",
       "      <td>1</td>\n",
       "      <td>[420.2927551269531, 157.10125732421875, 42.886...</td>\n",
       "      <td>0.694363</td>\n",
       "    </tr>\n",
       "    <tr>\n",
       "      <th>...</th>\n",
       "      <td>...</td>\n",
       "      <td>...</td>\n",
       "      <td>...</td>\n",
       "      <td>...</td>\n",
       "    </tr>\n",
       "    <tr>\n",
       "      <th>402860</th>\n",
       "      <td>581781</td>\n",
       "      <td>52</td>\n",
       "      <td>[46.34431457519531, 85.9689712524414, 133.9387...</td>\n",
       "      <td>0.603461</td>\n",
       "    </tr>\n",
       "    <tr>\n",
       "      <th>402861</th>\n",
       "      <td>581781</td>\n",
       "      <td>52</td>\n",
       "      <td>[547.4644775390625, 1.8324923515319824, 91.600...</td>\n",
       "      <td>0.599027</td>\n",
       "    </tr>\n",
       "    <tr>\n",
       "      <th>402862</th>\n",
       "      <td>581781</td>\n",
       "      <td>52</td>\n",
       "      <td>[133.11570739746094, 225.24658203125, 300.4082...</td>\n",
       "      <td>0.567392</td>\n",
       "    </tr>\n",
       "    <tr>\n",
       "      <th>402863</th>\n",
       "      <td>581781</td>\n",
       "      <td>52</td>\n",
       "      <td>[515.0420532226562, 0.5221390128135681, 41.982...</td>\n",
       "      <td>0.524803</td>\n",
       "    </tr>\n",
       "    <tr>\n",
       "      <th>402864</th>\n",
       "      <td>581781</td>\n",
       "      <td>52</td>\n",
       "      <td>[3.159662961959839, 0.4029131829738617, 47.731...</td>\n",
       "      <td>0.511849</td>\n",
       "    </tr>\n",
       "  </tbody>\n",
       "</table>\n",
       "<p>21996 rows × 4 columns</p>\n",
       "</div>"
      ],
      "text/plain": [
       "        image_id  category_id  \\\n",
       "0            139           72   \n",
       "1            139           62   \n",
       "2            139           62   \n",
       "3            139           86   \n",
       "4            139            1   \n",
       "...          ...          ...   \n",
       "402860    581781           52   \n",
       "402861    581781           52   \n",
       "402862    581781           52   \n",
       "402863    581781           52   \n",
       "402864    581781           52   \n",
       "\n",
       "                                                     bbox     score  \n",
       "0       [4.789795398712158, 165.6790771484375, 150.306...  0.863024  \n",
       "1       [294.8429870605469, 218.08056640625, 56.301605...  0.811822  \n",
       "2       [363.4383850097656, 219.9794921875, 67.6530761...  0.743908  \n",
       "3       [166.81060791015625, 232.972412109375, 18.6255...  0.699434  \n",
       "4       [420.2927551269531, 157.10125732421875, 42.886...  0.694363  \n",
       "...                                                   ...       ...  \n",
       "402860  [46.34431457519531, 85.9689712524414, 133.9387...  0.603461  \n",
       "402861  [547.4644775390625, 1.8324923515319824, 91.600...  0.599027  \n",
       "402862  [133.11570739746094, 225.24658203125, 300.4082...  0.567392  \n",
       "402863  [515.0420532226562, 0.5221390128135681, 41.982...  0.524803  \n",
       "402864  [3.159662961959839, 0.4029131829738617, 47.731...  0.511849  \n",
       "\n",
       "[21996 rows x 4 columns]"
      ]
     },
     "execution_count": 89,
     "metadata": {},
     "output_type": "execute_result"
    }
   ],
   "source": [
    "rdf[rdf.score > 0.5]"
   ]
  },
  {
   "cell_type": "code",
   "execution_count": 90,
   "metadata": {
    "ExecuteTime": {
     "end_time": "2021-01-31T19:41:18.279300Z",
     "start_time": "2021-01-31T19:41:18.270470Z"
    }
   },
   "outputs": [
    {
     "data": {
      "text/plain": [
       "18380     34\n",
       "238866    34\n",
       "414795    32\n",
       "210273    32\n",
       "470924    32\n",
       "          ..\n",
       "109916     1\n",
       "493442     1\n",
       "402765     1\n",
       "167240     1\n",
       "139260     1\n",
       "Name: image_id, Length: 4844, dtype: int64"
      ]
     },
     "execution_count": 90,
     "metadata": {},
     "output_type": "execute_result"
    }
   ],
   "source": [
    "rdf[rdf.score > 0.5]['image_id'].value_counts()"
   ]
  },
  {
   "cell_type": "code",
   "execution_count": 91,
   "metadata": {
    "ExecuteTime": {
     "end_time": "2021-01-31T19:42:24.815347Z",
     "start_time": "2021-01-31T19:42:24.709825Z"
    }
   },
   "outputs": [
    {
     "data": {
      "text/plain": [
       "[<matplotlib.lines.Line2D at 0x7fe63f13d990>]"
      ]
     },
     "execution_count": 91,
     "metadata": {},
     "output_type": "execute_result"
    },
    {
     "data": {
      "image/png": "[encoded data removed]",
      "text/plain": [
       "<Figure size 432x288 with 1 Axes>"
      ]
     },
     "metadata": {
      "needs_background": "light"
     },
     "output_type": "display_data"
    }
   ],
   "source": [
    "plt.plot(_.values)"
   ]
  },
  {
   "cell_type": "code",
   "execution_count": 94,
   "metadata": {
    "ExecuteTime": {
     "end_time": "2021-01-31T21:33:00.438878Z",
     "start_time": "2021-01-31T21:33:00.413994Z"
    }
   },
   "outputs": [
    {
     "data": {
      "text/html": [
       "<div>\n",
       "<style scoped>\n",
       "    .dataframe tbody tr th:only-of-type {\n",
       "        vertical-align: middle;\n",
       "    }\n",
       "\n",
       "    .dataframe tbody tr th {\n",
       "        vertical-align: top;\n",
       "    }\n",
       "\n",
       "    .dataframe thead th {\n",
       "        text-align: right;\n",
       "    }\n",
       "</style>\n",
       "<table border=\"1\" class=\"dataframe\">\n",
       "  <thead>\n",
       "    <tr style=\"text-align: right;\">\n",
       "      <th></th>\n",
       "      <th>iscrowd</th>\n",
       "      <th>bbox</th>\n",
       "      <th>category_id</th>\n",
       "      <th>filename</th>\n",
       "      <th>category</th>\n",
       "    </tr>\n",
       "  </thead>\n",
       "  <tbody>\n",
       "    <tr>\n",
       "      <th>8</th>\n",
       "      <td>0</td>\n",
       "      <td>[384.43, 172.21, 15.12, 35.74]</td>\n",
       "      <td>0</td>\n",
       "      <td>datasets/coco/val2017/000000000139.jpg</td>\n",
       "      <td>person</td>\n",
       "    </tr>\n",
       "    <tr>\n",
       "      <th>7</th>\n",
       "      <td>0</td>\n",
       "      <td>[412.8, 157.61, 53.05, 138.01]</td>\n",
       "      <td>0</td>\n",
       "      <td>datasets/coco/val2017/000000000139.jpg</td>\n",
       "      <td>person</td>\n",
       "    </tr>\n",
       "    <tr>\n",
       "      <th>16</th>\n",
       "      <td>0</td>\n",
       "      <td>[412.25, 219.02, 9.63, 12.52]</td>\n",
       "      <td>56</td>\n",
       "      <td>datasets/coco/val2017/000000000139.jpg</td>\n",
       "      <td>chair</td>\n",
       "    </tr>\n",
       "    <tr>\n",
       "      <th>3</th>\n",
       "      <td>0</td>\n",
       "      <td>[358.98, 218.05, 56.0, 102.83]</td>\n",
       "      <td>56</td>\n",
       "      <td>datasets/coco/val2017/000000000139.jpg</td>\n",
       "      <td>chair</td>\n",
       "    </tr>\n",
       "    <tr>\n",
       "      <th>4</th>\n",
       "      <td>0</td>\n",
       "      <td>[290.69, 218.0, 61.83, 98.48]</td>\n",
       "      <td>56</td>\n",
       "      <td>datasets/coco/val2017/000000000139.jpg</td>\n",
       "      <td>chair</td>\n",
       "    </tr>\n",
       "    <tr>\n",
       "      <th>5</th>\n",
       "      <td>0</td>\n",
       "      <td>[413.2, 223.01, 30.17, 81.36]</td>\n",
       "      <td>56</td>\n",
       "      <td>datasets/coco/val2017/000000000139.jpg</td>\n",
       "      <td>chair</td>\n",
       "    </tr>\n",
       "    <tr>\n",
       "      <th>6</th>\n",
       "      <td>0</td>\n",
       "      <td>[317.4, 219.24, 21.58, 11.59]</td>\n",
       "      <td>56</td>\n",
       "      <td>datasets/coco/val2017/000000000139.jpg</td>\n",
       "      <td>chair</td>\n",
       "    </tr>\n",
       "    <tr>\n",
       "      <th>0</th>\n",
       "      <td>0</td>\n",
       "      <td>[236.98, 142.51, 24.7, 69.5]</td>\n",
       "      <td>58</td>\n",
       "      <td>datasets/coco/val2017/000000000139.jpg</td>\n",
       "      <td>potted plant</td>\n",
       "    </tr>\n",
       "    <tr>\n",
       "      <th>19</th>\n",
       "      <td>0</td>\n",
       "      <td>[321.21, 231.22, 125.56, 88.93]</td>\n",
       "      <td>60</td>\n",
       "      <td>datasets/coco/val2017/000000000139.jpg</td>\n",
       "      <td>dining table</td>\n",
       "    </tr>\n",
       "    <tr>\n",
       "      <th>1</th>\n",
       "      <td>0</td>\n",
       "      <td>[7.03, 167.76, 149.32, 94.87]</td>\n",
       "      <td>62</td>\n",
       "      <td>datasets/coco/val2017/000000000139.jpg</td>\n",
       "      <td>tv</td>\n",
       "    </tr>\n",
       "    <tr>\n",
       "      <th>2</th>\n",
       "      <td>0</td>\n",
       "      <td>[557.21, 209.19, 81.35, 78.73]</td>\n",
       "      <td>62</td>\n",
       "      <td>datasets/coco/val2017/000000000139.jpg</td>\n",
       "      <td>tv</td>\n",
       "    </tr>\n",
       "    <tr>\n",
       "      <th>9</th>\n",
       "      <td>0</td>\n",
       "      <td>[512.22, 205.75, 14.74, 15.97]</td>\n",
       "      <td>68</td>\n",
       "      <td>datasets/coco/val2017/000000000139.jpg</td>\n",
       "      <td>microwave</td>\n",
       "    </tr>\n",
       "    <tr>\n",
       "      <th>10</th>\n",
       "      <td>0</td>\n",
       "      <td>[493.1, 174.34, 20.29, 108.31]</td>\n",
       "      <td>72</td>\n",
       "      <td>datasets/coco/val2017/000000000139.jpg</td>\n",
       "      <td>refrigerator</td>\n",
       "    </tr>\n",
       "    <tr>\n",
       "      <th>11</th>\n",
       "      <td>0</td>\n",
       "      <td>[604.77, 305.89, 14.34, 45.71]</td>\n",
       "      <td>73</td>\n",
       "      <td>datasets/coco/val2017/000000000139.jpg</td>\n",
       "      <td>book</td>\n",
       "    </tr>\n",
       "    <tr>\n",
       "      <th>12</th>\n",
       "      <td>0</td>\n",
       "      <td>[613.24, 308.24, 12.88, 46.44]</td>\n",
       "      <td>73</td>\n",
       "      <td>datasets/coco/val2017/000000000139.jpg</td>\n",
       "      <td>book</td>\n",
       "    </tr>\n",
       "    <tr>\n",
       "      <th>13</th>\n",
       "      <td>0</td>\n",
       "      <td>[447.77, 121.12, 13.97, 21.88]</td>\n",
       "      <td>74</td>\n",
       "      <td>datasets/coco/val2017/000000000139.jpg</td>\n",
       "      <td>clock</td>\n",
       "    </tr>\n",
       "    <tr>\n",
       "      <th>18</th>\n",
       "      <td>0</td>\n",
       "      <td>[336.79, 199.5, 9.73, 16.73]</td>\n",
       "      <td>75</td>\n",
       "      <td>datasets/coco/val2017/000000000139.jpg</td>\n",
       "      <td>vase</td>\n",
       "    </tr>\n",
       "    <tr>\n",
       "      <th>14</th>\n",
       "      <td>0</td>\n",
       "      <td>[549.06, 309.43, 36.68, 89.67]</td>\n",
       "      <td>75</td>\n",
       "      <td>datasets/coco/val2017/000000000139.jpg</td>\n",
       "      <td>vase</td>\n",
       "    </tr>\n",
       "    <tr>\n",
       "      <th>15</th>\n",
       "      <td>0</td>\n",
       "      <td>[350.76, 208.84, 11.37, 22.55]</td>\n",
       "      <td>75</td>\n",
       "      <td>datasets/coco/val2017/000000000139.jpg</td>\n",
       "      <td>vase</td>\n",
       "    </tr>\n",
       "    <tr>\n",
       "      <th>17</th>\n",
       "      <td>0</td>\n",
       "      <td>[241.24, 194.99, 14.22, 17.63]</td>\n",
       "      <td>75</td>\n",
       "      <td>datasets/coco/val2017/000000000139.jpg</td>\n",
       "      <td>vase</td>\n",
       "    </tr>\n",
       "  </tbody>\n",
       "</table>\n",
       "</div>"
      ],
      "text/plain": [
       "    iscrowd                             bbox  category_id  \\\n",
       "8         0   [384.43, 172.21, 15.12, 35.74]            0   \n",
       "7         0   [412.8, 157.61, 53.05, 138.01]            0   \n",
       "16        0    [412.25, 219.02, 9.63, 12.52]           56   \n",
       "3         0   [358.98, 218.05, 56.0, 102.83]           56   \n",
       "4         0    [290.69, 218.0, 61.83, 98.48]           56   \n",
       "5         0    [413.2, 223.01, 30.17, 81.36]           56   \n",
       "6         0    [317.4, 219.24, 21.58, 11.59]           56   \n",
       "0         0     [236.98, 142.51, 24.7, 69.5]           58   \n",
       "19        0  [321.21, 231.22, 125.56, 88.93]           60   \n",
       "1         0    [7.03, 167.76, 149.32, 94.87]           62   \n",
       "2         0   [557.21, 209.19, 81.35, 78.73]           62   \n",
       "9         0   [512.22, 205.75, 14.74, 15.97]           68   \n",
       "10        0   [493.1, 174.34, 20.29, 108.31]           72   \n",
       "11        0   [604.77, 305.89, 14.34, 45.71]           73   \n",
       "12        0   [613.24, 308.24, 12.88, 46.44]           73   \n",
       "13        0   [447.77, 121.12, 13.97, 21.88]           74   \n",
       "18        0     [336.79, 199.5, 9.73, 16.73]           75   \n",
       "14        0   [549.06, 309.43, 36.68, 89.67]           75   \n",
       "15        0   [350.76, 208.84, 11.37, 22.55]           75   \n",
       "17        0   [241.24, 194.99, 14.22, 17.63]           75   \n",
       "\n",
       "                                  filename      category  \n",
       "8   datasets/coco/val2017/000000000139.jpg        person  \n",
       "7   datasets/coco/val2017/000000000139.jpg        person  \n",
       "16  datasets/coco/val2017/000000000139.jpg         chair  \n",
       "3   datasets/coco/val2017/000000000139.jpg         chair  \n",
       "4   datasets/coco/val2017/000000000139.jpg         chair  \n",
       "5   datasets/coco/val2017/000000000139.jpg         chair  \n",
       "6   datasets/coco/val2017/000000000139.jpg         chair  \n",
       "0   datasets/coco/val2017/000000000139.jpg  potted plant  \n",
       "19  datasets/coco/val2017/000000000139.jpg  dining table  \n",
       "1   datasets/coco/val2017/000000000139.jpg            tv  \n",
       "2   datasets/coco/val2017/000000000139.jpg            tv  \n",
       "9   datasets/coco/val2017/000000000139.jpg     microwave  \n",
       "10  datasets/coco/val2017/000000000139.jpg  refrigerator  \n",
       "11  datasets/coco/val2017/000000000139.jpg          book  \n",
       "12  datasets/coco/val2017/000000000139.jpg          book  \n",
       "13  datasets/coco/val2017/000000000139.jpg         clock  \n",
       "18  datasets/coco/val2017/000000000139.jpg          vase  \n",
       "14  datasets/coco/val2017/000000000139.jpg          vase  \n",
       "15  datasets/coco/val2017/000000000139.jpg          vase  \n",
       "17  datasets/coco/val2017/000000000139.jpg          vase  "
      ]
     },
     "execution_count": 94,
     "metadata": {},
     "output_type": "execute_result"
    }
   ],
   "source": [
    "df[df.filename == 'datasets/coco/val2017/000000000139.jpg'].sort_values('category_id')"
   ]
  },
  {
   "cell_type": "code",
   "execution_count": null,
   "metadata": {},
   "outputs": [],
   "source": []
  }
 ],
 "metadata": {
  "kernelspec": {
   "display_name": "Python 3",
   "language": "python",
   "name": "python3"
  },
  "language_info": {
   "codemirror_mode": {
    "name": "ipython",
    "version": 3
   },
   "file_extension": ".py",
   "mimetype": "text/x-python",
   "name": "python",
   "nbconvert_exporter": "python",
   "pygments_lexer": "ipython3",
   "version": "3.7.6"
  },
  "toc": {
   "base_numbering": 1,
   "nav_menu": {},
   "number_sections": true,
   "sideBar": true,
   "skip_h1_title": false,
   "title_cell": "Table of Contents",
   "title_sidebar": "Contents",
   "toc_cell": false,
   "toc_position": {},
   "toc_section_display": true,
   "toc_window_display": false
  }
 },
 "nbformat": 4,
 "nbformat_minor": 4
}
