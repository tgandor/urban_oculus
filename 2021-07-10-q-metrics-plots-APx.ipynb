{
 "cells": [
  {
   "cell_type": "code",
   "execution_count": null,
   "id": "4dd84e98",
   "metadata": {
    "ExecuteTime": {
     "end_time": "2021-07-10T00:58:51.927043Z",
     "start_time": "2021-07-10T00:58:51.055397Z"
    }
   },
   "outputs": [],
   "source": [
    "import logging\n",
    "import os\n",
    "from evaldets.results import *\n",
    "from evaldets.postprocess import *\n",
    "import matplotlib.pyplot as plt\n",
    "import numpy as np\n",
    "import pandas as pd\n",
    "from uo.utils import *\n",
    "\n",
    "# logging.basicConfig(level=logging.DEBUG)\n",
    "logging.basicConfig(level=logging.INFO)"
   ]
  },
  {
   "cell_type": "code",
   "execution_count": null,
   "id": "ebad5a6f",
   "metadata": {
    "ExecuteTime": {
     "end_time": "2021-07-10T00:58:51.932073Z",
     "start_time": "2021-07-10T00:58:51.928554Z"
    }
   },
   "outputs": [],
   "source": [
    "s = GrandSummary('~/reval_50/')"
   ]
  },
  {
   "cell_type": "code",
   "execution_count": null,
   "id": "0f211bfd",
   "metadata": {
    "ExecuteTime": {
     "end_time": "2021-07-10T00:58:52.852483Z",
     "start_time": "2021-07-10T00:58:51.933642Z"
    },
    "scrolled": true
   },
   "outputs": [],
   "source": [
    "fig, axes = get_figure_axes()\n",
    "s.plot_ap_summaries(axes, order=DEFAULT_ORDER, legend=False)\n",
    "finish_plot(fig, axes)"
   ]
  },
  {
   "cell_type": "code",
   "execution_count": null,
   "id": "eff43432",
   "metadata": {
    "ExecuteTime": {
     "end_time": "2021-07-10T00:58:53.040958Z",
     "start_time": "2021-07-10T00:58:52.853941Z"
    }
   },
   "outputs": [],
   "source": [
    "fig.savefig('all_50_AP_Q.pdf')"
   ]
  },
  {
   "cell_type": "code",
   "execution_count": null,
   "id": "c48a1142",
   "metadata": {
    "ExecuteTime": {
     "end_time": "2021-07-10T00:58:53.045814Z",
     "start_time": "2021-07-10T00:58:53.042323Z"
    }
   },
   "outputs": [],
   "source": [
    "s = GrandSummary('~/reval_05/')"
   ]
  },
  {
   "cell_type": "code",
   "execution_count": null,
   "id": "60c70c05",
   "metadata": {
    "ExecuteTime": {
     "end_time": "2021-07-10T00:58:54.204525Z",
     "start_time": "2021-07-10T00:58:53.046877Z"
    },
    "scrolled": true
   },
   "outputs": [],
   "source": [
    "fig, axes = get_figure_axes()\n",
    "s.plot_ap_summaries(axes, order=DEFAULT_ORDER, legend=False)\n",
    "finish_plot(fig, axes)"
   ]
  },
  {
   "cell_type": "code",
   "execution_count": null,
   "id": "d540d492",
   "metadata": {
    "ExecuteTime": {
     "end_time": "2021-07-10T00:58:54.385013Z",
     "start_time": "2021-07-10T00:58:54.205976Z"
    }
   },
   "outputs": [],
   "source": [
    "fig.savefig('all_05_AP_Q.pdf')"
   ]
  }
 ],
 "metadata": {
  "kernelspec": {
   "display_name": "Python 3",
   "language": "python",
   "name": "python3"
  },
  "language_info": {
   "codemirror_mode": {
    "name": "ipython",
    "version": 3
   },
   "file_extension": ".py",
   "mimetype": "text/x-python",
   "name": "python",
   "nbconvert_exporter": "python",
   "pygments_lexer": "ipython3",
   "version": "3.9.5"
  },
  "toc": {
   "base_numbering": 1,
   "nav_menu": {},
   "number_sections": true,
   "sideBar": true,
   "skip_h1_title": false,
   "title_cell": "Table of Contents",
   "title_sidebar": "Contents",
   "toc_cell": false,
   "toc_position": {},
   "toc_section_display": true,
   "toc_window_display": false
  }
 },
 "nbformat": 4,
 "nbformat_minor": 5
}
