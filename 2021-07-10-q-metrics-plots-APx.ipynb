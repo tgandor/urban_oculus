{
 "cells": [
  {
   "cell_type": "code",
   "execution_count": null,
   "id": "4dd84e98",
   "metadata": {
    "ExecuteTime": {
     "end_time": "2021-07-10T02:19:00.589878Z",
     "start_time": "2021-07-10T02:18:59.722136Z"
    }
   },
   "outputs": [],
   "source": [
    "import logging\n",
    "import os\n",
    "from evaldets.results import *\n",
    "from evaldets.postprocess import *\n",
    "import matplotlib.pyplot as plt\n",
    "import numpy as np\n",
    "import pandas as pd\n",
    "from uo.utils import *\n",
    "\n",
    "# logging.basicConfig(level=logging.DEBUG)\n",
    "logging.basicConfig(level=logging.INFO)"
   ]
  },
  {
   "cell_type": "markdown",
   "id": "79a6079d",
   "metadata": {},
   "source": [
    "# Overall AP, mAP.5, mAP.75"
   ]
  },
  {
   "cell_type": "code",
   "execution_count": null,
   "id": "ebad5a6f",
   "metadata": {
    "ExecuteTime": {
     "end_time": "2021-07-10T02:19:00.595053Z",
     "start_time": "2021-07-10T02:19:00.591293Z"
    }
   },
   "outputs": [],
   "source": [
    "s = GrandSummary('~/reval_50/')"
   ]
  },
  {
   "cell_type": "code",
   "execution_count": null,
   "id": "0f211bfd",
   "metadata": {
    "ExecuteTime": {
     "end_time": "2021-07-10T02:19:01.472294Z",
     "start_time": "2021-07-10T02:19:00.596860Z"
    },
    "scrolled": true
   },
   "outputs": [],
   "source": [
    "fig, axes = get_figure_axes()\n",
    "s.plot_ap_summaries(axes, order=DEFAULT_ORDER, legend=False)\n",
    "finish_plot(fig, axes)"
   ]
  },
  {
   "cell_type": "code",
   "execution_count": null,
   "id": "eff43432",
   "metadata": {
    "ExecuteTime": {
     "end_time": "2021-07-10T02:19:01.655885Z",
     "start_time": "2021-07-10T02:19:01.473605Z"
    }
   },
   "outputs": [],
   "source": [
    "fig.savefig('all_50_AP_Q.pdf')"
   ]
  },
  {
   "cell_type": "code",
   "execution_count": null,
   "id": "3557b6f4",
   "metadata": {
    "ExecuteTime": {
     "end_time": "2021-07-10T02:19:01.661192Z",
     "start_time": "2021-07-10T02:19:01.657597Z"
    }
   },
   "outputs": [],
   "source": [
    "s = GrandSummary('~/reval_05/')"
   ]
  },
  {
   "cell_type": "code",
   "execution_count": null,
   "id": "b71c98c6",
   "metadata": {
    "ExecuteTime": {
     "end_time": "2021-07-10T02:19:02.891269Z",
     "start_time": "2021-07-10T02:19:01.662435Z"
    },
    "scrolled": true
   },
   "outputs": [],
   "source": [
    "fig, axes = get_figure_axes()\n",
    "s.plot_ap_summaries(axes, order=DEFAULT_ORDER, legend=False)\n",
    "finish_plot(fig, axes)"
   ]
  },
  {
   "cell_type": "code",
   "execution_count": null,
   "id": "6b6566fd",
   "metadata": {
    "ExecuteTime": {
     "end_time": "2021-07-10T02:19:03.076713Z",
     "start_time": "2021-07-10T02:19:02.892561Z"
    }
   },
   "outputs": [],
   "source": [
    "fig.savefig('all_05_AP_Q.pdf')"
   ]
  },
  {
   "cell_type": "markdown",
   "id": "753f792d",
   "metadata": {},
   "source": [
    "# By size"
   ]
  },
  {
   "cell_type": "code",
   "execution_count": null,
   "id": "ae6f1e5d",
   "metadata": {
    "ExecuteTime": {
     "end_time": "2021-07-10T02:19:03.082368Z",
     "start_time": "2021-07-10T02:19:03.078829Z"
    }
   },
   "outputs": [],
   "source": [
    "s = GrandSummary('~/reval_50/')"
   ]
  },
  {
   "cell_type": "code",
   "execution_count": null,
   "id": "3cba88d4",
   "metadata": {
    "ExecuteTime": {
     "end_time": "2021-07-10T02:19:03.933503Z",
     "start_time": "2021-07-10T02:19:03.083781Z"
    },
    "scrolled": true
   },
   "outputs": [],
   "source": [
    "fig, axes = get_figure_axes()\n",
    "s.plot_ap_summaries(axes, order=DEFAULT_ORDER, legend=False, by_size=True)\n",
    "finish_plot(fig, axes)"
   ]
  },
  {
   "cell_type": "code",
   "execution_count": null,
   "id": "88276063",
   "metadata": {
    "ExecuteTime": {
     "end_time": "2021-07-10T02:19:04.107414Z",
     "start_time": "2021-07-10T02:19:03.934822Z"
    }
   },
   "outputs": [],
   "source": [
    "fig.savefig('all_50_APsize_Q.pdf')"
   ]
  },
  {
   "cell_type": "code",
   "execution_count": null,
   "id": "d0f2dd24",
   "metadata": {
    "ExecuteTime": {
     "end_time": "2021-07-10T02:19:04.113123Z",
     "start_time": "2021-07-10T02:19:04.108578Z"
    }
   },
   "outputs": [],
   "source": [
    "s = GrandSummary('~/reval_05/')"
   ]
  },
  {
   "cell_type": "code",
   "execution_count": null,
   "id": "5385ffe0",
   "metadata": {
    "ExecuteTime": {
     "end_time": "2021-07-10T02:19:05.358271Z",
     "start_time": "2021-07-10T02:19:04.114531Z"
    },
    "scrolled": true
   },
   "outputs": [],
   "source": [
    "fig, axes = get_figure_axes()\n",
    "s.plot_ap_summaries(axes, order=DEFAULT_ORDER, legend=False, by_size=True)\n",
    "finish_plot(fig, axes)"
   ]
  },
  {
   "cell_type": "code",
   "execution_count": null,
   "id": "560c3c29",
   "metadata": {
    "ExecuteTime": {
     "end_time": "2021-07-10T02:19:05.537599Z",
     "start_time": "2021-07-10T02:19:05.359535Z"
    }
   },
   "outputs": [],
   "source": [
    "fig.savefig('all_05_APsize_Q.pdf')"
   ]
  }
 ],
 "metadata": {
  "kernelspec": {
   "display_name": "Python 3",
   "language": "python",
   "name": "python3"
  },
  "language_info": {
   "codemirror_mode": {
    "name": "ipython",
    "version": 3
   },
   "file_extension": ".py",
   "mimetype": "text/x-python",
   "name": "python",
   "nbconvert_exporter": "python",
   "pygments_lexer": "ipython3",
   "version": "3.9.5"
  },
  "toc": {
   "base_numbering": 1,
   "nav_menu": {},
   "number_sections": true,
   "sideBar": true,
   "skip_h1_title": false,
   "title_cell": "Table of Contents",
   "title_sidebar": "Contents",
   "toc_cell": false,
   "toc_position": {},
   "toc_section_display": true,
   "toc_window_display": false
  }
 },
 "nbformat": 4,
 "nbformat_minor": 5
}
