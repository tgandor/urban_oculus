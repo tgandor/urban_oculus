{
 "cells": [
  {
   "cell_type": "code",
   "execution_count": 1,
   "metadata": {
    "ExecuteTime": {
     "end_time": "2021-01-05T21:34:59.211668Z",
     "start_time": "2021-01-05T21:34:58.997678Z"
    }
   },
   "outputs": [],
   "source": [
    "from couch import db\n",
    "from collections import Counter"
   ]
  },
  {
   "cell_type": "raw",
   "metadata": {
    "ExecuteTime": {
     "end_time": "2021-01-05T21:34:45.420853Z",
     "start_time": "2021-01-05T21:34:45.166354Z"
    }
   },
   "source": [
    "for row in db.view('_all_docs', include_docs=True):\n",
    "    print(row)\n",
    "    break"
   ]
  },
  {
   "cell_type": "code",
   "execution_count": 2,
   "metadata": {
    "ExecuteTime": {
     "end_time": "2021-01-05T21:34:59.445799Z",
     "start_time": "2021-01-05T21:34:59.212837Z"
    }
   },
   "outputs": [
    {
     "data": {
      "text/plain": [
       "Counter({90: 1414, 96: 3540, 80: 46})"
      ]
     },
     "execution_count": 2,
     "metadata": {},
     "output_type": "execute_result"
    }
   ],
   "source": [
    "Counter(row.doc['quality'] for row in db.view('_all_docs', include_docs=True))"
   ]
  },
  {
   "cell_type": "code",
   "execution_count": 3,
   "metadata": {
    "ExecuteTime": {
     "end_time": "2021-01-05T21:34:59.707532Z",
     "start_time": "2021-01-05T21:34:59.447549Z"
    }
   },
   "outputs": [],
   "source": [
    "c = Counter(tuple(row.doc['quantization']) for row in db.view('_all_docs', include_docs=True))"
   ]
  },
  {
   "cell_type": "code",
   "execution_count": 4,
   "metadata": {
    "ExecuteTime": {
     "end_time": "2021-01-05T21:34:59.714884Z",
     "start_time": "2021-01-05T21:34:59.709203Z"
    }
   },
   "outputs": [
    {
     "name": "stdout",
     "output_type": "stream",
     "text": [
      "['030202...141514', '030404...141414'] : 1414\n",
      "['010101...080808', '010101...080808'] : 3530\n",
      "['060405...282928', '070707...282828'] : 46\n",
      "['010101...080808'] : 10\n"
     ]
    }
   ],
   "source": [
    "for qts, count in c.items():\n",
    "    print([t[:6]+'...'+t[-6:] for t in qts], ':', count)"
   ]
  },
  {
   "cell_type": "code",
   "execution_count": 5,
   "metadata": {
    "ExecuteTime": {
     "end_time": "2021-01-05T21:34:59.737669Z",
     "start_time": "2021-01-05T21:34:59.717917Z"
    }
   },
   "outputs": [],
   "source": [
    "assert sum(c.values()) == 5000\n",
    "assert len(set(x[0] for x in c.keys())) == 3  # quality 96 has same luma QT"
   ]
  },
  {
   "cell_type": "code",
   "execution_count": 6,
   "metadata": {
    "ExecuteTime": {
     "end_time": "2021-01-05T21:34:59.987855Z",
     "start_time": "2021-01-05T21:34:59.739382Z"
    }
   },
   "outputs": [
    {
     "data": {
      "text/plain": [
       "['000000431848.jpg',\n",
       " '000000007888.jpg',\n",
       " '000000024021.jpg',\n",
       " '000000061418.jpg',\n",
       " '000000130465.jpg',\n",
       " '000000141671.jpg',\n",
       " '000000205289.jpg',\n",
       " '000000209222.jpg',\n",
       " '000000274219.jpg',\n",
       " '000000353180.jpg']"
      ]
     },
     "execution_count": 6,
     "metadata": {},
     "output_type": "execute_result"
    }
   ],
   "source": [
    "# outliers with 1 QT\n",
    "bw = [\n",
    "    row.doc['name'] \n",
    "    for row in db.view('_all_docs', include_docs=True) \n",
    "    if row.doc['quality'] == 96 and len(row.doc['quantization'])==1\n",
    "]\n",
    "bw"
   ]
  },
  {
   "cell_type": "raw",
   "metadata": {
    "ExecuteTime": {
     "end_time": "2021-01-05T21:35:00.002448Z",
     "start_time": "2021-01-05T21:34:59.989268Z"
    }
   },
   "source": [
    "import os\n",
    "from IPython.display import display, Image\n",
    "for im in bw:\n",
    "    display(Image(url=\"file://\"+os.path.expanduser(f\"~/val2017/{im}\")))"
   ]
  }
 ],
 "metadata": {
  "kernelspec": {
   "display_name": "Python 3",
   "language": "python",
   "name": "python3"
  },
  "language_info": {
   "codemirror_mode": {
    "name": "ipython",
    "version": 3
   },
   "file_extension": ".py",
   "mimetype": "text/x-python",
   "name": "python",
   "nbconvert_exporter": "python",
   "pygments_lexer": "ipython3",
   "version": "3.7.6"
  },
  "toc": {
   "base_numbering": 1,
   "nav_menu": {},
   "number_sections": true,
   "sideBar": true,
   "skip_h1_title": false,
   "title_cell": "Table of Contents",
   "title_sidebar": "Contents",
   "toc_cell": false,
   "toc_position": {},
   "toc_section_display": true,
   "toc_window_display": false
  }
 },
 "nbformat": 4,
 "nbformat_minor": 4
}
