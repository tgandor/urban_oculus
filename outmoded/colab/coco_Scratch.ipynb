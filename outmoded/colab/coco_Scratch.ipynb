{
  "nbformat": 4,
  "nbformat_minor": 0,
  "metadata": {
    "colab": {
      "name": "Scratch.ipynb",
      "provenance": [],
      "collapsed_sections": [],
      "toc_visible": true,
      "authorship_tag": "ABX9TyP4780qnjd+RqhhdRBgC31Z",
      "include_colab_link": true
    },
    "kernelspec": {
      "name": "python3",
      "display_name": "Python 3"
    }
  },
  "cells": [
    {
      "cell_type": "markdown",
      "metadata": {
        "id": "view-in-github",
        "colab_type": "text"
      },
      "source": [
        "<a href=\"https://colab.research.google.com/github/tgandor/urban_oculus/blob/master/colab/coco_Scratch.ipynb\" target=\"_parent\"><img src=\"https://colab.research.google.com/assets/colab-badge.svg\" alt=\"Open In Colab\"/></a>"
      ]
    },
    {
      "cell_type": "code",
      "metadata": {
        "id": "z4sR8EDJYJA3",
        "colab_type": "code",
        "colab": {}
      },
      "source": [
        "from pycocotools.coco import COCO"
      ],
      "execution_count": 0,
      "outputs": []
    },
    {
      "cell_type": "code",
      "metadata": {
        "id": "uvhIKnUYqjkB",
        "colab_type": "code",
        "colab": {}
      },
      "source": [
        "!pwd"
      ],
      "execution_count": 0,
      "outputs": []
    },
    {
      "cell_type": "markdown",
      "metadata": {
        "id": "4q93vTLYtQoU",
        "colab_type": "text"
      },
      "source": [
        "# New Section"
      ]
    },
    {
      "cell_type": "code",
      "metadata": {
        "id": "ndGi5FsrYgWJ",
        "colab_type": "code",
        "colab": {}
      },
      "source": [
        "# !wget http://images.cocodataset.org/zips/train2017.zip\n",
        "!wget http://images.cocodataset.org/annotations/annotations_trainval2014.zip"
      ],
      "execution_count": 0,
      "outputs": []
    },
    {
      "cell_type": "code",
      "metadata": {
        "id": "sULe0PYNZppX",
        "colab_type": "code",
        "colab": {}
      },
      "source": [
        "!unzip annotations_trainval2014.zip"
      ],
      "execution_count": 0,
      "outputs": []
    },
    {
      "cell_type": "code",
      "metadata": {
        "id": "cas_qX3BZwGI",
        "colab_type": "code",
        "colab": {}
      },
      "source": [
        "coco = COCO('annotations/instances_train2014.json')"
      ],
      "execution_count": 0,
      "outputs": []
    },
    {
      "cell_type": "code",
      "metadata": {
        "id": "fYR8GZY0Z-KW",
        "colab_type": "code",
        "colab": {}
      },
      "source": [
        "coco.getCatIds(['person'])"
      ],
      "execution_count": 0,
      "outputs": []
    },
    {
      "cell_type": "code",
      "metadata": {
        "id": "cgz_7JoDaKGt",
        "colab_type": "code",
        "colab": {}
      },
      "source": [
        "img_ids = coco.getImgIds(catIds=[1])\n",
        "len(img_ids), img_ids[:5]"
      ],
      "execution_count": 0,
      "outputs": []
    },
    {
      "cell_type": "code",
      "metadata": {
        "id": "KGyndjlEaWqF",
        "colab_type": "code",
        "colab": {}
      },
      "source": [
        "# import cv2\n",
        "# from google.colab.patches import cv2_imshow\n",
        "\n",
        "# for img_id in img_ids[:5]:\n",
        "#   jpg = f'{img_id:012d}.jpg'\n",
        "#   url = f'http://images.cocodataset.org/train2014/{jpg}'\n",
        "#   !wget $url -O $jpg\n",
        "#   im = cv2.imread(jpg)\n",
        "#   cv2_imshow(im)"
      ],
      "execution_count": 0,
      "outputs": []
    },
    {
      "cell_type": "code",
      "metadata": {
        "id": "7R5WiQCebMs-",
        "colab_type": "code",
        "colab": {}
      },
      "source": [
        "coco.download('.', imgIds=img_ids[:5])"
      ],
      "execution_count": 0,
      "outputs": []
    },
    {
      "cell_type": "code",
      "metadata": {
        "id": "jV4t7iWrdK-6",
        "colab_type": "code",
        "colab": {}
      },
      "source": [
        "!ls"
      ],
      "execution_count": 0,
      "outputs": []
    },
    {
      "cell_type": "code",
      "metadata": {
        "id": "1A2YEJqzdzIv",
        "colab_type": "code",
        "colab": {}
      },
      "source": [
        "import glob, cv2\n",
        "from google.colab.patches import cv2_imshow"
      ],
      "execution_count": 0,
      "outputs": []
    },
    {
      "cell_type": "code",
      "metadata": {
        "id": "wY7HBw1jd0vi",
        "colab_type": "code",
        "colab": {}
      },
      "source": [
        "for img in glob.glob('COCO*.jpg'):\n",
        "  img = cv2.imread(img)\n",
        "  cv2_imshow(img)"
      ],
      "execution_count": 0,
      "outputs": []
    }
  ]
}