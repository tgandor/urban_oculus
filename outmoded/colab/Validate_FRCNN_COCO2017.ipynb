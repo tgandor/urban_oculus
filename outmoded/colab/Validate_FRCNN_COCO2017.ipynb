{
  "nbformat": 4,
  "nbformat_minor": 0,
  "metadata": {
    "colab": {
      "name": "Validate_FRCNN_COCO2017.ipynb",
      "provenance": [],
      "collapsed_sections": [],
      "authorship_tag": "ABX9TyPzm5Y4kWiQK+T6FdSl8cqA",
      "include_colab_link": true
    },
    "kernelspec": {
      "name": "python3",
      "display_name": "Python 3"
    },
    "accelerator": "GPU"
  },
  "cells": [
    {
      "cell_type": "markdown",
      "metadata": {
        "id": "view-in-github",
        "colab_type": "text"
      },
      "source": [
        "<a href=\"https://colab.research.google.com/github/tgandor/urban_oculus/blob/master/colab/Validate_FRCNN_COCO2017.ipynb\" target=\"_parent\"><img src=\"https://colab.research.google.com/assets/colab-badge.svg\" alt=\"Open In Colab\"/></a>"
      ]
    },
    {
      "cell_type": "code",
      "metadata": {
        "id": "tAC2bqca3Qrv",
        "colab_type": "code",
        "outputId": "05f8cb04-a1c2-4792-db3c-3ef2d58ea5c7",
        "colab": {
          "base_uri": "https://localhost:8080/",
          "height": 421
        }
      },
      "source": [
        "# careful with dumb Python2 pycocotools:\n",
        "# NameError: name 'unicode' is not defined in\n",
        "# /usr/local/lib/python3.6/dist-packages/pycocotools/coco.py:308\n",
        "# needs to be:\n",
        "# if type(resFile) == str or (PYTHON_VERSION == 2 and type(resFile) == unicode):\n",
        "!pip install -q -U 'git+https://github.com/cocodataset/cocoapi.git#subdirectory=PythonAPI'"
      ],
      "execution_count": 1,
      "outputs": [
        {
          "output_type": "stream",
          "text": [
            "Collecting git+https://github.com/cocodataset/cocoapi.git#subdirectory=PythonAPI\n",
            "  Cloning https://github.com/cocodataset/cocoapi.git to /tmp/pip-req-build-hkaoivdj\n",
            "  Running command git clone -q https://github.com/cocodataset/cocoapi.git /tmp/pip-req-build-hkaoivdj\n",
            "Requirement already satisfied, skipping upgrade: setuptools>=18.0 in /usr/local/lib/python3.6/dist-packages (from pycocotools==2.0) (45.1.0)\n",
            "Requirement already satisfied, skipping upgrade: cython>=0.27.3 in /usr/local/lib/python3.6/dist-packages (from pycocotools==2.0) (0.29.15)\n",
            "Requirement already satisfied, skipping upgrade: matplotlib>=2.1.0 in /usr/local/lib/python3.6/dist-packages (from pycocotools==2.0) (3.1.3)\n",
            "Requirement already satisfied, skipping upgrade: numpy>=1.11 in /usr/local/lib/python3.6/dist-packages (from matplotlib>=2.1.0->pycocotools==2.0) (1.17.5)\n",
            "Requirement already satisfied, skipping upgrade: kiwisolver>=1.0.1 in /usr/local/lib/python3.6/dist-packages (from matplotlib>=2.1.0->pycocotools==2.0) (1.1.0)\n",
            "Requirement already satisfied, skipping upgrade: pyparsing!=2.0.4,!=2.1.2,!=2.1.6,>=2.0.1 in /usr/local/lib/python3.6/dist-packages (from matplotlib>=2.1.0->pycocotools==2.0) (2.4.6)\n",
            "Requirement already satisfied, skipping upgrade: python-dateutil>=2.1 in /usr/local/lib/python3.6/dist-packages (from matplotlib>=2.1.0->pycocotools==2.0) (2.6.1)\n",
            "Requirement already satisfied, skipping upgrade: cycler>=0.10 in /usr/local/lib/python3.6/dist-packages (from matplotlib>=2.1.0->pycocotools==2.0) (0.10.0)\n",
            "Requirement already satisfied, skipping upgrade: six>=1.5 in /usr/local/lib/python3.6/dist-packages (from python-dateutil>=2.1->matplotlib>=2.1.0->pycocotools==2.0) (1.12.0)\n",
            "Building wheels for collected packages: pycocotools\n",
            "  Building wheel for pycocotools (setup.py) ... \u001b[?25l\u001b[?25hdone\n",
            "  Created wheel for pycocotools: filename=pycocotools-2.0-cp36-cp36m-linux_x86_64.whl size=275279 sha256=b701b94239f04133b189ebf5217ea404500b6f063550575b2f12b51ec5e59d74\n",
            "  Stored in directory: /tmp/pip-ephem-wheel-cache-q463qi82/wheels/90/51/41/646daf401c3bc408ff10de34ec76587a9b3ebfac8d21ca5c3a\n",
            "Successfully built pycocotools\n",
            "Installing collected packages: pycocotools\n",
            "  Found existing installation: pycocotools 2.0.0\n",
            "    Uninstalling pycocotools-2.0.0:\n",
            "      Successfully uninstalled pycocotools-2.0.0\n",
            "Successfully installed pycocotools-2.0\n"
          ],
          "name": "stdout"
        }
      ]
    },
    {
      "cell_type": "code",
      "metadata": {
        "id": "785bkuhpXE3-",
        "colab_type": "code",
        "outputId": "f705dd38-f9d2-4eb5-b040-009ead01454c",
        "colab": {
          "base_uri": "https://localhost:8080/",
          "height": 54
        }
      },
      "source": [
        "%%time\n",
        "# deps installation\n",
        "try:\n",
        "  import detectron2\n",
        "except ImportError:\n",
        "  !git clone https://github.com/facebookresearch/detectron2 detectron2_repo\n",
        "  !pip install -q -e detectron2_repo\n",
        "  print('Stopping RUNTIME! Please run again.')\n",
        "  import os\n",
        "  os.kill(os.getpid(), 9)"
      ],
      "execution_count": 1,
      "outputs": [
        {
          "output_type": "stream",
          "text": [
            "CPU times: user 204 ms, sys: 40.5 ms, total: 245 ms\n",
            "Wall time: 826 ms\n"
          ],
          "name": "stdout"
        }
      ]
    },
    {
      "cell_type": "markdown",
      "metadata": {
        "id": "WhmEn2SHYxBp",
        "colab_type": "text"
      },
      "source": [
        "Create example model"
      ]
    },
    {
      "cell_type": "code",
      "metadata": {
        "id": "YuoQ9EX_XYIm",
        "colab_type": "code",
        "colab": {}
      },
      "source": [
        "import detectron2.model_zoo\n",
        "from detectron2.config import get_cfg"
      ],
      "execution_count": 0,
      "outputs": []
    },
    {
      "cell_type": "code",
      "metadata": {
        "id": "MuCzojcYYCUx",
        "colab_type": "code",
        "colab": {}
      },
      "source": [
        "cfg = get_cfg()\n",
        "cfg.merge_from_file(detectron2.model_zoo.get_config_file(\"COCO-InstanceSegmentation/mask_rcnn_R_50_FPN_3x.yaml\"))\n",
        "cfg.MODEL.ROI_HEADS.SCORE_THRESH_TEST = 0.5  # set threshold for this model\n",
        "cfg.MODEL.WEIGHTS = \"detectron2://COCO-InstanceSegmentation/mask_rcnn_R_50_FPN_3x/137849600/model_final_f10217.pkl\""
      ],
      "execution_count": 0,
      "outputs": []
    },
    {
      "cell_type": "markdown",
      "metadata": {
        "id": "floZioUWaumB",
        "colab_type": "text"
      },
      "source": [
        "Create evaluator"
      ]
    },
    {
      "cell_type": "code",
      "metadata": {
        "id": "AMKibHvbaGjG",
        "colab_type": "code",
        "colab": {}
      },
      "source": [
        "# from detectron2.data import MetadataCatalog\n",
        "# MetadataCatalog().get('coco_2014_val')\n",
        "from detectron2.evaluation import COCOEvaluator, inference_on_dataset"
      ],
      "execution_count": 0,
      "outputs": []
    },
    {
      "cell_type": "code",
      "metadata": {
        "id": "orX9jrgEcw28",
        "colab_type": "code",
        "outputId": "e72e3dae-d118-406f-918b-89e79ce037ca",
        "colab": {
          "base_uri": "https://localhost:8080/",
          "height": 72
        }
      },
      "source": [
        "%%time\n",
        "# No such file or directory: 'datasets/coco/annotations/instances_val2014.json'\n",
        "import os\n",
        "if not os.path.exists('datasets/coco/annotations/'):\n",
        "  !mkdir -p datasets/coco           \n",
        "  !wget -q http://images.cocodataset.org/annotations/annotations_trainval2017.zip\n",
        "  !unzip -d datasets/coco annotations_trainval2017.zip"
      ],
      "execution_count": 5,
      "outputs": [
        {
          "output_type": "stream",
          "text": [
            "unzip:  cannot find or open annotations_trainval2014.zip, annotations_trainval2014.zip.zip or annotations_trainval2014.zip.ZIP.\n",
            "CPU times: user 208 ms, sys: 38.4 ms, total: 246 ms\n",
            "Wall time: 29.9 s\n"
          ],
          "name": "stdout"
        }
      ]
    },
    {
      "cell_type": "code",
      "metadata": {
        "id": "xwdpcbn6bCtP",
        "colab_type": "code",
        "colab": {}
      },
      "source": [
        "evaluator = COCOEvaluator('coco_2017_val', cfg, False)"
      ],
      "execution_count": 0,
      "outputs": []
    },
    {
      "cell_type": "markdown",
      "metadata": {
        "id": "ktrvI0fcgU_R",
        "colab_type": "text"
      },
      "source": [
        "Run inference / metrics"
      ]
    },
    {
      "cell_type": "code",
      "metadata": {
        "id": "vcKlW3VciVzJ",
        "colab_type": "code",
        "colab": {}
      },
      "source": [
        "from detectron2.data import build_detection_test_loader\n",
        "data_loader = build_detection_test_loader(cfg, 'coco_2017_val')"
      ],
      "execution_count": 0,
      "outputs": []
    },
    {
      "cell_type": "code",
      "metadata": {
        "id": "S-mozciDjmyI",
        "colab_type": "code",
        "colab": {
          "base_uri": "https://localhost:8080/",
          "height": 35
        },
        "outputId": "4ac5d20b-ba20-431c-8a3d-6ff548d8b9b3"
      },
      "source": [
        "from detectron2.engine import DefaultPredictor\n",
        "predictor = DefaultPredictor(cfg)\n",
        "# predictor is not a model:\n",
        "# results = inference_on_dataset(predictor, data_loader, evaluator)"
      ],
      "execution_count": 9,
      "outputs": [
        {
          "output_type": "stream",
          "text": [
            "model_final_f10217.pkl: 178MB [00:15, 11.2MB/s]                           \n"
          ],
          "name": "stderr"
        }
      ]
    },
    {
      "cell_type": "code",
      "metadata": {
        "id": "sfA0eRW-nCUS",
        "colab_type": "code",
        "colab": {}
      },
      "source": [
        "%%time\n",
        "import os\n",
        "if not os.path.exists('datasets/coco/val2017/'):\n",
        "  !wget http://images.cocodataset.org/zips/val2017.zip\n",
        "  !unzip val2017 -q -d datasets/coco/"
      ],
      "execution_count": 0,
      "outputs": []
    },
    {
      "cell_type": "code",
      "metadata": {
        "id": "3XwZbViVeYMd",
        "colab_type": "code",
        "outputId": "08501893-7753-4793-84c7-61b5d6f31e9d",
        "colab": {
          "base_uri": "https://localhost:8080/",
          "height": 825
        }
      },
      "source": [
        "%%time\n",
        "results = inference_on_dataset(predictor.model, data_loader, evaluator)\n",
        "results"
      ],
      "execution_count": 12,
      "outputs": [
        {
          "output_type": "stream",
          "text": [
            "Loading and preparing results...\n",
            "DONE (t=0.05s)\n",
            "creating index...\n",
            "index created!\n",
            "Running per image evaluation...\n",
            "Evaluate annotation type *bbox*\n",
            "DONE (t=17.26s).\n",
            "Accumulating evaluation results...\n",
            "DONE (t=2.33s).\n",
            " Average Precision  (AP) @[ IoU=0.50:0.95 | area=   all | maxDets=100 ] = 0.375\n",
            " Average Precision  (AP) @[ IoU=0.50      | area=   all | maxDets=100 ] = 0.546\n",
            " Average Precision  (AP) @[ IoU=0.75      | area=   all | maxDets=100 ] = 0.419\n",
            " Average Precision  (AP) @[ IoU=0.50:0.95 | area= small | maxDets=100 ] = 0.200\n",
            " Average Precision  (AP) @[ IoU=0.50:0.95 | area=medium | maxDets=100 ] = 0.404\n",
            " Average Precision  (AP) @[ IoU=0.50:0.95 | area= large | maxDets=100 ] = 0.509\n",
            " Average Recall     (AR) @[ IoU=0.50:0.95 | area=   all | maxDets=  1 ] = 0.302\n",
            " Average Recall     (AR) @[ IoU=0.50:0.95 | area=   all | maxDets= 10 ] = 0.437\n",
            " Average Recall     (AR) @[ IoU=0.50:0.95 | area=   all | maxDets=100 ] = 0.445\n",
            " Average Recall     (AR) @[ IoU=0.50:0.95 | area= small | maxDets=100 ] = 0.232\n",
            " Average Recall     (AR) @[ IoU=0.50:0.95 | area=medium | maxDets=100 ] = 0.478\n",
            " Average Recall     (AR) @[ IoU=0.50:0.95 | area= large | maxDets=100 ] = 0.600\n",
            "Loading and preparing results...\n",
            "DONE (t=0.49s)\n",
            "creating index...\n",
            "index created!\n",
            "Running per image evaluation...\n",
            "Evaluate annotation type *segm*\n",
            "DONE (t=19.68s).\n",
            "Accumulating evaluation results...\n",
            "DONE (t=2.24s).\n",
            " Average Precision  (AP) @[ IoU=0.50:0.95 | area=   all | maxDets=100 ] = 0.343\n",
            " Average Precision  (AP) @[ IoU=0.50      | area=   all | maxDets=100 ] = 0.528\n",
            " Average Precision  (AP) @[ IoU=0.75      | area=   all | maxDets=100 ] = 0.374\n",
            " Average Precision  (AP) @[ IoU=0.50:0.95 | area= small | maxDets=100 ] = 0.157\n",
            " Average Precision  (AP) @[ IoU=0.50:0.95 | area=medium | maxDets=100 ] = 0.366\n",
            " Average Precision  (AP) @[ IoU=0.50:0.95 | area= large | maxDets=100 ] = 0.506\n",
            " Average Recall     (AR) @[ IoU=0.50:0.95 | area=   all | maxDets=  1 ] = 0.282\n",
            " Average Recall     (AR) @[ IoU=0.50:0.95 | area=   all | maxDets= 10 ] = 0.405\n",
            " Average Recall     (AR) @[ IoU=0.50:0.95 | area=   all | maxDets=100 ] = 0.411\n",
            " Average Recall     (AR) @[ IoU=0.50:0.95 | area= small | maxDets=100 ] = 0.203\n",
            " Average Recall     (AR) @[ IoU=0.50:0.95 | area=medium | maxDets=100 ] = 0.441\n",
            " Average Recall     (AR) @[ IoU=0.50:0.95 | area= large | maxDets=100 ] = 0.571\n",
            "CPU times: user 8min 1s, sys: 3min 5s, total: 11min 6s\n",
            "Wall time: 11min 18s\n"
          ],
          "name": "stdout"
        }
      ]
    },
    {
      "cell_type": "code",
      "metadata": {
        "id": "berN7PljjCN8",
        "colab_type": "code",
        "outputId": "723a587e-3099-4045-9532-767534f17267",
        "colab": {
          "base_uri": "https://localhost:8080/",
          "height": 54
        }
      },
      "source": [
        "!ls"
      ],
      "execution_count": 13,
      "outputs": [
        {
          "output_type": "stream",
          "text": [
            "annotations_trainval2017.zip  detectron2_repo  val2017.zip\n",
            "datasets\t\t      sample_data\n"
          ],
          "name": "stdout"
        }
      ]
    },
    {
      "cell_type": "code",
      "metadata": {
        "id": "vNSVILFb4PBg",
        "colab_type": "code",
        "outputId": "032bf4b5-18f5-48c2-e109-11428a5d5df5",
        "colab": {
          "base_uri": "https://localhost:8080/",
          "height": 35
        }
      },
      "source": [
        "results.keys()"
      ],
      "execution_count": 14,
      "outputs": [
        {
          "output_type": "execute_result",
          "data": {
            "text/plain": [
              "odict_keys(['bbox', 'segm'])"
            ]
          },
          "metadata": {
            "tags": []
          },
          "execution_count": 14
        }
      ]
    },
    {
      "cell_type": "code",
      "metadata": {
        "id": "Vh3z3hnXLM5j",
        "colab_type": "code",
        "outputId": "36df873b-aacc-455f-9401-21b6f6268602",
        "colab": {
          "base_uri": "https://localhost:8080/",
          "height": 1000
        }
      },
      "source": [
        "results['bbox']"
      ],
      "execution_count": 15,
      "outputs": [
        {
          "output_type": "execute_result",
          "data": {
            "text/plain": [
              "{'AP': 37.45999238918093,\n",
              " 'AP-airplane': 60.326406532074074,\n",
              " 'AP-apple': 16.21554150553037,\n",
              " 'AP-backpack': 13.487930022458276,\n",
              " 'AP-banana': 18.662220202537185,\n",
              " 'AP-baseball bat': 26.634072113048223,\n",
              " 'AP-baseball glove': 33.26349612036358,\n",
              " 'AP-bear': 65.25426281861931,\n",
              " 'AP-bed': 37.97244362923196,\n",
              " 'AP-bench': 21.51834359018652,\n",
              " 'AP-bicycle': 27.31534736208186,\n",
              " 'AP-bird': 32.35731670333031,\n",
              " 'AP-boat': 23.538024294021298,\n",
              " 'AP-book': 10.381036635573283,\n",
              " 'AP-bottle': 35.72069118291466,\n",
              " 'AP-bowl': 37.845595683121566,\n",
              " 'AP-broccoli': 18.921609341856936,\n",
              " 'AP-bus': 60.841291178176085,\n",
              " 'AP-cake': 29.205287704121485,\n",
              " 'AP-car': 41.70889582273138,\n",
              " 'AP-carrot': 18.193311196311278,\n",
              " 'AP-cat': 63.62185146672928,\n",
              " 'AP-cell phone': 32.66107319914465,\n",
              " 'AP-chair': 23.412093230177984,\n",
              " 'AP-clock': 45.62108660363508,\n",
              " 'AP-couch': 36.33790231670137,\n",
              " 'AP-cow': 48.95791542521598,\n",
              " 'AP-cup': 36.43059745809506,\n",
              " 'AP-dining table': 23.95799656251554,\n",
              " 'AP-dog': 55.16110484510733,\n",
              " 'AP-donut': 38.791828777825515,\n",
              " 'AP-elephant': 57.52449990243813,\n",
              " 'AP-fire hydrant': 63.26708158273766,\n",
              " 'AP-fork': 28.53710077164329,\n",
              " 'AP-frisbee': 59.152875075555066,\n",
              " 'AP-giraffe': 62.9833655613818,\n",
              " 'AP-hair drier': 0.6930693069306931,\n",
              " 'AP-handbag': 11.700353882604704,\n",
              " 'AP-horse': 55.19289587732158,\n",
              " 'AP-hot dog': 28.956587550175346,\n",
              " 'AP-keyboard': 48.55099012129237,\n",
              " 'AP-kite': 37.38512487533291,\n",
              " 'AP-knife': 14.725506328215959,\n",
              " 'AP-laptop': 55.73029875895732,\n",
              " 'AP-microwave': 50.657981943945764,\n",
              " 'AP-motorcycle': 38.85764489805458,\n",
              " 'AP-mouse': 61.16307175771757,\n",
              " 'AP-orange': 25.587612284489637,\n",
              " 'AP-oven': 30.26522832121571,\n",
              " 'AP-parking meter': 41.900914566992675,\n",
              " 'AP-person': 52.1202699529836,\n",
              " 'AP-pizza': 47.7228675407679,\n",
              " 'AP-potted plant': 23.886455613502253,\n",
              " 'AP-refrigerator': 51.60986818813977,\n",
              " 'AP-remote': 27.850516260239395,\n",
              " 'AP-sandwich': 29.71015664364107,\n",
              " 'AP-scissors': 24.390365822296516,\n",
              " 'AP-sheep': 47.161355896634234,\n",
              " 'AP-sink': 34.10274654316366,\n",
              " 'AP-skateboard': 48.479580205440634,\n",
              " 'AP-skis': 22.07896990397178,\n",
              " 'AP-snowboard': 30.980881100065467,\n",
              " 'AP-spoon': 14.91524023313025,\n",
              " 'AP-sports ball': 44.91507298862245,\n",
              " 'AP-stop sign': 62.213534000930196,\n",
              " 'AP-suitcase': 32.66601334620136,\n",
              " 'AP-surfboard': 34.42870864212563,\n",
              " 'AP-teddy bear': 40.60626970242854,\n",
              " 'AP-tennis racket': 43.811647973604956,\n",
              " 'AP-tie': 31.27198834477532,\n",
              " 'AP-toaster': 41.122112211221115,\n",
              " 'AP-toilet': 55.51758631106773,\n",
              " 'AP-toothbrush': 20.685202823687774,\n",
              " 'AP-traffic light': 24.73908085209478,\n",
              " 'AP-train': 58.35175489535671,\n",
              " 'AP-truck': 28.619620296330094,\n",
              " 'AP-tv': 51.579726068336086,\n",
              " 'AP-umbrella': 34.330946890185295,\n",
              " 'AP-vase': 33.890932214548556,\n",
              " 'AP-wine glass': 32.08539643033,\n",
              " 'AP-zebra': 63.805746348210945,\n",
              " 'AP50': 54.5671573653508,\n",
              " 'AP75': 41.85607610611001,\n",
              " 'APl': 50.87100460677046,\n",
              " 'APm': 40.36791325400338,\n",
              " 'APs': 19.952259630923916}"
            ]
          },
          "metadata": {
            "tags": []
          },
          "execution_count": 15
        }
      ]
    },
    {
      "cell_type": "code",
      "metadata": {
        "id": "wcf-rNHrLjmC",
        "colab_type": "code",
        "colab": {}
      },
      "source": [
        "result_file = 'coco_val2017_rcnn_3x.json'\n",
        "import json\n",
        "with open(result_file, 'w') as f:\n",
        "  f.write(json.dumps(results['bbox']))"
      ],
      "execution_count": 0,
      "outputs": []
    },
    {
      "cell_type": "code",
      "metadata": {
        "id": "Krj-nOdpMO5D",
        "colab_type": "code",
        "colab": {}
      },
      "source": [
        "from google.colab import files\n",
        "\n",
        "files.download(result_file)"
      ],
      "execution_count": 0,
      "outputs": []
    },
    {
      "cell_type": "code",
      "metadata": {
        "id": "Qi1fjmCmMtV1",
        "colab_type": "code",
        "colab": {
          "base_uri": "https://localhost:8080/",
          "height": 35
        },
        "outputId": "a34defbc-443d-434b-decf-7443092f0f92"
      },
      "source": [
        "!ls datasets/coco/annotations/"
      ],
      "execution_count": 1,
      "outputs": [
        {
          "output_type": "stream",
          "text": [
            "ls: cannot access 'datasets/coco/annotations/': No such file or directory\n"
          ],
          "name": "stdout"
        }
      ]
    },
    {
      "cell_type": "code",
      "metadata": {
        "id": "M8tDqX0fCANZ",
        "colab_type": "code",
        "colab": {}
      },
      "source": [
        ""
      ],
      "execution_count": 0,
      "outputs": []
    }
  ]
}