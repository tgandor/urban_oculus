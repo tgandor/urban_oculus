{
  "nbformat": 4,
  "nbformat_minor": 0,
  "metadata": {
    "colab": {
      "name": "Validate_on_JPEG_Quality.ipynb",
      "provenance": [],
      "collapsed_sections": [],
      "authorship_tag": "ABX9TyOd8NW++cSln7A/sTbQPMIx",
      "include_colab_link": true
    },
    "kernelspec": {
      "name": "python3",
      "display_name": "Python 3"
    },
    "accelerator": "GPU"
  },
  "cells": [
    {
      "cell_type": "markdown",
      "metadata": {
        "id": "view-in-github",
        "colab_type": "text"
      },
      "source": [
        "<a href=\"https://colab.research.google.com/github/tgandor/urban_oculus/blob/master/colab/Validate_on_JPEG_Quality.ipynb\" target=\"_parent\"><img src=\"https://colab.research.google.com/assets/colab-badge.svg\" alt=\"Open In Colab\"/></a>"
      ]
    },
    {
      "cell_type": "code",
      "metadata": {
        "id": "ojyvGFbghOKF",
        "colab_type": "code",
        "outputId": "f9ef8dc4-b816-4686-fa43-270dd2e09ade",
        "colab": {
          "base_uri": "https://localhost:8080/",
          "height": 146
        }
      },
      "source": [
        "%%time\n",
        "import os\n",
        "if not os.path.isdir('urban_oculus'):\n",
        "  !git clone https://github.com/tgandor/urban_oculus\n",
        "# first, this doesn't kill runtime\n",
        "%run urban_oculus/snippets/get_coco_val2017_nounzip.ipynb\n",
        "# this may kill runtime\n",
        "%run urban_oculus/snippets/get_detectron2.ipynb"
      ],
      "execution_count": 0,
      "outputs": [
        {
          "output_type": "stream",
          "text": [
            "fatal: destination path 'urban_oculus' already exists and is not an empty directory.\n"
          ],
          "name": "stdout"
        },
        {
          "output_type": "stream",
          "text": [
            "ERROR:root:File `'urban_oculus/snippets/get_coco_val2017_nounzip.ipynb.py'` not found.\n"
          ],
          "name": "stderr"
        },
        {
          "output_type": "stream",
          "text": [
            "  Building wheel for pycocotools (setup.py) ... \u001b[?25l\u001b[?25hdone\n",
            "CPU times: user 6 µs, sys: 1 µs, total: 7 µs\n",
            "Wall time: 11 µs\n",
            "CPU times: user 119 ms, sys: 90.9 ms, total: 210 ms\n",
            "Wall time: 17.4 s\n"
          ],
          "name": "stdout"
        }
      ]
    },
    {
      "cell_type": "code",
      "metadata": {
        "id": "nY2wJeKmyZ1s",
        "colab_type": "code",
        "colab": {}
      },
      "source": [
        "quality = 25"
      ],
      "execution_count": 0,
      "outputs": []
    },
    {
      "cell_type": "code",
      "metadata": {
        "id": "dvF4Tuahjryl",
        "colab_type": "code",
        "outputId": "8ac94d58-6024-4370-dd9a-7fd854c405d5",
        "colab": {
          "base_uri": "https://localhost:8080/",
          "height": 164
        }
      },
      "source": [
        "%%time\n",
        "print('unpacking')\n",
        "!unzip -o val2017.zip -d datasets/coco 2>&1 | tqdm --total 5000 >/dev/null\n",
        "!du -h datasets/coco/val2017\n",
        "print(f'degrading quality to {quality}')\n",
        "!mogrify -verbose -quality {quality} datasets/coco/val2017/*.jpg 2>&1 | tqdm --total 10000 >/dev/null\n",
        "!du -h datasets/coco/val2017"
      ],
      "execution_count": 0,
      "outputs": [
        {
          "output_type": "stream",
          "text": [
            "unpacking\n",
            "5001it [00:06, 761.54it/s]              \n",
            "788M\tdatasets/coco/val2017\n",
            "degrading quality to 25\n",
            "100% 10000/10000 [00:50<00:00, 198.18it/s]\n",
            "132M\tdatasets/coco/val2017\n",
            "CPU times: user 645 ms, sys: 233 ms, total: 878 ms\n",
            "Wall time: 1min 8s\n"
          ],
          "name": "stdout"
        }
      ]
    },
    {
      "cell_type": "code",
      "metadata": {
        "id": "dPoaHVcAp9ta",
        "colab_type": "code",
        "outputId": "8e4e3014-fe4d-4c80-dc25-8b34390bd13a",
        "colab": {
          "base_uri": "https://localhost:8080/",
          "height": 825
        }
      },
      "source": [
        "%%time\n",
        "import detectron2.model_zoo\n",
        "from detectron2.config import get_cfg\n",
        "from detectron2.data import build_detection_test_loader\n",
        "from detectron2.evaluation import COCOEvaluator, inference_on_dataset\n",
        "from detectron2.engine import DefaultPredictor\n",
        "cfg = get_cfg()\n",
        "cfg.merge_from_file(detectron2.model_zoo.get_config_file(\"COCO-InstanceSegmentation/mask_rcnn_R_50_FPN_3x.yaml\"))\n",
        "cfg.MODEL.ROI_HEADS.SCORE_THRESH_TEST = 0.5  # set threshold for this model\n",
        "cfg.MODEL.WEIGHTS = \"detectron2://COCO-InstanceSegmentation/mask_rcnn_R_50_FPN_3x/137849600/model_final_f10217.pkl\"\n",
        "predictor = DefaultPredictor(cfg)\n",
        "data_loader = build_detection_test_loader(cfg, 'coco_2017_val')\n",
        "evaluator = COCOEvaluator('coco_2017_val', cfg, False)\n",
        "results = inference_on_dataset(predictor.model, data_loader, evaluator)\n",
        "results"
      ],
      "execution_count": 0,
      "outputs": [
        {
          "output_type": "stream",
          "text": [
            "Loading and preparing results...\n",
            "DONE (t=0.04s)\n",
            "creating index...\n",
            "index created!\n",
            "Running per image evaluation...\n",
            "Evaluate annotation type *bbox*\n",
            "DONE (t=17.77s).\n",
            "Accumulating evaluation results...\n",
            "DONE (t=2.43s).\n",
            " Average Precision  (AP) @[ IoU=0.50:0.95 | area=   all | maxDets=100 ] = 0.282\n",
            " Average Precision  (AP) @[ IoU=0.50      | area=   all | maxDets=100 ] = 0.428\n",
            " Average Precision  (AP) @[ IoU=0.75      | area=   all | maxDets=100 ] = 0.310\n",
            " Average Precision  (AP) @[ IoU=0.50:0.95 | area= small | maxDets=100 ] = 0.124\n",
            " Average Precision  (AP) @[ IoU=0.50:0.95 | area=medium | maxDets=100 ] = 0.309\n",
            " Average Precision  (AP) @[ IoU=0.50:0.95 | area= large | maxDets=100 ] = 0.404\n",
            " Average Recall     (AR) @[ IoU=0.50:0.95 | area=   all | maxDets=  1 ] = 0.241\n",
            " Average Recall     (AR) @[ IoU=0.50:0.95 | area=   all | maxDets= 10 ] = 0.337\n",
            " Average Recall     (AR) @[ IoU=0.50:0.95 | area=   all | maxDets=100 ] = 0.341\n",
            " Average Recall     (AR) @[ IoU=0.50:0.95 | area= small | maxDets=100 ] = 0.145\n",
            " Average Recall     (AR) @[ IoU=0.50:0.95 | area=medium | maxDets=100 ] = 0.369\n",
            " Average Recall     (AR) @[ IoU=0.50:0.95 | area= large | maxDets=100 ] = 0.488\n",
            "Loading and preparing results...\n",
            "DONE (t=0.47s)\n",
            "creating index...\n",
            "index created!\n",
            "Running per image evaluation...\n",
            "Evaluate annotation type *segm*\n",
            "DONE (t=19.88s).\n",
            "Accumulating evaluation results...\n",
            "DONE (t=2.47s).\n",
            " Average Precision  (AP) @[ IoU=0.50:0.95 | area=   all | maxDets=100 ] = 0.258\n",
            " Average Precision  (AP) @[ IoU=0.50      | area=   all | maxDets=100 ] = 0.411\n",
            " Average Precision  (AP) @[ IoU=0.75      | area=   all | maxDets=100 ] = 0.276\n",
            " Average Precision  (AP) @[ IoU=0.50:0.95 | area= small | maxDets=100 ] = 0.095\n",
            " Average Precision  (AP) @[ IoU=0.50:0.95 | area=medium | maxDets=100 ] = 0.275\n",
            " Average Precision  (AP) @[ IoU=0.50:0.95 | area= large | maxDets=100 ] = 0.402\n",
            " Average Recall     (AR) @[ IoU=0.50:0.95 | area=   all | maxDets=  1 ] = 0.224\n",
            " Average Recall     (AR) @[ IoU=0.50:0.95 | area=   all | maxDets= 10 ] = 0.310\n",
            " Average Recall     (AR) @[ IoU=0.50:0.95 | area=   all | maxDets=100 ] = 0.313\n",
            " Average Recall     (AR) @[ IoU=0.50:0.95 | area= small | maxDets=100 ] = 0.123\n",
            " Average Recall     (AR) @[ IoU=0.50:0.95 | area=medium | maxDets=100 ] = 0.339\n",
            " Average Recall     (AR) @[ IoU=0.50:0.95 | area= large | maxDets=100 ] = 0.461\n",
            "CPU times: user 6min 42s, sys: 1min 19s, total: 8min 1s\n",
            "Wall time: 8min 9s\n"
          ],
          "name": "stdout"
        }
      ]
    },
    {
      "cell_type": "code",
      "metadata": {
        "id": "_cEokamZu9B9",
        "colab_type": "code",
        "colab": {}
      },
      "source": [
        "result_file = f'coco_val2017_rcnn_3x_q_{quality}.json'\n",
        "import json\n",
        "\n",
        "with open(result_file, 'w') as f:\n",
        "  f.write(json.dumps(results['bbox']))\n",
        "\n",
        "try:\n",
        "  from google.colab import files\n",
        "  files.download(result_file)\n",
        "except ImportError:\n",
        "  # running locally\n",
        "  from IPython.core.display import display, HTML\n",
        "  display(HTML(f'Results: <a href=\"{result_file}\" target=\"_blank\">{result_file}</a>'))"
      ],
      "execution_count": 0,
      "outputs": []
    }
  ]
}