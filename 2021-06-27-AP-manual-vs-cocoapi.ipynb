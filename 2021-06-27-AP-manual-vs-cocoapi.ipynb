{
 "cells": [
  {
   "cell_type": "markdown",
   "metadata": {},
   "source": [
    "### Fixes\n",
    "\n",
    "* performance (`DetectionResults.detections_by_class` memoized)\n",
    "\n",
    "### To do\n",
    "\n",
    "* \"crowd\" GT detection handling (not: mAP.5 = 0.596, mAP.75 = 0.424, AP = 0.396)"
   ]
  },
  {
   "cell_type": "code",
   "execution_count": 1,
   "metadata": {
    "ExecuteTime": {
     "end_time": "2021-06-27T07:30:31.558576Z",
     "start_time": "2021-06-27T07:30:30.698369Z"
    }
   },
   "outputs": [],
   "source": [
    "import numpy as np\n",
    "import pandas as pd\n",
    "from matplotlib import pyplot as plt\n",
    "from evaldets.api import *\n",
    "from uo.utils import *"
   ]
  },
  {
   "cell_type": "code",
   "execution_count": 2,
   "metadata": {
    "ExecuteTime": {
     "end_time": "2021-06-27T07:30:32.399818Z",
     "start_time": "2021-06-27T07:30:31.559979Z"
    }
   },
   "outputs": [
    {
     "name": "stdout",
     "output_type": "stream",
     "text": [
      "Loaded cached detections: ../reval_05/baseline_05/evaluator_dump_R101_101/detections.pkl\n",
      "loading annotations into memory...\n",
      "Done (t=0.53s)\n",
      "creating index...\n",
      "index created!\n"
     ]
    }
   ],
   "source": [
    "dr = DetectionResults('../reval_05/baseline_05/evaluator_dump_R101_101/', area_rng=False, iou_thresh=None, debug=1, cache=1)"
   ]
  },
  {
   "cell_type": "code",
   "execution_count": 3,
   "metadata": {
    "ExecuteTime": {
     "end_time": "2021-06-27T07:30:32.404161Z",
     "start_time": "2021-06-27T07:30:32.401367Z"
    }
   },
   "outputs": [
    {
     "name": "stdout",
     "output_type": "stream",
     "text": [
      "Cached results has no COCOEval to finish.\n"
     ]
    }
   ],
   "source": [
    "dr.finish_cocoeval()"
   ]
  },
  {
   "cell_type": "code",
   "execution_count": 4,
   "metadata": {
    "ExecuteTime": {
     "end_time": "2021-06-27T07:30:33.756598Z",
     "start_time": "2021-06-27T07:30:32.406057Z"
    }
   },
   "outputs": [
    {
     "data": {
      "text/plain": [
       "0.5965284871614273"
      ]
     },
     "execution_count": 4,
     "metadata": {},
     "output_type": "execute_result"
    }
   ],
   "source": [
    "dr.mean_average_precision()"
   ]
  },
  {
   "cell_type": "code",
   "execution_count": 5,
   "metadata": {
    "ExecuteTime": {
     "end_time": "2021-06-27T07:30:34.382100Z",
     "start_time": "2021-06-27T07:30:33.758091Z"
    }
   },
   "outputs": [
    {
     "data": {
      "text/plain": [
       "0.42434852069411794"
      ]
     },
     "execution_count": 5,
     "metadata": {},
     "output_type": "execute_result"
    }
   ],
   "source": [
    "dr.mean_average_precision(0.75)"
   ]
  },
  {
   "cell_type": "code",
   "execution_count": 6,
   "metadata": {
    "ExecuteTime": {
     "end_time": "2021-06-27T07:30:40.865203Z",
     "start_time": "2021-06-27T07:30:34.383533Z"
    }
   },
   "outputs": [
    {
     "data": {
      "text/plain": [
       "0.39657766846245734"
      ]
     },
     "execution_count": 6,
     "metadata": {},
     "output_type": "execute_result"
    }
   ],
   "source": [
    "np.mean([dr.mean_average_precision(t) for t in dr.IOU_THRS])"
   ]
  },
  {
   "cell_type": "code",
   "execution_count": null,
   "metadata": {},
   "outputs": [],
   "source": []
  }
 ],
 "metadata": {
  "kernelspec": {
   "display_name": "Python 3",
   "language": "python",
   "name": "python3"
  },
  "language_info": {
   "codemirror_mode": {
    "name": "ipython",
    "version": 3
   },
   "file_extension": ".py",
   "mimetype": "text/x-python",
   "name": "python",
   "nbconvert_exporter": "python",
   "pygments_lexer": "ipython3",
   "version": "3.9.5"
  },
  "toc": {
   "base_numbering": 1,
   "nav_menu": {},
   "number_sections": true,
   "sideBar": true,
   "skip_h1_title": false,
   "title_cell": "Table of Contents",
   "title_sidebar": "Contents",
   "toc_cell": false,
   "toc_position": {},
   "toc_section_display": true,
   "toc_window_display": false
  }
 },
 "nbformat": 4,
 "nbformat_minor": 4
}
