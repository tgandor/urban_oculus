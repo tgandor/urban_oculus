{
 "cells": [
  {
   "cell_type": "code",
   "execution_count": 1,
   "metadata": {
    "ExecuteTime": {
     "end_time": "2020-04-08T07:57:22.283654Z",
     "start_time": "2020-04-08T07:57:22.063625Z"
    }
   },
   "outputs": [],
   "source": [
    "import numpy as np"
   ]
  },
  {
   "cell_type": "code",
   "execution_count": 2,
   "metadata": {
    "ExecuteTime": {
     "end_time": "2020-04-08T07:57:24.175524Z",
     "start_time": "2020-04-08T07:57:24.163548Z"
    }
   },
   "outputs": [
    {
     "data": {
      "text/plain": [
       "array([[ 0,  1,  2,  3],\n",
       "       [ 4,  5,  6,  7],\n",
       "       [ 8,  9, 10, 11]])"
      ]
     },
     "execution_count": 2,
     "metadata": {},
     "output_type": "execute_result"
    }
   ],
   "source": [
    "x = np.arange(12).reshape((3, 4)); x"
   ]
  },
  {
   "cell_type": "code",
   "execution_count": 9,
   "metadata": {
    "ExecuteTime": {
     "end_time": "2020-04-05T11:21:53.554762Z",
     "start_time": "2020-04-05T11:21:53.550844Z"
    }
   },
   "outputs": [
    {
     "data": {
      "text/plain": [
       "array([[ 0,  1,  3,  6],\n",
       "       [ 4, 10, 18, 28],\n",
       "       [12, 27, 45, 66]])"
      ]
     },
     "execution_count": 9,
     "metadata": {},
     "output_type": "execute_result"
    }
   ],
   "source": [
    "x.cumsum(axis=0).cumsum(axis=1)"
   ]
  },
  {
   "cell_type": "code",
   "execution_count": 11,
   "metadata": {
    "ExecuteTime": {
     "end_time": "2020-04-05T11:22:32.097217Z",
     "start_time": "2020-04-05T11:22:31.982389Z"
    }
   },
   "outputs": [
    {
     "name": "stdout",
     "output_type": "stream",
     "text": [
      "20200405_uiqi_testing.ipynb  image_quality_index.py\r\n"
     ]
    }
   ],
   "source": [
    "!ls"
   ]
  },
  {
   "cell_type": "code",
   "execution_count": 48,
   "metadata": {
    "ExecuteTime": {
     "end_time": "2020-04-05T14:08:04.097189Z",
     "start_time": "2020-04-05T14:08:04.093728Z"
    }
   },
   "outputs": [],
   "source": [
    "%run image_quality_index.py"
   ]
  },
  {
   "cell_type": "code",
   "execution_count": 13,
   "metadata": {
    "ExecuteTime": {
     "end_time": "2020-04-05T11:22:49.314986Z",
     "start_time": "2020-04-05T11:22:49.310320Z"
    }
   },
   "outputs": [
    {
     "data": {
      "text/plain": [
       "66"
      ]
     },
     "execution_count": 13,
     "metadata": {},
     "output_type": "execute_result"
    }
   ],
   "source": [
    "sum(range(12))"
   ]
  },
  {
   "cell_type": "code",
   "execution_count": 14,
   "metadata": {
    "ExecuteTime": {
     "end_time": "2020-04-05T11:55:25.469988Z",
     "start_time": "2020-04-05T11:55:25.463065Z"
    }
   },
   "outputs": [],
   "source": [
    "from scipy.signal import convolve2d"
   ]
  },
  {
   "cell_type": "code",
   "execution_count": 16,
   "metadata": {
    "ExecuteTime": {
     "end_time": "2020-04-05T11:55:55.263441Z",
     "start_time": "2020-04-05T11:55:55.259250Z"
    }
   },
   "outputs": [
    {
     "data": {
      "text/plain": [
       "array([[10., 14., 18.],\n",
       "       [26., 30., 34.]])"
      ]
     },
     "execution_count": 16,
     "metadata": {},
     "output_type": "execute_result"
    }
   ],
   "source": [
    "convolve2d(x, np.ones((2, 2)), mode='valid')"
   ]
  },
  {
   "cell_type": "code",
   "execution_count": 18,
   "metadata": {
    "ExecuteTime": {
     "end_time": "2020-04-05T11:56:25.790422Z",
     "start_time": "2020-04-05T11:56:25.778414Z"
    }
   },
   "outputs": [
    {
     "data": {
      "text/plain": [
       "array([[ 0,  1,  3,  6],\n",
       "       [ 4, 10, 18, 28],\n",
       "       [12, 27, 45, 66]])"
      ]
     },
     "execution_count": 18,
     "metadata": {},
     "output_type": "execute_result"
    }
   ],
   "source": [
    "sums = x.cumsum(0).cumsum(1); sums"
   ]
  },
  {
   "cell_type": "code",
   "execution_count": 31,
   "metadata": {
    "ExecuteTime": {
     "end_time": "2020-04-05T12:33:15.665612Z",
     "start_time": "2020-04-05T12:33:15.660024Z"
    }
   },
   "outputs": [
    {
     "data": {
      "text/plain": [
       "array([[ 0,  0,  0,  0,  0],\n",
       "       [ 0,  0,  1,  3,  6],\n",
       "       [ 0,  4, 10, 18, 28],\n",
       "       [ 0, 12, 27, 45, 66]])"
      ]
     },
     "execution_count": 31,
     "metadata": {},
     "output_type": "execute_result"
    }
   ],
   "source": [
    "s = np.pad(sums, 1)[:-1, :-1]; s"
   ]
  },
  {
   "cell_type": "code",
   "execution_count": 32,
   "metadata": {
    "ExecuteTime": {
     "end_time": "2020-04-05T12:33:18.157226Z",
     "start_time": "2020-04-05T12:33:18.154960Z"
    }
   },
   "outputs": [],
   "source": [
    "kernel = 2"
   ]
  },
  {
   "cell_type": "code",
   "execution_count": 33,
   "metadata": {
    "ExecuteTime": {
     "end_time": "2020-04-05T12:33:18.527436Z",
     "start_time": "2020-04-05T12:33:18.523839Z"
    }
   },
   "outputs": [
    {
     "data": {
      "text/plain": [
       "array([[10, 18, 28],\n",
       "       [27, 45, 66]])"
      ]
     },
     "execution_count": 33,
     "metadata": {},
     "output_type": "execute_result"
    }
   ],
   "source": [
    "s[kernel:, kernel:]"
   ]
  },
  {
   "cell_type": "code",
   "execution_count": 34,
   "metadata": {
    "ExecuteTime": {
     "end_time": "2020-04-05T12:33:20.735514Z",
     "start_time": "2020-04-05T12:33:20.731881Z"
    }
   },
   "outputs": [
    {
     "data": {
      "text/plain": [
       "array([[0, 0, 0],\n",
       "       [0, 0, 1]])"
      ]
     },
     "execution_count": 34,
     "metadata": {},
     "output_type": "execute_result"
    }
   ],
   "source": [
    "s[:-kernel, :-kernel]"
   ]
  },
  {
   "cell_type": "code",
   "execution_count": 35,
   "metadata": {
    "ExecuteTime": {
     "end_time": "2020-04-05T12:33:21.311259Z",
     "start_time": "2020-04-05T12:33:21.307576Z"
    }
   },
   "outputs": [
    {
     "data": {
      "text/plain": [
       "array([[ 0,  4, 10],\n",
       "       [ 0, 12, 27]])"
      ]
     },
     "execution_count": 35,
     "metadata": {},
     "output_type": "execute_result"
    }
   ],
   "source": [
    "s[kernel:, :-kernel]"
   ]
  },
  {
   "cell_type": "code",
   "execution_count": 36,
   "metadata": {
    "ExecuteTime": {
     "end_time": "2020-04-05T12:33:22.241872Z",
     "start_time": "2020-04-05T12:33:22.236694Z"
    }
   },
   "outputs": [
    {
     "data": {
      "text/plain": [
       "array([[0, 0, 0],\n",
       "       [1, 3, 6]])"
      ]
     },
     "execution_count": 36,
     "metadata": {},
     "output_type": "execute_result"
    }
   ],
   "source": [
    "s[:-kernel, kernel:]"
   ]
  },
  {
   "cell_type": "code",
   "execution_count": 37,
   "metadata": {
    "ExecuteTime": {
     "end_time": "2020-04-05T12:33:24.851793Z",
     "start_time": "2020-04-05T12:33:24.847609Z"
    }
   },
   "outputs": [
    {
     "data": {
      "text/plain": [
       "array([[10, 14, 18],\n",
       "       [26, 30, 34]])"
      ]
     },
     "execution_count": 37,
     "metadata": {},
     "output_type": "execute_result"
    }
   ],
   "source": [
    "k = kernel\n",
    "s[k:, k:] + s[:-k, :-k] - s[k:, :-k] - s[:-k, k:]"
   ]
  },
  {
   "cell_type": "code",
   "execution_count": 38,
   "metadata": {
    "ExecuteTime": {
     "end_time": "2020-04-05T12:33:26.881599Z",
     "start_time": "2020-04-05T12:33:26.868681Z"
    }
   },
   "outputs": [
    {
     "data": {
      "text/plain": [
       "array([[10., 14., 18.],\n",
       "       [26., 30., 34.]])"
      ]
     },
     "execution_count": 38,
     "metadata": {},
     "output_type": "execute_result"
    }
   ],
   "source": [
    "convolve2d(x, np.ones((2, 2)), mode='valid')"
   ]
  },
  {
   "cell_type": "code",
   "execution_count": 39,
   "metadata": {
    "ExecuteTime": {
     "end_time": "2020-04-05T13:49:55.832985Z",
     "start_time": "2020-04-05T13:49:55.828101Z"
    }
   },
   "outputs": [
    {
     "name": "stderr",
     "output_type": "stream",
     "text": [
      "/home/tgandor/urban_oculus/metrics/image_quality_index.py:87: RuntimeWarning: invalid value encountered in true_divide\n",
      "  Q_s = 4 * PS_xy * (N * S_xy - PS_xy) / (N*(S_xx + S_yy) - SSS_xy) / SSS_xy\n"
     ]
    },
    {
     "data": {
      "text/plain": [
       "nan"
      ]
     },
     "execution_count": 39,
     "metadata": {},
     "output_type": "execute_result"
    }
   ],
   "source": [
    "universal_image_quality_index(np.zeros((16, 16)), np.zeros((16, 16)))"
   ]
  },
  {
   "cell_type": "code",
   "execution_count": 40,
   "metadata": {
    "ExecuteTime": {
     "end_time": "2020-04-05T13:53:59.973659Z",
     "start_time": "2020-04-05T13:53:59.969743Z"
    }
   },
   "outputs": [
    {
     "data": {
      "text/plain": [
       "nan"
      ]
     },
     "execution_count": 40,
     "metadata": {},
     "output_type": "execute_result"
    }
   ],
   "source": [
    "universal_image_quality_index(np.ones((16, 16)), np.ones((16, 16)))"
   ]
  },
  {
   "cell_type": "code",
   "execution_count": 41,
   "metadata": {
    "ExecuteTime": {
     "end_time": "2020-04-05T13:56:48.006412Z",
     "start_time": "2020-04-05T13:56:47.990932Z"
    }
   },
   "outputs": [
    {
     "name": "stderr",
     "output_type": "stream",
     "text": [
      "/home/tgandor/anaconda3/lib/python3.7/site-packages/ipykernel_launcher.py:24: RuntimeWarning: invalid value encountered in true_divide\n"
     ]
    },
    {
     "data": {
      "text/plain": [
       "array([[nan, nan, nan, nan, nan, nan, nan, nan, nan],\n",
       "       [nan, nan, nan, nan, nan, nan, nan, nan, nan],\n",
       "       [nan, nan, nan, nan, nan, nan, nan, nan, nan],\n",
       "       [nan, nan, nan, nan, nan, nan, nan, nan, nan],\n",
       "       [nan, nan, nan, nan, nan, nan, nan, nan, nan],\n",
       "       [nan, nan, nan, nan, nan, nan, nan, nan, nan],\n",
       "       [nan, nan, nan, nan, nan, nan, nan, nan, nan],\n",
       "       [nan, nan, nan, nan, nan, nan, nan, nan, nan],\n",
       "       [nan, nan, nan, nan, nan, nan, nan, nan, nan]])"
      ]
     },
     "execution_count": 41,
     "metadata": {},
     "output_type": "execute_result"
    }
   ],
   "source": [
    "x = np.ones((16, 16))\n",
    "y = np.ones((16, 16))\n",
    "kernelsize=8\n",
    "\n",
    "\"\"\"Compute the Universal Image Quality Index (UIQI) of x and y.\"\"\"\n",
    "\n",
    "N = kernelsize ** 2\n",
    "kernel = np.ones((kernelsize, kernelsize))\n",
    "\n",
    "x = x.astype(np.float)\n",
    "y = y.astype(np.float)\n",
    "\n",
    "# sums and auxiliary expressions based on sums\n",
    "S_x = convolve2d(x, kernel, mode='valid')\n",
    "S_y = convolve2d(y, kernel, mode='valid')\n",
    "PS_xy = S_x * S_y\n",
    "SSS_xy = S_x*S_x + S_y*S_y\n",
    "\n",
    "# sums of squares and product\n",
    "S_xx = convolve2d(x*x, kernel, mode='valid')\n",
    "S_yy = convolve2d(y*y, kernel, mode='valid')\n",
    "S_xy = convolve2d(x*y, kernel, mode='valid')\n",
    "\n",
    "Q_s = 4 * PS_xy * (N * S_xy - PS_xy) / (N*(S_xx + S_yy) - SSS_xy) / SSS_xy\n",
    "Q_s"
   ]
  },
  {
   "cell_type": "code",
   "execution_count": 42,
   "metadata": {
    "ExecuteTime": {
     "end_time": "2020-04-05T13:56:59.606543Z",
     "start_time": "2020-04-05T13:56:59.602438Z"
    }
   },
   "outputs": [
    {
     "data": {
      "text/plain": [
       "array([[4096., 4096., 4096., 4096., 4096., 4096., 4096., 4096., 4096.],\n",
       "       [4096., 4096., 4096., 4096., 4096., 4096., 4096., 4096., 4096.],\n",
       "       [4096., 4096., 4096., 4096., 4096., 4096., 4096., 4096., 4096.],\n",
       "       [4096., 4096., 4096., 4096., 4096., 4096., 4096., 4096., 4096.],\n",
       "       [4096., 4096., 4096., 4096., 4096., 4096., 4096., 4096., 4096.],\n",
       "       [4096., 4096., 4096., 4096., 4096., 4096., 4096., 4096., 4096.],\n",
       "       [4096., 4096., 4096., 4096., 4096., 4096., 4096., 4096., 4096.],\n",
       "       [4096., 4096., 4096., 4096., 4096., 4096., 4096., 4096., 4096.],\n",
       "       [4096., 4096., 4096., 4096., 4096., 4096., 4096., 4096., 4096.]])"
      ]
     },
     "execution_count": 42,
     "metadata": {},
     "output_type": "execute_result"
    }
   ],
   "source": [
    "PS_xy"
   ]
  },
  {
   "cell_type": "code",
   "execution_count": 43,
   "metadata": {
    "ExecuteTime": {
     "end_time": "2020-04-05T13:57:11.304488Z",
     "start_time": "2020-04-05T13:57:11.298658Z"
    }
   },
   "outputs": [
    {
     "data": {
      "text/plain": [
       "array([[0., 0., 0., 0., 0., 0., 0., 0., 0.],\n",
       "       [0., 0., 0., 0., 0., 0., 0., 0., 0.],\n",
       "       [0., 0., 0., 0., 0., 0., 0., 0., 0.],\n",
       "       [0., 0., 0., 0., 0., 0., 0., 0., 0.],\n",
       "       [0., 0., 0., 0., 0., 0., 0., 0., 0.],\n",
       "       [0., 0., 0., 0., 0., 0., 0., 0., 0.],\n",
       "       [0., 0., 0., 0., 0., 0., 0., 0., 0.],\n",
       "       [0., 0., 0., 0., 0., 0., 0., 0., 0.],\n",
       "       [0., 0., 0., 0., 0., 0., 0., 0., 0.]])"
      ]
     },
     "execution_count": 43,
     "metadata": {},
     "output_type": "execute_result"
    }
   ],
   "source": [
    "N*(S_xx + S_yy) - SSS_xy"
   ]
  },
  {
   "cell_type": "code",
   "execution_count": 44,
   "metadata": {
    "ExecuteTime": {
     "end_time": "2020-04-05T13:57:24.471904Z",
     "start_time": "2020-04-05T13:57:24.466299Z"
    }
   },
   "outputs": [
    {
     "data": {
      "text/plain": [
       "array([[8192., 8192., 8192., 8192., 8192., 8192., 8192., 8192., 8192.],\n",
       "       [8192., 8192., 8192., 8192., 8192., 8192., 8192., 8192., 8192.],\n",
       "       [8192., 8192., 8192., 8192., 8192., 8192., 8192., 8192., 8192.],\n",
       "       [8192., 8192., 8192., 8192., 8192., 8192., 8192., 8192., 8192.],\n",
       "       [8192., 8192., 8192., 8192., 8192., 8192., 8192., 8192., 8192.],\n",
       "       [8192., 8192., 8192., 8192., 8192., 8192., 8192., 8192., 8192.],\n",
       "       [8192., 8192., 8192., 8192., 8192., 8192., 8192., 8192., 8192.],\n",
       "       [8192., 8192., 8192., 8192., 8192., 8192., 8192., 8192., 8192.],\n",
       "       [8192., 8192., 8192., 8192., 8192., 8192., 8192., 8192., 8192.]])"
      ]
     },
     "execution_count": 44,
     "metadata": {},
     "output_type": "execute_result"
    }
   ],
   "source": [
    "SSS_xy"
   ]
  },
  {
   "cell_type": "code",
   "execution_count": 45,
   "metadata": {
    "ExecuteTime": {
     "end_time": "2020-04-05T13:58:45.544636Z",
     "start_time": "2020-04-05T13:58:45.538849Z"
    }
   },
   "outputs": [
    {
     "data": {
      "text/plain": [
       "array([[0., 0., 0., 0., 0., 0., 0., 0., 0.],\n",
       "       [0., 0., 0., 0., 0., 0., 0., 0., 0.],\n",
       "       [0., 0., 0., 0., 0., 0., 0., 0., 0.],\n",
       "       [0., 0., 0., 0., 0., 0., 0., 0., 0.],\n",
       "       [0., 0., 0., 0., 0., 0., 0., 0., 0.],\n",
       "       [0., 0., 0., 0., 0., 0., 0., 0., 0.],\n",
       "       [0., 0., 0., 0., 0., 0., 0., 0., 0.],\n",
       "       [0., 0., 0., 0., 0., 0., 0., 0., 0.],\n",
       "       [0., 0., 0., 0., 0., 0., 0., 0., 0.]])"
      ]
     },
     "execution_count": 45,
     "metadata": {},
     "output_type": "execute_result"
    }
   ],
   "source": [
    "(N * S_xy - PS_xy)"
   ]
  },
  {
   "cell_type": "code",
   "execution_count": 49,
   "metadata": {
    "ExecuteTime": {
     "end_time": "2020-04-05T14:08:13.886520Z",
     "start_time": "2020-04-05T14:08:13.871364Z"
    }
   },
   "outputs": [
    {
     "name": "stderr",
     "output_type": "stream",
     "text": [
      "/home/tgandor/urban_oculus/metrics/image_quality_index.py:87: RuntimeWarning: invalid value encountered in true_divide\n",
      "  Q_s = 4 * PS_xy * (N * S_xy - PS_xy) / (N*(S_xx + S_yy) - SSS_xy) / SSS_xy\n"
     ]
    },
    {
     "data": {
      "text/plain": [
       "{'x': array([[1., 1., 1., 1., 1., 1., 1., 1., 1., 1., 1., 1., 1., 1., 1., 1.],\n",
       "        [1., 1., 1., 1., 1., 1., 1., 1., 1., 1., 1., 1., 1., 1., 1., 1.],\n",
       "        [1., 1., 1., 1., 1., 1., 1., 1., 1., 1., 1., 1., 1., 1., 1., 1.],\n",
       "        [1., 1., 1., 1., 1., 1., 1., 1., 1., 1., 1., 1., 1., 1., 1., 1.],\n",
       "        [1., 1., 1., 1., 1., 1., 1., 1., 1., 1., 1., 1., 1., 1., 1., 1.],\n",
       "        [1., 1., 1., 1., 1., 1., 1., 1., 1., 1., 1., 1., 1., 1., 1., 1.],\n",
       "        [1., 1., 1., 1., 1., 1., 1., 1., 1., 1., 1., 1., 1., 1., 1., 1.],\n",
       "        [1., 1., 1., 1., 1., 1., 1., 1., 1., 1., 1., 1., 1., 1., 1., 1.],\n",
       "        [1., 1., 1., 1., 1., 1., 1., 1., 1., 1., 1., 1., 1., 1., 1., 1.],\n",
       "        [1., 1., 1., 1., 1., 1., 1., 1., 1., 1., 1., 1., 1., 1., 1., 1.],\n",
       "        [1., 1., 1., 1., 1., 1., 1., 1., 1., 1., 1., 1., 1., 1., 1., 1.],\n",
       "        [1., 1., 1., 1., 1., 1., 1., 1., 1., 1., 1., 1., 1., 1., 1., 1.],\n",
       "        [1., 1., 1., 1., 1., 1., 1., 1., 1., 1., 1., 1., 1., 1., 1., 1.],\n",
       "        [1., 1., 1., 1., 1., 1., 1., 1., 1., 1., 1., 1., 1., 1., 1., 1.],\n",
       "        [1., 1., 1., 1., 1., 1., 1., 1., 1., 1., 1., 1., 1., 1., 1., 1.],\n",
       "        [1., 1., 1., 1., 1., 1., 1., 1., 1., 1., 1., 1., 1., 1., 1., 1.]]),\n",
       " 'y': array([[0., 0., 0., 0., 0., 0., 0., 0., 0., 0., 0., 0., 0., 0., 0., 0.],\n",
       "        [0., 0., 0., 0., 0., 0., 0., 0., 0., 0., 0., 0., 0., 0., 0., 0.],\n",
       "        [0., 0., 0., 0., 0., 0., 0., 0., 0., 0., 0., 0., 0., 0., 0., 0.],\n",
       "        [0., 0., 0., 0., 0., 0., 0., 0., 0., 0., 0., 0., 0., 0., 0., 0.],\n",
       "        [0., 0., 0., 0., 0., 0., 0., 0., 0., 0., 0., 0., 0., 0., 0., 0.],\n",
       "        [0., 0., 0., 0., 0., 0., 0., 0., 0., 0., 0., 0., 0., 0., 0., 0.],\n",
       "        [0., 0., 0., 0., 0., 0., 0., 0., 0., 0., 0., 0., 0., 0., 0., 0.],\n",
       "        [0., 0., 0., 0., 0., 0., 0., 0., 0., 0., 0., 0., 0., 0., 0., 0.],\n",
       "        [0., 0., 0., 0., 0., 0., 0., 0., 0., 0., 0., 0., 0., 0., 0., 0.],\n",
       "        [0., 0., 0., 0., 0., 0., 0., 0., 0., 0., 0., 0., 0., 0., 0., 0.],\n",
       "        [0., 0., 0., 0., 0., 0., 0., 0., 0., 0., 0., 0., 0., 0., 0., 0.],\n",
       "        [0., 0., 0., 0., 0., 0., 0., 0., 0., 0., 0., 0., 0., 0., 0., 0.],\n",
       "        [0., 0., 0., 0., 0., 0., 0., 0., 0., 0., 0., 0., 0., 0., 0., 0.],\n",
       "        [0., 0., 0., 0., 0., 0., 0., 0., 0., 0., 0., 0., 0., 0., 0., 0.],\n",
       "        [0., 0., 0., 0., 0., 0., 0., 0., 0., 0., 0., 0., 0., 0., 0., 0.],\n",
       "        [0., 0., 0., 0., 0., 0., 0., 0., 0., 0., 0., 0., 0., 0., 0., 0.]]),\n",
       " 'kernelsize': 8,\n",
       " 'N': 64,\n",
       " 'kernel': array([[1., 1., 1., 1., 1., 1., 1., 1.],\n",
       "        [1., 1., 1., 1., 1., 1., 1., 1.],\n",
       "        [1., 1., 1., 1., 1., 1., 1., 1.],\n",
       "        [1., 1., 1., 1., 1., 1., 1., 1.],\n",
       "        [1., 1., 1., 1., 1., 1., 1., 1.],\n",
       "        [1., 1., 1., 1., 1., 1., 1., 1.],\n",
       "        [1., 1., 1., 1., 1., 1., 1., 1.],\n",
       "        [1., 1., 1., 1., 1., 1., 1., 1.]]),\n",
       " 'S_x': array([[64., 64., 64., 64., 64., 64., 64., 64., 64.],\n",
       "        [64., 64., 64., 64., 64., 64., 64., 64., 64.],\n",
       "        [64., 64., 64., 64., 64., 64., 64., 64., 64.],\n",
       "        [64., 64., 64., 64., 64., 64., 64., 64., 64.],\n",
       "        [64., 64., 64., 64., 64., 64., 64., 64., 64.],\n",
       "        [64., 64., 64., 64., 64., 64., 64., 64., 64.],\n",
       "        [64., 64., 64., 64., 64., 64., 64., 64., 64.],\n",
       "        [64., 64., 64., 64., 64., 64., 64., 64., 64.],\n",
       "        [64., 64., 64., 64., 64., 64., 64., 64., 64.]]),\n",
       " 'S_y': array([[0., 0., 0., 0., 0., 0., 0., 0., 0.],\n",
       "        [0., 0., 0., 0., 0., 0., 0., 0., 0.],\n",
       "        [0., 0., 0., 0., 0., 0., 0., 0., 0.],\n",
       "        [0., 0., 0., 0., 0., 0., 0., 0., 0.],\n",
       "        [0., 0., 0., 0., 0., 0., 0., 0., 0.],\n",
       "        [0., 0., 0., 0., 0., 0., 0., 0., 0.],\n",
       "        [0., 0., 0., 0., 0., 0., 0., 0., 0.],\n",
       "        [0., 0., 0., 0., 0., 0., 0., 0., 0.],\n",
       "        [0., 0., 0., 0., 0., 0., 0., 0., 0.]]),\n",
       " 'PS_xy': array([[0., 0., 0., 0., 0., 0., 0., 0., 0.],\n",
       "        [0., 0., 0., 0., 0., 0., 0., 0., 0.],\n",
       "        [0., 0., 0., 0., 0., 0., 0., 0., 0.],\n",
       "        [0., 0., 0., 0., 0., 0., 0., 0., 0.],\n",
       "        [0., 0., 0., 0., 0., 0., 0., 0., 0.],\n",
       "        [0., 0., 0., 0., 0., 0., 0., 0., 0.],\n",
       "        [0., 0., 0., 0., 0., 0., 0., 0., 0.],\n",
       "        [0., 0., 0., 0., 0., 0., 0., 0., 0.],\n",
       "        [0., 0., 0., 0., 0., 0., 0., 0., 0.]]),\n",
       " 'SSS_xy': array([[4096., 4096., 4096., 4096., 4096., 4096., 4096., 4096., 4096.],\n",
       "        [4096., 4096., 4096., 4096., 4096., 4096., 4096., 4096., 4096.],\n",
       "        [4096., 4096., 4096., 4096., 4096., 4096., 4096., 4096., 4096.],\n",
       "        [4096., 4096., 4096., 4096., 4096., 4096., 4096., 4096., 4096.],\n",
       "        [4096., 4096., 4096., 4096., 4096., 4096., 4096., 4096., 4096.],\n",
       "        [4096., 4096., 4096., 4096., 4096., 4096., 4096., 4096., 4096.],\n",
       "        [4096., 4096., 4096., 4096., 4096., 4096., 4096., 4096., 4096.],\n",
       "        [4096., 4096., 4096., 4096., 4096., 4096., 4096., 4096., 4096.],\n",
       "        [4096., 4096., 4096., 4096., 4096., 4096., 4096., 4096., 4096.]]),\n",
       " 'S_xx': array([[64., 64., 64., 64., 64., 64., 64., 64., 64.],\n",
       "        [64., 64., 64., 64., 64., 64., 64., 64., 64.],\n",
       "        [64., 64., 64., 64., 64., 64., 64., 64., 64.],\n",
       "        [64., 64., 64., 64., 64., 64., 64., 64., 64.],\n",
       "        [64., 64., 64., 64., 64., 64., 64., 64., 64.],\n",
       "        [64., 64., 64., 64., 64., 64., 64., 64., 64.],\n",
       "        [64., 64., 64., 64., 64., 64., 64., 64., 64.],\n",
       "        [64., 64., 64., 64., 64., 64., 64., 64., 64.],\n",
       "        [64., 64., 64., 64., 64., 64., 64., 64., 64.]]),\n",
       " 'S_yy': array([[0., 0., 0., 0., 0., 0., 0., 0., 0.],\n",
       "        [0., 0., 0., 0., 0., 0., 0., 0., 0.],\n",
       "        [0., 0., 0., 0., 0., 0., 0., 0., 0.],\n",
       "        [0., 0., 0., 0., 0., 0., 0., 0., 0.],\n",
       "        [0., 0., 0., 0., 0., 0., 0., 0., 0.],\n",
       "        [0., 0., 0., 0., 0., 0., 0., 0., 0.],\n",
       "        [0., 0., 0., 0., 0., 0., 0., 0., 0.],\n",
       "        [0., 0., 0., 0., 0., 0., 0., 0., 0.],\n",
       "        [0., 0., 0., 0., 0., 0., 0., 0., 0.]]),\n",
       " 'S_xy': array([[0., 0., 0., 0., 0., 0., 0., 0., 0.],\n",
       "        [0., 0., 0., 0., 0., 0., 0., 0., 0.],\n",
       "        [0., 0., 0., 0., 0., 0., 0., 0., 0.],\n",
       "        [0., 0., 0., 0., 0., 0., 0., 0., 0.],\n",
       "        [0., 0., 0., 0., 0., 0., 0., 0., 0.],\n",
       "        [0., 0., 0., 0., 0., 0., 0., 0., 0.],\n",
       "        [0., 0., 0., 0., 0., 0., 0., 0., 0.],\n",
       "        [0., 0., 0., 0., 0., 0., 0., 0., 0.],\n",
       "        [0., 0., 0., 0., 0., 0., 0., 0., 0.]]),\n",
       " 'Q_s': array([[nan, nan, nan, nan, nan, nan, nan, nan, nan],\n",
       "        [nan, nan, nan, nan, nan, nan, nan, nan, nan],\n",
       "        [nan, nan, nan, nan, nan, nan, nan, nan, nan],\n",
       "        [nan, nan, nan, nan, nan, nan, nan, nan, nan],\n",
       "        [nan, nan, nan, nan, nan, nan, nan, nan, nan],\n",
       "        [nan, nan, nan, nan, nan, nan, nan, nan, nan],\n",
       "        [nan, nan, nan, nan, nan, nan, nan, nan, nan],\n",
       "        [nan, nan, nan, nan, nan, nan, nan, nan, nan],\n",
       "        [nan, nan, nan, nan, nan, nan, nan, nan, nan]])}"
      ]
     },
     "execution_count": 49,
     "metadata": {},
     "output_type": "execute_result"
    }
   ],
   "source": [
    "universal_image_quality_index(np.ones((16, 16)), np.zeros((16, 16)))"
   ]
  },
  {
   "cell_type": "code",
   "execution_count": 47,
   "metadata": {
    "ExecuteTime": {
     "end_time": "2020-04-05T14:03:54.480915Z",
     "start_time": "2020-04-05T14:03:54.474863Z"
    }
   },
   "outputs": [
    {
     "data": {
      "text/plain": [
       "8192.0"
      ]
     },
     "execution_count": 47,
     "metadata": {},
     "output_type": "execute_result"
    }
   ],
   "source": [
    "np.mean(SSS_xy)"
   ]
  },
  {
   "cell_type": "code",
   "execution_count": 51,
   "metadata": {
    "ExecuteTime": {
     "end_time": "2020-04-05T14:10:40.337408Z",
     "start_time": "2020-04-05T14:10:40.330303Z"
    }
   },
   "outputs": [],
   "source": [
    "x = np.random.rand(10, 10)"
   ]
  },
  {
   "cell_type": "code",
   "execution_count": 52,
   "metadata": {
    "ExecuteTime": {
     "end_time": "2020-04-05T14:10:49.290799Z",
     "start_time": "2020-04-05T14:10:49.283159Z"
    }
   },
   "outputs": [
    {
     "data": {
      "text/plain": [
       "{'x': array([[0.9425325 , 0.6349265 , 0.24474178, 0.30041198, 0.93080761,\n",
       "         0.67777905, 0.51693378, 0.32142441, 0.14177872, 0.09199557],\n",
       "        [0.331864  , 0.27492898, 0.20934557, 0.93943741, 0.44703633,\n",
       "         0.1921398 , 0.51515082, 0.12747245, 0.61275286, 0.79767359],\n",
       "        [0.57980929, 0.29993232, 0.68758202, 0.99502197, 0.99701278,\n",
       "         0.69880299, 0.93968597, 0.36713705, 0.52582796, 0.0713032 ],\n",
       "        [0.49798293, 0.27056153, 0.53679055, 0.03876848, 0.59512897,\n",
       "         0.5660726 , 0.8249536 , 0.06954801, 0.57553549, 0.16621447],\n",
       "        [0.4454147 , 0.82227426, 0.01482638, 0.51401501, 0.02049448,\n",
       "         0.0223382 , 0.66733805, 0.78106726, 0.32799368, 0.70126886],\n",
       "        [0.5659409 , 0.17358483, 0.85983122, 0.40577876, 0.72307988,\n",
       "         0.04629369, 0.83427597, 0.52816674, 0.62120573, 0.76632135],\n",
       "        [0.1767921 , 0.9593421 , 0.23954066, 0.10944297, 0.56621979,\n",
       "         0.96270083, 0.42518789, 0.32034231, 0.04252749, 0.6502322 ],\n",
       "        [0.2515735 , 0.38318205, 0.62494384, 0.12583829, 0.10533641,\n",
       "         0.77485941, 0.95327829, 0.86241257, 0.9038362 , 0.78734058],\n",
       "        [0.46552551, 0.52075116, 0.25780889, 0.90015756, 0.41347919,\n",
       "         0.51347078, 0.18975461, 0.07120507, 0.32535382, 0.563851  ],\n",
       "        [0.40155987, 0.79870533, 0.17041902, 0.88003393, 0.59488854,\n",
       "         0.88898358, 0.94985389, 0.54277347, 0.82754879, 0.60959127]]),\n",
       " 'y': array([[0.9425325 , 0.6349265 , 0.24474178, 0.30041198, 0.93080761,\n",
       "         0.67777905, 0.51693378, 0.32142441, 0.14177872, 0.09199557],\n",
       "        [0.331864  , 0.27492898, 0.20934557, 0.93943741, 0.44703633,\n",
       "         0.1921398 , 0.51515082, 0.12747245, 0.61275286, 0.79767359],\n",
       "        [0.57980929, 0.29993232, 0.68758202, 0.99502197, 0.99701278,\n",
       "         0.69880299, 0.93968597, 0.36713705, 0.52582796, 0.0713032 ],\n",
       "        [0.49798293, 0.27056153, 0.53679055, 0.03876848, 0.59512897,\n",
       "         0.5660726 , 0.8249536 , 0.06954801, 0.57553549, 0.16621447],\n",
       "        [0.4454147 , 0.82227426, 0.01482638, 0.51401501, 0.02049448,\n",
       "         0.0223382 , 0.66733805, 0.78106726, 0.32799368, 0.70126886],\n",
       "        [0.5659409 , 0.17358483, 0.85983122, 0.40577876, 0.72307988,\n",
       "         0.04629369, 0.83427597, 0.52816674, 0.62120573, 0.76632135],\n",
       "        [0.1767921 , 0.9593421 , 0.23954066, 0.10944297, 0.56621979,\n",
       "         0.96270083, 0.42518789, 0.32034231, 0.04252749, 0.6502322 ],\n",
       "        [0.2515735 , 0.38318205, 0.62494384, 0.12583829, 0.10533641,\n",
       "         0.77485941, 0.95327829, 0.86241257, 0.9038362 , 0.78734058],\n",
       "        [0.46552551, 0.52075116, 0.25780889, 0.90015756, 0.41347919,\n",
       "         0.51347078, 0.18975461, 0.07120507, 0.32535382, 0.563851  ],\n",
       "        [0.40155987, 0.79870533, 0.17041902, 0.88003393, 0.59488854,\n",
       "         0.88898358, 0.94985389, 0.54277347, 0.82754879, 0.60959127]]),\n",
       " 'kernelsize': 8,\n",
       " 'N': 64,\n",
       " 'kernel': array([[1., 1., 1., 1., 1., 1., 1., 1.],\n",
       "        [1., 1., 1., 1., 1., 1., 1., 1.],\n",
       "        [1., 1., 1., 1., 1., 1., 1., 1.],\n",
       "        [1., 1., 1., 1., 1., 1., 1., 1.],\n",
       "        [1., 1., 1., 1., 1., 1., 1., 1.],\n",
       "        [1., 1., 1., 1., 1., 1., 1., 1.],\n",
       "        [1., 1., 1., 1., 1., 1., 1., 1.],\n",
       "        [1., 1., 1., 1., 1., 1., 1., 1.]]),\n",
       " 'S_x': array([[31.83743734, 31.79698555, 32.01060281],\n",
       "        [30.60003253, 31.22016282, 32.01981084],\n",
       "        [32.78987481, 33.55510516, 33.6428945 ]]),\n",
       " 'S_y': array([[31.83743734, 31.79698555, 32.01060281],\n",
       "        [30.60003253, 31.22016282, 32.01981084],\n",
       "        [32.78987481, 33.55510516, 33.6428945 ]]),\n",
       " 'PS_xy': array([[1013.6224167 , 1011.04829028, 1024.67869257],\n",
       "        [ 936.36199055,  974.69856651, 1025.26828592],\n",
       "        [1075.17589037, 1125.94508228, 1131.84435059]]),\n",
       " 'SSS_xy': array([[2027.24483339, 2022.09658057, 2049.35738514],\n",
       "        [1872.7239811 , 1949.39713302, 2050.53657183],\n",
       "        [2150.35178075, 2251.89016455, 2263.68870117]]),\n",
       " 'S_xx': array([[21.51031233, 21.62992554, 22.01380387],\n",
       "        [20.21268494, 21.08970556, 21.91499854],\n",
       "        [22.52590082, 23.66117576, 23.65944284]]),\n",
       " 'S_yy': array([[21.51031233, 21.62992554, 22.01380387],\n",
       "        [20.21268494, 21.08970556, 21.91499854],\n",
       "        [22.52590082, 23.66117576, 23.65944284]]),\n",
       " 'S_xy': array([[21.51031233, 21.62992554, 22.01380387],\n",
       "        [20.21268494, 21.08970556, 21.91499854],\n",
       "        [22.52590082, 23.66117576, 23.65944284]]),\n",
       " 'Q_s': array([[1., 1., 1.],\n",
       "        [1., 1., 1.],\n",
       "        [1., 1., 1.]])}"
      ]
     },
     "execution_count": 52,
     "metadata": {},
     "output_type": "execute_result"
    }
   ],
   "source": [
    "universal_image_quality_index(x, x)"
   ]
  },
  {
   "cell_type": "code",
   "execution_count": 58,
   "metadata": {
    "ExecuteTime": {
     "end_time": "2020-04-05T17:42:25.138154Z",
     "start_time": "2020-04-05T17:42:25.132123Z"
    }
   },
   "outputs": [
    {
     "data": {
      "text/plain": [
       "array([[0.        , 0.        ],\n",
       "       [0.        , 0.33333333]])"
      ]
     },
     "execution_count": 58,
     "metadata": {},
     "output_type": "execute_result"
    }
   ],
   "source": [
    "np.cov([[1, 1, 1], [1, 0, 1]])"
   ]
  },
  {
   "cell_type": "code",
   "execution_count": 4,
   "metadata": {
    "ExecuteTime": {
     "end_time": "2020-04-07T17:29:38.568093Z",
     "start_time": "2020-04-07T17:29:38.552936Z"
    }
   },
   "outputs": [],
   "source": [
    "def partial_sums(x, kernel_size=8):\n",
    "    \"\"\"Calculate partial sums of array in boxes (kernel_size x kernel_size).\n",
    "\n",
    "    This corresponds to:\n",
    "    scipy.signal.convolve2d(x, np.ones((kernel_size, kernel_size)), mode='valid')\n",
    "    >>> \n",
    "    \"\"\"\n",
    "    assert len(x.shape) >= 2 and x.shape[0] >= kernel_size and x.shape[1] >= kernel_size\n",
    "    sums = x.cumsum(axis=0).cumsum(axis=1)\n",
    "    sums = np.pad(sums, 1)[:-1, :-1]\n",
    "    return (\n",
    "        sums[kernel_size:, kernel_size:]\n",
    "        + sums[:-kernel_size, :-kernel_size]\n",
    "        - sums[:-kernel_size, kernel_size:]\n",
    "        - sums[kernel_size:, :-kernel_size]\n",
    "    )"
   ]
  },
  {
   "cell_type": "code",
   "execution_count": 5,
   "metadata": {
    "ExecuteTime": {
     "end_time": "2020-04-07T17:29:39.064940Z",
     "start_time": "2020-04-07T17:29:39.033966Z"
    }
   },
   "outputs": [
    {
     "data": {
      "text/plain": [
       "array([[10, 14, 18],\n",
       "       [26, 30, 34]])"
      ]
     },
     "execution_count": 5,
     "metadata": {},
     "output_type": "execute_result"
    }
   ],
   "source": [
    "partial_sums(np.arange(12).reshape(3, 4), 2)"
   ]
  },
  {
   "cell_type": "markdown",
   "metadata": {},
   "source": [
    "## 2020-04-08 (Holy Wednesday)"
   ]
  },
  {
   "cell_type": "code",
   "execution_count": 4,
   "metadata": {
    "ExecuteTime": {
     "end_time": "2020-04-08T07:58:53.771583Z",
     "start_time": "2020-04-08T07:58:53.714277Z"
    }
   },
   "outputs": [
    {
     "ename": "TypeError",
     "evalue": "__new__() missing 1 required positional argument: 'dtype'",
     "output_type": "error",
     "traceback": [
      "\u001b[0;31m---------------------------------------------------------------------------\u001b[0m",
      "\u001b[0;31mTypeError\u001b[0m                                 Traceback (most recent call last)",
      "\u001b[0;32m<ipython-input-4-5f9b64e26524>\u001b[0m in \u001b[0;36m<module>\u001b[0;34m\u001b[0m\n\u001b[0;32m----> 1\u001b[0;31m \u001b[0mnp\u001b[0m\u001b[0;34m.\u001b[0m\u001b[0mfinfo\u001b[0m\u001b[0;34m(\u001b[0m\u001b[0;34m)\u001b[0m\u001b[0;34m\u001b[0m\u001b[0;34m\u001b[0m\u001b[0m\n\u001b[0m",
      "\u001b[0;31mTypeError\u001b[0m: __new__() missing 1 required positional argument: 'dtype'"
     ]
    }
   ],
   "source": [
    "np.finfo()"
   ]
  },
  {
   "cell_type": "code",
   "execution_count": 5,
   "metadata": {
    "ExecuteTime": {
     "end_time": "2020-04-08T07:59:12.231060Z",
     "start_time": "2020-04-08T07:59:12.221718Z"
    }
   },
   "outputs": [],
   "source": [
    "x = np.zeros(5)"
   ]
  },
  {
   "cell_type": "code",
   "execution_count": null,
   "metadata": {},
   "outputs": [],
   "source": []
  },
  {
   "cell_type": "code",
   "execution_count": 7,
   "metadata": {
    "ExecuteTime": {
     "end_time": "2020-04-08T07:59:29.491702Z",
     "start_time": "2020-04-08T07:59:29.480023Z"
    }
   },
   "outputs": [
    {
     "data": {
      "text/plain": [
       "finfo(resolution=1e-15, min=-1.7976931348623157e+308, max=1.7976931348623157e+308, dtype=float64)"
      ]
     },
     "execution_count": 7,
     "metadata": {},
     "output_type": "execute_result"
    }
   ],
   "source": [
    "np.finfo(x.dtype)"
   ]
  },
  {
   "cell_type": "code",
   "execution_count": 9,
   "metadata": {
    "ExecuteTime": {
     "end_time": "2020-04-08T07:59:57.413212Z",
     "start_time": "2020-04-08T07:59:57.401636Z"
    }
   },
   "outputs": [
    {
     "data": {
      "text/plain": [
       "2.220446049250313e-16"
      ]
     },
     "execution_count": 9,
     "metadata": {},
     "output_type": "execute_result"
    }
   ],
   "source": [
    "np.finfo(x.dtype).eps"
   ]
  },
  {
   "cell_type": "code",
   "execution_count": 10,
   "metadata": {
    "ExecuteTime": {
     "end_time": "2020-04-08T08:00:05.667058Z",
     "start_time": "2020-04-08T08:00:05.662211Z"
    }
   },
   "outputs": [
    {
     "data": {
      "text/plain": [
       "1.0"
      ]
     },
     "execution_count": 10,
     "metadata": {},
     "output_type": "execute_result"
    }
   ],
   "source": [
    "np.finfo(x.dtype).eps / np.finfo(x.dtype).eps"
   ]
  },
  {
   "cell_type": "code",
   "execution_count": 11,
   "metadata": {
    "ExecuteTime": {
     "end_time": "2020-04-08T08:03:45.091537Z",
     "start_time": "2020-04-08T08:03:45.087936Z"
    }
   },
   "outputs": [
    {
     "data": {
      "text/plain": [
       "1.4901161193847656e-08"
      ]
     },
     "execution_count": 11,
     "metadata": {},
     "output_type": "execute_result"
    }
   ],
   "source": [
    "np.finfo(x.dtype).eps ** 0.5"
   ]
  },
  {
   "cell_type": "code",
   "execution_count": 13,
   "metadata": {
    "ExecuteTime": {
     "end_time": "2020-04-08T10:39:06.119921Z",
     "start_time": "2020-04-08T10:39:06.116530Z"
    }
   },
   "outputs": [
    {
     "data": {
      "text/plain": [
       "2.220446049250313e-16"
      ]
     },
     "execution_count": 13,
     "metadata": {},
     "output_type": "execute_result"
    }
   ],
   "source": [
    "np.finfo(np.float).eps"
   ]
  },
  {
   "cell_type": "code",
   "execution_count": 14,
   "metadata": {
    "ExecuteTime": {
     "end_time": "2020-04-08T10:39:15.774544Z",
     "start_time": "2020-04-08T10:39:15.768596Z"
    }
   },
   "outputs": [
    {
     "data": {
      "text/plain": [
       "2.220446049250313e-16"
      ]
     },
     "execution_count": 14,
     "metadata": {},
     "output_type": "execute_result"
    }
   ],
   "source": [
    "np.finfo(np.float64).eps"
   ]
  },
  {
   "cell_type": "code",
   "execution_count": 15,
   "metadata": {
    "ExecuteTime": {
     "end_time": "2020-04-08T10:39:26.424999Z",
     "start_time": "2020-04-08T10:39:26.413964Z"
    }
   },
   "outputs": [
    {
     "data": {
      "text/plain": [
       "2.220446049250313e-16"
      ]
     },
     "execution_count": 15,
     "metadata": {},
     "output_type": "execute_result"
    }
   ],
   "source": [
    "np.finfo(float).eps"
   ]
  },
  {
   "cell_type": "code",
   "execution_count": 16,
   "metadata": {
    "ExecuteTime": {
     "end_time": "2020-04-08T10:39:55.429528Z",
     "start_time": "2020-04-08T10:39:55.423193Z"
    }
   },
   "outputs": [
    {
     "data": {
      "text/plain": [
       "1.1920929e-07"
      ]
     },
     "execution_count": 16,
     "metadata": {},
     "output_type": "execute_result"
    }
   ],
   "source": [
    "np.finfo(np.float32).eps"
   ]
  },
  {
   "cell_type": "code",
   "execution_count": 34,
   "metadata": {
    "ExecuteTime": {
     "end_time": "2020-04-08T10:55:00.441729Z",
     "start_time": "2020-04-08T10:55:00.433317Z"
    }
   },
   "outputs": [],
   "source": [
    "def partial_sums(x, kernel_size=8):\n",
    "    \"\"\"Calculate partial sums of array in boxes (kernel_size x kernel_size).\n",
    "\n",
    "    This corresponds to:\n",
    "    scipy.signal.convolve2d(x, np.ones((kernel_size, kernel_size)), mode='valid')\n",
    "    >>> partial_sums(np.arange(12).reshape(3, 4), 2)\n",
    "    array([[10, 14, 18],\n",
    "           [26, 30, 34]])\n",
    "    \"\"\"\n",
    "    assert len(x.shape) >= 2 and x.shape[0] >= kernel_size and x.shape[1] >= kernel_size\n",
    "    sums = x.cumsum(axis=0).cumsum(axis=1)\n",
    "    sums = np.pad(sums, 1)[:-1, :-1]\n",
    "    return (\n",
    "        sums[kernel_size:, kernel_size:]\n",
    "        + sums[:-kernel_size, :-kernel_size]\n",
    "        - sums[:-kernel_size, kernel_size:]\n",
    "        - sums[kernel_size:, :-kernel_size]\n",
    "    )\n",
    "\n",
    "\n",
    "def universal_image_quality_index(x, y, kernel_size=8):\n",
    "    \"\"\"Compute the Universal Image Quality Index (UIQI) of x and y.\"\"\"\n",
    "\n",
    "    N = kernel_size ** 2\n",
    "\n",
    "    x = x.astype(np.float)\n",
    "    y = y.astype(np.float)\n",
    "    e = np.finfo(np.float).eps\n",
    "\n",
    "    # sums and auxiliary expressions based on sums\n",
    "    S_x = partial_sums(x, kernel_size)\n",
    "    S_y = partial_sums(y, kernel_size)\n",
    "    PS_xy = S_x * S_y\n",
    "    SSS_xy = S_x*S_x + S_y*S_y\n",
    "\n",
    "    # sums of squares and product\n",
    "    S_xx = partial_sums(x*x, kernel_size)\n",
    "    S_yy = partial_sums(y*y, kernel_size)\n",
    "    S_xy = partial_sums(x*y, kernel_size)\n",
    "\n",
    "    num = 4 * PS_xy * (N * S_xy - PS_xy)\n",
    "    den = (N*(S_xx + S_yy) - SSS_xy) * (SSS_xy)\n",
    "\n",
    "    Q_s = (num) / (den + e)\n",
    "    result = np.mean(Q_s)\n",
    "    del x, y\n",
    "    return locals()"
   ]
  },
  {
   "cell_type": "code",
   "execution_count": 26,
   "metadata": {
    "ExecuteTime": {
     "end_time": "2020-04-08T10:51:37.763618Z",
     "start_time": "2020-04-08T10:51:37.760514Z"
    }
   },
   "outputs": [],
   "source": [
    "x = np.random.rand(16, 16)"
   ]
  },
  {
   "cell_type": "code",
   "execution_count": 35,
   "metadata": {
    "ExecuteTime": {
     "end_time": "2020-04-08T10:55:02.262358Z",
     "start_time": "2020-04-08T10:55:02.239656Z"
    }
   },
   "outputs": [
    {
     "data": {
      "text/plain": [
       "{'kernel_size': 8,\n",
       " 'N': 64,\n",
       " 'e': 2.220446049250313e-16,\n",
       " 'S_x': array([[30.33723397, 32.30269323, 32.81360031, 32.29380303, 33.26003577,\n",
       "         32.01589517, 32.00589787, 32.68942674, 34.20586791],\n",
       "        [29.4781619 , 32.38085381, 33.98964906, 33.47986551, 33.73417387,\n",
       "         33.14762521, 33.02663137, 34.06630022, 35.08424216],\n",
       "        [29.64164356, 31.50323339, 32.99276081, 33.09497516, 33.05249883,\n",
       "         32.00433143, 31.52631782, 33.08891374, 32.69156845],\n",
       "        [29.08028638, 31.56061097, 32.48503037, 32.02187898, 32.00949814,\n",
       "         30.80320108, 30.90844707, 31.69703775, 32.00196186],\n",
       "        [29.3588738 , 31.43743718, 32.4835899 , 32.36038313, 32.14951703,\n",
       "         31.43348227, 30.7221967 , 31.30197747, 32.06216783],\n",
       "        [30.60561599, 31.72312983, 32.96907296, 33.34881515, 33.25677245,\n",
       "         32.89080868, 32.22214224, 33.0622958 , 34.03860726],\n",
       "        [29.42173172, 31.20955036, 31.29991111, 31.48684739, 30.81779362,\n",
       "         30.82571422, 30.3169829 , 31.47312598, 32.35862038],\n",
       "        [30.2195269 , 31.10564885, 31.43338929, 31.7858893 , 31.59351323,\n",
       "         31.75290102, 31.02843394, 31.27040483, 31.28537959],\n",
       "        [31.01321806, 32.00089037, 32.23548154, 32.59596324, 33.37347838,\n",
       "         34.03569616, 32.68292699, 32.69612415, 32.43364785]]),\n",
       " 'S_y': array([[30.33723397, 32.30269323, 32.81360031, 32.29380303, 33.26003577,\n",
       "         32.01589517, 32.00589787, 32.68942674, 34.20586791],\n",
       "        [29.4781619 , 32.38085381, 33.98964906, 33.47986551, 33.73417387,\n",
       "         33.14762521, 33.02663137, 34.06630022, 35.08424216],\n",
       "        [29.64164356, 31.50323339, 32.99276081, 33.09497516, 33.05249883,\n",
       "         32.00433143, 31.52631782, 33.08891374, 32.69156845],\n",
       "        [29.08028638, 31.56061097, 32.48503037, 32.02187898, 32.00949814,\n",
       "         30.80320108, 30.90844707, 31.69703775, 32.00196186],\n",
       "        [29.3588738 , 31.43743718, 32.4835899 , 32.36038313, 32.14951703,\n",
       "         31.43348227, 30.7221967 , 31.30197747, 32.06216783],\n",
       "        [30.60561599, 31.72312983, 32.96907296, 33.34881515, 33.25677245,\n",
       "         32.89080868, 32.22214224, 33.0622958 , 34.03860726],\n",
       "        [29.42173172, 31.20955036, 31.29991111, 31.48684739, 30.81779362,\n",
       "         30.82571422, 30.3169829 , 31.47312598, 32.35862038],\n",
       "        [30.2195269 , 31.10564885, 31.43338929, 31.7858893 , 31.59351323,\n",
       "         31.75290102, 31.02843394, 31.27040483, 31.28537959],\n",
       "        [31.01321806, 32.00089037, 32.23548154, 32.59596324, 33.37347838,\n",
       "         34.03569616, 32.68292699, 32.69612415, 32.43364785]]),\n",
       " 'PS_xy': array([[ 920.34776472, 1043.46398964, 1076.73236546, 1042.88971389,\n",
       "         1106.22997971, 1025.01754362, 1024.3774982 , 1068.59862052,\n",
       "         1170.04139924],\n",
       "        [ 868.96202926, 1048.51969353, 1155.29624336, 1120.90139436,\n",
       "         1137.99448677, 1098.76505739, 1090.75837968, 1160.51281062,\n",
       "         1230.90404787],\n",
       "        [ 878.62703272,  992.45371378, 1088.52226587, 1095.27738075,\n",
       "         1092.46767896, 1024.27723052,  993.90871531, 1094.87621218,\n",
       "         1068.73864771],\n",
       "        [ 845.66305581,  996.07216502, 1055.27719798, 1025.40073363,\n",
       "         1024.60797149,  948.8371966 ,  955.33210054, 1004.70220237,\n",
       "         1024.125563  ],\n",
       "        [ 861.94347053,  988.31245667, 1055.18361278, 1047.19439658,\n",
       "         1033.59144553,  988.06380742,  943.85337032,  979.81379336,\n",
       "         1027.98260627],\n",
       "        [ 936.70373039, 1006.35696599, 1086.95977196, 1112.14347196,\n",
       "         1106.01291379, 1081.80529577, 1038.26645034, 1093.11540387,\n",
       "         1158.62678398],\n",
       "        [ 865.63829718,  974.03603399,  979.68443572,  991.42155833,\n",
       "          949.73640391,  950.22465742,  919.11945245,  990.55765884,\n",
       "         1047.08031315],\n",
       "        [ 913.21980579,  967.56139034,  988.05796241, 1010.3427587 ,\n",
       "          998.15007818, 1008.24672324,  962.76371267,  977.83821848,\n",
       "          978.77497588],\n",
       "        [ 961.81969429, 1024.05698479, 1039.12626991, 1062.49681979,\n",
       "         1113.78905914, 1158.42861305, 1068.17371649, 1069.03653456,\n",
       "         1051.94151318]]),\n",
       " 'SSS_xy': array([[1840.69552943, 2086.92797928, 2153.46473092, 2085.77942777,\n",
       "         2212.45995942, 2050.03508724, 2048.7549964 , 2137.19724105,\n",
       "         2340.08279848],\n",
       "        [1737.92405853, 2097.03938706, 2310.59248672, 2241.80278872,\n",
       "         2275.98897355, 2197.53011478, 2181.51675936, 2321.02562123,\n",
       "         2461.80809574],\n",
       "        [1757.25406544, 1984.90742756, 2177.04453175, 2190.55476151,\n",
       "         2184.93535791, 2048.55446104, 1987.81743063, 2189.75242435,\n",
       "         2137.47729542],\n",
       "        [1691.32611162, 1992.14433004, 2110.55439596, 2050.80146726,\n",
       "         2049.21594298, 1897.6743932 , 1910.66420108, 2009.40440474,\n",
       "         2048.25112601],\n",
       "        [1723.88694105, 1976.62491333, 2110.36722556, 2094.38879315,\n",
       "         2067.18289106, 1976.12761484, 1887.70674065, 1959.62758672,\n",
       "         2055.96521253],\n",
       "        [1873.40746078, 2012.71393198, 2173.91954391, 2224.28694391,\n",
       "         2212.02582758, 2163.61059154, 2076.53290069, 2186.23080774,\n",
       "         2317.25356797],\n",
       "        [1731.27659436, 1948.07206797, 1959.36887144, 1982.84311666,\n",
       "         1899.47280781, 1900.44931484, 1838.23890491, 1981.11531768,\n",
       "         2094.1606263 ],\n",
       "        [1826.43961158, 1935.12278068, 1976.11592482, 2020.68551739,\n",
       "         1996.30015637, 2016.49344647, 1925.52742534, 1955.67643696,\n",
       "         1957.54995175],\n",
       "        [1923.63938859, 2048.11396958, 2078.25253981, 2124.99363958,\n",
       "         2227.57811829, 2316.85722611, 2136.34743299, 2138.07306912,\n",
       "         2103.88302636]]),\n",
       " 'S_xx': array([[21.05763457, 22.9193501 , 23.38352561, 22.55003693, 23.11504271,\n",
       "         21.97045489, 21.5931457 , 21.8345405 , 23.22512397],\n",
       "        [20.19197775, 22.99832813, 24.21692644, 23.0641693 , 23.12897242,\n",
       "         22.58608103, 22.20162338, 22.67312082, 23.78062704],\n",
       "        [20.12830642, 21.86813871, 22.95794727, 22.62832175, 22.57552523,\n",
       "         21.53742137, 20.75855305, 21.77162568, 21.24071661],\n",
       "        [18.86576953, 21.10447885, 21.68623427, 20.93993997, 21.05196937,\n",
       "         20.13207289, 20.05490092, 20.16871953, 20.34462007],\n",
       "        [18.85709562, 20.78504713, 21.51644903, 21.36611813, 21.23035941,\n",
       "         20.57651715, 19.95609662, 19.85407616, 20.5067976 ],\n",
       "        [19.96676988, 20.77137419, 21.69756398, 22.16578446, 22.21520113,\n",
       "         22.00211218, 21.34973874, 21.70181444, 22.53267952],\n",
       "        [18.81670362, 20.07761056, 19.95076439, 20.24495373, 19.56221511,\n",
       "         19.59029324, 19.11365364, 19.90307006, 20.86496984],\n",
       "        [19.41559485, 20.04457409, 19.93619409, 20.45445552, 20.23552606,\n",
       "         20.47614349, 19.49652939, 19.6346403 , 20.00408035],\n",
       "        [19.69513732, 20.45926918, 20.20207646, 21.10852458, 21.9483508 ,\n",
       "         22.91261454, 21.20307121, 21.20707488, 21.37652031]]),\n",
       " 'S_yy': array([[21.05763457, 22.9193501 , 23.38352561, 22.55003693, 23.11504271,\n",
       "         21.97045489, 21.5931457 , 21.8345405 , 23.22512397],\n",
       "        [20.19197775, 22.99832813, 24.21692644, 23.0641693 , 23.12897242,\n",
       "         22.58608103, 22.20162338, 22.67312082, 23.78062704],\n",
       "        [20.12830642, 21.86813871, 22.95794727, 22.62832175, 22.57552523,\n",
       "         21.53742137, 20.75855305, 21.77162568, 21.24071661],\n",
       "        [18.86576953, 21.10447885, 21.68623427, 20.93993997, 21.05196937,\n",
       "         20.13207289, 20.05490092, 20.16871953, 20.34462007],\n",
       "        [18.85709562, 20.78504713, 21.51644903, 21.36611813, 21.23035941,\n",
       "         20.57651715, 19.95609662, 19.85407616, 20.5067976 ],\n",
       "        [19.96676988, 20.77137419, 21.69756398, 22.16578446, 22.21520113,\n",
       "         22.00211218, 21.34973874, 21.70181444, 22.53267952],\n",
       "        [18.81670362, 20.07761056, 19.95076439, 20.24495373, 19.56221511,\n",
       "         19.59029324, 19.11365364, 19.90307006, 20.86496984],\n",
       "        [19.41559485, 20.04457409, 19.93619409, 20.45445552, 20.23552606,\n",
       "         20.47614349, 19.49652939, 19.6346403 , 20.00408035],\n",
       "        [19.69513732, 20.45926918, 20.20207646, 21.10852458, 21.9483508 ,\n",
       "         22.91261454, 21.20307121, 21.20707488, 21.37652031]]),\n",
       " 'S_xy': array([[21.05763457, 22.9193501 , 23.38352561, 22.55003693, 23.11504271,\n",
       "         21.97045489, 21.5931457 , 21.8345405 , 23.22512397],\n",
       "        [20.19197775, 22.99832813, 24.21692644, 23.0641693 , 23.12897242,\n",
       "         22.58608103, 22.20162338, 22.67312082, 23.78062704],\n",
       "        [20.12830642, 21.86813871, 22.95794727, 22.62832175, 22.57552523,\n",
       "         21.53742137, 20.75855305, 21.77162568, 21.24071661],\n",
       "        [18.86576953, 21.10447885, 21.68623427, 20.93993997, 21.05196937,\n",
       "         20.13207289, 20.05490092, 20.16871953, 20.34462007],\n",
       "        [18.85709562, 20.78504713, 21.51644903, 21.36611813, 21.23035941,\n",
       "         20.57651715, 19.95609662, 19.85407616, 20.5067976 ],\n",
       "        [19.96676988, 20.77137419, 21.69756398, 22.16578446, 22.21520113,\n",
       "         22.00211218, 21.34973874, 21.70181444, 22.53267952],\n",
       "        [18.81670362, 20.07761056, 19.95076439, 20.24495373, 19.56221511,\n",
       "         19.59029324, 19.11365364, 19.90307006, 20.86496984],\n",
       "        [19.41559485, 20.04457409, 19.93619409, 20.45445552, 20.23552606,\n",
       "         20.47614349, 19.49652939, 19.6346403 , 20.00408035],\n",
       "        [19.69513732, 20.45926918, 20.20207646, 21.10852458, 21.9483508 ,\n",
       "         22.91261454, 21.20307121, 21.20707488, 21.37652031]]),\n",
       " 'num': array([[1573208.77598044, 1767103.83307184, 1808106.15526041,\n",
       "         1669927.77809355, 1651082.55415304, 1562502.17792266,\n",
       "         1465203.30158252, 1405472.07710268, 1480647.77235927],\n",
       "        [1471411.82878958, 1775660.99859351, 1823459.74161104,\n",
       "         1592601.09537431, 1557958.82454113, 1523961.32930253,\n",
       "         1440435.95565535, 1348826.54022538, 1433048.44140884],\n",
       "        [1439488.32926919, 1616140.06535491, 1657977.72166782,\n",
       "         1546247.81462485, 1539793.58504181, 1450858.94143755,\n",
       "         1330401.20214685, 1307316.49522008, 1242589.14694838],\n",
       "        [1223661.56750195, 1412886.45700201, 1404117.20568613,\n",
       "         1291001.77198107, 1322638.02051578, 1288959.15494873,\n",
       "         1254089.50896093, 1149764.51213589, 1138541.36838721],\n",
       "        [1189173.92868353, 1351736.92597845, 1358524.104646  ,\n",
       "         1341402.2536715 , 1344295.46900701, 1299633.08970247,\n",
       "         1258484.29812462, 1139903.9267329 , 1169648.64420742],\n",
       "        [1278299.13164257, 1300257.4082031 , 1311674.89093362,\n",
       "         1363339.90739834, 1396938.3676601 , 1412101.58465691,\n",
       "         1362690.78021115, 1293377.29459364, 1313719.19856627],\n",
       "        [1172526.92994052, 1211432.15596295, 1164509.68319636,\n",
       "         1206581.77041662, 1148213.6965689 , 1153778.40169989,\n",
       "         1118216.83068853, 1122257.54923869, 1207399.8553295 ],\n",
       "        [1203179.0193045 , 1220254.95300808, 1137683.37056239,\n",
       "         1207328.86072288, 1185497.21571912, 1218875.35135826,\n",
       "         1097605.19514179, 1090402.10710921, 1180348.46228879],\n",
       "        [1149063.26683115, 1168802.29059064, 1054948.51921766,\n",
       "         1225903.53111395, 1296028.97303458, 1427085.4357402 ,\n",
       "         1234051.8688063 , 1232454.83871378, 1330309.5856266 ]]),\n",
       " 'den': array([[1573208.77598044, 1767103.83307184, 1808106.15526041,\n",
       "         1669927.77809355, 1651082.55415304, 1562502.17792266,\n",
       "         1465203.30158252, 1405472.07710268, 1480647.77235927],\n",
       "        [1471411.82878958, 1775660.99859351, 1823459.74161104,\n",
       "         1592601.09537431, 1557958.82454113, 1523961.32930253,\n",
       "         1440435.95565535, 1348826.54022538, 1433048.44140884],\n",
       "        [1439488.32926919, 1616140.06535491, 1657977.72166782,\n",
       "         1546247.81462485, 1539793.58504181, 1450858.94143755,\n",
       "         1330401.20214685, 1307316.49522008, 1242589.14694838],\n",
       "        [1223661.56750195, 1412886.45700201, 1404117.20568613,\n",
       "         1291001.77198107, 1322638.02051578, 1288959.15494873,\n",
       "         1254089.50896093, 1149764.51213589, 1138541.36838721],\n",
       "        [1189173.92868353, 1351736.92597845, 1358524.104646  ,\n",
       "         1341402.2536715 , 1344295.46900701, 1299633.08970247,\n",
       "         1258484.29812462, 1139903.9267329 , 1169648.64420742],\n",
       "        [1278299.13164257, 1300257.4082031 , 1311674.89093362,\n",
       "         1363339.90739834, 1396938.3676601 , 1412101.58465691,\n",
       "         1362690.78021115, 1293377.29459364, 1313719.19856627],\n",
       "        [1172526.92994052, 1211432.15596295, 1164509.68319636,\n",
       "         1206581.77041662, 1148213.6965689 , 1153778.40169989,\n",
       "         1118216.83068853, 1122257.54923869, 1207399.8553295 ],\n",
       "        [1203179.0193045 , 1220254.95300808, 1137683.37056239,\n",
       "         1207328.86072288, 1185497.21571912, 1218875.35135826,\n",
       "         1097605.19514179, 1090402.10710921, 1180348.46228879],\n",
       "        [1149063.26683115, 1168802.29059064, 1054948.51921766,\n",
       "         1225903.53111395, 1296028.97303458, 1427085.4357402 ,\n",
       "         1234051.8688063 , 1232454.83871378, 1330309.5856266 ]]),\n",
       " 'Q_s': array([[1., 1., 1., 1., 1., 1., 1., 1., 1.],\n",
       "        [1., 1., 1., 1., 1., 1., 1., 1., 1.],\n",
       "        [1., 1., 1., 1., 1., 1., 1., 1., 1.],\n",
       "        [1., 1., 1., 1., 1., 1., 1., 1., 1.],\n",
       "        [1., 1., 1., 1., 1., 1., 1., 1., 1.],\n",
       "        [1., 1., 1., 1., 1., 1., 1., 1., 1.],\n",
       "        [1., 1., 1., 1., 1., 1., 1., 1., 1.],\n",
       "        [1., 1., 1., 1., 1., 1., 1., 1., 1.],\n",
       "        [1., 1., 1., 1., 1., 1., 1., 1., 1.]]),\n",
       " 'result': 1.0}"
      ]
     },
     "execution_count": 35,
     "metadata": {},
     "output_type": "execute_result"
    }
   ],
   "source": [
    "universal_image_quality_index(x, x)"
   ]
  },
  {
   "cell_type": "code",
   "execution_count": 40,
   "metadata": {
    "ExecuteTime": {
     "end_time": "2020-04-08T10:56:53.540217Z",
     "start_time": "2020-04-08T10:56:53.535813Z"
    }
   },
   "outputs": [
    {
     "data": {
      "text/plain": [
       "0.0"
      ]
     },
     "execution_count": 40,
     "metadata": {},
     "output_type": "execute_result"
    }
   ],
   "source": [
    "z = np.zeros((16, 16))\n",
    "universal_image_quality_index(z, z)['result']"
   ]
  },
  {
   "cell_type": "code",
   "execution_count": 41,
   "metadata": {
    "ExecuteTime": {
     "end_time": "2020-04-08T10:56:54.147276Z",
     "start_time": "2020-04-08T10:56:54.134690Z"
    }
   },
   "outputs": [
    {
     "data": {
      "text/plain": [
       "0.0"
      ]
     },
     "execution_count": 41,
     "metadata": {},
     "output_type": "execute_result"
    }
   ],
   "source": [
    "o = np.ones((16, 16))\n",
    "universal_image_quality_index(o, o)['result']"
   ]
  },
  {
   "cell_type": "code",
   "execution_count": 42,
   "metadata": {
    "ExecuteTime": {
     "end_time": "2020-04-08T10:56:55.570189Z",
     "start_time": "2020-04-08T10:56:55.564876Z"
    }
   },
   "outputs": [
    {
     "data": {
      "text/plain": [
       "0.0"
      ]
     },
     "execution_count": 42,
     "metadata": {},
     "output_type": "execute_result"
    }
   ],
   "source": [
    "universal_image_quality_index(o, z)['result']"
   ]
  },
  {
   "cell_type": "code",
   "execution_count": null,
   "metadata": {},
   "outputs": [],
   "source": []
  },
  {
   "cell_type": "code",
   "execution_count": 43,
   "metadata": {
    "ExecuteTime": {
     "end_time": "2020-04-08T10:59:01.783118Z",
     "start_time": "2020-04-08T10:59:01.768986Z"
    }
   },
   "outputs": [
    {
     "data": {
      "text/plain": [
       "0.012345679012345678"
      ]
     },
     "execution_count": 43,
     "metadata": {},
     "output_type": "execute_result"
    }
   ],
   "source": [
    "z = np.zeros((16, 16))\n",
    "z[0, 0] = 1\n",
    "universal_image_quality_index(z, z)['result']"
   ]
  },
  {
   "cell_type": "code",
   "execution_count": 44,
   "metadata": {
    "ExecuteTime": {
     "end_time": "2020-04-08T10:59:23.134947Z",
     "start_time": "2020-04-08T10:59:23.128148Z"
    }
   },
   "outputs": [
    {
     "data": {
      "text/plain": [
       "0.012345679012345678"
      ]
     },
     "execution_count": 44,
     "metadata": {},
     "output_type": "execute_result"
    }
   ],
   "source": [
    "o = np.ones((16, 16))\n",
    "o[0, 0] = 0\n",
    "universal_image_quality_index(o, o)['result']"
   ]
  },
  {
   "cell_type": "code",
   "execution_count": null,
   "metadata": {},
   "outputs": [],
   "source": []
  },
  {
   "cell_type": "code",
   "execution_count": 47,
   "metadata": {
    "ExecuteTime": {
     "end_time": "2020-04-08T10:59:01.783118Z",
     "start_time": "2020-04-08T10:59:01.768986Z"
    }
   },
   "outputs": [
    {
     "data": {
      "text/plain": [
       "1.0"
      ]
     },
     "execution_count": 47,
     "metadata": {},
     "output_type": "execute_result"
    }
   ],
   "source": [
    "z = np.zeros((8, 8))\n",
    "z[0, 0] = 1\n",
    "universal_image_quality_index(z, z)['result']"
   ]
  },
  {
   "cell_type": "code",
   "execution_count": 50,
   "metadata": {
    "ExecuteTime": {
     "end_time": "2020-04-08T10:59:23.134947Z",
     "start_time": "2020-04-08T10:59:23.128148Z"
    }
   },
   "outputs": [
    {
     "data": {
      "text/plain": [
       "1.0"
      ]
     },
     "execution_count": 50,
     "metadata": {},
     "output_type": "execute_result"
    }
   ],
   "source": [
    "o = np.ones((8, 8))\n",
    "o[0, 0] = 0\n",
    "universal_image_quality_index(o, o)['result']"
   ]
  },
  {
   "cell_type": "code",
   "execution_count": null,
   "metadata": {},
   "outputs": [],
   "source": []
  }
 ],
 "metadata": {
  "kernelspec": {
   "display_name": "Python 3",
   "language": "python",
   "name": "python3"
  },
  "language_info": {
   "codemirror_mode": {
    "name": "ipython",
    "version": 3
   },
   "file_extension": ".py",
   "mimetype": "text/x-python",
   "name": "python",
   "nbconvert_exporter": "python",
   "pygments_lexer": "ipython3",
   "version": "3.7.6"
  }
 },
 "nbformat": 4,
 "nbformat_minor": 4
}
